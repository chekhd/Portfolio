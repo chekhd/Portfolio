{
  "cells": [
    {
      "cell_type": "markdown",
      "metadata": {
        "id": "YbuhS-6VpG5a"
      },
      "source": [
        "# Определение стоимости автомобилей"
      ]
    },
    {
      "cell_type": "markdown",
      "metadata": {
        "id": "jJ2lGnCupG5a"
      },
      "source": [
        "Сервис по продаже автомобилей с пробегом «Не бит, не крашен» разрабатывает приложение для привлечения новых клиентов. В нём можно быстро узнать рыночную стоимость своего автомобиля. В вашем распоряжении исторические данные: технические характеристики, комплектации и цены автомобилей. Вам нужно построить модель для определения стоимости.\n",
        "\n",
        "Заказчику важны:\n",
        "\n",
        "- качество предсказания;\n",
        "- скорость предсказания;\n",
        "- время обучения."
      ]
    },
    {
      "cell_type": "markdown",
      "metadata": {
        "id": "u88xdHg1pG5b"
      },
      "source": [
        "**Цель проекта**: протестировать несколько моделей машинного обучения для прогнозирования рыночной цены автомобиля. Проанализировать полученные модели и выбрать более подходящую модель под критерии заказчика."
      ]
    },
    {
      "cell_type": "markdown",
      "metadata": {
        "id": "la3bc4UHpG5b"
      },
      "source": [
        "## Подготовка данных"
      ]
    },
    {
      "cell_type": "markdown",
      "metadata": {
        "id": "NJGV-caPpG5c"
      },
      "source": [
        "### Импорт библиотек, загрузка данных"
      ]
    },
    {
      "cell_type": "code",
      "execution_count": null,
      "metadata": {
        "id": "urJcHzXepG5d"
      },
      "outputs": [],
      "source": [
        "# Импорт библиотек\n",
        "import pandas as pd\n",
        "import numpy as np\n",
        "\n",
        "import matplotlib\n",
        "from matplotlib import pyplot as plt\n",
        "import seaborn as sns\n",
        "\n",
        "from statistics import mode as mode\n",
        "import time\n",
        "\n",
        "from sklearn.model_selection import train_test_split\n",
        "from sklearn.linear_model import LinearRegression\n",
        "from sklearn.preprocessing import StandardScaler, OneHotEncoder, OrdinalEncoder\n",
        "from sklearn.metrics import mean_squared_error\n",
        "from sklearn.dummy import DummyRegressor\n",
        "\n",
        "import lightgbm as lgb\n",
        "\n",
        "import warnings\n",
        "warnings.filterwarnings('ignore')\n",
        "\n",
        "import pandas as pd\n",
        "from pandas_profiling import ProfileReport"
      ]
    },
    {
      "cell_type": "code",
      "execution_count": null,
      "metadata": {
        "id": "r33cGRgCpG5e"
      },
      "outputs": [],
      "source": [
        "# Загрузка данных\n",
        "df = pd.read_csv('/datasets/autos.csv')"
      ]
    },
    {
      "cell_type": "markdown",
      "metadata": {
        "id": "iW4K1d8EpG5e"
      },
      "source": [
        "### Изучение данных"
      ]
    },
    {
      "cell_type": "code",
      "execution_count": null,
      "metadata": {
        "id": "jutECmIvpG5f",
        "outputId": "ae482102-f589-4845-eade-fd89758fe92c"
      },
      "outputs": [
        {
          "name": "stdout",
          "output_type": "stream",
          "text": [
            "Количество строк: 354369, количество столбцов: 16\n"
          ]
        }
      ],
      "source": [
        "print(f'Количество строк: {df.shape[0]}, количество столбцов: {df.shape[1]}')"
      ]
    },
    {
      "cell_type": "code",
      "execution_count": null,
      "metadata": {
        "id": "GXk1fSyIpG5f",
        "outputId": "e9eaf20d-a58f-4200-b67b-0d3cdd25a4eb"
      },
      "outputs": [
        {
          "name": "stdout",
          "output_type": "stream",
          "text": [
            "<class 'pandas.core.frame.DataFrame'>\n",
            "RangeIndex: 354369 entries, 0 to 354368\n",
            "Data columns (total 16 columns):\n",
            " #   Column             Non-Null Count   Dtype \n",
            "---  ------             --------------   ----- \n",
            " 0   DateCrawled        354369 non-null  object\n",
            " 1   Price              354369 non-null  int64 \n",
            " 2   VehicleType        316879 non-null  object\n",
            " 3   RegistrationYear   354369 non-null  int64 \n",
            " 4   Gearbox            334536 non-null  object\n",
            " 5   Power              354369 non-null  int64 \n",
            " 6   Model              334664 non-null  object\n",
            " 7   Kilometer          354369 non-null  int64 \n",
            " 8   RegistrationMonth  354369 non-null  int64 \n",
            " 9   FuelType           321474 non-null  object\n",
            " 10  Brand              354369 non-null  object\n",
            " 11  Repaired           283215 non-null  object\n",
            " 12  DateCreated        354369 non-null  object\n",
            " 13  NumberOfPictures   354369 non-null  int64 \n",
            " 14  PostalCode         354369 non-null  int64 \n",
            " 15  LastSeen           354369 non-null  object\n",
            "dtypes: int64(7), object(9)\n",
            "memory usage: 43.3+ MB\n"
          ]
        }
      ],
      "source": [
        "df.info()"
      ]
    },
    {
      "cell_type": "code",
      "execution_count": null,
      "metadata": {
        "scrolled": false,
        "id": "sczQALOppG5f",
        "outputId": "2e966856-cadd-41b8-fbb2-1c19b7cb5bf3"
      },
      "outputs": [
        {
          "data": {
            "text/html": [
              "<div>\n",
              "<style scoped>\n",
              "    .dataframe tbody tr th:only-of-type {\n",
              "        vertical-align: middle;\n",
              "    }\n",
              "\n",
              "    .dataframe tbody tr th {\n",
              "        vertical-align: top;\n",
              "    }\n",
              "\n",
              "    .dataframe thead th {\n",
              "        text-align: right;\n",
              "    }\n",
              "</style>\n",
              "<table border=\"1\" class=\"dataframe\">\n",
              "  <thead>\n",
              "    <tr style=\"text-align: right;\">\n",
              "      <th></th>\n",
              "      <th>DateCrawled</th>\n",
              "      <th>Price</th>\n",
              "      <th>VehicleType</th>\n",
              "      <th>RegistrationYear</th>\n",
              "      <th>Gearbox</th>\n",
              "      <th>Power</th>\n",
              "      <th>Model</th>\n",
              "      <th>Kilometer</th>\n",
              "      <th>RegistrationMonth</th>\n",
              "      <th>FuelType</th>\n",
              "      <th>Brand</th>\n",
              "      <th>Repaired</th>\n",
              "      <th>DateCreated</th>\n",
              "      <th>NumberOfPictures</th>\n",
              "      <th>PostalCode</th>\n",
              "      <th>LastSeen</th>\n",
              "    </tr>\n",
              "  </thead>\n",
              "  <tbody>\n",
              "    <tr>\n",
              "      <th>0</th>\n",
              "      <td>2016-03-24 11:52:17</td>\n",
              "      <td>480</td>\n",
              "      <td>NaN</td>\n",
              "      <td>1993</td>\n",
              "      <td>manual</td>\n",
              "      <td>0</td>\n",
              "      <td>golf</td>\n",
              "      <td>150000</td>\n",
              "      <td>0</td>\n",
              "      <td>petrol</td>\n",
              "      <td>volkswagen</td>\n",
              "      <td>NaN</td>\n",
              "      <td>2016-03-24 00:00:00</td>\n",
              "      <td>0</td>\n",
              "      <td>70435</td>\n",
              "      <td>2016-04-07 03:16:57</td>\n",
              "    </tr>\n",
              "    <tr>\n",
              "      <th>1</th>\n",
              "      <td>2016-03-24 10:58:45</td>\n",
              "      <td>18300</td>\n",
              "      <td>coupe</td>\n",
              "      <td>2011</td>\n",
              "      <td>manual</td>\n",
              "      <td>190</td>\n",
              "      <td>NaN</td>\n",
              "      <td>125000</td>\n",
              "      <td>5</td>\n",
              "      <td>gasoline</td>\n",
              "      <td>audi</td>\n",
              "      <td>yes</td>\n",
              "      <td>2016-03-24 00:00:00</td>\n",
              "      <td>0</td>\n",
              "      <td>66954</td>\n",
              "      <td>2016-04-07 01:46:50</td>\n",
              "    </tr>\n",
              "    <tr>\n",
              "      <th>2</th>\n",
              "      <td>2016-03-14 12:52:21</td>\n",
              "      <td>9800</td>\n",
              "      <td>suv</td>\n",
              "      <td>2004</td>\n",
              "      <td>auto</td>\n",
              "      <td>163</td>\n",
              "      <td>grand</td>\n",
              "      <td>125000</td>\n",
              "      <td>8</td>\n",
              "      <td>gasoline</td>\n",
              "      <td>jeep</td>\n",
              "      <td>NaN</td>\n",
              "      <td>2016-03-14 00:00:00</td>\n",
              "      <td>0</td>\n",
              "      <td>90480</td>\n",
              "      <td>2016-04-05 12:47:46</td>\n",
              "    </tr>\n",
              "  </tbody>\n",
              "</table>\n",
              "</div>"
            ],
            "text/plain": [
              "           DateCrawled  Price VehicleType  RegistrationYear Gearbox  Power  \\\n",
              "0  2016-03-24 11:52:17    480         NaN              1993  manual      0   \n",
              "1  2016-03-24 10:58:45  18300       coupe              2011  manual    190   \n",
              "2  2016-03-14 12:52:21   9800         suv              2004    auto    163   \n",
              "\n",
              "   Model  Kilometer  RegistrationMonth  FuelType       Brand Repaired  \\\n",
              "0   golf     150000                  0    petrol  volkswagen      NaN   \n",
              "1    NaN     125000                  5  gasoline        audi      yes   \n",
              "2  grand     125000                  8  gasoline        jeep      NaN   \n",
              "\n",
              "           DateCreated  NumberOfPictures  PostalCode             LastSeen  \n",
              "0  2016-03-24 00:00:00                 0       70435  2016-04-07 03:16:57  \n",
              "1  2016-03-24 00:00:00                 0       66954  2016-04-07 01:46:50  \n",
              "2  2016-03-14 00:00:00                 0       90480  2016-04-05 12:47:46  "
            ]
          },
          "metadata": {},
          "output_type": "display_data"
        }
      ],
      "source": [
        "display(df.head(3))"
      ]
    },
    {
      "cell_type": "markdown",
      "metadata": {
        "id": "SPwyMjTXpG5f"
      },
      "source": [
        "Наблюдаем, что в датасете 354369 строк, 16 столбцов. Названия столбцов не приведены к нижнему регистру, в некоторых столбцах имеются пропуски, типы данных соответствуют представленным данным."
      ]
    },
    {
      "cell_type": "code",
      "execution_count": null,
      "metadata": {
        "id": "Bql4OHBcpG5f",
        "outputId": "4dac5e58-baa0-487f-cf75-1ac5a32179da"
      },
      "outputs": [
        {
          "data": {
            "image/png": "[encoded data removed]",
            "text/plain": [
              "<Figure size 864x576 with 9 Axes>"
            ]
          },
          "metadata": {
            "needs_background": "light"
          },
          "output_type": "display_data"
        }
      ],
      "source": [
        "df.hist(figsize=(12,8))\n",
        "plt.show()"
      ]
    },
    {
      "cell_type": "markdown",
      "metadata": {
        "id": "KhS4GKjwpG5f"
      },
      "source": [
        "Возможны аномалии в столбцах с годом регистрации и мощностью."
      ]
    },
    {
      "cell_type": "markdown",
      "metadata": {
        "id": "GxtkhFzdpG5g"
      },
      "source": [
        "### Предобработка данных"
      ]
    },
    {
      "cell_type": "markdown",
      "metadata": {
        "id": "AAnH3dXSpG5g"
      },
      "source": [
        "#### Приведение названия столбцов к нижнему регистру"
      ]
    },
    {
      "cell_type": "code",
      "execution_count": null,
      "metadata": {
        "id": "AYdF5bmHpG5g"
      },
      "outputs": [],
      "source": [
        "df.columns = df.columns.str.lower()"
      ]
    },
    {
      "cell_type": "code",
      "execution_count": null,
      "metadata": {
        "id": "F_ukgKZxpG5g",
        "outputId": "64ab559a-219c-428e-a5df-368d02d049dc"
      },
      "outputs": [
        {
          "data": {
            "text/plain": [
              "Index(['datecrawled', 'price', 'vehicletype', 'registrationyear', 'gearbox',\n",
              "       'power', 'model', 'kilometer', 'registrationmonth', 'fueltype', 'brand',\n",
              "       'repaired', 'datecreated', 'numberofpictures', 'postalcode',\n",
              "       'lastseen'],\n",
              "      dtype='object')"
            ]
          },
          "execution_count": 23,
          "metadata": {},
          "output_type": "execute_result"
        }
      ],
      "source": [
        "# проверка названий колонок\n",
        "df.columns"
      ]
    },
    {
      "cell_type": "markdown",
      "metadata": {
        "id": "sYPbTnvOpG5h"
      },
      "source": [
        "#### Работа с пропусками, работа с выбросами"
      ]
    },
    {
      "cell_type": "code",
      "execution_count": null,
      "metadata": {
        "id": "LcCTl03cpG5h",
        "outputId": "e7169dff-2811-445a-c855-e3a4f7754733"
      },
      "outputs": [
        {
          "name": "stdout",
          "output_type": "stream",
          "text": [
            "repaired             71154\n",
            "vehicletype          37490\n",
            "fueltype             32895\n",
            "gearbox              19833\n",
            "model                19705\n",
            "datecrawled              0\n",
            "price                    0\n",
            "registrationyear         0\n",
            "power                    0\n",
            "kilometer                0\n",
            "registrationmonth        0\n",
            "brand                    0\n",
            "datecreated              0\n",
            "numberofpictures         0\n",
            "postalcode               0\n",
            "lastseen                 0\n",
            "dtype: int64\n"
          ]
        }
      ],
      "source": [
        "print(df.isna().sum().sort_values(ascending=False))"
      ]
    },
    {
      "cell_type": "markdown",
      "metadata": {
        "id": "H_zkgqBCpG5h"
      },
      "source": [
        "Наблюдаем наличие пропусков в пяти признаках: repaired, vehicletype, fueltype, gearbox, model"
      ]
    },
    {
      "cell_type": "code",
      "execution_count": null,
      "metadata": {
        "id": "l-zB0EMmpG5h",
        "outputId": "9501cd02-215d-45ab-a575-3eb717c23dd3"
      },
      "outputs": [
        {
          "data": {
            "text/plain": [
              "array([nan, 'yes', 'no'], dtype=object)"
            ]
          },
          "execution_count": 25,
          "metadata": {},
          "output_type": "execute_result"
        }
      ],
      "source": [
        "# столбец repaired\n",
        "df['repaired'].unique()"
      ]
    },
    {
      "cell_type": "markdown",
      "metadata": {
        "id": "nC9Zih18pG5h"
      },
      "source": [
        "Проверим какая доля автомобилей, зарегистрированных до 2010 года была в ремонте. После этого заполним пропуски в столбце repaired"
      ]
    },
    {
      "cell_type": "code",
      "execution_count": null,
      "metadata": {
        "id": "UriGmwvtpG5h",
        "outputId": "c7ddca09-70de-47f8-87bd-679d08b2c5ab"
      },
      "outputs": [
        {
          "name": "stdout",
          "output_type": "stream",
          "text": [
            "[1000 1001 1039 1111 1200 1234 1253 1255 1300 1400 1500 1600 1602 1688\n",
            " 1800 1910 1915 1919 1920 1923 1925 1927 1928 1929 1930 1931 1932 1933\n",
            " 1934 1935 1936 1937 1938 1940 1941 1942 1943 1944 1945 1946 1947 1948\n",
            " 1949 1950 1951 1952 1953 1954 1955 1956 1957 1958 1959 1960 1961 1962\n",
            " 1963 1964 1965 1966 1967 1968 1969 1970 1971 1972 1973 1974 1975 1976\n",
            " 1977 1978 1979 1980 1981 1982 1983 1984 1985 1986 1987 1988 1989 1990\n",
            " 1991 1992 1993 1994 1995 1996 1997 1998 1999 2000 2001 2002 2003 2004\n",
            " 2005 2006 2007 2008 2009 2010 2011 2012 2013 2014 2015 2016 2017 2018\n",
            " 2019 2066 2200 2222 2290 2500 2800 2900 3000 3200 3500 3700 3800 4000\n",
            " 4100 4500 4800 5000 5300 5555 5600 5900 5911 6000 6500 7000 7100 7500\n",
            " 7800 8000 8200 8455 8500 8888 9000 9229 9450 9996 9999]\n"
          ]
        }
      ],
      "source": [
        "print(np.array(sorted(df['registrationyear'].unique())))"
      ]
    },
    {
      "cell_type": "markdown",
      "metadata": {
        "id": "FZQLMLbRpG5i"
      },
      "source": [
        "Наблюдаем, что в столбце registrationyear присутствуют аномалии. Так, минимальный год регистрации автомобиля - 1000, а максимальный = 9999. Признаём аномалиями все данные выше 2019 года. А для определения нижнего порога построим боксплот"
      ]
    },
    {
      "cell_type": "code",
      "execution_count": null,
      "metadata": {
        "id": "B7Rt_7OxpG5i",
        "outputId": "6fbda37a-65eb-4cf3-8736-f5b07669378b"
      },
      "outputs": [
        {
          "data": {
            "image/png": "[encoded data removed]",
            "text/plain": [
              "<Figure size 800x500 with 1 Axes>"
            ]
          },
          "metadata": {
            "needs_background": "light"
          },
          "output_type": "display_data"
        },
        {
          "data": {
            "text/plain": [
              "count    354369.000000\n",
              "mean       2004.234448\n",
              "std          90.227958\n",
              "min        1000.000000\n",
              "25%        1999.000000\n",
              "50%        2003.000000\n",
              "75%        2008.000000\n",
              "max        9999.000000\n",
              "Name: registrationyear, dtype: float64"
            ]
          },
          "execution_count": 27,
          "metadata": {},
          "output_type": "execute_result"
        }
      ],
      "source": [
        "fig, ax = plt.subplots(figsize=(8,5), dpi=100)\n",
        "sns.boxplot(df['registrationyear'])\n",
        "plt.gca().set_xlim([1900, 2020])\n",
        "plt.show()\n",
        "df['registrationyear'].describe()"
      ]
    },
    {
      "cell_type": "markdown",
      "metadata": {
        "id": "HKsCI2NYpG5i"
      },
      "source": [
        "Можно понять, что \"нижний ус\" начинается на отметке 1985. Остальное признаём выбросами и удаляем"
      ]
    },
    {
      "cell_type": "code",
      "execution_count": null,
      "metadata": {
        "id": "toQh2DvgpG5i",
        "outputId": "b2154252-bff2-4017-eaf9-d5efd3096071"
      },
      "outputs": [
        {
          "name": "stdout",
          "output_type": "stream",
          "text": [
            "1.5670106583815175\n"
          ]
        }
      ],
      "source": [
        "# Посчитаем долю выбросов в столбце registrationyear\n",
        "print((df.loc[(df['registrationyear']<1985) | (df['registrationyear']>2019)]['registrationyear'].count()/df.shape[0])*100)\n",
        "# Выбросы составляют 1,57%, поэтому удаляем"
      ]
    },
    {
      "cell_type": "code",
      "execution_count": null,
      "metadata": {
        "id": "roXTJ0_fpG5j",
        "outputId": "b162956a-a178-442a-a568-262481d80def"
      },
      "outputs": [
        {
          "name": "stdout",
          "output_type": "stream",
          "text": [
            "[1985 1986 1987 1988 1989 1990 1991 1992 1993 1994 1995 1996 1997 1998\n",
            " 1999 2000 2001 2002 2003 2004 2005 2006 2007 2008 2009 2010 2011 2012\n",
            " 2013 2014 2015 2016 2017 2018 2019]\n"
          ]
        }
      ],
      "source": [
        "# Удаляем аномалии в столбце registrationyear\n",
        "df = df.loc[(df['registrationyear']>1984) & (df['registrationyear']<2020)]\n",
        "# Проверяем значения\n",
        "print(np.array(sorted(df['registrationyear'].unique())))"
      ]
    },
    {
      "cell_type": "code",
      "execution_count": null,
      "metadata": {
        "id": "Sf3tgUtJpG5j",
        "outputId": "8385d6e8-c4e3-483e-854a-59a77c33eacd"
      },
      "outputs": [
        {
          "data": {
            "text/plain": [
              "count                  348816\n",
              "unique                 268092\n",
              "top       2016-03-19 21:49:56\n",
              "freq                        6\n",
              "first     2016-03-05 14:06:22\n",
              "last      2016-04-07 14:36:58\n",
              "Name: datecrawled, dtype: object"
            ]
          },
          "execution_count": 33,
          "metadata": {},
          "output_type": "execute_result"
        }
      ],
      "source": [
        "(pd.to_datetime(df['datecrawled'])).describe()"
      ]
    },
    {
      "cell_type": "code",
      "execution_count": null,
      "metadata": {
        "id": "Tcg52jYnpG5p",
        "outputId": "33ce74e4-31c2-4aed-fb7e-ed0cc6b000b3"
      },
      "outputs": [
        {
          "name": "stdout",
          "output_type": "stream",
          "text": [
            "Доля машин, побывавших в ремонте: 10.19\n",
            "\n"
          ]
        }
      ],
      "source": [
        "# Посчитаем долю машин, которые были в ремонте\n",
        "print(f'Доля машин, побывавших в ремонте: {round(((df.loc[df[\"repaired\"]==\"yes\"][\"repaired\"].count())/df.shape[0])*100, 2)}')\n",
        "print()\n",
        "\n",
        "repaired_by_year = df.loc[df[\"repaired\"]==\"yes\"].value_counts([\"registrationyear\"], sort = False)\n",
        "all_cars_by_year = (df.value_counts('registrationyear', sort = False))\n",
        "share_repaired_by_year = pd.Series(repaired_by_year.values/all_cars_by_year.values, index = all_cars_by_year.index)"
      ]
    },
    {
      "cell_type": "code",
      "execution_count": null,
      "metadata": {
        "id": "VrBSOPKqpG5p",
        "outputId": "9d61ed42-8f46-42bb-c092-e4bfc05a28d4"
      },
      "outputs": [
        {
          "data": {
            "image/png": "[encoded data removed]",
            "text/plain": [
              "<Figure size 792x432 with 1 Axes>"
            ]
          },
          "metadata": {
            "needs_background": "light"
          },
          "output_type": "display_data"
        },
        {
          "data": {
            "text/plain": [
              "count    35.000000\n",
              "mean      0.099667\n",
              "std       0.043036\n",
              "min       0.031469\n",
              "25%       0.058986\n",
              "50%       0.100086\n",
              "75%       0.137939\n",
              "max       0.161121\n",
              "dtype: float64"
            ]
          },
          "execution_count": 16,
          "metadata": {},
          "output_type": "execute_result"
        }
      ],
      "source": [
        "# Распределение ромонтируемых машин во времени\n",
        "share_repaired_by_year.plot(kind = 'bar', figsize = (11,6))\n",
        "plt.title('Доля авто побывавших в ремонте с распределениев по годам регистрации')\n",
        "plt.show()\n",
        "share_repaired_by_year.describe()\n"
      ]
    },
    {
      "cell_type": "markdown",
      "metadata": {
        "id": "VF5ovVe5pG5q"
      },
      "source": [
        "Можем наблюдать, что кол-во автомобилей зарегистрированных в 1986-1987, 1989-2002 и в 2016гг. были в ремонте гораздо чаще среднего значения. Так, например, в 1997 году доля авто, которые были в ремонте составила 16%, в то время как среднее значение показателя около 10%. Так, понимаем, что в 1997 году показатель превышает среднее значение на 60%."
      ]
    },
    {
      "cell_type": "markdown",
      "metadata": {
        "id": "HiGGq1cfpG5q"
      },
      "source": [
        "Тем не менее, мне не представляется возможным заполнить пропуски в столбце repaired в зависимость от года регистрации, поэтому, заполним их заглушкой unknown"
      ]
    },
    {
      "cell_type": "code",
      "execution_count": null,
      "metadata": {
        "id": "aQManO3OpG5q",
        "outputId": "4e782638-b6e6-492e-b1ab-ddfee8cd0c45"
      },
      "outputs": [
        {
          "name": "stdout",
          "output_type": "stream",
          "text": [
            "Количество пропусков: 0\n",
            "['unknown' 'yes' 'no']\n"
          ]
        }
      ],
      "source": [
        "# заполнение пропусков в столбце repaired\n",
        "df['repaired'] = df['repaired'].fillna('unknown')\n",
        "# проверим заполнение\n",
        "print(f'Количество пропусков: {df[\"repaired\"].isna().sum()}')\n",
        "print(df['repaired'].unique())"
      ]
    },
    {
      "cell_type": "code",
      "execution_count": null,
      "metadata": {
        "id": "MN41EY77pG5q",
        "outputId": "28471d7d-05a9-4507-8f7e-02e9ffe84eef"
      },
      "outputs": [
        {
          "data": {
            "text/plain": [
              "array([nan, 'coupe', 'suv', 'small', 'sedan', 'convertible', 'bus',\n",
              "       'wagon', 'other'], dtype=object)"
            ]
          },
          "execution_count": 18,
          "metadata": {},
          "output_type": "execute_result"
        }
      ],
      "source": [
        "# столбец vehicletype\n",
        "df['vehicletype'].unique()"
      ]
    },
    {
      "cell_type": "markdown",
      "metadata": {
        "id": "77hdZ2G8pG5r"
      },
      "source": [
        "Заполним пропуски в столбце vehicletype по самым распространенным типам кузова модели"
      ]
    },
    {
      "cell_type": "code",
      "execution_count": null,
      "metadata": {
        "id": "oM4jo9aDpG5r",
        "outputId": "359d4cdd-7399-4356-e763-d4a6618b0dca"
      },
      "outputs": [
        {
          "data": {
            "text/plain": [
              "6471"
            ]
          },
          "execution_count": 19,
          "metadata": {},
          "output_type": "execute_result"
        }
      ],
      "source": [
        "# Проверим, если есть пропуски в названиях модели в тех объектах, где есть пропуски в типе кузова\n",
        "df.loc[(df['vehicletype'].isna()) & (df['model'].isna())]['registrationyear'].count()\n",
        "# Да, присутвтвет 6471 объект, поэтому сначала заполним пропуски в столбце model"
      ]
    },
    {
      "cell_type": "markdown",
      "metadata": {
        "id": "_ciyLhkrpG5r"
      },
      "source": [
        "Заполним модель автомобиля с помощью марки и мощности.  \n",
        "Проверим на нескольких брендах, будет ли существенно отличаться среднняя мощность автомобиля в зависимость от модели."
      ]
    },
    {
      "cell_type": "code",
      "execution_count": null,
      "metadata": {
        "id": "0Ydot3jepG5r"
      },
      "outputs": [],
      "source": [
        "# создадим функцию\n",
        "df.loc[df['brand']=='volkswagen']['power']\n",
        "def model_power(brand):\n",
        "    model_list = []\n",
        "    power_list = []\n",
        "    for model in (df.loc[df['brand']== brand]['model']).unique():\n",
        "        model_list.append(model)\n",
        "        power_list.append(df.loc[df['model']==model]['power'].mean())\n",
        "    model_power = (pd.Series(index=model_list, data=power_list))\n",
        "    model_power.plot(kind = 'bar', figsize = (10,5))\n",
        "    plt.title(f'Средняя мощность авто в зависимости от модели. {brand}')\n",
        "    plt.show()\n",
        "    print(model_power.describe())"
      ]
    },
    {
      "cell_type": "code",
      "execution_count": null,
      "metadata": {
        "id": "wig9RnsvpG5r",
        "outputId": "274a05d9-4a9f-4995-95ca-d7ac593da0e0"
      },
      "outputs": [
        {
          "data": {
            "image/png": "[encoded data removed]",
            "text/plain": [
              "<Figure size 720x360 with 1 Axes>"
            ]
          },
          "metadata": {
            "needs_background": "light"
          },
          "output_type": "display_data"
        },
        {
          "name": "stdout",
          "output_type": "stream",
          "text": [
            "count     22.000000\n",
            "mean     115.788622\n",
            "std       48.748440\n",
            "min       31.602273\n",
            "25%       89.092341\n",
            "50%      110.261502\n",
            "75%      143.998946\n",
            "max      235.869159\n",
            "dtype: float64\n"
          ]
        },
        {
          "data": {
            "image/png": "[encoded data removed]",
            "text/plain": [
              "<Figure size 720x360 with 1 Axes>"
            ]
          },
          "metadata": {
            "needs_background": "light"
          },
          "output_type": "display_data"
        },
        {
          "name": "stdout",
          "output_type": "stream",
          "text": [
            "count     16.000000\n",
            "mean     154.895698\n",
            "std       50.798104\n",
            "min       70.822581\n",
            "25%      116.206401\n",
            "50%      139.774740\n",
            "75%      195.748720\n",
            "max      257.773157\n",
            "dtype: float64\n"
          ]
        }
      ],
      "source": [
        "model_power('volkswagen')\n",
        "model_power('audi')"
      ]
    },
    {
      "cell_type": "markdown",
      "metadata": {
        "id": "iz-IZSpLpG5s"
      },
      "source": [
        "На примере volkswagen и audi можем наблюдать, что разница между некоторыми моделями существенна.  \n",
        "Выделим три категории мощности для каждого бренда и внутри каждой категории модой выберем модель авто.  \n",
        "Но перед этим рассмотрим столбец с мощностями на аномалии."
      ]
    },
    {
      "cell_type": "code",
      "execution_count": null,
      "metadata": {
        "scrolled": true,
        "id": "0_ZnLNytpG5s",
        "outputId": "6c6a7aa0-d348-442a-852f-5946eec634a3"
      },
      "outputs": [
        {
          "data": {
            "image/png": "[encoded data removed]",
            "text/plain": [
              "<Figure size 800x500 with 1 Axes>"
            ]
          },
          "metadata": {
            "needs_background": "light"
          },
          "output_type": "display_data"
        },
        {
          "data": {
            "image/png": "[encoded data removed]",
            "text/plain": [
              "<Figure size 800x500 with 1 Axes>"
            ]
          },
          "metadata": {
            "needs_background": "light"
          },
          "output_type": "display_data"
        },
        {
          "data": {
            "image/png": "[encoded data removed]",
            "text/plain": [
              "<Figure size 800x500 with 1 Axes>"
            ]
          },
          "metadata": {
            "needs_background": "light"
          },
          "output_type": "display_data"
        },
        {
          "data": {
            "image/png": "[encoded data removed]",
            "text/plain": [
              "<Figure size 800x500 with 1 Axes>"
            ]
          },
          "metadata": {
            "needs_background": "light"
          },
          "output_type": "display_data"
        },
        {
          "data": {
            "image/png": "[encoded data removed]",
            "text/plain": [
              "<Figure size 800x500 with 1 Axes>"
            ]
          },
          "metadata": {
            "needs_background": "light"
          },
          "output_type": "display_data"
        },
        {
          "data": {
            "image/png": "[encoded data removed]",
            "text/plain": [
              "<Figure size 800x500 with 1 Axes>"
            ]
          },
          "metadata": {
            "needs_background": "light"
          },
          "output_type": "display_data"
        },
        {
          "data": {
            "image/png": "[encoded data removed]",
            "text/plain": [
              "<Figure size 800x500 with 1 Axes>"
            ]
          },
          "metadata": {
            "needs_background": "light"
          },
          "output_type": "display_data"
        },
        {
          "data": {
            "image/png": "[encoded data removed]",
            "text/plain": [
              "<Figure size 800x500 with 1 Axes>"
            ]
          },
          "metadata": {
            "needs_background": "light"
          },
          "output_type": "display_data"
        },
        {
          "data": {
            "image/png": "[encoded data removed]",
            "text/plain": [
              "<Figure size 800x500 with 1 Axes>"
            ]
          },
          "metadata": {
            "needs_background": "light"
          },
          "output_type": "display_data"
        },
        {
          "data": {
            "image/png": "[encoded data removed]",
            "text/plain": [
              "<Figure size 800x500 with 1 Axes>"
            ]
          },
          "metadata": {
            "needs_background": "light"
          },
          "output_type": "display_data"
        },
        {
          "data": {
            "image/png": "[encoded data removed]",
            "text/plain": [
              "<Figure size 800x500 with 1 Axes>"
            ]
          },
          "metadata": {
            "needs_background": "light"
          },
          "output_type": "display_data"
        },
        {
          "data": {
            "image/png": "[encoded data removed]",
            "text/plain": [
              "<Figure size 800x500 with 1 Axes>"
            ]
          },
          "metadata": {
            "needs_background": "light"
          },
          "output_type": "display_data"
        },
        {
          "data": {
            "image/png": "[encoded data removed]",
            "text/plain": [
              "<Figure size 800x500 with 1 Axes>"
            ]
          },
          "metadata": {
            "needs_background": "light"
          },
          "output_type": "display_data"
        },
        {
          "data": {
            "image/png": "[encoded data removed]",
            "text/plain": [
              "<Figure size 800x500 with 1 Axes>"
            ]
          },
          "metadata": {
            "needs_background": "light"
          },
          "output_type": "display_data"
        },
        {
          "data": {
            "image/png": "[encoded data removed]",
            "text/plain": [
              "<Figure size 800x500 with 1 Axes>"
            ]
          },
          "metadata": {
            "needs_background": "light"
          },
          "output_type": "display_data"
        },
        {
          "data": {
            "image/png": "[encoded data removed]",
            "text/plain": [
              "<Figure size 800x500 with 1 Axes>"
            ]
          },
          "metadata": {
            "needs_background": "light"
          },
          "output_type": "display_data"
        },
        {
          "data": {
            "image/png": "[encoded data removed]",
            "text/plain": [
              "<Figure size 800x500 with 1 Axes>"
            ]
          },
          "metadata": {
            "needs_background": "light"
          },
          "output_type": "display_data"
        },
        {
          "data": {
            "image/png": "[encoded data removed]",
            "text/plain": [
              "<Figure size 800x500 with 1 Axes>"
            ]
          },
          "metadata": {
            "needs_background": "light"
          },
          "output_type": "display_data"
        },
        {
          "data": {
            "image/png": "[encoded data removed]",
            "text/plain": [
              "<Figure size 800x500 with 1 Axes>"
            ]
          },
          "metadata": {
            "needs_background": "light"
          },
          "output_type": "display_data"
        },
        {
          "data": {
            "image/png": "[encoded data removed]",
            "text/plain": [
              "<Figure size 800x500 with 1 Axes>"
            ]
          },
          "metadata": {
            "needs_background": "light"
          },
          "output_type": "display_data"
        },
        {
          "data": {
            "image/png": "[encoded data removed]",
            "text/plain": [
              "<Figure size 800x500 with 1 Axes>"
            ]
          },
          "metadata": {
            "needs_background": "light"
          },
          "output_type": "display_data"
        },
        {
          "data": {
            "image/png": "[encoded data removed]",
            "text/plain": [
              "<Figure size 800x500 with 1 Axes>"
            ]
          },
          "metadata": {
            "needs_background": "light"
          },
          "output_type": "display_data"
        },
        {
          "data": {
            "image/png": "[encoded data removed]",
            "text/plain": [
              "<Figure size 800x500 with 1 Axes>"
            ]
          },
          "metadata": {
            "needs_background": "light"
          },
          "output_type": "display_data"
        },
        {
          "data": {
            "image/png": "[encoded data removed]",
            "text/plain": [
              "<Figure size 800x500 with 1 Axes>"
            ]
          },
          "metadata": {
            "needs_background": "light"
          },
          "output_type": "display_data"
        },
        {
          "data": {
            "image/png": "[encoded data removed]",
            "text/plain": [
              "<Figure size 800x500 with 1 Axes>"
            ]
          },
          "metadata": {
            "needs_background": "light"
          },
          "output_type": "display_data"
        },
        {
          "data": {
            "image/png": "[encoded data removed]",
            "text/plain": [
              "<Figure size 800x500 with 1 Axes>"
            ]
          },
          "metadata": {
            "needs_background": "light"
          },
          "output_type": "display_data"
        },
        {
          "data": {
            "image/png": "[encoded data removed]",
            "text/plain": [
              "<Figure size 800x500 with 1 Axes>"
            ]
          },
          "metadata": {
            "needs_background": "light"
          },
          "output_type": "display_data"
        },
        {
          "data": {
            "image/png": "[encoded data removed]",
            "text/plain": [
              "<Figure size 800x500 with 1 Axes>"
            ]
          },
          "metadata": {
            "needs_background": "light"
          },
          "output_type": "display_data"
        },
        {
          "data": {
            "image/png": "[encoded data removed]",
            "text/plain": [
              "<Figure size 800x500 with 1 Axes>"
            ]
          },
          "metadata": {
            "needs_background": "light"
          },
          "output_type": "display_data"
        },
        {
          "data": {
            "image/png": "[encoded data removed]",
            "text/plain": [
              "<Figure size 800x500 with 1 Axes>"
            ]
          },
          "metadata": {
            "needs_background": "light"
          },
          "output_type": "display_data"
        },
        {
          "data": {
            "image/png": "[encoded data removed]",
            "text/plain": [
              "<Figure size 800x500 with 1 Axes>"
            ]
          },
          "metadata": {
            "needs_background": "light"
          },
          "output_type": "display_data"
        },
        {
          "data": {
            "image/png": "[encoded data removed]",
            "text/plain": [
              "<Figure size 800x500 with 1 Axes>"
            ]
          },
          "metadata": {
            "needs_background": "light"
          },
          "output_type": "display_data"
        },
        {
          "data": {
            "image/png": "[encoded data removed]",
            "text/plain": [
              "<Figure size 800x500 with 1 Axes>"
            ]
          },
          "metadata": {
            "needs_background": "light"
          },
          "output_type": "display_data"
        },
        {
          "data": {
            "image/png": "[encoded data removed]",
            "text/plain": [
              "<Figure size 800x500 with 1 Axes>"
            ]
          },
          "metadata": {
            "needs_background": "light"
          },
          "output_type": "display_data"
        },
        {
          "data": {
            "image/png": "[encoded data removed]",
            "text/plain": [
              "<Figure size 800x500 with 1 Axes>"
            ]
          },
          "metadata": {
            "needs_background": "light"
          },
          "output_type": "display_data"
        },
        {
          "data": {
            "image/png": "[encoded data removed]",
            "text/plain": [
              "<Figure size 800x500 with 1 Axes>"
            ]
          },
          "metadata": {
            "needs_background": "light"
          },
          "output_type": "display_data"
        },
        {
          "data": {
            "image/png": "[encoded data removed]",
            "text/plain": [
              "<Figure size 800x500 with 1 Axes>"
            ]
          },
          "metadata": {
            "needs_background": "light"
          },
          "output_type": "display_data"
        },
        {
          "data": {
            "image/png": "[encoded data removed]",
            "text/plain": [
              "<Figure size 800x500 with 1 Axes>"
            ]
          },
          "metadata": {
            "needs_background": "light"
          },
          "output_type": "display_data"
        },
        {
          "data": {
            "image/png": "[encoded data removed]",
            "text/plain": [
              "<Figure size 800x500 with 1 Axes>"
            ]
          },
          "metadata": {
            "needs_background": "light"
          },
          "output_type": "display_data"
        },
        {
          "data": {
            "image/png": "[encoded data removed]",
            "text/plain": [
              "<Figure size 800x500 with 1 Axes>"
            ]
          },
          "metadata": {
            "needs_background": "light"
          },
          "output_type": "display_data"
        }
      ],
      "source": [
        "for brand in df['brand'].unique():\n",
        "    fig, ax = plt.subplots(figsize=(8,5), dpi=100)\n",
        "    sns.boxplot(df.loc[df['brand']==brand]['power'])\n",
        "    plt.gca().set_xlim([0, 1500])\n",
        "    plt.title(f'Распределение мощностей. {brand}')\n",
        "    plt.show()\n",
        "    df['power'].describe()"
      ]
    },
    {
      "cell_type": "markdown",
      "metadata": {
        "id": "GcWBqmJepG5s"
      },
      "source": [
        "Наблюдаем очень большое кол-во значений, которые во много раз превосходят медиану.  \n",
        "Предполагаем, что в выборке могут быть представлены объекты в спортивной сборке, поэтому нельзя просто удалить все объекты, которые находятся на числовой оси дальше \"правого уса\". По данной причине принято решение расширить область допустимых значений с 1,5 до 3-х межквартильных размахов."
      ]
    },
    {
      "cell_type": "code",
      "execution_count": null,
      "metadata": {
        "id": "FB9R4WrrpG5s"
      },
      "outputs": [],
      "source": [
        "# Удалим выбросы в столбце power:\n",
        "for brand in df['brand'].unique():\n",
        "    q1, q3 = np.percentile(df.loc[df['brand']==brand]['power'], [25, 75])\n",
        "    iqr = q3 - q1\n",
        "    upper_bound = q3 + 3 * iqr\n",
        "    df.loc[(df['brand']==brand)] = df.loc[(df['brand']==brand) & (df['power']<upper_bound)]"
      ]
    },
    {
      "cell_type": "code",
      "execution_count": null,
      "metadata": {
        "id": "DSCw9ZT8pG5s"
      },
      "outputs": [],
      "source": [
        "# Удалим пропуски в графе бренд\n",
        "df = df.loc[~df['brand'].isna()]"
      ]
    },
    {
      "cell_type": "code",
      "execution_count": null,
      "metadata": {
        "id": "Wi4bitGWpG5t"
      },
      "outputs": [],
      "source": [
        "# Замечаем также, что у sonstige_autos вообще отсутствуют названия моделей. Поэтому заполним их sonstige_autos\n",
        "df.loc[(df['brand']=='sonstige_autos') & (df['model'].isna()), 'model'] = 'sonstige_autos'"
      ]
    },
    {
      "cell_type": "markdown",
      "metadata": {
        "id": "E-jPS5bepG5t"
      },
      "source": [
        "Заполним модель авто:"
      ]
    },
    {
      "cell_type": "code",
      "execution_count": null,
      "metadata": {
        "scrolled": false,
        "id": "0fUeMV8gpG5t"
      },
      "outputs": [],
      "source": [
        "for brand in df['brand'].unique():\n",
        "    q1, q3 = np.percentile(df.loc[df['brand']==brand]['power'], [25, 75])\n",
        "\n",
        "    df.loc[(\n",
        "            df['brand']==brand) & (df['model'].isna()) & (df['power']<=q1), 'model'] = df.loc[(\n",
        "            df['brand']==brand) & (df['power']<=q1), 'model'].mode()[0]\n",
        "    df.loc[(\n",
        "            df['brand']==brand) & (df['model'].isna()) & (df['power']<=q3) & (df['power']>q1), 'model'] = df.loc[(\n",
        "            df['brand']==brand) & (df['power']<=q3) & (df['power']>q1), 'model'].mode()[0]\n",
        "    df.loc[(\n",
        "            df['brand']==brand) & (df['model'].isna()) & (df['power']>q3), 'model'] = df.loc[(\n",
        "            df['brand']==brand) & (df['power']>q3), 'model'].mode()[0]\n"
      ]
    },
    {
      "cell_type": "markdown",
      "metadata": {
        "id": "t3_lvpJLpG5t"
      },
      "source": [
        "Заполним пропуски в столбце vehicletype по самым распространенным типам кузова модели"
      ]
    },
    {
      "cell_type": "code",
      "execution_count": null,
      "metadata": {
        "id": "RkhjR9kMpG5t"
      },
      "outputs": [],
      "source": [
        "df.loc[df['model']=='serie_2', 'vehicletype'] = 'unknown'"
      ]
    },
    {
      "cell_type": "code",
      "execution_count": null,
      "metadata": {
        "id": "rGt2qz5qpG5t"
      },
      "outputs": [],
      "source": [
        "for model in df['model'].unique():\n",
        "    df.loc[(\n",
        "        df['model']==model) & (df['vehicletype'].isna()), 'vehicletype'] = df.loc[(\n",
        "        df['model']==model), 'vehicletype'].mode()[0]"
      ]
    },
    {
      "cell_type": "code",
      "execution_count": null,
      "metadata": {
        "id": "Vwk_PKxYpG5u",
        "outputId": "8915db7c-e291-4e45-f9e5-d05e9371f11b"
      },
      "outputs": [
        {
          "data": {
            "text/plain": [
              "0"
            ]
          },
          "execution_count": 29,
          "metadata": {},
          "output_type": "execute_result"
        }
      ],
      "source": [
        "# Проверим наличие пропусков в типе кузова:\n",
        "df['vehicletype'].isna().sum()"
      ]
    },
    {
      "cell_type": "code",
      "execution_count": null,
      "metadata": {
        "id": "Gp5u2OCTpG5u"
      },
      "outputs": [],
      "source": [
        "# Заполним пропуски в столбцах fueltype и gearbox формулировкой unknown\n",
        "df.loc[df['fueltype'].isna(), 'fueltype'] = 'unknown'\n",
        "df.loc[df['gearbox'].isna(), 'gearbox'] = 'unknown'"
      ]
    },
    {
      "cell_type": "code",
      "execution_count": null,
      "metadata": {
        "scrolled": true,
        "id": "OJ8gbudhpG5u",
        "outputId": "d8525db5-0cca-41d3-d8ab-7220d57d78d9"
      },
      "outputs": [
        {
          "name": "stdout",
          "output_type": "stream",
          "text": [
            "datecrawled          0\n",
            "price                0\n",
            "vehicletype          0\n",
            "registrationyear     0\n",
            "gearbox              0\n",
            "power                0\n",
            "model                0\n",
            "kilometer            0\n",
            "registrationmonth    0\n",
            "fueltype             0\n",
            "brand                0\n",
            "repaired             0\n",
            "datecreated          0\n",
            "numberofpictures     0\n",
            "postalcode           0\n",
            "lastseen             0\n",
            "dtype: int64\n"
          ]
        }
      ],
      "source": [
        "# Проверим наличие пропусков\n",
        "print(df.isna().sum().sort_values(ascending=False))"
      ]
    },
    {
      "cell_type": "markdown",
      "metadata": {
        "id": "lwQe4iBGpG5u"
      },
      "source": [
        "#### Проверка на наличие явных дубликатов"
      ]
    },
    {
      "cell_type": "code",
      "execution_count": null,
      "metadata": {
        "id": "WRiMPhA9pG5v",
        "outputId": "5f62df60-94ba-4388-85bf-3a3570126aa3"
      },
      "outputs": [
        {
          "data": {
            "text/html": [
              "<div>\n",
              "<style scoped>\n",
              "    .dataframe tbody tr th:only-of-type {\n",
              "        vertical-align: middle;\n",
              "    }\n",
              "\n",
              "    .dataframe tbody tr th {\n",
              "        vertical-align: top;\n",
              "    }\n",
              "\n",
              "    .dataframe thead th {\n",
              "        text-align: right;\n",
              "    }\n",
              "</style>\n",
              "<table border=\"1\" class=\"dataframe\">\n",
              "  <thead>\n",
              "    <tr style=\"text-align: right;\">\n",
              "      <th></th>\n",
              "      <th>datecrawled</th>\n",
              "      <th>price</th>\n",
              "      <th>vehicletype</th>\n",
              "      <th>registrationyear</th>\n",
              "      <th>gearbox</th>\n",
              "      <th>power</th>\n",
              "      <th>model</th>\n",
              "      <th>kilometer</th>\n",
              "      <th>registrationmonth</th>\n",
              "      <th>fueltype</th>\n",
              "      <th>brand</th>\n",
              "      <th>repaired</th>\n",
              "      <th>datecreated</th>\n",
              "      <th>numberofpictures</th>\n",
              "      <th>postalcode</th>\n",
              "      <th>lastseen</th>\n",
              "    </tr>\n",
              "  </thead>\n",
              "  <tbody>\n",
              "    <tr>\n",
              "      <th>171088</th>\n",
              "      <td>2016-03-08 18:42:48</td>\n",
              "      <td>1799.0</td>\n",
              "      <td>coupe</td>\n",
              "      <td>1999.0</td>\n",
              "      <td>auto</td>\n",
              "      <td>193.0</td>\n",
              "      <td>clk</td>\n",
              "      <td>20000.0</td>\n",
              "      <td>7.0</td>\n",
              "      <td>petrol</td>\n",
              "      <td>mercedes_benz</td>\n",
              "      <td>no</td>\n",
              "      <td>2016-03-08 00:00:00</td>\n",
              "      <td>0.0</td>\n",
              "      <td>89518.0</td>\n",
              "      <td>2016-03-09 09:46:57</td>\n",
              "    </tr>\n",
              "    <tr>\n",
              "      <th>231258</th>\n",
              "      <td>2016-03-28 00:56:10</td>\n",
              "      <td>1000.0</td>\n",
              "      <td>small</td>\n",
              "      <td>2002.0</td>\n",
              "      <td>manual</td>\n",
              "      <td>83.0</td>\n",
              "      <td>other</td>\n",
              "      <td>150000.0</td>\n",
              "      <td>1.0</td>\n",
              "      <td>petrol</td>\n",
              "      <td>suzuki</td>\n",
              "      <td>no</td>\n",
              "      <td>2016-03-28 00:00:00</td>\n",
              "      <td>0.0</td>\n",
              "      <td>66589.0</td>\n",
              "      <td>2016-03-28 08:46:21</td>\n",
              "    </tr>\n",
              "    <tr>\n",
              "      <th>258109</th>\n",
              "      <td>2016-04-03 09:01:15</td>\n",
              "      <td>4699.0</td>\n",
              "      <td>coupe</td>\n",
              "      <td>2003.0</td>\n",
              "      <td>auto</td>\n",
              "      <td>218.0</td>\n",
              "      <td>clk</td>\n",
              "      <td>125000.0</td>\n",
              "      <td>6.0</td>\n",
              "      <td>petrol</td>\n",
              "      <td>mercedes_benz</td>\n",
              "      <td>yes</td>\n",
              "      <td>2016-04-03 00:00:00</td>\n",
              "      <td>0.0</td>\n",
              "      <td>75196.0</td>\n",
              "      <td>2016-04-07 09:44:54</td>\n",
              "    </tr>\n",
              "    <tr>\n",
              "      <th>325651</th>\n",
              "      <td>2016-03-18 18:46:15</td>\n",
              "      <td>1999.0</td>\n",
              "      <td>wagon</td>\n",
              "      <td>2001.0</td>\n",
              "      <td>manual</td>\n",
              "      <td>131.0</td>\n",
              "      <td>passat</td>\n",
              "      <td>150000.0</td>\n",
              "      <td>7.0</td>\n",
              "      <td>gasoline</td>\n",
              "      <td>volkswagen</td>\n",
              "      <td>no</td>\n",
              "      <td>2016-03-18 00:00:00</td>\n",
              "      <td>0.0</td>\n",
              "      <td>36391.0</td>\n",
              "      <td>2016-03-18 18:46:15</td>\n",
              "    </tr>\n",
              "  </tbody>\n",
              "</table>\n",
              "</div>"
            ],
            "text/plain": [
              "                datecrawled   price vehicletype  registrationyear gearbox  \\\n",
              "171088  2016-03-08 18:42:48  1799.0       coupe            1999.0    auto   \n",
              "231258  2016-03-28 00:56:10  1000.0       small            2002.0  manual   \n",
              "258109  2016-04-03 09:01:15  4699.0       coupe            2003.0    auto   \n",
              "325651  2016-03-18 18:46:15  1999.0       wagon            2001.0  manual   \n",
              "\n",
              "        power   model  kilometer  registrationmonth  fueltype          brand  \\\n",
              "171088  193.0     clk    20000.0                7.0    petrol  mercedes_benz   \n",
              "231258   83.0   other   150000.0                1.0    petrol         suzuki   \n",
              "258109  218.0     clk   125000.0                6.0    petrol  mercedes_benz   \n",
              "325651  131.0  passat   150000.0                7.0  gasoline     volkswagen   \n",
              "\n",
              "       repaired          datecreated  numberofpictures  postalcode  \\\n",
              "171088       no  2016-03-08 00:00:00               0.0     89518.0   \n",
              "231258       no  2016-03-28 00:00:00               0.0     66589.0   \n",
              "258109      yes  2016-04-03 00:00:00               0.0     75196.0   \n",
              "325651       no  2016-03-18 00:00:00               0.0     36391.0   \n",
              "\n",
              "                   lastseen  \n",
              "171088  2016-03-09 09:46:57  \n",
              "231258  2016-03-28 08:46:21  \n",
              "258109  2016-04-07 09:44:54  \n",
              "325651  2016-03-18 18:46:15  "
            ]
          },
          "execution_count": 32,
          "metadata": {},
          "output_type": "execute_result"
        }
      ],
      "source": [
        "df.loc[df.duplicated()]"
      ]
    },
    {
      "cell_type": "code",
      "execution_count": null,
      "metadata": {
        "id": "_cedFNLFpG5v"
      },
      "outputs": [],
      "source": [
        "df = df.drop_duplicates().reset_index(drop=True)"
      ]
    },
    {
      "cell_type": "code",
      "execution_count": null,
      "metadata": {
        "id": "1x_Qa4GPpG5v",
        "outputId": "a545e0ea-ef91-44f6-bd83-e4f53f3832f5"
      },
      "outputs": [
        {
          "data": {
            "text/plain": [
              "0"
            ]
          },
          "execution_count": 34,
          "metadata": {},
          "output_type": "execute_result"
        }
      ],
      "source": [
        "df.duplicated().sum()"
      ]
    },
    {
      "cell_type": "markdown",
      "metadata": {
        "id": "Y4eWzK3wpG5v"
      },
      "source": [
        "Явные дубликаты удалены"
      ]
    },
    {
      "cell_type": "markdown",
      "metadata": {
        "id": "zE1fOXhmpG5v"
      },
      "source": [
        "#### Промежуточные выводы"
      ]
    },
    {
      "cell_type": "markdown",
      "metadata": {
        "id": "wXuDAs0MpG5v"
      },
      "source": [
        "В данном пункте была выполнена работа по предобработке данных. Названия колонок были приведены к нижнему регистру, были заполнены пропуски и удалены выбросы и аномалии, а также выполнен поиск явных дубликатов.\n",
        "\n"
      ]
    },
    {
      "cell_type": "markdown",
      "metadata": {
        "id": "iNnGbJkFpG5w"
      },
      "source": [
        "## Обучение моделей"
      ]
    },
    {
      "cell_type": "markdown",
      "metadata": {
        "id": "9jGXRbXKpG5w"
      },
      "source": [
        "### Удаление неинформативных признаков"
      ]
    },
    {
      "cell_type": "code",
      "execution_count": null,
      "metadata": {
        "id": "DomeRRk8pG5w",
        "outputId": "9156aa2c-2e51-4924-9123-10a8581b05f2"
      },
      "outputs": [
        {
          "data": {
            "text/html": [
              "<div>\n",
              "<style scoped>\n",
              "    .dataframe tbody tr th:only-of-type {\n",
              "        vertical-align: middle;\n",
              "    }\n",
              "\n",
              "    .dataframe tbody tr th {\n",
              "        vertical-align: top;\n",
              "    }\n",
              "\n",
              "    .dataframe thead th {\n",
              "        text-align: right;\n",
              "    }\n",
              "</style>\n",
              "<table border=\"1\" class=\"dataframe\">\n",
              "  <thead>\n",
              "    <tr style=\"text-align: right;\">\n",
              "      <th></th>\n",
              "      <th>datecrawled</th>\n",
              "      <th>price</th>\n",
              "      <th>vehicletype</th>\n",
              "      <th>registrationyear</th>\n",
              "      <th>gearbox</th>\n",
              "      <th>power</th>\n",
              "      <th>model</th>\n",
              "      <th>kilometer</th>\n",
              "      <th>registrationmonth</th>\n",
              "      <th>fueltype</th>\n",
              "      <th>brand</th>\n",
              "      <th>repaired</th>\n",
              "      <th>datecreated</th>\n",
              "      <th>numberofpictures</th>\n",
              "      <th>postalcode</th>\n",
              "      <th>lastseen</th>\n",
              "    </tr>\n",
              "  </thead>\n",
              "  <tbody>\n",
              "    <tr>\n",
              "      <th>0</th>\n",
              "      <td>2016-03-24 11:52:17</td>\n",
              "      <td>480.0</td>\n",
              "      <td>sedan</td>\n",
              "      <td>1993.0</td>\n",
              "      <td>manual</td>\n",
              "      <td>0.0</td>\n",
              "      <td>golf</td>\n",
              "      <td>150000.0</td>\n",
              "      <td>0.0</td>\n",
              "      <td>petrol</td>\n",
              "      <td>volkswagen</td>\n",
              "      <td>unknown</td>\n",
              "      <td>2016-03-24 00:00:00</td>\n",
              "      <td>0.0</td>\n",
              "      <td>70435.0</td>\n",
              "      <td>2016-04-07 03:16:57</td>\n",
              "    </tr>\n",
              "    <tr>\n",
              "      <th>1</th>\n",
              "      <td>2016-03-24 10:58:45</td>\n",
              "      <td>18300.0</td>\n",
              "      <td>coupe</td>\n",
              "      <td>2011.0</td>\n",
              "      <td>manual</td>\n",
              "      <td>190.0</td>\n",
              "      <td>a6</td>\n",
              "      <td>125000.0</td>\n",
              "      <td>5.0</td>\n",
              "      <td>gasoline</td>\n",
              "      <td>audi</td>\n",
              "      <td>yes</td>\n",
              "      <td>2016-03-24 00:00:00</td>\n",
              "      <td>0.0</td>\n",
              "      <td>66954.0</td>\n",
              "      <td>2016-04-07 01:46:50</td>\n",
              "    </tr>\n",
              "    <tr>\n",
              "      <th>2</th>\n",
              "      <td>2016-03-14 12:52:21</td>\n",
              "      <td>9800.0</td>\n",
              "      <td>suv</td>\n",
              "      <td>2004.0</td>\n",
              "      <td>auto</td>\n",
              "      <td>163.0</td>\n",
              "      <td>grand</td>\n",
              "      <td>125000.0</td>\n",
              "      <td>8.0</td>\n",
              "      <td>gasoline</td>\n",
              "      <td>jeep</td>\n",
              "      <td>unknown</td>\n",
              "      <td>2016-03-14 00:00:00</td>\n",
              "      <td>0.0</td>\n",
              "      <td>90480.0</td>\n",
              "      <td>2016-04-05 12:47:46</td>\n",
              "    </tr>\n",
              "  </tbody>\n",
              "</table>\n",
              "</div>"
            ],
            "text/plain": [
              "           datecrawled    price vehicletype  registrationyear gearbox  power  \\\n",
              "0  2016-03-24 11:52:17    480.0       sedan            1993.0  manual    0.0   \n",
              "1  2016-03-24 10:58:45  18300.0       coupe            2011.0  manual  190.0   \n",
              "2  2016-03-14 12:52:21   9800.0         suv            2004.0    auto  163.0   \n",
              "\n",
              "   model  kilometer  registrationmonth  fueltype       brand repaired  \\\n",
              "0   golf   150000.0                0.0    petrol  volkswagen  unknown   \n",
              "1     a6   125000.0                5.0  gasoline        audi      yes   \n",
              "2  grand   125000.0                8.0  gasoline        jeep  unknown   \n",
              "\n",
              "           datecreated  numberofpictures  postalcode             lastseen  \n",
              "0  2016-03-24 00:00:00               0.0     70435.0  2016-04-07 03:16:57  \n",
              "1  2016-03-24 00:00:00               0.0     66954.0  2016-04-07 01:46:50  \n",
              "2  2016-03-14 00:00:00               0.0     90480.0  2016-04-05 12:47:46  "
            ]
          },
          "execution_count": 35,
          "metadata": {},
          "output_type": "execute_result"
        }
      ],
      "source": [
        "df.head(3)"
      ]
    },
    {
      "cell_type": "code",
      "execution_count": null,
      "metadata": {
        "id": "DnVfeal0pG5w"
      },
      "outputs": [],
      "source": [
        "# Удалим столбцы, которые кажутся неинформативными\n",
        "drop_columns = ['datecrawled', 'registrationmonth', 'datecreated', 'postalcode', 'lastseen', 'numberofpictures']\n",
        "df_droped_columns = df_drop_columns = df.copy().drop(columns=drop_columns)"
      ]
    },
    {
      "cell_type": "code",
      "execution_count": null,
      "metadata": {
        "id": "_Ird5i88pG5x",
        "outputId": "77ed2683-e263-4737-a7ef-0571ef93c4b4"
      },
      "outputs": [
        {
          "data": {
            "text/html": [
              "<div>\n",
              "<style scoped>\n",
              "    .dataframe tbody tr th:only-of-type {\n",
              "        vertical-align: middle;\n",
              "    }\n",
              "\n",
              "    .dataframe tbody tr th {\n",
              "        vertical-align: top;\n",
              "    }\n",
              "\n",
              "    .dataframe thead th {\n",
              "        text-align: right;\n",
              "    }\n",
              "</style>\n",
              "<table border=\"1\" class=\"dataframe\">\n",
              "  <thead>\n",
              "    <tr style=\"text-align: right;\">\n",
              "      <th></th>\n",
              "      <th>price</th>\n",
              "      <th>vehicletype</th>\n",
              "      <th>registrationyear</th>\n",
              "      <th>gearbox</th>\n",
              "      <th>power</th>\n",
              "      <th>model</th>\n",
              "      <th>kilometer</th>\n",
              "      <th>fueltype</th>\n",
              "      <th>brand</th>\n",
              "      <th>repaired</th>\n",
              "    </tr>\n",
              "  </thead>\n",
              "  <tbody>\n",
              "    <tr>\n",
              "      <th>0</th>\n",
              "      <td>480.0</td>\n",
              "      <td>sedan</td>\n",
              "      <td>1993.0</td>\n",
              "      <td>manual</td>\n",
              "      <td>0.0</td>\n",
              "      <td>golf</td>\n",
              "      <td>150000.0</td>\n",
              "      <td>petrol</td>\n",
              "      <td>volkswagen</td>\n",
              "      <td>unknown</td>\n",
              "    </tr>\n",
              "    <tr>\n",
              "      <th>1</th>\n",
              "      <td>18300.0</td>\n",
              "      <td>coupe</td>\n",
              "      <td>2011.0</td>\n",
              "      <td>manual</td>\n",
              "      <td>190.0</td>\n",
              "      <td>a6</td>\n",
              "      <td>125000.0</td>\n",
              "      <td>gasoline</td>\n",
              "      <td>audi</td>\n",
              "      <td>yes</td>\n",
              "    </tr>\n",
              "    <tr>\n",
              "      <th>2</th>\n",
              "      <td>9800.0</td>\n",
              "      <td>suv</td>\n",
              "      <td>2004.0</td>\n",
              "      <td>auto</td>\n",
              "      <td>163.0</td>\n",
              "      <td>grand</td>\n",
              "      <td>125000.0</td>\n",
              "      <td>gasoline</td>\n",
              "      <td>jeep</td>\n",
              "      <td>unknown</td>\n",
              "    </tr>\n",
              "    <tr>\n",
              "      <th>3</th>\n",
              "      <td>1500.0</td>\n",
              "      <td>small</td>\n",
              "      <td>2001.0</td>\n",
              "      <td>manual</td>\n",
              "      <td>75.0</td>\n",
              "      <td>golf</td>\n",
              "      <td>150000.0</td>\n",
              "      <td>petrol</td>\n",
              "      <td>volkswagen</td>\n",
              "      <td>no</td>\n",
              "    </tr>\n",
              "    <tr>\n",
              "      <th>4</th>\n",
              "      <td>3600.0</td>\n",
              "      <td>small</td>\n",
              "      <td>2008.0</td>\n",
              "      <td>manual</td>\n",
              "      <td>69.0</td>\n",
              "      <td>fabia</td>\n",
              "      <td>90000.0</td>\n",
              "      <td>gasoline</td>\n",
              "      <td>skoda</td>\n",
              "      <td>no</td>\n",
              "    </tr>\n",
              "  </tbody>\n",
              "</table>\n",
              "</div>"
            ],
            "text/plain": [
              "     price vehicletype  registrationyear gearbox  power  model  kilometer  \\\n",
              "0    480.0       sedan            1993.0  manual    0.0   golf   150000.0   \n",
              "1  18300.0       coupe            2011.0  manual  190.0     a6   125000.0   \n",
              "2   9800.0         suv            2004.0    auto  163.0  grand   125000.0   \n",
              "3   1500.0       small            2001.0  manual   75.0   golf   150000.0   \n",
              "4   3600.0       small            2008.0  manual   69.0  fabia    90000.0   \n",
              "\n",
              "   fueltype       brand repaired  \n",
              "0    petrol  volkswagen  unknown  \n",
              "1  gasoline        audi      yes  \n",
              "2  gasoline        jeep  unknown  \n",
              "3    petrol  volkswagen       no  \n",
              "4  gasoline       skoda       no  "
            ]
          },
          "execution_count": 37,
          "metadata": {},
          "output_type": "execute_result"
        }
      ],
      "source": [
        "df_droped_columns.head()"
      ]
    },
    {
      "cell_type": "markdown",
      "metadata": {
        "id": "xFUDqAfppG5x"
      },
      "source": [
        "### Разделим выборки"
      ]
    },
    {
      "cell_type": "code",
      "execution_count": null,
      "metadata": {
        "id": "XLgcrP15pG5x"
      },
      "outputs": [],
      "source": [
        "target = df_droped_columns['price']\n",
        "features = df_droped_columns.drop(['price'], axis = 1)"
      ]
    },
    {
      "cell_type": "code",
      "execution_count": null,
      "metadata": {
        "id": "E2wJJ4R1pG5x"
      },
      "outputs": [],
      "source": [
        "features_train, features_valid_test, target_train, target_valid_test = train_test_split(\n",
        "    features, target, test_size=0.4, random_state=12345)\n",
        "features_valid, features_test, target_valid, target_test = train_test_split(\n",
        "    features_valid_test, target_valid_test, test_size=0.5, random_state=12345)"
      ]
    },
    {
      "cell_type": "code",
      "execution_count": null,
      "metadata": {
        "id": "LQIeDWNWpG5x",
        "outputId": "65c932cf-fe2f-494e-d3dd-b6e3bc67da21"
      },
      "outputs": [
        {
          "name": "stdout",
          "output_type": "stream",
          "text": [
            "(208501, 9)\n",
            "(208501,)\n",
            "(69501, 9)\n",
            "(69501,)\n",
            "(69501, 9)\n",
            "(69501,)\n"
          ]
        }
      ],
      "source": [
        "def shape_(df):\n",
        "    print(df.shape)\n",
        "# Проверим кол-во строк и столбцов в выборках\n",
        "shape_(features_train)\n",
        "shape_(target_train)\n",
        "shape_(features_valid)\n",
        "shape_(target_valid)\n",
        "shape_(features_test)\n",
        "shape_(target_test)"
      ]
    },
    {
      "cell_type": "markdown",
      "metadata": {
        "id": "P88_jZWnpG5y"
      },
      "source": [
        "### Дамми модель"
      ]
    },
    {
      "cell_type": "code",
      "execution_count": null,
      "metadata": {
        "id": "3uDONBH8pG5y",
        "outputId": "abb29d86-2f11-4ed0-dbc2-0138e31ecdca"
      },
      "outputs": [
        {
          "data": {
            "text/plain": [
              "DummyRegressor()"
            ]
          },
          "execution_count": 41,
          "metadata": {},
          "output_type": "execute_result"
        }
      ],
      "source": [
        "dummy_model = DummyRegressor(strategy=\"mean\")\n",
        "# Обучаем константную модель\n",
        "dummy_model.fit(features_train, target_train)"
      ]
    },
    {
      "cell_type": "code",
      "execution_count": null,
      "metadata": {
        "id": "zQ83VRnOpG5y",
        "outputId": "1ff86131-c61d-4052-8a27-6d11b1a3c106"
      },
      "outputs": [
        {
          "name": "stdout",
          "output_type": "stream",
          "text": [
            "RMSE дамми модели на валидационной выборке = 4466.630639591759\n"
          ]
        }
      ],
      "source": [
        "predictions_valid = dummy_model.predict(features_valid)\n",
        "result = np.sqrt(mean_squared_error(target_valid, predictions_valid))\n",
        "print(f'RMSE дамми модели на валидационной выборке = {result}')"
      ]
    },
    {
      "cell_type": "markdown",
      "metadata": {
        "id": "vEEVzfCypG5y"
      },
      "source": [
        "Результат дамми модели 4466.63 на валидационной выборке."
      ]
    },
    {
      "cell_type": "markdown",
      "metadata": {
        "id": "cH_bkiijpG5y"
      },
      "source": [
        "### Линейная регрессия"
      ]
    },
    {
      "cell_type": "markdown",
      "metadata": {
        "id": "K0TFfpA0pG5z"
      },
      "source": [
        "#### Кодируем признаки для линейной регрессии"
      ]
    },
    {
      "cell_type": "code",
      "execution_count": null,
      "metadata": {
        "id": "ozl8kSy-pG5z"
      },
      "outputs": [],
      "source": [
        "# Кодируем признаки для линейной регрессии\n",
        "\n",
        "features_categirical = ['vehicletype', 'gearbox', 'model', 'fueltype', 'brand', 'repaired']\n",
        "\n",
        "# кодируем выборки\n",
        "ohe = OneHotEncoder(sparse=False, drop='first')\n",
        "ohe.fit(features_train[features_categirical])\n",
        "\n",
        "def features_ohe(ohe_variable, df_features, features_categ):\n",
        "    df_features_ohe = pd.DataFrame(\n",
        "        data=ohe_variable.transform(df_features[features_categ]),\n",
        "        index=df_features.index,\n",
        "        columns=ohe_variable.get_feature_names()\n",
        "    )\n",
        "\n",
        "    df_features = df_features.drop(features_categ, axis=1)\n",
        "    df_features = df_features.join(df_features_ohe)\n",
        "    return df_features\n",
        "\n",
        "features_train_OHE = features_ohe(ohe, features_train, features_categirical);\n",
        "features_valid_OHE = features_ohe(ohe, features_valid, features_categirical);\n",
        "features_test_OHE = features_ohe(ohe, features_test, features_categirical);"
      ]
    },
    {
      "cell_type": "code",
      "execution_count": null,
      "metadata": {
        "id": "CW_RRPx1pG50",
        "outputId": "912e8ab6-b8e4-4432-d7b9-ee8348f0396d"
      },
      "outputs": [
        {
          "name": "stdout",
          "output_type": "stream",
          "text": [
            "(208501, 309)\n",
            "(69501, 309)\n",
            "(69501, 309)\n"
          ]
        }
      ],
      "source": [
        "# Проверим выборки после кодирования\n",
        "shape_(features_train_OHE)\n",
        "shape_(features_valid_OHE)\n",
        "shape_(features_test_OHE)"
      ]
    },
    {
      "cell_type": "markdown",
      "metadata": {
        "id": "YB6vNxTMpG50"
      },
      "source": [
        "Ожидаемо, получили очень большое количество признаков, но т.к. мы применили OHE для линейной модели, это не должно сильно отразиться на времени обучения"
      ]
    },
    {
      "cell_type": "markdown",
      "metadata": {
        "id": "qcUQ63aApG51"
      },
      "source": [
        "#### Масштабируем признаки для линейной модели"
      ]
    },
    {
      "cell_type": "code",
      "execution_count": null,
      "metadata": {
        "id": "WP-8y7cUpG51"
      },
      "outputs": [],
      "source": [
        "# масштабируем признаки\n",
        "scaler = StandardScaler()\n",
        "scaler.fit(features_train_OHE)\n",
        "\n",
        "features_train_OHE_scaled = pd.DataFrame(\n",
        "    scaler.transform(features_train_OHE), columns=features_train_OHE.columns, index = features_train_OHE.index)\n",
        "features_valid_OHE_scaled = pd.DataFrame(\n",
        "    scaler.transform(features_valid_OHE), columns=features_valid_OHE.columns, index = features_valid_OHE.index)\n",
        "features_test_OHE_scaled = pd.DataFrame(\n",
        "    scaler.transform(features_test_OHE), columns=features_test_OHE.columns, index = features_test_OHE.index)"
      ]
    },
    {
      "cell_type": "markdown",
      "metadata": {
        "id": "q5_ykqytpG51"
      },
      "source": [
        "#### Обучение линейной модели"
      ]
    },
    {
      "cell_type": "code",
      "execution_count": null,
      "metadata": {
        "id": "4d4qzRxhpG51",
        "outputId": "6d94e148-2ba9-4e81-f584-d9fc50c6f748"
      },
      "outputs": [
        {
          "name": "stdout",
          "output_type": "stream",
          "text": [
            "Training time: 26.653035640716553 seconds\n"
          ]
        }
      ],
      "source": [
        "model_lr = LinearRegression()\n",
        "start_time = time.time()\n",
        "model_lr.fit(features_train_OHE_scaled, target_train)\n",
        "end_time = time.time()\n",
        "print(\"Training time: {} seconds\".format(end_time - start_time))"
      ]
    },
    {
      "cell_type": "code",
      "execution_count": null,
      "metadata": {
        "id": "fuiJaTF1pG51",
        "outputId": "0e7612f6-f12e-43e3-a4d2-afeb827ba45a"
      },
      "outputs": [
        {
          "name": "stdout",
          "output_type": "stream",
          "text": [
            "Prediction time: 0.10604095458984375 seconds\n",
            "RMSE линейной регресии на валидационной выборке = 2674.1641299901066\n"
          ]
        }
      ],
      "source": [
        "start_time = time.time()\n",
        "predictions_valid = model_lr.predict(features_valid_OHE_scaled)\n",
        "end_time = time.time()\n",
        "print(\"Prediction time: {} seconds\".format(end_time - start_time))\n",
        "result = np.sqrt(mean_squared_error(target_valid, predictions_valid))\n",
        "print(f'RMSE линейной регресии на валидационной выборке = {result}')"
      ]
    },
    {
      "cell_type": "markdown",
      "metadata": {
        "id": "UjS7V7XwpG52"
      },
      "source": [
        "Модель линейной регрессии демонстрирует результат, превосходящий дамми модель, но при этом, хуже, чем установленный порог RMSE в 2500. По данной причине на тестовой выборке линейная регрессия испольщоваться не будет"
      ]
    },
    {
      "cell_type": "markdown",
      "metadata": {
        "id": "2cFRe1FJpG52"
      },
      "source": [
        "### LightGBM"
      ]
    },
    {
      "cell_type": "markdown",
      "metadata": {
        "id": "MtM8z6W7pG52"
      },
      "source": [
        "#### Порядковое кодирование для lgb"
      ]
    },
    {
      "cell_type": "code",
      "execution_count": null,
      "metadata": {
        "id": "sknFhrdupG52"
      },
      "outputs": [],
      "source": [
        "encoder = OrdinalEncoder(handle_unknown='ignore')\n",
        "# categorical_features = ['vehicletype', 'gearbox', 'model', 'fueltype', 'brand', 'repaired']\n",
        "encoder.fit(features_train)\n",
        "features_train_encoded = pd.DataFrame(encoder.transform(features_train), columns=features_train.columns)\n",
        "features_valid_encoded = pd.DataFrame(encoder.transform(features_valid), columns=features_valid.columns)\n",
        "features_test_encoded = pd.DataFrame(encoder.transform(features_test), columns=features_test.columns)\n"
      ]
    },
    {
      "cell_type": "markdown",
      "metadata": {
        "id": "khWEdBI6pG52"
      },
      "source": [
        "#### Обучение модели"
      ]
    },
    {
      "cell_type": "code",
      "execution_count": null,
      "metadata": {
        "id": "VIbYiYQopG52"
      },
      "outputs": [],
      "source": [
        "# Создание объекта для обучения\n",
        "train_data = lgb.Dataset(data=features_train_encoded, label=target_train)\n",
        "\n",
        "# Определение параметров модели\n",
        "params = {\n",
        "    \"objective\": \"regression\",\n",
        "    \"metric\": \"rmse\",\n",
        "    \"num_leaves\": 5,\n",
        "    \"learning_rate\": 0.1\n",
        "}\n",
        "\n",
        "valid_set = lgb.Dataset(data=features_valid_encoded, label=target_valid)"
      ]
    },
    {
      "cell_type": "code",
      "execution_count": null,
      "metadata": {
        "scrolled": false,
        "id": "ceZaU1OtpG53",
        "outputId": "11e909a0-e6aa-4eac-8570-bbc30ee8da1a"
      },
      "outputs": [
        {
          "name": "stdout",
          "output_type": "stream",
          "text": [
            "[LightGBM] [Warning] Auto-choosing row-wise multi-threading, the overhead of testing was 0.309497 seconds.\n",
            "You can set `force_row_wise=true` to remove the overhead.\n",
            "And if memory is not enough, you can set `force_col_wise=true`.\n",
            "[LightGBM] [Info] Total Bins 569\n",
            "[LightGBM] [Info] Number of data points in the train set: 208501, number of used features: 9\n",
            "[LightGBM] [Info] Start training from score 4377.209136\n",
            "Training until validation scores don't improve for 50 rounds\n",
            "[50]\ttraining's rmse: 2159.13\n",
            "[100]\ttraining's rmse: 2018.51\n",
            "[150]\ttraining's rmse: 1964.45\n",
            "[200]\ttraining's rmse: 1925.17\n",
            "[250]\ttraining's rmse: 1902.25\n",
            "[300]\ttraining's rmse: 1882.88\n",
            "[350]\ttraining's rmse: 1865.67\n",
            "[400]\ttraining's rmse: 1852.11\n",
            "[450]\ttraining's rmse: 1838.27\n",
            "[500]\ttraining's rmse: 1827.49\n",
            "[550]\ttraining's rmse: 1818.13\n",
            "[600]\ttraining's rmse: 1810.5\n",
            "[650]\ttraining's rmse: 1802.25\n",
            "[700]\ttraining's rmse: 1794.65\n",
            "[750]\ttraining's rmse: 1787.43\n",
            "[800]\ttraining's rmse: 1780.4\n",
            "[850]\ttraining's rmse: 1773.98\n",
            "[900]\ttraining's rmse: 1768.48\n",
            "[950]\ttraining's rmse: 1763.1\n",
            "[1000]\ttraining's rmse: 1758.06\n",
            "Did not meet early stopping. Best iteration is:\n",
            "[1000]\ttraining's rmse: 1758.06\n",
            "Training time: 199.978125333786 seconds\n"
          ]
        }
      ],
      "source": [
        "# Обучение модели\n",
        "start_time = time.time()\n",
        "\n",
        "model_bust = lgb.train(\n",
        "    params=params,\n",
        "    train_set=train_data,\n",
        "    num_boost_round=1000,\n",
        "    valid_sets=train_data,\n",
        "    early_stopping_rounds=50,\n",
        "    verbose_eval=50\n",
        ")\n",
        "\n",
        "end_time = time.time()\n",
        "print(\"Training time: {} seconds\".format(end_time - start_time))"
      ]
    },
    {
      "cell_type": "code",
      "execution_count": null,
      "metadata": {
        "id": "eW230J_hpG53"
      },
      "outputs": [],
      "source": [
        "start_time = time.time()\n",
        "prediction = model_bust.predict(features_valid_encoded)\n",
        "end_time = time.time()\n",
        "print(\"Prediction time: {} seconds\".format(end_time - start_time))\n",
        "\n",
        "result = np.sqrt(mean_squared_error(target_valid, prediction))\n",
        "print(f'RMSE градиентного бустинга на валидационной выборке = {result}')"
      ]
    },
    {
      "cell_type": "markdown",
      "metadata": {
        "id": "99Fua-fIpG53"
      },
      "source": [
        "Наблюдаем, что LightGBM демонстрирует лучшие результаты относительно модели линейной регрессии. Так, на валидационной выборке наблюдаем значения RMSE = 1771.99, что значетельно ниже установленного порога в 2500, поэтому модель LightGBM проверим на тестовой выборке."
      ]
    },
    {
      "cell_type": "code",
      "execution_count": null,
      "metadata": {
        "id": "8oGA4MTJpG53"
      },
      "outputs": [],
      "source": [
        "start_time = time.time()\n",
        "prediction_test = model_bust.predict(features_test_encoded)\n",
        "end_time = time.time()\n",
        "print(\"Prediction time: {} seconds\".format(end_time - start_time))\n",
        "\n",
        "result = np.sqrt(mean_squared_error(target_test, prediction_test))\n",
        "print(f'RMSE градиентного бустинга на тестовой выборке = {result}')"
      ]
    },
    {
      "cell_type": "markdown",
      "metadata": {
        "id": "7WpzoE-mpG54"
      },
      "source": [
        "## Анализ моделей"
      ]
    },
    {
      "cell_type": "markdown",
      "metadata": {
        "id": "LO9YvOyhpG54"
      },
      "source": [
        "В данном проекте была проделана работа по построению модели для прогноза рыночной стоимости автомобилей.  \n",
        "Было протестировано два вида моделей: линейной регрессии и модель градиентного бустинга LightGBM.\n",
        "\n",
        "Модель линейной регрессии обучалась в течении 25 секунд и выдавала предсказания за 0,02 секунды, однако точность прогноза на валидационной выборке оказалась очень низкой: RMSE = 2674.  \n",
        "Модель LightGB обучалась в течении 170 секунд и выдавала предсказания за 2.7-2.9 секунды, что конечно, дольше линейной модели, но точность предсказания намного выше: на валидационной выборке RMSE = 1772, а на тестовой выборке = 1799.48.\n",
        "\n",
        "На основании данных фактов, можно сделать вывод, что для разработки приложения лучше подойдет модель гражиентного бустинга LightGB."
      ]
    }
  ],
  "metadata": {
    "ExecuteTimeLog": [
      {
        "duration": 425,
        "start_time": "2023-05-01T10:50:26.207Z"
      },
      {
        "duration": 66,
        "start_time": "2023-05-01T10:50:39.604Z"
      },
      {
        "duration": 47,
        "start_time": "2023-05-01T10:50:44.440Z"
      },
      {
        "duration": 994,
        "start_time": "2023-05-01T10:51:35.618Z"
      },
      {
        "duration": 8,
        "start_time": "2023-05-01T10:51:40.031Z"
      },
      {
        "duration": 483,
        "start_time": "2023-05-02T08:42:23.852Z"
      },
      {
        "duration": 483,
        "start_time": "2023-05-02T08:42:31.486Z"
      },
      {
        "duration": 1293,
        "start_time": "2023-05-02T08:42:31.971Z"
      },
      {
        "duration": 9,
        "start_time": "2023-05-02T08:42:33.267Z"
      },
      {
        "duration": 1038,
        "start_time": "2023-05-02T08:43:15.118Z"
      },
      {
        "duration": 4,
        "start_time": "2023-05-02T08:43:23.113Z"
      },
      {
        "duration": 112,
        "start_time": "2023-05-02T08:45:25.713Z"
      },
      {
        "duration": 3,
        "start_time": "2023-05-02T08:45:33.636Z"
      },
      {
        "duration": 134,
        "start_time": "2023-05-02T08:45:46.084Z"
      },
      {
        "duration": 5,
        "start_time": "2023-05-02T08:46:17.428Z"
      },
      {
        "duration": 18,
        "start_time": "2023-05-02T08:46:58.085Z"
      },
      {
        "duration": 15,
        "start_time": "2023-05-02T08:49:47.833Z"
      },
      {
        "duration": 72,
        "start_time": "2023-05-02T08:58:56.270Z"
      },
      {
        "duration": 7,
        "start_time": "2023-05-02T08:58:59.419Z"
      },
      {
        "duration": 8,
        "start_time": "2023-05-02T08:59:01.214Z"
      },
      {
        "duration": 9,
        "start_time": "2023-05-02T08:59:07.120Z"
      },
      {
        "duration": 8,
        "start_time": "2023-05-02T08:59:15.323Z"
      },
      {
        "duration": 3,
        "start_time": "2023-05-02T08:59:56.583Z"
      },
      {
        "duration": 8,
        "start_time": "2023-05-02T09:00:07.923Z"
      },
      {
        "duration": 4,
        "start_time": "2023-05-02T09:00:11.830Z"
      },
      {
        "duration": 5,
        "start_time": "2023-05-02T09:00:33.608Z"
      },
      {
        "duration": 121,
        "start_time": "2023-05-02T09:02:22.153Z"
      },
      {
        "duration": 116,
        "start_time": "2023-05-02T09:02:36.785Z"
      },
      {
        "duration": 54,
        "start_time": "2023-05-02T09:02:40.814Z"
      },
      {
        "duration": 117,
        "start_time": "2023-05-02T09:02:43.830Z"
      },
      {
        "duration": 109,
        "start_time": "2023-05-02T09:02:53.541Z"
      },
      {
        "duration": 109,
        "start_time": "2023-05-02T09:03:18.540Z"
      },
      {
        "duration": 6,
        "start_time": "2023-05-02T09:09:58.377Z"
      },
      {
        "duration": 8,
        "start_time": "2023-05-02T09:10:03.756Z"
      },
      {
        "duration": 8,
        "start_time": "2023-05-02T09:10:14.565Z"
      },
      {
        "duration": 8,
        "start_time": "2023-05-02T09:10:34.054Z"
      },
      {
        "duration": 24,
        "start_time": "2023-05-02T09:10:38.437Z"
      },
      {
        "duration": 9,
        "start_time": "2023-05-02T09:11:25.918Z"
      },
      {
        "duration": 21,
        "start_time": "2023-05-02T09:14:13.748Z"
      },
      {
        "duration": 29,
        "start_time": "2023-05-02T09:15:14.325Z"
      },
      {
        "duration": 58,
        "start_time": "2023-05-02T09:18:11.708Z"
      },
      {
        "duration": 39,
        "start_time": "2023-05-02T09:18:15.053Z"
      },
      {
        "duration": 5,
        "start_time": "2023-05-02T09:18:26.322Z"
      },
      {
        "duration": 7,
        "start_time": "2023-05-02T09:18:42.330Z"
      },
      {
        "duration": 7,
        "start_time": "2023-05-02T09:18:57.627Z"
      },
      {
        "duration": 9,
        "start_time": "2023-05-02T09:19:10.843Z"
      },
      {
        "duration": 25,
        "start_time": "2023-05-02T09:19:16.690Z"
      },
      {
        "duration": 7,
        "start_time": "2023-05-02T09:19:30.156Z"
      },
      {
        "duration": 11,
        "start_time": "2023-05-02T09:19:40.462Z"
      },
      {
        "duration": 7,
        "start_time": "2023-05-02T09:20:15.742Z"
      },
      {
        "duration": 8,
        "start_time": "2023-05-02T09:20:22.238Z"
      },
      {
        "duration": 43,
        "start_time": "2023-05-02T09:20:32.748Z"
      },
      {
        "duration": 8,
        "start_time": "2023-05-02T09:20:36.641Z"
      },
      {
        "duration": 9,
        "start_time": "2023-05-02T09:20:46.861Z"
      },
      {
        "duration": 9,
        "start_time": "2023-05-02T09:21:54.920Z"
      },
      {
        "duration": 8,
        "start_time": "2023-05-02T09:22:15.655Z"
      },
      {
        "duration": 7,
        "start_time": "2023-05-02T09:22:32.091Z"
      },
      {
        "duration": 6,
        "start_time": "2023-05-02T09:22:42.016Z"
      },
      {
        "duration": 6,
        "start_time": "2023-05-02T09:22:44.755Z"
      },
      {
        "duration": 10,
        "start_time": "2023-05-02T09:22:54.786Z"
      },
      {
        "duration": 56,
        "start_time": "2023-05-02T09:23:17.947Z"
      },
      {
        "duration": 4,
        "start_time": "2023-05-02T09:23:21.241Z"
      },
      {
        "duration": 13,
        "start_time": "2023-05-02T09:23:25.840Z"
      },
      {
        "duration": 10,
        "start_time": "2023-05-02T09:23:37.915Z"
      },
      {
        "duration": 6,
        "start_time": "2023-05-02T09:23:41.919Z"
      },
      {
        "duration": 6,
        "start_time": "2023-05-02T09:23:45.328Z"
      },
      {
        "duration": 9,
        "start_time": "2023-05-02T09:24:34.518Z"
      },
      {
        "duration": 8,
        "start_time": "2023-05-02T09:24:38.456Z"
      },
      {
        "duration": 8,
        "start_time": "2023-05-02T09:25:36.241Z"
      },
      {
        "duration": 171,
        "start_time": "2023-05-02T09:25:41.387Z"
      },
      {
        "duration": 153,
        "start_time": "2023-05-02T09:25:54.137Z"
      },
      {
        "duration": 7,
        "start_time": "2023-05-02T09:26:19.117Z"
      },
      {
        "duration": 3,
        "start_time": "2023-05-02T09:26:31.931Z"
      },
      {
        "duration": 7,
        "start_time": "2023-05-02T09:26:35.783Z"
      },
      {
        "duration": 22,
        "start_time": "2023-05-02T09:27:20.853Z"
      },
      {
        "duration": 8,
        "start_time": "2023-05-02T09:27:39.916Z"
      },
      {
        "duration": 9,
        "start_time": "2023-05-02T09:27:52.023Z"
      },
      {
        "duration": 9,
        "start_time": "2023-05-02T09:28:05.434Z"
      },
      {
        "duration": 10,
        "start_time": "2023-05-02T09:28:11.416Z"
      },
      {
        "duration": 7,
        "start_time": "2023-05-02T09:28:16.783Z"
      },
      {
        "duration": 693,
        "start_time": "2023-05-02T09:32:21.957Z"
      },
      {
        "duration": 197,
        "start_time": "2023-05-02T09:36:10.923Z"
      },
      {
        "duration": 154,
        "start_time": "2023-05-02T09:37:12.917Z"
      },
      {
        "duration": 3,
        "start_time": "2023-05-02T09:37:19.618Z"
      },
      {
        "duration": 3,
        "start_time": "2023-05-02T09:37:56.081Z"
      },
      {
        "duration": 218,
        "start_time": "2023-05-02T09:38:00.232Z"
      },
      {
        "duration": 230,
        "start_time": "2023-05-02T09:39:01.929Z"
      },
      {
        "duration": 182,
        "start_time": "2023-05-02T09:39:30.642Z"
      },
      {
        "duration": 199,
        "start_time": "2023-05-02T09:39:38.628Z"
      },
      {
        "duration": 170,
        "start_time": "2023-05-02T09:40:34.319Z"
      },
      {
        "duration": 228,
        "start_time": "2023-05-02T09:40:40.233Z"
      },
      {
        "duration": 8,
        "start_time": "2023-05-02T09:40:47.763Z"
      },
      {
        "duration": 166,
        "start_time": "2023-05-02T09:40:52.613Z"
      },
      {
        "duration": 171,
        "start_time": "2023-05-02T09:41:01.665Z"
      },
      {
        "duration": 236,
        "start_time": "2023-05-02T09:41:56.565Z"
      },
      {
        "duration": 148,
        "start_time": "2023-05-02T09:43:26.007Z"
      },
      {
        "duration": 142,
        "start_time": "2023-05-02T09:44:00.805Z"
      },
      {
        "duration": 190,
        "start_time": "2023-05-02T09:49:54.520Z"
      },
      {
        "duration": 274,
        "start_time": "2023-05-02T09:50:25.013Z"
      },
      {
        "duration": 201,
        "start_time": "2023-05-02T09:50:27.950Z"
      },
      {
        "duration": 233,
        "start_time": "2023-05-02T09:52:33.818Z"
      },
      {
        "duration": 187,
        "start_time": "2023-05-02T09:52:38.717Z"
      },
      {
        "duration": 251,
        "start_time": "2023-05-02T09:52:42.238Z"
      },
      {
        "duration": 246,
        "start_time": "2023-05-02T09:52:47.058Z"
      },
      {
        "duration": 278,
        "start_time": "2023-05-02T09:52:51.117Z"
      },
      {
        "duration": 357,
        "start_time": "2023-05-02T09:52:54.613Z"
      },
      {
        "duration": 299,
        "start_time": "2023-05-02T09:52:59.505Z"
      },
      {
        "duration": 139,
        "start_time": "2023-05-02T09:53:08.485Z"
      },
      {
        "duration": 314,
        "start_time": "2023-05-02T09:53:17.917Z"
      },
      {
        "duration": 426,
        "start_time": "2023-05-02T09:53:39.518Z"
      },
      {
        "duration": 324,
        "start_time": "2023-05-02T09:53:44.344Z"
      },
      {
        "duration": 431,
        "start_time": "2023-05-02T09:53:54.713Z"
      },
      {
        "duration": 830,
        "start_time": "2023-05-02T09:54:00.700Z"
      },
      {
        "duration": 548,
        "start_time": "2023-05-02T09:54:11.462Z"
      },
      {
        "duration": 396,
        "start_time": "2023-05-02T09:54:15.096Z"
      },
      {
        "duration": 429,
        "start_time": "2023-05-02T09:54:54.524Z"
      },
      {
        "duration": 257,
        "start_time": "2023-05-02T09:54:58.338Z"
      },
      {
        "duration": 339,
        "start_time": "2023-05-02T09:55:49.218Z"
      },
      {
        "duration": 346,
        "start_time": "2023-05-02T09:55:53.113Z"
      },
      {
        "duration": 273,
        "start_time": "2023-05-02T09:55:58.205Z"
      },
      {
        "duration": 280,
        "start_time": "2023-05-02T09:56:01.836Z"
      },
      {
        "duration": 802,
        "start_time": "2023-05-02T09:56:06.917Z"
      },
      {
        "duration": 936,
        "start_time": "2023-05-02T09:56:13.401Z"
      },
      {
        "duration": 897,
        "start_time": "2023-05-02T09:56:19.005Z"
      },
      {
        "duration": 760,
        "start_time": "2023-05-02T09:56:27.530Z"
      },
      {
        "duration": 297,
        "start_time": "2023-05-02T09:56:56.528Z"
      },
      {
        "duration": 404,
        "start_time": "2023-05-02T09:57:00.594Z"
      },
      {
        "duration": 1786,
        "start_time": "2023-05-02T09:57:10.427Z"
      },
      {
        "duration": 1715,
        "start_time": "2023-05-02T09:57:18.899Z"
      },
      {
        "duration": 408,
        "start_time": "2023-05-02T09:57:23.527Z"
      },
      {
        "duration": 515,
        "start_time": "2023-05-02T09:57:27.627Z"
      },
      {
        "duration": 908,
        "start_time": "2023-05-02T09:57:31.225Z"
      },
      {
        "duration": 753,
        "start_time": "2023-05-02T09:57:34.041Z"
      },
      {
        "duration": 1389,
        "start_time": "2023-05-02T09:57:36.506Z"
      },
      {
        "duration": 986,
        "start_time": "2023-05-02T09:57:48.057Z"
      },
      {
        "duration": 1209,
        "start_time": "2023-05-02T09:57:51.987Z"
      },
      {
        "duration": 274,
        "start_time": "2023-05-02T09:57:57.812Z"
      },
      {
        "duration": 512,
        "start_time": "2023-05-02T09:58:03.363Z"
      },
      {
        "duration": 1080,
        "start_time": "2023-05-02T09:58:11.747Z"
      },
      {
        "duration": 1146,
        "start_time": "2023-05-02T09:58:22.646Z"
      },
      {
        "duration": 264,
        "start_time": "2023-05-02T09:58:26.017Z"
      },
      {
        "duration": 173,
        "start_time": "2023-05-02T09:58:40.644Z"
      },
      {
        "duration": 173,
        "start_time": "2023-05-02T09:58:45.363Z"
      },
      {
        "duration": 345,
        "start_time": "2023-05-02T09:58:50.505Z"
      },
      {
        "duration": 1668,
        "start_time": "2023-05-02T09:59:00.327Z"
      },
      {
        "duration": 1619,
        "start_time": "2023-05-02T09:59:09.940Z"
      },
      {
        "duration": 422,
        "start_time": "2023-05-02T09:59:15.220Z"
      },
      {
        "duration": 567,
        "start_time": "2023-05-02T09:59:21.505Z"
      },
      {
        "duration": 534,
        "start_time": "2023-05-02T09:59:29.765Z"
      },
      {
        "duration": 698,
        "start_time": "2023-05-02T10:00:19.660Z"
      },
      {
        "duration": 521,
        "start_time": "2023-05-02T10:00:35.953Z"
      },
      {
        "duration": 132,
        "start_time": "2023-05-02T10:00:59.560Z"
      },
      {
        "duration": 199,
        "start_time": "2023-05-02T10:01:08.025Z"
      },
      {
        "duration": 3,
        "start_time": "2023-05-02T10:01:36.749Z"
      },
      {
        "duration": 111,
        "start_time": "2023-05-02T10:01:42.088Z"
      },
      {
        "duration": 117,
        "start_time": "2023-05-02T10:02:06.433Z"
      },
      {
        "duration": 138,
        "start_time": "2023-05-02T10:02:11.624Z"
      },
      {
        "duration": 117,
        "start_time": "2023-05-02T10:02:20.929Z"
      },
      {
        "duration": 121,
        "start_time": "2023-05-02T10:02:31.353Z"
      },
      {
        "duration": 143,
        "start_time": "2023-05-02T10:09:20.500Z"
      },
      {
        "duration": 143,
        "start_time": "2023-05-02T10:09:27.821Z"
      },
      {
        "duration": 185,
        "start_time": "2023-05-02T10:09:31.938Z"
      },
      {
        "duration": 146,
        "start_time": "2023-05-02T10:09:37.701Z"
      },
      {
        "duration": 160,
        "start_time": "2023-05-02T10:09:41.860Z"
      },
      {
        "duration": 167,
        "start_time": "2023-05-02T10:09:56.865Z"
      },
      {
        "duration": 7,
        "start_time": "2023-05-02T10:10:44.119Z"
      },
      {
        "duration": 171,
        "start_time": "2023-05-02T10:11:01.996Z"
      },
      {
        "duration": 5,
        "start_time": "2023-05-02T10:29:55.689Z"
      },
      {
        "duration": 5,
        "start_time": "2023-05-02T10:30:18.806Z"
      },
      {
        "duration": 4,
        "start_time": "2023-05-02T10:30:28.226Z"
      },
      {
        "duration": 4,
        "start_time": "2023-05-02T10:30:37.433Z"
      },
      {
        "duration": 67,
        "start_time": "2023-05-02T10:31:59.059Z"
      },
      {
        "duration": 13,
        "start_time": "2023-05-02T10:32:12.305Z"
      },
      {
        "duration": 12,
        "start_time": "2023-05-02T10:32:20.046Z"
      },
      {
        "duration": 11,
        "start_time": "2023-05-02T10:32:31.446Z"
      },
      {
        "duration": 11,
        "start_time": "2023-05-02T10:32:47.729Z"
      },
      {
        "duration": 11,
        "start_time": "2023-05-02T10:32:58.145Z"
      },
      {
        "duration": 41,
        "start_time": "2023-05-02T10:33:55.463Z"
      },
      {
        "duration": 8,
        "start_time": "2023-05-02T10:35:34.684Z"
      },
      {
        "duration": 13,
        "start_time": "2023-05-02T10:35:55.806Z"
      },
      {
        "duration": 4,
        "start_time": "2023-05-02T10:40:50.110Z"
      },
      {
        "duration": 3,
        "start_time": "2023-05-02T10:40:54.842Z"
      },
      {
        "duration": 5,
        "start_time": "2023-05-02T10:41:05.508Z"
      },
      {
        "duration": 5,
        "start_time": "2023-05-02T10:41:12.605Z"
      },
      {
        "duration": 9,
        "start_time": "2023-05-02T10:41:17.911Z"
      },
      {
        "duration": 7,
        "start_time": "2023-05-02T10:42:52.784Z"
      },
      {
        "duration": 8,
        "start_time": "2023-05-02T10:43:10.215Z"
      },
      {
        "duration": 13,
        "start_time": "2023-05-02T10:43:16.549Z"
      },
      {
        "duration": 12,
        "start_time": "2023-05-02T10:43:25.955Z"
      },
      {
        "duration": 5,
        "start_time": "2023-05-02T10:47:07.462Z"
      },
      {
        "duration": 13,
        "start_time": "2023-05-02T10:47:13.829Z"
      },
      {
        "duration": 13,
        "start_time": "2023-05-02T10:48:11.048Z"
      },
      {
        "duration": 66,
        "start_time": "2023-05-02T10:48:57.537Z"
      },
      {
        "duration": 55,
        "start_time": "2023-05-02T10:49:23.841Z"
      },
      {
        "duration": 109,
        "start_time": "2023-05-02T10:49:26.634Z"
      },
      {
        "duration": 9,
        "start_time": "2023-05-02T10:49:30.949Z"
      },
      {
        "duration": 5,
        "start_time": "2023-05-02T10:49:33.662Z"
      },
      {
        "duration": 49,
        "start_time": "2023-05-02T10:50:27.152Z"
      },
      {
        "duration": 6,
        "start_time": "2023-05-02T10:50:58.933Z"
      },
      {
        "duration": 72,
        "start_time": "2023-05-02T10:51:20.541Z"
      },
      {
        "duration": 58,
        "start_time": "2023-05-02T10:53:22.757Z"
      },
      {
        "duration": 34,
        "start_time": "2023-05-02T10:54:22.033Z"
      },
      {
        "duration": 39,
        "start_time": "2023-05-02T10:54:55.111Z"
      },
      {
        "duration": 33,
        "start_time": "2023-05-02T10:54:58.353Z"
      },
      {
        "duration": 35,
        "start_time": "2023-05-02T10:55:09.641Z"
      },
      {
        "duration": 35,
        "start_time": "2023-05-02T10:55:27.700Z"
      },
      {
        "duration": 43,
        "start_time": "2023-05-02T10:55:56.783Z"
      },
      {
        "duration": 34,
        "start_time": "2023-05-02T11:00:34.315Z"
      },
      {
        "duration": 1307,
        "start_time": "2023-05-02T11:03:01.636Z"
      },
      {
        "duration": 971,
        "start_time": "2023-05-02T11:03:02.946Z"
      },
      {
        "duration": 6,
        "start_time": "2023-05-02T11:03:03.920Z"
      },
      {
        "duration": 138,
        "start_time": "2023-05-02T11:03:03.927Z"
      },
      {
        "duration": 23,
        "start_time": "2023-05-02T11:03:04.068Z"
      },
      {
        "duration": 47,
        "start_time": "2023-05-02T11:03:04.093Z"
      },
      {
        "duration": 17,
        "start_time": "2023-05-02T11:03:04.142Z"
      },
      {
        "duration": 125,
        "start_time": "2023-05-02T11:03:04.161Z"
      },
      {
        "duration": 23,
        "start_time": "2023-05-02T11:03:04.288Z"
      },
      {
        "duration": 31,
        "start_time": "2023-05-02T11:03:04.313Z"
      },
      {
        "duration": 190,
        "start_time": "2023-05-02T11:03:04.346Z"
      },
      {
        "duration": 17,
        "start_time": "2023-05-02T11:03:04.538Z"
      },
      {
        "duration": 87,
        "start_time": "2023-05-02T11:03:04.557Z"
      },
      {
        "duration": 50,
        "start_time": "2023-05-02T11:03:04.647Z"
      },
      {
        "duration": 44,
        "start_time": "2023-05-02T11:03:25.141Z"
      },
      {
        "duration": 50,
        "start_time": "2023-05-02T11:03:35.303Z"
      },
      {
        "duration": 64,
        "start_time": "2023-05-02T11:03:57.730Z"
      },
      {
        "duration": 36,
        "start_time": "2023-05-02T11:06:38.934Z"
      },
      {
        "duration": 51,
        "start_time": "2023-05-02T11:06:49.048Z"
      },
      {
        "duration": 3,
        "start_time": "2023-05-02T11:07:08.846Z"
      },
      {
        "duration": 48,
        "start_time": "2023-05-02T11:07:17.022Z"
      },
      {
        "duration": 52,
        "start_time": "2023-05-02T11:07:35.606Z"
      },
      {
        "duration": 56,
        "start_time": "2023-05-02T11:08:12.877Z"
      },
      {
        "duration": 4,
        "start_time": "2023-05-02T11:08:27.471Z"
      },
      {
        "duration": 56,
        "start_time": "2023-05-02T11:08:37.918Z"
      },
      {
        "duration": 55,
        "start_time": "2023-05-02T11:08:50.655Z"
      },
      {
        "duration": 34,
        "start_time": "2023-05-02T11:09:43.379Z"
      },
      {
        "duration": 33,
        "start_time": "2023-05-02T11:10:13.009Z"
      },
      {
        "duration": 49,
        "start_time": "2023-05-02T11:10:24.738Z"
      },
      {
        "duration": 55,
        "start_time": "2023-05-02T11:10:33.557Z"
      },
      {
        "duration": 34,
        "start_time": "2023-05-02T11:10:41.209Z"
      },
      {
        "duration": 35,
        "start_time": "2023-05-02T11:10:46.020Z"
      },
      {
        "duration": 65,
        "start_time": "2023-05-02T11:12:23.973Z"
      },
      {
        "duration": 206,
        "start_time": "2023-05-02T11:12:29.254Z"
      },
      {
        "duration": 197,
        "start_time": "2023-05-02T11:12:38.242Z"
      },
      {
        "duration": 223,
        "start_time": "2023-05-02T11:12:51.949Z"
      },
      {
        "duration": 227,
        "start_time": "2023-05-02T11:12:56.305Z"
      },
      {
        "duration": 216,
        "start_time": "2023-05-02T11:16:16.310Z"
      },
      {
        "duration": 220,
        "start_time": "2023-05-02T11:16:24.036Z"
      },
      {
        "duration": 234,
        "start_time": "2023-05-02T11:16:28.011Z"
      },
      {
        "duration": 326,
        "start_time": "2023-05-02T11:16:38.809Z"
      },
      {
        "duration": 228,
        "start_time": "2023-05-02T11:16:42.961Z"
      },
      {
        "duration": 246,
        "start_time": "2023-05-02T11:16:46.235Z"
      },
      {
        "duration": 35,
        "start_time": "2023-05-02T11:17:22.411Z"
      },
      {
        "duration": 170,
        "start_time": "2023-05-02T11:18:24.064Z"
      },
      {
        "duration": 73,
        "start_time": "2023-05-02T11:18:29.608Z"
      },
      {
        "duration": 73,
        "start_time": "2023-05-02T11:18:35.285Z"
      },
      {
        "duration": 242,
        "start_time": "2023-05-02T11:18:38.965Z"
      },
      {
        "duration": 67,
        "start_time": "2023-05-02T11:19:04.635Z"
      },
      {
        "duration": 43,
        "start_time": "2023-05-02T11:19:16.782Z"
      },
      {
        "duration": 58,
        "start_time": "2023-05-02T11:19:46.306Z"
      },
      {
        "duration": 71,
        "start_time": "2023-05-02T11:19:48.910Z"
      },
      {
        "duration": 78,
        "start_time": "2023-05-02T11:22:25.137Z"
      },
      {
        "duration": 82,
        "start_time": "2023-05-02T11:22:33.015Z"
      },
      {
        "duration": 223,
        "start_time": "2023-05-02T11:22:55.160Z"
      },
      {
        "duration": 77,
        "start_time": "2023-05-02T11:23:12.958Z"
      },
      {
        "duration": 216,
        "start_time": "2023-05-02T11:23:38.723Z"
      },
      {
        "duration": 221,
        "start_time": "2023-05-02T11:23:44.921Z"
      },
      {
        "duration": 77,
        "start_time": "2023-05-02T11:23:53.556Z"
      },
      {
        "duration": 75,
        "start_time": "2023-05-02T11:29:23.279Z"
      },
      {
        "duration": 82,
        "start_time": "2023-05-02T11:29:30.118Z"
      },
      {
        "duration": 74,
        "start_time": "2023-05-02T11:29:56.214Z"
      },
      {
        "duration": 824,
        "start_time": "2023-05-02T11:30:05.923Z"
      },
      {
        "duration": 10,
        "start_time": "2023-05-02T11:30:14.719Z"
      },
      {
        "duration": 5,
        "start_time": "2023-05-02T11:30:17.718Z"
      },
      {
        "duration": 12,
        "start_time": "2023-05-02T11:30:28.146Z"
      },
      {
        "duration": 5,
        "start_time": "2023-05-02T11:30:29.845Z"
      },
      {
        "duration": 4,
        "start_time": "2023-05-02T11:30:42.617Z"
      },
      {
        "duration": 5,
        "start_time": "2023-05-02T11:30:46.176Z"
      },
      {
        "duration": 78,
        "start_time": "2023-05-02T11:33:04.705Z"
      },
      {
        "duration": 12,
        "start_time": "2023-05-02T11:33:08.425Z"
      },
      {
        "duration": 11,
        "start_time": "2023-05-02T11:33:19.904Z"
      },
      {
        "duration": 36,
        "start_time": "2023-05-02T11:33:41.171Z"
      },
      {
        "duration": 12,
        "start_time": "2023-05-02T11:34:40.658Z"
      },
      {
        "duration": 13,
        "start_time": "2023-05-02T11:34:48.056Z"
      },
      {
        "duration": 22,
        "start_time": "2023-05-02T11:35:57.983Z"
      },
      {
        "duration": 13,
        "start_time": "2023-05-02T11:36:05.142Z"
      },
      {
        "duration": 17,
        "start_time": "2023-05-02T11:36:13.765Z"
      },
      {
        "duration": 16,
        "start_time": "2023-05-02T11:36:22.166Z"
      },
      {
        "duration": 19,
        "start_time": "2023-05-02T11:36:32.533Z"
      },
      {
        "duration": 25,
        "start_time": "2023-05-02T11:36:37.757Z"
      },
      {
        "duration": 22,
        "start_time": "2023-05-02T11:36:41.313Z"
      },
      {
        "duration": 14,
        "start_time": "2023-05-02T11:36:46.116Z"
      },
      {
        "duration": 5,
        "start_time": "2023-05-02T11:37:20.453Z"
      },
      {
        "duration": 48,
        "start_time": "2023-05-02T11:37:22.337Z"
      },
      {
        "duration": 38,
        "start_time": "2023-05-02T11:37:43.776Z"
      },
      {
        "duration": 39,
        "start_time": "2023-05-02T11:38:05.175Z"
      },
      {
        "duration": 37,
        "start_time": "2023-05-02T11:38:12.569Z"
      },
      {
        "duration": 42,
        "start_time": "2023-05-02T11:38:20.912Z"
      },
      {
        "duration": 35,
        "start_time": "2023-05-02T11:39:13.955Z"
      },
      {
        "duration": 1217,
        "start_time": "2023-05-02T11:39:18.519Z"
      },
      {
        "duration": 1357,
        "start_time": "2023-05-02T11:39:19.738Z"
      },
      {
        "duration": 4,
        "start_time": "2023-05-02T11:39:21.097Z"
      },
      {
        "duration": 291,
        "start_time": "2023-05-02T11:39:21.103Z"
      },
      {
        "duration": 17,
        "start_time": "2023-05-02T11:39:21.396Z"
      },
      {
        "duration": 7,
        "start_time": "2023-05-02T11:39:21.415Z"
      },
      {
        "duration": 6,
        "start_time": "2023-05-02T11:39:21.424Z"
      },
      {
        "duration": 276,
        "start_time": "2023-05-02T11:39:21.431Z"
      },
      {
        "duration": 21,
        "start_time": "2023-05-02T11:39:21.710Z"
      },
      {
        "duration": 58,
        "start_time": "2023-05-02T11:39:21.733Z"
      },
      {
        "duration": 427,
        "start_time": "2023-05-02T11:39:21.793Z"
      },
      {
        "duration": 67,
        "start_time": "2023-05-02T11:39:22.222Z"
      },
      {
        "duration": 123,
        "start_time": "2023-05-02T11:39:22.291Z"
      },
      {
        "duration": 88,
        "start_time": "2023-05-02T11:39:22.415Z"
      },
      {
        "duration": 37,
        "start_time": "2023-05-02T11:39:22.505Z"
      },
      {
        "duration": 35,
        "start_time": "2023-05-02T11:39:30.461Z"
      },
      {
        "duration": 105,
        "start_time": "2023-05-02T11:39:37.673Z"
      },
      {
        "duration": 6,
        "start_time": "2023-05-02T11:39:40.063Z"
      },
      {
        "duration": 5,
        "start_time": "2023-05-02T11:39:48.674Z"
      },
      {
        "duration": 4,
        "start_time": "2023-05-02T11:39:55.635Z"
      },
      {
        "duration": 5,
        "start_time": "2023-05-02T11:40:00.807Z"
      },
      {
        "duration": 39,
        "start_time": "2023-05-02T11:40:22.211Z"
      },
      {
        "duration": 176,
        "start_time": "2023-05-02T11:40:26.430Z"
      },
      {
        "duration": 160,
        "start_time": "2023-05-02T11:40:48.442Z"
      },
      {
        "duration": 37,
        "start_time": "2023-05-02T11:41:05.941Z"
      },
      {
        "duration": 37,
        "start_time": "2023-05-02T11:41:36.794Z"
      },
      {
        "duration": 47,
        "start_time": "2023-05-02T11:43:41.706Z"
      },
      {
        "duration": 40,
        "start_time": "2023-05-02T11:44:04.918Z"
      },
      {
        "duration": 5,
        "start_time": "2023-05-02T11:44:13.003Z"
      },
      {
        "duration": 4,
        "start_time": "2023-05-02T11:44:21.842Z"
      },
      {
        "duration": 5,
        "start_time": "2023-05-02T11:44:26.944Z"
      },
      {
        "duration": 147,
        "start_time": "2023-05-02T11:46:18.153Z"
      },
      {
        "duration": 35,
        "start_time": "2023-05-02T11:46:29.554Z"
      },
      {
        "duration": 35,
        "start_time": "2023-05-02T11:46:38.304Z"
      },
      {
        "duration": 77,
        "start_time": "2023-05-02T11:46:48.113Z"
      },
      {
        "duration": 5,
        "start_time": "2023-05-02T11:46:53.105Z"
      },
      {
        "duration": 65,
        "start_time": "2023-05-02T11:58:50.010Z"
      },
      {
        "duration": 68,
        "start_time": "2023-05-02T11:58:56.932Z"
      },
      {
        "duration": 58,
        "start_time": "2023-05-02T11:59:35.576Z"
      },
      {
        "duration": 70,
        "start_time": "2023-05-02T11:59:40.610Z"
      },
      {
        "duration": 69,
        "start_time": "2023-05-02T11:59:52.478Z"
      },
      {
        "duration": 72,
        "start_time": "2023-05-02T12:00:17.736Z"
      },
      {
        "duration": 5,
        "start_time": "2023-05-02T12:00:37.136Z"
      },
      {
        "duration": 6,
        "start_time": "2023-05-02T12:00:48.058Z"
      },
      {
        "duration": 163,
        "start_time": "2023-05-02T12:01:03.330Z"
      },
      {
        "duration": 3640,
        "start_time": "2023-05-02T12:01:39.163Z"
      },
      {
        "duration": 3856,
        "start_time": "2023-05-02T12:01:48.810Z"
      },
      {
        "duration": 3758,
        "start_time": "2023-05-02T12:02:10.198Z"
      },
      {
        "duration": 3561,
        "start_time": "2023-05-02T12:02:19.921Z"
      },
      {
        "duration": 53,
        "start_time": "2023-05-02T12:02:36.013Z"
      },
      {
        "duration": 147,
        "start_time": "2023-05-02T12:02:45.617Z"
      },
      {
        "duration": 6,
        "start_time": "2023-05-02T12:02:51.426Z"
      },
      {
        "duration": 12,
        "start_time": "2023-05-02T12:03:15.914Z"
      },
      {
        "duration": 120,
        "start_time": "2023-05-02T12:03:35.922Z"
      },
      {
        "duration": 343,
        "start_time": "2023-05-02T12:03:55.974Z"
      },
      {
        "duration": 140,
        "start_time": "2023-05-02T12:04:07.618Z"
      },
      {
        "duration": 137,
        "start_time": "2023-05-02T12:04:14.612Z"
      },
      {
        "duration": 307,
        "start_time": "2023-05-02T12:04:48.078Z"
      },
      {
        "duration": 59,
        "start_time": "2023-05-02T12:05:03.522Z"
      },
      {
        "duration": 338,
        "start_time": "2023-05-02T12:05:05.978Z"
      },
      {
        "duration": 335,
        "start_time": "2023-05-02T12:05:09.382Z"
      },
      {
        "duration": 327,
        "start_time": "2023-05-02T12:05:17.237Z"
      },
      {
        "duration": 318,
        "start_time": "2023-05-02T12:05:23.939Z"
      },
      {
        "duration": 340,
        "start_time": "2023-05-02T12:05:32.075Z"
      },
      {
        "duration": 486,
        "start_time": "2023-05-02T12:05:36.012Z"
      },
      {
        "duration": 353,
        "start_time": "2023-05-02T12:06:20.280Z"
      },
      {
        "duration": 5,
        "start_time": "2023-05-02T12:08:27.011Z"
      },
      {
        "duration": 12,
        "start_time": "2023-05-02T12:09:10.210Z"
      },
      {
        "duration": 11,
        "start_time": "2023-05-02T12:09:18.530Z"
      },
      {
        "duration": 8,
        "start_time": "2023-05-02T12:09:46.361Z"
      },
      {
        "duration": 5,
        "start_time": "2023-05-02T12:09:51.062Z"
      },
      {
        "duration": 4,
        "start_time": "2023-05-02T12:09:57.380Z"
      },
      {
        "duration": 4,
        "start_time": "2023-05-02T12:10:04.858Z"
      },
      {
        "duration": 5,
        "start_time": "2023-05-02T12:10:07.510Z"
      },
      {
        "duration": 5,
        "start_time": "2023-05-02T12:10:13.655Z"
      },
      {
        "duration": 21,
        "start_time": "2023-05-02T12:10:24.961Z"
      },
      {
        "duration": 19,
        "start_time": "2023-05-02T12:10:25.179Z"
      },
      {
        "duration": 6,
        "start_time": "2023-05-02T12:10:37.719Z"
      },
      {
        "duration": 5,
        "start_time": "2023-05-02T12:10:44.922Z"
      },
      {
        "duration": 5,
        "start_time": "2023-05-02T12:10:51.916Z"
      },
      {
        "duration": 5,
        "start_time": "2023-05-02T12:11:14.558Z"
      },
      {
        "duration": 3,
        "start_time": "2023-05-02T12:12:05.865Z"
      },
      {
        "duration": 12,
        "start_time": "2023-05-02T12:12:14.859Z"
      },
      {
        "duration": 5,
        "start_time": "2023-05-02T12:12:23.736Z"
      },
      {
        "duration": 4,
        "start_time": "2023-05-02T12:12:42.122Z"
      },
      {
        "duration": 4,
        "start_time": "2023-05-02T12:12:45.631Z"
      },
      {
        "duration": 5,
        "start_time": "2023-05-02T12:13:08.913Z"
      },
      {
        "duration": 14,
        "start_time": "2023-05-02T12:13:45.514Z"
      },
      {
        "duration": 4,
        "start_time": "2023-05-02T12:14:13.943Z"
      },
      {
        "duration": 6,
        "start_time": "2023-05-02T12:14:16.372Z"
      },
      {
        "duration": 3,
        "start_time": "2023-05-02T12:14:31.940Z"
      },
      {
        "duration": 7,
        "start_time": "2023-05-02T12:14:34.018Z"
      },
      {
        "duration": 6,
        "start_time": "2023-05-02T12:14:40.253Z"
      },
      {
        "duration": 349,
        "start_time": "2023-05-02T12:14:49.344Z"
      },
      {
        "duration": 8,
        "start_time": "2023-05-02T12:16:37.692Z"
      },
      {
        "duration": 5,
        "start_time": "2023-05-02T12:16:44.481Z"
      },
      {
        "duration": 5,
        "start_time": "2023-05-02T12:16:51.278Z"
      },
      {
        "duration": 47,
        "start_time": "2023-05-02T12:18:18.863Z"
      },
      {
        "duration": 275,
        "start_time": "2023-05-02T12:18:27.559Z"
      },
      {
        "duration": 42,
        "start_time": "2023-05-02T12:18:37.160Z"
      },
      {
        "duration": 79,
        "start_time": "2023-05-02T12:18:41.720Z"
      },
      {
        "duration": 67,
        "start_time": "2023-05-02T12:19:37.421Z"
      },
      {
        "duration": 5,
        "start_time": "2023-05-02T12:20:21.559Z"
      },
      {
        "duration": 4,
        "start_time": "2023-05-02T12:20:26.230Z"
      },
      {
        "duration": 68,
        "start_time": "2023-05-02T12:21:43.285Z"
      },
      {
        "duration": 76,
        "start_time": "2023-05-02T12:21:48.319Z"
      },
      {
        "duration": 68,
        "start_time": "2023-05-02T12:21:58.952Z"
      },
      {
        "duration": 68,
        "start_time": "2023-05-02T12:22:04.719Z"
      },
      {
        "duration": 402,
        "start_time": "2023-05-02T12:24:31.122Z"
      },
      {
        "duration": 85,
        "start_time": "2023-05-02T12:25:03.918Z"
      },
      {
        "duration": 362,
        "start_time": "2023-05-02T12:25:06.164Z"
      },
      {
        "duration": 88,
        "start_time": "2023-05-02T12:25:24.134Z"
      },
      {
        "duration": 341,
        "start_time": "2023-05-02T12:25:26.818Z"
      },
      {
        "duration": 340,
        "start_time": "2023-05-02T12:25:34.712Z"
      },
      {
        "duration": 341,
        "start_time": "2023-05-02T12:26:01.079Z"
      },
      {
        "duration": 5,
        "start_time": "2023-05-02T12:28:54.784Z"
      },
      {
        "duration": 6,
        "start_time": "2023-05-02T12:29:25.915Z"
      },
      {
        "duration": 4,
        "start_time": "2023-05-02T12:29:31.536Z"
      },
      {
        "duration": 5,
        "start_time": "2023-05-02T12:29:38.534Z"
      },
      {
        "duration": 5,
        "start_time": "2023-05-02T12:30:19.219Z"
      },
      {
        "duration": 4,
        "start_time": "2023-05-02T12:30:29.623Z"
      },
      {
        "duration": 4,
        "start_time": "2023-05-02T12:31:04.460Z"
      },
      {
        "duration": 5,
        "start_time": "2023-05-02T12:31:24.221Z"
      },
      {
        "duration": 5,
        "start_time": "2023-05-02T12:31:31.048Z"
      },
      {
        "duration": 5,
        "start_time": "2023-05-02T12:31:46.386Z"
      },
      {
        "duration": 5,
        "start_time": "2023-05-02T12:31:57.279Z"
      },
      {
        "duration": 5,
        "start_time": "2023-05-02T12:32:47.262Z"
      },
      {
        "duration": 542,
        "start_time": "2023-05-02T12:37:19.725Z"
      },
      {
        "duration": 391,
        "start_time": "2023-05-02T12:37:38.747Z"
      },
      {
        "duration": 450,
        "start_time": "2023-05-02T12:37:41.632Z"
      },
      {
        "duration": 369,
        "start_time": "2023-05-02T12:38:37.457Z"
      },
      {
        "duration": 1608,
        "start_time": "2023-05-03T08:34:11.287Z"
      },
      {
        "duration": 3146,
        "start_time": "2023-05-03T08:34:12.897Z"
      },
      {
        "duration": 6,
        "start_time": "2023-05-03T08:34:16.046Z"
      },
      {
        "duration": 197,
        "start_time": "2023-05-03T08:34:16.054Z"
      },
      {
        "duration": 24,
        "start_time": "2023-05-03T08:34:16.256Z"
      },
      {
        "duration": 28,
        "start_time": "2023-05-03T08:34:16.283Z"
      },
      {
        "duration": 49,
        "start_time": "2023-05-03T08:34:16.313Z"
      },
      {
        "duration": 153,
        "start_time": "2023-05-03T08:34:16.365Z"
      },
      {
        "duration": 44,
        "start_time": "2023-05-03T08:34:16.520Z"
      },
      {
        "duration": 49,
        "start_time": "2023-05-03T08:34:16.566Z"
      },
      {
        "duration": 237,
        "start_time": "2023-05-03T08:34:16.618Z"
      },
      {
        "duration": 16,
        "start_time": "2023-05-03T08:34:16.858Z"
      },
      {
        "duration": 107,
        "start_time": "2023-05-03T08:34:16.876Z"
      },
      {
        "duration": 87,
        "start_time": "2023-05-03T08:34:16.986Z"
      },
      {
        "duration": 394,
        "start_time": "2023-05-03T08:34:17.075Z"
      },
      {
        "duration": 8,
        "start_time": "2023-05-03T08:54:24.927Z"
      },
      {
        "duration": 1397,
        "start_time": "2023-05-03T08:54:35.289Z"
      },
      {
        "duration": 1165,
        "start_time": "2023-05-03T08:54:36.689Z"
      },
      {
        "duration": 5,
        "start_time": "2023-05-03T08:54:37.856Z"
      },
      {
        "duration": 323,
        "start_time": "2023-05-03T08:54:37.863Z"
      },
      {
        "duration": 28,
        "start_time": "2023-05-03T08:54:38.241Z"
      },
      {
        "duration": 5,
        "start_time": "2023-05-03T08:54:38.272Z"
      },
      {
        "duration": 65,
        "start_time": "2023-05-03T08:54:38.280Z"
      },
      {
        "duration": 231,
        "start_time": "2023-05-03T08:54:38.348Z"
      },
      {
        "duration": 77,
        "start_time": "2023-05-03T08:54:38.582Z"
      },
      {
        "duration": 17,
        "start_time": "2023-05-03T08:54:38.661Z"
      },
      {
        "duration": 568,
        "start_time": "2023-05-03T08:54:38.680Z"
      },
      {
        "duration": 18,
        "start_time": "2023-05-03T08:54:39.250Z"
      },
      {
        "duration": 198,
        "start_time": "2023-05-03T08:54:39.271Z"
      },
      {
        "duration": 188,
        "start_time": "2023-05-03T08:54:39.473Z"
      },
      {
        "duration": 412,
        "start_time": "2023-05-03T08:54:39.664Z"
      },
      {
        "duration": 24,
        "start_time": "2023-05-03T09:00:19.070Z"
      },
      {
        "duration": 7,
        "start_time": "2023-05-03T09:00:34.002Z"
      },
      {
        "duration": 28,
        "start_time": "2023-05-03T09:00:36.936Z"
      },
      {
        "duration": 165,
        "start_time": "2023-05-03T09:01:33.258Z"
      },
      {
        "duration": 134,
        "start_time": "2023-05-03T09:01:51.483Z"
      },
      {
        "duration": 163,
        "start_time": "2023-05-03T09:02:13.603Z"
      },
      {
        "duration": 4,
        "start_time": "2023-05-03T09:02:17.731Z"
      },
      {
        "duration": 61,
        "start_time": "2023-05-03T09:02:21.425Z"
      },
      {
        "duration": 106,
        "start_time": "2023-05-03T09:02:47.937Z"
      },
      {
        "duration": 33,
        "start_time": "2023-05-03T09:02:50.875Z"
      },
      {
        "duration": 70,
        "start_time": "2023-05-03T09:03:22.555Z"
      },
      {
        "duration": 145,
        "start_time": "2023-05-03T09:03:59.235Z"
      },
      {
        "duration": 82,
        "start_time": "2023-05-03T09:04:05.321Z"
      },
      {
        "duration": 572,
        "start_time": "2023-05-03T09:04:35.423Z"
      },
      {
        "duration": 80,
        "start_time": "2023-05-03T09:04:39.650Z"
      },
      {
        "duration": 8,
        "start_time": "2023-05-03T09:05:57.448Z"
      },
      {
        "duration": 37,
        "start_time": "2023-05-03T09:06:03.391Z"
      },
      {
        "duration": 92,
        "start_time": "2023-05-03T09:09:06.991Z"
      },
      {
        "duration": 14,
        "start_time": "2023-05-03T09:09:15.082Z"
      },
      {
        "duration": 47,
        "start_time": "2023-05-03T09:09:21.326Z"
      },
      {
        "duration": 214,
        "start_time": "2023-05-03T09:09:34.637Z"
      },
      {
        "duration": 44,
        "start_time": "2023-05-03T09:09:43.239Z"
      },
      {
        "duration": 140,
        "start_time": "2023-05-03T09:10:01.978Z"
      },
      {
        "duration": 33,
        "start_time": "2023-05-03T09:10:40.178Z"
      },
      {
        "duration": 39,
        "start_time": "2023-05-03T09:10:45.193Z"
      },
      {
        "duration": 47,
        "start_time": "2023-05-03T09:14:28.172Z"
      },
      {
        "duration": 57,
        "start_time": "2023-05-03T09:14:33.508Z"
      },
      {
        "duration": 57,
        "start_time": "2023-05-03T09:15:35.410Z"
      },
      {
        "duration": 26,
        "start_time": "2023-05-03T09:19:42.896Z"
      },
      {
        "duration": 24,
        "start_time": "2023-05-03T09:19:53.799Z"
      },
      {
        "duration": 44,
        "start_time": "2023-05-03T09:21:29.608Z"
      },
      {
        "duration": 66,
        "start_time": "2023-05-03T09:21:36.080Z"
      },
      {
        "duration": 57,
        "start_time": "2023-05-03T09:23:28.505Z"
      },
      {
        "duration": 45,
        "start_time": "2023-05-03T09:38:37.029Z"
      },
      {
        "duration": 46,
        "start_time": "2023-05-03T09:52:43.890Z"
      },
      {
        "duration": 607,
        "start_time": "2023-05-03T09:52:55.406Z"
      },
      {
        "duration": 24,
        "start_time": "2023-05-03T09:53:39.137Z"
      },
      {
        "duration": 61,
        "start_time": "2023-05-03T09:54:53.167Z"
      },
      {
        "duration": 972,
        "start_time": "2023-05-03T09:54:55.122Z"
      },
      {
        "duration": 49,
        "start_time": "2023-05-03T09:55:46.871Z"
      },
      {
        "duration": 623,
        "start_time": "2023-05-03T09:55:47.474Z"
      },
      {
        "duration": 65,
        "start_time": "2023-05-03T09:55:52.863Z"
      },
      {
        "duration": 631,
        "start_time": "2023-05-03T09:55:53.166Z"
      },
      {
        "duration": 61,
        "start_time": "2023-05-03T09:56:17.947Z"
      },
      {
        "duration": 540,
        "start_time": "2023-05-03T09:56:18.354Z"
      },
      {
        "duration": 64,
        "start_time": "2023-05-03T09:56:21.684Z"
      },
      {
        "duration": 811,
        "start_time": "2023-05-03T09:56:23.126Z"
      },
      {
        "duration": 66,
        "start_time": "2023-05-03T09:56:35.178Z"
      },
      {
        "duration": 1210,
        "start_time": "2023-05-03T09:56:35.474Z"
      },
      {
        "duration": 42,
        "start_time": "2023-05-03T10:00:53.092Z"
      },
      {
        "duration": 815,
        "start_time": "2023-05-03T10:00:54.736Z"
      },
      {
        "duration": 824,
        "start_time": "2023-05-03T10:01:03.257Z"
      },
      {
        "duration": 68,
        "start_time": "2023-05-03T10:01:15.991Z"
      },
      {
        "duration": 903,
        "start_time": "2023-05-03T10:01:16.259Z"
      },
      {
        "duration": 55,
        "start_time": "2023-05-03T10:02:54.688Z"
      },
      {
        "duration": 60,
        "start_time": "2023-05-03T10:02:56.434Z"
      },
      {
        "duration": 591,
        "start_time": "2023-05-03T10:02:56.851Z"
      },
      {
        "duration": 43,
        "start_time": "2023-05-03T10:03:11.494Z"
      },
      {
        "duration": 1001,
        "start_time": "2023-05-03T10:03:12.897Z"
      },
      {
        "duration": 6,
        "start_time": "2023-05-03T10:06:37.091Z"
      },
      {
        "duration": 1425,
        "start_time": "2023-05-03T10:06:51.719Z"
      },
      {
        "duration": 6,
        "start_time": "2023-05-03T10:20:57.899Z"
      },
      {
        "duration": 5,
        "start_time": "2023-05-03T10:21:38.902Z"
      },
      {
        "duration": 41,
        "start_time": "2023-05-03T10:21:43.335Z"
      },
      {
        "duration": 40,
        "start_time": "2023-05-03T10:21:55.836Z"
      },
      {
        "duration": 38,
        "start_time": "2023-05-03T10:22:13.806Z"
      },
      {
        "duration": 231,
        "start_time": "2023-05-03T10:22:53.290Z"
      },
      {
        "duration": 696,
        "start_time": "2023-05-03T10:24:28.257Z"
      },
      {
        "duration": 674,
        "start_time": "2023-05-03T10:24:39.009Z"
      },
      {
        "duration": 907,
        "start_time": "2023-05-03T10:24:57.034Z"
      },
      {
        "duration": 831,
        "start_time": "2023-05-03T10:25:01.534Z"
      },
      {
        "duration": 1094,
        "start_time": "2023-05-03T10:25:05.447Z"
      },
      {
        "duration": 914,
        "start_time": "2023-05-03T10:25:08.957Z"
      },
      {
        "duration": 5,
        "start_time": "2023-05-03T10:26:12.818Z"
      },
      {
        "duration": 1037,
        "start_time": "2023-05-03T10:26:12.826Z"
      },
      {
        "duration": 3,
        "start_time": "2023-05-03T10:26:13.865Z"
      },
      {
        "duration": 150,
        "start_time": "2023-05-03T10:26:13.870Z"
      },
      {
        "duration": 14,
        "start_time": "2023-05-03T10:26:14.022Z"
      },
      {
        "duration": 980,
        "start_time": "2023-05-03T10:26:14.961Z"
      },
      {
        "duration": 259,
        "start_time": "2023-05-03T10:27:32.256Z"
      },
      {
        "duration": 2137,
        "start_time": "2023-05-03T10:27:38.618Z"
      },
      {
        "duration": 9303,
        "start_time": "2023-05-03T10:28:07.704Z"
      },
      {
        "duration": 903,
        "start_time": "2023-05-03T10:28:46.920Z"
      },
      {
        "duration": 831,
        "start_time": "2023-05-03T10:28:54.662Z"
      },
      {
        "duration": 1087,
        "start_time": "2023-05-03T10:28:58.817Z"
      },
      {
        "duration": 2125,
        "start_time": "2023-05-03T10:31:18.970Z"
      },
      {
        "duration": 1278,
        "start_time": "2023-05-03T10:31:28.158Z"
      },
      {
        "duration": 1032,
        "start_time": "2023-05-03T10:31:29.439Z"
      },
      {
        "duration": 5,
        "start_time": "2023-05-03T10:31:30.473Z"
      },
      {
        "duration": 207,
        "start_time": "2023-05-03T10:31:30.480Z"
      },
      {
        "duration": 20,
        "start_time": "2023-05-03T10:31:30.690Z"
      },
      {
        "duration": 1000,
        "start_time": "2023-05-03T10:31:30.712Z"
      },
      {
        "duration": 3,
        "start_time": "2023-05-03T10:31:31.715Z"
      },
      {
        "duration": 31,
        "start_time": "2023-05-03T10:31:31.720Z"
      },
      {
        "duration": 163,
        "start_time": "2023-05-03T10:31:31.753Z"
      },
      {
        "duration": 25,
        "start_time": "2023-05-03T10:31:31.918Z"
      },
      {
        "duration": 33,
        "start_time": "2023-05-03T10:31:31.945Z"
      },
      {
        "duration": 206,
        "start_time": "2023-05-03T10:31:31.980Z"
      },
      {
        "duration": 17,
        "start_time": "2023-05-03T10:31:32.188Z"
      },
      {
        "duration": 91,
        "start_time": "2023-05-03T10:31:32.208Z"
      },
      {
        "duration": 91,
        "start_time": "2023-05-03T10:31:32.302Z"
      },
      {
        "duration": 361,
        "start_time": "2023-05-03T10:31:32.395Z"
      },
      {
        "duration": 55,
        "start_time": "2023-05-03T10:31:32.758Z"
      },
      {
        "duration": 40,
        "start_time": "2023-05-03T10:31:32.814Z"
      },
      {
        "duration": 44,
        "start_time": "2023-05-03T10:31:32.855Z"
      },
      {
        "duration": 68,
        "start_time": "2023-05-03T10:31:32.902Z"
      },
      {
        "duration": 1773,
        "start_time": "2023-05-03T10:31:32.971Z"
      },
      {
        "duration": 395,
        "start_time": "2023-05-03T10:31:34.746Z"
      },
      {
        "duration": 99,
        "start_time": "2023-05-03T10:31:35.143Z"
      },
      {
        "duration": 189,
        "start_time": "2023-05-03T10:32:51.967Z"
      },
      {
        "duration": 164,
        "start_time": "2023-05-03T10:33:40.721Z"
      },
      {
        "duration": 29,
        "start_time": "2023-05-03T10:35:38.186Z"
      },
      {
        "duration": 23,
        "start_time": "2023-05-03T10:35:43.924Z"
      },
      {
        "duration": 23,
        "start_time": "2023-05-03T10:35:49.200Z"
      },
      {
        "duration": 18,
        "start_time": "2023-05-03T10:36:11.779Z"
      },
      {
        "duration": 18,
        "start_time": "2023-05-03T10:36:58.241Z"
      },
      {
        "duration": 18,
        "start_time": "2023-05-03T10:37:10.098Z"
      },
      {
        "duration": 18,
        "start_time": "2023-05-03T10:37:17.704Z"
      },
      {
        "duration": 19,
        "start_time": "2023-05-03T10:38:00.262Z"
      },
      {
        "duration": 6049,
        "start_time": "2023-05-03T10:38:56.138Z"
      },
      {
        "duration": 6266,
        "start_time": "2023-05-03T10:40:36.016Z"
      },
      {
        "duration": 7302,
        "start_time": "2023-05-03T10:40:58.161Z"
      },
      {
        "duration": 7926,
        "start_time": "2023-05-03T10:41:18.129Z"
      },
      {
        "duration": 16,
        "start_time": "2023-05-03T10:42:02.428Z"
      },
      {
        "duration": 303,
        "start_time": "2023-05-03T10:43:33.556Z"
      },
      {
        "duration": 7152,
        "start_time": "2023-05-03T10:43:42.944Z"
      },
      {
        "duration": 7670,
        "start_time": "2023-05-03T10:44:54.312Z"
      },
      {
        "duration": 7327,
        "start_time": "2023-05-03T10:45:54.338Z"
      },
      {
        "duration": 106,
        "start_time": "2023-05-03T10:58:15.026Z"
      },
      {
        "duration": 1156,
        "start_time": "2023-05-03T10:58:19.688Z"
      },
      {
        "duration": 1018,
        "start_time": "2023-05-03T11:00:40.617Z"
      },
      {
        "duration": 1054,
        "start_time": "2023-05-03T11:01:14.590Z"
      },
      {
        "duration": 209,
        "start_time": "2023-05-03T11:05:30.818Z"
      },
      {
        "duration": 6843,
        "start_time": "2023-05-03T11:05:39.515Z"
      },
      {
        "duration": 1311,
        "start_time": "2023-05-03T11:05:58.646Z"
      },
      {
        "duration": 1135,
        "start_time": "2023-05-03T11:05:59.959Z"
      },
      {
        "duration": 5,
        "start_time": "2023-05-03T11:06:01.096Z"
      },
      {
        "duration": 347,
        "start_time": "2023-05-03T11:06:01.105Z"
      },
      {
        "duration": 36,
        "start_time": "2023-05-03T11:06:01.455Z"
      },
      {
        "duration": 952,
        "start_time": "2023-05-03T11:06:01.492Z"
      },
      {
        "duration": 5,
        "start_time": "2023-05-03T11:06:02.446Z"
      },
      {
        "duration": 181,
        "start_time": "2023-05-03T11:06:02.452Z"
      },
      {
        "duration": 417,
        "start_time": "2023-05-03T11:06:02.635Z"
      },
      {
        "duration": 98,
        "start_time": "2023-05-03T11:06:03.056Z"
      },
      {
        "duration": 127,
        "start_time": "2023-05-03T11:06:03.156Z"
      },
      {
        "duration": 299,
        "start_time": "2023-05-03T11:06:03.285Z"
      },
      {
        "duration": 17,
        "start_time": "2023-05-03T11:06:03.586Z"
      },
      {
        "duration": 111,
        "start_time": "2023-05-03T11:06:03.605Z"
      },
      {
        "duration": 83,
        "start_time": "2023-05-03T11:06:03.718Z"
      },
      {
        "duration": 363,
        "start_time": "2023-05-03T11:06:03.803Z"
      },
      {
        "duration": 79,
        "start_time": "2023-05-03T11:06:04.169Z"
      },
      {
        "duration": 23,
        "start_time": "2023-05-03T11:06:04.250Z"
      },
      {
        "duration": 59,
        "start_time": "2023-05-03T11:06:04.275Z"
      },
      {
        "duration": 57,
        "start_time": "2023-05-03T11:06:04.336Z"
      },
      {
        "duration": 1569,
        "start_time": "2023-05-03T11:06:04.395Z"
      },
      {
        "duration": 7864,
        "start_time": "2023-05-03T11:06:05.967Z"
      },
      {
        "duration": 7240,
        "start_time": "2023-05-03T11:06:13.833Z"
      },
      {
        "duration": 79,
        "start_time": "2023-05-03T11:06:21.075Z"
      },
      {
        "duration": 126,
        "start_time": "2023-05-03T11:06:28.361Z"
      },
      {
        "duration": 6968,
        "start_time": "2023-05-03T11:07:25.913Z"
      },
      {
        "duration": 8,
        "start_time": "2023-05-03T11:28:00.550Z"
      },
      {
        "duration": 207,
        "start_time": "2023-05-03T11:28:39.387Z"
      },
      {
        "duration": 91,
        "start_time": "2023-05-03T11:31:47.224Z"
      },
      {
        "duration": 1267,
        "start_time": "2023-05-03T11:31:52.595Z"
      },
      {
        "duration": 1830,
        "start_time": "2023-05-03T11:32:06.335Z"
      },
      {
        "duration": 5,
        "start_time": "2023-05-03T11:34:03.925Z"
      },
      {
        "duration": 915,
        "start_time": "2023-05-03T11:34:03.932Z"
      },
      {
        "duration": 5,
        "start_time": "2023-05-03T11:34:04.849Z"
      },
      {
        "duration": 187,
        "start_time": "2023-05-03T11:34:04.856Z"
      },
      {
        "duration": 15,
        "start_time": "2023-05-03T11:34:05.046Z"
      },
      {
        "duration": 1114,
        "start_time": "2023-05-03T11:34:05.064Z"
      },
      {
        "duration": 5,
        "start_time": "2023-05-03T11:34:06.180Z"
      },
      {
        "duration": 23,
        "start_time": "2023-05-03T11:34:06.187Z"
      },
      {
        "duration": 117,
        "start_time": "2023-05-03T11:34:06.212Z"
      },
      {
        "duration": 25,
        "start_time": "2023-05-03T11:34:06.331Z"
      },
      {
        "duration": 23,
        "start_time": "2023-05-03T11:34:06.357Z"
      },
      {
        "duration": 317,
        "start_time": "2023-05-03T11:34:06.382Z"
      },
      {
        "duration": 16,
        "start_time": "2023-05-03T11:34:06.701Z"
      },
      {
        "duration": 78,
        "start_time": "2023-05-03T11:34:06.721Z"
      },
      {
        "duration": 93,
        "start_time": "2023-05-03T11:34:06.801Z"
      },
      {
        "duration": 381,
        "start_time": "2023-05-03T11:34:06.897Z"
      },
      {
        "duration": 84,
        "start_time": "2023-05-03T11:34:07.280Z"
      },
      {
        "duration": 24,
        "start_time": "2023-05-03T11:34:07.366Z"
      },
      {
        "duration": 56,
        "start_time": "2023-05-03T11:34:07.393Z"
      },
      {
        "duration": 46,
        "start_time": "2023-05-03T11:34:07.452Z"
      },
      {
        "duration": 1345,
        "start_time": "2023-05-03T11:34:07.500Z"
      },
      {
        "duration": 8531,
        "start_time": "2023-05-03T11:34:08.847Z"
      },
      {
        "duration": 3,
        "start_time": "2023-05-03T11:34:26.105Z"
      },
      {
        "duration": 6935,
        "start_time": "2023-05-03T11:36:00.346Z"
      },
      {
        "duration": 31,
        "start_time": "2023-05-03T11:36:30.845Z"
      },
      {
        "duration": 76,
        "start_time": "2023-05-03T11:38:01.572Z"
      },
      {
        "duration": 11,
        "start_time": "2023-05-03T11:38:29.815Z"
      },
      {
        "duration": 4,
        "start_time": "2023-05-03T11:38:33.416Z"
      },
      {
        "duration": 51,
        "start_time": "2023-05-03T11:38:42.938Z"
      },
      {
        "duration": 374,
        "start_time": "2023-05-03T11:40:48.555Z"
      },
      {
        "duration": 162,
        "start_time": "2023-05-03T11:41:02.433Z"
      },
      {
        "duration": 160,
        "start_time": "2023-05-03T11:41:16.736Z"
      },
      {
        "duration": 1983,
        "start_time": "2023-05-03T11:41:25.215Z"
      },
      {
        "duration": 25,
        "start_time": "2023-05-03T11:41:49.015Z"
      },
      {
        "duration": 85,
        "start_time": "2023-05-03T11:42:20.419Z"
      },
      {
        "duration": 841,
        "start_time": "2023-05-03T11:43:08.679Z"
      },
      {
        "duration": 918,
        "start_time": "2023-05-03T11:43:19.135Z"
      },
      {
        "duration": 971,
        "start_time": "2023-05-03T11:44:01.425Z"
      },
      {
        "duration": 915,
        "start_time": "2023-05-03T11:44:17.034Z"
      },
      {
        "duration": 94,
        "start_time": "2023-05-03T11:44:35.057Z"
      },
      {
        "duration": 50,
        "start_time": "2023-05-03T11:44:36.958Z"
      },
      {
        "duration": 2383,
        "start_time": "2023-05-03T11:44:42.918Z"
      },
      {
        "duration": 3098,
        "start_time": "2023-05-03T11:45:24.624Z"
      },
      {
        "duration": 127,
        "start_time": "2023-05-03T11:47:36.834Z"
      },
      {
        "duration": 114,
        "start_time": "2023-05-03T11:47:46.215Z"
      },
      {
        "duration": 2520,
        "start_time": "2023-05-03T11:48:30.317Z"
      },
      {
        "duration": 2737,
        "start_time": "2023-05-03T11:50:06.067Z"
      },
      {
        "duration": 2450,
        "start_time": "2023-05-03T11:50:10.191Z"
      },
      {
        "duration": 3237,
        "start_time": "2023-05-03T11:52:48.218Z"
      },
      {
        "duration": 3178,
        "start_time": "2023-05-03T11:53:12.119Z"
      },
      {
        "duration": 95,
        "start_time": "2023-05-03T11:53:46.517Z"
      },
      {
        "duration": 2241,
        "start_time": "2023-05-03T11:53:59.240Z"
      },
      {
        "duration": 2254,
        "start_time": "2023-05-03T11:54:15.267Z"
      },
      {
        "duration": 115,
        "start_time": "2023-05-03T11:54:29.405Z"
      },
      {
        "duration": 3194,
        "start_time": "2023-05-03T11:58:48.528Z"
      },
      {
        "duration": 1398,
        "start_time": "2023-05-03T11:59:24.427Z"
      },
      {
        "duration": 1218,
        "start_time": "2023-05-03T11:59:25.830Z"
      },
      {
        "duration": 7,
        "start_time": "2023-05-03T11:59:27.051Z"
      },
      {
        "duration": 149,
        "start_time": "2023-05-03T11:59:27.061Z"
      },
      {
        "duration": 47,
        "start_time": "2023-05-03T11:59:27.213Z"
      },
      {
        "duration": 971,
        "start_time": "2023-05-03T11:59:27.264Z"
      },
      {
        "duration": 14,
        "start_time": "2023-05-03T11:59:28.241Z"
      },
      {
        "duration": 42,
        "start_time": "2023-05-03T11:59:28.258Z"
      },
      {
        "duration": 151,
        "start_time": "2023-05-03T11:59:28.303Z"
      },
      {
        "duration": 24,
        "start_time": "2023-05-03T11:59:28.457Z"
      },
      {
        "duration": 18,
        "start_time": "2023-05-03T11:59:28.483Z"
      },
      {
        "duration": 202,
        "start_time": "2023-05-03T11:59:28.504Z"
      },
      {
        "duration": 40,
        "start_time": "2023-05-03T11:59:28.709Z"
      },
      {
        "duration": 77,
        "start_time": "2023-05-03T11:59:28.753Z"
      },
      {
        "duration": 100,
        "start_time": "2023-05-03T11:59:28.833Z"
      },
      {
        "duration": 408,
        "start_time": "2023-05-03T11:59:28.941Z"
      },
      {
        "duration": 57,
        "start_time": "2023-05-03T11:59:29.351Z"
      },
      {
        "duration": 44,
        "start_time": "2023-05-03T11:59:29.410Z"
      },
      {
        "duration": 52,
        "start_time": "2023-05-03T11:59:29.459Z"
      },
      {
        "duration": 57,
        "start_time": "2023-05-03T11:59:29.513Z"
      },
      {
        "duration": 1695,
        "start_time": "2023-05-03T11:59:29.573Z"
      },
      {
        "duration": 7772,
        "start_time": "2023-05-03T11:59:31.271Z"
      },
      {
        "duration": 7404,
        "start_time": "2023-05-03T11:59:39.050Z"
      },
      {
        "duration": 3236,
        "start_time": "2023-05-03T11:59:46.456Z"
      },
      {
        "duration": 3140,
        "start_time": "2023-05-03T12:01:03.879Z"
      },
      {
        "duration": 22,
        "start_time": "2023-05-03T12:04:54.510Z"
      },
      {
        "duration": 20,
        "start_time": "2023-05-03T12:05:02.238Z"
      },
      {
        "duration": 34,
        "start_time": "2023-05-03T12:05:23.142Z"
      },
      {
        "duration": 25,
        "start_time": "2023-05-03T12:05:31.032Z"
      },
      {
        "duration": 17,
        "start_time": "2023-05-03T12:05:38.314Z"
      },
      {
        "duration": 24,
        "start_time": "2023-05-03T12:05:41.140Z"
      },
      {
        "duration": 19,
        "start_time": "2023-05-03T12:07:14.419Z"
      },
      {
        "duration": 17,
        "start_time": "2023-05-03T12:07:18.412Z"
      },
      {
        "duration": 459,
        "start_time": "2023-05-03T12:07:26.412Z"
      },
      {
        "duration": 21,
        "start_time": "2023-05-03T12:07:29.210Z"
      },
      {
        "duration": 21,
        "start_time": "2023-05-03T12:07:31.657Z"
      },
      {
        "duration": 483,
        "start_time": "2023-05-03T12:07:39.513Z"
      },
      {
        "duration": 23,
        "start_time": "2023-05-03T12:07:40.013Z"
      },
      {
        "duration": 14,
        "start_time": "2023-05-03T12:08:38.823Z"
      },
      {
        "duration": 29,
        "start_time": "2023-05-03T12:09:15.143Z"
      },
      {
        "duration": 27,
        "start_time": "2023-05-03T12:09:16.711Z"
      },
      {
        "duration": 10863,
        "start_time": "2023-05-03T12:09:22.721Z"
      },
      {
        "duration": 4,
        "start_time": "2023-05-03T12:10:22.933Z"
      },
      {
        "duration": 982,
        "start_time": "2023-05-03T12:10:22.939Z"
      },
      {
        "duration": 4,
        "start_time": "2023-05-03T12:10:23.924Z"
      },
      {
        "duration": 133,
        "start_time": "2023-05-03T12:10:23.947Z"
      },
      {
        "duration": 15,
        "start_time": "2023-05-03T12:10:24.083Z"
      },
      {
        "duration": 958,
        "start_time": "2023-05-03T12:10:24.100Z"
      },
      {
        "duration": 6,
        "start_time": "2023-05-03T12:10:25.061Z"
      },
      {
        "duration": 30,
        "start_time": "2023-05-03T12:10:25.069Z"
      },
      {
        "duration": 160,
        "start_time": "2023-05-03T12:10:25.101Z"
      },
      {
        "duration": 27,
        "start_time": "2023-05-03T12:10:25.265Z"
      },
      {
        "duration": 31,
        "start_time": "2023-05-03T12:10:25.294Z"
      },
      {
        "duration": 203,
        "start_time": "2023-05-03T12:10:25.328Z"
      },
      {
        "duration": 24,
        "start_time": "2023-05-03T12:10:25.545Z"
      },
      {
        "duration": 75,
        "start_time": "2023-05-03T12:10:25.574Z"
      },
      {
        "duration": 98,
        "start_time": "2023-05-03T12:10:25.652Z"
      },
      {
        "duration": 471,
        "start_time": "2023-05-03T12:10:25.753Z"
      },
      {
        "duration": 77,
        "start_time": "2023-05-03T12:10:26.227Z"
      },
      {
        "duration": 48,
        "start_time": "2023-05-03T12:10:26.307Z"
      },
      {
        "duration": 43,
        "start_time": "2023-05-03T12:10:26.356Z"
      },
      {
        "duration": 53,
        "start_time": "2023-05-03T12:10:26.401Z"
      },
      {
        "duration": 1637,
        "start_time": "2023-05-03T12:10:26.457Z"
      },
      {
        "duration": 7868,
        "start_time": "2023-05-03T12:10:28.096Z"
      },
      {
        "duration": 7136,
        "start_time": "2023-05-03T12:10:35.968Z"
      },
      {
        "duration": 17,
        "start_time": "2023-05-03T12:11:10.582Z"
      },
      {
        "duration": 80,
        "start_time": "2023-05-03T12:11:57.308Z"
      },
      {
        "duration": 18,
        "start_time": "2023-05-03T12:11:58.066Z"
      },
      {
        "duration": 4649,
        "start_time": "2023-05-03T12:12:04.939Z"
      },
      {
        "duration": 1358,
        "start_time": "2023-05-03T12:12:36.252Z"
      },
      {
        "duration": 1070,
        "start_time": "2023-05-03T12:12:37.612Z"
      },
      {
        "duration": 6,
        "start_time": "2023-05-03T12:12:38.684Z"
      },
      {
        "duration": 203,
        "start_time": "2023-05-03T12:12:38.691Z"
      },
      {
        "duration": 19,
        "start_time": "2023-05-03T12:12:38.897Z"
      },
      {
        "duration": 942,
        "start_time": "2023-05-03T12:12:38.918Z"
      },
      {
        "duration": 4,
        "start_time": "2023-05-03T12:12:39.863Z"
      },
      {
        "duration": 13,
        "start_time": "2023-05-03T12:12:39.869Z"
      },
      {
        "duration": 138,
        "start_time": "2023-05-03T12:12:39.884Z"
      },
      {
        "duration": 29,
        "start_time": "2023-05-03T12:12:40.025Z"
      },
      {
        "duration": 8,
        "start_time": "2023-05-03T12:12:40.058Z"
      },
      {
        "duration": 212,
        "start_time": "2023-05-03T12:12:40.069Z"
      },
      {
        "duration": 23,
        "start_time": "2023-05-03T12:12:40.283Z"
      },
      {
        "duration": 95,
        "start_time": "2023-05-03T12:12:40.309Z"
      },
      {
        "duration": 101,
        "start_time": "2023-05-03T12:12:40.407Z"
      },
      {
        "duration": 369,
        "start_time": "2023-05-03T12:12:40.510Z"
      },
      {
        "duration": 70,
        "start_time": "2023-05-03T12:12:40.881Z"
      },
      {
        "duration": 21,
        "start_time": "2023-05-03T12:12:40.953Z"
      },
      {
        "duration": 71,
        "start_time": "2023-05-03T12:12:40.977Z"
      },
      {
        "duration": 88,
        "start_time": "2023-05-03T12:12:41.050Z"
      },
      {
        "duration": 1540,
        "start_time": "2023-05-03T12:12:41.141Z"
      },
      {
        "duration": 7388,
        "start_time": "2023-05-03T12:12:42.683Z"
      },
      {
        "duration": 7914,
        "start_time": "2023-05-03T12:12:50.073Z"
      },
      {
        "duration": 78,
        "start_time": "2023-05-03T12:12:57.989Z"
      },
      {
        "duration": 4282,
        "start_time": "2023-05-03T12:12:58.068Z"
      },
      {
        "duration": 122,
        "start_time": "2023-05-03T12:13:26.740Z"
      },
      {
        "duration": 118,
        "start_time": "2023-05-03T12:14:12.038Z"
      },
      {
        "duration": 4209,
        "start_time": "2023-05-03T12:14:37.511Z"
      },
      {
        "duration": 114,
        "start_time": "2023-05-03T12:14:45.114Z"
      },
      {
        "duration": 2327,
        "start_time": "2023-05-03T12:16:22.008Z"
      },
      {
        "duration": 2239,
        "start_time": "2023-05-03T12:16:38.508Z"
      },
      {
        "duration": 156,
        "start_time": "2023-05-03T12:16:56.564Z"
      },
      {
        "duration": 1681,
        "start_time": "2023-05-03T12:17:32.963Z"
      },
      {
        "duration": 3211,
        "start_time": "2023-05-03T12:17:44.108Z"
      },
      {
        "duration": 1690,
        "start_time": "2023-05-03T12:17:53.856Z"
      },
      {
        "duration": 2618,
        "start_time": "2023-05-03T12:18:44.457Z"
      },
      {
        "duration": 2275,
        "start_time": "2023-05-03T12:23:11.238Z"
      },
      {
        "duration": 2239,
        "start_time": "2023-05-03T12:23:30.111Z"
      },
      {
        "duration": 2378,
        "start_time": "2023-05-03T12:25:34.612Z"
      },
      {
        "duration": 4229,
        "start_time": "2023-05-03T12:26:57.955Z"
      },
      {
        "duration": 118,
        "start_time": "2023-05-03T12:32:52.293Z"
      },
      {
        "duration": 1024,
        "start_time": "2023-05-03T12:33:30.659Z"
      },
      {
        "duration": 70,
        "start_time": "2023-05-03T12:33:42.536Z"
      },
      {
        "duration": 1064,
        "start_time": "2023-05-03T12:34:04.486Z"
      },
      {
        "duration": 10,
        "start_time": "2023-05-03T12:35:28.671Z"
      },
      {
        "duration": 113,
        "start_time": "2023-05-03T12:35:37.323Z"
      },
      {
        "duration": 2164,
        "start_time": "2023-05-03T12:37:31.989Z"
      },
      {
        "duration": 8,
        "start_time": "2023-05-03T12:40:41.200Z"
      },
      {
        "duration": 106,
        "start_time": "2023-05-03T12:40:53.095Z"
      },
      {
        "duration": 6,
        "start_time": "2023-05-03T12:42:44.906Z"
      },
      {
        "duration": 71,
        "start_time": "2023-05-03T12:44:58.796Z"
      },
      {
        "duration": 108,
        "start_time": "2023-05-03T12:46:02.598Z"
      },
      {
        "duration": 2196,
        "start_time": "2023-05-03T12:46:20.401Z"
      },
      {
        "duration": 2173,
        "start_time": "2023-05-03T12:46:33.407Z"
      },
      {
        "duration": 1065,
        "start_time": "2023-05-03T12:47:12.697Z"
      },
      {
        "duration": 2256,
        "start_time": "2023-05-03T12:50:33.843Z"
      },
      {
        "duration": 2285,
        "start_time": "2023-05-03T12:50:50.791Z"
      },
      {
        "duration": 22,
        "start_time": "2023-05-03T12:51:28.061Z"
      },
      {
        "duration": 24,
        "start_time": "2023-05-03T12:51:40.601Z"
      },
      {
        "duration": 694,
        "start_time": "2023-05-03T12:51:44.730Z"
      },
      {
        "duration": 742,
        "start_time": "2023-05-03T12:51:50.219Z"
      },
      {
        "duration": 247,
        "start_time": "2023-05-03T12:52:54.308Z"
      },
      {
        "duration": 860,
        "start_time": "2023-05-03T12:53:01.667Z"
      },
      {
        "duration": 61,
        "start_time": "2023-05-03T12:53:04.813Z"
      },
      {
        "duration": 882,
        "start_time": "2023-05-03T12:53:08.599Z"
      },
      {
        "duration": 21,
        "start_time": "2023-05-03T12:53:55.504Z"
      },
      {
        "duration": 21,
        "start_time": "2023-05-03T12:54:03.773Z"
      },
      {
        "duration": 36,
        "start_time": "2023-05-03T12:54:12.418Z"
      },
      {
        "duration": 23,
        "start_time": "2023-05-03T12:54:37.399Z"
      },
      {
        "duration": 5,
        "start_time": "2023-05-03T12:54:51.360Z"
      },
      {
        "duration": 24,
        "start_time": "2023-05-03T12:55:02.060Z"
      },
      {
        "duration": 16,
        "start_time": "2023-05-03T12:55:41.122Z"
      },
      {
        "duration": 16,
        "start_time": "2023-05-03T12:56:36.354Z"
      },
      {
        "duration": 62,
        "start_time": "2023-05-03T12:57:17.428Z"
      },
      {
        "duration": 5,
        "start_time": "2023-05-03T12:57:20.113Z"
      },
      {
        "duration": 833,
        "start_time": "2023-05-03T12:57:32.911Z"
      },
      {
        "duration": 27,
        "start_time": "2023-05-03T12:58:04.434Z"
      },
      {
        "duration": 509,
        "start_time": "2023-05-03T12:59:06.100Z"
      },
      {
        "duration": 3,
        "start_time": "2023-05-03T13:00:48.658Z"
      },
      {
        "duration": 936,
        "start_time": "2023-05-03T13:01:04.720Z"
      },
      {
        "duration": 25,
        "start_time": "2023-05-03T13:01:37.705Z"
      },
      {
        "duration": 27,
        "start_time": "2023-05-03T13:01:40.154Z"
      },
      {
        "duration": 53,
        "start_time": "2023-05-03T13:01:43.979Z"
      },
      {
        "duration": 33,
        "start_time": "2023-05-03T13:02:46.609Z"
      },
      {
        "duration": 1010,
        "start_time": "2023-05-03T13:04:15.508Z"
      },
      {
        "duration": 36,
        "start_time": "2023-05-03T13:04:29.429Z"
      },
      {
        "duration": 57,
        "start_time": "2023-05-03T13:05:07.655Z"
      },
      {
        "duration": 4,
        "start_time": "2023-05-03T13:05:19.201Z"
      },
      {
        "duration": 979,
        "start_time": "2023-05-03T13:05:19.208Z"
      },
      {
        "duration": 4,
        "start_time": "2023-05-03T13:05:20.189Z"
      },
      {
        "duration": 216,
        "start_time": "2023-05-03T13:05:20.195Z"
      },
      {
        "duration": 15,
        "start_time": "2023-05-03T13:05:20.414Z"
      },
      {
        "duration": 1014,
        "start_time": "2023-05-03T13:05:20.441Z"
      },
      {
        "duration": 4,
        "start_time": "2023-05-03T13:05:21.459Z"
      },
      {
        "duration": 27,
        "start_time": "2023-05-03T13:05:21.465Z"
      },
      {
        "duration": 140,
        "start_time": "2023-05-03T13:05:21.494Z"
      },
      {
        "duration": 30,
        "start_time": "2023-05-03T13:05:21.641Z"
      },
      {
        "duration": 45,
        "start_time": "2023-05-03T13:05:21.676Z"
      },
      {
        "duration": 202,
        "start_time": "2023-05-03T13:05:21.724Z"
      },
      {
        "duration": 23,
        "start_time": "2023-05-03T13:05:21.929Z"
      },
      {
        "duration": 61,
        "start_time": "2023-05-03T13:05:21.955Z"
      },
      {
        "duration": 110,
        "start_time": "2023-05-03T13:05:22.018Z"
      },
      {
        "duration": 367,
        "start_time": "2023-05-03T13:05:22.143Z"
      },
      {
        "duration": 69,
        "start_time": "2023-05-03T13:05:22.512Z"
      },
      {
        "duration": 35,
        "start_time": "2023-05-03T13:05:22.583Z"
      },
      {
        "duration": 58,
        "start_time": "2023-05-03T13:05:22.620Z"
      },
      {
        "duration": 68,
        "start_time": "2023-05-03T13:05:22.680Z"
      },
      {
        "duration": 1518,
        "start_time": "2023-05-03T13:05:22.751Z"
      },
      {
        "duration": 7780,
        "start_time": "2023-05-03T13:05:24.271Z"
      },
      {
        "duration": 6723,
        "start_time": "2023-05-03T13:05:32.058Z"
      },
      {
        "duration": 84,
        "start_time": "2023-05-03T13:05:38.783Z"
      },
      {
        "duration": 3,
        "start_time": "2023-05-03T13:05:38.869Z"
      },
      {
        "duration": 18,
        "start_time": "2023-05-03T13:05:38.875Z"
      },
      {
        "duration": 33,
        "start_time": "2023-05-03T13:05:38.896Z"
      },
      {
        "duration": 49,
        "start_time": "2023-05-03T13:05:38.931Z"
      },
      {
        "duration": 68,
        "start_time": "2023-05-03T13:05:46.839Z"
      },
      {
        "duration": 874,
        "start_time": "2023-05-03T13:05:50.715Z"
      },
      {
        "duration": 60,
        "start_time": "2023-05-03T13:06:01.302Z"
      },
      {
        "duration": 42,
        "start_time": "2023-05-03T13:06:26.722Z"
      },
      {
        "duration": 33,
        "start_time": "2023-05-03T13:06:29.552Z"
      },
      {
        "duration": 56,
        "start_time": "2023-05-03T13:06:39.106Z"
      },
      {
        "duration": 34,
        "start_time": "2023-05-03T13:07:10.711Z"
      },
      {
        "duration": 39,
        "start_time": "2023-05-03T13:07:21.727Z"
      },
      {
        "duration": 30,
        "start_time": "2023-05-03T13:08:25.390Z"
      },
      {
        "duration": 30,
        "start_time": "2023-05-03T13:10:24.755Z"
      },
      {
        "duration": 26,
        "start_time": "2023-05-03T13:10:41.202Z"
      },
      {
        "duration": 62,
        "start_time": "2023-05-03T13:11:03.118Z"
      },
      {
        "duration": 66,
        "start_time": "2023-05-03T13:11:04.824Z"
      },
      {
        "duration": 29,
        "start_time": "2023-05-03T13:11:17.102Z"
      },
      {
        "duration": 25,
        "start_time": "2023-05-03T13:11:50.356Z"
      },
      {
        "duration": 29,
        "start_time": "2023-05-03T13:11:55.193Z"
      },
      {
        "duration": 55,
        "start_time": "2023-05-03T13:12:03.796Z"
      },
      {
        "duration": 28,
        "start_time": "2023-05-03T13:12:53.508Z"
      },
      {
        "duration": 47,
        "start_time": "2023-05-03T13:13:01.904Z"
      },
      {
        "duration": 37,
        "start_time": "2023-05-03T13:13:04.838Z"
      },
      {
        "duration": 64,
        "start_time": "2023-05-03T13:13:22.151Z"
      },
      {
        "duration": 72,
        "start_time": "2023-05-03T13:13:39.033Z"
      },
      {
        "duration": 46,
        "start_time": "2023-05-03T13:13:48.577Z"
      },
      {
        "duration": 57,
        "start_time": "2023-05-03T13:13:56.309Z"
      },
      {
        "duration": 66,
        "start_time": "2023-05-03T13:14:01.098Z"
      },
      {
        "duration": 56,
        "start_time": "2023-05-03T13:14:05.637Z"
      },
      {
        "duration": 214,
        "start_time": "2023-05-03T13:16:07.600Z"
      },
      {
        "duration": 27,
        "start_time": "2023-05-03T13:16:10.056Z"
      },
      {
        "duration": 74,
        "start_time": "2023-05-03T13:17:10.712Z"
      },
      {
        "duration": 53,
        "start_time": "2023-05-03T13:17:45.901Z"
      },
      {
        "duration": 119,
        "start_time": "2023-05-03T13:18:00.383Z"
      },
      {
        "duration": 105,
        "start_time": "2023-05-03T13:18:18.355Z"
      },
      {
        "duration": 105,
        "start_time": "2023-05-03T13:18:34.912Z"
      },
      {
        "duration": 79,
        "start_time": "2023-05-03T13:20:34.887Z"
      },
      {
        "duration": 46,
        "start_time": "2023-05-03T13:20:40.315Z"
      },
      {
        "duration": 4,
        "start_time": "2023-05-03T13:20:54.014Z"
      },
      {
        "duration": 1074,
        "start_time": "2023-05-03T13:20:54.021Z"
      },
      {
        "duration": 5,
        "start_time": "2023-05-03T13:20:55.097Z"
      },
      {
        "duration": 233,
        "start_time": "2023-05-03T13:20:55.104Z"
      },
      {
        "duration": 183,
        "start_time": "2023-05-03T13:20:55.347Z"
      },
      {
        "duration": 1084,
        "start_time": "2023-05-03T13:20:55.532Z"
      },
      {
        "duration": 5,
        "start_time": "2023-05-03T13:20:56.619Z"
      },
      {
        "duration": 54,
        "start_time": "2023-05-03T13:20:56.626Z"
      },
      {
        "duration": 242,
        "start_time": "2023-05-03T13:20:56.682Z"
      },
      {
        "duration": 44,
        "start_time": "2023-05-03T13:20:56.926Z"
      },
      {
        "duration": 13,
        "start_time": "2023-05-03T13:20:56.974Z"
      },
      {
        "duration": 228,
        "start_time": "2023-05-03T13:20:56.989Z"
      },
      {
        "duration": 37,
        "start_time": "2023-05-03T13:20:57.220Z"
      },
      {
        "duration": 147,
        "start_time": "2023-05-03T13:20:57.261Z"
      },
      {
        "duration": 102,
        "start_time": "2023-05-03T13:20:57.410Z"
      },
      {
        "duration": 542,
        "start_time": "2023-05-03T13:20:57.515Z"
      },
      {
        "duration": 63,
        "start_time": "2023-05-03T13:20:58.060Z"
      },
      {
        "duration": 42,
        "start_time": "2023-05-03T13:20:58.125Z"
      },
      {
        "duration": 51,
        "start_time": "2023-05-03T13:20:58.170Z"
      },
      {
        "duration": 67,
        "start_time": "2023-05-03T13:20:58.223Z"
      },
      {
        "duration": 1510,
        "start_time": "2023-05-03T13:20:58.292Z"
      },
      {
        "duration": 9055,
        "start_time": "2023-05-03T13:20:59.804Z"
      },
      {
        "duration": 8224,
        "start_time": "2023-05-03T13:21:08.864Z"
      },
      {
        "duration": 115,
        "start_time": "2023-05-03T13:21:17.091Z"
      },
      {
        "duration": 60,
        "start_time": "2023-05-03T13:21:22.610Z"
      },
      {
        "duration": 93,
        "start_time": "2023-05-03T13:21:36.225Z"
      },
      {
        "duration": 84,
        "start_time": "2023-05-03T13:21:40.059Z"
      },
      {
        "duration": 68,
        "start_time": "2023-05-03T13:21:53.216Z"
      },
      {
        "duration": 81,
        "start_time": "2023-05-03T13:21:59.310Z"
      },
      {
        "duration": 71,
        "start_time": "2023-05-03T13:22:12.535Z"
      },
      {
        "duration": 1109,
        "start_time": "2023-05-03T13:22:14.921Z"
      },
      {
        "duration": 1105,
        "start_time": "2023-05-03T13:22:34.817Z"
      },
      {
        "duration": 5,
        "start_time": "2023-05-03T13:22:48.482Z"
      },
      {
        "duration": 5,
        "start_time": "2023-05-03T13:22:58.526Z"
      },
      {
        "duration": 4753,
        "start_time": "2023-05-03T13:23:12.148Z"
      },
      {
        "duration": 222,
        "start_time": "2023-05-03T13:23:27.417Z"
      },
      {
        "duration": 5,
        "start_time": "2023-05-03T13:24:04.322Z"
      },
      {
        "duration": 1079,
        "start_time": "2023-05-03T13:24:04.330Z"
      },
      {
        "duration": 4,
        "start_time": "2023-05-03T13:24:05.411Z"
      },
      {
        "duration": 181,
        "start_time": "2023-05-03T13:24:05.417Z"
      },
      {
        "duration": 15,
        "start_time": "2023-05-03T13:24:05.600Z"
      },
      {
        "duration": 1065,
        "start_time": "2023-05-03T13:24:05.617Z"
      },
      {
        "duration": 6,
        "start_time": "2023-05-03T13:24:06.685Z"
      },
      {
        "duration": 83,
        "start_time": "2023-05-03T13:24:06.694Z"
      },
      {
        "duration": 167,
        "start_time": "2023-05-03T13:24:06.780Z"
      },
      {
        "duration": 28,
        "start_time": "2023-05-03T13:24:06.950Z"
      },
      {
        "duration": 32,
        "start_time": "2023-05-03T13:24:06.980Z"
      },
      {
        "duration": 351,
        "start_time": "2023-05-03T13:24:07.015Z"
      },
      {
        "duration": 17,
        "start_time": "2023-05-03T13:24:07.368Z"
      },
      {
        "duration": 96,
        "start_time": "2023-05-03T13:24:07.388Z"
      },
      {
        "duration": 89,
        "start_time": "2023-05-03T13:24:07.486Z"
      },
      {
        "duration": 395,
        "start_time": "2023-05-03T13:24:07.577Z"
      },
      {
        "duration": 86,
        "start_time": "2023-05-03T13:24:07.975Z"
      },
      {
        "duration": 21,
        "start_time": "2023-05-03T13:24:08.064Z"
      },
      {
        "duration": 57,
        "start_time": "2023-05-03T13:24:08.088Z"
      },
      {
        "duration": 52,
        "start_time": "2023-05-03T13:24:08.146Z"
      },
      {
        "duration": 1466,
        "start_time": "2023-05-03T13:24:08.200Z"
      },
      {
        "duration": 7812,
        "start_time": "2023-05-03T13:24:09.668Z"
      },
      {
        "duration": 7203,
        "start_time": "2023-05-03T13:24:17.482Z"
      },
      {
        "duration": 85,
        "start_time": "2023-05-03T13:24:24.687Z"
      },
      {
        "duration": 38,
        "start_time": "2023-05-03T13:24:24.774Z"
      },
      {
        "duration": 5,
        "start_time": "2023-05-03T13:24:46.445Z"
      },
      {
        "duration": 163,
        "start_time": "2023-05-03T13:24:54.136Z"
      },
      {
        "duration": 153,
        "start_time": "2023-05-03T13:25:05.130Z"
      },
      {
        "duration": 154,
        "start_time": "2023-05-03T13:25:07.133Z"
      },
      {
        "duration": 4800,
        "start_time": "2023-05-03T13:25:29.883Z"
      },
      {
        "duration": 231,
        "start_time": "2023-05-03T13:25:39.624Z"
      },
      {
        "duration": 213,
        "start_time": "2023-05-03T13:25:54.030Z"
      },
      {
        "duration": 4,
        "start_time": "2023-05-03T13:26:01.720Z"
      },
      {
        "duration": 1774,
        "start_time": "2023-05-03T13:26:09.185Z"
      },
      {
        "duration": 1254,
        "start_time": "2023-05-03T13:26:10.965Z"
      },
      {
        "duration": 5,
        "start_time": "2023-05-03T13:26:12.221Z"
      },
      {
        "duration": 231,
        "start_time": "2023-05-03T13:26:12.228Z"
      },
      {
        "duration": 27,
        "start_time": "2023-05-03T13:26:12.467Z"
      },
      {
        "duration": 1237,
        "start_time": "2023-05-03T13:26:12.497Z"
      },
      {
        "duration": 19,
        "start_time": "2023-05-03T13:26:13.737Z"
      },
      {
        "duration": 35,
        "start_time": "2023-05-03T13:26:13.762Z"
      },
      {
        "duration": 230,
        "start_time": "2023-05-03T13:26:13.799Z"
      },
      {
        "duration": 36,
        "start_time": "2023-05-03T13:26:14.033Z"
      },
      {
        "duration": 26,
        "start_time": "2023-05-03T13:26:14.072Z"
      },
      {
        "duration": 220,
        "start_time": "2023-05-03T13:26:14.100Z"
      },
      {
        "duration": 30,
        "start_time": "2023-05-03T13:26:14.322Z"
      },
      {
        "duration": 102,
        "start_time": "2023-05-03T13:26:14.356Z"
      },
      {
        "duration": 94,
        "start_time": "2023-05-03T13:26:14.465Z"
      },
      {
        "duration": 436,
        "start_time": "2023-05-03T13:26:14.563Z"
      },
      {
        "duration": 95,
        "start_time": "2023-05-03T13:26:15.001Z"
      },
      {
        "duration": 25,
        "start_time": "2023-05-03T13:26:15.099Z"
      },
      {
        "duration": 86,
        "start_time": "2023-05-03T13:26:15.126Z"
      },
      {
        "duration": 88,
        "start_time": "2023-05-03T13:26:15.215Z"
      },
      {
        "duration": 1998,
        "start_time": "2023-05-03T13:26:15.305Z"
      },
      {
        "duration": 8253,
        "start_time": "2023-05-03T13:26:17.306Z"
      },
      {
        "duration": 7752,
        "start_time": "2023-05-03T13:26:25.561Z"
      },
      {
        "duration": 76,
        "start_time": "2023-05-03T13:26:33.315Z"
      },
      {
        "duration": 54,
        "start_time": "2023-05-03T13:26:33.393Z"
      },
      {
        "duration": 31,
        "start_time": "2023-05-03T13:26:33.449Z"
      },
      {
        "duration": 31,
        "start_time": "2023-05-03T13:26:33.483Z"
      },
      {
        "duration": 24,
        "start_time": "2023-05-03T13:26:33.516Z"
      },
      {
        "duration": 42,
        "start_time": "2023-05-03T13:26:33.542Z"
      },
      {
        "duration": 24,
        "start_time": "2023-05-03T13:26:33.586Z"
      },
      {
        "duration": 141,
        "start_time": "2023-05-03T13:26:38.899Z"
      },
      {
        "duration": 4378,
        "start_time": "2023-05-03T13:27:27.723Z"
      },
      {
        "duration": 170,
        "start_time": "2023-05-03T13:27:35.925Z"
      },
      {
        "duration": 410,
        "start_time": "2023-05-03T13:33:00.234Z"
      },
      {
        "duration": 4298,
        "start_time": "2023-05-03T13:33:13.660Z"
      },
      {
        "duration": 115,
        "start_time": "2023-05-03T13:33:19.078Z"
      },
      {
        "duration": 4159,
        "start_time": "2023-05-03T13:33:30.979Z"
      },
      {
        "duration": 113,
        "start_time": "2023-05-03T13:33:38.982Z"
      },
      {
        "duration": 237,
        "start_time": "2023-05-03T13:39:07.603Z"
      },
      {
        "duration": 5136,
        "start_time": "2023-05-03T13:39:34.666Z"
      },
      {
        "duration": 112,
        "start_time": "2023-05-03T13:39:42.422Z"
      },
      {
        "duration": 6,
        "start_time": "2023-05-03T13:40:31.865Z"
      },
      {
        "duration": 6,
        "start_time": "2023-05-03T13:40:51.979Z"
      },
      {
        "duration": 118,
        "start_time": "2023-05-03T13:41:30.487Z"
      },
      {
        "duration": 171,
        "start_time": "2023-05-03T13:41:31.517Z"
      },
      {
        "duration": 2377,
        "start_time": "2023-05-03T13:42:29.800Z"
      },
      {
        "duration": 5231,
        "start_time": "2023-05-03T13:43:10.460Z"
      },
      {
        "duration": 119,
        "start_time": "2023-05-03T13:43:23.016Z"
      },
      {
        "duration": 6,
        "start_time": "2023-05-03T13:43:30.286Z"
      },
      {
        "duration": 146,
        "start_time": "2023-05-03T13:46:01.892Z"
      },
      {
        "duration": 2729,
        "start_time": "2023-05-03T13:47:38.327Z"
      },
      {
        "duration": 2144,
        "start_time": "2023-05-03T13:48:38.205Z"
      },
      {
        "duration": 2318,
        "start_time": "2023-05-03T13:49:44.419Z"
      },
      {
        "duration": 2238,
        "start_time": "2023-05-03T13:50:18.247Z"
      },
      {
        "duration": 104,
        "start_time": "2023-05-03T13:53:14.075Z"
      },
      {
        "duration": 3124,
        "start_time": "2023-05-03T13:53:30.350Z"
      },
      {
        "duration": 112,
        "start_time": "2023-05-03T13:53:37.056Z"
      },
      {
        "duration": 5286,
        "start_time": "2023-05-03T13:55:26.090Z"
      },
      {
        "duration": 113,
        "start_time": "2023-05-03T13:55:33.236Z"
      },
      {
        "duration": 7472,
        "start_time": "2023-05-03T13:56:00.060Z"
      },
      {
        "duration": 118,
        "start_time": "2023-05-03T13:56:09.018Z"
      },
      {
        "duration": 1352,
        "start_time": "2023-05-03T13:56:17.885Z"
      },
      {
        "duration": 996,
        "start_time": "2023-05-03T13:56:19.240Z"
      },
      {
        "duration": 5,
        "start_time": "2023-05-03T13:56:20.238Z"
      },
      {
        "duration": 216,
        "start_time": "2023-05-03T13:56:20.245Z"
      },
      {
        "duration": 18,
        "start_time": "2023-05-03T13:56:20.464Z"
      },
      {
        "duration": 895,
        "start_time": "2023-05-03T13:56:20.484Z"
      },
      {
        "duration": 4,
        "start_time": "2023-05-03T13:56:21.381Z"
      },
      {
        "duration": 142,
        "start_time": "2023-05-03T13:56:21.387Z"
      },
      {
        "duration": 120,
        "start_time": "2023-05-03T13:56:21.532Z"
      },
      {
        "duration": 23,
        "start_time": "2023-05-03T13:56:21.654Z"
      },
      {
        "duration": 15,
        "start_time": "2023-05-03T13:56:21.679Z"
      },
      {
        "duration": 190,
        "start_time": "2023-05-03T13:56:21.696Z"
      },
      {
        "duration": 16,
        "start_time": "2023-05-03T13:56:21.887Z"
      },
      {
        "duration": 91,
        "start_time": "2023-05-03T13:56:21.906Z"
      },
      {
        "duration": 84,
        "start_time": "2023-05-03T13:56:21.999Z"
      },
      {
        "duration": 361,
        "start_time": "2023-05-03T13:56:22.085Z"
      },
      {
        "duration": 56,
        "start_time": "2023-05-03T13:56:22.448Z"
      },
      {
        "duration": 35,
        "start_time": "2023-05-03T13:56:22.516Z"
      },
      {
        "duration": 60,
        "start_time": "2023-05-03T13:56:22.553Z"
      },
      {
        "duration": 50,
        "start_time": "2023-05-03T13:56:22.614Z"
      },
      {
        "duration": 1476,
        "start_time": "2023-05-03T13:56:22.667Z"
      },
      {
        "duration": 7229,
        "start_time": "2023-05-03T13:56:24.145Z"
      },
      {
        "duration": 6722,
        "start_time": "2023-05-03T13:56:31.377Z"
      },
      {
        "duration": 75,
        "start_time": "2023-05-03T13:56:38.102Z"
      },
      {
        "duration": 35,
        "start_time": "2023-05-03T13:56:38.179Z"
      },
      {
        "duration": 7476,
        "start_time": "2023-05-03T13:56:38.216Z"
      },
      {
        "duration": 3,
        "start_time": "2023-05-03T13:56:45.694Z"
      },
      {
        "duration": 110,
        "start_time": "2023-05-03T13:56:49.047Z"
      },
      {
        "duration": 12766,
        "start_time": "2023-05-03T14:05:37.014Z"
      },
      {
        "duration": 12968,
        "start_time": "2023-05-03T14:07:10.674Z"
      },
      {
        "duration": 121,
        "start_time": "2023-05-03T14:07:34.249Z"
      },
      {
        "duration": 22,
        "start_time": "2023-05-03T14:07:57.983Z"
      },
      {
        "duration": 31,
        "start_time": "2023-05-03T14:08:28.148Z"
      },
      {
        "duration": 72,
        "start_time": "2023-05-03T14:08:47.646Z"
      },
      {
        "duration": 16,
        "start_time": "2023-05-03T14:08:50.420Z"
      },
      {
        "duration": 16,
        "start_time": "2023-05-03T14:08:54.953Z"
      },
      {
        "duration": 30,
        "start_time": "2023-05-03T14:09:18.633Z"
      },
      {
        "duration": 29,
        "start_time": "2023-05-03T14:10:15.641Z"
      },
      {
        "duration": 45,
        "start_time": "2023-05-03T14:10:30.083Z"
      },
      {
        "duration": 27,
        "start_time": "2023-05-03T14:10:55.606Z"
      },
      {
        "duration": 23,
        "start_time": "2023-05-03T14:10:58.354Z"
      },
      {
        "duration": 23,
        "start_time": "2023-05-03T14:11:05.419Z"
      },
      {
        "duration": 23,
        "start_time": "2023-05-03T14:11:11.060Z"
      },
      {
        "duration": 32,
        "start_time": "2023-05-03T14:11:19.655Z"
      },
      {
        "duration": 22,
        "start_time": "2023-05-03T14:11:22.997Z"
      },
      {
        "duration": 23,
        "start_time": "2023-05-03T14:11:32.220Z"
      },
      {
        "duration": 35,
        "start_time": "2023-05-03T14:11:38.039Z"
      },
      {
        "duration": 4,
        "start_time": "2023-05-03T14:12:36.332Z"
      },
      {
        "duration": 927,
        "start_time": "2023-05-03T14:12:36.339Z"
      },
      {
        "duration": 3,
        "start_time": "2023-05-03T14:12:37.268Z"
      },
      {
        "duration": 158,
        "start_time": "2023-05-03T14:12:37.273Z"
      },
      {
        "duration": 18,
        "start_time": "2023-05-03T14:12:37.434Z"
      },
      {
        "duration": 871,
        "start_time": "2023-05-03T14:12:37.454Z"
      },
      {
        "duration": 14,
        "start_time": "2023-05-03T14:12:38.327Z"
      },
      {
        "duration": 25,
        "start_time": "2023-05-03T14:12:38.343Z"
      },
      {
        "duration": 139,
        "start_time": "2023-05-03T14:12:38.370Z"
      },
      {
        "duration": 33,
        "start_time": "2023-05-03T14:12:38.511Z"
      },
      {
        "duration": 19,
        "start_time": "2023-05-03T14:12:38.546Z"
      },
      {
        "duration": 190,
        "start_time": "2023-05-03T14:12:38.566Z"
      },
      {
        "duration": 14,
        "start_time": "2023-05-03T14:12:38.758Z"
      },
      {
        "duration": 74,
        "start_time": "2023-05-03T14:12:38.774Z"
      },
      {
        "duration": 73,
        "start_time": "2023-05-03T14:12:38.850Z"
      },
      {
        "duration": 401,
        "start_time": "2023-05-03T14:12:38.925Z"
      },
      {
        "duration": 59,
        "start_time": "2023-05-03T14:12:39.328Z"
      },
      {
        "duration": 22,
        "start_time": "2023-05-03T14:12:39.389Z"
      },
      {
        "duration": 55,
        "start_time": "2023-05-03T14:12:39.413Z"
      },
      {
        "duration": 49,
        "start_time": "2023-05-03T14:12:39.470Z"
      },
      {
        "duration": 1472,
        "start_time": "2023-05-03T14:12:39.521Z"
      },
      {
        "duration": 7160,
        "start_time": "2023-05-03T14:12:40.995Z"
      },
      {
        "duration": 6540,
        "start_time": "2023-05-03T14:12:48.157Z"
      },
      {
        "duration": 68,
        "start_time": "2023-05-03T14:12:54.699Z"
      },
      {
        "duration": 36,
        "start_time": "2023-05-03T14:12:54.769Z"
      },
      {
        "duration": 7468,
        "start_time": "2023-05-03T14:12:54.807Z"
      },
      {
        "duration": 25,
        "start_time": "2023-05-03T14:13:32.338Z"
      },
      {
        "duration": 68,
        "start_time": "2023-05-03T14:13:35.921Z"
      },
      {
        "duration": 34,
        "start_time": "2023-05-03T14:13:40.631Z"
      },
      {
        "duration": 138,
        "start_time": "2023-05-03T14:13:46.580Z"
      },
      {
        "duration": 12412,
        "start_time": "2023-05-03T14:13:53.565Z"
      },
      {
        "duration": 110,
        "start_time": "2023-05-03T14:14:09.287Z"
      },
      {
        "duration": 24,
        "start_time": "2023-05-03T14:14:12.388Z"
      },
      {
        "duration": 21,
        "start_time": "2023-05-03T14:14:38.469Z"
      },
      {
        "duration": 20,
        "start_time": "2023-05-03T14:14:47.017Z"
      },
      {
        "duration": 17,
        "start_time": "2023-05-03T14:15:10.959Z"
      },
      {
        "duration": 6,
        "start_time": "2023-05-03T14:15:17.586Z"
      },
      {
        "duration": 33,
        "start_time": "2023-05-03T14:15:24.418Z"
      },
      {
        "duration": 113,
        "start_time": "2023-05-03T14:15:59.574Z"
      },
      {
        "duration": 126,
        "start_time": "2023-05-03T17:15:32.739Z"
      },
      {
        "duration": 112,
        "start_time": "2023-05-03T17:15:42.512Z"
      },
      {
        "duration": 30,
        "start_time": "2023-05-03T17:20:23.726Z"
      },
      {
        "duration": 121,
        "start_time": "2023-05-03T17:20:25.774Z"
      },
      {
        "duration": 37,
        "start_time": "2023-05-03T17:20:37.408Z"
      },
      {
        "duration": 117,
        "start_time": "2023-05-03T17:20:38.936Z"
      },
      {
        "duration": 23,
        "start_time": "2023-05-03T17:21:21.328Z"
      },
      {
        "duration": 23,
        "start_time": "2023-05-03T17:21:27.475Z"
      },
      {
        "duration": 114,
        "start_time": "2023-05-03T17:22:03.891Z"
      },
      {
        "duration": 474,
        "start_time": "2023-05-03T17:24:20.228Z"
      },
      {
        "duration": 486,
        "start_time": "2023-05-03T17:24:30.603Z"
      },
      {
        "duration": 490,
        "start_time": "2023-05-03T17:25:01.286Z"
      },
      {
        "duration": 465,
        "start_time": "2023-05-03T17:26:31.417Z"
      },
      {
        "duration": 13,
        "start_time": "2023-05-03T17:27:41.413Z"
      },
      {
        "duration": 15,
        "start_time": "2023-05-03T17:27:55.505Z"
      },
      {
        "duration": 11,
        "start_time": "2023-05-03T17:28:18.307Z"
      },
      {
        "duration": 528,
        "start_time": "2023-05-03T17:28:30.903Z"
      },
      {
        "duration": 564,
        "start_time": "2023-05-03T17:28:57.058Z"
      },
      {
        "duration": 471,
        "start_time": "2023-05-03T17:29:07.867Z"
      },
      {
        "duration": 87,
        "start_time": "2023-05-03T17:29:21.705Z"
      },
      {
        "duration": 11,
        "start_time": "2023-05-03T17:29:40.226Z"
      },
      {
        "duration": 536,
        "start_time": "2023-05-03T17:31:23.506Z"
      },
      {
        "duration": 692,
        "start_time": "2023-05-03T17:31:31.245Z"
      },
      {
        "duration": 513,
        "start_time": "2023-05-03T17:31:33.993Z"
      },
      {
        "duration": 504,
        "start_time": "2023-05-03T17:31:42.291Z"
      },
      {
        "duration": 120,
        "start_time": "2023-05-03T17:42:10.331Z"
      },
      {
        "duration": 20,
        "start_time": "2023-05-03T17:42:27.402Z"
      },
      {
        "duration": 21,
        "start_time": "2023-05-03T17:42:30.744Z"
      },
      {
        "duration": 568,
        "start_time": "2023-05-03T17:43:39.799Z"
      },
      {
        "duration": 524,
        "start_time": "2023-05-03T17:43:42.112Z"
      },
      {
        "duration": 18,
        "start_time": "2023-05-03T17:43:45.534Z"
      },
      {
        "duration": 1294,
        "start_time": "2023-05-03T17:43:54.506Z"
      },
      {
        "duration": 1025,
        "start_time": "2023-05-03T17:43:55.802Z"
      },
      {
        "duration": 4,
        "start_time": "2023-05-03T17:43:56.829Z"
      },
      {
        "duration": 128,
        "start_time": "2023-05-03T17:43:56.841Z"
      },
      {
        "duration": 17,
        "start_time": "2023-05-03T17:43:56.972Z"
      },
      {
        "duration": 916,
        "start_time": "2023-05-03T17:43:56.991Z"
      },
      {
        "duration": 4,
        "start_time": "2023-05-03T17:43:57.908Z"
      },
      {
        "duration": 18,
        "start_time": "2023-05-03T17:43:57.914Z"
      },
      {
        "duration": 117,
        "start_time": "2023-05-03T17:43:57.934Z"
      },
      {
        "duration": 23,
        "start_time": "2023-05-03T17:43:58.053Z"
      },
      {
        "duration": 24,
        "start_time": "2023-05-03T17:43:58.078Z"
      },
      {
        "duration": 182,
        "start_time": "2023-05-03T17:43:58.104Z"
      },
      {
        "duration": 16,
        "start_time": "2023-05-03T17:43:58.287Z"
      },
      {
        "duration": 93,
        "start_time": "2023-05-03T17:43:58.306Z"
      },
      {
        "duration": 84,
        "start_time": "2023-05-03T17:43:58.401Z"
      },
      {
        "duration": 364,
        "start_time": "2023-05-03T17:43:58.488Z"
      },
      {
        "duration": 52,
        "start_time": "2023-05-03T17:43:58.854Z"
      },
      {
        "duration": 39,
        "start_time": "2023-05-03T17:43:58.908Z"
      },
      {
        "duration": 40,
        "start_time": "2023-05-03T17:43:58.948Z"
      },
      {
        "duration": 58,
        "start_time": "2023-05-03T17:43:58.990Z"
      },
      {
        "duration": 1461,
        "start_time": "2023-05-03T17:43:59.049Z"
      },
      {
        "duration": 7161,
        "start_time": "2023-05-03T17:44:00.512Z"
      },
      {
        "duration": 6493,
        "start_time": "2023-05-03T17:44:07.676Z"
      },
      {
        "duration": 76,
        "start_time": "2023-05-03T17:44:14.171Z"
      },
      {
        "duration": 36,
        "start_time": "2023-05-03T17:44:14.249Z"
      },
      {
        "duration": 7353,
        "start_time": "2023-05-03T17:44:14.287Z"
      },
      {
        "duration": 29,
        "start_time": "2023-05-03T17:44:21.642Z"
      },
      {
        "duration": 14302,
        "start_time": "2023-05-03T17:44:21.673Z"
      },
      {
        "duration": 16,
        "start_time": "2023-05-03T17:44:35.977Z"
      },
      {
        "duration": 49,
        "start_time": "2023-05-03T17:44:35.995Z"
      },
      {
        "duration": 147,
        "start_time": "2023-05-03T17:44:36.047Z"
      },
      {
        "duration": 597,
        "start_time": "2023-05-03T17:44:36.197Z"
      },
      {
        "duration": 664,
        "start_time": "2023-05-03T17:44:36.796Z"
      },
      {
        "duration": 499,
        "start_time": "2023-05-03T17:44:37.462Z"
      },
      {
        "duration": 19,
        "start_time": "2023-05-03T17:44:37.963Z"
      },
      {
        "duration": 3,
        "start_time": "2023-05-03T17:49:20.164Z"
      },
      {
        "duration": 143,
        "start_time": "2023-05-03T17:50:42.363Z"
      },
      {
        "duration": 44,
        "start_time": "2023-05-03T17:50:48.455Z"
      },
      {
        "duration": 53,
        "start_time": "2023-05-03T17:55:10.673Z"
      },
      {
        "duration": 32,
        "start_time": "2023-05-03T17:55:15.968Z"
      },
      {
        "duration": 7,
        "start_time": "2023-05-03T17:55:46.219Z"
      },
      {
        "duration": 39,
        "start_time": "2023-05-03T17:55:56.020Z"
      },
      {
        "duration": 6,
        "start_time": "2023-05-03T17:56:08.569Z"
      },
      {
        "duration": 57,
        "start_time": "2023-05-03T17:56:20.608Z"
      },
      {
        "duration": 1841,
        "start_time": "2023-05-03T17:56:23.253Z"
      },
      {
        "duration": 25,
        "start_time": "2023-05-03T17:56:32.985Z"
      },
      {
        "duration": 17,
        "start_time": "2023-05-03T17:57:04.008Z"
      },
      {
        "duration": 1354,
        "start_time": "2023-05-04T06:52:16.049Z"
      },
      {
        "duration": 2989,
        "start_time": "2023-05-04T06:52:17.405Z"
      },
      {
        "duration": 4,
        "start_time": "2023-05-04T06:52:20.396Z"
      },
      {
        "duration": 211,
        "start_time": "2023-05-04T06:52:20.403Z"
      },
      {
        "duration": 17,
        "start_time": "2023-05-04T06:52:20.616Z"
      },
      {
        "duration": 856,
        "start_time": "2023-05-04T06:52:20.635Z"
      },
      {
        "duration": 4,
        "start_time": "2023-05-04T06:52:21.494Z"
      },
      {
        "duration": 20,
        "start_time": "2023-05-04T06:52:21.500Z"
      },
      {
        "duration": 200,
        "start_time": "2023-05-04T06:52:21.522Z"
      },
      {
        "duration": 34,
        "start_time": "2023-05-04T06:52:21.726Z"
      },
      {
        "duration": 18,
        "start_time": "2023-05-04T06:52:21.763Z"
      },
      {
        "duration": 208,
        "start_time": "2023-05-04T06:52:21.783Z"
      },
      {
        "duration": 14,
        "start_time": "2023-05-04T06:52:21.993Z"
      },
      {
        "duration": 84,
        "start_time": "2023-05-04T06:52:22.009Z"
      },
      {
        "duration": 69,
        "start_time": "2023-05-04T06:52:22.095Z"
      },
      {
        "duration": 327,
        "start_time": "2023-05-04T06:52:22.166Z"
      },
      {
        "duration": 97,
        "start_time": "2023-05-04T06:52:22.495Z"
      },
      {
        "duration": 29,
        "start_time": "2023-05-04T06:52:22.594Z"
      },
      {
        "duration": 76,
        "start_time": "2023-05-04T06:52:22.625Z"
      },
      {
        "duration": 126,
        "start_time": "2023-05-04T06:52:22.703Z"
      },
      {
        "duration": 1459,
        "start_time": "2023-05-04T06:52:22.831Z"
      },
      {
        "duration": 6926,
        "start_time": "2023-05-04T06:52:24.292Z"
      },
      {
        "duration": 5829,
        "start_time": "2023-05-04T06:52:31.220Z"
      },
      {
        "duration": 69,
        "start_time": "2023-05-04T06:52:37.051Z"
      },
      {
        "duration": 37,
        "start_time": "2023-05-04T06:52:37.122Z"
      },
      {
        "duration": 8260,
        "start_time": "2023-05-04T06:52:37.160Z"
      },
      {
        "duration": 42,
        "start_time": "2023-05-04T06:52:45.422Z"
      },
      {
        "duration": 14403,
        "start_time": "2023-05-04T06:52:45.469Z"
      },
      {
        "duration": 23,
        "start_time": "2023-05-04T06:52:59.874Z"
      },
      {
        "duration": 42,
        "start_time": "2023-05-04T06:52:59.899Z"
      },
      {
        "duration": 152,
        "start_time": "2023-05-04T06:52:59.943Z"
      },
      {
        "duration": 445,
        "start_time": "2023-05-04T06:53:00.097Z"
      },
      {
        "duration": 635,
        "start_time": "2023-05-04T06:53:00.544Z"
      },
      {
        "duration": 436,
        "start_time": "2023-05-04T06:53:01.181Z"
      },
      {
        "duration": 18,
        "start_time": "2023-05-04T06:53:01.619Z"
      },
      {
        "duration": 83,
        "start_time": "2023-05-04T06:53:01.639Z"
      },
      {
        "duration": 14,
        "start_time": "2023-05-04T06:53:01.724Z"
      },
      {
        "duration": 299,
        "start_time": "2023-05-04T06:58:18.537Z"
      },
      {
        "duration": 3,
        "start_time": "2023-05-04T08:59:32.948Z"
      },
      {
        "duration": 15,
        "start_time": "2023-05-04T09:01:35.526Z"
      },
      {
        "duration": 6,
        "start_time": "2023-05-04T09:01:38.537Z"
      },
      {
        "duration": 19,
        "start_time": "2023-05-04T09:01:44.426Z"
      },
      {
        "duration": 6,
        "start_time": "2023-05-04T09:01:49.192Z"
      },
      {
        "duration": 22,
        "start_time": "2023-05-04T09:02:02.035Z"
      },
      {
        "duration": 105,
        "start_time": "2023-05-04T09:03:30.858Z"
      },
      {
        "duration": 5,
        "start_time": "2023-05-04T09:05:42.203Z"
      },
      {
        "duration": 5,
        "start_time": "2023-05-04T09:06:18.077Z"
      },
      {
        "duration": 4,
        "start_time": "2023-05-04T09:13:05.414Z"
      },
      {
        "duration": 4062,
        "start_time": "2023-05-04T09:16:23.912Z"
      },
      {
        "duration": 108,
        "start_time": "2023-05-04T09:16:35.205Z"
      },
      {
        "duration": 4,
        "start_time": "2023-05-04T09:17:11.149Z"
      },
      {
        "duration": 6,
        "start_time": "2023-05-04T09:17:52.824Z"
      },
      {
        "duration": 2382,
        "start_time": "2023-05-04T09:22:36.572Z"
      },
      {
        "duration": 3,
        "start_time": "2023-05-04T09:29:11.052Z"
      },
      {
        "duration": 104,
        "start_time": "2023-05-04T09:29:55.892Z"
      },
      {
        "duration": 23295,
        "start_time": "2023-05-04T09:30:00.590Z"
      },
      {
        "duration": 6,
        "start_time": "2023-05-04T09:33:10.944Z"
      },
      {
        "duration": 4,
        "start_time": "2023-05-04T09:33:37.084Z"
      },
      {
        "duration": 25336,
        "start_time": "2023-05-04T09:34:36.648Z"
      },
      {
        "duration": 104,
        "start_time": "2023-05-04T09:35:01.986Z"
      },
      {
        "duration": 168,
        "start_time": "2023-05-04T09:36:36.517Z"
      },
      {
        "duration": 4,
        "start_time": "2023-05-04T09:37:02.001Z"
      },
      {
        "duration": 96,
        "start_time": "2023-05-04T09:37:04.887Z"
      },
      {
        "duration": 98,
        "start_time": "2023-05-04T09:37:45.584Z"
      },
      {
        "duration": 28,
        "start_time": "2023-05-04T09:37:48.812Z"
      },
      {
        "duration": 6,
        "start_time": "2023-05-04T09:43:55.042Z"
      },
      {
        "duration": 3,
        "start_time": "2023-05-04T09:44:20.786Z"
      },
      {
        "duration": 6,
        "start_time": "2023-05-04T09:45:05.699Z"
      },
      {
        "duration": 12,
        "start_time": "2023-05-04T09:46:00.103Z"
      },
      {
        "duration": 36,
        "start_time": "2023-05-04T09:57:40.285Z"
      },
      {
        "duration": 20,
        "start_time": "2023-05-04T10:00:45.212Z"
      },
      {
        "duration": 4,
        "start_time": "2023-05-04T10:15:37.524Z"
      },
      {
        "duration": 21,
        "start_time": "2023-05-04T10:16:39.173Z"
      },
      {
        "duration": 4,
        "start_time": "2023-05-04T10:17:31.427Z"
      },
      {
        "duration": 33,
        "start_time": "2023-05-04T10:17:33.605Z"
      },
      {
        "duration": 64,
        "start_time": "2023-05-04T10:21:57.988Z"
      },
      {
        "duration": 3,
        "start_time": "2023-05-04T10:22:07.682Z"
      },
      {
        "duration": 34,
        "start_time": "2023-05-04T10:22:10.081Z"
      },
      {
        "duration": 117,
        "start_time": "2023-05-04T10:22:29.378Z"
      },
      {
        "duration": 4,
        "start_time": "2023-05-04T10:22:46.933Z"
      },
      {
        "duration": 32,
        "start_time": "2023-05-04T10:22:48.974Z"
      },
      {
        "duration": 3,
        "start_time": "2023-05-04T10:23:34.025Z"
      },
      {
        "duration": 7,
        "start_time": "2023-05-04T10:24:02.390Z"
      },
      {
        "duration": 24,
        "start_time": "2023-05-04T10:24:17.318Z"
      },
      {
        "duration": 3,
        "start_time": "2023-05-04T10:24:29.723Z"
      },
      {
        "duration": 4,
        "start_time": "2023-05-04T10:25:54.597Z"
      },
      {
        "duration": 3,
        "start_time": "2023-05-04T10:26:05.508Z"
      },
      {
        "duration": 10,
        "start_time": "2023-05-04T10:32:08.755Z"
      },
      {
        "duration": 72,
        "start_time": "2023-05-04T10:32:12.481Z"
      },
      {
        "duration": 17,
        "start_time": "2023-05-04T10:32:22.580Z"
      },
      {
        "duration": 4,
        "start_time": "2023-05-04T10:32:37.017Z"
      },
      {
        "duration": 21,
        "start_time": "2023-05-04T10:32:39.886Z"
      },
      {
        "duration": 14,
        "start_time": "2023-05-04T10:34:11.541Z"
      },
      {
        "duration": 92,
        "start_time": "2023-05-04T10:34:30.889Z"
      },
      {
        "duration": 27,
        "start_time": "2023-05-04T10:35:08.281Z"
      },
      {
        "duration": 434,
        "start_time": "2023-05-04T10:35:23.828Z"
      },
      {
        "duration": 18,
        "start_time": "2023-05-04T10:35:37.234Z"
      },
      {
        "duration": 88,
        "start_time": "2023-05-04T10:35:57.517Z"
      },
      {
        "duration": 398,
        "start_time": "2023-05-04T10:38:19.922Z"
      },
      {
        "duration": 422,
        "start_time": "2023-05-04T10:38:26.242Z"
      },
      {
        "duration": 371,
        "start_time": "2023-05-04T10:38:44.239Z"
      },
      {
        "duration": 5,
        "start_time": "2023-05-04T10:38:55.348Z"
      },
      {
        "duration": 17,
        "start_time": "2023-05-04T10:39:13.274Z"
      },
      {
        "duration": 29,
        "start_time": "2023-05-04T10:39:35.988Z"
      },
      {
        "duration": 133,
        "start_time": "2023-05-04T10:39:56.705Z"
      },
      {
        "duration": 90,
        "start_time": "2023-05-04T10:39:59.025Z"
      },
      {
        "duration": 160,
        "start_time": "2023-05-04T10:40:00.974Z"
      },
      {
        "duration": 19,
        "start_time": "2023-05-04T10:40:13.802Z"
      },
      {
        "duration": 1589,
        "start_time": "2023-05-04T10:40:22.481Z"
      },
      {
        "duration": 19,
        "start_time": "2023-05-04T10:40:29.501Z"
      },
      {
        "duration": 101,
        "start_time": "2023-05-04T10:41:19.705Z"
      },
      {
        "duration": 412,
        "start_time": "2023-05-04T10:41:28.015Z"
      },
      {
        "duration": 17,
        "start_time": "2023-05-04T10:41:31.439Z"
      },
      {
        "duration": 515,
        "start_time": "2023-05-04T10:43:41.922Z"
      },
      {
        "duration": 592,
        "start_time": "2023-05-04T10:46:45.593Z"
      },
      {
        "duration": 3,
        "start_time": "2023-05-04T10:48:20.254Z"
      },
      {
        "duration": 3,
        "start_time": "2023-05-04T10:48:31.349Z"
      },
      {
        "duration": 4,
        "start_time": "2023-05-04T10:49:43.897Z"
      },
      {
        "duration": 13142,
        "start_time": "2023-05-04T10:49:58.069Z"
      },
      {
        "duration": 226073,
        "start_time": "2023-05-04T10:51:04.630Z"
      },
      {
        "duration": 589,
        "start_time": "2023-05-04T10:56:20.550Z"
      },
      {
        "duration": 3,
        "start_time": "2023-05-04T10:57:13.045Z"
      },
      {
        "duration": 233551,
        "start_time": "2023-05-04T10:57:16.247Z"
      },
      {
        "duration": 11,
        "start_time": "2023-05-04T11:02:24.197Z"
      },
      {
        "duration": 3554,
        "start_time": "2023-05-04T11:04:06.771Z"
      },
      {
        "duration": 3610,
        "start_time": "2023-05-04T11:04:30.281Z"
      },
      {
        "duration": 122,
        "start_time": "2023-05-04T11:05:25.997Z"
      },
      {
        "duration": 4,
        "start_time": "2023-05-04T11:05:29.056Z"
      },
      {
        "duration": 3457,
        "start_time": "2023-05-04T11:05:59.652Z"
      },
      {
        "duration": 3,
        "start_time": "2023-05-04T11:06:48.038Z"
      },
      {
        "duration": 218156,
        "start_time": "2023-05-04T11:06:53.649Z"
      },
      {
        "duration": 3482,
        "start_time": "2023-05-04T11:10:31.807Z"
      },
      {
        "duration": 0,
        "start_time": "2023-05-04T11:14:02.503Z"
      },
      {
        "duration": 0,
        "start_time": "2023-05-04T11:14:02.504Z"
      },
      {
        "duration": 0,
        "start_time": "2023-05-04T11:14:02.505Z"
      },
      {
        "duration": 3,
        "start_time": "2023-05-04T11:14:04.429Z"
      },
      {
        "duration": 4,
        "start_time": "2023-05-04T11:14:08.903Z"
      },
      {
        "duration": 170104,
        "start_time": "2023-05-04T11:14:11.794Z"
      },
      {
        "duration": 2916,
        "start_time": "2023-05-04T11:17:01.901Z"
      },
      {
        "duration": 2713,
        "start_time": "2023-05-04T11:19:54.403Z"
      },
      {
        "duration": 5,
        "start_time": "2023-05-04T11:21:32.058Z"
      },
      {
        "duration": 5,
        "start_time": "2023-05-04T11:22:12.204Z"
      },
      {
        "duration": 1931,
        "start_time": "2023-05-04T11:34:34.101Z"
      },
      {
        "duration": 765,
        "start_time": "2023-05-04T11:34:36.034Z"
      },
      {
        "duration": 4,
        "start_time": "2023-05-04T11:34:36.801Z"
      },
      {
        "duration": 137,
        "start_time": "2023-05-04T11:34:36.807Z"
      },
      {
        "duration": 15,
        "start_time": "2023-05-04T11:34:36.946Z"
      },
      {
        "duration": 763,
        "start_time": "2023-05-04T11:34:36.962Z"
      },
      {
        "duration": 4,
        "start_time": "2023-05-04T11:34:37.726Z"
      },
      {
        "duration": 39,
        "start_time": "2023-05-04T11:34:37.732Z"
      },
      {
        "duration": 163,
        "start_time": "2023-05-04T11:34:37.773Z"
      },
      {
        "duration": 71,
        "start_time": "2023-05-04T11:34:37.940Z"
      },
      {
        "duration": 33,
        "start_time": "2023-05-04T11:34:38.013Z"
      },
      {
        "duration": 264,
        "start_time": "2023-05-04T11:34:38.048Z"
      },
      {
        "duration": 14,
        "start_time": "2023-05-04T11:34:38.314Z"
      },
      {
        "duration": 84,
        "start_time": "2023-05-04T11:34:38.330Z"
      },
      {
        "duration": 78,
        "start_time": "2023-05-04T11:34:38.417Z"
      },
      {
        "duration": 315,
        "start_time": "2023-05-04T11:34:38.497Z"
      },
      {
        "duration": 47,
        "start_time": "2023-05-04T11:34:38.813Z"
      },
      {
        "duration": 35,
        "start_time": "2023-05-04T11:34:38.861Z"
      },
      {
        "duration": 73,
        "start_time": "2023-05-04T11:34:38.897Z"
      },
      {
        "duration": 37,
        "start_time": "2023-05-04T11:34:38.972Z"
      },
      {
        "duration": 1360,
        "start_time": "2023-05-04T11:34:39.010Z"
      },
      {
        "duration": 6242,
        "start_time": "2023-05-04T11:34:40.371Z"
      },
      {
        "duration": 5180,
        "start_time": "2023-05-04T11:34:46.615Z"
      },
      {
        "duration": 58,
        "start_time": "2023-05-04T11:34:51.796Z"
      },
      {
        "duration": 46,
        "start_time": "2023-05-04T11:34:51.856Z"
      },
      {
        "duration": 7011,
        "start_time": "2023-05-04T11:34:51.904Z"
      },
      {
        "duration": 22,
        "start_time": "2023-05-04T11:34:58.917Z"
      },
      {
        "duration": 12341,
        "start_time": "2023-05-04T11:34:58.942Z"
      },
      {
        "duration": 18,
        "start_time": "2023-05-04T11:35:11.284Z"
      },
      {
        "duration": 40,
        "start_time": "2023-05-04T11:35:11.304Z"
      },
      {
        "duration": 143,
        "start_time": "2023-05-04T11:35:11.345Z"
      },
      {
        "duration": 408,
        "start_time": "2023-05-04T11:35:11.490Z"
      },
      {
        "duration": 470,
        "start_time": "2023-05-04T11:35:11.900Z"
      },
      {
        "duration": 369,
        "start_time": "2023-05-04T11:35:12.372Z"
      },
      {
        "duration": 15,
        "start_time": "2023-05-04T11:35:12.743Z"
      },
      {
        "duration": 55,
        "start_time": "2023-05-04T11:35:12.760Z"
      },
      {
        "duration": 13,
        "start_time": "2023-05-04T11:35:12.817Z"
      },
      {
        "duration": 23,
        "start_time": "2023-05-04T11:35:12.831Z"
      },
      {
        "duration": 99,
        "start_time": "2023-05-04T11:35:12.855Z"
      },
      {
        "duration": 4,
        "start_time": "2023-05-04T11:35:12.956Z"
      },
      {
        "duration": 9,
        "start_time": "2023-05-04T11:35:12.962Z"
      },
      {
        "duration": 5,
        "start_time": "2023-05-04T11:35:12.983Z"
      },
      {
        "duration": 3614,
        "start_time": "2023-05-04T11:35:12.990Z"
      },
      {
        "duration": 4,
        "start_time": "2023-05-04T11:35:16.605Z"
      },
      {
        "duration": 2434,
        "start_time": "2023-05-04T11:35:16.610Z"
      },
      {
        "duration": 115,
        "start_time": "2023-05-04T11:35:19.046Z"
      },
      {
        "duration": 0,
        "start_time": "2023-05-04T11:35:19.162Z"
      },
      {
        "duration": 0,
        "start_time": "2023-05-04T11:35:19.164Z"
      },
      {
        "duration": 0,
        "start_time": "2023-05-04T11:35:19.165Z"
      },
      {
        "duration": 0,
        "start_time": "2023-05-04T11:35:19.166Z"
      },
      {
        "duration": 0,
        "start_time": "2023-05-04T11:35:19.184Z"
      },
      {
        "duration": 0,
        "start_time": "2023-05-04T11:35:19.185Z"
      },
      {
        "duration": 0,
        "start_time": "2023-05-04T11:37:33.784Z"
      },
      {
        "duration": 0,
        "start_time": "2023-05-04T11:37:33.785Z"
      },
      {
        "duration": 0,
        "start_time": "2023-05-04T11:37:33.786Z"
      },
      {
        "duration": 0,
        "start_time": "2023-05-04T11:37:33.787Z"
      },
      {
        "duration": 0,
        "start_time": "2023-05-04T11:37:33.788Z"
      },
      {
        "duration": 0,
        "start_time": "2023-05-04T11:37:33.790Z"
      },
      {
        "duration": 0,
        "start_time": "2023-05-04T11:37:33.791Z"
      },
      {
        "duration": 0,
        "start_time": "2023-05-04T11:37:33.792Z"
      },
      {
        "duration": 0,
        "start_time": "2023-05-04T11:37:33.793Z"
      },
      {
        "duration": 0,
        "start_time": "2023-05-04T11:37:33.794Z"
      },
      {
        "duration": 0,
        "start_time": "2023-05-04T11:37:33.796Z"
      },
      {
        "duration": 0,
        "start_time": "2023-05-04T11:37:33.797Z"
      },
      {
        "duration": 0,
        "start_time": "2023-05-04T11:37:33.798Z"
      },
      {
        "duration": 0,
        "start_time": "2023-05-04T11:37:33.799Z"
      },
      {
        "duration": 0,
        "start_time": "2023-05-04T11:37:33.800Z"
      },
      {
        "duration": 0,
        "start_time": "2023-05-04T11:37:33.801Z"
      },
      {
        "duration": 0,
        "start_time": "2023-05-04T11:37:33.803Z"
      },
      {
        "duration": 0,
        "start_time": "2023-05-04T11:37:33.804Z"
      },
      {
        "duration": 0,
        "start_time": "2023-05-04T11:37:33.805Z"
      },
      {
        "duration": 0,
        "start_time": "2023-05-04T11:37:33.806Z"
      },
      {
        "duration": 0,
        "start_time": "2023-05-04T11:37:33.807Z"
      },
      {
        "duration": 0,
        "start_time": "2023-05-04T11:37:33.808Z"
      },
      {
        "duration": 0,
        "start_time": "2023-05-04T11:37:33.809Z"
      },
      {
        "duration": 0,
        "start_time": "2023-05-04T11:37:33.810Z"
      },
      {
        "duration": 0,
        "start_time": "2023-05-04T11:37:33.812Z"
      },
      {
        "duration": 0,
        "start_time": "2023-05-04T11:37:33.813Z"
      },
      {
        "duration": 0,
        "start_time": "2023-05-04T11:37:33.814Z"
      },
      {
        "duration": 0,
        "start_time": "2023-05-04T11:37:33.815Z"
      },
      {
        "duration": 0,
        "start_time": "2023-05-04T11:37:33.816Z"
      },
      {
        "duration": 0,
        "start_time": "2023-05-04T11:37:33.818Z"
      },
      {
        "duration": 0,
        "start_time": "2023-05-04T11:37:33.819Z"
      },
      {
        "duration": 0,
        "start_time": "2023-05-04T11:37:33.884Z"
      },
      {
        "duration": 0,
        "start_time": "2023-05-04T11:37:33.885Z"
      },
      {
        "duration": 0,
        "start_time": "2023-05-04T11:37:33.886Z"
      },
      {
        "duration": 0,
        "start_time": "2023-05-04T11:37:33.888Z"
      },
      {
        "duration": 0,
        "start_time": "2023-05-04T11:37:33.889Z"
      },
      {
        "duration": 0,
        "start_time": "2023-05-04T11:37:33.890Z"
      },
      {
        "duration": 0,
        "start_time": "2023-05-04T11:37:33.891Z"
      },
      {
        "duration": 0,
        "start_time": "2023-05-04T11:37:33.892Z"
      },
      {
        "duration": 0,
        "start_time": "2023-05-04T11:37:33.893Z"
      },
      {
        "duration": 0,
        "start_time": "2023-05-04T11:37:33.894Z"
      },
      {
        "duration": 0,
        "start_time": "2023-05-04T11:37:33.895Z"
      },
      {
        "duration": 0,
        "start_time": "2023-05-04T11:37:33.896Z"
      },
      {
        "duration": 0,
        "start_time": "2023-05-04T11:37:33.897Z"
      },
      {
        "duration": 0,
        "start_time": "2023-05-04T11:37:33.898Z"
      },
      {
        "duration": 0,
        "start_time": "2023-05-04T11:37:33.899Z"
      },
      {
        "duration": 0,
        "start_time": "2023-05-04T11:37:33.901Z"
      },
      {
        "duration": 0,
        "start_time": "2023-05-04T11:37:33.902Z"
      },
      {
        "duration": 0,
        "start_time": "2023-05-04T11:37:33.903Z"
      },
      {
        "duration": 0,
        "start_time": "2023-05-04T11:37:33.904Z"
      },
      {
        "duration": 0,
        "start_time": "2023-05-04T11:37:33.905Z"
      },
      {
        "duration": 0,
        "start_time": "2023-05-04T11:37:33.906Z"
      },
      {
        "duration": 1584,
        "start_time": "2023-05-04T11:37:38.706Z"
      },
      {
        "duration": 834,
        "start_time": "2023-05-04T11:37:40.292Z"
      },
      {
        "duration": 3,
        "start_time": "2023-05-04T11:37:41.128Z"
      },
      {
        "duration": 263,
        "start_time": "2023-05-04T11:37:41.133Z"
      },
      {
        "duration": 17,
        "start_time": "2023-05-04T11:37:41.398Z"
      },
      {
        "duration": 1647,
        "start_time": "2023-05-04T11:37:41.416Z"
      },
      {
        "duration": 3,
        "start_time": "2023-05-04T11:37:43.065Z"
      },
      {
        "duration": 22,
        "start_time": "2023-05-04T11:37:43.070Z"
      },
      {
        "duration": 130,
        "start_time": "2023-05-04T11:37:43.094Z"
      },
      {
        "duration": 22,
        "start_time": "2023-05-04T11:37:43.228Z"
      },
      {
        "duration": 23,
        "start_time": "2023-05-04T11:37:43.252Z"
      },
      {
        "duration": 251,
        "start_time": "2023-05-04T11:37:43.277Z"
      },
      {
        "duration": 13,
        "start_time": "2023-05-04T11:37:43.530Z"
      },
      {
        "duration": 76,
        "start_time": "2023-05-04T11:37:43.545Z"
      },
      {
        "duration": 78,
        "start_time": "2023-05-04T11:37:43.623Z"
      },
      {
        "duration": 345,
        "start_time": "2023-05-04T11:37:43.703Z"
      },
      {
        "duration": 63,
        "start_time": "2023-05-04T11:37:44.050Z"
      },
      {
        "duration": 30,
        "start_time": "2023-05-04T11:37:44.114Z"
      },
      {
        "duration": 57,
        "start_time": "2023-05-04T11:37:44.146Z"
      },
      {
        "duration": 53,
        "start_time": "2023-05-04T11:37:44.205Z"
      },
      {
        "duration": 1276,
        "start_time": "2023-05-04T11:37:44.260Z"
      },
      {
        "duration": 6359,
        "start_time": "2023-05-04T11:37:45.538Z"
      },
      {
        "duration": 5323,
        "start_time": "2023-05-04T11:37:51.899Z"
      },
      {
        "duration": 60,
        "start_time": "2023-05-04T11:37:57.224Z"
      },
      {
        "duration": 39,
        "start_time": "2023-05-04T11:37:57.285Z"
      },
      {
        "duration": 7317,
        "start_time": "2023-05-04T11:37:57.326Z"
      },
      {
        "duration": 21,
        "start_time": "2023-05-04T11:38:04.645Z"
      },
      {
        "duration": 12482,
        "start_time": "2023-05-04T11:38:04.669Z"
      },
      {
        "duration": 17,
        "start_time": "2023-05-04T11:38:17.152Z"
      },
      {
        "duration": 48,
        "start_time": "2023-05-04T11:38:17.171Z"
      },
      {
        "duration": 136,
        "start_time": "2023-05-04T11:38:17.220Z"
      },
      {
        "duration": 437,
        "start_time": "2023-05-04T11:38:17.357Z"
      },
      {
        "duration": 556,
        "start_time": "2023-05-04T11:38:17.796Z"
      },
      {
        "duration": 398,
        "start_time": "2023-05-04T11:38:18.353Z"
      },
      {
        "duration": 15,
        "start_time": "2023-05-04T11:38:18.753Z"
      },
      {
        "duration": 53,
        "start_time": "2023-05-04T11:38:18.770Z"
      },
      {
        "duration": 13,
        "start_time": "2023-05-04T11:38:18.824Z"
      },
      {
        "duration": 20,
        "start_time": "2023-05-04T11:38:18.840Z"
      },
      {
        "duration": 104,
        "start_time": "2023-05-04T11:38:18.861Z"
      },
      {
        "duration": 5,
        "start_time": "2023-05-04T11:38:18.967Z"
      },
      {
        "duration": 13,
        "start_time": "2023-05-04T11:38:18.974Z"
      },
      {
        "duration": 7,
        "start_time": "2023-05-04T11:38:18.989Z"
      },
      {
        "duration": 4040,
        "start_time": "2023-05-04T11:38:18.999Z"
      },
      {
        "duration": 3,
        "start_time": "2023-05-04T11:38:23.041Z"
      },
      {
        "duration": 2486,
        "start_time": "2023-05-04T11:38:23.046Z"
      },
      {
        "duration": 26657,
        "start_time": "2023-05-04T11:38:25.533Z"
      },
      {
        "duration": 291,
        "start_time": "2023-05-04T11:38:52.193Z"
      },
      {
        "duration": 997,
        "start_time": "2023-05-04T11:38:52.486Z"
      },
      {
        "duration": 3,
        "start_time": "2023-05-04T11:38:53.485Z"
      },
      {
        "duration": 200002,
        "start_time": "2023-05-04T11:38:53.490Z"
      },
      {
        "duration": 2891,
        "start_time": "2023-05-04T11:42:13.493Z"
      },
      {
        "duration": 3494,
        "start_time": "2023-05-05T10:06:23.450Z"
      },
      {
        "duration": 1009,
        "start_time": "2023-05-05T10:06:26.946Z"
      },
      {
        "duration": 3,
        "start_time": "2023-05-05T10:06:27.957Z"
      },
      {
        "duration": 138,
        "start_time": "2023-05-05T10:06:27.962Z"
      },
      {
        "duration": 16,
        "start_time": "2023-05-05T10:06:28.102Z"
      },
      {
        "duration": 836,
        "start_time": "2023-05-05T10:06:28.120Z"
      },
      {
        "duration": 4,
        "start_time": "2023-05-05T10:06:28.957Z"
      },
      {
        "duration": 28,
        "start_time": "2023-05-05T10:06:28.962Z"
      },
      {
        "duration": 127,
        "start_time": "2023-05-05T10:06:28.992Z"
      },
      {
        "duration": 21,
        "start_time": "2023-05-05T10:06:29.122Z"
      },
      {
        "duration": 14,
        "start_time": "2023-05-05T10:06:29.145Z"
      },
      {
        "duration": 268,
        "start_time": "2023-05-05T10:06:29.161Z"
      },
      {
        "duration": 27,
        "start_time": "2023-05-05T10:06:29.430Z"
      },
      {
        "duration": 64,
        "start_time": "2023-05-05T10:06:29.459Z"
      },
      {
        "duration": 84,
        "start_time": "2023-05-05T10:06:29.525Z"
      },
      {
        "duration": 349,
        "start_time": "2023-05-05T10:06:29.611Z"
      },
      {
        "duration": 48,
        "start_time": "2023-05-05T10:06:29.962Z"
      },
      {
        "duration": 20,
        "start_time": "2023-05-05T10:06:30.012Z"
      },
      {
        "duration": 51,
        "start_time": "2023-05-05T10:06:30.055Z"
      },
      {
        "duration": 41,
        "start_time": "2023-05-05T10:06:30.108Z"
      },
      {
        "duration": 1350,
        "start_time": "2023-05-05T10:06:30.151Z"
      },
      {
        "duration": 6277,
        "start_time": "2023-05-05T10:06:31.503Z"
      },
      {
        "duration": 5077,
        "start_time": "2023-05-05T10:06:37.781Z"
      },
      {
        "duration": 51,
        "start_time": "2023-05-05T10:06:42.860Z"
      },
      {
        "duration": 46,
        "start_time": "2023-05-05T10:06:42.912Z"
      },
      {
        "duration": 6484,
        "start_time": "2023-05-05T10:06:42.960Z"
      },
      {
        "duration": 23,
        "start_time": "2023-05-05T10:06:49.445Z"
      },
      {
        "duration": 10870,
        "start_time": "2023-05-05T10:06:49.471Z"
      },
      {
        "duration": 17,
        "start_time": "2023-05-05T10:07:00.343Z"
      },
      {
        "duration": 59,
        "start_time": "2023-05-05T10:07:00.362Z"
      },
      {
        "duration": 125,
        "start_time": "2023-05-05T10:07:00.422Z"
      },
      {
        "duration": 463,
        "start_time": "2023-05-05T10:07:00.549Z"
      },
      {
        "duration": 635,
        "start_time": "2023-05-05T10:07:01.013Z"
      },
      {
        "duration": 394,
        "start_time": "2023-05-05T10:07:01.650Z"
      },
      {
        "duration": 106,
        "start_time": "2023-05-05T10:09:40.702Z"
      },
      {
        "duration": 120,
        "start_time": "2023-05-05T10:09:43.847Z"
      },
      {
        "duration": 91,
        "start_time": "2023-05-05T10:39:51.387Z"
      },
      {
        "duration": 1709,
        "start_time": "2023-05-05T10:39:58.123Z"
      },
      {
        "duration": 85,
        "start_time": "2023-05-05T10:40:01.144Z"
      },
      {
        "duration": 82,
        "start_time": "2023-05-05T10:41:18.141Z"
      },
      {
        "duration": 4,
        "start_time": "2023-05-05T10:42:13.567Z"
      },
      {
        "duration": 15020,
        "start_time": "2023-05-05T10:42:56.434Z"
      },
      {
        "duration": 2983,
        "start_time": "2023-05-05T10:43:14.192Z"
      },
      {
        "duration": 140,
        "start_time": "2023-05-05T10:43:33.228Z"
      },
      {
        "duration": 10,
        "start_time": "2023-05-05T10:43:49.360Z"
      },
      {
        "duration": 2831,
        "start_time": "2023-05-05T10:44:19.115Z"
      },
      {
        "duration": 923,
        "start_time": "2023-05-05T10:44:21.950Z"
      },
      {
        "duration": 37344,
        "start_time": "2023-05-05T10:44:35.351Z"
      },
      {
        "duration": 1714,
        "start_time": "2023-05-05T10:53:15.148Z"
      },
      {
        "duration": 2746,
        "start_time": "2023-05-05T10:53:22.763Z"
      },
      {
        "duration": 7,
        "start_time": "2023-05-05T10:53:25.511Z"
      },
      {
        "duration": 965,
        "start_time": "2023-05-05T10:53:25.519Z"
      },
      {
        "duration": 38432,
        "start_time": "2023-05-05T10:53:26.487Z"
      },
      {
        "duration": 8,
        "start_time": "2023-05-05T10:54:04.934Z"
      },
      {
        "duration": 257,
        "start_time": "2023-05-05T10:54:04.945Z"
      },
      {
        "duration": 64,
        "start_time": "2023-05-05T10:54:05.204Z"
      },
      {
        "duration": 798,
        "start_time": "2023-05-05T10:54:05.270Z"
      },
      {
        "duration": 3,
        "start_time": "2023-05-05T10:54:06.069Z"
      },
      {
        "duration": 17,
        "start_time": "2023-05-05T10:54:06.074Z"
      },
      {
        "duration": 129,
        "start_time": "2023-05-05T10:54:06.093Z"
      },
      {
        "duration": 34,
        "start_time": "2023-05-05T10:54:06.224Z"
      },
      {
        "duration": 5,
        "start_time": "2023-05-05T10:54:06.260Z"
      },
      {
        "duration": 161,
        "start_time": "2023-05-05T10:54:06.268Z"
      },
      {
        "duration": 17,
        "start_time": "2023-05-05T10:54:06.434Z"
      },
      {
        "duration": 67,
        "start_time": "2023-05-05T10:54:06.453Z"
      },
      {
        "duration": 85,
        "start_time": "2023-05-05T10:54:06.522Z"
      },
      {
        "duration": 290,
        "start_time": "2023-05-05T10:54:32.355Z"
      },
      {
        "duration": 18,
        "start_time": "2023-05-05T10:55:23.235Z"
      },
      {
        "duration": 85,
        "start_time": "2023-05-05T10:55:58.466Z"
      },
      {
        "duration": 6604,
        "start_time": "2023-05-05T10:58:02.316Z"
      },
      {
        "duration": 2,
        "start_time": "2023-05-05T11:09:03.328Z"
      },
      {
        "duration": 2,
        "start_time": "2023-05-05T11:09:41.794Z"
      },
      {
        "duration": 102,
        "start_time": "2023-05-05T17:55:15.011Z"
      }
    ],
    "kernelspec": {
      "display_name": "Python 3 (ipykernel)",
      "language": "python",
      "name": "python3"
    },
    "language_info": {
      "codemirror_mode": {
        "name": "ipython",
        "version": 3
      },
      "file_extension": ".py",
      "mimetype": "text/x-python",
      "name": "python",
      "nbconvert_exporter": "python",
      "pygments_lexer": "ipython3",
      "version": "3.9.5"
    },
    "toc": {
      "base_numbering": 1,
      "nav_menu": {},
      "number_sections": true,
      "sideBar": true,
      "skip_h1_title": true,
      "title_cell": "Table of Contents",
      "title_sidebar": "Contents",
      "toc_cell": false,
      "toc_position": {
        "height": "calc(100% - 180px)",
        "left": "10px",
        "top": "150px",
        "width": "290.417px"
      },
      "toc_section_display": true,
      "toc_window_display": true
    },
    "colab": {
      "provenance": [],
      "name": "Определение стоимости автомобилей.ipynb"
    }
  },
  "nbformat": 4,
  "nbformat_minor": 0
}
