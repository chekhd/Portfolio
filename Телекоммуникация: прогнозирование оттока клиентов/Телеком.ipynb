{
  "cells": [
    {
      "cell_type": "markdown",
      "metadata": {
        "id": "NmaxklQ2uGKT"
      },
      "source": [
        "# План проекта \"Телекоммуникация\""
      ]
    },
    {
      "cell_type": "markdown",
      "metadata": {
        "id": "aoOXRfJcuGKT"
      },
      "source": [
        "**Описание проекта:** оператор связи хочет научиться прогнозировать отток клиентов. Если выяснится, что пользователь планирует уйти, ему будут предложены промокоды и специальные условия.\n",
        "\n",
        "**Цель проекта:** построить модель для прогнозирования оттока клиентов.  \n",
        "Ключевая метрика модели (ROC-AUC) должна достичь показателя 0,85.\n"
      ]
    },
    {
      "cell_type": "code",
      "execution_count": null,
      "metadata": {
        "id": "5a2LoOD7uGKU"
      },
      "outputs": [],
      "source": [
        "import pandas as pd"
      ]
    },
    {
      "cell_type": "code",
      "execution_count": null,
      "metadata": {
        "id": "-1IgqoMzuGKV"
      },
      "outputs": [],
      "source": [
        "df_contract = pd.read_csv('/datasets/contract_new.csv')\n",
        "df_personal = pd.read_csv('/datasets/personal_new.csv')\n",
        "df_internet = pd.read_csv('/datasets/internet_new.csv')\n",
        "df_phone = pd.read_csv('/datasets/phone_new.csv')"
      ]
    },
    {
      "cell_type": "code",
      "execution_count": null,
      "metadata": {
        "id": "0RMnUln5uGKV",
        "outputId": "9d26a73f-e64f-4868-b418-436f2ff9de8c"
      },
      "outputs": [
        {
          "data": {
            "text/html": [
              "<div>\n",
              "<style scoped>\n",
              "    .dataframe tbody tr th:only-of-type {\n",
              "        vertical-align: middle;\n",
              "    }\n",
              "\n",
              "    .dataframe tbody tr th {\n",
              "        vertical-align: top;\n",
              "    }\n",
              "\n",
              "    .dataframe thead th {\n",
              "        text-align: right;\n",
              "    }\n",
              "</style>\n",
              "<table border=\"1\" class=\"dataframe\">\n",
              "  <thead>\n",
              "    <tr style=\"text-align: right;\">\n",
              "      <th></th>\n",
              "      <th>customerID</th>\n",
              "      <th>BeginDate</th>\n",
              "      <th>EndDate</th>\n",
              "      <th>Type</th>\n",
              "      <th>PaperlessBilling</th>\n",
              "      <th>PaymentMethod</th>\n",
              "      <th>MonthlyCharges</th>\n",
              "      <th>TotalCharges</th>\n",
              "    </tr>\n",
              "  </thead>\n",
              "  <tbody>\n",
              "    <tr>\n",
              "      <th>0</th>\n",
              "      <td>7590-VHVEG</td>\n",
              "      <td>2020-01-01</td>\n",
              "      <td>No</td>\n",
              "      <td>Month-to-month</td>\n",
              "      <td>Yes</td>\n",
              "      <td>Electronic check</td>\n",
              "      <td>29.85</td>\n",
              "      <td>31.04</td>\n",
              "    </tr>\n",
              "    <tr>\n",
              "      <th>1</th>\n",
              "      <td>5575-GNVDE</td>\n",
              "      <td>2017-04-01</td>\n",
              "      <td>No</td>\n",
              "      <td>One year</td>\n",
              "      <td>No</td>\n",
              "      <td>Mailed check</td>\n",
              "      <td>56.95</td>\n",
              "      <td>2071.84</td>\n",
              "    </tr>\n",
              "    <tr>\n",
              "      <th>2</th>\n",
              "      <td>3668-QPYBK</td>\n",
              "      <td>2019-10-01</td>\n",
              "      <td>No</td>\n",
              "      <td>Month-to-month</td>\n",
              "      <td>Yes</td>\n",
              "      <td>Mailed check</td>\n",
              "      <td>53.85</td>\n",
              "      <td>226.17</td>\n",
              "    </tr>\n",
              "    <tr>\n",
              "      <th>3</th>\n",
              "      <td>7795-CFOCW</td>\n",
              "      <td>2016-05-01</td>\n",
              "      <td>No</td>\n",
              "      <td>One year</td>\n",
              "      <td>No</td>\n",
              "      <td>Bank transfer (automatic)</td>\n",
              "      <td>42.30</td>\n",
              "      <td>1960.6</td>\n",
              "    </tr>\n",
              "    <tr>\n",
              "      <th>4</th>\n",
              "      <td>9237-HQITU</td>\n",
              "      <td>2019-09-01</td>\n",
              "      <td>No</td>\n",
              "      <td>Month-to-month</td>\n",
              "      <td>Yes</td>\n",
              "      <td>Electronic check</td>\n",
              "      <td>70.70</td>\n",
              "      <td>353.5</td>\n",
              "    </tr>\n",
              "  </tbody>\n",
              "</table>\n",
              "</div>"
            ],
            "text/plain": [
              "   customerID   BeginDate EndDate            Type PaperlessBilling  \\\n",
              "0  7590-VHVEG  2020-01-01      No  Month-to-month              Yes   \n",
              "1  5575-GNVDE  2017-04-01      No        One year               No   \n",
              "2  3668-QPYBK  2019-10-01      No  Month-to-month              Yes   \n",
              "3  7795-CFOCW  2016-05-01      No        One year               No   \n",
              "4  9237-HQITU  2019-09-01      No  Month-to-month              Yes   \n",
              "\n",
              "               PaymentMethod  MonthlyCharges TotalCharges  \n",
              "0           Electronic check           29.85        31.04  \n",
              "1               Mailed check           56.95      2071.84  \n",
              "2               Mailed check           53.85       226.17  \n",
              "3  Bank transfer (automatic)           42.30       1960.6  \n",
              "4           Electronic check           70.70        353.5  "
            ]
          },
          "metadata": {},
          "output_type": "display_data"
        },
        {
          "name": "stdout",
          "output_type": "stream",
          "text": [
            "\n",
            "<class 'pandas.core.frame.DataFrame'>\n",
            "RangeIndex: 7043 entries, 0 to 7042\n",
            "Data columns (total 8 columns):\n",
            " #   Column            Non-Null Count  Dtype  \n",
            "---  ------            --------------  -----  \n",
            " 0   customerID        7043 non-null   object \n",
            " 1   BeginDate         7043 non-null   object \n",
            " 2   EndDate           7043 non-null   object \n",
            " 3   Type              7043 non-null   object \n",
            " 4   PaperlessBilling  7043 non-null   object \n",
            " 5   PaymentMethod     7043 non-null   object \n",
            " 6   MonthlyCharges    7043 non-null   float64\n",
            " 7   TotalCharges      7043 non-null   object \n",
            "dtypes: float64(1), object(7)\n",
            "memory usage: 440.3+ KB\n"
          ]
        }
      ],
      "source": [
        "display(df_contract.head())\n",
        "print()\n",
        "df_contract.info()"
      ]
    },
    {
      "cell_type": "code",
      "execution_count": null,
      "metadata": {
        "id": "OEgp5MLLuGKW",
        "outputId": "2b8b7102-b1f6-4138-f4d5-763d003af089"
      },
      "outputs": [
        {
          "data": {
            "text/html": [
              "<div>\n",
              "<style scoped>\n",
              "    .dataframe tbody tr th:only-of-type {\n",
              "        vertical-align: middle;\n",
              "    }\n",
              "\n",
              "    .dataframe tbody tr th {\n",
              "        vertical-align: top;\n",
              "    }\n",
              "\n",
              "    .dataframe thead th {\n",
              "        text-align: right;\n",
              "    }\n",
              "</style>\n",
              "<table border=\"1\" class=\"dataframe\">\n",
              "  <thead>\n",
              "    <tr style=\"text-align: right;\">\n",
              "      <th></th>\n",
              "      <th>customerID</th>\n",
              "      <th>gender</th>\n",
              "      <th>SeniorCitizen</th>\n",
              "      <th>Partner</th>\n",
              "      <th>Dependents</th>\n",
              "    </tr>\n",
              "  </thead>\n",
              "  <tbody>\n",
              "    <tr>\n",
              "      <th>0</th>\n",
              "      <td>7590-VHVEG</td>\n",
              "      <td>Female</td>\n",
              "      <td>0</td>\n",
              "      <td>Yes</td>\n",
              "      <td>No</td>\n",
              "    </tr>\n",
              "    <tr>\n",
              "      <th>1</th>\n",
              "      <td>5575-GNVDE</td>\n",
              "      <td>Male</td>\n",
              "      <td>0</td>\n",
              "      <td>No</td>\n",
              "      <td>No</td>\n",
              "    </tr>\n",
              "    <tr>\n",
              "      <th>2</th>\n",
              "      <td>3668-QPYBK</td>\n",
              "      <td>Male</td>\n",
              "      <td>0</td>\n",
              "      <td>No</td>\n",
              "      <td>No</td>\n",
              "    </tr>\n",
              "    <tr>\n",
              "      <th>3</th>\n",
              "      <td>7795-CFOCW</td>\n",
              "      <td>Male</td>\n",
              "      <td>0</td>\n",
              "      <td>No</td>\n",
              "      <td>No</td>\n",
              "    </tr>\n",
              "    <tr>\n",
              "      <th>4</th>\n",
              "      <td>9237-HQITU</td>\n",
              "      <td>Female</td>\n",
              "      <td>0</td>\n",
              "      <td>No</td>\n",
              "      <td>No</td>\n",
              "    </tr>\n",
              "  </tbody>\n",
              "</table>\n",
              "</div>"
            ],
            "text/plain": [
              "   customerID  gender  SeniorCitizen Partner Dependents\n",
              "0  7590-VHVEG  Female              0     Yes         No\n",
              "1  5575-GNVDE    Male              0      No         No\n",
              "2  3668-QPYBK    Male              0      No         No\n",
              "3  7795-CFOCW    Male              0      No         No\n",
              "4  9237-HQITU  Female              0      No         No"
            ]
          },
          "metadata": {},
          "output_type": "display_data"
        },
        {
          "name": "stdout",
          "output_type": "stream",
          "text": [
            "\n",
            "<class 'pandas.core.frame.DataFrame'>\n",
            "RangeIndex: 7043 entries, 0 to 7042\n",
            "Data columns (total 5 columns):\n",
            " #   Column         Non-Null Count  Dtype \n",
            "---  ------         --------------  ----- \n",
            " 0   customerID     7043 non-null   object\n",
            " 1   gender         7043 non-null   object\n",
            " 2   SeniorCitizen  7043 non-null   int64 \n",
            " 3   Partner        7043 non-null   object\n",
            " 4   Dependents     7043 non-null   object\n",
            "dtypes: int64(1), object(4)\n",
            "memory usage: 275.2+ KB\n"
          ]
        }
      ],
      "source": [
        "display(df_personal.head())\n",
        "print()\n",
        "df_personal.info()"
      ]
    },
    {
      "cell_type": "code",
      "execution_count": null,
      "metadata": {
        "id": "NV92fgQpuGKW",
        "outputId": "d5f43426-e965-4b54-af0f-34d424b1d7d8"
      },
      "outputs": [
        {
          "data": {
            "text/html": [
              "<div>\n",
              "<style scoped>\n",
              "    .dataframe tbody tr th:only-of-type {\n",
              "        vertical-align: middle;\n",
              "    }\n",
              "\n",
              "    .dataframe tbody tr th {\n",
              "        vertical-align: top;\n",
              "    }\n",
              "\n",
              "    .dataframe thead th {\n",
              "        text-align: right;\n",
              "    }\n",
              "</style>\n",
              "<table border=\"1\" class=\"dataframe\">\n",
              "  <thead>\n",
              "    <tr style=\"text-align: right;\">\n",
              "      <th></th>\n",
              "      <th>customerID</th>\n",
              "      <th>InternetService</th>\n",
              "      <th>OnlineSecurity</th>\n",
              "      <th>OnlineBackup</th>\n",
              "      <th>DeviceProtection</th>\n",
              "      <th>TechSupport</th>\n",
              "      <th>StreamingTV</th>\n",
              "      <th>StreamingMovies</th>\n",
              "    </tr>\n",
              "  </thead>\n",
              "  <tbody>\n",
              "    <tr>\n",
              "      <th>0</th>\n",
              "      <td>7590-VHVEG</td>\n",
              "      <td>DSL</td>\n",
              "      <td>No</td>\n",
              "      <td>Yes</td>\n",
              "      <td>No</td>\n",
              "      <td>No</td>\n",
              "      <td>No</td>\n",
              "      <td>No</td>\n",
              "    </tr>\n",
              "    <tr>\n",
              "      <th>1</th>\n",
              "      <td>5575-GNVDE</td>\n",
              "      <td>DSL</td>\n",
              "      <td>Yes</td>\n",
              "      <td>No</td>\n",
              "      <td>Yes</td>\n",
              "      <td>No</td>\n",
              "      <td>No</td>\n",
              "      <td>No</td>\n",
              "    </tr>\n",
              "    <tr>\n",
              "      <th>2</th>\n",
              "      <td>3668-QPYBK</td>\n",
              "      <td>DSL</td>\n",
              "      <td>Yes</td>\n",
              "      <td>Yes</td>\n",
              "      <td>No</td>\n",
              "      <td>No</td>\n",
              "      <td>No</td>\n",
              "      <td>No</td>\n",
              "    </tr>\n",
              "    <tr>\n",
              "      <th>3</th>\n",
              "      <td>7795-CFOCW</td>\n",
              "      <td>DSL</td>\n",
              "      <td>Yes</td>\n",
              "      <td>No</td>\n",
              "      <td>Yes</td>\n",
              "      <td>Yes</td>\n",
              "      <td>No</td>\n",
              "      <td>No</td>\n",
              "    </tr>\n",
              "    <tr>\n",
              "      <th>4</th>\n",
              "      <td>9237-HQITU</td>\n",
              "      <td>Fiber optic</td>\n",
              "      <td>No</td>\n",
              "      <td>No</td>\n",
              "      <td>No</td>\n",
              "      <td>No</td>\n",
              "      <td>No</td>\n",
              "      <td>No</td>\n",
              "    </tr>\n",
              "  </tbody>\n",
              "</table>\n",
              "</div>"
            ],
            "text/plain": [
              "   customerID InternetService OnlineSecurity OnlineBackup DeviceProtection  \\\n",
              "0  7590-VHVEG             DSL             No          Yes               No   \n",
              "1  5575-GNVDE             DSL            Yes           No              Yes   \n",
              "2  3668-QPYBK             DSL            Yes          Yes               No   \n",
              "3  7795-CFOCW             DSL            Yes           No              Yes   \n",
              "4  9237-HQITU     Fiber optic             No           No               No   \n",
              "\n",
              "  TechSupport StreamingTV StreamingMovies  \n",
              "0          No          No              No  \n",
              "1          No          No              No  \n",
              "2          No          No              No  \n",
              "3         Yes          No              No  \n",
              "4          No          No              No  "
            ]
          },
          "metadata": {},
          "output_type": "display_data"
        },
        {
          "name": "stdout",
          "output_type": "stream",
          "text": [
            "\n",
            "<class 'pandas.core.frame.DataFrame'>\n",
            "RangeIndex: 5517 entries, 0 to 5516\n",
            "Data columns (total 8 columns):\n",
            " #   Column            Non-Null Count  Dtype \n",
            "---  ------            --------------  ----- \n",
            " 0   customerID        5517 non-null   object\n",
            " 1   InternetService   5517 non-null   object\n",
            " 2   OnlineSecurity    5517 non-null   object\n",
            " 3   OnlineBackup      5517 non-null   object\n",
            " 4   DeviceProtection  5517 non-null   object\n",
            " 5   TechSupport       5517 non-null   object\n",
            " 6   StreamingTV       5517 non-null   object\n",
            " 7   StreamingMovies   5517 non-null   object\n",
            "dtypes: object(8)\n",
            "memory usage: 344.9+ KB\n"
          ]
        }
      ],
      "source": [
        "display(df_internet.head())\n",
        "print()\n",
        "df_internet.info()"
      ]
    },
    {
      "cell_type": "code",
      "execution_count": null,
      "metadata": {
        "id": "GpBCj6B5uGKW",
        "outputId": "fb9d3aee-b9af-43bc-b831-b8a4f6921976"
      },
      "outputs": [
        {
          "data": {
            "text/html": [
              "<div>\n",
              "<style scoped>\n",
              "    .dataframe tbody tr th:only-of-type {\n",
              "        vertical-align: middle;\n",
              "    }\n",
              "\n",
              "    .dataframe tbody tr th {\n",
              "        vertical-align: top;\n",
              "    }\n",
              "\n",
              "    .dataframe thead th {\n",
              "        text-align: right;\n",
              "    }\n",
              "</style>\n",
              "<table border=\"1\" class=\"dataframe\">\n",
              "  <thead>\n",
              "    <tr style=\"text-align: right;\">\n",
              "      <th></th>\n",
              "      <th>customerID</th>\n",
              "      <th>MultipleLines</th>\n",
              "    </tr>\n",
              "  </thead>\n",
              "  <tbody>\n",
              "    <tr>\n",
              "      <th>0</th>\n",
              "      <td>5575-GNVDE</td>\n",
              "      <td>No</td>\n",
              "    </tr>\n",
              "    <tr>\n",
              "      <th>1</th>\n",
              "      <td>3668-QPYBK</td>\n",
              "      <td>No</td>\n",
              "    </tr>\n",
              "    <tr>\n",
              "      <th>2</th>\n",
              "      <td>9237-HQITU</td>\n",
              "      <td>No</td>\n",
              "    </tr>\n",
              "    <tr>\n",
              "      <th>3</th>\n",
              "      <td>9305-CDSKC</td>\n",
              "      <td>Yes</td>\n",
              "    </tr>\n",
              "    <tr>\n",
              "      <th>4</th>\n",
              "      <td>1452-KIOVK</td>\n",
              "      <td>Yes</td>\n",
              "    </tr>\n",
              "  </tbody>\n",
              "</table>\n",
              "</div>"
            ],
            "text/plain": [
              "   customerID MultipleLines\n",
              "0  5575-GNVDE            No\n",
              "1  3668-QPYBK            No\n",
              "2  9237-HQITU            No\n",
              "3  9305-CDSKC           Yes\n",
              "4  1452-KIOVK           Yes"
            ]
          },
          "metadata": {},
          "output_type": "display_data"
        },
        {
          "name": "stdout",
          "output_type": "stream",
          "text": [
            "\n",
            "<class 'pandas.core.frame.DataFrame'>\n",
            "RangeIndex: 6361 entries, 0 to 6360\n",
            "Data columns (total 2 columns):\n",
            " #   Column         Non-Null Count  Dtype \n",
            "---  ------         --------------  ----- \n",
            " 0   customerID     6361 non-null   object\n",
            " 1   MultipleLines  6361 non-null   object\n",
            "dtypes: object(2)\n",
            "memory usage: 99.5+ KB\n"
          ]
        }
      ],
      "source": [
        "display(df_phone.head())\n",
        "print()\n",
        "df_phone.info()"
      ]
    },
    {
      "cell_type": "markdown",
      "metadata": {
        "id": "YtfwzEr6uGKW"
      },
      "source": [
        "Наблюдаем, что в нашем распоряжении четыре датасета, которые в дальнейшем будет необходимо объединить. Два датасета содержат 7043 строки, в третье 5517 строк, в четвертом 6361. Можно отметить, что для некоторых столбцов необходимо изменить тип данных, названия признаков привести к нижнему регистру."
      ]
    },
    {
      "cell_type": "markdown",
      "metadata": {
        "id": "MAIlsO2GuGKX"
      },
      "source": [
        "# **Структура проекта:**"
      ]
    },
    {
      "cell_type": "markdown",
      "metadata": {
        "id": "1NDKTVlwuGKX"
      },
      "source": [
        "    1 Подготовка и предобработка данных\n",
        "        1.1.Импорт библиотек\n",
        "        1.2 Приведение столбцов к нижнему регистру\n",
        "        1.3 Изменение типа данных\n",
        "        1.4 Проверка на наличие явных дубликатов\n",
        "        1.5 Генерация целевого признака\n",
        "        1.6 Генерация прочих признаков и удаление лишних признаков\n",
        "        1.7 Объединение таблиц\n",
        "        1.8 Заполнение пропусков\n",
        "        1.9 Промежуточные выводы\n",
        "        \n",
        "    2 Исследовательский анализ данных и подготовка к обучению\n",
        "        2.1 Исследование распределения признаков для ушедших и оставшихся клиентов\n",
        "        2.2 Матрицы корреляций\n",
        "        2.3 Разделение данных на выборки\n",
        "        2.4 Кодирование категориальных признаков\n",
        "        2.5 Промежуточные выводы\n",
        "        \n",
        "    3 Обучение моделей\n",
        "        3.1 Логистическая регрессия\n",
        "        3.2 Случайный лес\n",
        "        3.3 Бустинговая модель\n",
        "        3.4 Анализ полученных результатов\n",
        "        3.5 Проверка выбранной модели на тестовой выборке\n",
        "       \n",
        "        \n",
        "    4 Выводы / Отчет"
      ]
    },
    {
      "cell_type": "markdown",
      "metadata": {
        "id": "LWKFDZeyuGKY"
      },
      "source": [
        "## Подготовка и предобработка данных"
      ]
    },
    {
      "cell_type": "markdown",
      "metadata": {
        "id": "Bs_mTiO8uGKY"
      },
      "source": [
        "### Импорт библиотек"
      ]
    },
    {
      "cell_type": "code",
      "execution_count": null,
      "metadata": {
        "scrolled": true,
        "id": "PFe-qSWYuGKZ",
        "outputId": "2bdb7828-dfe8-4204-ecfb-7726ebd2b24c"
      },
      "outputs": [
        {
          "name": "stdout",
          "output_type": "stream",
          "text": [
            "Requirement already satisfied: pandasql in /opt/conda/lib/python3.9/site-packages (0.7.3)\n",
            "Requirement already satisfied: sqlalchemy in /opt/conda/lib/python3.9/site-packages (from pandasql) (1.4.20)\n",
            "Requirement already satisfied: numpy in /opt/conda/lib/python3.9/site-packages (from pandasql) (1.21.1)\n",
            "Requirement already satisfied: pandas in /opt/conda/lib/python3.9/site-packages (from pandasql) (1.2.4)\n",
            "Requirement already satisfied: python-dateutil>=2.7.3 in /opt/conda/lib/python3.9/site-packages (from pandas->pandasql) (2.8.1)\n",
            "Requirement already satisfied: pytz>=2017.3 in /opt/conda/lib/python3.9/site-packages (from pandas->pandasql) (2021.1)\n",
            "Requirement already satisfied: six>=1.5 in /opt/conda/lib/python3.9/site-packages (from python-dateutil>=2.7.3->pandas->pandasql) (1.16.0)\n",
            "Requirement already satisfied: greenlet!=0.4.17 in /opt/conda/lib/python3.9/site-packages (from sqlalchemy->pandasql) (1.1.0)\n",
            "Requirement already satisfied: phik in /opt/conda/lib/python3.9/site-packages (0.12.3)\n",
            "Requirement already satisfied: joblib>=0.14.1 in /opt/conda/lib/python3.9/site-packages (from phik) (1.1.0)\n",
            "Requirement already satisfied: numpy>=1.18.0 in /opt/conda/lib/python3.9/site-packages (from phik) (1.21.1)\n",
            "Requirement already satisfied: scipy>=1.5.2 in /opt/conda/lib/python3.9/site-packages (from phik) (1.9.1)\n",
            "Requirement already satisfied: matplotlib>=2.2.3 in /opt/conda/lib/python3.9/site-packages (from phik) (3.3.4)\n",
            "Requirement already satisfied: pandas>=0.25.1 in /opt/conda/lib/python3.9/site-packages (from phik) (1.2.4)\n",
            "Requirement already satisfied: pyparsing!=2.0.4,!=2.1.2,!=2.1.6,>=2.0.3 in /opt/conda/lib/python3.9/site-packages (from matplotlib>=2.2.3->phik) (2.4.7)\n",
            "Requirement already satisfied: pillow>=6.2.0 in /opt/conda/lib/python3.9/site-packages (from matplotlib>=2.2.3->phik) (8.4.0)\n",
            "Requirement already satisfied: cycler>=0.10 in /opt/conda/lib/python3.9/site-packages (from matplotlib>=2.2.3->phik) (0.11.0)\n",
            "Requirement already satisfied: python-dateutil>=2.1 in /opt/conda/lib/python3.9/site-packages (from matplotlib>=2.2.3->phik) (2.8.1)\n",
            "Requirement already satisfied: kiwisolver>=1.0.1 in /opt/conda/lib/python3.9/site-packages (from matplotlib>=2.2.3->phik) (1.4.4)\n",
            "Requirement already satisfied: pytz>=2017.3 in /opt/conda/lib/python3.9/site-packages (from pandas>=0.25.1->phik) (2021.1)\n",
            "Requirement already satisfied: six>=1.5 in /opt/conda/lib/python3.9/site-packages (from python-dateutil>=2.1->matplotlib>=2.2.3->phik) (1.16.0)\n",
            "Requirement already satisfied: catboost in /opt/conda/lib/python3.9/site-packages (1.0.3)\n",
            "Requirement already satisfied: graphviz in /opt/conda/lib/python3.9/site-packages (from catboost) (0.20.1)\n",
            "Requirement already satisfied: six in /opt/conda/lib/python3.9/site-packages (from catboost) (1.16.0)\n",
            "Requirement already satisfied: scipy in /opt/conda/lib/python3.9/site-packages (from catboost) (1.9.1)\n",
            "Requirement already satisfied: numpy>=1.16.0 in /opt/conda/lib/python3.9/site-packages (from catboost) (1.21.1)\n",
            "Requirement already satisfied: plotly in /opt/conda/lib/python3.9/site-packages (from catboost) (5.4.0)\n",
            "Requirement already satisfied: pandas>=0.24.0 in /opt/conda/lib/python3.9/site-packages (from catboost) (1.2.4)\n",
            "Requirement already satisfied: matplotlib in /opt/conda/lib/python3.9/site-packages (from catboost) (3.3.4)\n",
            "Requirement already satisfied: python-dateutil>=2.7.3 in /opt/conda/lib/python3.9/site-packages (from pandas>=0.24.0->catboost) (2.8.1)\n",
            "Requirement already satisfied: pytz>=2017.3 in /opt/conda/lib/python3.9/site-packages (from pandas>=0.24.0->catboost) (2021.1)\n",
            "Requirement already satisfied: pillow>=6.2.0 in /opt/conda/lib/python3.9/site-packages (from matplotlib->catboost) (8.4.0)\n",
            "Requirement already satisfied: cycler>=0.10 in /opt/conda/lib/python3.9/site-packages (from matplotlib->catboost) (0.11.0)\n",
            "Requirement already satisfied: kiwisolver>=1.0.1 in /opt/conda/lib/python3.9/site-packages (from matplotlib->catboost) (1.4.4)\n",
            "Requirement already satisfied: pyparsing!=2.0.4,!=2.1.2,!=2.1.6,>=2.0.3 in /opt/conda/lib/python3.9/site-packages (from matplotlib->catboost) (2.4.7)\n",
            "Requirement already satisfied: tenacity>=6.2.0 in /opt/conda/lib/python3.9/site-packages (from plotly->catboost) (8.0.1)\n"
          ]
        }
      ],
      "source": [
        "!pip install pandasql\n",
        "!pip install phik\n",
        "!pip install catboost"
      ]
    },
    {
      "cell_type": "code",
      "execution_count": null,
      "metadata": {
        "id": "QWTTd1bFuGKZ"
      },
      "outputs": [],
      "source": [
        "# Импорт библиотек\n",
        "\n",
        "import pandas as pd\n",
        "import numpy as np\n",
        "\n",
        "# Графики\n",
        "import seaborn as sns\n",
        "import matplotlib.pyplot as plt\n",
        "\n",
        "# sklearn\n",
        "from sklearn.model_selection import train_test_split\n",
        "from sklearn.preprocessing import StandardScaler, OneHotEncoder\n",
        "from sklearn.linear_model import LogisticRegression\n",
        "from sklearn.ensemble import RandomForestClassifier\n",
        "from sklearn.metrics import roc_auc_score, roc_curve, confusion_matrix, accuracy_score, precision_score, recall_score, f1_score\n",
        "from sklearn.model_selection import cross_val_score, RandomizedSearchCV\n",
        "\n",
        "# CatBoost\n",
        "from catboost import CatBoostClassifier, Pool, cv\n",
        "\n",
        "# phik\n",
        "import phik\n",
        "from phik.report import plot_correlation_matrix\n",
        "from phik import report\n",
        "\n",
        "import time\n",
        "import pandasql as ps\n",
        "\n",
        "import warnings\n",
        "warnings.filterwarnings('ignore')\n"
      ]
    },
    {
      "cell_type": "code",
      "execution_count": null,
      "metadata": {
        "id": "CnQwxBlcuGKZ"
      },
      "outputs": [],
      "source": [
        "RANDOM_STATE = 30723\n",
        "PROMO = 0.3"
      ]
    },
    {
      "cell_type": "markdown",
      "metadata": {
        "id": "dojNA_fXuGKZ"
      },
      "source": [
        "### Приведение столбцов к нижнему регистру"
      ]
    },
    {
      "cell_type": "code",
      "execution_count": null,
      "metadata": {
        "id": "odGnYH-NuGKa",
        "outputId": "72a87774-660c-43f9-e5b9-05951d038cb0"
      },
      "outputs": [
        {
          "name": "stdout",
          "output_type": "stream",
          "text": [
            "Index(['customer_id', 'begin_date', 'end_date', 'type', 'paperless_billing',\n",
            "       'payment_method', 'monthly_charges', 'total_charges'],\n",
            "      dtype='object')\n",
            "Index(['customer_id', 'gender', 'senior_citizen', 'partner', 'dependents'], dtype='object')\n",
            "Index(['customer_id', 'internet_service', 'online_security', 'online_backup',\n",
            "       'device_protection', 'tech_support', 'streaming_tv',\n",
            "       'streaming_movies'],\n",
            "      dtype='object')\n",
            "Index(['customer_id', 'multiple_lines'], dtype='object')\n"
          ]
        }
      ],
      "source": [
        "# Приведем столбцы в нижний регистр\n",
        "df_contract.columns = df_contract.columns.str.lower()\n",
        "df_personal.columns = df_personal.columns.str.lower()\n",
        "df_internet.columns = df_internet.columns.str.lower()\n",
        "df_phone.columns = df_phone.columns.str.lower()\n",
        "\n",
        "# Приведем названия признаков в питоновский стиль\n",
        "df_contract.rename(columns={\n",
        "    'customerid': 'customer_id',\n",
        "    'begindate': 'begin_date',\n",
        "    'enddate': 'end_date',\n",
        "    'paperlessbilling': 'paperless_billing',\n",
        "    'paymentmethod': 'payment_method',\n",
        "    'monthlycharges': 'monthly_charges',\n",
        "    'totalcharges': 'total_charges'\n",
        "}, inplace=True)\n",
        "\n",
        "df_personal.rename(columns={\n",
        "    'customerid': 'customer_id',\n",
        "    'gender': 'gender',\n",
        "    'seniorcitizen': 'senior_citizen',\n",
        "    'partner': 'partner',\n",
        "    'dependents': 'dependents'\n",
        "}, inplace=True)\n",
        "\n",
        "df_internet.rename(columns={\n",
        "    'customerid': 'customer_id',\n",
        "    'internetservice': 'internet_service',\n",
        "    'onlinesecurity': 'online_security',\n",
        "    'onlinebackup': 'online_backup',\n",
        "    'deviceprotection': 'device_protection',\n",
        "    'techsupport': 'tech_support',\n",
        "    'streamingtv': 'streaming_tv',\n",
        "    'streamingmovies': 'streaming_movies'\n",
        "}, inplace=True)\n",
        "\n",
        "df_phone.rename(columns={\n",
        "    'customerid': 'customer_id',\n",
        "    'multiplelines': 'multiple_lines'\n",
        "}, inplace=True)\n",
        "\n",
        "\n",
        "# Проверим названия столбцов\n",
        "print(df_contract.columns)\n",
        "print(df_personal.columns)\n",
        "print(df_internet.columns)\n",
        "print(df_phone.columns)"
      ]
    },
    {
      "cell_type": "markdown",
      "metadata": {
        "id": "raC5LENquGKa"
      },
      "source": [
        "### Изменение типа данных"
      ]
    },
    {
      "cell_type": "code",
      "execution_count": null,
      "metadata": {
        "id": "5xwE9MoCuGKa",
        "outputId": "65976599-b2a6-4e41-b2fd-e5a1c537424e"
      },
      "outputs": [
        {
          "data": {
            "text/html": [
              "<div>\n",
              "<style scoped>\n",
              "    .dataframe tbody tr th:only-of-type {\n",
              "        vertical-align: middle;\n",
              "    }\n",
              "\n",
              "    .dataframe tbody tr th {\n",
              "        vertical-align: top;\n",
              "    }\n",
              "\n",
              "    .dataframe thead th {\n",
              "        text-align: right;\n",
              "    }\n",
              "</style>\n",
              "<table border=\"1\" class=\"dataframe\">\n",
              "  <thead>\n",
              "    <tr style=\"text-align: right;\">\n",
              "      <th></th>\n",
              "      <th>customer_id</th>\n",
              "      <th>begin_date</th>\n",
              "      <th>end_date</th>\n",
              "      <th>type</th>\n",
              "      <th>paperless_billing</th>\n",
              "      <th>payment_method</th>\n",
              "      <th>monthly_charges</th>\n",
              "      <th>total_charges</th>\n",
              "    </tr>\n",
              "  </thead>\n",
              "  <tbody>\n",
              "    <tr>\n",
              "      <th>0</th>\n",
              "      <td>7590-VHVEG</td>\n",
              "      <td>2020-01-01</td>\n",
              "      <td>No</td>\n",
              "      <td>Month-to-month</td>\n",
              "      <td>Yes</td>\n",
              "      <td>Electronic check</td>\n",
              "      <td>29.85</td>\n",
              "      <td>31.04</td>\n",
              "    </tr>\n",
              "    <tr>\n",
              "      <th>1</th>\n",
              "      <td>5575-GNVDE</td>\n",
              "      <td>2017-04-01</td>\n",
              "      <td>No</td>\n",
              "      <td>One year</td>\n",
              "      <td>No</td>\n",
              "      <td>Mailed check</td>\n",
              "      <td>56.95</td>\n",
              "      <td>2071.84</td>\n",
              "    </tr>\n",
              "    <tr>\n",
              "      <th>2</th>\n",
              "      <td>3668-QPYBK</td>\n",
              "      <td>2019-10-01</td>\n",
              "      <td>No</td>\n",
              "      <td>Month-to-month</td>\n",
              "      <td>Yes</td>\n",
              "      <td>Mailed check</td>\n",
              "      <td>53.85</td>\n",
              "      <td>226.17</td>\n",
              "    </tr>\n",
              "    <tr>\n",
              "      <th>3</th>\n",
              "      <td>7795-CFOCW</td>\n",
              "      <td>2016-05-01</td>\n",
              "      <td>No</td>\n",
              "      <td>One year</td>\n",
              "      <td>No</td>\n",
              "      <td>Bank transfer (automatic)</td>\n",
              "      <td>42.30</td>\n",
              "      <td>1960.6</td>\n",
              "    </tr>\n",
              "    <tr>\n",
              "      <th>4</th>\n",
              "      <td>9237-HQITU</td>\n",
              "      <td>2019-09-01</td>\n",
              "      <td>No</td>\n",
              "      <td>Month-to-month</td>\n",
              "      <td>Yes</td>\n",
              "      <td>Electronic check</td>\n",
              "      <td>70.70</td>\n",
              "      <td>353.5</td>\n",
              "    </tr>\n",
              "  </tbody>\n",
              "</table>\n",
              "</div>"
            ],
            "text/plain": [
              "  customer_id  begin_date end_date            type paperless_billing  \\\n",
              "0  7590-VHVEG  2020-01-01       No  Month-to-month               Yes   \n",
              "1  5575-GNVDE  2017-04-01       No        One year                No   \n",
              "2  3668-QPYBK  2019-10-01       No  Month-to-month               Yes   \n",
              "3  7795-CFOCW  2016-05-01       No        One year                No   \n",
              "4  9237-HQITU  2019-09-01       No  Month-to-month               Yes   \n",
              "\n",
              "              payment_method  monthly_charges total_charges  \n",
              "0           Electronic check            29.85         31.04  \n",
              "1               Mailed check            56.95       2071.84  \n",
              "2               Mailed check            53.85        226.17  \n",
              "3  Bank transfer (automatic)            42.30        1960.6  \n",
              "4           Electronic check            70.70         353.5  "
            ]
          },
          "execution_count": 11,
          "metadata": {},
          "output_type": "execute_result"
        }
      ],
      "source": [
        "df_contract.head()"
      ]
    },
    {
      "cell_type": "code",
      "execution_count": null,
      "metadata": {
        "id": "2_0JjDYXuGKa",
        "outputId": "c35c7506-de7d-4ab6-afa0-cd2d67c04026"
      },
      "outputs": [
        {
          "name": "stdout",
          "output_type": "stream",
          "text": [
            "<class 'pandas.core.frame.DataFrame'>\n",
            "RangeIndex: 7043 entries, 0 to 7042\n",
            "Data columns (total 8 columns):\n",
            " #   Column             Non-Null Count  Dtype  \n",
            "---  ------             --------------  -----  \n",
            " 0   customer_id        7043 non-null   object \n",
            " 1   begin_date         7043 non-null   object \n",
            " 2   end_date           7043 non-null   object \n",
            " 3   type               7043 non-null   object \n",
            " 4   paperless_billing  7043 non-null   object \n",
            " 5   payment_method     7043 non-null   object \n",
            " 6   monthly_charges    7043 non-null   float64\n",
            " 7   total_charges      7043 non-null   object \n",
            "dtypes: float64(1), object(7)\n",
            "memory usage: 440.3+ KB\n"
          ]
        }
      ],
      "source": [
        "df_contract.info()"
      ]
    },
    {
      "cell_type": "markdown",
      "metadata": {
        "id": "ndfG3N-zuGKb"
      },
      "source": [
        "В df_contract необходимо изменить тип данных в следующих столбцах: begindate, enddate, totalcharges"
      ]
    },
    {
      "cell_type": "code",
      "execution_count": null,
      "metadata": {
        "id": "YV2087ITuGKb"
      },
      "outputs": [],
      "source": [
        "df_contract['begin_date'] = pd.to_datetime(df_contract['begin_date'])\n",
        "# Заменим все No на актуальную дату:  2020-02-01\n",
        "df_contract['end_date'] = df_contract['end_date'].replace('No', '2020-02-01')\n",
        "df_contract['end_date'] = pd.to_datetime(df_contract['end_date'])"
      ]
    },
    {
      "cell_type": "markdown",
      "metadata": {
        "id": "0TOqAkr1uGKb"
      },
      "source": [
        "Замечаем, что присутствуют пустые занчения в столбце totalcharges, если begindate = 2020-02-01, т.е. клиент только начал пользоватьс услугами компании. Поэтому заменим пустые значения нулями."
      ]
    },
    {
      "cell_type": "code",
      "execution_count": null,
      "metadata": {
        "id": "Do863u9suGKb"
      },
      "outputs": [],
      "source": [
        "df_contract['total_charges'] = df_contract['total_charges'].replace(' ', 0)\n",
        "df_contract['total_charges'] = df_contract['total_charges'].astype(float)"
      ]
    },
    {
      "cell_type": "code",
      "execution_count": null,
      "metadata": {
        "id": "Qapn_fd7uGKc",
        "outputId": "6af819dd-5721-4982-d26d-d85ea9362c21"
      },
      "outputs": [
        {
          "data": {
            "text/html": [
              "<div>\n",
              "<style scoped>\n",
              "    .dataframe tbody tr th:only-of-type {\n",
              "        vertical-align: middle;\n",
              "    }\n",
              "\n",
              "    .dataframe tbody tr th {\n",
              "        vertical-align: top;\n",
              "    }\n",
              "\n",
              "    .dataframe thead th {\n",
              "        text-align: right;\n",
              "    }\n",
              "</style>\n",
              "<table border=\"1\" class=\"dataframe\">\n",
              "  <thead>\n",
              "    <tr style=\"text-align: right;\">\n",
              "      <th></th>\n",
              "      <th>customer_id</th>\n",
              "      <th>begin_date</th>\n",
              "      <th>end_date</th>\n",
              "      <th>type</th>\n",
              "      <th>paperless_billing</th>\n",
              "      <th>payment_method</th>\n",
              "      <th>monthly_charges</th>\n",
              "      <th>total_charges</th>\n",
              "    </tr>\n",
              "  </thead>\n",
              "  <tbody>\n",
              "  </tbody>\n",
              "</table>\n",
              "</div>"
            ],
            "text/plain": [
              "Empty DataFrame\n",
              "Columns: [customer_id, begin_date, end_date, type, paperless_billing, payment_method, monthly_charges, total_charges]\n",
              "Index: []"
            ]
          },
          "execution_count": 15,
          "metadata": {},
          "output_type": "execute_result"
        }
      ],
      "source": [
        "# Проврим остпались ли пустые значения в totalcharges\n",
        "df_contract.loc[df_contract['total_charges']== ' ']"
      ]
    },
    {
      "cell_type": "code",
      "execution_count": null,
      "metadata": {
        "id": "zmO34xrNuGKc",
        "outputId": "1266c0b1-45e2-4e9d-af5f-5a810df1ce08"
      },
      "outputs": [
        {
          "data": {
            "text/html": [
              "<div>\n",
              "<style scoped>\n",
              "    .dataframe tbody tr th:only-of-type {\n",
              "        vertical-align: middle;\n",
              "    }\n",
              "\n",
              "    .dataframe tbody tr th {\n",
              "        vertical-align: top;\n",
              "    }\n",
              "\n",
              "    .dataframe thead th {\n",
              "        text-align: right;\n",
              "    }\n",
              "</style>\n",
              "<table border=\"1\" class=\"dataframe\">\n",
              "  <thead>\n",
              "    <tr style=\"text-align: right;\">\n",
              "      <th></th>\n",
              "      <th>customer_id</th>\n",
              "      <th>begin_date</th>\n",
              "      <th>end_date</th>\n",
              "      <th>type</th>\n",
              "      <th>paperless_billing</th>\n",
              "      <th>payment_method</th>\n",
              "      <th>monthly_charges</th>\n",
              "      <th>total_charges</th>\n",
              "    </tr>\n",
              "  </thead>\n",
              "  <tbody>\n",
              "    <tr>\n",
              "      <th>0</th>\n",
              "      <td>7590-VHVEG</td>\n",
              "      <td>2020-01-01</td>\n",
              "      <td>2020-02-01</td>\n",
              "      <td>Month-to-month</td>\n",
              "      <td>Yes</td>\n",
              "      <td>Electronic check</td>\n",
              "      <td>29.85</td>\n",
              "      <td>31.04</td>\n",
              "    </tr>\n",
              "    <tr>\n",
              "      <th>1</th>\n",
              "      <td>5575-GNVDE</td>\n",
              "      <td>2017-04-01</td>\n",
              "      <td>2020-02-01</td>\n",
              "      <td>One year</td>\n",
              "      <td>No</td>\n",
              "      <td>Mailed check</td>\n",
              "      <td>56.95</td>\n",
              "      <td>2071.84</td>\n",
              "    </tr>\n",
              "    <tr>\n",
              "      <th>2</th>\n",
              "      <td>3668-QPYBK</td>\n",
              "      <td>2019-10-01</td>\n",
              "      <td>2020-02-01</td>\n",
              "      <td>Month-to-month</td>\n",
              "      <td>Yes</td>\n",
              "      <td>Mailed check</td>\n",
              "      <td>53.85</td>\n",
              "      <td>226.17</td>\n",
              "    </tr>\n",
              "    <tr>\n",
              "      <th>3</th>\n",
              "      <td>7795-CFOCW</td>\n",
              "      <td>2016-05-01</td>\n",
              "      <td>2020-02-01</td>\n",
              "      <td>One year</td>\n",
              "      <td>No</td>\n",
              "      <td>Bank transfer (automatic)</td>\n",
              "      <td>42.30</td>\n",
              "      <td>1960.60</td>\n",
              "    </tr>\n",
              "    <tr>\n",
              "      <th>4</th>\n",
              "      <td>9237-HQITU</td>\n",
              "      <td>2019-09-01</td>\n",
              "      <td>2020-02-01</td>\n",
              "      <td>Month-to-month</td>\n",
              "      <td>Yes</td>\n",
              "      <td>Electronic check</td>\n",
              "      <td>70.70</td>\n",
              "      <td>353.50</td>\n",
              "    </tr>\n",
              "  </tbody>\n",
              "</table>\n",
              "</div>"
            ],
            "text/plain": [
              "  customer_id begin_date   end_date            type paperless_billing  \\\n",
              "0  7590-VHVEG 2020-01-01 2020-02-01  Month-to-month               Yes   \n",
              "1  5575-GNVDE 2017-04-01 2020-02-01        One year                No   \n",
              "2  3668-QPYBK 2019-10-01 2020-02-01  Month-to-month               Yes   \n",
              "3  7795-CFOCW 2016-05-01 2020-02-01        One year                No   \n",
              "4  9237-HQITU 2019-09-01 2020-02-01  Month-to-month               Yes   \n",
              "\n",
              "              payment_method  monthly_charges  total_charges  \n",
              "0           Electronic check            29.85          31.04  \n",
              "1               Mailed check            56.95        2071.84  \n",
              "2               Mailed check            53.85         226.17  \n",
              "3  Bank transfer (automatic)            42.30        1960.60  \n",
              "4           Electronic check            70.70         353.50  "
            ]
          },
          "execution_count": 16,
          "metadata": {},
          "output_type": "execute_result"
        }
      ],
      "source": [
        "df_contract.head()"
      ]
    },
    {
      "cell_type": "code",
      "execution_count": null,
      "metadata": {
        "id": "6Yj-KFiuuGKc",
        "outputId": "9642639c-8978-43e1-a1d8-edc4915d61ea"
      },
      "outputs": [
        {
          "name": "stdout",
          "output_type": "stream",
          "text": [
            "<class 'pandas.core.frame.DataFrame'>\n",
            "RangeIndex: 7043 entries, 0 to 7042\n",
            "Data columns (total 8 columns):\n",
            " #   Column             Non-Null Count  Dtype         \n",
            "---  ------             --------------  -----         \n",
            " 0   customer_id        7043 non-null   object        \n",
            " 1   begin_date         7043 non-null   datetime64[ns]\n",
            " 2   end_date           7043 non-null   datetime64[ns]\n",
            " 3   type               7043 non-null   object        \n",
            " 4   paperless_billing  7043 non-null   object        \n",
            " 5   payment_method     7043 non-null   object        \n",
            " 6   monthly_charges    7043 non-null   float64       \n",
            " 7   total_charges      7043 non-null   float64       \n",
            "dtypes: datetime64[ns](2), float64(2), object(4)\n",
            "memory usage: 440.3+ KB\n"
          ]
        }
      ],
      "source": [
        "# Проверим типы данных датафрейма df_contract\n",
        "df_contract.info()"
      ]
    },
    {
      "cell_type": "markdown",
      "metadata": {
        "id": "Hh4sYfDHuGKd"
      },
      "source": [
        "В остальных датафреймах типы данных соотвутствуют содержимому"
      ]
    },
    {
      "cell_type": "markdown",
      "metadata": {
        "id": "ZPkHqdj0uGKd"
      },
      "source": [
        "### Проверка на наличие явных дубликатов"
      ]
    },
    {
      "cell_type": "code",
      "execution_count": null,
      "metadata": {
        "id": "uHmxPDb_uGKd",
        "outputId": "38b4ce83-13e9-4558-8b15-4fe425c94ba3"
      },
      "outputs": [
        {
          "name": "stdout",
          "output_type": "stream",
          "text": [
            "Количество явных дубликатов в df_contract: 0\n",
            "Количество явных дубликатов в df_personal: 0\n",
            "Количество явных дубликатов в df_internet: 0\n",
            "Количество явных дубликатов в df_phone: 0\n"
          ]
        }
      ],
      "source": [
        "# Проверка df_contract на наличие явных дубликатов\n",
        "print(\"Количество явных дубликатов в df_contract:\", df_contract.duplicated().sum())\n",
        "\n",
        "# Проверка df_personal на наличие явных дубликатов\n",
        "print(\"Количество явных дубликатов в df_personal:\", df_personal.duplicated().sum())\n",
        "\n",
        "# Проверка df_internet на наличие явных дубликатов\n",
        "print(\"Количество явных дубликатов в df_internet:\", df_internet.duplicated().sum())\n",
        "\n",
        "# Проверка df_phone на наличие явных дубликатов\n",
        "print(\"Количество явных дубликатов в df_phone:\", df_phone.duplicated().sum())\n"
      ]
    },
    {
      "cell_type": "markdown",
      "metadata": {
        "id": "wNOusYf4uGKd"
      },
      "source": [
        "Явные дубликаты отсутствуют"
      ]
    },
    {
      "cell_type": "markdown",
      "metadata": {
        "id": "t14F5uYDuGKe"
      },
      "source": [
        "### Генерация целевого признака"
      ]
    },
    {
      "cell_type": "markdown",
      "metadata": {
        "id": "5QIehQ4GuGKe"
      },
      "source": [
        "Сгенерируем целевой признак из значений столбца enddate датафрейма df_contract"
      ]
    },
    {
      "cell_type": "code",
      "execution_count": null,
      "metadata": {
        "id": "FE759EpLuGKe",
        "outputId": "3aff980a-297a-4f5d-dd28-fa2d68790587"
      },
      "outputs": [
        {
          "data": {
            "text/html": [
              "<div>\n",
              "<style scoped>\n",
              "    .dataframe tbody tr th:only-of-type {\n",
              "        vertical-align: middle;\n",
              "    }\n",
              "\n",
              "    .dataframe tbody tr th {\n",
              "        vertical-align: top;\n",
              "    }\n",
              "\n",
              "    .dataframe thead th {\n",
              "        text-align: right;\n",
              "    }\n",
              "</style>\n",
              "<table border=\"1\" class=\"dataframe\">\n",
              "  <thead>\n",
              "    <tr style=\"text-align: right;\">\n",
              "      <th></th>\n",
              "      <th>customer_id</th>\n",
              "      <th>begin_date</th>\n",
              "      <th>end_date</th>\n",
              "      <th>type</th>\n",
              "      <th>paperless_billing</th>\n",
              "      <th>payment_method</th>\n",
              "      <th>monthly_charges</th>\n",
              "      <th>total_charges</th>\n",
              "    </tr>\n",
              "  </thead>\n",
              "  <tbody>\n",
              "    <tr>\n",
              "      <th>0</th>\n",
              "      <td>7590-VHVEG</td>\n",
              "      <td>2020-01-01</td>\n",
              "      <td>2020-02-01</td>\n",
              "      <td>Month-to-month</td>\n",
              "      <td>Yes</td>\n",
              "      <td>Electronic check</td>\n",
              "      <td>29.85</td>\n",
              "      <td>31.04</td>\n",
              "    </tr>\n",
              "    <tr>\n",
              "      <th>1</th>\n",
              "      <td>5575-GNVDE</td>\n",
              "      <td>2017-04-01</td>\n",
              "      <td>2020-02-01</td>\n",
              "      <td>One year</td>\n",
              "      <td>No</td>\n",
              "      <td>Mailed check</td>\n",
              "      <td>56.95</td>\n",
              "      <td>2071.84</td>\n",
              "    </tr>\n",
              "    <tr>\n",
              "      <th>2</th>\n",
              "      <td>3668-QPYBK</td>\n",
              "      <td>2019-10-01</td>\n",
              "      <td>2020-02-01</td>\n",
              "      <td>Month-to-month</td>\n",
              "      <td>Yes</td>\n",
              "      <td>Mailed check</td>\n",
              "      <td>53.85</td>\n",
              "      <td>226.17</td>\n",
              "    </tr>\n",
              "  </tbody>\n",
              "</table>\n",
              "</div>"
            ],
            "text/plain": [
              "  customer_id begin_date   end_date            type paperless_billing  \\\n",
              "0  7590-VHVEG 2020-01-01 2020-02-01  Month-to-month               Yes   \n",
              "1  5575-GNVDE 2017-04-01 2020-02-01        One year                No   \n",
              "2  3668-QPYBK 2019-10-01 2020-02-01  Month-to-month               Yes   \n",
              "\n",
              "     payment_method  monthly_charges  total_charges  \n",
              "0  Electronic check            29.85          31.04  \n",
              "1      Mailed check            56.95        2071.84  \n",
              "2      Mailed check            53.85         226.17  "
            ]
          },
          "execution_count": 19,
          "metadata": {},
          "output_type": "execute_result"
        }
      ],
      "source": [
        "df_contract.head(3)"
      ]
    },
    {
      "cell_type": "code",
      "execution_count": null,
      "metadata": {
        "id": "dyRmg9u8uGKe"
      },
      "outputs": [],
      "source": [
        "df_contract['gone'] = np.where(df_contract['end_date'] == '2020-02-01', 0, 1)"
      ]
    },
    {
      "cell_type": "code",
      "execution_count": null,
      "metadata": {
        "id": "4Kh0GRdluGKe",
        "outputId": "d5c78776-05f7-49fc-b1a8-5dbd27424fa8"
      },
      "outputs": [
        {
          "data": {
            "text/html": [
              "<div>\n",
              "<style scoped>\n",
              "    .dataframe tbody tr th:only-of-type {\n",
              "        vertical-align: middle;\n",
              "    }\n",
              "\n",
              "    .dataframe tbody tr th {\n",
              "        vertical-align: top;\n",
              "    }\n",
              "\n",
              "    .dataframe thead th {\n",
              "        text-align: right;\n",
              "    }\n",
              "</style>\n",
              "<table border=\"1\" class=\"dataframe\">\n",
              "  <thead>\n",
              "    <tr style=\"text-align: right;\">\n",
              "      <th></th>\n",
              "      <th>customer_id</th>\n",
              "      <th>begin_date</th>\n",
              "      <th>end_date</th>\n",
              "      <th>type</th>\n",
              "      <th>paperless_billing</th>\n",
              "      <th>payment_method</th>\n",
              "      <th>monthly_charges</th>\n",
              "      <th>total_charges</th>\n",
              "      <th>gone</th>\n",
              "    </tr>\n",
              "  </thead>\n",
              "  <tbody>\n",
              "    <tr>\n",
              "      <th>0</th>\n",
              "      <td>7590-VHVEG</td>\n",
              "      <td>2020-01-01</td>\n",
              "      <td>2020-02-01</td>\n",
              "      <td>Month-to-month</td>\n",
              "      <td>Yes</td>\n",
              "      <td>Electronic check</td>\n",
              "      <td>29.85</td>\n",
              "      <td>31.04</td>\n",
              "      <td>0</td>\n",
              "    </tr>\n",
              "    <tr>\n",
              "      <th>1</th>\n",
              "      <td>5575-GNVDE</td>\n",
              "      <td>2017-04-01</td>\n",
              "      <td>2020-02-01</td>\n",
              "      <td>One year</td>\n",
              "      <td>No</td>\n",
              "      <td>Mailed check</td>\n",
              "      <td>56.95</td>\n",
              "      <td>2071.84</td>\n",
              "      <td>0</td>\n",
              "    </tr>\n",
              "    <tr>\n",
              "      <th>2</th>\n",
              "      <td>3668-QPYBK</td>\n",
              "      <td>2019-10-01</td>\n",
              "      <td>2020-02-01</td>\n",
              "      <td>Month-to-month</td>\n",
              "      <td>Yes</td>\n",
              "      <td>Mailed check</td>\n",
              "      <td>53.85</td>\n",
              "      <td>226.17</td>\n",
              "      <td>0</td>\n",
              "    </tr>\n",
              "    <tr>\n",
              "      <th>3</th>\n",
              "      <td>7795-CFOCW</td>\n",
              "      <td>2016-05-01</td>\n",
              "      <td>2020-02-01</td>\n",
              "      <td>One year</td>\n",
              "      <td>No</td>\n",
              "      <td>Bank transfer (automatic)</td>\n",
              "      <td>42.30</td>\n",
              "      <td>1960.60</td>\n",
              "      <td>0</td>\n",
              "    </tr>\n",
              "    <tr>\n",
              "      <th>4</th>\n",
              "      <td>9237-HQITU</td>\n",
              "      <td>2019-09-01</td>\n",
              "      <td>2020-02-01</td>\n",
              "      <td>Month-to-month</td>\n",
              "      <td>Yes</td>\n",
              "      <td>Electronic check</td>\n",
              "      <td>70.70</td>\n",
              "      <td>353.50</td>\n",
              "      <td>0</td>\n",
              "    </tr>\n",
              "    <tr>\n",
              "      <th>5</th>\n",
              "      <td>9305-CDSKC</td>\n",
              "      <td>2019-03-01</td>\n",
              "      <td>2020-02-01</td>\n",
              "      <td>Month-to-month</td>\n",
              "      <td>Yes</td>\n",
              "      <td>Electronic check</td>\n",
              "      <td>99.65</td>\n",
              "      <td>1150.96</td>\n",
              "      <td>0</td>\n",
              "    </tr>\n",
              "    <tr>\n",
              "      <th>6</th>\n",
              "      <td>1452-KIOVK</td>\n",
              "      <td>2018-04-01</td>\n",
              "      <td>2020-02-01</td>\n",
              "      <td>Month-to-month</td>\n",
              "      <td>Yes</td>\n",
              "      <td>Credit card (automatic)</td>\n",
              "      <td>89.10</td>\n",
              "      <td>2058.21</td>\n",
              "      <td>0</td>\n",
              "    </tr>\n",
              "    <tr>\n",
              "      <th>7</th>\n",
              "      <td>6713-OKOMC</td>\n",
              "      <td>2019-04-01</td>\n",
              "      <td>2020-02-01</td>\n",
              "      <td>Month-to-month</td>\n",
              "      <td>No</td>\n",
              "      <td>Mailed check</td>\n",
              "      <td>29.75</td>\n",
              "      <td>300.48</td>\n",
              "      <td>0</td>\n",
              "    </tr>\n",
              "    <tr>\n",
              "      <th>8</th>\n",
              "      <td>7892-POOKP</td>\n",
              "      <td>2017-07-01</td>\n",
              "      <td>2020-02-01</td>\n",
              "      <td>Month-to-month</td>\n",
              "      <td>Yes</td>\n",
              "      <td>Electronic check</td>\n",
              "      <td>104.80</td>\n",
              "      <td>3573.68</td>\n",
              "      <td>0</td>\n",
              "    </tr>\n",
              "    <tr>\n",
              "      <th>9</th>\n",
              "      <td>6388-TABGU</td>\n",
              "      <td>2014-12-01</td>\n",
              "      <td>2017-05-01</td>\n",
              "      <td>One year</td>\n",
              "      <td>No</td>\n",
              "      <td>Bank transfer (automatic)</td>\n",
              "      <td>56.15</td>\n",
              "      <td>1628.35</td>\n",
              "      <td>1</td>\n",
              "    </tr>\n",
              "  </tbody>\n",
              "</table>\n",
              "</div>"
            ],
            "text/plain": [
              "  customer_id begin_date   end_date            type paperless_billing  \\\n",
              "0  7590-VHVEG 2020-01-01 2020-02-01  Month-to-month               Yes   \n",
              "1  5575-GNVDE 2017-04-01 2020-02-01        One year                No   \n",
              "2  3668-QPYBK 2019-10-01 2020-02-01  Month-to-month               Yes   \n",
              "3  7795-CFOCW 2016-05-01 2020-02-01        One year                No   \n",
              "4  9237-HQITU 2019-09-01 2020-02-01  Month-to-month               Yes   \n",
              "5  9305-CDSKC 2019-03-01 2020-02-01  Month-to-month               Yes   \n",
              "6  1452-KIOVK 2018-04-01 2020-02-01  Month-to-month               Yes   \n",
              "7  6713-OKOMC 2019-04-01 2020-02-01  Month-to-month                No   \n",
              "8  7892-POOKP 2017-07-01 2020-02-01  Month-to-month               Yes   \n",
              "9  6388-TABGU 2014-12-01 2017-05-01        One year                No   \n",
              "\n",
              "              payment_method  monthly_charges  total_charges  gone  \n",
              "0           Electronic check            29.85          31.04     0  \n",
              "1               Mailed check            56.95        2071.84     0  \n",
              "2               Mailed check            53.85         226.17     0  \n",
              "3  Bank transfer (automatic)            42.30        1960.60     0  \n",
              "4           Electronic check            70.70         353.50     0  \n",
              "5           Electronic check            99.65        1150.96     0  \n",
              "6    Credit card (automatic)            89.10        2058.21     0  \n",
              "7               Mailed check            29.75         300.48     0  \n",
              "8           Electronic check           104.80        3573.68     0  \n",
              "9  Bank transfer (automatic)            56.15        1628.35     1  "
            ]
          },
          "execution_count": 21,
          "metadata": {},
          "output_type": "execute_result"
        }
      ],
      "source": [
        "df_contract.head(10)"
      ]
    },
    {
      "cell_type": "markdown",
      "metadata": {
        "id": "7s1JC18MuGKf"
      },
      "source": [
        "Целевой признак создан и принимает значение 1, если клиент перестал пользоваться услугами компании."
      ]
    },
    {
      "cell_type": "markdown",
      "metadata": {
        "id": "EAhSVXb7uGKf"
      },
      "source": [
        "### Генерация прочих признаков и удаление лишних признаков"
      ]
    },
    {
      "cell_type": "markdown",
      "metadata": {
        "id": "bLpPL0omuGKf"
      },
      "source": [
        "Так как наличие таких признаков как begindate и enddate создаёт утечку, то необходимо их удалить. Но, чтобы не терять данные сначала сгенерируем признак продолжительности пользования услугами."
      ]
    },
    {
      "cell_type": "code",
      "execution_count": null,
      "metadata": {
        "id": "yTlJp_LKuGKf",
        "outputId": "49bb1b01-98cc-450f-95f1-b2e7e21c540f"
      },
      "outputs": [
        {
          "data": {
            "text/html": [
              "<div>\n",
              "<style scoped>\n",
              "    .dataframe tbody tr th:only-of-type {\n",
              "        vertical-align: middle;\n",
              "    }\n",
              "\n",
              "    .dataframe tbody tr th {\n",
              "        vertical-align: top;\n",
              "    }\n",
              "\n",
              "    .dataframe thead th {\n",
              "        text-align: right;\n",
              "    }\n",
              "</style>\n",
              "<table border=\"1\" class=\"dataframe\">\n",
              "  <thead>\n",
              "    <tr style=\"text-align: right;\">\n",
              "      <th></th>\n",
              "      <th>customer_id</th>\n",
              "      <th>begin_date</th>\n",
              "      <th>end_date</th>\n",
              "      <th>type</th>\n",
              "      <th>paperless_billing</th>\n",
              "      <th>payment_method</th>\n",
              "      <th>monthly_charges</th>\n",
              "      <th>total_charges</th>\n",
              "      <th>gone</th>\n",
              "      <th>duration</th>\n",
              "    </tr>\n",
              "  </thead>\n",
              "  <tbody>\n",
              "    <tr>\n",
              "      <th>0</th>\n",
              "      <td>7590-VHVEG</td>\n",
              "      <td>2020-01-01</td>\n",
              "      <td>2020-02-01</td>\n",
              "      <td>Month-to-month</td>\n",
              "      <td>Yes</td>\n",
              "      <td>Electronic check</td>\n",
              "      <td>29.85</td>\n",
              "      <td>31.04</td>\n",
              "      <td>0</td>\n",
              "      <td>31</td>\n",
              "    </tr>\n",
              "    <tr>\n",
              "      <th>1</th>\n",
              "      <td>5575-GNVDE</td>\n",
              "      <td>2017-04-01</td>\n",
              "      <td>2020-02-01</td>\n",
              "      <td>One year</td>\n",
              "      <td>No</td>\n",
              "      <td>Mailed check</td>\n",
              "      <td>56.95</td>\n",
              "      <td>2071.84</td>\n",
              "      <td>0</td>\n",
              "      <td>1036</td>\n",
              "    </tr>\n",
              "    <tr>\n",
              "      <th>2</th>\n",
              "      <td>3668-QPYBK</td>\n",
              "      <td>2019-10-01</td>\n",
              "      <td>2020-02-01</td>\n",
              "      <td>Month-to-month</td>\n",
              "      <td>Yes</td>\n",
              "      <td>Mailed check</td>\n",
              "      <td>53.85</td>\n",
              "      <td>226.17</td>\n",
              "      <td>0</td>\n",
              "      <td>123</td>\n",
              "    </tr>\n",
              "    <tr>\n",
              "      <th>3</th>\n",
              "      <td>7795-CFOCW</td>\n",
              "      <td>2016-05-01</td>\n",
              "      <td>2020-02-01</td>\n",
              "      <td>One year</td>\n",
              "      <td>No</td>\n",
              "      <td>Bank transfer (automatic)</td>\n",
              "      <td>42.30</td>\n",
              "      <td>1960.60</td>\n",
              "      <td>0</td>\n",
              "      <td>1371</td>\n",
              "    </tr>\n",
              "    <tr>\n",
              "      <th>4</th>\n",
              "      <td>9237-HQITU</td>\n",
              "      <td>2019-09-01</td>\n",
              "      <td>2020-02-01</td>\n",
              "      <td>Month-to-month</td>\n",
              "      <td>Yes</td>\n",
              "      <td>Electronic check</td>\n",
              "      <td>70.70</td>\n",
              "      <td>353.50</td>\n",
              "      <td>0</td>\n",
              "      <td>153</td>\n",
              "    </tr>\n",
              "  </tbody>\n",
              "</table>\n",
              "</div>"
            ],
            "text/plain": [
              "  customer_id begin_date   end_date            type paperless_billing  \\\n",
              "0  7590-VHVEG 2020-01-01 2020-02-01  Month-to-month               Yes   \n",
              "1  5575-GNVDE 2017-04-01 2020-02-01        One year                No   \n",
              "2  3668-QPYBK 2019-10-01 2020-02-01  Month-to-month               Yes   \n",
              "3  7795-CFOCW 2016-05-01 2020-02-01        One year                No   \n",
              "4  9237-HQITU 2019-09-01 2020-02-01  Month-to-month               Yes   \n",
              "\n",
              "              payment_method  monthly_charges  total_charges  gone  duration  \n",
              "0           Electronic check            29.85          31.04     0        31  \n",
              "1               Mailed check            56.95        2071.84     0      1036  \n",
              "2               Mailed check            53.85         226.17     0       123  \n",
              "3  Bank transfer (automatic)            42.30        1960.60     0      1371  \n",
              "4           Electronic check            70.70         353.50     0       153  "
            ]
          },
          "execution_count": 22,
          "metadata": {},
          "output_type": "execute_result"
        }
      ],
      "source": [
        "df_contract['duration'] = (df_contract['end_date'] - df_contract['begin_date']).dt.days.astype(int)\n",
        "df_contract.head()"
      ]
    },
    {
      "cell_type": "markdown",
      "metadata": {
        "id": "IDYXxB0YuGKf"
      },
      "source": [
        "Удалим призннаки begindate и enddate"
      ]
    },
    {
      "cell_type": "code",
      "execution_count": null,
      "metadata": {
        "id": "MYNeSahxuGKf"
      },
      "outputs": [],
      "source": [
        "df_contract = df_contract.drop(['begin_date', 'end_date'], axis=1)"
      ]
    },
    {
      "cell_type": "code",
      "execution_count": null,
      "metadata": {
        "id": "WprPkc7OuGKg",
        "outputId": "1b92e583-36cb-46f2-adbf-39341f811cba"
      },
      "outputs": [
        {
          "data": {
            "text/html": [
              "<div>\n",
              "<style scoped>\n",
              "    .dataframe tbody tr th:only-of-type {\n",
              "        vertical-align: middle;\n",
              "    }\n",
              "\n",
              "    .dataframe tbody tr th {\n",
              "        vertical-align: top;\n",
              "    }\n",
              "\n",
              "    .dataframe thead th {\n",
              "        text-align: right;\n",
              "    }\n",
              "</style>\n",
              "<table border=\"1\" class=\"dataframe\">\n",
              "  <thead>\n",
              "    <tr style=\"text-align: right;\">\n",
              "      <th></th>\n",
              "      <th>customer_id</th>\n",
              "      <th>type</th>\n",
              "      <th>paperless_billing</th>\n",
              "      <th>payment_method</th>\n",
              "      <th>monthly_charges</th>\n",
              "      <th>total_charges</th>\n",
              "      <th>gone</th>\n",
              "      <th>duration</th>\n",
              "    </tr>\n",
              "  </thead>\n",
              "  <tbody>\n",
              "    <tr>\n",
              "      <th>0</th>\n",
              "      <td>7590-VHVEG</td>\n",
              "      <td>Month-to-month</td>\n",
              "      <td>Yes</td>\n",
              "      <td>Electronic check</td>\n",
              "      <td>29.85</td>\n",
              "      <td>31.04</td>\n",
              "      <td>0</td>\n",
              "      <td>31</td>\n",
              "    </tr>\n",
              "    <tr>\n",
              "      <th>1</th>\n",
              "      <td>5575-GNVDE</td>\n",
              "      <td>One year</td>\n",
              "      <td>No</td>\n",
              "      <td>Mailed check</td>\n",
              "      <td>56.95</td>\n",
              "      <td>2071.84</td>\n",
              "      <td>0</td>\n",
              "      <td>1036</td>\n",
              "    </tr>\n",
              "    <tr>\n",
              "      <th>2</th>\n",
              "      <td>3668-QPYBK</td>\n",
              "      <td>Month-to-month</td>\n",
              "      <td>Yes</td>\n",
              "      <td>Mailed check</td>\n",
              "      <td>53.85</td>\n",
              "      <td>226.17</td>\n",
              "      <td>0</td>\n",
              "      <td>123</td>\n",
              "    </tr>\n",
              "    <tr>\n",
              "      <th>3</th>\n",
              "      <td>7795-CFOCW</td>\n",
              "      <td>One year</td>\n",
              "      <td>No</td>\n",
              "      <td>Bank transfer (automatic)</td>\n",
              "      <td>42.30</td>\n",
              "      <td>1960.60</td>\n",
              "      <td>0</td>\n",
              "      <td>1371</td>\n",
              "    </tr>\n",
              "    <tr>\n",
              "      <th>4</th>\n",
              "      <td>9237-HQITU</td>\n",
              "      <td>Month-to-month</td>\n",
              "      <td>Yes</td>\n",
              "      <td>Electronic check</td>\n",
              "      <td>70.70</td>\n",
              "      <td>353.50</td>\n",
              "      <td>0</td>\n",
              "      <td>153</td>\n",
              "    </tr>\n",
              "    <tr>\n",
              "      <th>5</th>\n",
              "      <td>9305-CDSKC</td>\n",
              "      <td>Month-to-month</td>\n",
              "      <td>Yes</td>\n",
              "      <td>Electronic check</td>\n",
              "      <td>99.65</td>\n",
              "      <td>1150.96</td>\n",
              "      <td>0</td>\n",
              "      <td>337</td>\n",
              "    </tr>\n",
              "    <tr>\n",
              "      <th>6</th>\n",
              "      <td>1452-KIOVK</td>\n",
              "      <td>Month-to-month</td>\n",
              "      <td>Yes</td>\n",
              "      <td>Credit card (automatic)</td>\n",
              "      <td>89.10</td>\n",
              "      <td>2058.21</td>\n",
              "      <td>0</td>\n",
              "      <td>671</td>\n",
              "    </tr>\n",
              "    <tr>\n",
              "      <th>7</th>\n",
              "      <td>6713-OKOMC</td>\n",
              "      <td>Month-to-month</td>\n",
              "      <td>No</td>\n",
              "      <td>Mailed check</td>\n",
              "      <td>29.75</td>\n",
              "      <td>300.48</td>\n",
              "      <td>0</td>\n",
              "      <td>306</td>\n",
              "    </tr>\n",
              "    <tr>\n",
              "      <th>8</th>\n",
              "      <td>7892-POOKP</td>\n",
              "      <td>Month-to-month</td>\n",
              "      <td>Yes</td>\n",
              "      <td>Electronic check</td>\n",
              "      <td>104.80</td>\n",
              "      <td>3573.68</td>\n",
              "      <td>0</td>\n",
              "      <td>945</td>\n",
              "    </tr>\n",
              "    <tr>\n",
              "      <th>9</th>\n",
              "      <td>6388-TABGU</td>\n",
              "      <td>One year</td>\n",
              "      <td>No</td>\n",
              "      <td>Bank transfer (automatic)</td>\n",
              "      <td>56.15</td>\n",
              "      <td>1628.35</td>\n",
              "      <td>1</td>\n",
              "      <td>882</td>\n",
              "    </tr>\n",
              "  </tbody>\n",
              "</table>\n",
              "</div>"
            ],
            "text/plain": [
              "  customer_id            type paperless_billing             payment_method  \\\n",
              "0  7590-VHVEG  Month-to-month               Yes           Electronic check   \n",
              "1  5575-GNVDE        One year                No               Mailed check   \n",
              "2  3668-QPYBK  Month-to-month               Yes               Mailed check   \n",
              "3  7795-CFOCW        One year                No  Bank transfer (automatic)   \n",
              "4  9237-HQITU  Month-to-month               Yes           Electronic check   \n",
              "5  9305-CDSKC  Month-to-month               Yes           Electronic check   \n",
              "6  1452-KIOVK  Month-to-month               Yes    Credit card (automatic)   \n",
              "7  6713-OKOMC  Month-to-month                No               Mailed check   \n",
              "8  7892-POOKP  Month-to-month               Yes           Electronic check   \n",
              "9  6388-TABGU        One year                No  Bank transfer (automatic)   \n",
              "\n",
              "   monthly_charges  total_charges  gone  duration  \n",
              "0            29.85          31.04     0        31  \n",
              "1            56.95        2071.84     0      1036  \n",
              "2            53.85         226.17     0       123  \n",
              "3            42.30        1960.60     0      1371  \n",
              "4            70.70         353.50     0       153  \n",
              "5            99.65        1150.96     0       337  \n",
              "6            89.10        2058.21     0       671  \n",
              "7            29.75         300.48     0       306  \n",
              "8           104.80        3573.68     0       945  \n",
              "9            56.15        1628.35     1       882  "
            ]
          },
          "execution_count": 24,
          "metadata": {},
          "output_type": "execute_result"
        }
      ],
      "source": [
        "# Проверим датафрейм после удаления признаков\n",
        "df_contract.head(10)"
      ]
    },
    {
      "cell_type": "markdown",
      "metadata": {
        "id": "Sh11hIsFuGKg"
      },
      "source": [
        "### Объединение таблиц"
      ]
    },
    {
      "cell_type": "code",
      "execution_count": null,
      "metadata": {
        "id": "V1hTfiiLuGKg"
      },
      "outputs": [],
      "source": [
        "# Создание SQL-запроса объединения\n",
        "query = '''\n",
        "    SELECT c.customer_id,\n",
        "            c.type,\n",
        "            c.paperless_billing,\n",
        "            c.payment_method,\n",
        "            c.monthly_charges,\n",
        "            c.total_charges,\n",
        "            c.gone,\n",
        "            c.duration,\n",
        "            p.gender,\n",
        "            p.senior_citizen,\n",
        "            p.partner,\n",
        "            p.dependents,\n",
        "            i.internet_service,\n",
        "            i.online_security,\n",
        "            i.online_backup,\n",
        "            i.device_protection,\n",
        "            i.tech_support,\n",
        "            i.streaming_tv,\n",
        "            i.streaming_movies,\n",
        "            ph.multiple_lines\n",
        "\n",
        "    FROM df_contract AS c\n",
        "    LEFT JOIN df_personal AS p ON c.customer_id = p.customer_id\n",
        "    LEFT JOIN df_internet AS i ON c.customer_id = i.customer_id\n",
        "    LEFT JOIN df_phone AS ph ON c.customer_id = ph.customer_id\n",
        "'''\n",
        "\n",
        "# Выполнение SQL-запроса\n",
        "full_df = ps.sqldf(query, locals())\n",
        "\n"
      ]
    },
    {
      "cell_type": "code",
      "execution_count": null,
      "metadata": {
        "id": "GNLN7WCKuGKg",
        "outputId": "bcbd9d9f-0975-49c5-a8c7-55487c16ba64"
      },
      "outputs": [
        {
          "data": {
            "text/html": [
              "<div>\n",
              "<style scoped>\n",
              "    .dataframe tbody tr th:only-of-type {\n",
              "        vertical-align: middle;\n",
              "    }\n",
              "\n",
              "    .dataframe tbody tr th {\n",
              "        vertical-align: top;\n",
              "    }\n",
              "\n",
              "    .dataframe thead th {\n",
              "        text-align: right;\n",
              "    }\n",
              "</style>\n",
              "<table border=\"1\" class=\"dataframe\">\n",
              "  <thead>\n",
              "    <tr style=\"text-align: right;\">\n",
              "      <th></th>\n",
              "      <th>customer_id</th>\n",
              "      <th>type</th>\n",
              "      <th>paperless_billing</th>\n",
              "      <th>payment_method</th>\n",
              "      <th>monthly_charges</th>\n",
              "      <th>total_charges</th>\n",
              "      <th>gone</th>\n",
              "      <th>duration</th>\n",
              "      <th>gender</th>\n",
              "      <th>senior_citizen</th>\n",
              "      <th>partner</th>\n",
              "      <th>dependents</th>\n",
              "      <th>internet_service</th>\n",
              "      <th>online_security</th>\n",
              "      <th>online_backup</th>\n",
              "      <th>device_protection</th>\n",
              "      <th>tech_support</th>\n",
              "      <th>streaming_tv</th>\n",
              "      <th>streaming_movies</th>\n",
              "      <th>multiple_lines</th>\n",
              "    </tr>\n",
              "  </thead>\n",
              "  <tbody>\n",
              "    <tr>\n",
              "      <th>0</th>\n",
              "      <td>7590-VHVEG</td>\n",
              "      <td>Month-to-month</td>\n",
              "      <td>Yes</td>\n",
              "      <td>Electronic check</td>\n",
              "      <td>29.85</td>\n",
              "      <td>31.04</td>\n",
              "      <td>0</td>\n",
              "      <td>31</td>\n",
              "      <td>Female</td>\n",
              "      <td>0</td>\n",
              "      <td>Yes</td>\n",
              "      <td>No</td>\n",
              "      <td>DSL</td>\n",
              "      <td>No</td>\n",
              "      <td>Yes</td>\n",
              "      <td>No</td>\n",
              "      <td>No</td>\n",
              "      <td>No</td>\n",
              "      <td>No</td>\n",
              "      <td>None</td>\n",
              "    </tr>\n",
              "    <tr>\n",
              "      <th>1</th>\n",
              "      <td>5575-GNVDE</td>\n",
              "      <td>One year</td>\n",
              "      <td>No</td>\n",
              "      <td>Mailed check</td>\n",
              "      <td>56.95</td>\n",
              "      <td>2071.84</td>\n",
              "      <td>0</td>\n",
              "      <td>1036</td>\n",
              "      <td>Male</td>\n",
              "      <td>0</td>\n",
              "      <td>No</td>\n",
              "      <td>No</td>\n",
              "      <td>DSL</td>\n",
              "      <td>Yes</td>\n",
              "      <td>No</td>\n",
              "      <td>Yes</td>\n",
              "      <td>No</td>\n",
              "      <td>No</td>\n",
              "      <td>No</td>\n",
              "      <td>No</td>\n",
              "    </tr>\n",
              "    <tr>\n",
              "      <th>2</th>\n",
              "      <td>3668-QPYBK</td>\n",
              "      <td>Month-to-month</td>\n",
              "      <td>Yes</td>\n",
              "      <td>Mailed check</td>\n",
              "      <td>53.85</td>\n",
              "      <td>226.17</td>\n",
              "      <td>0</td>\n",
              "      <td>123</td>\n",
              "      <td>Male</td>\n",
              "      <td>0</td>\n",
              "      <td>No</td>\n",
              "      <td>No</td>\n",
              "      <td>DSL</td>\n",
              "      <td>Yes</td>\n",
              "      <td>Yes</td>\n",
              "      <td>No</td>\n",
              "      <td>No</td>\n",
              "      <td>No</td>\n",
              "      <td>No</td>\n",
              "      <td>No</td>\n",
              "    </tr>\n",
              "    <tr>\n",
              "      <th>3</th>\n",
              "      <td>7795-CFOCW</td>\n",
              "      <td>One year</td>\n",
              "      <td>No</td>\n",
              "      <td>Bank transfer (automatic)</td>\n",
              "      <td>42.30</td>\n",
              "      <td>1960.60</td>\n",
              "      <td>0</td>\n",
              "      <td>1371</td>\n",
              "      <td>Male</td>\n",
              "      <td>0</td>\n",
              "      <td>No</td>\n",
              "      <td>No</td>\n",
              "      <td>DSL</td>\n",
              "      <td>Yes</td>\n",
              "      <td>No</td>\n",
              "      <td>Yes</td>\n",
              "      <td>Yes</td>\n",
              "      <td>No</td>\n",
              "      <td>No</td>\n",
              "      <td>None</td>\n",
              "    </tr>\n",
              "    <tr>\n",
              "      <th>4</th>\n",
              "      <td>9237-HQITU</td>\n",
              "      <td>Month-to-month</td>\n",
              "      <td>Yes</td>\n",
              "      <td>Electronic check</td>\n",
              "      <td>70.70</td>\n",
              "      <td>353.50</td>\n",
              "      <td>0</td>\n",
              "      <td>153</td>\n",
              "      <td>Female</td>\n",
              "      <td>0</td>\n",
              "      <td>No</td>\n",
              "      <td>No</td>\n",
              "      <td>Fiber optic</td>\n",
              "      <td>No</td>\n",
              "      <td>No</td>\n",
              "      <td>No</td>\n",
              "      <td>No</td>\n",
              "      <td>No</td>\n",
              "      <td>No</td>\n",
              "      <td>No</td>\n",
              "    </tr>\n",
              "  </tbody>\n",
              "</table>\n",
              "</div>"
            ],
            "text/plain": [
              "  customer_id            type paperless_billing             payment_method  \\\n",
              "0  7590-VHVEG  Month-to-month               Yes           Electronic check   \n",
              "1  5575-GNVDE        One year                No               Mailed check   \n",
              "2  3668-QPYBK  Month-to-month               Yes               Mailed check   \n",
              "3  7795-CFOCW        One year                No  Bank transfer (automatic)   \n",
              "4  9237-HQITU  Month-to-month               Yes           Electronic check   \n",
              "\n",
              "   monthly_charges  total_charges  gone  duration  gender  senior_citizen  \\\n",
              "0            29.85          31.04     0        31  Female               0   \n",
              "1            56.95        2071.84     0      1036    Male               0   \n",
              "2            53.85         226.17     0       123    Male               0   \n",
              "3            42.30        1960.60     0      1371    Male               0   \n",
              "4            70.70         353.50     0       153  Female               0   \n",
              "\n",
              "  partner dependents internet_service online_security online_backup  \\\n",
              "0     Yes         No              DSL              No           Yes   \n",
              "1      No         No              DSL             Yes            No   \n",
              "2      No         No              DSL             Yes           Yes   \n",
              "3      No         No              DSL             Yes            No   \n",
              "4      No         No      Fiber optic              No            No   \n",
              "\n",
              "  device_protection tech_support streaming_tv streaming_movies multiple_lines  \n",
              "0                No           No           No               No           None  \n",
              "1               Yes           No           No               No             No  \n",
              "2                No           No           No               No             No  \n",
              "3               Yes          Yes           No               No           None  \n",
              "4                No           No           No               No             No  "
            ]
          },
          "execution_count": 26,
          "metadata": {},
          "output_type": "execute_result"
        }
      ],
      "source": [
        "full_df.head()"
      ]
    },
    {
      "cell_type": "code",
      "execution_count": null,
      "metadata": {
        "id": "3sgt_qRBuGKg",
        "outputId": "966a7610-16e4-498b-8ad4-fd2434cd1053"
      },
      "outputs": [
        {
          "name": "stdout",
          "output_type": "stream",
          "text": [
            "<class 'pandas.core.frame.DataFrame'>\n",
            "RangeIndex: 7043 entries, 0 to 7042\n",
            "Data columns (total 20 columns):\n",
            " #   Column             Non-Null Count  Dtype  \n",
            "---  ------             --------------  -----  \n",
            " 0   customer_id        7043 non-null   object \n",
            " 1   type               7043 non-null   object \n",
            " 2   paperless_billing  7043 non-null   object \n",
            " 3   payment_method     7043 non-null   object \n",
            " 4   monthly_charges    7043 non-null   float64\n",
            " 5   total_charges      7043 non-null   float64\n",
            " 6   gone               7043 non-null   int64  \n",
            " 7   duration           7043 non-null   int64  \n",
            " 8   gender             7043 non-null   object \n",
            " 9   senior_citizen     7043 non-null   int64  \n",
            " 10  partner            7043 non-null   object \n",
            " 11  dependents         7043 non-null   object \n",
            " 12  internet_service   5517 non-null   object \n",
            " 13  online_security    5517 non-null   object \n",
            " 14  online_backup      5517 non-null   object \n",
            " 15  device_protection  5517 non-null   object \n",
            " 16  tech_support       5517 non-null   object \n",
            " 17  streaming_tv       5517 non-null   object \n",
            " 18  streaming_movies   5517 non-null   object \n",
            " 19  multiple_lines     6361 non-null   object \n",
            "dtypes: float64(2), int64(3), object(15)\n",
            "memory usage: 1.1+ MB\n"
          ]
        }
      ],
      "source": [
        "full_df.info()"
      ]
    },
    {
      "cell_type": "markdown",
      "metadata": {
        "id": "86KuarSxuGKh"
      },
      "source": [
        "После объединения получили таблицу состоящую из 20 столбцов. Наблюдаем пропуски в признаках из присоединенных таблиц."
      ]
    },
    {
      "cell_type": "markdown",
      "metadata": {
        "id": "QzUr-ze3uGKh"
      },
      "source": [
        "### Заполнение пропусков"
      ]
    },
    {
      "cell_type": "code",
      "execution_count": null,
      "metadata": {
        "id": "Iw3z36snuGKh",
        "outputId": "a52896fc-331d-4a40-c977-2a2395bc5cb0"
      },
      "outputs": [
        {
          "data": {
            "text/html": [
              "<div>\n",
              "<style scoped>\n",
              "    .dataframe tbody tr th:only-of-type {\n",
              "        vertical-align: middle;\n",
              "    }\n",
              "\n",
              "    .dataframe tbody tr th {\n",
              "        vertical-align: top;\n",
              "    }\n",
              "\n",
              "    .dataframe thead th {\n",
              "        text-align: right;\n",
              "    }\n",
              "</style>\n",
              "<table border=\"1\" class=\"dataframe\">\n",
              "  <thead>\n",
              "    <tr style=\"text-align: right;\">\n",
              "      <th></th>\n",
              "      <th>customer_id</th>\n",
              "      <th>type</th>\n",
              "      <th>paperless_billing</th>\n",
              "      <th>payment_method</th>\n",
              "      <th>monthly_charges</th>\n",
              "      <th>total_charges</th>\n",
              "      <th>gone</th>\n",
              "      <th>duration</th>\n",
              "      <th>gender</th>\n",
              "      <th>senior_citizen</th>\n",
              "      <th>partner</th>\n",
              "      <th>dependents</th>\n",
              "      <th>internet_service</th>\n",
              "      <th>online_security</th>\n",
              "      <th>online_backup</th>\n",
              "      <th>device_protection</th>\n",
              "      <th>tech_support</th>\n",
              "      <th>streaming_tv</th>\n",
              "      <th>streaming_movies</th>\n",
              "      <th>multiple_lines</th>\n",
              "    </tr>\n",
              "  </thead>\n",
              "  <tbody>\n",
              "    <tr>\n",
              "      <th>11</th>\n",
              "      <td>7469-LKBCI</td>\n",
              "      <td>Two year</td>\n",
              "      <td>No</td>\n",
              "      <td>Credit card (automatic)</td>\n",
              "      <td>18.95</td>\n",
              "      <td>312.30</td>\n",
              "      <td>0</td>\n",
              "      <td>488</td>\n",
              "      <td>Male</td>\n",
              "      <td>0</td>\n",
              "      <td>No</td>\n",
              "      <td>No</td>\n",
              "      <td>None</td>\n",
              "      <td>None</td>\n",
              "      <td>None</td>\n",
              "      <td>None</td>\n",
              "      <td>None</td>\n",
              "      <td>None</td>\n",
              "      <td>None</td>\n",
              "      <td>No</td>\n",
              "    </tr>\n",
              "    <tr>\n",
              "      <th>16</th>\n",
              "      <td>8191-XWSZG</td>\n",
              "      <td>One year</td>\n",
              "      <td>No</td>\n",
              "      <td>Mailed check</td>\n",
              "      <td>20.65</td>\n",
              "      <td>1106.01</td>\n",
              "      <td>0</td>\n",
              "      <td>1584</td>\n",
              "      <td>Female</td>\n",
              "      <td>0</td>\n",
              "      <td>No</td>\n",
              "      <td>No</td>\n",
              "      <td>None</td>\n",
              "      <td>None</td>\n",
              "      <td>None</td>\n",
              "      <td>None</td>\n",
              "      <td>None</td>\n",
              "      <td>None</td>\n",
              "      <td>None</td>\n",
              "      <td>No</td>\n",
              "    </tr>\n",
              "    <tr>\n",
              "      <th>21</th>\n",
              "      <td>1680-VDCWW</td>\n",
              "      <td>One year</td>\n",
              "      <td>No</td>\n",
              "      <td>Bank transfer (automatic)</td>\n",
              "      <td>19.80</td>\n",
              "      <td>237.60</td>\n",
              "      <td>0</td>\n",
              "      <td>365</td>\n",
              "      <td>Male</td>\n",
              "      <td>0</td>\n",
              "      <td>Yes</td>\n",
              "      <td>No</td>\n",
              "      <td>None</td>\n",
              "      <td>None</td>\n",
              "      <td>None</td>\n",
              "      <td>None</td>\n",
              "      <td>None</td>\n",
              "      <td>None</td>\n",
              "      <td>None</td>\n",
              "      <td>No</td>\n",
              "    </tr>\n",
              "    <tr>\n",
              "      <th>22</th>\n",
              "      <td>1066-JKSGK</td>\n",
              "      <td>Month-to-month</td>\n",
              "      <td>No</td>\n",
              "      <td>Mailed check</td>\n",
              "      <td>20.15</td>\n",
              "      <td>61.05</td>\n",
              "      <td>0</td>\n",
              "      <td>92</td>\n",
              "      <td>Male</td>\n",
              "      <td>0</td>\n",
              "      <td>No</td>\n",
              "      <td>No</td>\n",
              "      <td>None</td>\n",
              "      <td>None</td>\n",
              "      <td>None</td>\n",
              "      <td>None</td>\n",
              "      <td>None</td>\n",
              "      <td>None</td>\n",
              "      <td>None</td>\n",
              "      <td>No</td>\n",
              "    </tr>\n",
              "    <tr>\n",
              "      <th>33</th>\n",
              "      <td>7310-EGVHZ</td>\n",
              "      <td>Month-to-month</td>\n",
              "      <td>No</td>\n",
              "      <td>Bank transfer (automatic)</td>\n",
              "      <td>20.20</td>\n",
              "      <td>22.22</td>\n",
              "      <td>0</td>\n",
              "      <td>31</td>\n",
              "      <td>Male</td>\n",
              "      <td>0</td>\n",
              "      <td>No</td>\n",
              "      <td>No</td>\n",
              "      <td>None</td>\n",
              "      <td>None</td>\n",
              "      <td>None</td>\n",
              "      <td>None</td>\n",
              "      <td>None</td>\n",
              "      <td>None</td>\n",
              "      <td>None</td>\n",
              "      <td>No</td>\n",
              "    </tr>\n",
              "    <tr>\n",
              "      <th>42</th>\n",
              "      <td>9867-JCZSP</td>\n",
              "      <td>One year</td>\n",
              "      <td>No</td>\n",
              "      <td>Mailed check</td>\n",
              "      <td>20.75</td>\n",
              "      <td>352.75</td>\n",
              "      <td>0</td>\n",
              "      <td>518</td>\n",
              "      <td>Female</td>\n",
              "      <td>0</td>\n",
              "      <td>Yes</td>\n",
              "      <td>Yes</td>\n",
              "      <td>None</td>\n",
              "      <td>None</td>\n",
              "      <td>None</td>\n",
              "      <td>None</td>\n",
              "      <td>None</td>\n",
              "      <td>None</td>\n",
              "      <td>None</td>\n",
              "      <td>No</td>\n",
              "    </tr>\n",
              "    <tr>\n",
              "      <th>58</th>\n",
              "      <td>3957-SQXML</td>\n",
              "      <td>Two year</td>\n",
              "      <td>No</td>\n",
              "      <td>Credit card (automatic)</td>\n",
              "      <td>24.95</td>\n",
              "      <td>890.72</td>\n",
              "      <td>0</td>\n",
              "      <td>1036</td>\n",
              "      <td>Female</td>\n",
              "      <td>0</td>\n",
              "      <td>Yes</td>\n",
              "      <td>Yes</td>\n",
              "      <td>None</td>\n",
              "      <td>None</td>\n",
              "      <td>None</td>\n",
              "      <td>None</td>\n",
              "      <td>None</td>\n",
              "      <td>None</td>\n",
              "      <td>None</td>\n",
              "      <td>Yes</td>\n",
              "    </tr>\n",
              "    <tr>\n",
              "      <th>68</th>\n",
              "      <td>3170-NMYVV</td>\n",
              "      <td>Two year</td>\n",
              "      <td>No</td>\n",
              "      <td>Bank transfer (automatic)</td>\n",
              "      <td>20.15</td>\n",
              "      <td>1007.50</td>\n",
              "      <td>0</td>\n",
              "      <td>1523</td>\n",
              "      <td>Female</td>\n",
              "      <td>0</td>\n",
              "      <td>Yes</td>\n",
              "      <td>Yes</td>\n",
              "      <td>None</td>\n",
              "      <td>None</td>\n",
              "      <td>None</td>\n",
              "      <td>None</td>\n",
              "      <td>None</td>\n",
              "      <td>None</td>\n",
              "      <td>None</td>\n",
              "      <td>No</td>\n",
              "    </tr>\n",
              "    <tr>\n",
              "      <th>71</th>\n",
              "      <td>0731-EBJQB</td>\n",
              "      <td>One year</td>\n",
              "      <td>Yes</td>\n",
              "      <td>Electronic check</td>\n",
              "      <td>20.40</td>\n",
              "      <td>1060.80</td>\n",
              "      <td>0</td>\n",
              "      <td>1584</td>\n",
              "      <td>Female</td>\n",
              "      <td>0</td>\n",
              "      <td>Yes</td>\n",
              "      <td>Yes</td>\n",
              "      <td>None</td>\n",
              "      <td>None</td>\n",
              "      <td>None</td>\n",
              "      <td>None</td>\n",
              "      <td>None</td>\n",
              "      <td>None</td>\n",
              "      <td>None</td>\n",
              "      <td>No</td>\n",
              "    </tr>\n",
              "    <tr>\n",
              "      <th>73</th>\n",
              "      <td>8028-PNXHQ</td>\n",
              "      <td>Two year</td>\n",
              "      <td>Yes</td>\n",
              "      <td>Bank transfer (automatic)</td>\n",
              "      <td>24.25</td>\n",
              "      <td>1503.50</td>\n",
              "      <td>0</td>\n",
              "      <td>1888</td>\n",
              "      <td>Male</td>\n",
              "      <td>0</td>\n",
              "      <td>Yes</td>\n",
              "      <td>Yes</td>\n",
              "      <td>None</td>\n",
              "      <td>None</td>\n",
              "      <td>None</td>\n",
              "      <td>None</td>\n",
              "      <td>None</td>\n",
              "      <td>None</td>\n",
              "      <td>None</td>\n",
              "      <td>Yes</td>\n",
              "    </tr>\n",
              "    <tr>\n",
              "      <th>79</th>\n",
              "      <td>3887-PBQAO</td>\n",
              "      <td>One year</td>\n",
              "      <td>Yes</td>\n",
              "      <td>Credit card (automatic)</td>\n",
              "      <td>25.90</td>\n",
              "      <td>414.40</td>\n",
              "      <td>1</td>\n",
              "      <td>488</td>\n",
              "      <td>Female</td>\n",
              "      <td>0</td>\n",
              "      <td>Yes</td>\n",
              "      <td>Yes</td>\n",
              "      <td>None</td>\n",
              "      <td>None</td>\n",
              "      <td>None</td>\n",
              "      <td>None</td>\n",
              "      <td>None</td>\n",
              "      <td>None</td>\n",
              "      <td>None</td>\n",
              "      <td>Yes</td>\n",
              "    </tr>\n",
              "    <tr>\n",
              "      <th>84</th>\n",
              "      <td>0318-ZOPWS</td>\n",
              "      <td>Two year</td>\n",
              "      <td>Yes</td>\n",
              "      <td>Bank transfer (automatic)</td>\n",
              "      <td>20.15</td>\n",
              "      <td>987.35</td>\n",
              "      <td>0</td>\n",
              "      <td>1492</td>\n",
              "      <td>Female</td>\n",
              "      <td>0</td>\n",
              "      <td>Yes</td>\n",
              "      <td>No</td>\n",
              "      <td>None</td>\n",
              "      <td>None</td>\n",
              "      <td>None</td>\n",
              "      <td>None</td>\n",
              "      <td>None</td>\n",
              "      <td>None</td>\n",
              "      <td>None</td>\n",
              "      <td>No</td>\n",
              "    </tr>\n",
              "    <tr>\n",
              "      <th>87</th>\n",
              "      <td>1862-QRWPE</td>\n",
              "      <td>Two year</td>\n",
              "      <td>No</td>\n",
              "      <td>Bank transfer (automatic)</td>\n",
              "      <td>20.65</td>\n",
              "      <td>991.20</td>\n",
              "      <td>0</td>\n",
              "      <td>1461</td>\n",
              "      <td>Female</td>\n",
              "      <td>0</td>\n",
              "      <td>Yes</td>\n",
              "      <td>Yes</td>\n",
              "      <td>None</td>\n",
              "      <td>None</td>\n",
              "      <td>None</td>\n",
              "      <td>None</td>\n",
              "      <td>None</td>\n",
              "      <td>None</td>\n",
              "      <td>None</td>\n",
              "      <td>No</td>\n",
              "    </tr>\n",
              "    <tr>\n",
              "      <th>88</th>\n",
              "      <td>2796-NNUFI</td>\n",
              "      <td>Two year</td>\n",
              "      <td>Yes</td>\n",
              "      <td>Mailed check</td>\n",
              "      <td>19.95</td>\n",
              "      <td>917.70</td>\n",
              "      <td>0</td>\n",
              "      <td>1401</td>\n",
              "      <td>Female</td>\n",
              "      <td>0</td>\n",
              "      <td>Yes</td>\n",
              "      <td>Yes</td>\n",
              "      <td>None</td>\n",
              "      <td>None</td>\n",
              "      <td>None</td>\n",
              "      <td>None</td>\n",
              "      <td>None</td>\n",
              "      <td>None</td>\n",
              "      <td>None</td>\n",
              "      <td>No</td>\n",
              "    </tr>\n",
              "    <tr>\n",
              "      <th>97</th>\n",
              "      <td>0278-YXOOG</td>\n",
              "      <td>Month-to-month</td>\n",
              "      <td>No</td>\n",
              "      <td>Mailed check</td>\n",
              "      <td>21.05</td>\n",
              "      <td>181.87</td>\n",
              "      <td>0</td>\n",
              "      <td>245</td>\n",
              "      <td>Male</td>\n",
              "      <td>0</td>\n",
              "      <td>No</td>\n",
              "      <td>No</td>\n",
              "      <td>None</td>\n",
              "      <td>None</td>\n",
              "      <td>None</td>\n",
              "      <td>None</td>\n",
              "      <td>None</td>\n",
              "      <td>None</td>\n",
              "      <td>None</td>\n",
              "      <td>No</td>\n",
              "    </tr>\n",
              "  </tbody>\n",
              "</table>\n",
              "</div>"
            ],
            "text/plain": [
              "   customer_id            type paperless_billing             payment_method  \\\n",
              "11  7469-LKBCI        Two year                No    Credit card (automatic)   \n",
              "16  8191-XWSZG        One year                No               Mailed check   \n",
              "21  1680-VDCWW        One year                No  Bank transfer (automatic)   \n",
              "22  1066-JKSGK  Month-to-month                No               Mailed check   \n",
              "33  7310-EGVHZ  Month-to-month                No  Bank transfer (automatic)   \n",
              "42  9867-JCZSP        One year                No               Mailed check   \n",
              "58  3957-SQXML        Two year                No    Credit card (automatic)   \n",
              "68  3170-NMYVV        Two year                No  Bank transfer (automatic)   \n",
              "71  0731-EBJQB        One year               Yes           Electronic check   \n",
              "73  8028-PNXHQ        Two year               Yes  Bank transfer (automatic)   \n",
              "79  3887-PBQAO        One year               Yes    Credit card (automatic)   \n",
              "84  0318-ZOPWS        Two year               Yes  Bank transfer (automatic)   \n",
              "87  1862-QRWPE        Two year                No  Bank transfer (automatic)   \n",
              "88  2796-NNUFI        Two year               Yes               Mailed check   \n",
              "97  0278-YXOOG  Month-to-month                No               Mailed check   \n",
              "\n",
              "    monthly_charges  total_charges  gone  duration  gender  senior_citizen  \\\n",
              "11            18.95         312.30     0       488    Male               0   \n",
              "16            20.65        1106.01     0      1584  Female               0   \n",
              "21            19.80         237.60     0       365    Male               0   \n",
              "22            20.15          61.05     0        92    Male               0   \n",
              "33            20.20          22.22     0        31    Male               0   \n",
              "42            20.75         352.75     0       518  Female               0   \n",
              "58            24.95         890.72     0      1036  Female               0   \n",
              "68            20.15        1007.50     0      1523  Female               0   \n",
              "71            20.40        1060.80     0      1584  Female               0   \n",
              "73            24.25        1503.50     0      1888    Male               0   \n",
              "79            25.90         414.40     1       488  Female               0   \n",
              "84            20.15         987.35     0      1492  Female               0   \n",
              "87            20.65         991.20     0      1461  Female               0   \n",
              "88            19.95         917.70     0      1401  Female               0   \n",
              "97            21.05         181.87     0       245    Male               0   \n",
              "\n",
              "   partner dependents internet_service online_security online_backup  \\\n",
              "11      No         No             None            None          None   \n",
              "16      No         No             None            None          None   \n",
              "21     Yes         No             None            None          None   \n",
              "22      No         No             None            None          None   \n",
              "33      No         No             None            None          None   \n",
              "42     Yes        Yes             None            None          None   \n",
              "58     Yes        Yes             None            None          None   \n",
              "68     Yes        Yes             None            None          None   \n",
              "71     Yes        Yes             None            None          None   \n",
              "73     Yes        Yes             None            None          None   \n",
              "79     Yes        Yes             None            None          None   \n",
              "84     Yes         No             None            None          None   \n",
              "87     Yes        Yes             None            None          None   \n",
              "88     Yes        Yes             None            None          None   \n",
              "97      No         No             None            None          None   \n",
              "\n",
              "   device_protection tech_support streaming_tv streaming_movies multiple_lines  \n",
              "11              None         None         None             None             No  \n",
              "16              None         None         None             None             No  \n",
              "21              None         None         None             None             No  \n",
              "22              None         None         None             None             No  \n",
              "33              None         None         None             None             No  \n",
              "42              None         None         None             None             No  \n",
              "58              None         None         None             None            Yes  \n",
              "68              None         None         None             None             No  \n",
              "71              None         None         None             None             No  \n",
              "73              None         None         None             None            Yes  \n",
              "79              None         None         None             None            Yes  \n",
              "84              None         None         None             None             No  \n",
              "87              None         None         None             None             No  \n",
              "88              None         None         None             None             No  \n",
              "97              None         None         None             None             No  "
            ]
          },
          "execution_count": 28,
          "metadata": {},
          "output_type": "execute_result"
        }
      ],
      "source": [
        "pd.set_option('display.max_columns', None)  # Отобразить все столбцы\n",
        "full_df.loc[full_df['internet_service'].isna()].head(15)"
      ]
    },
    {
      "cell_type": "markdown",
      "metadata": {
        "id": "dLsp0mO9uGKh"
      },
      "source": [
        "Так как нам неизвестно, какие конкретно доп. услуги используют пользователи, то заменим пропуски заглушкой no"
      ]
    },
    {
      "cell_type": "code",
      "execution_count": null,
      "metadata": {
        "id": "fF4Lc6REuGKh"
      },
      "outputs": [],
      "source": [
        "full_df = full_df.fillna('No')"
      ]
    },
    {
      "cell_type": "code",
      "execution_count": null,
      "metadata": {
        "id": "hVMjPUp8uGKi",
        "outputId": "4c5e9c6c-c45f-469e-cac4-16b7bae62568"
      },
      "outputs": [
        {
          "name": "stdout",
          "output_type": "stream",
          "text": [
            "<class 'pandas.core.frame.DataFrame'>\n",
            "RangeIndex: 7043 entries, 0 to 7042\n",
            "Data columns (total 20 columns):\n",
            " #   Column             Non-Null Count  Dtype  \n",
            "---  ------             --------------  -----  \n",
            " 0   customer_id        7043 non-null   object \n",
            " 1   type               7043 non-null   object \n",
            " 2   paperless_billing  7043 non-null   object \n",
            " 3   payment_method     7043 non-null   object \n",
            " 4   monthly_charges    7043 non-null   float64\n",
            " 5   total_charges      7043 non-null   float64\n",
            " 6   gone               7043 non-null   int64  \n",
            " 7   duration           7043 non-null   int64  \n",
            " 8   gender             7043 non-null   object \n",
            " 9   senior_citizen     7043 non-null   int64  \n",
            " 10  partner            7043 non-null   object \n",
            " 11  dependents         7043 non-null   object \n",
            " 12  internet_service   7043 non-null   object \n",
            " 13  online_security    7043 non-null   object \n",
            " 14  online_backup      7043 non-null   object \n",
            " 15  device_protection  7043 non-null   object \n",
            " 16  tech_support       7043 non-null   object \n",
            " 17  streaming_tv       7043 non-null   object \n",
            " 18  streaming_movies   7043 non-null   object \n",
            " 19  multiple_lines     7043 non-null   object \n",
            "dtypes: float64(2), int64(3), object(15)\n",
            "memory usage: 1.1+ MB\n"
          ]
        }
      ],
      "source": [
        "# проверим наличие пропусков\n",
        "full_df.info()"
      ]
    },
    {
      "cell_type": "markdown",
      "metadata": {
        "id": "RfjKcY2NuGKi"
      },
      "source": [
        "### Промежуточные выводы"
      ]
    },
    {
      "cell_type": "markdown",
      "metadata": {
        "id": "fWM3WsGQuGKj"
      },
      "source": [
        "В данном разделе была проделана предобработка данных: названия столбцов были приведены к нижнему регистру, был изменен тип данных, произведена проверка на наличие явных дубликатов.  \n",
        "На основании даты прекращения договора клиента был сгенерирован целевой признак. Также, был создан признак продолжительности пользования услугами компании и удалены даты начала и конца сотрудничества, чтобы избежать утечки.  \n",
        "Все четыре таблицы были объединены. В полученной таблице были заполнены пропуски."
      ]
    },
    {
      "cell_type": "markdown",
      "metadata": {
        "id": "7_SA9kxHuGKj"
      },
      "source": [
        "## Исследовательский анализ данных и подготовка к обучению"
      ]
    },
    {
      "cell_type": "markdown",
      "metadata": {
        "id": "k_EC-1bduGKj"
      },
      "source": [
        "### Исследование распределения признаков для ушедших и оставшихся клиентов"
      ]
    },
    {
      "cell_type": "code",
      "execution_count": null,
      "metadata": {
        "id": "a5RQXIaEuGKj"
      },
      "outputs": [],
      "source": [
        "df_false = full_df.loc[full_df['gone']==0]\n",
        "df_true = full_df.loc[full_df['gone']==1]"
      ]
    },
    {
      "cell_type": "code",
      "execution_count": null,
      "metadata": {
        "id": "UGaEXZ8EuGKj",
        "outputId": "0605d18a-a38e-42af-9805-00c70e3677b6"
      },
      "outputs": [
        {
          "data": {
            "text/plain": [
              "Index(['customer_id', 'type', 'paperless_billing', 'payment_method',\n",
              "       'monthly_charges', 'total_charges', 'gone', 'duration', 'gender',\n",
              "       'senior_citizen', 'partner', 'dependents', 'internet_service',\n",
              "       'online_security', 'online_backup', 'device_protection', 'tech_support',\n",
              "       'streaming_tv', 'streaming_movies', 'multiple_lines'],\n",
              "      dtype='object')"
            ]
          },
          "execution_count": 32,
          "metadata": {},
          "output_type": "execute_result"
        }
      ],
      "source": [
        "full_df.columns"
      ]
    },
    {
      "cell_type": "markdown",
      "metadata": {
        "id": "F8ewGISeuGKj"
      },
      "source": [
        "Построим графики распределения продолжительности сотрудничества для ушедших и оставшихся клиентов"
      ]
    },
    {
      "cell_type": "code",
      "execution_count": null,
      "metadata": {
        "id": "zR5jYIAfuGKk"
      },
      "outputs": [],
      "source": [
        "def hist_dur(data, title):\n",
        "    plt.figure(figsize=(10, 6))\n",
        "    sns.histplot(data=data, x='duration')\n",
        "    plt.xlabel('Продолжительность')\n",
        "    plt.ylabel('Кол-во')\n",
        "    plt.title(title)\n",
        "    plt.show()\n",
        "    print(data['duration'].describe())"
      ]
    },
    {
      "cell_type": "code",
      "execution_count": null,
      "metadata": {
        "id": "NI3WbNPRuGKk",
        "outputId": "e5527027-53c1-4c63-ab8b-0426b0fd5b28"
      },
      "outputs": [
        {
          "data": {
            "image/png": "[encoded data removed]",
            "text/plain": [
              "<Figure size 720x432 with 1 Axes>"
            ]
          },
          "metadata": {
            "needs_background": "light"
          },
          "output_type": "display_data"
        },
        {
          "name": "stdout",
          "output_type": "stream",
          "text": [
            "count    5942.000000\n",
            "mean      893.681084\n",
            "std       716.958551\n",
            "min         0.000000\n",
            "25%       245.000000\n",
            "50%       702.000000\n",
            "75%      1523.000000\n",
            "max      2314.000000\n",
            "Name: duration, dtype: float64\n"
          ]
        }
      ],
      "source": [
        "hist_dur(df_false, 'Гистограмма продолжительности сотрудничества актуальных клиентов')"
      ]
    },
    {
      "cell_type": "code",
      "execution_count": null,
      "metadata": {
        "id": "nZw2jU8zuGKk",
        "outputId": "c2e5c9fd-07ec-4efe-e578-f279b6c4e99f"
      },
      "outputs": [
        {
          "data": {
            "image/png": "[encoded data removed]",
            "text/plain": [
              "<Figure size 720x432 with 1 Axes>"
            ]
          },
          "metadata": {
            "needs_background": "light"
          },
          "output_type": "display_data"
        },
        {
          "name": "stdout",
          "output_type": "stream",
          "text": [
            "count    1101.000000\n",
            "mean      924.863760\n",
            "std       458.771309\n",
            "min        28.000000\n",
            "25%       577.000000\n",
            "50%       915.000000\n",
            "75%      1249.000000\n",
            "max      2129.000000\n",
            "Name: duration, dtype: float64\n"
          ]
        }
      ],
      "source": [
        "hist_dur(df_true, 'Гистограмма продолжительности сотрудничества ушедших клиентов')"
      ]
    },
    {
      "cell_type": "markdown",
      "metadata": {
        "id": "-k_Nkb96uGKk"
      },
      "source": [
        "Наблюдаем, что кол-во актуальных клиентов составляет 5942, кол-во ушедших - 1101.  \n",
        "Медиана продолжительности сотрудничества актуальных клиентов 702 дня, средняя величина 893 дня. Аналогичные показатели для ушедших клиентов - 915 и 924 дня соответствуенно.  \n",
        "\n",
        "На основании графиков и представленных данных можно сделать предварительный вывод, что  клиенты, продолжительность оказания услуг которым составляет около 900 дней находятся в зоне риска ухода.\n",
        "\n",
        "Также обращаем внимание на то, что на графике актуальных клиентов, после плато на интервале 1000-2000 дней, происходит рост кол-ва пользователей. На графике ушедших пользователей после 2000 также наблюдаем резкий спад показателя. Можно сделать вывод, что после 2000 дней пользователи достигают большого показателя лояльности и не меняют оператора связи."
      ]
    },
    {
      "cell_type": "code",
      "execution_count": null,
      "metadata": {
        "id": "A9u2FKFOuGKk",
        "outputId": "f766e7dc-9dd5-4fbb-ee4e-15557ca87b63"
      },
      "outputs": [
        {
          "data": {
            "text/plain": [
              "Index(['customer_id', 'type', 'paperless_billing', 'payment_method',\n",
              "       'monthly_charges', 'total_charges', 'gone', 'duration', 'gender',\n",
              "       'senior_citizen', 'partner', 'dependents', 'internet_service',\n",
              "       'online_security', 'online_backup', 'device_protection', 'tech_support',\n",
              "       'streaming_tv', 'streaming_movies', 'multiple_lines'],\n",
              "      dtype='object')"
            ]
          },
          "execution_count": 36,
          "metadata": {},
          "output_type": "execute_result"
        }
      ],
      "source": [
        "full_df.columns"
      ]
    },
    {
      "cell_type": "code",
      "execution_count": null,
      "metadata": {
        "id": "KpXNA5U9uGKk"
      },
      "outputs": [],
      "source": [
        "def hist_(data, x, hue, xlabel, title):\n",
        "    plt.figure(figsize=(10, 6))\n",
        "    sns.histplot(data, x=x, hue=hue, multiple=\"stack\")\n",
        "    plt.xlabel(xlabel)\n",
        "    plt.ylabel('Кол-во')\n",
        "    plt.title(title)\n",
        "    plt.show()"
      ]
    },
    {
      "cell_type": "code",
      "execution_count": null,
      "metadata": {
        "id": "drgfn9tluGKl",
        "outputId": "3d1e2833-32b7-40a9-907f-bec27604bd9e"
      },
      "outputs": [
        {
          "data": {
            "image/png": "[encoded data removed]",
            "text/plain": [
              "<Figure size 720x432 with 1 Axes>"
            ]
          },
          "metadata": {
            "needs_background": "light"
          },
          "output_type": "display_data"
        }
      ],
      "source": [
        "hist_(full_df, 'monthly_charges', 'gone', 'Сумма ежемесячного платежа',\n",
        "      'Сумма ежемесячного платежа для актуальных и ушедших пользователей')"
      ]
    },
    {
      "cell_type": "markdown",
      "metadata": {
        "id": "qBeamaoLuGKl"
      },
      "source": [
        "Опираясь на график распределения ежемесячных платежей наблюдаем, что, условно, всех пользователей можно разделить на три группы: 0-29, 30-69, 70-120.\n",
        "\n",
        "Можно заметить, что вторая группа обладает наименьшей численностью. бОльшая часть ушедших клиентов относились к третьей группе с самыми высокими расходами. Графики ушедших и актуальных пользователей практически симметричны, но существенное различие составляет высокое кол-во актуальных пользователей с низким ежемесячным платежом."
      ]
    },
    {
      "cell_type": "markdown",
      "metadata": {
        "id": "s57junHvuGKm"
      },
      "source": [
        "### Матрицы корреляций"
      ]
    },
    {
      "cell_type": "markdown",
      "metadata": {
        "id": "IZjLZ8NGuGKm"
      },
      "source": [
        "Построим таблицу и хитмэп со значениями коэффициента Фи корреляции."
      ]
    },
    {
      "cell_type": "code",
      "execution_count": null,
      "metadata": {
        "id": "RWQtnMbKuGKm",
        "outputId": "854382fe-5241-44c7-8e0f-69705f471242"
      },
      "outputs": [
        {
          "data": {
            "text/html": [
              "<div>\n",
              "<style scoped>\n",
              "    .dataframe tbody tr th:only-of-type {\n",
              "        vertical-align: middle;\n",
              "    }\n",
              "\n",
              "    .dataframe tbody tr th {\n",
              "        vertical-align: top;\n",
              "    }\n",
              "\n",
              "    .dataframe thead th {\n",
              "        text-align: right;\n",
              "    }\n",
              "</style>\n",
              "<table border=\"1\" class=\"dataframe\">\n",
              "  <thead>\n",
              "    <tr style=\"text-align: right;\">\n",
              "      <th></th>\n",
              "      <th>monthly_charges</th>\n",
              "      <th>total_charges</th>\n",
              "      <th>gone</th>\n",
              "      <th>duration</th>\n",
              "      <th>senior_citizen</th>\n",
              "    </tr>\n",
              "  </thead>\n",
              "  <tbody>\n",
              "    <tr>\n",
              "      <th>monthly_charges</th>\n",
              "      <td>1.00</td>\n",
              "      <td>0.71</td>\n",
              "      <td>0.23</td>\n",
              "      <td>0.39</td>\n",
              "      <td>0.30</td>\n",
              "    </tr>\n",
              "    <tr>\n",
              "      <th>total_charges</th>\n",
              "      <td>0.71</td>\n",
              "      <td>1.00</td>\n",
              "      <td>0.30</td>\n",
              "      <td>0.85</td>\n",
              "      <td>0.14</td>\n",
              "    </tr>\n",
              "    <tr>\n",
              "      <th>gone</th>\n",
              "      <td>0.23</td>\n",
              "      <td>0.30</td>\n",
              "      <td>1.00</td>\n",
              "      <td>0.37</td>\n",
              "      <td>0.09</td>\n",
              "    </tr>\n",
              "    <tr>\n",
              "      <th>duration</th>\n",
              "      <td>0.39</td>\n",
              "      <td>0.85</td>\n",
              "      <td>0.37</td>\n",
              "      <td>1.00</td>\n",
              "      <td>0.06</td>\n",
              "    </tr>\n",
              "    <tr>\n",
              "      <th>senior_citizen</th>\n",
              "      <td>0.30</td>\n",
              "      <td>0.14</td>\n",
              "      <td>0.09</td>\n",
              "      <td>0.06</td>\n",
              "      <td>1.00</td>\n",
              "    </tr>\n",
              "  </tbody>\n",
              "</table>\n",
              "</div>"
            ],
            "text/plain": [
              "                 monthly_charges  total_charges  gone  duration  \\\n",
              "monthly_charges             1.00           0.71  0.23      0.39   \n",
              "total_charges               0.71           1.00  0.30      0.85   \n",
              "gone                        0.23           0.30  1.00      0.37   \n",
              "duration                    0.39           0.85  0.37      1.00   \n",
              "senior_citizen              0.30           0.14  0.09      0.06   \n",
              "\n",
              "                 senior_citizen  \n",
              "monthly_charges            0.30  \n",
              "total_charges              0.14  \n",
              "gone                       0.09  \n",
              "duration                   0.06  \n",
              "senior_citizen             1.00  "
            ]
          },
          "execution_count": 39,
          "metadata": {},
          "output_type": "execute_result"
        }
      ],
      "source": [
        "# Построим таблицу со значениями коэффициента Фи корреляции.\n",
        "\n",
        "interval_cols = ['monthly_charges', 'total_charges', 'duration']\n",
        "phik_overview = full_df.drop(['customer_id', 'type', 'paperless_billing', 'payment_method', 'gender', 'partner',\n",
        "                             'dependents', 'internet_service', 'online_security', 'online_backup',\n",
        "                             'device_protection', 'tech_support', 'streaming_tv', 'streaming_tv', 'streaming_movies',\n",
        "                             'multiple_lines'], axis=1).phik_matrix(interval_cols=interval_cols)\n",
        "phik_overview.round(2)"
      ]
    },
    {
      "cell_type": "code",
      "execution_count": null,
      "metadata": {
        "id": "yDgGSq2vuGKm",
        "outputId": "5095cc8d-d156-4184-8946-124153ffc99d"
      },
      "outputs": [
        {
          "data": {
            "image/png": "[encoded data removed]",
            "text/plain": [
              "<Figure size 720x576 with 2 Axes>"
            ]
          },
          "metadata": {
            "needs_background": "light"
          },
          "output_type": "display_data"
        }
      ],
      "source": [
        "# Построим хитмэп со значениями коэффициента Фи корреляции.\n",
        "plot_correlation_matrix(phik_overview.values,\n",
        "                        x_labels=phik_overview.columns,\n",
        "                        y_labels=phik_overview.index,\n",
        "                        vmin=0, vmax=1, color_map=\"Blues\",\n",
        "                        title=r\"correlation $\\phi_K$\",\n",
        "                        fontsize_factor=1.5,\n",
        "                        figsize=(10, 8))\n",
        "plt.tight_layout()"
      ]
    },
    {
      "cell_type": "markdown",
      "metadata": {
        "id": "b_hxaQZ9uGKn"
      },
      "source": [
        "Наблюдаем сильную зависимость между продолжительностью и суммарными выплатами, с фи коэффициентом в 0.85.  \n",
        "Также присутствует зависимость между суммарными выплатами и месячным платежом, фи коэффициент равен 0,71.  \n",
        "\n",
        "Так как планируется обучение логистической регрессии, то необходимо избавиться от мультиколлинеарности, поэтому принимаем решение удалить признак \"totalcharges\"."
      ]
    },
    {
      "cell_type": "code",
      "execution_count": null,
      "metadata": {
        "id": "LfmsszHcuGKn"
      },
      "outputs": [],
      "source": [
        "full_df = full_df.drop(['total_charges', 'customer_id'], axis=1)"
      ]
    },
    {
      "cell_type": "markdown",
      "metadata": {
        "id": "a28kejRmuGKn"
      },
      "source": [
        "### Разделение данных на выборки"
      ]
    },
    {
      "cell_type": "code",
      "execution_count": null,
      "metadata": {
        "id": "RJ9kYihFuGKn"
      },
      "outputs": [],
      "source": [
        "target = full_df['gone']\n",
        "features = full_df.drop('gone', axis = 1)"
      ]
    },
    {
      "cell_type": "code",
      "execution_count": null,
      "metadata": {
        "id": "648A8lXjuGKn"
      },
      "outputs": [],
      "source": [
        "features_train, features_test, target_train, target_test = train_test_split(\n",
        "    features, target, test_size=0.25, random_state=RANDOM_STATE)"
      ]
    },
    {
      "cell_type": "code",
      "execution_count": null,
      "metadata": {
        "id": "Tw41kN6QuGKn",
        "outputId": "a92fc336-b102-4ad7-9b9a-1f548e974b48"
      },
      "outputs": [
        {
          "name": "stdout",
          "output_type": "stream",
          "text": [
            " Размер features_train: (5282, 17)\n",
            " Размер target_train: (5282,)\n",
            "\n",
            " Размер features_test: (1761, 17)\n",
            " Размер target_test: (1761,)\n"
          ]
        }
      ],
      "source": [
        "# Проверим размеры полученных выборок:\n",
        "print(f' Размер features_train: {features_train.shape}')\n",
        "print(f' Размер target_train: {target_train.shape}')\n",
        "print()\n",
        "print(f' Размер features_test: {features_test.shape}')\n",
        "print(f' Размер target_test: {target_test.shape}')"
      ]
    },
    {
      "cell_type": "markdown",
      "metadata": {
        "id": "uF8HScebuGKo"
      },
      "source": [
        "### Кодирование категориальных признаков"
      ]
    },
    {
      "cell_type": "code",
      "execution_count": null,
      "metadata": {
        "id": "uuMRphXruGKo",
        "outputId": "37ee59fa-8355-49e1-e986-81376ed3719a"
      },
      "outputs": [
        {
          "data": {
            "text/html": [
              "<div>\n",
              "<style scoped>\n",
              "    .dataframe tbody tr th:only-of-type {\n",
              "        vertical-align: middle;\n",
              "    }\n",
              "\n",
              "    .dataframe tbody tr th {\n",
              "        vertical-align: top;\n",
              "    }\n",
              "\n",
              "    .dataframe thead th {\n",
              "        text-align: right;\n",
              "    }\n",
              "</style>\n",
              "<table border=\"1\" class=\"dataframe\">\n",
              "  <thead>\n",
              "    <tr style=\"text-align: right;\">\n",
              "      <th></th>\n",
              "      <th>type</th>\n",
              "      <th>paperless_billing</th>\n",
              "      <th>payment_method</th>\n",
              "      <th>monthly_charges</th>\n",
              "      <th>duration</th>\n",
              "      <th>gender</th>\n",
              "      <th>senior_citizen</th>\n",
              "      <th>partner</th>\n",
              "      <th>dependents</th>\n",
              "      <th>internet_service</th>\n",
              "      <th>online_security</th>\n",
              "      <th>online_backup</th>\n",
              "      <th>device_protection</th>\n",
              "      <th>tech_support</th>\n",
              "      <th>streaming_tv</th>\n",
              "      <th>streaming_movies</th>\n",
              "      <th>multiple_lines</th>\n",
              "    </tr>\n",
              "  </thead>\n",
              "  <tbody>\n",
              "    <tr>\n",
              "      <th>1373</th>\n",
              "      <td>Month-to-month</td>\n",
              "      <td>No</td>\n",
              "      <td>Mailed check</td>\n",
              "      <td>19.85</td>\n",
              "      <td>31</td>\n",
              "      <td>Male</td>\n",
              "      <td>0</td>\n",
              "      <td>No</td>\n",
              "      <td>Yes</td>\n",
              "      <td>No</td>\n",
              "      <td>No</td>\n",
              "      <td>No</td>\n",
              "      <td>No</td>\n",
              "      <td>No</td>\n",
              "      <td>No</td>\n",
              "      <td>No</td>\n",
              "      <td>No</td>\n",
              "    </tr>\n",
              "  </tbody>\n",
              "</table>\n",
              "</div>"
            ],
            "text/plain": [
              "                type paperless_billing payment_method  monthly_charges  \\\n",
              "1373  Month-to-month                No   Mailed check            19.85   \n",
              "\n",
              "      duration gender  senior_citizen partner dependents internet_service  \\\n",
              "1373        31   Male               0      No        Yes               No   \n",
              "\n",
              "     online_security online_backup device_protection tech_support  \\\n",
              "1373              No            No                No           No   \n",
              "\n",
              "     streaming_tv streaming_movies multiple_lines  \n",
              "1373           No               No             No  "
            ]
          },
          "execution_count": 45,
          "metadata": {},
          "output_type": "execute_result"
        }
      ],
      "source": [
        "features_train.head(1)"
      ]
    },
    {
      "cell_type": "code",
      "execution_count": null,
      "metadata": {
        "id": "sn787HIEuGKo"
      },
      "outputs": [],
      "source": [
        "# Кодируем признаки для логистической  регрессии и случайного леса.\n",
        "\n",
        "features_categirical = ['type', 'paperless_billing', 'payment_method', 'gender', 'partner', 'dependents',\n",
        "                        'internet_service', 'online_security', 'online_backup', 'device_protection', 'tech_support',\n",
        "                        'streaming_tv', 'streaming_movies', 'multiple_lines']\n",
        "\n",
        "# кодируем выборки\n",
        "ohe = OneHotEncoder(sparse=False, drop='first')\n",
        "ohe.fit(features_train[features_categirical])\n",
        "\n",
        "def features_ohe(ohe_variable, df_features, features_categ):\n",
        "    df_features_ohe = pd.DataFrame(\n",
        "        data=ohe_variable.transform(df_features[features_categ]),\n",
        "        index=df_features.index,\n",
        "        columns=ohe_variable.get_feature_names()\n",
        "    )\n",
        "\n",
        "    df_features = df_features.drop(features_categ, axis=1)\n",
        "    df_features = df_features.join(df_features_ohe)\n",
        "    return df_features\n",
        "\n",
        "features_train_OHE = features_ohe(ohe, features_train, features_categirical);\n",
        "features_test_OHE = features_ohe(ohe, features_test, features_categirical);"
      ]
    },
    {
      "cell_type": "code",
      "execution_count": null,
      "metadata": {
        "id": "4iWrPum4uGKo",
        "outputId": "49a4b281-7a8c-4869-f86f-c67bf296c9d9"
      },
      "outputs": [
        {
          "name": "stdout",
          "output_type": "stream",
          "text": [
            "(5282, 21)\n",
            "(1761, 21)\n"
          ]
        }
      ],
      "source": [
        "# Проверим выборки после кодирования\n",
        "def shape_(df):\n",
        "    print(df.shape)\n",
        "shape_(features_train_OHE)\n",
        "shape_(features_test_OHE)"
      ]
    },
    {
      "cell_type": "markdown",
      "metadata": {
        "id": "HNMT9_qbuGKo"
      },
      "source": [
        "Можно заметить, что кол-во признаков увеличилось до 28."
      ]
    },
    {
      "cell_type": "markdown",
      "metadata": {
        "id": "g77UrL_uuGKo"
      },
      "source": [
        "### Промежуточные выводы"
      ]
    },
    {
      "cell_type": "markdown",
      "metadata": {
        "id": "07tUWQzjuGKp"
      },
      "source": [
        "В данном разделе было рассмотрено распределение клиентов по продолжительности сотрудничества в разрезе ушедших и актуальных клиентов. Было отмечено, что согласно графикам, потребители, которые пользуются услугами около 900 дней находятся в зоне риска ухода, в то время как пользователи, продолжительность сотрудничества превысила 2000 дней не склонны к уходу.\n",
        "\n",
        "Была произведена проверка на мультиколлинеарность, где были отмечены высокий кровень зависимости между продолжительностью и суммарными выплатами, а также суммарными выплатами и месячным платежом. Было принято решение удалить столбец с суммарными выплатами.\n",
        "\n",
        "Было произведено разделение данных на выборки и выполнено кодирование категориальных признаков."
      ]
    },
    {
      "cell_type": "markdown",
      "metadata": {
        "id": "ZkWN3ND2uGKp"
      },
      "source": [
        "## Обучение моделей"
      ]
    },
    {
      "cell_type": "markdown",
      "metadata": {
        "id": "3DjvnZM5uGKp"
      },
      "source": [
        "### Логистическая регрессия"
      ]
    },
    {
      "cell_type": "code",
      "execution_count": null,
      "metadata": {
        "id": "IPj7kWZvuGKp"
      },
      "outputs": [],
      "source": [
        "# масштабируем признаки для логистической регрессии\n",
        "scaler = StandardScaler()\n",
        "scaler.fit(features_train_OHE)\n",
        "\n",
        "features_train_OHE_scaled = pd.DataFrame(\n",
        "    scaler.transform(features_train_OHE), columns=features_train_OHE.columns, index = features_train_OHE.index)\n",
        "features_test_OHE_scaled = pd.DataFrame(\n",
        "    scaler.transform(features_test_OHE), columns=features_test_OHE.columns, index = features_test_OHE.index)"
      ]
    },
    {
      "cell_type": "code",
      "execution_count": null,
      "metadata": {
        "id": "s7a5nrvyuGKp"
      },
      "outputs": [],
      "source": [
        "# Создадим модель и параметры для неё\n",
        "model_linear = LogisticRegression(solver = 'liblinear', random_state=RANDOM_STATE, class_weight='balanced')\n",
        "\n",
        "parametrs_linear = {}\n",
        "grid_linear = RandomizedSearchCV(model_linear, scoring='roc_auc', cv=5, param_distributions = parametrs_linear)"
      ]
    },
    {
      "cell_type": "code",
      "execution_count": null,
      "metadata": {
        "id": "IgyKHmnwuGKp",
        "outputId": "06190e7e-de0e-4d0f-81d5-8791d8732fb3"
      },
      "outputs": [
        {
          "name": "stdout",
          "output_type": "stream",
          "text": [
            "Training time: 1.0309793949127197 seconds\n"
          ]
        }
      ],
      "source": [
        "start_time = time.time()\n",
        "grid_linear.fit(features_train_OHE_scaled, target_train)\n",
        "end_time = time.time()\n",
        "print(\"Training time: {} seconds\".format(end_time - start_time))"
      ]
    },
    {
      "cell_type": "code",
      "execution_count": null,
      "metadata": {
        "id": "QHw2qbYzuGKp",
        "outputId": "9456735a-ddc9-466b-f54f-1255b39a9d09"
      },
      "outputs": [
        {
          "name": "stdout",
          "output_type": "stream",
          "text": [
            "Средний результат кросс валидации логистической регрессии = 0.7637254292492912\n"
          ]
        }
      ],
      "source": [
        "print(f'Средний результат кросс валидации логистической регрессии = {(grid_linear.best_score_)}')"
      ]
    },
    {
      "cell_type": "markdown",
      "metadata": {
        "id": "XX2ryVDFuGKq"
      },
      "source": [
        "### Случайный лес"
      ]
    },
    {
      "cell_type": "code",
      "execution_count": null,
      "metadata": {
        "id": "EunQ_vKYuGKq"
      },
      "outputs": [],
      "source": [
        "# Создадим модель и параметры для неё\n",
        "model_rf = RandomForestClassifier(random_state=RANDOM_STATE, n_jobs=-1, class_weight='balanced')\n",
        "\n",
        "parametrs_rf = {\"n_estimators\": range(100,200),\n",
        "                \"max_depth\": range(10,20)}\n",
        "grid_rf = RandomizedSearchCV(model_rf, n_iter=20, scoring='roc_auc', cv=5,\n",
        "                                     param_distributions = parametrs_rf, random_state=RANDOM_STATE, verbose=3)"
      ]
    },
    {
      "cell_type": "code",
      "execution_count": null,
      "metadata": {
        "scrolled": true,
        "id": "kPMXHEYhuGKq",
        "outputId": "1a069dff-26fe-4f7d-9414-9618d94c2821"
      },
      "outputs": [
        {
          "name": "stdout",
          "output_type": "stream",
          "text": [
            "Fitting 5 folds for each of 20 candidates, totalling 100 fits\n",
            "[CV 1/5] END .................max_depth=15, n_estimators=142; total time=   0.5s\n",
            "[CV 2/5] END .................max_depth=15, n_estimators=142; total time=   0.5s\n",
            "[CV 3/5] END .................max_depth=15, n_estimators=142; total time=   0.5s\n",
            "[CV 4/5] END .................max_depth=15, n_estimators=142; total time=   0.5s\n",
            "[CV 5/5] END .................max_depth=15, n_estimators=142; total time=   0.5s\n",
            "[CV 1/5] END .................max_depth=10, n_estimators=110; total time=   0.4s\n",
            "[CV 2/5] END .................max_depth=10, n_estimators=110; total time=   0.4s\n",
            "[CV 3/5] END .................max_depth=10, n_estimators=110; total time=   0.4s\n",
            "[CV 4/5] END .................max_depth=10, n_estimators=110; total time=   0.4s\n",
            "[CV 5/5] END .................max_depth=10, n_estimators=110; total time=   0.4s\n",
            "[CV 1/5] END .................max_depth=17, n_estimators=120; total time=   0.5s\n",
            "[CV 2/5] END .................max_depth=17, n_estimators=120; total time=   0.4s\n",
            "[CV 3/5] END .................max_depth=17, n_estimators=120; total time=   0.4s\n",
            "[CV 4/5] END .................max_depth=17, n_estimators=120; total time=   0.5s\n",
            "[CV 5/5] END .................max_depth=17, n_estimators=120; total time=   0.4s\n",
            "[CV 1/5] END .................max_depth=19, n_estimators=130; total time=   0.5s\n",
            "[CV 2/5] END .................max_depth=19, n_estimators=130; total time=   0.5s\n",
            "[CV 3/5] END .................max_depth=19, n_estimators=130; total time=   0.5s\n",
            "[CV 4/5] END .................max_depth=19, n_estimators=130; total time=   0.5s\n",
            "[CV 5/5] END .................max_depth=19, n_estimators=130; total time=   0.5s\n",
            "[CV 1/5] END .................max_depth=11, n_estimators=119; total time=   0.4s\n",
            "[CV 2/5] END .................max_depth=11, n_estimators=119; total time=   0.4s\n",
            "[CV 3/5] END .................max_depth=11, n_estimators=119; total time=   0.4s\n",
            "[CV 4/5] END .................max_depth=11, n_estimators=119; total time=   0.4s\n",
            "[CV 5/5] END .................max_depth=11, n_estimators=119; total time=   0.4s\n",
            "[CV 1/5] END .................max_depth=13, n_estimators=125; total time=   0.5s\n",
            "[CV 2/5] END .................max_depth=13, n_estimators=125; total time=   0.5s\n",
            "[CV 3/5] END .................max_depth=13, n_estimators=125; total time=   0.5s\n",
            "[CV 4/5] END .................max_depth=13, n_estimators=125; total time=   0.5s\n",
            "[CV 5/5] END .................max_depth=13, n_estimators=125; total time=   0.5s\n",
            "[CV 1/5] END .................max_depth=10, n_estimators=118; total time=   0.4s\n",
            "[CV 2/5] END .................max_depth=10, n_estimators=118; total time=   0.4s\n",
            "[CV 3/5] END .................max_depth=10, n_estimators=118; total time=   0.4s\n",
            "[CV 4/5] END .................max_depth=10, n_estimators=118; total time=   0.4s\n",
            "[CV 5/5] END .................max_depth=10, n_estimators=118; total time=   0.4s\n",
            "[CV 1/5] END .................max_depth=13, n_estimators=148; total time=   0.5s\n",
            "[CV 2/5] END .................max_depth=13, n_estimators=148; total time=   0.5s\n",
            "[CV 3/5] END .................max_depth=13, n_estimators=148; total time=   0.5s\n",
            "[CV 4/5] END .................max_depth=13, n_estimators=148; total time=   0.5s\n",
            "[CV 5/5] END .................max_depth=13, n_estimators=148; total time=   0.5s\n",
            "[CV 1/5] END .................max_depth=16, n_estimators=169; total time=   0.6s\n",
            "[CV 2/5] END .................max_depth=16, n_estimators=169; total time=   0.6s\n",
            "[CV 3/5] END .................max_depth=16, n_estimators=169; total time=   0.6s\n",
            "[CV 4/5] END .................max_depth=16, n_estimators=169; total time=   0.6s\n",
            "[CV 5/5] END .................max_depth=16, n_estimators=169; total time=   0.6s\n",
            "[CV 1/5] END .................max_depth=16, n_estimators=122; total time=   0.4s\n",
            "[CV 2/5] END .................max_depth=16, n_estimators=122; total time=   0.4s\n",
            "[CV 3/5] END .................max_depth=16, n_estimators=122; total time=   0.4s\n",
            "[CV 4/5] END .................max_depth=16, n_estimators=122; total time=   0.4s\n",
            "[CV 5/5] END .................max_depth=16, n_estimators=122; total time=   0.4s\n",
            "[CV 1/5] END .................max_depth=11, n_estimators=171; total time=   0.6s\n",
            "[CV 2/5] END .................max_depth=11, n_estimators=171; total time=   0.6s\n",
            "[CV 3/5] END .................max_depth=11, n_estimators=171; total time=   0.6s\n",
            "[CV 4/5] END .................max_depth=11, n_estimators=171; total time=   0.6s\n",
            "[CV 5/5] END .................max_depth=11, n_estimators=171; total time=   0.6s\n",
            "[CV 1/5] END .................max_depth=17, n_estimators=186; total time=   0.7s\n",
            "[CV 2/5] END .................max_depth=17, n_estimators=186; total time=   0.7s\n",
            "[CV 3/5] END .................max_depth=17, n_estimators=186; total time=   0.7s\n",
            "[CV 4/5] END .................max_depth=17, n_estimators=186; total time=   0.7s\n",
            "[CV 5/5] END .................max_depth=17, n_estimators=186; total time=   0.7s\n",
            "[CV 1/5] END .................max_depth=15, n_estimators=150; total time=   0.5s\n",
            "[CV 2/5] END .................max_depth=15, n_estimators=150; total time=   0.5s\n",
            "[CV 3/5] END .................max_depth=15, n_estimators=150; total time=   0.6s\n",
            "[CV 4/5] END .................max_depth=15, n_estimators=150; total time=   0.5s\n",
            "[CV 5/5] END .................max_depth=15, n_estimators=150; total time=   0.5s\n",
            "[CV 1/5] END .................max_depth=15, n_estimators=178; total time=   0.6s\n",
            "[CV 2/5] END .................max_depth=15, n_estimators=178; total time=   0.6s\n",
            "[CV 3/5] END .................max_depth=15, n_estimators=178; total time=   0.6s\n",
            "[CV 4/5] END .................max_depth=15, n_estimators=178; total time=   0.6s\n",
            "[CV 5/5] END .................max_depth=15, n_estimators=178; total time=   0.6s\n",
            "[CV 1/5] END .................max_depth=14, n_estimators=192; total time=   0.7s\n",
            "[CV 2/5] END .................max_depth=14, n_estimators=192; total time=   0.7s\n",
            "[CV 3/5] END .................max_depth=14, n_estimators=192; total time=   0.7s\n",
            "[CV 4/5] END .................max_depth=14, n_estimators=192; total time=   0.7s\n",
            "[CV 5/5] END .................max_depth=14, n_estimators=192; total time=   0.7s\n",
            "[CV 1/5] END .................max_depth=12, n_estimators=166; total time=   0.6s\n",
            "[CV 2/5] END .................max_depth=12, n_estimators=166; total time=   0.6s\n",
            "[CV 3/5] END .................max_depth=12, n_estimators=166; total time=   0.6s\n",
            "[CV 4/5] END .................max_depth=12, n_estimators=166; total time=   0.6s\n",
            "[CV 5/5] END .................max_depth=12, n_estimators=166; total time=   0.6s\n",
            "[CV 1/5] END .................max_depth=10, n_estimators=120; total time=   0.4s\n",
            "[CV 2/5] END .................max_depth=10, n_estimators=120; total time=   0.4s\n",
            "[CV 3/5] END .................max_depth=10, n_estimators=120; total time=   0.4s\n",
            "[CV 4/5] END .................max_depth=10, n_estimators=120; total time=   0.4s\n",
            "[CV 5/5] END .................max_depth=10, n_estimators=120; total time=   0.4s\n",
            "[CV 1/5] END .................max_depth=18, n_estimators=147; total time=   0.6s\n",
            "[CV 2/5] END .................max_depth=18, n_estimators=147; total time=   0.5s\n",
            "[CV 3/5] END .................max_depth=18, n_estimators=147; total time=   0.5s\n",
            "[CV 4/5] END .................max_depth=18, n_estimators=147; total time=   0.5s\n",
            "[CV 5/5] END .................max_depth=18, n_estimators=147; total time=   0.5s\n",
            "[CV 1/5] END .................max_depth=10, n_estimators=197; total time=   0.6s\n",
            "[CV 2/5] END .................max_depth=10, n_estimators=197; total time=   0.6s\n",
            "[CV 3/5] END .................max_depth=10, n_estimators=197; total time=   0.6s\n",
            "[CV 4/5] END .................max_depth=10, n_estimators=197; total time=   0.6s\n",
            "[CV 5/5] END .................max_depth=10, n_estimators=197; total time=   0.6s\n",
            "[CV 1/5] END .................max_depth=15, n_estimators=194; total time=   0.7s\n",
            "[CV 2/5] END .................max_depth=15, n_estimators=194; total time=   0.7s\n",
            "[CV 3/5] END .................max_depth=15, n_estimators=194; total time=   0.7s\n",
            "[CV 4/5] END .................max_depth=15, n_estimators=194; total time=   0.7s\n",
            "[CV 5/5] END .................max_depth=15, n_estimators=194; total time=   0.7s\n",
            "Training time: 53.59874129295349 seconds\n"
          ]
        }
      ],
      "source": [
        "start_time = time.time()\n",
        "grid_rf.fit(features_train_OHE, target_train)\n",
        "end_time = time.time()\n",
        "print(\"Training time: {} seconds\".format(end_time - start_time))"
      ]
    },
    {
      "cell_type": "code",
      "execution_count": null,
      "metadata": {
        "id": "_OZj-26buGKq",
        "outputId": "b6bb0b28-e32c-4e2a-805e-847ce4c98305"
      },
      "outputs": [
        {
          "name": "stdout",
          "output_type": "stream",
          "text": [
            "Средний результат кросс валидации модели случайного леса rougher = 0.8159045808094916\n"
          ]
        }
      ],
      "source": [
        "print(f'Средний результат кросс валидации модели случайного леса rougher = {(grid_rf.best_score_)}')"
      ]
    },
    {
      "cell_type": "markdown",
      "metadata": {
        "id": "3uqwxUqWuGKq"
      },
      "source": [
        "### Catboost"
      ]
    },
    {
      "cell_type": "code",
      "execution_count": null,
      "metadata": {
        "id": "1Vfm6rJIuGKq"
      },
      "outputs": [],
      "source": [
        "# Создание модели\n",
        "model_cb = CatBoostClassifier(iterations=200,\n",
        "                           depth=6,\n",
        "                           learning_rate=0.1,\n",
        "                           loss_function='Logloss',\n",
        "                           eval_metric='AUC',\n",
        "                           random_seed=RANDOM_STATE)\n",
        "pool = Pool(features_train, target_train, cat_features=features_categirical)"
      ]
    },
    {
      "cell_type": "code",
      "execution_count": null,
      "metadata": {
        "scrolled": true,
        "id": "L8EPZTlauGKr",
        "outputId": "3023127a-b481-434a-d91a-4991b7043c51"
      },
      "outputs": [
        {
          "name": "stdout",
          "output_type": "stream",
          "text": [
            "Training on fold [0/5]\n",
            "0:\ttest: 0.7337694\tbest: 0.7337694 (0)\ttotal: 55.9ms\tremaining: 11.1s\n",
            "1:\ttest: 0.7434347\tbest: 0.7434347 (1)\ttotal: 60.5ms\tremaining: 5.99s\n",
            "2:\ttest: 0.7744551\tbest: 0.7744551 (2)\ttotal: 67.6ms\tremaining: 4.44s\n",
            "3:\ttest: 0.7752540\tbest: 0.7752540 (3)\ttotal: 74.4ms\tremaining: 3.65s\n",
            "4:\ttest: 0.7882105\tbest: 0.7882105 (4)\ttotal: 79.9ms\tremaining: 3.12s\n",
            "5:\ttest: 0.7928673\tbest: 0.7928673 (5)\ttotal: 86ms\tremaining: 2.78s\n",
            "6:\ttest: 0.8016586\tbest: 0.8016586 (6)\ttotal: 92ms\tremaining: 2.54s\n",
            "7:\ttest: 0.8049566\tbest: 0.8049566 (7)\ttotal: 98.4ms\tremaining: 2.36s\n",
            "8:\ttest: 0.8091115\tbest: 0.8091115 (8)\ttotal: 105ms\tremaining: 2.22s\n",
            "9:\ttest: 0.8100333\tbest: 0.8100333 (9)\ttotal: 111ms\tremaining: 2.12s\n",
            "10:\ttest: 0.8100367\tbest: 0.8100367 (10)\ttotal: 116ms\tremaining: 1.99s\n",
            "11:\ttest: 0.8078142\tbest: 0.8100367 (10)\ttotal: 122ms\tremaining: 1.9s\n",
            "12:\ttest: 0.8097704\tbest: 0.8100367 (10)\ttotal: 126ms\tremaining: 1.81s\n",
            "13:\ttest: 0.8101050\tbest: 0.8101050 (13)\ttotal: 131ms\tremaining: 1.74s\n",
            "14:\ttest: 0.8138742\tbest: 0.8138742 (14)\ttotal: 139ms\tremaining: 1.71s\n",
            "15:\ttest: 0.8149462\tbest: 0.8149462 (15)\ttotal: 144ms\tremaining: 1.66s\n",
            "16:\ttest: 0.8162913\tbest: 0.8162913 (16)\ttotal: 151ms\tremaining: 1.62s\n",
            "17:\ttest: 0.8154583\tbest: 0.8162913 (16)\ttotal: 156ms\tremaining: 1.58s\n",
            "18:\ttest: 0.8165098\tbest: 0.8165098 (18)\ttotal: 159ms\tremaining: 1.51s\n",
            "19:\ttest: 0.8164723\tbest: 0.8165098 (18)\ttotal: 163ms\tremaining: 1.47s\n",
            "20:\ttest: 0.8184798\tbest: 0.8184798 (20)\ttotal: 168ms\tremaining: 1.43s\n",
            "21:\ttest: 0.8180120\tbest: 0.8184798 (20)\ttotal: 174ms\tremaining: 1.41s\n",
            "22:\ttest: 0.8190090\tbest: 0.8190090 (22)\ttotal: 179ms\tremaining: 1.38s\n",
            "23:\ttest: 0.8198830\tbest: 0.8198830 (23)\ttotal: 186ms\tremaining: 1.36s\n",
            "24:\ttest: 0.8199137\tbest: 0.8199137 (24)\ttotal: 192ms\tremaining: 1.34s\n",
            "25:\ttest: 0.8202756\tbest: 0.8202756 (25)\ttotal: 198ms\tremaining: 1.32s\n",
            "26:\ttest: 0.8202688\tbest: 0.8202756 (25)\ttotal: 203ms\tremaining: 1.3s\n",
            "27:\ttest: 0.8201254\tbest: 0.8202756 (25)\ttotal: 206ms\tremaining: 1.26s\n",
            "28:\ttest: 0.8212657\tbest: 0.8212657 (28)\ttotal: 212ms\tremaining: 1.25s\n",
            "29:\ttest: 0.8216207\tbest: 0.8216207 (29)\ttotal: 218ms\tremaining: 1.24s\n",
            "30:\ttest: 0.8221943\tbest: 0.8221943 (30)\ttotal: 224ms\tremaining: 1.22s\n",
            "31:\ttest: 0.8225903\tbest: 0.8225903 (31)\ttotal: 231ms\tremaining: 1.21s\n",
            "32:\ttest: 0.8226518\tbest: 0.8226518 (32)\ttotal: 236ms\tremaining: 1.19s\n",
            "33:\ttest: 0.8226518\tbest: 0.8226518 (32)\ttotal: 240ms\tremaining: 1.17s\n",
            "34:\ttest: 0.8237443\tbest: 0.8237443 (34)\ttotal: 246ms\tremaining: 1.16s\n",
            "35:\ttest: 0.8236350\tbest: 0.8237443 (34)\ttotal: 251ms\tremaining: 1.14s\n",
            "36:\ttest: 0.8247480\tbest: 0.8247480 (36)\ttotal: 258ms\tremaining: 1.13s\n",
            "37:\ttest: 0.8245432\tbest: 0.8247480 (36)\ttotal: 264ms\tremaining: 1.12s\n",
            "38:\ttest: 0.8247412\tbest: 0.8247480 (36)\ttotal: 271ms\tremaining: 1.12s\n",
            "39:\ttest: 0.8256425\tbest: 0.8256425 (39)\ttotal: 277ms\tremaining: 1.11s\n",
            "40:\ttest: 0.8256767\tbest: 0.8256767 (40)\ttotal: 282ms\tremaining: 1.09s\n",
            "41:\ttest: 0.8260522\tbest: 0.8260522 (41)\ttotal: 285ms\tremaining: 1.07s\n",
            "42:\ttest: 0.8260454\tbest: 0.8260522 (41)\ttotal: 291ms\tremaining: 1.06s\n",
            "43:\ttest: 0.8267828\tbest: 0.8267828 (43)\ttotal: 296ms\tremaining: 1.05s\n",
            "44:\ttest: 0.8270082\tbest: 0.8270082 (44)\ttotal: 301ms\tremaining: 1.04s\n",
            "45:\ttest: 0.8269672\tbest: 0.8270082 (44)\ttotal: 305ms\tremaining: 1.02s\n",
            "46:\ttest: 0.8269809\tbest: 0.8270082 (44)\ttotal: 308ms\tremaining: 1s\n",
            "47:\ttest: 0.8270218\tbest: 0.8270218 (47)\ttotal: 313ms\tremaining: 991ms\n",
            "48:\ttest: 0.8273974\tbest: 0.8273974 (48)\ttotal: 320ms\tremaining: 986ms\n",
            "49:\ttest: 0.8283397\tbest: 0.8283397 (49)\ttotal: 326ms\tremaining: 979ms\n",
            "50:\ttest: 0.8292615\tbest: 0.8292615 (50)\ttotal: 332ms\tremaining: 971ms\n",
            "51:\ttest: 0.8301286\tbest: 0.8301286 (51)\ttotal: 340ms\tremaining: 966ms\n",
            "52:\ttest: 0.8300330\tbest: 0.8301286 (51)\ttotal: 345ms\tremaining: 957ms\n",
            "53:\ttest: 0.8300330\tbest: 0.8301286 (51)\ttotal: 350ms\tremaining: 946ms\n",
            "54:\ttest: 0.8295551\tbest: 0.8301286 (51)\ttotal: 356ms\tremaining: 939ms\n",
            "55:\ttest: 0.8312382\tbest: 0.8312382 (55)\ttotal: 362ms\tremaining: 931ms\n",
            "56:\ttest: 0.8312382\tbest: 0.8312382 (55)\ttotal: 364ms\tremaining: 914ms\n",
            "57:\ttest: 0.8312382\tbest: 0.8312382 (55)\ttotal: 366ms\tremaining: 897ms\n",
            "58:\ttest: 0.8324912\tbest: 0.8324912 (58)\ttotal: 373ms\tremaining: 891ms\n",
            "59:\ttest: 0.8321156\tbest: 0.8324912 (58)\ttotal: 377ms\tremaining: 881ms\n",
            "60:\ttest: 0.8321225\tbest: 0.8324912 (58)\ttotal: 383ms\tremaining: 872ms\n",
            "61:\ttest: 0.8323478\tbest: 0.8324912 (58)\ttotal: 388ms\tremaining: 864ms\n",
            "62:\ttest: 0.8341709\tbest: 0.8341709 (62)\ttotal: 395ms\tremaining: 858ms\n",
            "63:\ttest: 0.8344918\tbest: 0.8344918 (63)\ttotal: 401ms\tremaining: 852ms\n",
            "64:\ttest: 0.8351132\tbest: 0.8351132 (64)\ttotal: 406ms\tremaining: 844ms\n",
            "65:\ttest: 0.8357892\tbest: 0.8357892 (65)\ttotal: 413ms\tremaining: 838ms\n",
            "66:\ttest: 0.8358029\tbest: 0.8358029 (66)\ttotal: 418ms\tremaining: 831ms\n",
            "67:\ttest: 0.8352429\tbest: 0.8358029 (66)\ttotal: 426ms\tremaining: 827ms\n",
            "68:\ttest: 0.8353932\tbest: 0.8358029 (66)\ttotal: 432ms\tremaining: 820ms\n",
            "69:\ttest: 0.8353181\tbest: 0.8358029 (66)\ttotal: 435ms\tremaining: 808ms\n",
            "70:\ttest: 0.8349084\tbest: 0.8358029 (66)\ttotal: 441ms\tremaining: 800ms\n",
            "71:\ttest: 0.8351064\tbest: 0.8358029 (66)\ttotal: 446ms\tremaining: 794ms\n",
            "72:\ttest: 0.8350518\tbest: 0.8358029 (66)\ttotal: 452ms\tremaining: 786ms\n",
            "73:\ttest: 0.8350586\tbest: 0.8358029 (66)\ttotal: 455ms\tremaining: 775ms\n",
            "74:\ttest: 0.8349357\tbest: 0.8358029 (66)\ttotal: 462ms\tremaining: 769ms\n",
            "75:\ttest: 0.8349357\tbest: 0.8358029 (66)\ttotal: 464ms\tremaining: 758ms\n",
            "76:\ttest: 0.8349289\tbest: 0.8358029 (66)\ttotal: 471ms\tremaining: 753ms\n",
            "77:\ttest: 0.8346011\tbest: 0.8358029 (66)\ttotal: 478ms\tremaining: 747ms\n",
            "78:\ttest: 0.8389370\tbest: 0.8389370 (78)\ttotal: 484ms\tremaining: 741ms\n",
            "79:\ttest: 0.8392306\tbest: 0.8392306 (79)\ttotal: 489ms\tremaining: 733ms\n",
            "80:\ttest: 0.8389233\tbest: 0.8392306 (79)\ttotal: 494ms\tremaining: 726ms\n",
            "81:\ttest: 0.8391555\tbest: 0.8392306 (79)\ttotal: 500ms\tremaining: 720ms\n",
            "82:\ttest: 0.8396198\tbest: 0.8396198 (82)\ttotal: 507ms\tremaining: 714ms\n",
            "83:\ttest: 0.8397564\tbest: 0.8397564 (83)\ttotal: 513ms\tremaining: 708ms\n",
            "84:\ttest: 0.8406645\tbest: 0.8406645 (84)\ttotal: 519ms\tremaining: 702ms\n",
            "85:\ttest: 0.8403777\tbest: 0.8406645 (84)\ttotal: 525ms\tremaining: 696ms\n",
            "86:\ttest: 0.8405348\tbest: 0.8406645 (84)\ttotal: 529ms\tremaining: 687ms\n",
            "87:\ttest: 0.8410742\tbest: 0.8410742 (87)\ttotal: 535ms\tremaining: 681ms\n",
            "88:\ttest: 0.8406440\tbest: 0.8410742 (87)\ttotal: 541ms\tremaining: 675ms\n",
            "89:\ttest: 0.8406304\tbest: 0.8410742 (87)\ttotal: 546ms\tremaining: 667ms\n",
            "90:\ttest: 0.8410469\tbest: 0.8410742 (87)\ttotal: 552ms\tremaining: 661ms\n",
            "91:\ttest: 0.8424125\tbest: 0.8424125 (91)\ttotal: 556ms\tremaining: 653ms\n",
            "92:\ttest: 0.8424262\tbest: 0.8424262 (92)\ttotal: 564ms\tremaining: 649ms\n",
            "93:\ttest: 0.8430134\tbest: 0.8430134 (93)\ttotal: 571ms\tremaining: 644ms\n",
            "94:\ttest: 0.8442425\tbest: 0.8442425 (94)\ttotal: 578ms\tremaining: 639ms\n",
            "95:\ttest: 0.8442425\tbest: 0.8442425 (94)\ttotal: 581ms\tremaining: 629ms\n",
            "96:\ttest: 0.8454101\tbest: 0.8454101 (96)\ttotal: 587ms\tremaining: 623ms\n",
            "97:\ttest: 0.8467757\tbest: 0.8467757 (97)\ttotal: 593ms\tremaining: 617ms\n",
            "98:\ttest: 0.8467006\tbest: 0.8467757 (97)\ttotal: 599ms\tremaining: 611ms\n",
            "99:\ttest: 0.8465231\tbest: 0.8467757 (97)\ttotal: 604ms\tremaining: 604ms\n",
            "100:\ttest: 0.8465163\tbest: 0.8467757 (97)\ttotal: 611ms\tremaining: 598ms\n",
            "101:\ttest: 0.8466255\tbest: 0.8467757 (97)\ttotal: 617ms\tremaining: 593ms\n",
            "102:\ttest: 0.8467826\tbest: 0.8467826 (102)\ttotal: 623ms\tremaining: 587ms\n",
            "103:\ttest: 0.8468782\tbest: 0.8468782 (103)\ttotal: 630ms\tremaining: 581ms\n",
            "104:\ttest: 0.8469396\tbest: 0.8469396 (104)\ttotal: 636ms\tremaining: 575ms\n",
            "105:\ttest: 0.8479843\tbest: 0.8479843 (105)\ttotal: 642ms\tremaining: 570ms\n",
            "106:\ttest: 0.8491519\tbest: 0.8491519 (106)\ttotal: 649ms\tremaining: 564ms\n",
            "107:\ttest: 0.8491793\tbest: 0.8491793 (107)\ttotal: 655ms\tremaining: 558ms\n",
            "108:\ttest: 0.8494729\tbest: 0.8494729 (108)\ttotal: 661ms\tremaining: 552ms\n",
            "109:\ttest: 0.8513233\tbest: 0.8513233 (109)\ttotal: 668ms\tremaining: 546ms\n",
            "110:\ttest: 0.8519583\tbest: 0.8519583 (110)\ttotal: 674ms\tremaining: 541ms\n",
            "111:\ttest: 0.8519788\tbest: 0.8519788 (111)\ttotal: 680ms\tremaining: 534ms\n",
            "112:\ttest: 0.8528528\tbest: 0.8528528 (112)\ttotal: 685ms\tremaining: 528ms\n",
            "113:\ttest: 0.8535834\tbest: 0.8535834 (113)\ttotal: 692ms\tremaining: 522ms\n",
            "114:\ttest: 0.8537336\tbest: 0.8537336 (114)\ttotal: 698ms\tremaining: 516ms\n",
            "115:\ttest: 0.8536039\tbest: 0.8537336 (114)\ttotal: 703ms\tremaining: 509ms\n",
            "116:\ttest: 0.8544438\tbest: 0.8544438 (116)\ttotal: 709ms\tremaining: 503ms\n",
            "117:\ttest: 0.8558367\tbest: 0.8558367 (117)\ttotal: 715ms\tremaining: 497ms\n",
            "118:\ttest: 0.8560211\tbest: 0.8560211 (118)\ttotal: 720ms\tremaining: 490ms\n",
            "119:\ttest: 0.8562123\tbest: 0.8562123 (119)\ttotal: 726ms\tremaining: 484ms\n",
            "120:\ttest: 0.8562054\tbest: 0.8562123 (119)\ttotal: 731ms\tremaining: 477ms\n",
            "121:\ttest: 0.8560143\tbest: 0.8562123 (119)\ttotal: 739ms\tremaining: 472ms\n",
            "122:\ttest: 0.8564513\tbest: 0.8564513 (122)\ttotal: 745ms\tremaining: 467ms\n",
            "123:\ttest: 0.8572638\tbest: 0.8572638 (123)\ttotal: 752ms\tremaining: 461ms\n",
            "124:\ttest: 0.8572706\tbest: 0.8572706 (124)\ttotal: 758ms\tremaining: 455ms\n",
            "125:\ttest: 0.8577281\tbest: 0.8577281 (125)\ttotal: 763ms\tremaining: 448ms\n",
            "126:\ttest: 0.8577759\tbest: 0.8577759 (126)\ttotal: 769ms\tremaining: 442ms\n",
            "127:\ttest: 0.8581446\tbest: 0.8581446 (127)\ttotal: 774ms\tremaining: 436ms\n",
            "128:\ttest: 0.8582539\tbest: 0.8582539 (128)\ttotal: 781ms\tremaining: 430ms\n",
            "129:\ttest: 0.8581378\tbest: 0.8582539 (128)\ttotal: 787ms\tremaining: 424ms\n",
            "130:\ttest: 0.8583154\tbest: 0.8583154 (130)\ttotal: 793ms\tremaining: 418ms\n",
            "131:\ttest: 0.8585680\tbest: 0.8585680 (131)\ttotal: 799ms\tremaining: 412ms\n",
            "132:\ttest: 0.8588821\tbest: 0.8588821 (132)\ttotal: 807ms\tremaining: 406ms\n",
            "133:\ttest: 0.8587797\tbest: 0.8588821 (132)\ttotal: 812ms\tremaining: 400ms\n",
            "134:\ttest: 0.8589572\tbest: 0.8589572 (134)\ttotal: 818ms\tremaining: 394ms\n",
            "135:\ttest: 0.8589777\tbest: 0.8589777 (135)\ttotal: 824ms\tremaining: 388ms\n",
            "136:\ttest: 0.8586499\tbest: 0.8589777 (135)\ttotal: 831ms\tremaining: 382ms\n",
            "137:\ttest: 0.8597151\tbest: 0.8597151 (137)\ttotal: 837ms\tremaining: 376ms\n",
            "138:\ttest: 0.8595854\tbest: 0.8597151 (137)\ttotal: 844ms\tremaining: 370ms\n",
            "139:\ttest: 0.8594693\tbest: 0.8597151 (137)\ttotal: 850ms\tremaining: 364ms\n",
            "140:\ttest: 0.8594420\tbest: 0.8597151 (137)\ttotal: 857ms\tremaining: 359ms\n",
            "141:\ttest: 0.8598858\tbest: 0.8598858 (141)\ttotal: 864ms\tremaining: 353ms\n",
            "142:\ttest: 0.8613471\tbest: 0.8613471 (142)\ttotal: 871ms\tremaining: 347ms\n",
            "143:\ttest: 0.8627332\tbest: 0.8627332 (143)\ttotal: 877ms\tremaining: 341ms\n",
            "144:\ttest: 0.8638871\tbest: 0.8638871 (144)\ttotal: 883ms\tremaining: 335ms\n",
            "145:\ttest: 0.8640305\tbest: 0.8640305 (145)\ttotal: 888ms\tremaining: 328ms\n",
            "146:\ttest: 0.8639281\tbest: 0.8640305 (145)\ttotal: 893ms\tremaining: 322ms\n",
            "147:\ttest: 0.8647338\tbest: 0.8647338 (147)\ttotal: 899ms\tremaining: 316ms\n",
            "148:\ttest: 0.8647338\tbest: 0.8647338 (147)\ttotal: 906ms\tremaining: 310ms\n",
            "149:\ttest: 0.8643515\tbest: 0.8647338 (147)\ttotal: 913ms\tremaining: 304ms\n",
            "150:\ttest: 0.8648704\tbest: 0.8648704 (150)\ttotal: 918ms\tremaining: 298ms\n",
            "151:\ttest: 0.8657103\tbest: 0.8657103 (151)\ttotal: 924ms\tremaining: 292ms\n",
            "152:\ttest: 0.8660790\tbest: 0.8660790 (152)\ttotal: 930ms\tremaining: 286ms\n",
            "153:\ttest: 0.8659834\tbest: 0.8660790 (152)\ttotal: 936ms\tremaining: 280ms\n",
            "154:\ttest: 0.8675197\tbest: 0.8675197 (154)\ttotal: 943ms\tremaining: 274ms\n",
            "155:\ttest: 0.8674310\tbest: 0.8675197 (154)\ttotal: 950ms\tremaining: 268ms\n",
            "156:\ttest: 0.8673968\tbest: 0.8675197 (154)\ttotal: 956ms\tremaining: 262ms\n",
            "157:\ttest: 0.8682367\tbest: 0.8682367 (157)\ttotal: 962ms\tremaining: 256ms\n",
            "158:\ttest: 0.8688581\tbest: 0.8688581 (158)\ttotal: 968ms\tremaining: 250ms\n",
            "159:\ttest: 0.8689946\tbest: 0.8689946 (159)\ttotal: 973ms\tremaining: 243ms\n",
            "160:\ttest: 0.8689127\tbest: 0.8689946 (159)\ttotal: 980ms\tremaining: 237ms\n",
            "161:\ttest: 0.8687078\tbest: 0.8689946 (159)\ttotal: 986ms\tremaining: 231ms\n",
            "162:\ttest: 0.8684962\tbest: 0.8689946 (159)\ttotal: 994ms\tremaining: 226ms\n",
            "163:\ttest: 0.8693429\tbest: 0.8693429 (163)\ttotal: 1s\tremaining: 220ms\n",
            "164:\ttest: 0.8694248\tbest: 0.8694248 (164)\ttotal: 1.01s\tremaining: 214ms\n",
            "165:\ttest: 0.8693429\tbest: 0.8694248 (164)\ttotal: 1.01s\tremaining: 207ms\n",
            "166:\ttest: 0.8694794\tbest: 0.8694794 (166)\ttotal: 1.02s\tremaining: 201ms\n",
            "167:\ttest: 0.8697662\tbest: 0.8697662 (167)\ttotal: 1.03s\tremaining: 196ms\n",
            "168:\ttest: 0.8694043\tbest: 0.8697662 (167)\ttotal: 1.03s\tremaining: 190ms\n",
            "169:\ttest: 0.8693838\tbest: 0.8697662 (167)\ttotal: 1.04s\tremaining: 183ms\n",
            "170:\ttest: 0.8695614\tbest: 0.8697662 (167)\ttotal: 1.04s\tremaining: 177ms\n",
            "171:\ttest: 0.8694111\tbest: 0.8697662 (167)\ttotal: 1.05s\tremaining: 171ms\n",
            "172:\ttest: 0.8694385\tbest: 0.8697662 (167)\ttotal: 1.06s\tremaining: 165ms\n",
            "173:\ttest: 0.8700393\tbest: 0.8700393 (173)\ttotal: 1.06s\tremaining: 159ms\n",
            "174:\ttest: 0.8708997\tbest: 0.8708997 (174)\ttotal: 1.07s\tremaining: 153ms\n",
            "175:\ttest: 0.8714118\tbest: 0.8714118 (175)\ttotal: 1.07s\tremaining: 147ms\n",
            "176:\ttest: 0.8722312\tbest: 0.8722312 (176)\ttotal: 1.08s\tremaining: 140ms\n",
            "177:\ttest: 0.8718966\tbest: 0.8722312 (176)\ttotal: 1.09s\tremaining: 134ms\n",
            "178:\ttest: 0.8721834\tbest: 0.8722312 (176)\ttotal: 1.09s\tremaining: 128ms\n",
            "179:\ttest: 0.8734944\tbest: 0.8734944 (179)\ttotal: 1.1s\tremaining: 122ms\n",
            "180:\ttest: 0.8752970\tbest: 0.8752970 (180)\ttotal: 1.1s\tremaining: 116ms\n",
            "181:\ttest: 0.8770246\tbest: 0.8770246 (181)\ttotal: 1.11s\tremaining: 110ms\n",
            "182:\ttest: 0.8776732\tbest: 0.8776732 (182)\ttotal: 1.12s\tremaining: 104ms\n",
            "183:\ttest: 0.8779942\tbest: 0.8779942 (183)\ttotal: 1.12s\tremaining: 97.7ms\n",
            "184:\ttest: 0.8779532\tbest: 0.8779942 (183)\ttotal: 1.13s\tremaining: 91.6ms\n",
            "185:\ttest: 0.8779464\tbest: 0.8779942 (183)\ttotal: 1.14s\tremaining: 85.5ms\n",
            "186:\ttest: 0.8780146\tbest: 0.8780146 (186)\ttotal: 1.14s\tremaining: 79.4ms\n",
            "187:\ttest: 0.8783083\tbest: 0.8783083 (187)\ttotal: 1.15s\tremaining: 73.3ms\n",
            "188:\ttest: 0.8783834\tbest: 0.8783834 (188)\ttotal: 1.15s\tremaining: 67.2ms\n",
            "189:\ttest: 0.8794144\tbest: 0.8794144 (189)\ttotal: 1.16s\tremaining: 61.1ms\n",
            "190:\ttest: 0.8801655\tbest: 0.8801655 (190)\ttotal: 1.17s\tremaining: 55ms\n",
            "191:\ttest: 0.8798992\tbest: 0.8801655 (190)\ttotal: 1.17s\tremaining: 48.9ms\n",
            "192:\ttest: 0.8797763\tbest: 0.8801655 (190)\ttotal: 1.18s\tremaining: 42.8ms\n",
            "193:\ttest: 0.8797763\tbest: 0.8801655 (190)\ttotal: 1.19s\tremaining: 36.7ms\n",
            "194:\ttest: 0.8792369\tbest: 0.8801655 (190)\ttotal: 1.19s\tremaining: 30.6ms\n",
            "195:\ttest: 0.8798651\tbest: 0.8801655 (190)\ttotal: 1.2s\tremaining: 24.5ms\n",
            "196:\ttest: 0.8795988\tbest: 0.8801655 (190)\ttotal: 1.21s\tremaining: 18.4ms\n",
            "197:\ttest: 0.8795715\tbest: 0.8801655 (190)\ttotal: 1.21s\tremaining: 12.3ms\n",
            "198:\ttest: 0.8796261\tbest: 0.8801655 (190)\ttotal: 1.22s\tremaining: 6.13ms\n",
            "199:\ttest: 0.8800153\tbest: 0.8801655 (190)\ttotal: 1.23s\tremaining: 0us\n",
            "\n",
            "bestTest = 0.880165515\n",
            "bestIteration = 190\n",
            "\n",
            "Training on fold [1/5]\n",
            "0:\ttest: 0.7067162\tbest: 0.7067162 (0)\ttotal: 6.98ms\tremaining: 1.39s\n",
            "1:\ttest: 0.7592727\tbest: 0.7592727 (1)\ttotal: 13.7ms\tremaining: 1.36s\n",
            "2:\ttest: 0.7857865\tbest: 0.7857865 (2)\ttotal: 19.7ms\tremaining: 1.29s\n",
            "3:\ttest: 0.7861245\tbest: 0.7861245 (3)\ttotal: 22.5ms\tremaining: 1.1s\n",
            "4:\ttest: 0.7873535\tbest: 0.7873535 (4)\ttotal: 28ms\tremaining: 1.09s\n",
            "5:\ttest: 0.7956566\tbest: 0.7956566 (5)\ttotal: 33.9ms\tremaining: 1.1s\n",
            "6:\ttest: 0.7923074\tbest: 0.7956566 (5)\ttotal: 39.2ms\tremaining: 1.08s\n",
            "7:\ttest: 0.7904843\tbest: 0.7956566 (5)\ttotal: 43.7ms\tremaining: 1.05s\n",
            "8:\ttest: 0.7904843\tbest: 0.7956566 (5)\ttotal: 45.6ms\tremaining: 968ms\n",
            "9:\ttest: 0.7934443\tbest: 0.7956566 (5)\ttotal: 52ms\tremaining: 989ms\n",
            "10:\ttest: 0.7948679\tbest: 0.7956566 (5)\ttotal: 58.3ms\tremaining: 1s\n",
            "11:\ttest: 0.8020785\tbest: 0.8020785 (11)\ttotal: 64ms\tremaining: 1s\n",
            "12:\ttest: 0.8035295\tbest: 0.8035295 (12)\ttotal: 69.3ms\tremaining: 997ms\n",
            "13:\ttest: 0.8043045\tbest: 0.8043045 (13)\ttotal: 75.2ms\tremaining: 999ms\n",
            "14:\ttest: 0.8072884\tbest: 0.8072884 (14)\ttotal: 80.8ms\tremaining: 996ms\n",
            "15:\ttest: 0.8088759\tbest: 0.8088759 (15)\ttotal: 86.9ms\tremaining: 999ms\n",
            "16:\ttest: 0.8110166\tbest: 0.8110166 (16)\ttotal: 92.4ms\tremaining: 994ms\n",
            "17:\ttest: 0.8102791\tbest: 0.8110166 (16)\ttotal: 97.4ms\tremaining: 985ms\n",
            "18:\ttest: 0.8105864\tbest: 0.8110166 (16)\ttotal: 103ms\tremaining: 984ms\n",
            "19:\ttest: 0.8117813\tbest: 0.8117813 (19)\ttotal: 109ms\tremaining: 977ms\n",
            "20:\ttest: 0.8101187\tbest: 0.8117813 (19)\ttotal: 115ms\tremaining: 979ms\n",
            "21:\ttest: 0.8091354\tbest: 0.8117813 (19)\ttotal: 122ms\tremaining: 984ms\n",
            "22:\ttest: 0.8100982\tbest: 0.8117813 (19)\ttotal: 127ms\tremaining: 974ms\n",
            "23:\ttest: 0.8105079\tbest: 0.8117813 (19)\ttotal: 132ms\tremaining: 966ms\n",
            "24:\ttest: 0.8116311\tbest: 0.8117813 (19)\ttotal: 138ms\tremaining: 965ms\n",
            "25:\ttest: 0.8112760\tbest: 0.8117813 (19)\ttotal: 143ms\tremaining: 959ms\n",
            "26:\ttest: 0.8116857\tbest: 0.8117813 (19)\ttotal: 149ms\tremaining: 953ms\n",
            "27:\ttest: 0.8121432\tbest: 0.8121432 (27)\ttotal: 155ms\tremaining: 951ms\n",
            "28:\ttest: 0.8115936\tbest: 0.8121432 (27)\ttotal: 161ms\tremaining: 949ms\n",
            "29:\ttest: 0.8108971\tbest: 0.8121432 (27)\ttotal: 166ms\tremaining: 943ms\n",
            "30:\ttest: 0.8109517\tbest: 0.8121432 (27)\ttotal: 169ms\tremaining: 922ms\n",
            "31:\ttest: 0.8102894\tbest: 0.8121432 (27)\ttotal: 175ms\tremaining: 919ms\n",
            "32:\ttest: 0.8102962\tbest: 0.8121432 (27)\ttotal: 181ms\tremaining: 914ms\n",
            "33:\ttest: 0.8114092\tbest: 0.8121432 (27)\ttotal: 186ms\tremaining: 910ms\n",
            "34:\ttest: 0.8115492\tbest: 0.8121432 (27)\ttotal: 191ms\tremaining: 901ms\n",
            "35:\ttest: 0.8107435\tbest: 0.8121432 (27)\ttotal: 197ms\tremaining: 900ms\n",
            "36:\ttest: 0.8109005\tbest: 0.8121432 (27)\ttotal: 203ms\tremaining: 893ms\n",
            "37:\ttest: 0.8106752\tbest: 0.8121432 (27)\ttotal: 209ms\tremaining: 890ms\n",
            "38:\ttest: 0.8114331\tbest: 0.8121432 (27)\ttotal: 214ms\tremaining: 884ms\n",
            "39:\ttest: 0.8117608\tbest: 0.8121432 (27)\ttotal: 219ms\tremaining: 876ms\n",
            "40:\ttest: 0.8129558\tbest: 0.8129558 (40)\ttotal: 225ms\tremaining: 872ms\n",
            "41:\ttest: 0.8129831\tbest: 0.8129831 (41)\ttotal: 227ms\tremaining: 856ms\n",
            "42:\ttest: 0.8146287\tbest: 0.8146287 (42)\ttotal: 232ms\tremaining: 847ms\n",
            "43:\ttest: 0.8145877\tbest: 0.8146287 (42)\ttotal: 237ms\tremaining: 841ms\n",
            "44:\ttest: 0.8145536\tbest: 0.8146287 (42)\ttotal: 243ms\tremaining: 838ms\n",
            "45:\ttest: 0.8142429\tbest: 0.8146287 (42)\ttotal: 249ms\tremaining: 834ms\n",
            "46:\ttest: 0.8138400\tbest: 0.8146287 (42)\ttotal: 255ms\tremaining: 830ms\n",
            "47:\ttest: 0.8136079\tbest: 0.8146287 (42)\ttotal: 261ms\tremaining: 826ms\n",
            "48:\ttest: 0.8143043\tbest: 0.8146287 (42)\ttotal: 267ms\tremaining: 822ms\n",
            "49:\ttest: 0.8155402\tbest: 0.8155402 (49)\ttotal: 272ms\tremaining: 817ms\n",
            "50:\ttest: 0.8155402\tbest: 0.8155402 (49)\ttotal: 275ms\tremaining: 804ms\n",
            "51:\ttest: 0.8153149\tbest: 0.8155402 (49)\ttotal: 281ms\tremaining: 801ms\n",
            "52:\ttest: 0.8152261\tbest: 0.8155402 (49)\ttotal: 287ms\tremaining: 796ms\n",
            "53:\ttest: 0.8160728\tbest: 0.8160728 (53)\ttotal: 293ms\tremaining: 792ms\n",
            "54:\ttest: 0.8152671\tbest: 0.8160728 (53)\ttotal: 299ms\tremaining: 788ms\n",
            "55:\ttest: 0.8152876\tbest: 0.8160728 (53)\ttotal: 304ms\tremaining: 782ms\n",
            "56:\ttest: 0.8152535\tbest: 0.8160728 (53)\ttotal: 306ms\tremaining: 769ms\n",
            "57:\ttest: 0.8138332\tbest: 0.8160728 (53)\ttotal: 312ms\tremaining: 763ms\n",
            "58:\ttest: 0.8138878\tbest: 0.8160728 (53)\ttotal: 315ms\tremaining: 753ms\n",
            "59:\ttest: 0.8140176\tbest: 0.8160728 (53)\ttotal: 321ms\tremaining: 749ms\n",
            "60:\ttest: 0.8141063\tbest: 0.8160728 (53)\ttotal: 327ms\tremaining: 744ms\n",
            "61:\ttest: 0.8156290\tbest: 0.8160728 (53)\ttotal: 333ms\tremaining: 740ms\n",
            "62:\ttest: 0.8154515\tbest: 0.8160728 (53)\ttotal: 339ms\tremaining: 737ms\n",
            "63:\ttest: 0.8156563\tbest: 0.8160728 (53)\ttotal: 344ms\tremaining: 732ms\n",
            "64:\ttest: 0.8162913\tbest: 0.8162913 (64)\ttotal: 351ms\tremaining: 729ms\n",
            "65:\ttest: 0.8165576\tbest: 0.8165576 (65)\ttotal: 356ms\tremaining: 723ms\n",
            "66:\ttest: 0.8165576\tbest: 0.8165576 (65)\ttotal: 359ms\tremaining: 713ms\n",
            "67:\ttest: 0.8164143\tbest: 0.8165576 (65)\ttotal: 364ms\tremaining: 707ms\n",
            "68:\ttest: 0.8171449\tbest: 0.8171449 (68)\ttotal: 372ms\tremaining: 706ms\n",
            "69:\ttest: 0.8172131\tbest: 0.8172131 (69)\ttotal: 377ms\tremaining: 700ms\n",
            "70:\ttest: 0.8183808\tbest: 0.8183808 (70)\ttotal: 383ms\tremaining: 695ms\n",
            "71:\ttest: 0.8173975\tbest: 0.8183808 (70)\ttotal: 389ms\tremaining: 692ms\n",
            "72:\ttest: 0.8187495\tbest: 0.8187495 (72)\ttotal: 396ms\tremaining: 688ms\n",
            "73:\ttest: 0.8187153\tbest: 0.8187495 (72)\ttotal: 401ms\tremaining: 683ms\n",
            "74:\ttest: 0.8186198\tbest: 0.8187495 (72)\ttotal: 405ms\tremaining: 675ms\n",
            "75:\ttest: 0.8190158\tbest: 0.8190158 (75)\ttotal: 412ms\tremaining: 672ms\n",
            "76:\ttest: 0.8195347\tbest: 0.8195347 (76)\ttotal: 419ms\tremaining: 669ms\n",
            "77:\ttest: 0.8199376\tbest: 0.8199376 (77)\ttotal: 424ms\tremaining: 663ms\n",
            "78:\ttest: 0.8210301\tbest: 0.8210301 (78)\ttotal: 429ms\tremaining: 657ms\n",
            "79:\ttest: 0.8211393\tbest: 0.8211393 (79)\ttotal: 436ms\tremaining: 654ms\n",
            "80:\ttest: 0.8211052\tbest: 0.8211393 (79)\ttotal: 442ms\tremaining: 649ms\n",
            "81:\ttest: 0.8212759\tbest: 0.8212759 (81)\ttotal: 447ms\tremaining: 644ms\n",
            "82:\ttest: 0.8214671\tbest: 0.8214671 (82)\ttotal: 452ms\tremaining: 638ms\n",
            "83:\ttest: 0.8214261\tbest: 0.8214671 (82)\ttotal: 458ms\tremaining: 633ms\n",
            "84:\ttest: 0.8216173\tbest: 0.8216173 (84)\ttotal: 464ms\tremaining: 628ms\n",
            "85:\ttest: 0.8221158\tbest: 0.8221158 (85)\ttotal: 469ms\tremaining: 622ms\n",
            "86:\ttest: 0.8221909\tbest: 0.8221909 (86)\ttotal: 475ms\tremaining: 617ms\n",
            "87:\ttest: 0.8221909\tbest: 0.8221909 (86)\ttotal: 479ms\tremaining: 609ms\n",
            "88:\ttest: 0.8220680\tbest: 0.8221909 (86)\ttotal: 484ms\tremaining: 604ms\n",
            "89:\ttest: 0.8214944\tbest: 0.8221909 (86)\ttotal: 490ms\tremaining: 599ms\n",
            "90:\ttest: 0.8215968\tbest: 0.8221909 (86)\ttotal: 494ms\tremaining: 591ms\n",
            "91:\ttest: 0.8215149\tbest: 0.8221909 (86)\ttotal: 499ms\tremaining: 586ms\n",
            "92:\ttest: 0.8212418\tbest: 0.8221909 (86)\ttotal: 504ms\tremaining: 580ms\n",
            "93:\ttest: 0.8212281\tbest: 0.8221909 (86)\ttotal: 509ms\tremaining: 574ms\n",
            "94:\ttest: 0.8210711\tbest: 0.8221909 (86)\ttotal: 515ms\tremaining: 569ms\n",
            "95:\ttest: 0.8218017\tbest: 0.8221909 (86)\ttotal: 521ms\tremaining: 564ms\n",
            "96:\ttest: 0.8224504\tbest: 0.8224504 (96)\ttotal: 525ms\tremaining: 558ms\n",
            "97:\ttest: 0.8229556\tbest: 0.8229556 (97)\ttotal: 531ms\tremaining: 553ms\n",
            "98:\ttest: 0.8237341\tbest: 0.8237341 (98)\ttotal: 537ms\tremaining: 548ms\n",
            "99:\ttest: 0.8237136\tbest: 0.8237341 (98)\ttotal: 542ms\tremaining: 542ms\n",
            "100:\ttest: 0.8237341\tbest: 0.8237341 (98)\ttotal: 548ms\tremaining: 537ms\n",
            "101:\ttest: 0.8249870\tbest: 0.8249870 (101)\ttotal: 554ms\tremaining: 532ms\n",
            "102:\ttest: 0.8248368\tbest: 0.8249870 (101)\ttotal: 560ms\tremaining: 527ms\n",
            "103:\ttest: 0.8252670\tbest: 0.8252670 (103)\ttotal: 566ms\tremaining: 522ms\n",
            "104:\ttest: 0.8255060\tbest: 0.8255060 (104)\ttotal: 571ms\tremaining: 517ms\n",
            "105:\ttest: 0.8259088\tbest: 0.8259088 (105)\ttotal: 578ms\tremaining: 512ms\n",
            "106:\ttest: 0.8269740\tbest: 0.8269740 (106)\ttotal: 584ms\tremaining: 507ms\n",
            "107:\ttest: 0.8271106\tbest: 0.8271106 (107)\ttotal: 590ms\tremaining: 502ms\n",
            "108:\ttest: 0.8276227\tbest: 0.8276227 (108)\ttotal: 596ms\tremaining: 498ms\n",
            "109:\ttest: 0.8274861\tbest: 0.8276227 (108)\ttotal: 601ms\tremaining: 492ms\n",
            "110:\ttest: 0.8273086\tbest: 0.8276227 (108)\ttotal: 607ms\tremaining: 486ms\n",
            "111:\ttest: 0.8271789\tbest: 0.8276227 (108)\ttotal: 612ms\tremaining: 481ms\n",
            "112:\ttest: 0.8283533\tbest: 0.8283533 (112)\ttotal: 619ms\tremaining: 477ms\n",
            "113:\ttest: 0.8280870\tbest: 0.8283533 (112)\ttotal: 625ms\tremaining: 472ms\n",
            "114:\ttest: 0.8275408\tbest: 0.8283533 (112)\ttotal: 632ms\tremaining: 467ms\n",
            "115:\ttest: 0.8283328\tbest: 0.8283533 (112)\ttotal: 639ms\tremaining: 463ms\n",
            "116:\ttest: 0.8288518\tbest: 0.8288518 (116)\ttotal: 645ms\tremaining: 458ms\n",
            "117:\ttest: 0.8289952\tbest: 0.8289952 (117)\ttotal: 651ms\tremaining: 452ms\n",
            "118:\ttest: 0.8289952\tbest: 0.8289952 (117)\ttotal: 656ms\tremaining: 447ms\n",
            "119:\ttest: 0.8295960\tbest: 0.8295960 (119)\ttotal: 663ms\tremaining: 442ms\n",
            "120:\ttest: 0.8299648\tbest: 0.8299648 (120)\ttotal: 669ms\tremaining: 437ms\n",
            "121:\ttest: 0.8306134\tbest: 0.8306134 (121)\ttotal: 674ms\tremaining: 431ms\n",
            "122:\ttest: 0.8314192\tbest: 0.8314192 (122)\ttotal: 681ms\tremaining: 426ms\n",
            "123:\ttest: 0.8318152\tbest: 0.8318152 (123)\ttotal: 686ms\tremaining: 421ms\n",
            "124:\ttest: 0.8335427\tbest: 0.8335427 (124)\ttotal: 693ms\tremaining: 416ms\n",
            "125:\ttest: 0.8352020\tbest: 0.8352020 (125)\ttotal: 700ms\tremaining: 411ms\n",
            "126:\ttest: 0.8354478\tbest: 0.8354478 (126)\ttotal: 706ms\tremaining: 406ms\n",
            "127:\ttest: 0.8353863\tbest: 0.8354478 (126)\ttotal: 712ms\tremaining: 401ms\n",
            "128:\ttest: 0.8357755\tbest: 0.8357755 (128)\ttotal: 719ms\tremaining: 396ms\n",
            "129:\ttest: 0.8363355\tbest: 0.8363355 (129)\ttotal: 725ms\tremaining: 390ms\n",
            "130:\ttest: 0.8368476\tbest: 0.8368476 (130)\ttotal: 731ms\tremaining: 385ms\n",
            "131:\ttest: 0.8374348\tbest: 0.8374348 (131)\ttotal: 737ms\tremaining: 380ms\n",
            "132:\ttest: 0.8376465\tbest: 0.8376465 (132)\ttotal: 742ms\tremaining: 374ms\n",
            "133:\ttest: 0.8375509\tbest: 0.8376465 (132)\ttotal: 748ms\tremaining: 369ms\n",
            "134:\ttest: 0.8381040\tbest: 0.8381040 (134)\ttotal: 755ms\tremaining: 363ms\n",
            "135:\ttest: 0.8372231\tbest: 0.8381040 (134)\ttotal: 762ms\tremaining: 358ms\n",
            "136:\ttest: 0.8372504\tbest: 0.8381040 (134)\ttotal: 767ms\tremaining: 353ms\n",
            "137:\ttest: 0.8380971\tbest: 0.8381040 (134)\ttotal: 774ms\tremaining: 348ms\n",
            "138:\ttest: 0.8381654\tbest: 0.8381654 (138)\ttotal: 780ms\tremaining: 342ms\n",
            "139:\ttest: 0.8387185\tbest: 0.8387185 (139)\ttotal: 786ms\tremaining: 337ms\n",
            "140:\ttest: 0.8392716\tbest: 0.8392716 (140)\ttotal: 793ms\tremaining: 332ms\n",
            "141:\ttest: 0.8395310\tbest: 0.8395310 (141)\ttotal: 799ms\tremaining: 326ms\n",
            "142:\ttest: 0.8396744\tbest: 0.8396744 (142)\ttotal: 805ms\tremaining: 321ms\n",
            "143:\ttest: 0.8399612\tbest: 0.8399612 (143)\ttotal: 811ms\tremaining: 315ms\n",
            "144:\ttest: 0.8404255\tbest: 0.8404255 (144)\ttotal: 818ms\tremaining: 310ms\n",
            "145:\ttest: 0.8409240\tbest: 0.8409240 (145)\ttotal: 824ms\tremaining: 305ms\n",
            "146:\ttest: 0.8409786\tbest: 0.8409786 (146)\ttotal: 830ms\tremaining: 299ms\n",
            "147:\ttest: 0.8405962\tbest: 0.8409786 (146)\ttotal: 836ms\tremaining: 294ms\n",
            "148:\ttest: 0.8404938\tbest: 0.8409786 (146)\ttotal: 842ms\tremaining: 288ms\n",
            "149:\ttest: 0.8404802\tbest: 0.8409786 (146)\ttotal: 848ms\tremaining: 283ms\n",
            "150:\ttest: 0.8426105\tbest: 0.8426105 (150)\ttotal: 854ms\tremaining: 277ms\n",
            "151:\ttest: 0.8430680\tbest: 0.8430680 (151)\ttotal: 860ms\tremaining: 272ms\n",
            "152:\ttest: 0.8439557\tbest: 0.8439557 (152)\ttotal: 867ms\tremaining: 266ms\n",
            "153:\ttest: 0.8438806\tbest: 0.8439557 (152)\ttotal: 872ms\tremaining: 261ms\n",
            "154:\ttest: 0.8444542\tbest: 0.8444542 (154)\ttotal: 879ms\tremaining: 255ms\n",
            "155:\ttest: 0.8445771\tbest: 0.8445771 (155)\ttotal: 886ms\tremaining: 250ms\n",
            "156:\ttest: 0.8453486\tbest: 0.8453486 (156)\ttotal: 892ms\tremaining: 244ms\n",
            "157:\ttest: 0.8454306\tbest: 0.8454306 (157)\ttotal: 898ms\tremaining: 239ms\n",
            "158:\ttest: 0.8461202\tbest: 0.8461202 (158)\ttotal: 905ms\tremaining: 233ms\n",
            "159:\ttest: 0.8472878\tbest: 0.8472878 (159)\ttotal: 912ms\tremaining: 228ms\n",
            "160:\ttest: 0.8472947\tbest: 0.8472947 (160)\ttotal: 918ms\tremaining: 222ms\n",
            "161:\ttest: 0.8478068\tbest: 0.8478068 (161)\ttotal: 924ms\tremaining: 217ms\n",
            "162:\ttest: 0.8494524\tbest: 0.8494524 (162)\ttotal: 931ms\tremaining: 211ms\n",
            "163:\ttest: 0.8495480\tbest: 0.8495480 (163)\ttotal: 937ms\tremaining: 206ms\n",
            "164:\ttest: 0.8493704\tbest: 0.8495480 (163)\ttotal: 943ms\tremaining: 200ms\n",
            "165:\ttest: 0.8500737\tbest: 0.8500737 (165)\ttotal: 949ms\tremaining: 194ms\n",
            "166:\ttest: 0.8514189\tbest: 0.8514189 (166)\ttotal: 956ms\tremaining: 189ms\n",
            "167:\ttest: 0.8515008\tbest: 0.8515008 (167)\ttotal: 962ms\tremaining: 183ms\n",
            "168:\ttest: 0.8514735\tbest: 0.8515008 (167)\ttotal: 968ms\tremaining: 178ms\n",
            "169:\ttest: 0.8518422\tbest: 0.8518422 (169)\ttotal: 974ms\tremaining: 172ms\n",
            "170:\ttest: 0.8533376\tbest: 0.8533376 (170)\ttotal: 981ms\tremaining: 166ms\n",
            "171:\ttest: 0.8535015\tbest: 0.8535015 (171)\ttotal: 987ms\tremaining: 161ms\n",
            "172:\ttest: 0.8536312\tbest: 0.8536312 (172)\ttotal: 992ms\tremaining: 155ms\n",
            "173:\ttest: 0.8535561\tbest: 0.8536312 (172)\ttotal: 998ms\tremaining: 149ms\n",
            "174:\ttest: 0.8521427\tbest: 0.8536312 (172)\ttotal: 1s\tremaining: 143ms\n",
            "175:\ttest: 0.8521290\tbest: 0.8536312 (172)\ttotal: 1.01s\tremaining: 138ms\n",
            "176:\ttest: 0.8530099\tbest: 0.8536312 (172)\ttotal: 1.02s\tremaining: 132ms\n",
            "177:\ttest: 0.8532352\tbest: 0.8536312 (172)\ttotal: 1.02s\tremaining: 126ms\n",
            "178:\ttest: 0.8532079\tbest: 0.8536312 (172)\ttotal: 1.03s\tremaining: 121ms\n",
            "179:\ttest: 0.8531191\tbest: 0.8536312 (172)\ttotal: 1.04s\tremaining: 115ms\n",
            "180:\ttest: 0.8534127\tbest: 0.8536312 (172)\ttotal: 1.04s\tremaining: 110ms\n",
            "181:\ttest: 0.8527709\tbest: 0.8536312 (172)\ttotal: 1.05s\tremaining: 104ms\n",
            "182:\ttest: 0.8530918\tbest: 0.8536312 (172)\ttotal: 1.05s\tremaining: 98ms\n",
            "183:\ttest: 0.8524636\tbest: 0.8536312 (172)\ttotal: 1.06s\tremaining: 92.3ms\n",
            "184:\ttest: 0.8529962\tbest: 0.8536312 (172)\ttotal: 1.07s\tremaining: 86.6ms\n",
            "185:\ttest: 0.8530030\tbest: 0.8536312 (172)\ttotal: 1.07s\tremaining: 80.8ms\n",
            "186:\ttest: 0.8532966\tbest: 0.8536312 (172)\ttotal: 1.08s\tremaining: 75.1ms\n",
            "187:\ttest: 0.8539590\tbest: 0.8539590 (187)\ttotal: 1.09s\tremaining: 69.4ms\n",
            "188:\ttest: 0.8537473\tbest: 0.8539590 (187)\ttotal: 1.09s\tremaining: 63.6ms\n",
            "189:\ttest: 0.8535561\tbest: 0.8539590 (187)\ttotal: 1.1s\tremaining: 57.8ms\n",
            "190:\ttest: 0.8537336\tbest: 0.8539590 (187)\ttotal: 1.1s\tremaining: 52.1ms\n",
            "191:\ttest: 0.8537814\tbest: 0.8539590 (187)\ttotal: 1.11s\tremaining: 46.3ms\n",
            "192:\ttest: 0.8541843\tbest: 0.8541843 (192)\ttotal: 1.12s\tremaining: 40.5ms\n",
            "193:\ttest: 0.8552495\tbest: 0.8552495 (193)\ttotal: 1.12s\tremaining: 34.8ms\n",
            "194:\ttest: 0.8552085\tbest: 0.8552495 (193)\ttotal: 1.13s\tremaining: 29ms\n",
            "195:\ttest: 0.8551949\tbest: 0.8552495 (193)\ttotal: 1.14s\tremaining: 23.2ms\n",
            "196:\ttest: 0.8567107\tbest: 0.8567107 (196)\ttotal: 1.14s\tremaining: 17.4ms\n",
            "197:\ttest: 0.8566766\tbest: 0.8567107 (196)\ttotal: 1.15s\tremaining: 11.6ms\n",
            "198:\ttest: 0.8565469\tbest: 0.8567107 (196)\ttotal: 1.15s\tremaining: 5.8ms\n",
            "199:\ttest: 0.8564444\tbest: 0.8567107 (196)\ttotal: 1.16s\tremaining: 0us\n",
            "\n",
            "bestTest = 0.8567107312\n",
            "bestIteration = 196\n",
            "\n",
            "Training on fold [2/5]\n",
            "0:\ttest: 0.6069875\tbest: 0.6069875 (0)\ttotal: 4.41ms\tremaining: 878ms\n",
            "1:\ttest: 0.8002356\tbest: 0.8002356 (1)\ttotal: 13.8ms\tremaining: 1.37s\n",
            "2:\ttest: 0.8052645\tbest: 0.8052645 (2)\ttotal: 19.9ms\tremaining: 1.3s\n",
            "3:\ttest: 0.8112758\tbest: 0.8112758 (3)\ttotal: 27.7ms\tremaining: 1.36s\n",
            "4:\ttest: 0.8142746\tbest: 0.8142746 (4)\ttotal: 36.6ms\tremaining: 1.43s\n",
            "5:\ttest: 0.8170982\tbest: 0.8170982 (5)\ttotal: 44.1ms\tremaining: 1.43s\n",
            "6:\ttest: 0.8214916\tbest: 0.8214916 (6)\ttotal: 49.9ms\tremaining: 1.37s\n",
            "7:\ttest: 0.8246209\tbest: 0.8246209 (7)\ttotal: 56ms\tremaining: 1.34s\n",
            "8:\ttest: 0.8247893\tbest: 0.8247893 (8)\ttotal: 58.9ms\tremaining: 1.25s\n",
            "9:\ttest: 0.8264999\tbest: 0.8264999 (9)\ttotal: 64.6ms\tremaining: 1.23s\n",
            "10:\ttest: 0.8269499\tbest: 0.8269499 (10)\ttotal: 67.3ms\tremaining: 1.16s\n",
            "11:\ttest: 0.8281934\tbest: 0.8281934 (11)\ttotal: 73.1ms\tremaining: 1.15s\n",
            "12:\ttest: 0.8254866\tbest: 0.8281934 (11)\ttotal: 79.3ms\tremaining: 1.14s\n",
            "13:\ttest: 0.8279495\tbest: 0.8281934 (11)\ttotal: 85.5ms\tremaining: 1.14s\n",
            "14:\ttest: 0.8279495\tbest: 0.8281934 (11)\ttotal: 87.5ms\tremaining: 1.08s\n",
            "15:\ttest: 0.8274274\tbest: 0.8281934 (11)\ttotal: 94.3ms\tremaining: 1.08s\n",
            "16:\ttest: 0.8274274\tbest: 0.8281934 (11)\ttotal: 96.5ms\tremaining: 1.04s\n",
            "17:\ttest: 0.8270907\tbest: 0.8281934 (11)\ttotal: 103ms\tremaining: 1.04s\n",
            "18:\ttest: 0.8300071\tbest: 0.8300071 (18)\ttotal: 109ms\tremaining: 1.03s\n",
            "19:\ttest: 0.8295124\tbest: 0.8300071 (18)\ttotal: 115ms\tremaining: 1.03s\n",
            "20:\ttest: 0.8292960\tbest: 0.8300071 (18)\ttotal: 118ms\tremaining: 1.01s\n",
            "21:\ttest: 0.8309792\tbest: 0.8309792 (21)\ttotal: 124ms\tremaining: 1s\n",
            "22:\ttest: 0.8328066\tbest: 0.8328066 (22)\ttotal: 130ms\tremaining: 999ms\n",
            "23:\ttest: 0.8332188\tbest: 0.8332188 (23)\ttotal: 135ms\tremaining: 994ms\n",
            "24:\ttest: 0.8347852\tbest: 0.8347852 (24)\ttotal: 141ms\tremaining: 990ms\n",
            "25:\ttest: 0.8360630\tbest: 0.8360630 (25)\ttotal: 147ms\tremaining: 984ms\n",
            "26:\ttest: 0.8366539\tbest: 0.8366539 (26)\ttotal: 153ms\tremaining: 978ms\n",
            "27:\ttest: 0.8369081\tbest: 0.8369081 (27)\ttotal: 155ms\tremaining: 952ms\n",
            "28:\ttest: 0.8383027\tbest: 0.8383027 (28)\ttotal: 161ms\tremaining: 947ms\n",
            "29:\ttest: 0.8387424\tbest: 0.8387424 (29)\ttotal: 166ms\tremaining: 941ms\n",
            "30:\ttest: 0.8389553\tbest: 0.8389553 (30)\ttotal: 172ms\tremaining: 939ms\n",
            "31:\ttest: 0.8384126\tbest: 0.8389553 (30)\ttotal: 180ms\tremaining: 942ms\n",
            "32:\ttest: 0.8395256\tbest: 0.8395256 (32)\ttotal: 185ms\tremaining: 938ms\n",
            "33:\ttest: 0.8396080\tbest: 0.8396080 (33)\ttotal: 189ms\tremaining: 921ms\n",
            "34:\ttest: 0.8391546\tbest: 0.8396080 (33)\ttotal: 195ms\tremaining: 917ms\n",
            "35:\ttest: 0.8389347\tbest: 0.8396080 (33)\ttotal: 199ms\tremaining: 906ms\n",
            "36:\ttest: 0.8390103\tbest: 0.8396080 (33)\ttotal: 204ms\tremaining: 901ms\n",
            "37:\ttest: 0.8390378\tbest: 0.8396080 (33)\ttotal: 208ms\tremaining: 885ms\n",
            "38:\ttest: 0.8393744\tbest: 0.8396080 (33)\ttotal: 213ms\tremaining: 881ms\n",
            "39:\ttest: 0.8395943\tbest: 0.8396080 (33)\ttotal: 220ms\tremaining: 878ms\n",
            "40:\ttest: 0.8403225\tbest: 0.8403225 (40)\ttotal: 224ms\tremaining: 868ms\n",
            "41:\ttest: 0.8406316\tbest: 0.8406316 (41)\ttotal: 229ms\tremaining: 861ms\n",
            "42:\ttest: 0.8409202\tbest: 0.8409202 (42)\ttotal: 235ms\tremaining: 858ms\n",
            "43:\ttest: 0.8416278\tbest: 0.8416278 (43)\ttotal: 240ms\tremaining: 850ms\n",
            "44:\ttest: 0.8425690\tbest: 0.8425690 (44)\ttotal: 246ms\tremaining: 846ms\n",
            "45:\ttest: 0.8425209\tbest: 0.8425690 (44)\ttotal: 252ms\tremaining: 843ms\n",
            "46:\ttest: 0.8425484\tbest: 0.8425690 (44)\ttotal: 255ms\tremaining: 830ms\n",
            "47:\ttest: 0.8425621\tbest: 0.8425690 (44)\ttotal: 258ms\tremaining: 818ms\n",
            "48:\ttest: 0.8420263\tbest: 0.8425690 (44)\ttotal: 264ms\tremaining: 813ms\n",
            "49:\ttest: 0.8424934\tbest: 0.8425690 (44)\ttotal: 270ms\tremaining: 810ms\n",
            "50:\ttest: 0.8427682\tbest: 0.8427682 (50)\ttotal: 275ms\tremaining: 804ms\n",
            "51:\ttest: 0.8433178\tbest: 0.8433178 (51)\ttotal: 279ms\tremaining: 795ms\n",
            "52:\ttest: 0.8433178\tbest: 0.8433178 (51)\ttotal: 281ms\tremaining: 780ms\n",
            "53:\ttest: 0.8438674\tbest: 0.8438674 (53)\ttotal: 287ms\tremaining: 777ms\n",
            "54:\ttest: 0.8438674\tbest: 0.8438674 (53)\ttotal: 290ms\tremaining: 765ms\n",
            "55:\ttest: 0.8441835\tbest: 0.8441835 (55)\ttotal: 296ms\tremaining: 760ms\n",
            "56:\ttest: 0.8440117\tbest: 0.8441835 (55)\ttotal: 299ms\tremaining: 750ms\n",
            "57:\ttest: 0.8444583\tbest: 0.8444583 (57)\ttotal: 305ms\tremaining: 746ms\n",
            "58:\ttest: 0.8441560\tbest: 0.8444583 (57)\ttotal: 310ms\tremaining: 741ms\n",
            "59:\ttest: 0.8443415\tbest: 0.8444583 (57)\ttotal: 314ms\tremaining: 732ms\n",
            "60:\ttest: 0.8444102\tbest: 0.8444583 (57)\ttotal: 317ms\tremaining: 723ms\n",
            "61:\ttest: 0.8447605\tbest: 0.8447605 (61)\ttotal: 321ms\tremaining: 714ms\n",
            "62:\ttest: 0.8440941\tbest: 0.8447605 (61)\ttotal: 326ms\tremaining: 709ms\n",
            "63:\ttest: 0.8453926\tbest: 0.8453926 (63)\ttotal: 332ms\tremaining: 705ms\n",
            "64:\ttest: 0.8456399\tbest: 0.8456399 (64)\ttotal: 336ms\tremaining: 699ms\n",
            "65:\ttest: 0.8459903\tbest: 0.8459903 (65)\ttotal: 341ms\tremaining: 693ms\n",
            "66:\ttest: 0.8462033\tbest: 0.8462033 (66)\ttotal: 345ms\tremaining: 684ms\n",
            "67:\ttest: 0.8466979\tbest: 0.8466979 (67)\ttotal: 349ms\tremaining: 678ms\n",
            "68:\ttest: 0.8467735\tbest: 0.8467735 (68)\ttotal: 352ms\tremaining: 669ms\n",
            "69:\ttest: 0.8468216\tbest: 0.8468216 (69)\ttotal: 358ms\tremaining: 664ms\n",
            "70:\ttest: 0.8473299\tbest: 0.8473299 (70)\ttotal: 364ms\tremaining: 661ms\n",
            "71:\ttest: 0.8469109\tbest: 0.8473299 (70)\ttotal: 369ms\tremaining: 657ms\n",
            "72:\ttest: 0.8472612\tbest: 0.8473299 (70)\ttotal: 374ms\tremaining: 651ms\n",
            "73:\ttest: 0.8472200\tbest: 0.8473299 (70)\ttotal: 379ms\tremaining: 645ms\n",
            "74:\ttest: 0.8469109\tbest: 0.8473299 (70)\ttotal: 383ms\tremaining: 639ms\n",
            "75:\ttest: 0.8455987\tbest: 0.8473299 (70)\ttotal: 390ms\tremaining: 636ms\n",
            "76:\ttest: 0.8456056\tbest: 0.8473299 (70)\ttotal: 395ms\tremaining: 630ms\n",
            "77:\ttest: 0.8457567\tbest: 0.8473299 (70)\ttotal: 400ms\tremaining: 626ms\n",
            "78:\ttest: 0.8460865\tbest: 0.8473299 (70)\ttotal: 405ms\tremaining: 620ms\n",
            "79:\ttest: 0.8459697\tbest: 0.8473299 (70)\ttotal: 409ms\tremaining: 613ms\n",
            "80:\ttest: 0.8462582\tbest: 0.8473299 (70)\ttotal: 414ms\tremaining: 608ms\n",
            "81:\ttest: 0.8462582\tbest: 0.8473299 (70)\ttotal: 417ms\tremaining: 600ms\n",
            "82:\ttest: 0.8461758\tbest: 0.8473299 (70)\ttotal: 422ms\tremaining: 594ms\n",
            "83:\ttest: 0.8466086\tbest: 0.8473299 (70)\ttotal: 426ms\tremaining: 588ms\n",
            "84:\ttest: 0.8465536\tbest: 0.8473299 (70)\ttotal: 432ms\tremaining: 585ms\n",
            "85:\ttest: 0.8471170\tbest: 0.8473299 (70)\ttotal: 439ms\tremaining: 581ms\n",
            "86:\ttest: 0.8474948\tbest: 0.8474948 (86)\ttotal: 444ms\tremaining: 577ms\n",
            "87:\ttest: 0.8483742\tbest: 0.8483742 (87)\ttotal: 451ms\tremaining: 574ms\n",
            "88:\ttest: 0.8489444\tbest: 0.8489444 (88)\ttotal: 457ms\tremaining: 570ms\n",
            "89:\ttest: 0.8492536\tbest: 0.8492536 (89)\ttotal: 462ms\tremaining: 565ms\n",
            "90:\ttest: 0.8501604\tbest: 0.8501604 (90)\ttotal: 469ms\tremaining: 562ms\n",
            "91:\ttest: 0.8500299\tbest: 0.8501604 (90)\ttotal: 475ms\tremaining: 557ms\n",
            "92:\ttest: 0.8494528\tbest: 0.8501604 (90)\ttotal: 482ms\tremaining: 554ms\n",
            "93:\ttest: 0.8492055\tbest: 0.8501604 (90)\ttotal: 488ms\tremaining: 550ms\n",
            "94:\ttest: 0.8495352\tbest: 0.8501604 (90)\ttotal: 495ms\tremaining: 547ms\n",
            "95:\ttest: 0.8500505\tbest: 0.8501604 (90)\ttotal: 501ms\tremaining: 543ms\n",
            "96:\ttest: 0.8506207\tbest: 0.8506207 (96)\ttotal: 507ms\tremaining: 538ms\n",
            "97:\ttest: 0.8506413\tbest: 0.8506413 (97)\ttotal: 512ms\tremaining: 533ms\n",
            "98:\ttest: 0.8506138\tbest: 0.8506413 (97)\ttotal: 517ms\tremaining: 527ms\n",
            "99:\ttest: 0.8506138\tbest: 0.8506413 (97)\ttotal: 523ms\tremaining: 523ms\n",
            "100:\ttest: 0.8505657\tbest: 0.8506413 (97)\ttotal: 530ms\tremaining: 519ms\n",
            "101:\ttest: 0.8497620\tbest: 0.8506413 (97)\ttotal: 535ms\tremaining: 514ms\n",
            "102:\ttest: 0.8510467\tbest: 0.8510467 (102)\ttotal: 542ms\tremaining: 511ms\n",
            "103:\ttest: 0.8519741\tbest: 0.8519741 (103)\ttotal: 549ms\tremaining: 507ms\n",
            "104:\ttest: 0.8518848\tbest: 0.8519741 (103)\ttotal: 556ms\tremaining: 503ms\n",
            "105:\ttest: 0.8530184\tbest: 0.8530184 (105)\ttotal: 562ms\tremaining: 498ms\n",
            "106:\ttest: 0.8530458\tbest: 0.8530458 (106)\ttotal: 567ms\tremaining: 493ms\n",
            "107:\ttest: 0.8534168\tbest: 0.8534168 (107)\ttotal: 573ms\tremaining: 488ms\n",
            "108:\ttest: 0.8530527\tbest: 0.8534168 (107)\ttotal: 580ms\tremaining: 485ms\n",
            "109:\ttest: 0.8531558\tbest: 0.8534168 (107)\ttotal: 586ms\tremaining: 479ms\n",
            "110:\ttest: 0.8534924\tbest: 0.8534924 (110)\ttotal: 593ms\tremaining: 475ms\n",
            "111:\ttest: 0.8546191\tbest: 0.8546191 (111)\ttotal: 600ms\tremaining: 471ms\n",
            "112:\ttest: 0.8545366\tbest: 0.8546191 (111)\ttotal: 605ms\tremaining: 466ms\n",
            "113:\ttest: 0.8544405\tbest: 0.8546191 (111)\ttotal: 611ms\tremaining: 461ms\n",
            "114:\ttest: 0.8557114\tbest: 0.8557114 (114)\ttotal: 617ms\tremaining: 456ms\n",
            "115:\ttest: 0.8555603\tbest: 0.8557114 (114)\ttotal: 623ms\tremaining: 451ms\n",
            "116:\ttest: 0.8552237\tbest: 0.8557114 (114)\ttotal: 629ms\tremaining: 446ms\n",
            "117:\ttest: 0.8552168\tbest: 0.8557114 (114)\ttotal: 636ms\tremaining: 442ms\n",
            "118:\ttest: 0.8554160\tbest: 0.8557114 (114)\ttotal: 640ms\tremaining: 435ms\n",
            "119:\ttest: 0.8572297\tbest: 0.8572297 (119)\ttotal: 645ms\tremaining: 430ms\n",
            "120:\ttest: 0.8571267\tbest: 0.8572297 (119)\ttotal: 651ms\tremaining: 425ms\n",
            "121:\ttest: 0.8584595\tbest: 0.8584595 (121)\ttotal: 657ms\tremaining: 420ms\n",
            "122:\ttest: 0.8588854\tbest: 0.8588854 (122)\ttotal: 664ms\tremaining: 416ms\n",
            "123:\ttest: 0.8594007\tbest: 0.8594007 (123)\ttotal: 670ms\tremaining: 411ms\n",
            "124:\ttest: 0.8600327\tbest: 0.8600327 (124)\ttotal: 676ms\tremaining: 406ms\n",
            "125:\ttest: 0.8594831\tbest: 0.8600327 (124)\ttotal: 682ms\tremaining: 401ms\n",
            "126:\ttest: 0.8594007\tbest: 0.8600327 (124)\ttotal: 687ms\tremaining: 395ms\n",
            "127:\ttest: 0.8599090\tbest: 0.8600327 (124)\ttotal: 693ms\tremaining: 390ms\n",
            "128:\ttest: 0.8599090\tbest: 0.8600327 (124)\ttotal: 699ms\tremaining: 385ms\n",
            "129:\ttest: 0.8599228\tbest: 0.8600327 (124)\ttotal: 704ms\tremaining: 379ms\n",
            "130:\ttest: 0.8610976\tbest: 0.8610976 (130)\ttotal: 710ms\tremaining: 374ms\n",
            "131:\ttest: 0.8614960\tbest: 0.8614960 (131)\ttotal: 717ms\tremaining: 369ms\n",
            "132:\ttest: 0.8619014\tbest: 0.8619014 (132)\ttotal: 723ms\tremaining: 364ms\n",
            "133:\ttest: 0.8622861\tbest: 0.8622861 (133)\ttotal: 728ms\tremaining: 359ms\n",
            "134:\ttest: 0.8627945\tbest: 0.8627945 (134)\ttotal: 734ms\tremaining: 353ms\n",
            "135:\ttest: 0.8628769\tbest: 0.8628769 (135)\ttotal: 740ms\tremaining: 348ms\n",
            "136:\ttest: 0.8634712\tbest: 0.8634712 (136)\ttotal: 746ms\tremaining: 343ms\n",
            "137:\ttest: 0.8634643\tbest: 0.8634712 (136)\ttotal: 752ms\tremaining: 338ms\n",
            "138:\ttest: 0.8638765\tbest: 0.8638765 (138)\ttotal: 759ms\tremaining: 333ms\n",
            "139:\ttest: 0.8633887\tbest: 0.8638765 (138)\ttotal: 765ms\tremaining: 328ms\n",
            "140:\ttest: 0.8638696\tbest: 0.8638765 (138)\ttotal: 771ms\tremaining: 323ms\n",
            "141:\ttest: 0.8640551\tbest: 0.8640551 (141)\ttotal: 776ms\tremaining: 317ms\n",
            "142:\ttest: 0.8645085\tbest: 0.8645085 (142)\ttotal: 783ms\tremaining: 312ms\n",
            "143:\ttest: 0.8648589\tbest: 0.8648589 (143)\ttotal: 788ms\tremaining: 307ms\n",
            "144:\ttest: 0.8650856\tbest: 0.8650856 (144)\ttotal: 794ms\tremaining: 301ms\n",
            "145:\ttest: 0.8655253\tbest: 0.8655253 (145)\ttotal: 800ms\tremaining: 296ms\n",
            "146:\ttest: 0.8656078\tbest: 0.8656078 (146)\ttotal: 806ms\tremaining: 291ms\n",
            "147:\ttest: 0.8660681\tbest: 0.8660681 (147)\ttotal: 813ms\tremaining: 286ms\n",
            "148:\ttest: 0.8660131\tbest: 0.8660681 (147)\ttotal: 819ms\tremaining: 280ms\n",
            "149:\ttest: 0.8656696\tbest: 0.8660681 (147)\ttotal: 826ms\tremaining: 275ms\n",
            "150:\ttest: 0.8681772\tbest: 0.8681772 (150)\ttotal: 832ms\tremaining: 270ms\n",
            "151:\ttest: 0.8680192\tbest: 0.8681772 (150)\ttotal: 838ms\tremaining: 265ms\n",
            "152:\ttest: 0.8695443\tbest: 0.8695443 (152)\ttotal: 843ms\tremaining: 259ms\n",
            "153:\ttest: 0.8699977\tbest: 0.8699977 (153)\ttotal: 848ms\tremaining: 253ms\n",
            "154:\ttest: 0.8696474\tbest: 0.8699977 (153)\ttotal: 854ms\tremaining: 248ms\n",
            "155:\ttest: 0.8697573\tbest: 0.8699977 (153)\ttotal: 858ms\tremaining: 242ms\n",
            "156:\ttest: 0.8697023\tbest: 0.8699977 (153)\ttotal: 865ms\tremaining: 237ms\n",
            "157:\ttest: 0.8698672\tbest: 0.8699977 (153)\ttotal: 871ms\tremaining: 232ms\n",
            "158:\ttest: 0.8692970\tbest: 0.8699977 (153)\ttotal: 877ms\tremaining: 226ms\n",
            "159:\ttest: 0.8697023\tbest: 0.8699977 (153)\ttotal: 883ms\tremaining: 221ms\n",
            "160:\ttest: 0.8695306\tbest: 0.8699977 (153)\ttotal: 888ms\tremaining: 215ms\n",
            "161:\ttest: 0.8694138\tbest: 0.8699977 (153)\ttotal: 895ms\tremaining: 210ms\n",
            "162:\ttest: 0.8691596\tbest: 0.8699977 (153)\ttotal: 902ms\tremaining: 205ms\n",
            "163:\ttest: 0.8692764\tbest: 0.8699977 (153)\ttotal: 909ms\tremaining: 200ms\n",
            "164:\ttest: 0.8692077\tbest: 0.8699977 (153)\ttotal: 915ms\tremaining: 194ms\n",
            "165:\ttest: 0.8693932\tbest: 0.8699977 (153)\ttotal: 921ms\tremaining: 189ms\n",
            "166:\ttest: 0.8705748\tbest: 0.8705748 (166)\ttotal: 928ms\tremaining: 183ms\n",
            "167:\ttest: 0.8714061\tbest: 0.8714061 (167)\ttotal: 935ms\tremaining: 178ms\n",
            "168:\ttest: 0.8713924\tbest: 0.8714061 (167)\ttotal: 942ms\tremaining: 173ms\n",
            "169:\ttest: 0.8720588\tbest: 0.8720588 (169)\ttotal: 949ms\tremaining: 167ms\n",
            "170:\ttest: 0.8718939\tbest: 0.8720588 (169)\ttotal: 955ms\tremaining: 162ms\n",
            "171:\ttest: 0.8742503\tbest: 0.8742503 (171)\ttotal: 962ms\tremaining: 157ms\n",
            "172:\ttest: 0.8739412\tbest: 0.8742503 (171)\ttotal: 968ms\tremaining: 151ms\n",
            "173:\ttest: 0.8737557\tbest: 0.8742503 (171)\ttotal: 975ms\tremaining: 146ms\n",
            "174:\ttest: 0.8730137\tbest: 0.8742503 (171)\ttotal: 982ms\tremaining: 140ms\n",
            "175:\ttest: 0.8747449\tbest: 0.8747449 (175)\ttotal: 988ms\tremaining: 135ms\n",
            "176:\ttest: 0.8750198\tbest: 0.8750198 (176)\ttotal: 994ms\tremaining: 129ms\n",
            "177:\ttest: 0.8750610\tbest: 0.8750610 (177)\ttotal: 1s\tremaining: 124ms\n",
            "178:\ttest: 0.8750060\tbest: 0.8750610 (177)\ttotal: 1.01s\tremaining: 118ms\n",
            "179:\ttest: 0.8750060\tbest: 0.8750610 (177)\ttotal: 1.01s\tremaining: 113ms\n",
            "180:\ttest: 0.8756312\tbest: 0.8756312 (180)\ttotal: 1.02s\tremaining: 107ms\n",
            "181:\ttest: 0.8755831\tbest: 0.8756312 (180)\ttotal: 1.02s\tremaining: 101ms\n",
            "182:\ttest: 0.8752052\tbest: 0.8756312 (180)\ttotal: 1.03s\tremaining: 95.9ms\n",
            "183:\ttest: 0.8754938\tbest: 0.8756312 (180)\ttotal: 1.04s\tremaining: 90.3ms\n",
            "184:\ttest: 0.8767304\tbest: 0.8767304 (184)\ttotal: 1.04s\tremaining: 84.7ms\n",
            "185:\ttest: 0.8767029\tbest: 0.8767304 (184)\ttotal: 1.05s\tremaining: 79.1ms\n",
            "186:\ttest: 0.8765861\tbest: 0.8767304 (184)\ttotal: 1.06s\tremaining: 73.5ms\n",
            "187:\ttest: 0.8767716\tbest: 0.8767716 (187)\ttotal: 1.06s\tremaining: 67.9ms\n",
            "188:\ttest: 0.8766136\tbest: 0.8767716 (187)\ttotal: 1.07s\tremaining: 62.2ms\n",
            "189:\ttest: 0.8766754\tbest: 0.8767716 (187)\ttotal: 1.07s\tremaining: 56.6ms\n",
            "190:\ttest: 0.8776166\tbest: 0.8776166 (190)\ttotal: 1.08s\tremaining: 51.1ms\n",
            "191:\ttest: 0.8777197\tbest: 0.8777197 (191)\ttotal: 1.09s\tremaining: 45.4ms\n",
            "192:\ttest: 0.8777540\tbest: 0.8777540 (192)\ttotal: 1.1s\tremaining: 39.8ms\n",
            "193:\ttest: 0.8778433\tbest: 0.8778433 (193)\ttotal: 1.1s\tremaining: 34.2ms\n",
            "194:\ttest: 0.8777334\tbest: 0.8778433 (193)\ttotal: 1.11s\tremaining: 28.5ms\n",
            "195:\ttest: 0.8776853\tbest: 0.8778433 (193)\ttotal: 1.11s\tremaining: 22.8ms\n",
            "196:\ttest: 0.8778090\tbest: 0.8778433 (193)\ttotal: 1.12s\tremaining: 17.1ms\n",
            "197:\ttest: 0.8771770\tbest: 0.8778433 (193)\ttotal: 1.13s\tremaining: 11.4ms\n",
            "198:\ttest: 0.8772594\tbest: 0.8778433 (193)\ttotal: 1.13s\tremaining: 5.7ms\n",
            "199:\ttest: 0.8781800\tbest: 0.8781800 (199)\ttotal: 1.14s\tremaining: 0us\n",
            "\n",
            "bestTest = 0.878179982\n",
            "bestIteration = 199\n",
            "\n",
            "Training on fold [3/5]\n",
            "0:\ttest: 0.5850205\tbest: 0.5850205 (0)\ttotal: 4.13ms\tremaining: 821ms\n",
            "1:\ttest: 0.7646178\tbest: 0.7646178 (1)\ttotal: 10.8ms\tremaining: 1.07s\n",
            "2:\ttest: 0.7494212\tbest: 0.7646178 (1)\ttotal: 13.9ms\tremaining: 914ms\n",
            "3:\ttest: 0.7736897\tbest: 0.7736897 (3)\ttotal: 20.8ms\tremaining: 1.02s\n",
            "4:\ttest: 0.7722195\tbest: 0.7736897 (3)\ttotal: 23.6ms\tremaining: 922ms\n",
            "5:\ttest: 0.7781278\tbest: 0.7781278 (5)\ttotal: 30.6ms\tremaining: 988ms\n",
            "6:\ttest: 0.7882714\tbest: 0.7882714 (6)\ttotal: 36.4ms\tremaining: 1s\n",
            "7:\ttest: 0.7920293\tbest: 0.7920293 (7)\ttotal: 42.2ms\tremaining: 1.01s\n",
            "8:\ttest: 0.8039867\tbest: 0.8039867 (8)\ttotal: 45.8ms\tremaining: 971ms\n",
            "9:\ttest: 0.8056733\tbest: 0.8056733 (9)\ttotal: 51.7ms\tremaining: 983ms\n",
            "10:\ttest: 0.8130311\tbest: 0.8130311 (10)\ttotal: 57.1ms\tremaining: 981ms\n",
            "11:\ttest: 0.8155834\tbest: 0.8155834 (11)\ttotal: 63.8ms\tremaining: 999ms\n",
            "12:\ttest: 0.8219382\tbest: 0.8219382 (12)\ttotal: 70.3ms\tremaining: 1.01s\n",
            "13:\ttest: 0.8235183\tbest: 0.8235183 (13)\ttotal: 76.7ms\tremaining: 1.02s\n",
            "14:\ttest: 0.8242534\tbest: 0.8242534 (14)\ttotal: 82.3ms\tremaining: 1.01s\n",
            "15:\ttest: 0.8268778\tbest: 0.8268778 (15)\ttotal: 87.9ms\tremaining: 1.01s\n",
            "16:\ttest: 0.8290487\tbest: 0.8290487 (16)\ttotal: 94ms\tremaining: 1.01s\n",
            "17:\ttest: 0.8282793\tbest: 0.8290487 (16)\ttotal: 100ms\tremaining: 1.01s\n",
            "18:\ttest: 0.8284682\tbest: 0.8290487 (16)\ttotal: 106ms\tremaining: 1.01s\n",
            "19:\ttest: 0.8281178\tbest: 0.8290487 (16)\ttotal: 111ms\tremaining: 1s\n",
            "20:\ttest: 0.8289697\tbest: 0.8290487 (16)\ttotal: 118ms\tremaining: 1s\n",
            "21:\ttest: 0.8285094\tbest: 0.8290487 (16)\ttotal: 123ms\tremaining: 995ms\n",
            "22:\ttest: 0.8310032\tbest: 0.8310032 (22)\ttotal: 128ms\tremaining: 985ms\n",
            "23:\ttest: 0.8303712\tbest: 0.8310032 (22)\ttotal: 135ms\tremaining: 988ms\n",
            "24:\ttest: 0.8305017\tbest: 0.8310032 (22)\ttotal: 138ms\tremaining: 968ms\n",
            "25:\ttest: 0.8311784\tbest: 0.8311784 (25)\ttotal: 145ms\tremaining: 969ms\n",
            "26:\ttest: 0.8308830\tbest: 0.8311784 (25)\ttotal: 150ms\tremaining: 963ms\n",
            "27:\ttest: 0.8305326\tbest: 0.8311784 (25)\ttotal: 156ms\tremaining: 959ms\n",
            "28:\ttest: 0.8308864\tbest: 0.8311784 (25)\ttotal: 162ms\tremaining: 955ms\n",
            "29:\ttest: 0.8307628\tbest: 0.8311784 (25)\ttotal: 168ms\tremaining: 954ms\n",
            "30:\ttest: 0.8304880\tbest: 0.8311784 (25)\ttotal: 175ms\tremaining: 954ms\n",
            "31:\ttest: 0.8312299\tbest: 0.8312299 (31)\ttotal: 178ms\tremaining: 936ms\n",
            "32:\ttest: 0.8313811\tbest: 0.8313811 (32)\ttotal: 182ms\tremaining: 922ms\n",
            "33:\ttest: 0.8323429\tbest: 0.8323429 (33)\ttotal: 188ms\tremaining: 917ms\n",
            "34:\ttest: 0.8325353\tbest: 0.8325353 (34)\ttotal: 194ms\tremaining: 916ms\n",
            "35:\ttest: 0.8325353\tbest: 0.8325353 (34)\ttotal: 197ms\tremaining: 895ms\n",
            "36:\ttest: 0.8323154\tbest: 0.8325353 (34)\ttotal: 203ms\tremaining: 892ms\n",
            "37:\ttest: 0.8322055\tbest: 0.8325353 (34)\ttotal: 208ms\tremaining: 888ms\n",
            "38:\ttest: 0.8334833\tbest: 0.8334833 (38)\ttotal: 214ms\tremaining: 883ms\n",
            "39:\ttest: 0.8330780\tbest: 0.8334833 (38)\ttotal: 220ms\tremaining: 882ms\n",
            "40:\ttest: 0.8322192\tbest: 0.8334833 (38)\ttotal: 226ms\tremaining: 878ms\n",
            "41:\ttest: 0.8322948\tbest: 0.8334833 (38)\ttotal: 233ms\tremaining: 876ms\n",
            "42:\ttest: 0.8313055\tbest: 0.8334833 (38)\ttotal: 238ms\tremaining: 870ms\n",
            "43:\ttest: 0.8323326\tbest: 0.8334833 (38)\ttotal: 244ms\tremaining: 866ms\n",
            "44:\ttest: 0.8325868\tbest: 0.8334833 (38)\ttotal: 250ms\tremaining: 861ms\n",
            "45:\ttest: 0.8325868\tbest: 0.8334833 (38)\ttotal: 253ms\tremaining: 847ms\n",
            "46:\ttest: 0.8325318\tbest: 0.8334833 (38)\ttotal: 259ms\tremaining: 843ms\n",
            "47:\ttest: 0.8325181\tbest: 0.8334833 (38)\ttotal: 265ms\tremaining: 839ms\n",
            "48:\ttest: 0.8323738\tbest: 0.8334833 (38)\ttotal: 270ms\tremaining: 834ms\n",
            "49:\ttest: 0.8317280\tbest: 0.8334833 (38)\ttotal: 277ms\tremaining: 830ms\n",
            "50:\ttest: 0.8318448\tbest: 0.8334833 (38)\ttotal: 280ms\tremaining: 819ms\n",
            "51:\ttest: 0.8320303\tbest: 0.8334833 (38)\ttotal: 285ms\tremaining: 810ms\n",
            "52:\ttest: 0.8322605\tbest: 0.8334833 (38)\ttotal: 291ms\tremaining: 806ms\n",
            "53:\ttest: 0.8321299\tbest: 0.8334833 (38)\ttotal: 294ms\tremaining: 796ms\n",
            "54:\ttest: 0.8327414\tbest: 0.8334833 (38)\ttotal: 300ms\tremaining: 791ms\n",
            "55:\ttest: 0.8330849\tbest: 0.8334833 (38)\ttotal: 304ms\tremaining: 783ms\n",
            "56:\ttest: 0.8330849\tbest: 0.8334833 (38)\ttotal: 306ms\tremaining: 768ms\n",
            "57:\ttest: 0.8327345\tbest: 0.8334833 (38)\ttotal: 313ms\tremaining: 766ms\n",
            "58:\ttest: 0.8327345\tbest: 0.8334833 (38)\ttotal: 315ms\tremaining: 754ms\n",
            "59:\ttest: 0.8331810\tbest: 0.8334833 (38)\ttotal: 321ms\tremaining: 749ms\n",
            "60:\ttest: 0.8332085\tbest: 0.8334833 (38)\ttotal: 328ms\tremaining: 747ms\n",
            "61:\ttest: 0.8327826\tbest: 0.8334833 (38)\ttotal: 334ms\tremaining: 743ms\n",
            "62:\ttest: 0.8330162\tbest: 0.8334833 (38)\ttotal: 340ms\tremaining: 740ms\n",
            "63:\ttest: 0.8324940\tbest: 0.8334833 (38)\ttotal: 347ms\tremaining: 737ms\n",
            "64:\ttest: 0.8324940\tbest: 0.8334833 (38)\ttotal: 350ms\tremaining: 727ms\n",
            "65:\ttest: 0.8323704\tbest: 0.8334833 (38)\ttotal: 357ms\tremaining: 724ms\n",
            "66:\ttest: 0.8321711\tbest: 0.8334833 (38)\ttotal: 362ms\tremaining: 718ms\n",
            "67:\ttest: 0.8324528\tbest: 0.8334833 (38)\ttotal: 367ms\tremaining: 713ms\n",
            "68:\ttest: 0.8325971\tbest: 0.8334833 (38)\ttotal: 373ms\tremaining: 708ms\n",
            "69:\ttest: 0.8324459\tbest: 0.8334833 (38)\ttotal: 377ms\tremaining: 701ms\n",
            "70:\ttest: 0.8330574\tbest: 0.8334833 (38)\ttotal: 381ms\tremaining: 692ms\n",
            "71:\ttest: 0.8334558\tbest: 0.8334833 (38)\ttotal: 386ms\tremaining: 687ms\n",
            "72:\ttest: 0.8334833\tbest: 0.8334833 (38)\ttotal: 392ms\tremaining: 682ms\n",
            "73:\ttest: 0.8330368\tbest: 0.8334833 (38)\ttotal: 397ms\tremaining: 677ms\n",
            "74:\ttest: 0.8325971\tbest: 0.8334833 (38)\ttotal: 403ms\tremaining: 671ms\n",
            "75:\ttest: 0.8340879\tbest: 0.8340879 (75)\ttotal: 406ms\tremaining: 663ms\n",
            "76:\ttest: 0.8340879\tbest: 0.8340879 (75)\ttotal: 410ms\tremaining: 655ms\n",
            "77:\ttest: 0.8333734\tbest: 0.8340879 (75)\ttotal: 416ms\tremaining: 650ms\n",
            "78:\ttest: 0.8340879\tbest: 0.8340879 (75)\ttotal: 422ms\tremaining: 647ms\n",
            "79:\ttest: 0.8343764\tbest: 0.8343764 (79)\ttotal: 428ms\tremaining: 642ms\n",
            "80:\ttest: 0.8346719\tbest: 0.8346719 (80)\ttotal: 434ms\tremaining: 638ms\n",
            "81:\ttest: 0.8340329\tbest: 0.8346719 (80)\ttotal: 440ms\tremaining: 634ms\n",
            "82:\ttest: 0.8340810\tbest: 0.8346719 (80)\ttotal: 446ms\tremaining: 629ms\n",
            "83:\ttest: 0.8337169\tbest: 0.8346719 (80)\ttotal: 453ms\tremaining: 625ms\n",
            "84:\ttest: 0.8337719\tbest: 0.8346719 (80)\ttotal: 458ms\tremaining: 620ms\n",
            "85:\ttest: 0.8344383\tbest: 0.8346719 (80)\ttotal: 464ms\tremaining: 616ms\n",
            "86:\ttest: 0.8344039\tbest: 0.8346719 (80)\ttotal: 470ms\tremaining: 610ms\n",
            "87:\ttest: 0.8339024\tbest: 0.8346719 (80)\ttotal: 476ms\tremaining: 606ms\n",
            "88:\ttest: 0.8342047\tbest: 0.8346719 (80)\ttotal: 482ms\tremaining: 601ms\n",
            "89:\ttest: 0.8345138\tbest: 0.8346719 (80)\ttotal: 487ms\tremaining: 596ms\n",
            "90:\ttest: 0.8347818\tbest: 0.8347818 (90)\ttotal: 494ms\tremaining: 591ms\n",
            "91:\ttest: 0.8351734\tbest: 0.8351734 (91)\ttotal: 500ms\tremaining: 587ms\n",
            "92:\ttest: 0.8361146\tbest: 0.8361146 (92)\ttotal: 506ms\tremaining: 583ms\n",
            "93:\ttest: 0.8364581\tbest: 0.8364581 (93)\ttotal: 512ms\tremaining: 578ms\n",
            "94:\ttest: 0.8366642\tbest: 0.8366642 (94)\ttotal: 518ms\tremaining: 572ms\n",
            "95:\ttest: 0.8372893\tbest: 0.8372893 (95)\ttotal: 524ms\tremaining: 567ms\n",
            "96:\ttest: 0.8373787\tbest: 0.8373787 (96)\ttotal: 532ms\tremaining: 564ms\n",
            "97:\ttest: 0.8376672\tbest: 0.8376672 (97)\ttotal: 539ms\tremaining: 561ms\n",
            "98:\ttest: 0.8372756\tbest: 0.8376672 (97)\ttotal: 546ms\tremaining: 557ms\n",
            "99:\ttest: 0.8375848\tbest: 0.8376672 (97)\ttotal: 553ms\tremaining: 553ms\n",
            "100:\ttest: 0.8391408\tbest: 0.8391408 (100)\ttotal: 560ms\tremaining: 548ms\n",
            "101:\ttest: 0.8399652\tbest: 0.8399652 (101)\ttotal: 568ms\tremaining: 545ms\n",
            "102:\ttest: 0.8399858\tbest: 0.8399858 (102)\ttotal: 573ms\tremaining: 540ms\n",
            "103:\ttest: 0.8400649\tbest: 0.8400649 (103)\ttotal: 581ms\tremaining: 536ms\n",
            "104:\ttest: 0.8417824\tbest: 0.8417824 (104)\ttotal: 588ms\tremaining: 532ms\n",
            "105:\ttest: 0.8425106\tbest: 0.8425106 (105)\ttotal: 594ms\tremaining: 527ms\n",
            "106:\ttest: 0.8426411\tbest: 0.8426411 (106)\ttotal: 601ms\tremaining: 523ms\n",
            "107:\ttest: 0.8424144\tbest: 0.8426411 (106)\ttotal: 608ms\tremaining: 518ms\n",
            "108:\ttest: 0.8424969\tbest: 0.8426411 (106)\ttotal: 615ms\tremaining: 513ms\n",
            "109:\ttest: 0.8426823\tbest: 0.8426823 (109)\ttotal: 622ms\tremaining: 509ms\n",
            "110:\ttest: 0.8427236\tbest: 0.8427236 (110)\ttotal: 630ms\tremaining: 505ms\n",
            "111:\ttest: 0.8430396\tbest: 0.8430396 (111)\ttotal: 637ms\tremaining: 500ms\n",
            "112:\ttest: 0.8429297\tbest: 0.8430396 (111)\ttotal: 643ms\tremaining: 495ms\n",
            "113:\ttest: 0.8447021\tbest: 0.8447021 (113)\ttotal: 650ms\tremaining: 491ms\n",
            "114:\ttest: 0.8466326\tbest: 0.8466326 (114)\ttotal: 657ms\tremaining: 486ms\n",
            "115:\ttest: 0.8475464\tbest: 0.8475464 (115)\ttotal: 663ms\tremaining: 480ms\n",
            "116:\ttest: 0.8504180\tbest: 0.8504180 (116)\ttotal: 670ms\tremaining: 475ms\n",
            "117:\ttest: 0.8505417\tbest: 0.8505417 (117)\ttotal: 676ms\tremaining: 470ms\n",
            "118:\ttest: 0.8515791\tbest: 0.8515791 (118)\ttotal: 683ms\tremaining: 465ms\n",
            "119:\ttest: 0.8541760\tbest: 0.8541760 (119)\ttotal: 689ms\tremaining: 460ms\n",
            "120:\ttest: 0.8538325\tbest: 0.8541760 (119)\ttotal: 696ms\tremaining: 454ms\n",
            "121:\ttest: 0.8538668\tbest: 0.8541760 (119)\ttotal: 702ms\tremaining: 449ms\n",
            "122:\ttest: 0.8535989\tbest: 0.8541760 (119)\ttotal: 709ms\tremaining: 444ms\n",
            "123:\ttest: 0.8535233\tbest: 0.8541760 (119)\ttotal: 715ms\tremaining: 438ms\n",
            "124:\ttest: 0.8534546\tbest: 0.8541760 (119)\ttotal: 721ms\tremaining: 433ms\n",
            "125:\ttest: 0.8535371\tbest: 0.8541760 (119)\ttotal: 728ms\tremaining: 427ms\n",
            "126:\ttest: 0.8543065\tbest: 0.8543065 (126)\ttotal: 734ms\tremaining: 422ms\n",
            "127:\ttest: 0.8544714\tbest: 0.8544714 (127)\ttotal: 740ms\tremaining: 416ms\n",
            "128:\ttest: 0.8555294\tbest: 0.8555294 (128)\ttotal: 746ms\tremaining: 411ms\n",
            "129:\ttest: 0.8548011\tbest: 0.8555294 (128)\ttotal: 752ms\tremaining: 405ms\n",
            "130:\ttest: 0.8552958\tbest: 0.8555294 (128)\ttotal: 758ms\tremaining: 399ms\n",
            "131:\ttest: 0.8552202\tbest: 0.8555294 (128)\ttotal: 764ms\tremaining: 393ms\n",
            "132:\ttest: 0.8564706\tbest: 0.8564706 (132)\ttotal: 770ms\tremaining: 388ms\n",
            "133:\ttest: 0.8567660\tbest: 0.8567660 (133)\ttotal: 776ms\tremaining: 382ms\n",
            "134:\ttest: 0.8568003\tbest: 0.8568003 (134)\ttotal: 783ms\tremaining: 377ms\n",
            "135:\ttest: 0.8567866\tbest: 0.8568003 (134)\ttotal: 789ms\tremaining: 371ms\n",
            "136:\ttest: 0.8577965\tbest: 0.8577965 (136)\ttotal: 796ms\tremaining: 366ms\n",
            "137:\ttest: 0.8578171\tbest: 0.8578171 (137)\ttotal: 802ms\tremaining: 360ms\n",
            "138:\ttest: 0.8585797\tbest: 0.8585797 (138)\ttotal: 808ms\tremaining: 355ms\n",
            "139:\ttest: 0.8593835\tbest: 0.8593835 (139)\ttotal: 815ms\tremaining: 349ms\n",
            "140:\ttest: 0.8606888\tbest: 0.8606888 (140)\ttotal: 822ms\tremaining: 344ms\n",
            "141:\ttest: 0.8617124\tbest: 0.8617124 (141)\ttotal: 828ms\tremaining: 338ms\n",
            "142:\ttest: 0.8616850\tbest: 0.8617124 (141)\ttotal: 835ms\tremaining: 333ms\n",
            "143:\ttest: 0.8627017\tbest: 0.8627017 (143)\ttotal: 841ms\tremaining: 327ms\n",
            "144:\ttest: 0.8627498\tbest: 0.8627498 (144)\ttotal: 847ms\tremaining: 321ms\n",
            "145:\ttest: 0.8640414\tbest: 0.8640414 (145)\ttotal: 853ms\tremaining: 315ms\n",
            "146:\ttest: 0.8636429\tbest: 0.8640414 (145)\ttotal: 859ms\tremaining: 310ms\n",
            "147:\ttest: 0.8640208\tbest: 0.8640414 (145)\ttotal: 865ms\tremaining: 304ms\n",
            "148:\ttest: 0.8650169\tbest: 0.8650169 (148)\ttotal: 873ms\tremaining: 299ms\n",
            "149:\ttest: 0.8650307\tbest: 0.8650307 (149)\ttotal: 879ms\tremaining: 293ms\n",
            "150:\ttest: 0.8652024\tbest: 0.8652024 (150)\ttotal: 889ms\tremaining: 288ms\n",
            "151:\ttest: 0.8656009\tbest: 0.8656009 (151)\ttotal: 896ms\tremaining: 283ms\n",
            "152:\ttest: 0.8654360\tbest: 0.8656009 (151)\ttotal: 902ms\tremaining: 277ms\n",
            "153:\ttest: 0.8666864\tbest: 0.8666864 (153)\ttotal: 908ms\tremaining: 271ms\n",
            "154:\ttest: 0.8675108\tbest: 0.8675108 (154)\ttotal: 917ms\tremaining: 266ms\n",
            "155:\ttest: 0.8671329\tbest: 0.8675108 (154)\ttotal: 923ms\tremaining: 260ms\n",
            "156:\ttest: 0.8684520\tbest: 0.8684520 (156)\ttotal: 931ms\tremaining: 255ms\n",
            "157:\ttest: 0.8686031\tbest: 0.8686031 (157)\ttotal: 937ms\tremaining: 249ms\n",
            "158:\ttest: 0.8696336\tbest: 0.8696336 (158)\ttotal: 943ms\tremaining: 243ms\n",
            "159:\ttest: 0.8707053\tbest: 0.8707053 (159)\ttotal: 949ms\tremaining: 237ms\n",
            "160:\ttest: 0.8712000\tbest: 0.8712000 (160)\ttotal: 955ms\tremaining: 231ms\n",
            "161:\ttest: 0.8716878\tbest: 0.8716878 (161)\ttotal: 960ms\tremaining: 225ms\n",
            "162:\ttest: 0.8719145\tbest: 0.8719145 (162)\ttotal: 967ms\tremaining: 220ms\n",
            "163:\ttest: 0.8725053\tbest: 0.8725053 (163)\ttotal: 974ms\tremaining: 214ms\n",
            "164:\ttest: 0.8731717\tbest: 0.8731717 (164)\ttotal: 980ms\tremaining: 208ms\n",
            "165:\ttest: 0.8731305\tbest: 0.8731717 (164)\ttotal: 985ms\tremaining: 202ms\n",
            "166:\ttest: 0.8731511\tbest: 0.8731717 (164)\ttotal: 990ms\tremaining: 196ms\n",
            "167:\ttest: 0.8733228\tbest: 0.8733228 (167)\ttotal: 996ms\tremaining: 190ms\n",
            "168:\ttest: 0.8735633\tbest: 0.8735633 (168)\ttotal: 1s\tremaining: 184ms\n",
            "169:\ttest: 0.8746694\tbest: 0.8746694 (169)\ttotal: 1.01s\tremaining: 178ms\n",
            "170:\ttest: 0.8752190\tbest: 0.8752190 (170)\ttotal: 1.01s\tremaining: 172ms\n",
            "171:\ttest: 0.8752259\tbest: 0.8752259 (171)\ttotal: 1.02s\tremaining: 166ms\n",
            "172:\ttest: 0.8758442\tbest: 0.8758442 (172)\ttotal: 1.03s\tremaining: 160ms\n",
            "173:\ttest: 0.8761945\tbest: 0.8761945 (173)\ttotal: 1.03s\tremaining: 155ms\n",
            "174:\ttest: 0.8774724\tbest: 0.8774724 (174)\ttotal: 1.04s\tremaining: 149ms\n",
            "175:\ttest: 0.8773487\tbest: 0.8774724 (174)\ttotal: 1.05s\tremaining: 143ms\n",
            "176:\ttest: 0.8770396\tbest: 0.8774724 (174)\ttotal: 1.05s\tremaining: 137ms\n",
            "177:\ttest: 0.8773624\tbest: 0.8774724 (174)\ttotal: 1.06s\tremaining: 131ms\n",
            "178:\ttest: 0.8773075\tbest: 0.8774724 (174)\ttotal: 1.06s\tremaining: 125ms\n",
            "179:\ttest: 0.8774174\tbest: 0.8774724 (174)\ttotal: 1.07s\tremaining: 119ms\n",
            "180:\ttest: 0.8779601\tbest: 0.8779601 (180)\ttotal: 1.08s\tremaining: 113ms\n",
            "181:\ttest: 0.8781662\tbest: 0.8781662 (181)\ttotal: 1.08s\tremaining: 107ms\n",
            "182:\ttest: 0.8782487\tbest: 0.8782487 (182)\ttotal: 1.09s\tremaining: 101ms\n",
            "183:\ttest: 0.8787433\tbest: 0.8787433 (183)\ttotal: 1.1s\tremaining: 95.3ms\n",
            "184:\ttest: 0.8794166\tbest: 0.8794166 (184)\ttotal: 1.1s\tremaining: 89.4ms\n",
            "185:\ttest: 0.8797807\tbest: 0.8797807 (185)\ttotal: 1.11s\tremaining: 83.5ms\n",
            "186:\ttest: 0.8799387\tbest: 0.8799387 (186)\ttotal: 1.11s\tremaining: 77.5ms\n",
            "187:\ttest: 0.8799044\tbest: 0.8799387 (186)\ttotal: 1.12s\tremaining: 71.5ms\n",
            "188:\ttest: 0.8800280\tbest: 0.8800280 (188)\ttotal: 1.13s\tremaining: 65.5ms\n",
            "189:\ttest: 0.8803303\tbest: 0.8803303 (189)\ttotal: 1.13s\tremaining: 59.5ms\n",
            "190:\ttest: 0.8809692\tbest: 0.8809692 (190)\ttotal: 1.14s\tremaining: 53.6ms\n",
            "191:\ttest: 0.8809761\tbest: 0.8809761 (191)\ttotal: 1.14s\tremaining: 47.7ms\n",
            "192:\ttest: 0.8813540\tbest: 0.8813540 (192)\ttotal: 1.15s\tremaining: 41.7ms\n",
            "193:\ttest: 0.8813471\tbest: 0.8813540 (192)\ttotal: 1.16s\tremaining: 35.7ms\n",
            "194:\ttest: 0.8811341\tbest: 0.8813540 (192)\ttotal: 1.16s\tremaining: 29.8ms\n",
            "195:\ttest: 0.8813746\tbest: 0.8813746 (195)\ttotal: 1.17s\tremaining: 23.9ms\n",
            "196:\ttest: 0.8813333\tbest: 0.8813746 (195)\ttotal: 1.18s\tremaining: 17.9ms\n",
            "197:\ttest: 0.8815051\tbest: 0.8815051 (197)\ttotal: 1.18s\tremaining: 12ms\n",
            "198:\ttest: 0.8817455\tbest: 0.8817455 (198)\ttotal: 1.19s\tremaining: 5.98ms\n",
            "199:\ttest: 0.8816906\tbest: 0.8817455 (198)\ttotal: 1.2s\tremaining: 0us\n",
            "\n",
            "bestTest = 0.8817455465\n",
            "bestIteration = 198\n",
            "\n",
            "Training on fold [4/5]\n",
            "0:\ttest: 0.6289924\tbest: 0.6289924 (0)\ttotal: 3.94ms\tremaining: 785ms\n",
            "1:\ttest: 0.8017161\tbest: 0.8017161 (1)\ttotal: 10.5ms\tremaining: 1.04s\n",
            "2:\ttest: 0.8305052\tbest: 0.8305052 (2)\ttotal: 17.4ms\tremaining: 1.15s\n",
            "3:\ttest: 0.8264965\tbest: 0.8305052 (2)\ttotal: 22.2ms\tremaining: 1.09s\n",
            "4:\ttest: 0.8159956\tbest: 0.8305052 (2)\ttotal: 25.5ms\tremaining: 996ms\n",
            "5:\ttest: 0.8348264\tbest: 0.8348264 (5)\ttotal: 32.1ms\tremaining: 1.04s\n",
            "6:\ttest: 0.8438434\tbest: 0.8438434 (6)\ttotal: 38.4ms\tremaining: 1.06s\n",
            "7:\ttest: 0.8477696\tbest: 0.8477696 (7)\ttotal: 43.8ms\tremaining: 1.05s\n",
            "8:\ttest: 0.8482986\tbest: 0.8482986 (8)\ttotal: 49.8ms\tremaining: 1.06s\n",
            "9:\ttest: 0.8487658\tbest: 0.8487658 (9)\ttotal: 52.4ms\tremaining: 995ms\n",
            "10:\ttest: 0.8494631\tbest: 0.8494631 (10)\ttotal: 58.6ms\tremaining: 1.01s\n",
            "11:\ttest: 0.8480341\tbest: 0.8494631 (10)\ttotal: 64.6ms\tremaining: 1.01s\n",
            "12:\ttest: 0.8527813\tbest: 0.8527813 (12)\ttotal: 70.6ms\tremaining: 1.01s\n",
            "13:\ttest: 0.8519020\tbest: 0.8527813 (12)\ttotal: 76.4ms\tremaining: 1.01s\n",
            "14:\ttest: 0.8540317\tbest: 0.8540317 (14)\ttotal: 82.2ms\tremaining: 1.01s\n",
            "15:\ttest: 0.8555672\tbest: 0.8555672 (15)\ttotal: 88ms\tremaining: 1.01s\n",
            "16:\ttest: 0.8560893\tbest: 0.8560893 (16)\ttotal: 90.8ms\tremaining: 977ms\n",
            "17:\ttest: 0.8551756\tbest: 0.8560893 (16)\ttotal: 96.8ms\tremaining: 979ms\n",
            "18:\ttest: 0.8553473\tbest: 0.8560893 (16)\ttotal: 102ms\tremaining: 972ms\n",
            "19:\ttest: 0.8553473\tbest: 0.8560893 (16)\ttotal: 107ms\tremaining: 965ms\n",
            "20:\ttest: 0.8555053\tbest: 0.8560893 (16)\ttotal: 113ms\tremaining: 964ms\n",
            "21:\ttest: 0.8551927\tbest: 0.8560893 (16)\ttotal: 119ms\tremaining: 960ms\n",
            "22:\ttest: 0.8552992\tbest: 0.8560893 (16)\ttotal: 122ms\tremaining: 937ms\n",
            "23:\ttest: 0.8549420\tbest: 0.8560893 (16)\ttotal: 128ms\tremaining: 939ms\n",
            "24:\ttest: 0.8551824\tbest: 0.8560893 (16)\ttotal: 134ms\tremaining: 936ms\n",
            "25:\ttest: 0.8545573\tbest: 0.8560893 (16)\ttotal: 139ms\tremaining: 933ms\n",
            "26:\ttest: 0.8534512\tbest: 0.8560893 (16)\ttotal: 145ms\tremaining: 928ms\n",
            "27:\ttest: 0.8537260\tbest: 0.8560893 (16)\ttotal: 150ms\tremaining: 923ms\n",
            "28:\ttest: 0.8551069\tbest: 0.8560893 (16)\ttotal: 154ms\tremaining: 906ms\n",
            "29:\ttest: 0.8554710\tbest: 0.8560893 (16)\ttotal: 160ms\tremaining: 904ms\n",
            "30:\ttest: 0.8551069\tbest: 0.8560893 (16)\ttotal: 165ms\tremaining: 900ms\n",
            "31:\ttest: 0.8546809\tbest: 0.8560893 (16)\ttotal: 169ms\tremaining: 888ms\n",
            "32:\ttest: 0.8550794\tbest: 0.8560893 (16)\ttotal: 174ms\tremaining: 879ms\n",
            "33:\ttest: 0.8543786\tbest: 0.8560893 (16)\ttotal: 180ms\tremaining: 879ms\n",
            "34:\ttest: 0.8538840\tbest: 0.8560893 (16)\ttotal: 186ms\tremaining: 879ms\n",
            "35:\ttest: 0.8540901\tbest: 0.8560893 (16)\ttotal: 191ms\tremaining: 868ms\n",
            "36:\ttest: 0.8541313\tbest: 0.8560893 (16)\ttotal: 193ms\tremaining: 850ms\n",
            "37:\ttest: 0.8539939\tbest: 0.8560893 (16)\ttotal: 199ms\tremaining: 847ms\n",
            "38:\ttest: 0.8536367\tbest: 0.8560893 (16)\ttotal: 204ms\tremaining: 842ms\n",
            "39:\ttest: 0.8533069\tbest: 0.8560893 (16)\ttotal: 210ms\tremaining: 839ms\n",
            "40:\ttest: 0.8534924\tbest: 0.8560893 (16)\ttotal: 216ms\tremaining: 836ms\n",
            "41:\ttest: 0.8538290\tbest: 0.8560893 (16)\ttotal: 222ms\tremaining: 834ms\n",
            "42:\ttest: 0.8528466\tbest: 0.8560893 (16)\ttotal: 227ms\tremaining: 829ms\n",
            "43:\ttest: 0.8528947\tbest: 0.8560893 (16)\ttotal: 232ms\tremaining: 822ms\n",
            "44:\ttest: 0.8532176\tbest: 0.8560893 (16)\ttotal: 237ms\tremaining: 817ms\n",
            "45:\ttest: 0.8533962\tbest: 0.8560893 (16)\ttotal: 241ms\tremaining: 806ms\n",
            "46:\ttest: 0.8535817\tbest: 0.8560893 (16)\ttotal: 244ms\tremaining: 796ms\n",
            "47:\ttest: 0.8535817\tbest: 0.8560893 (16)\ttotal: 250ms\tremaining: 790ms\n",
            "48:\ttest: 0.8538771\tbest: 0.8560893 (16)\ttotal: 256ms\tremaining: 788ms\n",
            "49:\ttest: 0.8536435\tbest: 0.8560893 (16)\ttotal: 262ms\tremaining: 786ms\n",
            "50:\ttest: 0.8536916\tbest: 0.8560893 (16)\ttotal: 268ms\tremaining: 783ms\n",
            "51:\ttest: 0.8536916\tbest: 0.8560893 (16)\ttotal: 270ms\tremaining: 769ms\n",
            "52:\ttest: 0.8537809\tbest: 0.8560893 (16)\ttotal: 275ms\tremaining: 762ms\n",
            "53:\ttest: 0.8541519\tbest: 0.8560893 (16)\ttotal: 280ms\tremaining: 756ms\n",
            "54:\ttest: 0.8543374\tbest: 0.8560893 (16)\ttotal: 285ms\tremaining: 751ms\n",
            "55:\ttest: 0.8543443\tbest: 0.8560893 (16)\ttotal: 287ms\tremaining: 739ms\n",
            "56:\ttest: 0.8549214\tbest: 0.8560893 (16)\ttotal: 293ms\tremaining: 735ms\n",
            "57:\ttest: 0.8544061\tbest: 0.8560893 (16)\ttotal: 298ms\tremaining: 731ms\n",
            "58:\ttest: 0.8551618\tbest: 0.8560893 (16)\ttotal: 305ms\tremaining: 728ms\n",
            "59:\ttest: 0.8551618\tbest: 0.8560893 (16)\ttotal: 308ms\tremaining: 718ms\n",
            "60:\ttest: 0.8551618\tbest: 0.8560893 (16)\ttotal: 310ms\tremaining: 707ms\n",
            "61:\ttest: 0.8551275\tbest: 0.8560893 (16)\ttotal: 315ms\tremaining: 701ms\n",
            "62:\ttest: 0.8553954\tbest: 0.8560893 (16)\ttotal: 320ms\tremaining: 697ms\n",
            "63:\ttest: 0.8556496\tbest: 0.8560893 (16)\ttotal: 325ms\tremaining: 691ms\n",
            "64:\ttest: 0.8554023\tbest: 0.8560893 (16)\ttotal: 330ms\tremaining: 685ms\n",
            "65:\ttest: 0.8551550\tbest: 0.8560893 (16)\ttotal: 335ms\tremaining: 679ms\n",
            "66:\ttest: 0.8550931\tbest: 0.8560893 (16)\ttotal: 341ms\tremaining: 677ms\n",
            "67:\ttest: 0.8549489\tbest: 0.8560893 (16)\ttotal: 346ms\tremaining: 672ms\n",
            "68:\ttest: 0.8547084\tbest: 0.8560893 (16)\ttotal: 351ms\tremaining: 667ms\n",
            "69:\ttest: 0.8545504\tbest: 0.8560893 (16)\ttotal: 357ms\tremaining: 664ms\n",
            "70:\ttest: 0.8546947\tbest: 0.8560893 (16)\ttotal: 364ms\tremaining: 662ms\n",
            "71:\ttest: 0.8538909\tbest: 0.8560893 (16)\ttotal: 370ms\tremaining: 658ms\n",
            "72:\ttest: 0.8542138\tbest: 0.8560893 (16)\ttotal: 376ms\tremaining: 654ms\n",
            "73:\ttest: 0.8541931\tbest: 0.8560893 (16)\ttotal: 379ms\tremaining: 646ms\n",
            "74:\ttest: 0.8540557\tbest: 0.8560893 (16)\ttotal: 382ms\tremaining: 637ms\n",
            "75:\ttest: 0.8545573\tbest: 0.8560893 (16)\ttotal: 388ms\tremaining: 634ms\n",
            "76:\ttest: 0.8544954\tbest: 0.8560893 (16)\ttotal: 395ms\tremaining: 630ms\n",
            "77:\ttest: 0.8544954\tbest: 0.8560893 (16)\ttotal: 398ms\tremaining: 623ms\n",
            "78:\ttest: 0.8546534\tbest: 0.8560893 (16)\ttotal: 405ms\tremaining: 621ms\n",
            "79:\ttest: 0.8549557\tbest: 0.8560893 (16)\ttotal: 409ms\tremaining: 614ms\n",
            "80:\ttest: 0.8553336\tbest: 0.8560893 (16)\ttotal: 415ms\tremaining: 610ms\n",
            "81:\ttest: 0.8550863\tbest: 0.8560893 (16)\ttotal: 421ms\tremaining: 605ms\n",
            "82:\ttest: 0.8550863\tbest: 0.8560893 (16)\ttotal: 423ms\tremaining: 596ms\n",
            "83:\ttest: 0.8555672\tbest: 0.8560893 (16)\ttotal: 430ms\tremaining: 593ms\n",
            "84:\ttest: 0.8559450\tbest: 0.8560893 (16)\ttotal: 436ms\tremaining: 589ms\n",
            "85:\ttest: 0.8559588\tbest: 0.8560893 (16)\ttotal: 439ms\tremaining: 582ms\n",
            "86:\ttest: 0.8551206\tbest: 0.8560893 (16)\ttotal: 445ms\tremaining: 577ms\n",
            "87:\ttest: 0.8551962\tbest: 0.8560893 (16)\ttotal: 450ms\tremaining: 572ms\n",
            "88:\ttest: 0.8548115\tbest: 0.8560893 (16)\ttotal: 456ms\tremaining: 569ms\n",
            "89:\ttest: 0.8548939\tbest: 0.8560893 (16)\ttotal: 462ms\tremaining: 564ms\n",
            "90:\ttest: 0.8548389\tbest: 0.8560893 (16)\ttotal: 468ms\tremaining: 561ms\n",
            "91:\ttest: 0.8549489\tbest: 0.8560893 (16)\ttotal: 474ms\tremaining: 556ms\n",
            "92:\ttest: 0.8535336\tbest: 0.8560893 (16)\ttotal: 479ms\tremaining: 551ms\n",
            "93:\ttest: 0.8547702\tbest: 0.8560893 (16)\ttotal: 486ms\tremaining: 548ms\n",
            "94:\ttest: 0.8549420\tbest: 0.8560893 (16)\ttotal: 492ms\tremaining: 543ms\n",
            "95:\ttest: 0.8544817\tbest: 0.8560893 (16)\ttotal: 497ms\tremaining: 539ms\n",
            "96:\ttest: 0.8552030\tbest: 0.8560893 (16)\ttotal: 503ms\tremaining: 534ms\n",
            "97:\ttest: 0.8540901\tbest: 0.8560893 (16)\ttotal: 509ms\tremaining: 530ms\n",
            "98:\ttest: 0.8536023\tbest: 0.8560893 (16)\ttotal: 514ms\tremaining: 525ms\n",
            "99:\ttest: 0.8553404\tbest: 0.8560893 (16)\ttotal: 521ms\tremaining: 521ms\n",
            "100:\ttest: 0.8555878\tbest: 0.8560893 (16)\ttotal: 527ms\tremaining: 517ms\n",
            "101:\ttest: 0.8557252\tbest: 0.8560893 (16)\ttotal: 533ms\tremaining: 512ms\n",
            "102:\ttest: 0.8560549\tbest: 0.8560893 (16)\ttotal: 539ms\tremaining: 508ms\n",
            "103:\ttest: 0.8557183\tbest: 0.8560893 (16)\ttotal: 544ms\tremaining: 502ms\n",
            "104:\ttest: 0.8559656\tbest: 0.8560893 (16)\ttotal: 550ms\tremaining: 497ms\n",
            "105:\ttest: 0.8555672\tbest: 0.8560893 (16)\ttotal: 556ms\tremaining: 493ms\n",
            "106:\ttest: 0.8563263\tbest: 0.8563263 (106)\ttotal: 564ms\tremaining: 490ms\n",
            "107:\ttest: 0.8573293\tbest: 0.8573293 (107)\ttotal: 570ms\tremaining: 485ms\n",
            "108:\ttest: 0.8572744\tbest: 0.8573293 (107)\ttotal: 576ms\tremaining: 481ms\n",
            "109:\ttest: 0.8579820\tbest: 0.8579820 (109)\ttotal: 582ms\tremaining: 476ms\n",
            "110:\ttest: 0.8580301\tbest: 0.8580301 (110)\ttotal: 588ms\tremaining: 471ms\n",
            "111:\ttest: 0.8582637\tbest: 0.8582637 (111)\ttotal: 594ms\tremaining: 466ms\n",
            "112:\ttest: 0.8583805\tbest: 0.8583805 (112)\ttotal: 599ms\tremaining: 461ms\n",
            "113:\ttest: 0.8576385\tbest: 0.8583805 (112)\ttotal: 604ms\tremaining: 456ms\n",
            "114:\ttest: 0.8576934\tbest: 0.8583805 (112)\ttotal: 610ms\tremaining: 451ms\n",
            "115:\ttest: 0.8582293\tbest: 0.8583805 (112)\ttotal: 616ms\tremaining: 446ms\n",
            "116:\ttest: 0.8582843\tbest: 0.8583805 (112)\ttotal: 621ms\tremaining: 441ms\n",
            "117:\ttest: 0.8576522\tbest: 0.8583805 (112)\ttotal: 628ms\tremaining: 436ms\n",
            "118:\ttest: 0.8577690\tbest: 0.8583805 (112)\ttotal: 634ms\tremaining: 431ms\n",
            "119:\ttest: 0.8604483\tbest: 0.8604483 (119)\ttotal: 640ms\tremaining: 427ms\n",
            "120:\ttest: 0.8604896\tbest: 0.8604896 (120)\ttotal: 646ms\tremaining: 422ms\n",
            "121:\ttest: 0.8618224\tbest: 0.8618224 (121)\ttotal: 653ms\tremaining: 417ms\n",
            "122:\ttest: 0.8616437\tbest: 0.8618224 (121)\ttotal: 660ms\tremaining: 413ms\n",
            "123:\ttest: 0.8612590\tbest: 0.8618224 (121)\ttotal: 665ms\tremaining: 408ms\n",
            "124:\ttest: 0.8613346\tbest: 0.8618224 (121)\ttotal: 672ms\tremaining: 403ms\n",
            "125:\ttest: 0.8613414\tbest: 0.8618224 (121)\ttotal: 679ms\tremaining: 399ms\n",
            "126:\ttest: 0.8616781\tbest: 0.8618224 (121)\ttotal: 685ms\tremaining: 394ms\n",
            "127:\ttest: 0.8616643\tbest: 0.8618224 (121)\ttotal: 691ms\tremaining: 389ms\n",
            "128:\ttest: 0.8629834\tbest: 0.8629834 (128)\ttotal: 698ms\tremaining: 384ms\n",
            "129:\ttest: 0.8634437\tbest: 0.8634437 (129)\ttotal: 703ms\tremaining: 379ms\n",
            "130:\ttest: 0.8631895\tbest: 0.8634437 (129)\ttotal: 710ms\tremaining: 374ms\n",
            "131:\ttest: 0.8641170\tbest: 0.8641170 (131)\ttotal: 716ms\tremaining: 369ms\n",
            "132:\ttest: 0.8649208\tbest: 0.8649208 (132)\ttotal: 723ms\tremaining: 364ms\n",
            "133:\ttest: 0.8654635\tbest: 0.8654635 (133)\ttotal: 729ms\tremaining: 359ms\n",
            "134:\ttest: 0.8663291\tbest: 0.8663291 (134)\ttotal: 736ms\tremaining: 354ms\n",
            "135:\ttest: 0.8668169\tbest: 0.8668169 (135)\ttotal: 743ms\tremaining: 349ms\n",
            "136:\ttest: 0.8671741\tbest: 0.8671741 (136)\ttotal: 749ms\tremaining: 344ms\n",
            "137:\ttest: 0.8672497\tbest: 0.8672497 (137)\ttotal: 756ms\tremaining: 340ms\n",
            "138:\ttest: 0.8680535\tbest: 0.8680535 (138)\ttotal: 762ms\tremaining: 335ms\n",
            "139:\ttest: 0.8677237\tbest: 0.8680535 (138)\ttotal: 769ms\tremaining: 330ms\n",
            "140:\ttest: 0.8678749\tbest: 0.8680535 (138)\ttotal: 775ms\tremaining: 324ms\n",
            "141:\ttest: 0.8682802\tbest: 0.8682802 (141)\ttotal: 781ms\tremaining: 319ms\n",
            "142:\ttest: 0.8699290\tbest: 0.8699290 (142)\ttotal: 788ms\tremaining: 314ms\n",
            "143:\ttest: 0.8701214\tbest: 0.8701214 (143)\ttotal: 794ms\tremaining: 309ms\n",
            "144:\ttest: 0.8709252\tbest: 0.8709252 (144)\ttotal: 801ms\tremaining: 304ms\n",
            "145:\ttest: 0.8710351\tbest: 0.8710351 (145)\ttotal: 807ms\tremaining: 298ms\n",
            "146:\ttest: 0.8705405\tbest: 0.8710351 (145)\ttotal: 813ms\tremaining: 293ms\n",
            "147:\ttest: 0.8706435\tbest: 0.8710351 (145)\ttotal: 820ms\tremaining: 288ms\n",
            "148:\ttest: 0.8704443\tbest: 0.8710351 (145)\ttotal: 826ms\tremaining: 283ms\n",
            "149:\ttest: 0.8715435\tbest: 0.8715435 (149)\ttotal: 832ms\tremaining: 277ms\n",
            "150:\ttest: 0.8711931\tbest: 0.8715435 (149)\ttotal: 837ms\tremaining: 272ms\n",
            "151:\ttest: 0.8711313\tbest: 0.8715435 (149)\ttotal: 842ms\tremaining: 266ms\n",
            "152:\ttest: 0.8718114\tbest: 0.8718114 (152)\ttotal: 848ms\tremaining: 261ms\n",
            "153:\ttest: 0.8727389\tbest: 0.8727389 (153)\ttotal: 855ms\tremaining: 255ms\n",
            "154:\ttest: 0.8733984\tbest: 0.8733984 (154)\ttotal: 860ms\tremaining: 250ms\n",
            "155:\ttest: 0.8736251\tbest: 0.8736251 (155)\ttotal: 867ms\tremaining: 245ms\n",
            "156:\ttest: 0.8743259\tbest: 0.8743259 (156)\ttotal: 873ms\tremaining: 239ms\n",
            "157:\ttest: 0.8747587\tbest: 0.8747587 (157)\ttotal: 880ms\tremaining: 234ms\n",
            "158:\ttest: 0.8752533\tbest: 0.8752533 (158)\ttotal: 887ms\tremaining: 229ms\n",
            "159:\ttest: 0.8752396\tbest: 0.8752533 (158)\ttotal: 893ms\tremaining: 223ms\n",
            "160:\ttest: 0.8756793\tbest: 0.8756793 (160)\ttotal: 898ms\tremaining: 218ms\n",
            "161:\ttest: 0.8767441\tbest: 0.8767441 (161)\ttotal: 905ms\tremaining: 212ms\n",
            "162:\ttest: 0.8766342\tbest: 0.8767441 (161)\ttotal: 912ms\tremaining: 207ms\n",
            "163:\ttest: 0.8767922\tbest: 0.8767922 (163)\ttotal: 917ms\tremaining: 201ms\n",
            "164:\ttest: 0.8770052\tbest: 0.8770052 (164)\ttotal: 923ms\tremaining: 196ms\n",
            "165:\ttest: 0.8771632\tbest: 0.8771632 (165)\ttotal: 930ms\tremaining: 191ms\n",
            "166:\ttest: 0.8784273\tbest: 0.8784273 (166)\ttotal: 937ms\tremaining: 185ms\n",
            "167:\ttest: 0.8787639\tbest: 0.8787639 (167)\ttotal: 944ms\tremaining: 180ms\n",
            "168:\ttest: 0.8789494\tbest: 0.8789494 (168)\ttotal: 950ms\tremaining: 174ms\n",
            "169:\ttest: 0.8797532\tbest: 0.8797532 (169)\ttotal: 955ms\tremaining: 169ms\n",
            "170:\ttest: 0.8796433\tbest: 0.8797532 (169)\ttotal: 962ms\tremaining: 163ms\n",
            "171:\ttest: 0.8799662\tbest: 0.8799662 (171)\ttotal: 968ms\tremaining: 158ms\n",
            "172:\ttest: 0.8795746\tbest: 0.8799662 (171)\ttotal: 974ms\tremaining: 152ms\n",
            "173:\ttest: 0.8797670\tbest: 0.8799662 (171)\ttotal: 979ms\tremaining: 146ms\n",
            "174:\ttest: 0.8797257\tbest: 0.8799662 (171)\ttotal: 984ms\tremaining: 141ms\n",
            "175:\ttest: 0.8799868\tbest: 0.8799868 (175)\ttotal: 991ms\tremaining: 135ms\n",
            "176:\ttest: 0.8801036\tbest: 0.8801036 (176)\ttotal: 996ms\tremaining: 129ms\n",
            "177:\ttest: 0.8809967\tbest: 0.8809967 (177)\ttotal: 1s\tremaining: 124ms\n",
            "178:\ttest: 0.8811959\tbest: 0.8811959 (178)\ttotal: 1.01s\tremaining: 118ms\n",
            "179:\ttest: 0.8814089\tbest: 0.8814089 (179)\ttotal: 1.01s\tremaining: 113ms\n",
            "180:\ttest: 0.8809486\tbest: 0.8814089 (179)\ttotal: 1.02s\tremaining: 107ms\n",
            "181:\ttest: 0.8815807\tbest: 0.8815807 (181)\ttotal: 1.03s\tremaining: 102ms\n",
            "182:\ttest: 0.8816906\tbest: 0.8816906 (182)\ttotal: 1.03s\tremaining: 96.1ms\n",
            "183:\ttest: 0.8832638\tbest: 0.8832638 (183)\ttotal: 1.04s\tremaining: 90.6ms\n",
            "184:\ttest: 0.8832913\tbest: 0.8832913 (184)\ttotal: 1.05s\tremaining: 84.9ms\n",
            "185:\ttest: 0.8833463\tbest: 0.8833463 (185)\ttotal: 1.05s\tremaining: 79.2ms\n",
            "186:\ttest: 0.8831127\tbest: 0.8833463 (185)\ttotal: 1.06s\tremaining: 73.6ms\n",
            "187:\ttest: 0.8830028\tbest: 0.8833463 (185)\ttotal: 1.06s\tremaining: 68ms\n",
            "188:\ttest: 0.8831333\tbest: 0.8833463 (185)\ttotal: 1.07s\tremaining: 62.4ms\n",
            "189:\ttest: 0.8837860\tbest: 0.8837860 (189)\ttotal: 1.08s\tremaining: 56.7ms\n",
            "190:\ttest: 0.8845211\tbest: 0.8845211 (190)\ttotal: 1.08s\tremaining: 51.1ms\n",
            "191:\ttest: 0.8842325\tbest: 0.8845211 (190)\ttotal: 1.09s\tremaining: 45.4ms\n",
            "192:\ttest: 0.8843562\tbest: 0.8845211 (190)\ttotal: 1.09s\tremaining: 39.7ms\n",
            "193:\ttest: 0.8843424\tbest: 0.8845211 (190)\ttotal: 1.1s\tremaining: 34ms\n",
            "194:\ttest: 0.8843287\tbest: 0.8845211 (190)\ttotal: 1.11s\tremaining: 28.4ms\n",
            "195:\ttest: 0.8843287\tbest: 0.8845211 (190)\ttotal: 1.11s\tremaining: 22.7ms\n",
            "196:\ttest: 0.8844249\tbest: 0.8845211 (190)\ttotal: 1.12s\tremaining: 17ms\n",
            "197:\ttest: 0.8852149\tbest: 0.8852149 (197)\ttotal: 1.12s\tremaining: 11.4ms\n",
            "198:\ttest: 0.8860874\tbest: 0.8860874 (198)\ttotal: 1.13s\tremaining: 5.68ms\n",
            "199:\ttest: 0.8863760\tbest: 0.8863760 (199)\ttotal: 1.14s\tremaining: 0us\n",
            "\n",
            "bestTest = 0.8863759713\n",
            "bestIteration = 199\n",
            "\n",
            "     iterations  test-AUC-mean  test-AUC-std  test-Logloss-mean  \\\n",
            "0             0       0.652297      0.064656           0.628109   \n",
            "1             1       0.773855      0.025959           0.563262   \n",
            "2             2       0.789086      0.030723           0.519804   \n",
            "3             3       0.794568      0.023339           0.487346   \n",
            "4             4       0.795611      0.018934           0.461017   \n",
            "..          ...            ...           ...                ...   \n",
            "195         195       0.875690      0.011709           0.285657   \n",
            "196         196       0.875975      0.011042           0.285332   \n",
            "197         197       0.876029      0.011211           0.285219   \n",
            "198         198       0.876253      0.011485           0.284931   \n",
            "199         199       0.876541      0.011639           0.284681   \n",
            "\n",
            "     test-Logloss-std  train-Logloss-mean  train-Logloss-std  \n",
            "0            0.009991            0.627207           0.011334  \n",
            "1            0.003941            0.561239           0.005474  \n",
            "2            0.009011            0.516884           0.010112  \n",
            "3            0.003263            0.483777           0.006154  \n",
            "4            0.008968            0.456690           0.012077  \n",
            "..                ...                 ...                ...  \n",
            "195          0.008793            0.204150           0.005085  \n",
            "196          0.008487            0.203525           0.005188  \n",
            "197          0.008598            0.203037           0.004998  \n",
            "198          0.008874            0.202623           0.005038  \n",
            "199          0.008948            0.202256           0.004946  \n",
            "\n",
            "[200 rows x 7 columns]\n",
            "Training time: 10.01858639717102 seconds\n"
          ]
        }
      ],
      "source": [
        "start_time = time.time()\n",
        "cv_results = cv(pool, model_cb.get_params(), fold_count=5, plot=False)\n",
        "print(cv_results)\n",
        "end_time = time.time()\n",
        "print(\"Training time: {} seconds\".format(end_time - start_time))"
      ]
    },
    {
      "cell_type": "markdown",
      "metadata": {
        "id": "90A3fk3muGKr"
      },
      "source": [
        "Наблюдаем, что на кросс-валидации логистическая регрессия получила результат 0.76, случайный лес 0.81, а Catboost модель - 0.87.  \n",
        "Поэтому на тестовой выборке будет использована Catboost модель."
      ]
    },
    {
      "cell_type": "markdown",
      "metadata": {
        "id": "GPFnzE-OuGKr"
      },
      "source": [
        "### Проверка выбранной модели на тестовой выборке"
      ]
    },
    {
      "cell_type": "code",
      "execution_count": null,
      "metadata": {
        "scrolled": true,
        "id": "V33ya3PfuGKr",
        "outputId": "2937919a-f5ed-418e-de94-7a406a7f22bb"
      },
      "outputs": [
        {
          "name": "stdout",
          "output_type": "stream",
          "text": [
            "0:\ttotal: 7.86ms\tremaining: 1.56s\n",
            "1:\ttotal: 14.6ms\tremaining: 1.45s\n",
            "2:\ttotal: 21.7ms\tremaining: 1.43s\n",
            "3:\ttotal: 29ms\tremaining: 1.42s\n",
            "4:\ttotal: 36.4ms\tremaining: 1.42s\n",
            "5:\ttotal: 40.5ms\tremaining: 1.31s\n",
            "6:\ttotal: 46.8ms\tremaining: 1.29s\n",
            "7:\ttotal: 52.9ms\tremaining: 1.27s\n",
            "8:\ttotal: 59.7ms\tremaining: 1.27s\n",
            "9:\ttotal: 66ms\tremaining: 1.25s\n",
            "10:\ttotal: 72.2ms\tremaining: 1.24s\n",
            "11:\ttotal: 78.9ms\tremaining: 1.24s\n",
            "12:\ttotal: 82.7ms\tremaining: 1.19s\n",
            "13:\ttotal: 89.2ms\tremaining: 1.19s\n",
            "14:\ttotal: 96.2ms\tremaining: 1.19s\n",
            "15:\ttotal: 103ms\tremaining: 1.19s\n",
            "16:\ttotal: 110ms\tremaining: 1.18s\n",
            "17:\ttotal: 116ms\tremaining: 1.17s\n",
            "18:\ttotal: 122ms\tremaining: 1.16s\n",
            "19:\ttotal: 127ms\tremaining: 1.15s\n",
            "20:\ttotal: 130ms\tremaining: 1.11s\n",
            "21:\ttotal: 137ms\tremaining: 1.1s\n",
            "22:\ttotal: 144ms\tremaining: 1.11s\n",
            "23:\ttotal: 149ms\tremaining: 1.09s\n",
            "24:\ttotal: 155ms\tremaining: 1.09s\n",
            "25:\ttotal: 162ms\tremaining: 1.08s\n",
            "26:\ttotal: 169ms\tremaining: 1.08s\n",
            "27:\ttotal: 175ms\tremaining: 1.07s\n",
            "28:\ttotal: 180ms\tremaining: 1.06s\n",
            "29:\ttotal: 185ms\tremaining: 1.05s\n",
            "30:\ttotal: 188ms\tremaining: 1.02s\n",
            "31:\ttotal: 194ms\tremaining: 1.02s\n",
            "32:\ttotal: 199ms\tremaining: 1.01s\n",
            "33:\ttotal: 206ms\tremaining: 1s\n",
            "34:\ttotal: 211ms\tremaining: 997ms\n",
            "35:\ttotal: 217ms\tremaining: 986ms\n",
            "36:\ttotal: 224ms\tremaining: 987ms\n",
            "37:\ttotal: 230ms\tremaining: 981ms\n",
            "38:\ttotal: 236ms\tremaining: 975ms\n",
            "39:\ttotal: 239ms\tremaining: 954ms\n",
            "40:\ttotal: 244ms\tremaining: 948ms\n",
            "41:\ttotal: 252ms\tremaining: 949ms\n",
            "42:\ttotal: 256ms\tremaining: 936ms\n",
            "43:\ttotal: 264ms\tremaining: 934ms\n",
            "44:\ttotal: 267ms\tremaining: 921ms\n",
            "45:\ttotal: 272ms\tremaining: 911ms\n",
            "46:\ttotal: 276ms\tremaining: 897ms\n",
            "47:\ttotal: 280ms\tremaining: 888ms\n",
            "48:\ttotal: 287ms\tremaining: 885ms\n",
            "49:\ttotal: 290ms\tremaining: 870ms\n",
            "50:\ttotal: 297ms\tremaining: 869ms\n",
            "51:\ttotal: 304ms\tremaining: 865ms\n",
            "52:\ttotal: 310ms\tremaining: 859ms\n",
            "53:\ttotal: 317ms\tremaining: 857ms\n",
            "54:\ttotal: 323ms\tremaining: 853ms\n",
            "55:\ttotal: 326ms\tremaining: 839ms\n",
            "56:\ttotal: 332ms\tremaining: 833ms\n",
            "57:\ttotal: 339ms\tremaining: 829ms\n",
            "58:\ttotal: 345ms\tremaining: 824ms\n",
            "59:\ttotal: 350ms\tremaining: 818ms\n",
            "60:\ttotal: 353ms\tremaining: 804ms\n",
            "61:\ttotal: 356ms\tremaining: 793ms\n",
            "62:\ttotal: 363ms\tremaining: 789ms\n",
            "63:\ttotal: 367ms\tremaining: 780ms\n",
            "64:\ttotal: 372ms\tremaining: 772ms\n",
            "65:\ttotal: 380ms\tremaining: 771ms\n",
            "66:\ttotal: 385ms\tremaining: 764ms\n",
            "67:\ttotal: 393ms\tremaining: 762ms\n",
            "68:\ttotal: 396ms\tremaining: 752ms\n",
            "69:\ttotal: 401ms\tremaining: 744ms\n",
            "70:\ttotal: 408ms\tremaining: 742ms\n",
            "71:\ttotal: 419ms\tremaining: 745ms\n",
            "72:\ttotal: 427ms\tremaining: 743ms\n",
            "73:\ttotal: 434ms\tremaining: 739ms\n",
            "74:\ttotal: 441ms\tremaining: 736ms\n",
            "75:\ttotal: 447ms\tremaining: 730ms\n",
            "76:\ttotal: 453ms\tremaining: 724ms\n",
            "77:\ttotal: 457ms\tremaining: 714ms\n",
            "78:\ttotal: 463ms\tremaining: 710ms\n",
            "79:\ttotal: 470ms\tremaining: 704ms\n",
            "80:\ttotal: 473ms\tremaining: 694ms\n",
            "81:\ttotal: 477ms\tremaining: 686ms\n",
            "82:\ttotal: 484ms\tremaining: 683ms\n",
            "83:\ttotal: 491ms\tremaining: 678ms\n",
            "84:\ttotal: 497ms\tremaining: 672ms\n",
            "85:\ttotal: 501ms\tremaining: 664ms\n",
            "86:\ttotal: 508ms\tremaining: 660ms\n",
            "87:\ttotal: 514ms\tremaining: 654ms\n",
            "88:\ttotal: 519ms\tremaining: 647ms\n",
            "89:\ttotal: 526ms\tremaining: 643ms\n",
            "90:\ttotal: 532ms\tremaining: 638ms\n",
            "91:\ttotal: 539ms\tremaining: 633ms\n",
            "92:\ttotal: 546ms\tremaining: 628ms\n",
            "93:\ttotal: 552ms\tremaining: 623ms\n",
            "94:\ttotal: 560ms\tremaining: 619ms\n",
            "95:\ttotal: 567ms\tremaining: 615ms\n",
            "96:\ttotal: 575ms\tremaining: 611ms\n",
            "97:\ttotal: 584ms\tremaining: 608ms\n",
            "98:\ttotal: 591ms\tremaining: 603ms\n",
            "99:\ttotal: 598ms\tremaining: 598ms\n",
            "100:\ttotal: 606ms\tremaining: 594ms\n",
            "101:\ttotal: 614ms\tremaining: 590ms\n",
            "102:\ttotal: 621ms\tremaining: 585ms\n",
            "103:\ttotal: 627ms\tremaining: 579ms\n",
            "104:\ttotal: 634ms\tremaining: 574ms\n",
            "105:\ttotal: 641ms\tremaining: 568ms\n",
            "106:\ttotal: 648ms\tremaining: 563ms\n",
            "107:\ttotal: 655ms\tremaining: 558ms\n",
            "108:\ttotal: 660ms\tremaining: 551ms\n",
            "109:\ttotal: 667ms\tremaining: 546ms\n",
            "110:\ttotal: 674ms\tremaining: 540ms\n",
            "111:\ttotal: 681ms\tremaining: 535ms\n",
            "112:\ttotal: 689ms\tremaining: 530ms\n",
            "113:\ttotal: 697ms\tremaining: 526ms\n",
            "114:\ttotal: 704ms\tremaining: 521ms\n",
            "115:\ttotal: 712ms\tremaining: 515ms\n",
            "116:\ttotal: 720ms\tremaining: 511ms\n",
            "117:\ttotal: 727ms\tremaining: 505ms\n",
            "118:\ttotal: 734ms\tremaining: 499ms\n",
            "119:\ttotal: 741ms\tremaining: 494ms\n",
            "120:\ttotal: 747ms\tremaining: 488ms\n",
            "121:\ttotal: 753ms\tremaining: 481ms\n",
            "122:\ttotal: 760ms\tremaining: 476ms\n",
            "123:\ttotal: 766ms\tremaining: 470ms\n",
            "124:\ttotal: 773ms\tremaining: 464ms\n",
            "125:\ttotal: 781ms\tremaining: 459ms\n",
            "126:\ttotal: 788ms\tremaining: 453ms\n",
            "127:\ttotal: 795ms\tremaining: 447ms\n",
            "128:\ttotal: 803ms\tremaining: 442ms\n",
            "129:\ttotal: 810ms\tremaining: 436ms\n",
            "130:\ttotal: 817ms\tremaining: 430ms\n",
            "131:\ttotal: 824ms\tremaining: 424ms\n",
            "132:\ttotal: 829ms\tremaining: 418ms\n",
            "133:\ttotal: 836ms\tremaining: 412ms\n",
            "134:\ttotal: 843ms\tremaining: 406ms\n",
            "135:\ttotal: 850ms\tremaining: 400ms\n",
            "136:\ttotal: 857ms\tremaining: 394ms\n",
            "137:\ttotal: 864ms\tremaining: 388ms\n",
            "138:\ttotal: 881ms\tremaining: 387ms\n",
            "139:\ttotal: 890ms\tremaining: 382ms\n",
            "140:\ttotal: 896ms\tremaining: 375ms\n",
            "141:\ttotal: 903ms\tremaining: 369ms\n",
            "142:\ttotal: 910ms\tremaining: 363ms\n",
            "143:\ttotal: 917ms\tremaining: 356ms\n",
            "144:\ttotal: 924ms\tremaining: 351ms\n",
            "145:\ttotal: 931ms\tremaining: 344ms\n",
            "146:\ttotal: 938ms\tremaining: 338ms\n",
            "147:\ttotal: 946ms\tremaining: 332ms\n",
            "148:\ttotal: 956ms\tremaining: 327ms\n",
            "149:\ttotal: 967ms\tremaining: 322ms\n",
            "150:\ttotal: 978ms\tremaining: 317ms\n",
            "151:\ttotal: 985ms\tremaining: 311ms\n",
            "152:\ttotal: 991ms\tremaining: 304ms\n",
            "153:\ttotal: 997ms\tremaining: 298ms\n",
            "154:\ttotal: 1s\tremaining: 291ms\n",
            "155:\ttotal: 1.01s\tremaining: 285ms\n",
            "156:\ttotal: 1.01s\tremaining: 278ms\n",
            "157:\ttotal: 1.02s\tremaining: 272ms\n",
            "158:\ttotal: 1.03s\tremaining: 265ms\n",
            "159:\ttotal: 1.03s\tremaining: 259ms\n",
            "160:\ttotal: 1.04s\tremaining: 252ms\n",
            "161:\ttotal: 1.05s\tremaining: 247ms\n",
            "162:\ttotal: 1.06s\tremaining: 241ms\n",
            "163:\ttotal: 1.07s\tremaining: 235ms\n",
            "164:\ttotal: 1.08s\tremaining: 229ms\n",
            "165:\ttotal: 1.08s\tremaining: 222ms\n",
            "166:\ttotal: 1.09s\tremaining: 215ms\n",
            "167:\ttotal: 1.1s\tremaining: 209ms\n",
            "168:\ttotal: 1.1s\tremaining: 202ms\n",
            "169:\ttotal: 1.11s\tremaining: 196ms\n",
            "170:\ttotal: 1.11s\tremaining: 189ms\n",
            "171:\ttotal: 1.12s\tremaining: 183ms\n",
            "172:\ttotal: 1.13s\tremaining: 176ms\n",
            "173:\ttotal: 1.14s\tremaining: 170ms\n",
            "174:\ttotal: 1.15s\tremaining: 164ms\n",
            "175:\ttotal: 1.16s\tremaining: 158ms\n",
            "176:\ttotal: 1.17s\tremaining: 151ms\n",
            "177:\ttotal: 1.17s\tremaining: 145ms\n",
            "178:\ttotal: 1.18s\tremaining: 138ms\n",
            "179:\ttotal: 1.19s\tremaining: 132ms\n",
            "180:\ttotal: 1.19s\tremaining: 125ms\n",
            "181:\ttotal: 1.2s\tremaining: 119ms\n",
            "182:\ttotal: 1.21s\tremaining: 112ms\n",
            "183:\ttotal: 1.21s\tremaining: 105ms\n",
            "184:\ttotal: 1.22s\tremaining: 98.9ms\n",
            "185:\ttotal: 1.23s\tremaining: 92.4ms\n",
            "186:\ttotal: 1.24s\tremaining: 86.1ms\n",
            "187:\ttotal: 1.25s\tremaining: 79.9ms\n",
            "188:\ttotal: 1.26s\tremaining: 73.4ms\n",
            "189:\ttotal: 1.27s\tremaining: 66.7ms\n",
            "190:\ttotal: 1.27s\tremaining: 60ms\n",
            "191:\ttotal: 1.28s\tremaining: 53.4ms\n",
            "192:\ttotal: 1.29s\tremaining: 46.7ms\n",
            "193:\ttotal: 1.29s\tremaining: 40ms\n",
            "194:\ttotal: 1.3s\tremaining: 33.4ms\n",
            "195:\ttotal: 1.31s\tremaining: 26.7ms\n",
            "196:\ttotal: 1.31s\tremaining: 20ms\n",
            "197:\ttotal: 1.32s\tremaining: 13.4ms\n",
            "198:\ttotal: 1.34s\tremaining: 6.71ms\n",
            "199:\ttotal: 1.35s\tremaining: 0us\n"
          ]
        },
        {
          "data": {
            "text/plain": [
              "<catboost.core.CatBoostClassifier at 0x7fdf3a422df0>"
            ]
          },
          "execution_count": 57,
          "metadata": {},
          "output_type": "execute_result"
        }
      ],
      "source": [
        "# Обучение модели\n",
        "model_cb.fit(features_train, target_train, cat_features=features_categirical)"
      ]
    },
    {
      "cell_type": "code",
      "execution_count": null,
      "metadata": {
        "id": "uy5nOspWuGKr",
        "outputId": "ac103586-7c4f-49f9-f619-d625aabc0e7e"
      },
      "outputs": [
        {
          "name": "stdout",
          "output_type": "stream",
          "text": [
            "roc auc = 0.8836895782276598\n"
          ]
        }
      ],
      "source": [
        "predictions = model_cb.predict(features_test)\n",
        "probabilities =  model_cb.predict_proba(features_test)\n",
        "probabilities_one  = probabilities[:, 1]\n",
        "print(f'roc auc = {roc_auc_score(target_test, probabilities_one)}')"
      ]
    },
    {
      "cell_type": "code",
      "execution_count": null,
      "metadata": {
        "id": "qxe7J2PcuGKr",
        "outputId": "7cdb9108-cde7-4918-8842-e56dffc533fd"
      },
      "outputs": [
        {
          "data": {
            "image/png": "[encoded data removed]",
            "text/plain": [
              "<Figure size 720x432 with 1 Axes>"
            ]
          },
          "metadata": {
            "needs_background": "light"
          },
          "output_type": "display_data"
        }
      ],
      "source": [
        "# Построим ROC кривую\n",
        "fpr, tpr, thresholds = roc_curve(target_test, probabilities_one)\n",
        "\n",
        "plt.figure(figsize=(10, 6))\n",
        "plt.plot(fpr, tpr, linewidth=3)\n",
        "plt.xlabel('False Positive Rate')\n",
        "plt.ylabel('True Positive Rate')\n",
        "plt.ylim([0.0, 1.0])\n",
        "plt.xlim([0.0, 1.0])\n",
        "plt.title('ROC-кривая', size = 15)\n",
        "plt.show()"
      ]
    },
    {
      "cell_type": "code",
      "execution_count": null,
      "metadata": {
        "id": "AGtVZZrguGKs",
        "outputId": "0e3c13d6-440b-40fe-99b0-3aad3c2d40f7"
      },
      "outputs": [
        {
          "name": "stdout",
          "output_type": "stream",
          "text": [
            "Accuracy: 0.89\n",
            "Precision: 0.81\n",
            "Recall: 0.41\n",
            "F1-score: 0.54\n"
          ]
        }
      ],
      "source": [
        "accuracy = accuracy_score(target_test, predictions)\n",
        "precision = precision_score(target_test, predictions)\n",
        "recall = recall_score(target_test, predictions)\n",
        "f1 = f1_score(target_test, predictions)\n",
        "\n",
        "# Вывод результатов\n",
        "print(\"Accuracy: {:.2f}\".format(accuracy))\n",
        "print(\"Precision: {:.2f}\".format(precision))\n",
        "print(\"Recall: {:.2f}\".format(recall))\n",
        "print(\"F1-score: {:.2f}\".format(f1))"
      ]
    },
    {
      "cell_type": "markdown",
      "metadata": {
        "id": "1Gadd8WeuGKs"
      },
      "source": [
        "Наблюдается, низкий уровень \"угадывания\" единичного класса 0.54, но точность положительного класса выше 0.81. Далее узнаем, какая модель лучше минимизирует расходы компании."
      ]
    },
    {
      "cell_type": "code",
      "execution_count": null,
      "metadata": {
        "id": "B_RT8zsJuGKs",
        "outputId": "8eab2d44-d8db-4742-e43f-33969d92e6d8"
      },
      "outputs": [
        {
          "data": {
            "image/png": "[encoded data removed]",
            "text/plain": [
              "<Figure size 720x432 with 2 Axes>"
            ]
          },
          "metadata": {
            "needs_background": "light"
          },
          "output_type": "display_data"
        }
      ],
      "source": [
        "# Построим матрицу ошибок\n",
        "conf_matrix = confusion_matrix(target_test, predictions, normalize='true')\n",
        "plt.figure(figsize=(10, 6))\n",
        "sns.heatmap(pd.DataFrame(conf_matrix), annot=True, cmap='Blues', vmin=0, vmax=1)\n",
        "plt.title('Матрица ошибок')\n",
        "plt.xlabel('Предсказанный класс')\n",
        "plt.ylabel('Истинный класс')\n",
        "plt.show()"
      ]
    },
    {
      "cell_type": "code",
      "execution_count": null,
      "metadata": {
        "id": "92RxboQduGKs",
        "outputId": "a766a186-c328-4820-a72e-fe83279dfc02"
      },
      "outputs": [
        {
          "data": {
            "image/png": "[encoded data removed]",
            "text/plain": [
              "<Figure size 720x432 with 1 Axes>"
            ]
          },
          "metadata": {
            "needs_background": "light"
          },
          "output_type": "display_data"
        }
      ],
      "source": [
        "feature_importance = model_cb.feature_importances_\n",
        "feature_imp = pd.DataFrame(sorted(zip(feature_importance, features.columns)), columns=['Value','Feature'])\n",
        "plt.figure(figsize=(10, 6))\n",
        "sns.barplot(x=\"Value\", y=\"Feature\", data=feature_imp.sort_values(by=\"Value\", ascending=False))\n",
        "plt.title('Feature importance')\n",
        "plt.tight_layout()\n",
        "plt.show();"
      ]
    },
    {
      "cell_type": "markdown",
      "metadata": {
        "id": "V5v1szetuGKt"
      },
      "source": [
        "## Выбор модели для минимизации издержек"
      ]
    },
    {
      "cell_type": "code",
      "execution_count": null,
      "metadata": {
        "id": "3duL7wmAuGKt"
      },
      "outputs": [],
      "source": [
        "best_linear = grid_linear.best_estimator_\n",
        "best_rf = grid_rf.best_estimator_"
      ]
    },
    {
      "cell_type": "code",
      "execution_count": null,
      "metadata": {
        "id": "NoGN0n14uGKt"
      },
      "outputs": [],
      "source": [
        "threshold = 0.35"
      ]
    },
    {
      "cell_type": "code",
      "execution_count": null,
      "metadata": {
        "scrolled": true,
        "id": "Mlv-ESokuGKt"
      },
      "outputs": [],
      "source": [
        "predictions = best_linear.predict_proba(features_test_OHE_scaled)[:, 1] >= threshold\n",
        "predictions = predictions.astype(int)\n",
        "features_test['best_linear'] = predictions\n",
        "\n",
        "predictions = best_rf.predict_proba(features_test_OHE)[:, 1] >= threshold\n",
        "predictions = predictions.astype(int)\n",
        "features_test['best_rf'] = predictions\n",
        "\n",
        "predictions = model_cb.predict_proba(features_test)[:, 1] >= threshold\n",
        "predictions = predictions.astype(int)\n",
        "features_test['catboost'] = predictions\n",
        "\n",
        "features_test['target'] = target_test"
      ]
    },
    {
      "cell_type": "code",
      "execution_count": null,
      "metadata": {
        "id": "m1Pn-YqJuGKt"
      },
      "outputs": [],
      "source": [
        "final_test = features_test[['monthly_charges', 'best_linear', 'best_rf', 'catboost', 'target']]"
      ]
    },
    {
      "cell_type": "markdown",
      "metadata": {
        "id": "fLd1wHMsuGKu"
      },
      "source": [
        "### Логистическая регрессия"
      ]
    },
    {
      "cell_type": "markdown",
      "metadata": {
        "id": "VLfImo_AuGKu"
      },
      "source": [
        "**Убытки от выданных промокодов лояльным клиентам (ошибка 1-го рода)**"
      ]
    },
    {
      "cell_type": "code",
      "execution_count": null,
      "metadata": {
        "id": "V1LL58vBuGKu",
        "outputId": "2791729b-0be3-4660-8f1a-dec4e0633dba"
      },
      "outputs": [
        {
          "data": {
            "text/plain": [
              "17230.394999999997"
            ]
          },
          "execution_count": 67,
          "metadata": {},
          "output_type": "execute_result"
        }
      ],
      "source": [
        "final_test.loc[(final_test['best_linear']==1) &\n",
        "               (final_test['best_linear'] != final_test['target'])]['monthly_charges'].sum() * PROMO"
      ]
    },
    {
      "cell_type": "markdown",
      "metadata": {
        "id": "PM_Ym5MJuGKu"
      },
      "source": [
        "**Убытки от ухода клиента, которому не выдали промо (ошибка 2-го рода)**"
      ]
    },
    {
      "cell_type": "code",
      "execution_count": null,
      "metadata": {
        "id": "QjC6_bcauGKv",
        "outputId": "d9b9c15d-7689-411c-c766-c48cb4419d56"
      },
      "outputs": [
        {
          "data": {
            "text/plain": [
              "3283.5"
            ]
          },
          "execution_count": 68,
          "metadata": {},
          "output_type": "execute_result"
        }
      ],
      "source": [
        "final_test.loc[(final_test['best_linear']==0) &\n",
        "               (final_test['best_linear'] != final_test['target'])]['monthly_charges'].sum()"
      ]
    },
    {
      "cell_type": "markdown",
      "metadata": {
        "id": "EN3iKp44uGKv"
      },
      "source": [
        "### Случайный лес"
      ]
    },
    {
      "cell_type": "code",
      "execution_count": null,
      "metadata": {
        "id": "ILbotpXVuGKv",
        "outputId": "abe5ca63-13f4-4616-f553-9928f51ef1a9"
      },
      "outputs": [
        {
          "data": {
            "text/plain": [
              "7515.254999999999"
            ]
          },
          "execution_count": 69,
          "metadata": {},
          "output_type": "execute_result"
        }
      ],
      "source": [
        "final_test.loc[(final_test['best_rf']==1) &\n",
        "               (final_test['best_rf'] != final_test['target'])]['monthly_charges'].sum() * PROMO"
      ]
    },
    {
      "cell_type": "code",
      "execution_count": null,
      "metadata": {
        "id": "S7NtxHK_uGKv",
        "outputId": "92f25ba0-1553-43d7-e145-890a0f183abc"
      },
      "outputs": [
        {
          "data": {
            "text/plain": [
              "5843.450000000002"
            ]
          },
          "execution_count": 70,
          "metadata": {},
          "output_type": "execute_result"
        }
      ],
      "source": [
        "final_test.loc[(final_test['best_rf']==0) &\n",
        "               (final_test['best_rf'] != final_test['target'])]['monthly_charges'].sum()"
      ]
    },
    {
      "cell_type": "markdown",
      "metadata": {
        "id": "Hw250-E1uGKv"
      },
      "source": [
        "### Catboost"
      ]
    },
    {
      "cell_type": "code",
      "execution_count": null,
      "metadata": {
        "id": "FPTCVChtuGKw",
        "outputId": "87b93805-1c3b-4b0b-c265-81b072cb93c6"
      },
      "outputs": [
        {
          "data": {
            "text/plain": [
              "1976.8500000000001"
            ]
          },
          "execution_count": 71,
          "metadata": {},
          "output_type": "execute_result"
        }
      ],
      "source": [
        "final_test.loc[(final_test['catboost']==1) &\n",
        "               (final_test['catboost'] != final_test['target'])]['monthly_charges'].sum() * PROMO"
      ]
    },
    {
      "cell_type": "code",
      "execution_count": null,
      "metadata": {
        "id": "22H6TnQwuGKw",
        "outputId": "ba095f17-1dec-4928-d920-5684a7ca52de"
      },
      "outputs": [
        {
          "data": {
            "text/plain": [
              "8591.25"
            ]
          },
          "execution_count": 72,
          "metadata": {},
          "output_type": "execute_result"
        }
      ],
      "source": [
        "final_test.loc[(final_test['catboost']==0) &\n",
        "               (final_test['catboost'] != final_test['target'])]['monthly_charges'].sum()"
      ]
    },
    {
      "cell_type": "code",
      "execution_count": null,
      "metadata": {
        "id": "bfKpJH9iuGKw",
        "outputId": "4f84e1d8-ea06-41a5-b4c8-f5bd1ae8d881"
      },
      "outputs": [
        {
          "data": {
            "text/plain": [
              "10568.1"
            ]
          },
          "execution_count": 73,
          "metadata": {},
          "output_type": "execute_result"
        }
      ],
      "source": [
        "final_test.loc[(final_test['catboost']==1) &\n",
        "               (final_test['catboost'] != final_test['target'])]['monthly_charges'].sum() * PROMO + final_test.loc[(final_test['catboost']==0) &\n",
        "               (final_test['catboost'] != final_test['target'])]['monthly_charges'].sum()"
      ]
    },
    {
      "cell_type": "markdown",
      "metadata": {
        "id": "cd80XOSkuGKw"
      },
      "source": [
        "Лучшую минимизацию расходов даёт модель градиентного бустинга, при пороге около 0.35"
      ]
    },
    {
      "cell_type": "markdown",
      "metadata": {
        "id": "hHNxs8mouGKw"
      },
      "source": [
        "## Выводы"
      ]
    },
    {
      "cell_type": "markdown",
      "metadata": {
        "id": "2AeDu3QquGKx"
      },
      "source": [
        "В данном проекте была проделана работа по построению модели для прогноза оттока клиентов оператора связи.\n",
        "Было протестировано три вида моделей: логистической регресии, случайного леса и модель градиентного бустинга CatBoostClassifier, ключевая метрика - roc-auc.\n",
        "\n",
        "Модель логистической регрессии обучилась очень быстро - в течении 1й секунды, однако точность прогноза на кросс-валидации оказалась  низкой: 0.76.  \n",
        "Модель случайного леса обучалась в течении 67 секунд, точность прогноза на кросс-валидации составила: 0.81.  \n",
        "Модель CatBoostClassifier обучалась в течении 20 секунд, а  точность предсказания получилась выше других моделей: на кросс-валидации среднее значение roc-auc составило 0.86. Эта модель использовалась в предсказании оттока на тестовой выборке и результат roc-auc = 0.884, что превышает минимальный порог целевой метрики.\n",
        "\n",
        "На основании данных фактов, можно сделать вывод, что цель проекта достигнута."
      ]
    },
    {
      "cell_type": "markdown",
      "metadata": {
        "id": "KJedXGJ_uGKx"
      },
      "source": [
        "## Отчет по решению"
      ]
    },
    {
      "cell_type": "markdown",
      "metadata": {
        "id": "UM9_1wcmuGKx"
      },
      "source": [
        "Основная часть проекта сделана в соответствии с планом, расхождений с планом нет."
      ]
    },
    {
      "cell_type": "markdown",
      "metadata": {
        "id": "NfKdgE9auGKy"
      },
      "source": [
        "Существенных трудностей в процессе выполнения проекта не возникло. Думается, что все этапы проекта важны: предобработка данных, анализ данных и подготовка их к обучению, и, конечно, само обучение."
      ]
    },
    {
      "cell_type": "markdown",
      "metadata": {
        "id": "cNP5flGUuGKy"
      },
      "source": [
        "Как указано выше, важную роль в проекте сыграла предобработка данных. Были выполнены следующие преобразования:\n",
        "\n",
        "    1. названия столбцов были приведены к нижнему регисту и питоновскому стилю\n",
        "    2. были изменены типы данных в следующих признаках: begin_date и end_date в datetime, total_charges в float\n",
        "    3. была произведена проверка на наличие явных дубликатов. Явные дубликаты не обнаружены\n",
        "    4. на основании даты прекращения договора клиента был сгенерирован целевой признак. Также, был создан признак продолжительности пользования услугами компании и удалены даты начала и конца сотрудничества, для избежания утечки\n",
        "    5. объединены все четыре таблицы\n",
        "    6. в совокупной таблице были заполнены пропуски:\n",
        "        в признаке total_charges пропуски были заполнены нулями\n",
        "        в остальных признаках пропуски заполнены No"
      ]
    },
    {
      "cell_type": "markdown",
      "metadata": {
        "id": "1XxESf-XuGKy"
      },
      "source": [
        "Далее, былы исследованы распределения продолжительности сотрудничества и суммы ежемесячного платежа в разрезе актуальных и ушедших клиентов."
      ]
    },
    {
      "cell_type": "code",
      "execution_count": null,
      "metadata": {
        "id": "4n9ll-yYuGKy",
        "outputId": "e13d502a-1c42-4bc2-f309-e3c2a1931b87"
      },
      "outputs": [
        {
          "data": {
            "image/png": "[encoded data removed]",
            "text/plain": [
              "<Figure size 720x432 with 1 Axes>"
            ]
          },
          "metadata": {
            "needs_background": "light"
          },
          "output_type": "display_data"
        },
        {
          "name": "stdout",
          "output_type": "stream",
          "text": [
            "count    5942.000000\n",
            "mean      893.681084\n",
            "std       716.958551\n",
            "min         0.000000\n",
            "25%       245.000000\n",
            "50%       702.000000\n",
            "75%      1523.000000\n",
            "max      2314.000000\n",
            "Name: duration, dtype: float64\n"
          ]
        }
      ],
      "source": [
        "hist_dur(df_false, 'Гистограмма продолжительности сотрудничества актуальных клиентов')"
      ]
    },
    {
      "cell_type": "code",
      "execution_count": null,
      "metadata": {
        "id": "XOqeGTGyuGKz",
        "outputId": "486b3033-5cf6-436d-a5cd-926ac5686c68"
      },
      "outputs": [
        {
          "data": {
            "image/png": "[encoded data removed]",
            "text/plain": [
              "<Figure size 720x432 with 1 Axes>"
            ]
          },
          "metadata": {
            "needs_background": "light"
          },
          "output_type": "display_data"
        },
        {
          "name": "stdout",
          "output_type": "stream",
          "text": [
            "count    1101.000000\n",
            "mean      924.863760\n",
            "std       458.771309\n",
            "min        28.000000\n",
            "25%       577.000000\n",
            "50%       915.000000\n",
            "75%      1249.000000\n",
            "max      2129.000000\n",
            "Name: duration, dtype: float64\n"
          ]
        }
      ],
      "source": [
        "hist_dur(df_true, 'Гистограмма продолжительности сотрудничества ушедших клиентов')"
      ]
    },
    {
      "cell_type": "code",
      "execution_count": null,
      "metadata": {
        "id": "l8Eywq-BuGKz",
        "outputId": "707bda3e-bd23-4d42-85c8-e032d7c686a3"
      },
      "outputs": [
        {
          "data": {
            "image/png": "[encoded data removed]",
            "text/plain": [
              "<Figure size 720x432 with 1 Axes>"
            ]
          },
          "metadata": {
            "needs_background": "light"
          },
          "output_type": "display_data"
        }
      ],
      "source": [
        "hist_(full_df, 'monthly_charges', 'gone', 'Сумма ежемесячного платежа',\n",
        "      'Сумма ежемесячного платежа для актуальных и ушедших пользователей')"
      ]
    },
    {
      "cell_type": "markdown",
      "metadata": {
        "id": "oY_BMzyhuGKz"
      },
      "source": [
        "В процессе анализа на мультиколлинеарность была выявлены сильная зависимость между продолжительностью и суммарными выплатами, а также зависимость между суммарными выплатами и месячным платежом. По данным причинам удаляем признак total_charges. Также удален признак с id пользователей."
      ]
    },
    {
      "cell_type": "markdown",
      "metadata": {
        "id": "tpgE3BNOuGKz"
      },
      "source": [
        "Далее, было произведено разделение данных на обучающую и тестовую выборки. Размер тестовой выборки составил 0,25.  \n",
        "RANDOM_STATE = 30723"
      ]
    },
    {
      "cell_type": "markdown",
      "metadata": {
        "id": "IjMI-VaGuGK0"
      },
      "source": [
        "Для обучения использовались следующие признаки:  \n",
        "'type', 'paperless_billing', 'payment_method', 'monthly_charges',duration', 'gender', 'senior_citizen', 'partner', 'dependents', 'internet_service', 'online_security', 'online_backup', 'device_protection', 'tech_support', 'streaming_tv', 'streaming_movies', 'multiple_lines'.\n",
        "\n",
        "При этом, для обучения логистической регрессии было применено кодирование категориальных признаков с помощью OHE, а полученные признаки подвергнуты масштабированию.\n",
        "\n",
        "Модель случайного  леса  также использовала закодированные с помощью OHE  признаки, но без масштабирования.\n",
        "\n",
        "Для обучения CatBoostClassifier использовались неизмененные признаки, но они были кодированы внутренними инструментами модели."
      ]
    },
    {
      "cell_type": "markdown",
      "metadata": {
        "id": "J6flA6NuuGK0"
      },
      "source": [
        "Из трех обученных видов моделей, а именно логичтической регрессии, случайного леса и градиентного бустинга из библиотеки CatBoost, лучший результат показала CatBoostClassifier, и именно эта модель использовалась на финальном тесте.\n",
        "\n",
        "    Используемые параметры CatBoostClassifier: iterations=200,  \n",
        "                                               depth=6,  \n",
        "                                               learning_rate=0.1,\n",
        "                                               loss_function='Logloss',\n",
        "                                               eval_metric='AUC',\n",
        "                                               random_seed=RANDOM_STATE\n",
        "    Количество используемых частей при кросс-валидации = 5                                         \n",
        "    Также использовалось кодирование инструментами модели: cat_features=features_categirical\n"
      ]
    },
    {
      "cell_type": "markdown",
      "metadata": {
        "id": "1J_tPvSeuGK0"
      },
      "source": [
        "На тестовой выборке получены следующие метрики:\n",
        "        \n",
        "    roc auc = 0.88\n",
        "    Accuracy: 0.89\n",
        "    Precision: 0.81\n",
        "    Recall: 0.41\n",
        "    F1-score: 0.54"
      ]
    },
    {
      "cell_type": "markdown",
      "metadata": {
        "id": "kooiEJu0uGK0"
      },
      "source": [
        "Далее, был выведен график важности признаков.  \n",
        "Можно наблюдать, что наибольшим значением обладает duration, type и monthly_charges.\n",
        "Наименее значимыми являются streaming_tv, paperless_billing и gender."
      ]
    },
    {
      "cell_type": "code",
      "execution_count": null,
      "metadata": {
        "id": "Y1xijN8DuGK1",
        "outputId": "832b62e5-14b9-4dc6-cc74-2c4c06d02e0d"
      },
      "outputs": [
        {
          "data": {
            "image/png": "[encoded data removed]",
            "text/plain": [
              "<Figure size 720x432 with 1 Axes>"
            ]
          },
          "metadata": {
            "needs_background": "light"
          },
          "output_type": "display_data"
        }
      ],
      "source": [
        "feature_importance = model_cb.feature_importances_\n",
        "feature_imp = pd.DataFrame(sorted(zip(feature_importance, features.columns)), columns=['Value','Feature'])\n",
        "plt.figure(figsize=(10, 6))\n",
        "sns.barplot(x=\"Value\", y=\"Feature\", data=feature_imp.sort_values(by=\"Value\", ascending=False))\n",
        "plt.title('Feature importance')\n",
        "plt.tight_layout()\n",
        "plt.show();"
      ]
    }
  ],
  "metadata": {
    "ExecuteTimeLog": [
      {
        "duration": 443,
        "start_time": "2023-07-03T16:39:13.768Z"
      },
      {
        "duration": 149,
        "start_time": "2023-07-03T16:40:46.420Z"
      },
      {
        "duration": 22,
        "start_time": "2023-07-03T16:40:51.494Z"
      },
      {
        "duration": 4,
        "start_time": "2023-07-03T16:42:41.148Z"
      },
      {
        "duration": 5,
        "start_time": "2023-07-03T16:44:07.249Z"
      },
      {
        "duration": 5,
        "start_time": "2023-07-03T16:44:13.642Z"
      },
      {
        "duration": 4,
        "start_time": "2023-07-03T16:44:25.390Z"
      },
      {
        "duration": 36,
        "start_time": "2023-07-03T16:45:12.373Z"
      },
      {
        "duration": 18,
        "start_time": "2023-07-03T16:45:12.556Z"
      },
      {
        "duration": 14,
        "start_time": "2023-07-03T16:45:15.954Z"
      },
      {
        "duration": 5,
        "start_time": "2023-07-03T16:45:21.204Z"
      },
      {
        "duration": 94,
        "start_time": "2023-07-03T16:45:54.835Z"
      },
      {
        "duration": 9,
        "start_time": "2023-07-03T16:46:01.428Z"
      },
      {
        "duration": 4,
        "start_time": "2023-07-03T16:46:21.615Z"
      },
      {
        "duration": 231,
        "start_time": "2023-07-03T16:47:06.779Z"
      },
      {
        "duration": 5,
        "start_time": "2023-07-03T16:47:09.924Z"
      },
      {
        "duration": 20,
        "start_time": "2023-07-03T16:47:15.049Z"
      },
      {
        "duration": 151,
        "start_time": "2023-07-03T16:48:16.723Z"
      },
      {
        "duration": 177,
        "start_time": "2023-07-03T16:48:20.169Z"
      },
      {
        "duration": 16,
        "start_time": "2023-07-03T16:48:30.153Z"
      },
      {
        "duration": 19,
        "start_time": "2023-07-03T16:50:03.957Z"
      },
      {
        "duration": 13,
        "start_time": "2023-07-03T16:50:30.405Z"
      },
      {
        "duration": 12,
        "start_time": "2023-07-03T16:52:31.032Z"
      },
      {
        "duration": 12,
        "start_time": "2023-07-03T16:54:57.515Z"
      },
      {
        "duration": 11,
        "start_time": "2023-07-03T16:55:25.282Z"
      },
      {
        "duration": 138,
        "start_time": "2023-07-05T13:30:29.609Z"
      },
      {
        "duration": 491,
        "start_time": "2023-07-05T13:38:27.742Z"
      },
      {
        "duration": 451,
        "start_time": "2023-07-05T13:38:30.196Z"
      },
      {
        "duration": 62,
        "start_time": "2023-07-05T13:40:39.977Z"
      },
      {
        "duration": 22,
        "start_time": "2023-07-05T13:40:48.287Z"
      },
      {
        "duration": 22,
        "start_time": "2023-07-05T13:40:58.899Z"
      },
      {
        "duration": 11,
        "start_time": "2023-07-05T13:41:17.219Z"
      },
      {
        "duration": 15,
        "start_time": "2023-07-05T13:41:36.646Z"
      },
      {
        "duration": 14,
        "start_time": "2023-07-05T13:50:33.286Z"
      },
      {
        "duration": 13,
        "start_time": "2023-07-05T13:50:58.230Z"
      },
      {
        "duration": 15,
        "start_time": "2023-07-05T13:51:09.720Z"
      },
      {
        "duration": 17,
        "start_time": "2023-07-05T13:51:14.892Z"
      },
      {
        "duration": 22,
        "start_time": "2023-07-05T13:51:20.595Z"
      },
      {
        "duration": 19,
        "start_time": "2023-07-05T13:51:24.617Z"
      },
      {
        "duration": 30,
        "start_time": "2023-07-05T13:51:47.870Z"
      },
      {
        "duration": 38,
        "start_time": "2023-07-05T13:52:17.486Z"
      },
      {
        "duration": 21,
        "start_time": "2023-07-05T13:53:07.973Z"
      },
      {
        "duration": 400,
        "start_time": "2023-07-05T17:31:08.658Z"
      },
      {
        "duration": 103,
        "start_time": "2023-07-05T17:31:09.060Z"
      },
      {
        "duration": 34,
        "start_time": "2023-07-05T17:31:09.165Z"
      },
      {
        "duration": 41,
        "start_time": "2023-07-05T17:31:09.202Z"
      },
      {
        "duration": 30,
        "start_time": "2023-07-05T17:31:09.395Z"
      },
      {
        "duration": 17,
        "start_time": "2023-07-05T17:31:09.616Z"
      },
      {
        "duration": 465,
        "start_time": "2023-07-10T09:00:41.891Z"
      },
      {
        "duration": 459,
        "start_time": "2023-07-10T09:00:42.359Z"
      },
      {
        "duration": 32,
        "start_time": "2023-07-10T09:00:42.820Z"
      },
      {
        "duration": 34,
        "start_time": "2023-07-10T09:00:42.854Z"
      },
      {
        "duration": 40,
        "start_time": "2023-07-10T09:00:42.890Z"
      },
      {
        "duration": 47,
        "start_time": "2023-07-10T09:00:42.932Z"
      },
      {
        "duration": 3,
        "start_time": "2023-07-10T09:12:52.725Z"
      },
      {
        "duration": 1122,
        "start_time": "2023-07-10T09:13:20.456Z"
      },
      {
        "duration": 12,
        "start_time": "2023-07-10T09:14:42.771Z"
      },
      {
        "duration": 3,
        "start_time": "2023-07-10T09:14:46.945Z"
      },
      {
        "duration": 17,
        "start_time": "2023-07-10T09:15:24.045Z"
      },
      {
        "duration": 129,
        "start_time": "2023-07-10T09:15:55.944Z"
      },
      {
        "duration": 12,
        "start_time": "2023-07-10T09:16:00.194Z"
      },
      {
        "duration": 14,
        "start_time": "2023-07-10T09:16:59.518Z"
      },
      {
        "duration": 4,
        "start_time": "2023-07-10T09:18:07.653Z"
      },
      {
        "duration": 18,
        "start_time": "2023-07-10T09:18:15.455Z"
      },
      {
        "duration": 5,
        "start_time": "2023-07-10T09:18:57.601Z"
      },
      {
        "duration": 7,
        "start_time": "2023-07-10T09:20:27.349Z"
      },
      {
        "duration": 17,
        "start_time": "2023-07-10T09:22:39.188Z"
      },
      {
        "duration": 21,
        "start_time": "2023-07-10T09:22:43.904Z"
      },
      {
        "duration": 15,
        "start_time": "2023-07-10T09:23:05.023Z"
      },
      {
        "duration": 12,
        "start_time": "2023-07-10T10:05:43.206Z"
      },
      {
        "duration": 7,
        "start_time": "2023-07-10T10:05:46.133Z"
      },
      {
        "duration": 9,
        "start_time": "2023-07-10T10:07:06.509Z"
      },
      {
        "duration": 15,
        "start_time": "2023-07-10T10:07:10.839Z"
      },
      {
        "duration": 11,
        "start_time": "2023-07-10T10:07:20.157Z"
      },
      {
        "duration": 24,
        "start_time": "2023-07-10T10:07:27.805Z"
      },
      {
        "duration": 4328,
        "start_time": "2023-07-10T10:08:54.935Z"
      },
      {
        "duration": 3341,
        "start_time": "2023-07-10T10:09:18.080Z"
      },
      {
        "duration": 12,
        "start_time": "2023-07-10T10:09:22.884Z"
      },
      {
        "duration": 413,
        "start_time": "2023-07-10T10:09:35.145Z"
      },
      {
        "duration": 108,
        "start_time": "2023-07-10T10:09:35.560Z"
      },
      {
        "duration": 31,
        "start_time": "2023-07-10T10:09:35.670Z"
      },
      {
        "duration": 28,
        "start_time": "2023-07-10T10:09:35.703Z"
      },
      {
        "duration": 56,
        "start_time": "2023-07-10T10:09:35.733Z"
      },
      {
        "duration": 32,
        "start_time": "2023-07-10T10:09:35.791Z"
      },
      {
        "duration": 914,
        "start_time": "2023-07-10T10:09:35.827Z"
      },
      {
        "duration": 3,
        "start_time": "2023-07-10T10:09:36.743Z"
      },
      {
        "duration": 30,
        "start_time": "2023-07-10T10:09:36.748Z"
      },
      {
        "duration": 51,
        "start_time": "2023-07-10T10:09:36.780Z"
      },
      {
        "duration": 55,
        "start_time": "2023-07-10T10:09:36.833Z"
      },
      {
        "duration": 34,
        "start_time": "2023-07-10T10:09:36.890Z"
      },
      {
        "duration": 32,
        "start_time": "2023-07-10T10:09:36.926Z"
      },
      {
        "duration": 151,
        "start_time": "2023-07-10T10:11:00.627Z"
      },
      {
        "duration": 22,
        "start_time": "2023-07-10T10:11:03.896Z"
      },
      {
        "duration": 17,
        "start_time": "2023-07-10T10:11:13.104Z"
      },
      {
        "duration": 6,
        "start_time": "2023-07-10T10:11:48.671Z"
      },
      {
        "duration": 11,
        "start_time": "2023-07-10T10:11:57.363Z"
      },
      {
        "duration": 16,
        "start_time": "2023-07-10T10:12:03.827Z"
      },
      {
        "duration": 18,
        "start_time": "2023-07-10T10:12:17.968Z"
      },
      {
        "duration": 27,
        "start_time": "2023-07-10T10:14:10.291Z"
      },
      {
        "duration": 38,
        "start_time": "2023-07-10T10:14:12.887Z"
      },
      {
        "duration": 35,
        "start_time": "2023-07-10T10:14:40.146Z"
      },
      {
        "duration": 42,
        "start_time": "2023-07-10T10:14:48.596Z"
      },
      {
        "duration": 102,
        "start_time": "2023-07-10T10:15:07.232Z"
      },
      {
        "duration": 21,
        "start_time": "2023-07-10T10:15:10.324Z"
      },
      {
        "duration": 15,
        "start_time": "2023-07-10T10:15:12.457Z"
      },
      {
        "duration": 8,
        "start_time": "2023-07-10T10:15:30.888Z"
      },
      {
        "duration": 150,
        "start_time": "2023-07-10T10:16:21.423Z"
      },
      {
        "duration": 12,
        "start_time": "2023-07-10T10:16:26.239Z"
      },
      {
        "duration": 18,
        "start_time": "2023-07-10T10:16:32.141Z"
      },
      {
        "duration": 406,
        "start_time": "2023-07-10T10:16:58.956Z"
      },
      {
        "duration": 119,
        "start_time": "2023-07-10T10:16:59.364Z"
      },
      {
        "duration": 44,
        "start_time": "2023-07-10T10:16:59.485Z"
      },
      {
        "duration": 23,
        "start_time": "2023-07-10T10:16:59.534Z"
      },
      {
        "duration": 29,
        "start_time": "2023-07-10T10:16:59.559Z"
      },
      {
        "duration": 22,
        "start_time": "2023-07-10T10:16:59.609Z"
      },
      {
        "duration": 920,
        "start_time": "2023-07-10T10:16:59.633Z"
      },
      {
        "duration": 3,
        "start_time": "2023-07-10T10:17:00.555Z"
      },
      {
        "duration": 95,
        "start_time": "2023-07-10T10:17:00.560Z"
      },
      {
        "duration": 126,
        "start_time": "2023-07-10T10:17:00.658Z"
      },
      {
        "duration": 66,
        "start_time": "2023-07-10T10:17:00.786Z"
      },
      {
        "duration": 67,
        "start_time": "2023-07-10T10:17:00.855Z"
      },
      {
        "duration": 64,
        "start_time": "2023-07-10T10:17:00.926Z"
      },
      {
        "duration": 80,
        "start_time": "2023-07-10T10:17:00.992Z"
      },
      {
        "duration": 18,
        "start_time": "2023-07-10T10:17:06.224Z"
      },
      {
        "duration": 17,
        "start_time": "2023-07-10T10:17:13.086Z"
      },
      {
        "duration": 143,
        "start_time": "2023-07-10T10:17:46.887Z"
      },
      {
        "duration": 28,
        "start_time": "2023-07-10T10:22:09.735Z"
      },
      {
        "duration": 16,
        "start_time": "2023-07-10T10:22:15.378Z"
      },
      {
        "duration": 42,
        "start_time": "2023-07-10T10:23:19.355Z"
      },
      {
        "duration": 462,
        "start_time": "2023-07-10T10:23:24.405Z"
      },
      {
        "duration": 113,
        "start_time": "2023-07-10T10:23:24.869Z"
      },
      {
        "duration": 36,
        "start_time": "2023-07-10T10:23:24.984Z"
      },
      {
        "duration": 36,
        "start_time": "2023-07-10T10:23:25.023Z"
      },
      {
        "duration": 32,
        "start_time": "2023-07-10T10:23:25.061Z"
      },
      {
        "duration": 29,
        "start_time": "2023-07-10T10:23:25.094Z"
      },
      {
        "duration": 1003,
        "start_time": "2023-07-10T10:23:25.126Z"
      },
      {
        "duration": 8,
        "start_time": "2023-07-10T10:23:26.133Z"
      },
      {
        "duration": 19,
        "start_time": "2023-07-10T10:23:26.143Z"
      },
      {
        "duration": 25,
        "start_time": "2023-07-10T10:23:26.164Z"
      },
      {
        "duration": 34,
        "start_time": "2023-07-10T10:23:26.191Z"
      },
      {
        "duration": 37,
        "start_time": "2023-07-10T10:23:26.228Z"
      },
      {
        "duration": 18,
        "start_time": "2023-07-10T10:23:26.267Z"
      },
      {
        "duration": 19,
        "start_time": "2023-07-10T10:23:26.287Z"
      },
      {
        "duration": 28,
        "start_time": "2023-07-10T10:23:35.289Z"
      },
      {
        "duration": 7,
        "start_time": "2023-07-10T10:23:56.398Z"
      },
      {
        "duration": 442,
        "start_time": "2023-07-10T10:25:38.220Z"
      },
      {
        "duration": 104,
        "start_time": "2023-07-10T10:25:38.664Z"
      },
      {
        "duration": 32,
        "start_time": "2023-07-10T10:25:38.770Z"
      },
      {
        "duration": 31,
        "start_time": "2023-07-10T10:25:38.805Z"
      },
      {
        "duration": 22,
        "start_time": "2023-07-10T10:25:40.621Z"
      },
      {
        "duration": 18,
        "start_time": "2023-07-10T10:25:40.645Z"
      },
      {
        "duration": 905,
        "start_time": "2023-07-10T10:25:40.665Z"
      },
      {
        "duration": 3,
        "start_time": "2023-07-10T10:25:41.572Z"
      },
      {
        "duration": 29,
        "start_time": "2023-07-10T10:25:41.578Z"
      },
      {
        "duration": 52,
        "start_time": "2023-07-10T10:25:41.609Z"
      },
      {
        "duration": 77,
        "start_time": "2023-07-10T10:25:41.664Z"
      },
      {
        "duration": 23,
        "start_time": "2023-07-10T10:25:41.807Z"
      },
      {
        "duration": 20,
        "start_time": "2023-07-10T10:25:41.833Z"
      },
      {
        "duration": 26,
        "start_time": "2023-07-10T10:25:41.855Z"
      },
      {
        "duration": 20,
        "start_time": "2023-07-10T10:26:27.563Z"
      },
      {
        "duration": 97,
        "start_time": "2023-07-10T10:28:06.651Z"
      },
      {
        "duration": 10,
        "start_time": "2023-07-10T10:28:10.323Z"
      },
      {
        "duration": 38,
        "start_time": "2023-07-10T10:28:12.404Z"
      },
      {
        "duration": 11,
        "start_time": "2023-07-10T10:28:14.259Z"
      },
      {
        "duration": 4,
        "start_time": "2023-07-10T10:28:43.299Z"
      },
      {
        "duration": 10,
        "start_time": "2023-07-10T10:28:48.085Z"
      },
      {
        "duration": 16,
        "start_time": "2023-07-10T10:29:07.994Z"
      },
      {
        "duration": 14,
        "start_time": "2023-07-10T10:29:57.891Z"
      },
      {
        "duration": 16,
        "start_time": "2023-07-10T10:30:34.934Z"
      },
      {
        "duration": 14,
        "start_time": "2023-07-10T10:30:41.537Z"
      },
      {
        "duration": 18,
        "start_time": "2023-07-10T10:31:11.799Z"
      },
      {
        "duration": 28,
        "start_time": "2023-07-10T10:31:15.699Z"
      },
      {
        "duration": 8,
        "start_time": "2023-07-10T10:31:34.395Z"
      },
      {
        "duration": 13,
        "start_time": "2023-07-10T10:31:34.633Z"
      },
      {
        "duration": 13,
        "start_time": "2023-07-10T10:31:43.935Z"
      },
      {
        "duration": 27,
        "start_time": "2023-07-10T10:33:47.299Z"
      },
      {
        "duration": 20,
        "start_time": "2023-07-10T10:34:01.092Z"
      },
      {
        "duration": 10,
        "start_time": "2023-07-10T10:34:12.392Z"
      },
      {
        "duration": 8,
        "start_time": "2023-07-10T10:34:23.131Z"
      },
      {
        "duration": 13,
        "start_time": "2023-07-10T10:34:27.354Z"
      },
      {
        "duration": 8,
        "start_time": "2023-07-10T10:34:37.563Z"
      },
      {
        "duration": 11,
        "start_time": "2023-07-10T10:34:45.103Z"
      },
      {
        "duration": 7,
        "start_time": "2023-07-10T10:34:48.023Z"
      },
      {
        "duration": 30,
        "start_time": "2023-07-10T10:36:19.907Z"
      },
      {
        "duration": 22,
        "start_time": "2023-07-10T10:37:04.435Z"
      },
      {
        "duration": 21,
        "start_time": "2023-07-10T10:46:54.598Z"
      },
      {
        "duration": 13,
        "start_time": "2023-07-10T10:47:56.339Z"
      },
      {
        "duration": 5,
        "start_time": "2023-07-10T10:53:12.487Z"
      },
      {
        "duration": 22,
        "start_time": "2023-07-10T10:53:16.902Z"
      },
      {
        "duration": 16,
        "start_time": "2023-07-10T10:53:24.346Z"
      },
      {
        "duration": 18,
        "start_time": "2023-07-10T10:53:47.499Z"
      },
      {
        "duration": 22,
        "start_time": "2023-07-10T10:53:52.934Z"
      },
      {
        "duration": 116,
        "start_time": "2023-07-10T10:55:47.843Z"
      },
      {
        "duration": 17,
        "start_time": "2023-07-10T10:55:50.831Z"
      },
      {
        "duration": 15,
        "start_time": "2023-07-10T10:55:55.116Z"
      },
      {
        "duration": 16,
        "start_time": "2023-07-10T10:56:00.232Z"
      },
      {
        "duration": 11,
        "start_time": "2023-07-10T11:04:54.702Z"
      },
      {
        "duration": 5,
        "start_time": "2023-07-10T11:05:05.099Z"
      },
      {
        "duration": 17,
        "start_time": "2023-07-10T11:05:08.049Z"
      },
      {
        "duration": 6,
        "start_time": "2023-07-10T11:05:49.953Z"
      },
      {
        "duration": 16,
        "start_time": "2023-07-10T11:05:51.714Z"
      },
      {
        "duration": 22,
        "start_time": "2023-07-10T11:06:12.595Z"
      },
      {
        "duration": 19,
        "start_time": "2023-07-10T11:06:36.241Z"
      },
      {
        "duration": 23,
        "start_time": "2023-07-10T11:06:46.611Z"
      },
      {
        "duration": 11,
        "start_time": "2023-07-10T11:06:53.339Z"
      },
      {
        "duration": 16,
        "start_time": "2023-07-10T11:06:57.820Z"
      },
      {
        "duration": 12,
        "start_time": "2023-07-10T11:07:04.658Z"
      },
      {
        "duration": 52,
        "start_time": "2023-07-10T11:07:08.271Z"
      },
      {
        "duration": 18,
        "start_time": "2023-07-10T11:08:06.329Z"
      },
      {
        "duration": 17,
        "start_time": "2023-07-10T11:08:35.222Z"
      },
      {
        "duration": 16,
        "start_time": "2023-07-10T11:08:51.324Z"
      },
      {
        "duration": 11,
        "start_time": "2023-07-10T11:09:50.325Z"
      },
      {
        "duration": 6,
        "start_time": "2023-07-10T11:10:24.205Z"
      },
      {
        "duration": 3,
        "start_time": "2023-07-10T11:10:46.769Z"
      },
      {
        "duration": 10,
        "start_time": "2023-07-10T11:10:53.080Z"
      },
      {
        "duration": 12,
        "start_time": "2023-07-10T11:10:58.607Z"
      },
      {
        "duration": 18,
        "start_time": "2023-07-10T11:11:13.801Z"
      },
      {
        "duration": 19,
        "start_time": "2023-07-10T11:12:41.150Z"
      },
      {
        "duration": 15,
        "start_time": "2023-07-10T11:13:33.657Z"
      },
      {
        "duration": 4463,
        "start_time": "2023-07-10T11:16:40.417Z"
      },
      {
        "duration": 2720,
        "start_time": "2023-07-10T11:16:50.418Z"
      },
      {
        "duration": 396,
        "start_time": "2023-07-10T11:19:55.781Z"
      },
      {
        "duration": 241,
        "start_time": "2023-07-10T11:20:35.734Z"
      },
      {
        "duration": 395,
        "start_time": "2023-07-10T11:21:29.265Z"
      },
      {
        "duration": 431,
        "start_time": "2023-07-10T11:21:35.180Z"
      },
      {
        "duration": 104,
        "start_time": "2023-07-10T11:21:35.614Z"
      },
      {
        "duration": 35,
        "start_time": "2023-07-10T11:21:35.720Z"
      },
      {
        "duration": 108,
        "start_time": "2023-07-10T11:21:35.757Z"
      },
      {
        "duration": 341,
        "start_time": "2023-07-10T11:21:35.868Z"
      },
      {
        "duration": 63,
        "start_time": "2023-07-10T11:21:36.212Z"
      },
      {
        "duration": 3372,
        "start_time": "2023-07-10T11:21:36.276Z"
      },
      {
        "duration": 2,
        "start_time": "2023-07-10T11:21:39.651Z"
      },
      {
        "duration": 14,
        "start_time": "2023-07-10T11:21:39.655Z"
      },
      {
        "duration": 18,
        "start_time": "2023-07-10T11:21:39.671Z"
      },
      {
        "duration": 31,
        "start_time": "2023-07-10T11:21:39.691Z"
      },
      {
        "duration": 12,
        "start_time": "2023-07-10T11:21:39.724Z"
      },
      {
        "duration": 17,
        "start_time": "2023-07-10T11:21:39.737Z"
      },
      {
        "duration": 18,
        "start_time": "2023-07-10T11:21:39.758Z"
      },
      {
        "duration": 13,
        "start_time": "2023-07-10T11:21:39.778Z"
      },
      {
        "duration": 27,
        "start_time": "2023-07-10T11:21:39.793Z"
      },
      {
        "duration": 25,
        "start_time": "2023-07-10T11:21:39.821Z"
      },
      {
        "duration": 13,
        "start_time": "2023-07-10T11:21:39.848Z"
      },
      {
        "duration": 13,
        "start_time": "2023-07-10T11:21:39.863Z"
      },
      {
        "duration": 41,
        "start_time": "2023-07-10T11:21:39.878Z"
      },
      {
        "duration": 22,
        "start_time": "2023-07-10T11:21:39.921Z"
      },
      {
        "duration": 6,
        "start_time": "2023-07-10T11:21:39.945Z"
      },
      {
        "duration": 20,
        "start_time": "2023-07-10T11:21:39.953Z"
      },
      {
        "duration": 434,
        "start_time": "2023-07-10T11:21:39.975Z"
      },
      {
        "duration": 2,
        "start_time": "2023-07-10T11:21:40.411Z"
      },
      {
        "duration": 26,
        "start_time": "2023-07-10T11:21:51.072Z"
      },
      {
        "duration": 23,
        "start_time": "2023-07-10T11:22:01.586Z"
      },
      {
        "duration": 25,
        "start_time": "2023-07-10T11:22:08.118Z"
      },
      {
        "duration": 126,
        "start_time": "2023-07-10T11:37:07.957Z"
      },
      {
        "duration": 10,
        "start_time": "2023-07-10T11:37:18.035Z"
      },
      {
        "duration": 22,
        "start_time": "2023-07-10T11:37:20.828Z"
      },
      {
        "duration": 23,
        "start_time": "2023-07-10T11:37:27.357Z"
      },
      {
        "duration": 17,
        "start_time": "2023-07-10T11:37:36.402Z"
      },
      {
        "duration": 26,
        "start_time": "2023-07-10T11:37:39.047Z"
      },
      {
        "duration": 464,
        "start_time": "2023-07-10T11:39:38.112Z"
      },
      {
        "duration": 104,
        "start_time": "2023-07-10T11:39:38.580Z"
      },
      {
        "duration": 37,
        "start_time": "2023-07-10T11:39:38.687Z"
      },
      {
        "duration": 22,
        "start_time": "2023-07-10T11:39:38.726Z"
      },
      {
        "duration": 22,
        "start_time": "2023-07-10T11:39:38.752Z"
      },
      {
        "duration": 47,
        "start_time": "2023-07-10T11:39:38.776Z"
      },
      {
        "duration": 3542,
        "start_time": "2023-07-10T11:39:38.825Z"
      },
      {
        "duration": 3,
        "start_time": "2023-07-10T11:39:42.370Z"
      },
      {
        "duration": 24,
        "start_time": "2023-07-10T11:39:42.375Z"
      },
      {
        "duration": 37,
        "start_time": "2023-07-10T11:39:42.402Z"
      },
      {
        "duration": 46,
        "start_time": "2023-07-10T11:39:42.441Z"
      },
      {
        "duration": 37,
        "start_time": "2023-07-10T11:39:42.490Z"
      },
      {
        "duration": 47,
        "start_time": "2023-07-10T11:39:42.530Z"
      },
      {
        "duration": 38,
        "start_time": "2023-07-10T11:39:42.581Z"
      },
      {
        "duration": 29,
        "start_time": "2023-07-10T11:39:42.622Z"
      },
      {
        "duration": 26,
        "start_time": "2023-07-10T11:39:42.654Z"
      },
      {
        "duration": 40,
        "start_time": "2023-07-10T11:39:42.682Z"
      },
      {
        "duration": 15,
        "start_time": "2023-07-10T11:39:42.725Z"
      },
      {
        "duration": 22,
        "start_time": "2023-07-10T11:39:42.743Z"
      },
      {
        "duration": 45,
        "start_time": "2023-07-10T11:39:42.767Z"
      },
      {
        "duration": 46,
        "start_time": "2023-07-10T11:39:42.815Z"
      },
      {
        "duration": 15,
        "start_time": "2023-07-10T11:39:42.864Z"
      },
      {
        "duration": 32,
        "start_time": "2023-07-10T11:39:42.882Z"
      },
      {
        "duration": 492,
        "start_time": "2023-07-10T11:39:42.917Z"
      },
      {
        "duration": 24,
        "start_time": "2023-07-10T11:39:43.411Z"
      },
      {
        "duration": 51,
        "start_time": "2023-07-10T11:39:43.437Z"
      },
      {
        "duration": 121,
        "start_time": "2023-07-10T11:39:43.491Z"
      },
      {
        "duration": 0,
        "start_time": "2023-07-10T11:39:43.614Z"
      },
      {
        "duration": 18,
        "start_time": "2023-07-10T11:40:29.886Z"
      },
      {
        "duration": 413,
        "start_time": "2023-07-10T11:40:53.443Z"
      },
      {
        "duration": 18,
        "start_time": "2023-07-10T11:41:23.164Z"
      },
      {
        "duration": 40,
        "start_time": "2023-07-10T11:43:13.212Z"
      },
      {
        "duration": 27,
        "start_time": "2023-07-10T11:43:15.332Z"
      },
      {
        "duration": 16,
        "start_time": "2023-07-10T11:44:31.390Z"
      },
      {
        "duration": 11,
        "start_time": "2023-07-10T11:49:49.825Z"
      },
      {
        "duration": 6,
        "start_time": "2023-07-10T11:49:56.691Z"
      },
      {
        "duration": 6,
        "start_time": "2023-07-10T11:50:35.611Z"
      },
      {
        "duration": 6,
        "start_time": "2023-07-10T11:51:24.806Z"
      },
      {
        "duration": 460,
        "start_time": "2023-07-10T11:52:03.223Z"
      },
      {
        "duration": 116,
        "start_time": "2023-07-10T11:52:03.685Z"
      },
      {
        "duration": 47,
        "start_time": "2023-07-10T11:52:03.802Z"
      },
      {
        "duration": 31,
        "start_time": "2023-07-10T11:52:03.852Z"
      },
      {
        "duration": 55,
        "start_time": "2023-07-10T11:52:03.886Z"
      },
      {
        "duration": 36,
        "start_time": "2023-07-10T11:52:03.944Z"
      },
      {
        "duration": 4022,
        "start_time": "2023-07-10T11:52:03.983Z"
      },
      {
        "duration": 5,
        "start_time": "2023-07-10T11:52:08.010Z"
      },
      {
        "duration": 22,
        "start_time": "2023-07-10T11:52:08.021Z"
      },
      {
        "duration": 22,
        "start_time": "2023-07-10T11:52:08.045Z"
      },
      {
        "duration": 23,
        "start_time": "2023-07-10T11:52:08.069Z"
      },
      {
        "duration": 32,
        "start_time": "2023-07-10T11:52:08.095Z"
      },
      {
        "duration": 11,
        "start_time": "2023-07-10T11:52:08.131Z"
      },
      {
        "duration": 14,
        "start_time": "2023-07-10T11:52:08.145Z"
      },
      {
        "duration": 16,
        "start_time": "2023-07-10T11:52:08.161Z"
      },
      {
        "duration": 38,
        "start_time": "2023-07-10T11:52:08.179Z"
      },
      {
        "duration": 37,
        "start_time": "2023-07-10T11:52:08.223Z"
      },
      {
        "duration": 13,
        "start_time": "2023-07-10T11:52:08.262Z"
      },
      {
        "duration": 13,
        "start_time": "2023-07-10T11:52:08.277Z"
      },
      {
        "duration": 36,
        "start_time": "2023-07-10T11:52:08.291Z"
      },
      {
        "duration": 39,
        "start_time": "2023-07-10T11:52:08.330Z"
      },
      {
        "duration": 6,
        "start_time": "2023-07-10T11:52:08.371Z"
      },
      {
        "duration": 23,
        "start_time": "2023-07-10T11:52:08.379Z"
      },
      {
        "duration": 453,
        "start_time": "2023-07-10T11:52:08.409Z"
      },
      {
        "duration": 0,
        "start_time": "2023-07-10T11:52:08.864Z"
      },
      {
        "duration": 0,
        "start_time": "2023-07-10T11:52:08.866Z"
      },
      {
        "duration": 0,
        "start_time": "2023-07-10T11:52:08.867Z"
      },
      {
        "duration": 403,
        "start_time": "2023-07-10T11:52:16.545Z"
      },
      {
        "duration": 459,
        "start_time": "2023-07-10T11:52:22.935Z"
      },
      {
        "duration": 114,
        "start_time": "2023-07-10T11:52:23.396Z"
      },
      {
        "duration": 37,
        "start_time": "2023-07-10T11:52:23.514Z"
      },
      {
        "duration": 36,
        "start_time": "2023-07-10T11:52:23.554Z"
      },
      {
        "duration": 75,
        "start_time": "2023-07-10T11:52:23.592Z"
      },
      {
        "duration": 152,
        "start_time": "2023-07-10T11:52:23.669Z"
      },
      {
        "duration": 3790,
        "start_time": "2023-07-10T11:52:23.824Z"
      },
      {
        "duration": 4,
        "start_time": "2023-07-10T11:52:27.623Z"
      },
      {
        "duration": 25,
        "start_time": "2023-07-10T11:52:27.629Z"
      },
      {
        "duration": 35,
        "start_time": "2023-07-10T11:52:27.659Z"
      },
      {
        "duration": 36,
        "start_time": "2023-07-10T11:52:27.696Z"
      },
      {
        "duration": 20,
        "start_time": "2023-07-10T11:52:27.734Z"
      },
      {
        "duration": 13,
        "start_time": "2023-07-10T11:52:27.756Z"
      },
      {
        "duration": 21,
        "start_time": "2023-07-10T11:52:27.771Z"
      },
      {
        "duration": 24,
        "start_time": "2023-07-10T11:52:27.794Z"
      },
      {
        "duration": 41,
        "start_time": "2023-07-10T11:52:27.821Z"
      },
      {
        "duration": 34,
        "start_time": "2023-07-10T11:52:27.864Z"
      },
      {
        "duration": 24,
        "start_time": "2023-07-10T11:52:27.900Z"
      },
      {
        "duration": 16,
        "start_time": "2023-07-10T11:52:27.926Z"
      },
      {
        "duration": 17,
        "start_time": "2023-07-10T11:52:27.945Z"
      },
      {
        "duration": 25,
        "start_time": "2023-07-10T11:52:27.965Z"
      },
      {
        "duration": 17,
        "start_time": "2023-07-10T11:52:27.992Z"
      },
      {
        "duration": 41,
        "start_time": "2023-07-10T11:52:28.011Z"
      },
      {
        "duration": 416,
        "start_time": "2023-07-10T11:52:28.054Z"
      },
      {
        "duration": 20,
        "start_time": "2023-07-10T11:52:28.472Z"
      },
      {
        "duration": 27,
        "start_time": "2023-07-10T11:52:28.518Z"
      },
      {
        "duration": 36,
        "start_time": "2023-07-10T11:52:28.547Z"
      },
      {
        "duration": 169,
        "start_time": "2023-07-10T11:54:25.966Z"
      },
      {
        "duration": 34,
        "start_time": "2023-07-10T11:54:35.907Z"
      },
      {
        "duration": 21,
        "start_time": "2023-07-10T11:54:47.327Z"
      },
      {
        "duration": 24,
        "start_time": "2023-07-10T11:55:16.737Z"
      },
      {
        "duration": 27,
        "start_time": "2023-07-10T11:56:00.271Z"
      },
      {
        "duration": 37,
        "start_time": "2023-07-10T11:56:37.203Z"
      },
      {
        "duration": 30,
        "start_time": "2023-07-10T11:57:17.901Z"
      },
      {
        "duration": 24,
        "start_time": "2023-07-10T11:57:25.510Z"
      },
      {
        "duration": 6,
        "start_time": "2023-07-10T11:58:54.226Z"
      },
      {
        "duration": 25,
        "start_time": "2023-07-10T12:01:19.527Z"
      },
      {
        "duration": 28,
        "start_time": "2023-07-10T12:02:23.124Z"
      },
      {
        "duration": 20,
        "start_time": "2023-07-10T12:04:00.739Z"
      },
      {
        "duration": 37,
        "start_time": "2023-07-10T12:04:08.102Z"
      },
      {
        "duration": 35,
        "start_time": "2023-07-10T12:04:53.395Z"
      },
      {
        "duration": 31,
        "start_time": "2023-07-10T12:05:08.323Z"
      },
      {
        "duration": 5,
        "start_time": "2023-07-10T12:14:58.299Z"
      },
      {
        "duration": 6,
        "start_time": "2023-07-10T12:14:59.744Z"
      },
      {
        "duration": 7,
        "start_time": "2023-07-10T12:15:13.514Z"
      },
      {
        "duration": 16,
        "start_time": "2023-07-10T12:15:29.212Z"
      },
      {
        "duration": 29,
        "start_time": "2023-07-10T12:15:34.472Z"
      },
      {
        "duration": 18,
        "start_time": "2023-07-10T12:15:44.545Z"
      },
      {
        "duration": 7,
        "start_time": "2023-07-10T12:15:56.232Z"
      },
      {
        "duration": 290,
        "start_time": "2023-07-10T12:21:35.458Z"
      },
      {
        "duration": 146,
        "start_time": "2023-07-10T12:21:42.986Z"
      },
      {
        "duration": 2374,
        "start_time": "2023-07-10T12:22:15.098Z"
      },
      {
        "duration": 474,
        "start_time": "2023-07-10T12:24:01.813Z"
      },
      {
        "duration": 106,
        "start_time": "2023-07-10T12:24:02.289Z"
      },
      {
        "duration": 33,
        "start_time": "2023-07-10T12:24:02.398Z"
      },
      {
        "duration": 43,
        "start_time": "2023-07-10T12:24:02.433Z"
      },
      {
        "duration": 37,
        "start_time": "2023-07-10T12:24:02.479Z"
      },
      {
        "duration": 77,
        "start_time": "2023-07-10T12:24:02.518Z"
      },
      {
        "duration": 3518,
        "start_time": "2023-07-10T12:24:02.597Z"
      },
      {
        "duration": 3,
        "start_time": "2023-07-10T12:24:06.118Z"
      },
      {
        "duration": 27,
        "start_time": "2023-07-10T12:24:06.123Z"
      },
      {
        "duration": 18,
        "start_time": "2023-07-10T12:24:06.152Z"
      },
      {
        "duration": 21,
        "start_time": "2023-07-10T12:24:06.173Z"
      },
      {
        "duration": 21,
        "start_time": "2023-07-10T12:24:06.197Z"
      },
      {
        "duration": 14,
        "start_time": "2023-07-10T12:24:06.220Z"
      },
      {
        "duration": 25,
        "start_time": "2023-07-10T12:24:06.238Z"
      },
      {
        "duration": 29,
        "start_time": "2023-07-10T12:24:06.265Z"
      },
      {
        "duration": 36,
        "start_time": "2023-07-10T12:24:06.296Z"
      },
      {
        "duration": 39,
        "start_time": "2023-07-10T12:24:06.334Z"
      },
      {
        "duration": 13,
        "start_time": "2023-07-10T12:24:06.376Z"
      },
      {
        "duration": 22,
        "start_time": "2023-07-10T12:24:06.392Z"
      },
      {
        "duration": 44,
        "start_time": "2023-07-10T12:24:06.416Z"
      },
      {
        "duration": 37,
        "start_time": "2023-07-10T12:24:06.462Z"
      },
      {
        "duration": 7,
        "start_time": "2023-07-10T12:24:06.502Z"
      },
      {
        "duration": 23,
        "start_time": "2023-07-10T12:24:06.511Z"
      },
      {
        "duration": 418,
        "start_time": "2023-07-10T12:24:06.536Z"
      },
      {
        "duration": 20,
        "start_time": "2023-07-10T12:24:06.956Z"
      },
      {
        "duration": 104,
        "start_time": "2023-07-10T12:24:06.978Z"
      },
      {
        "duration": 28,
        "start_time": "2023-07-10T12:24:07.084Z"
      },
      {
        "duration": 19,
        "start_time": "2023-07-10T12:24:07.114Z"
      },
      {
        "duration": 35,
        "start_time": "2023-07-10T12:24:07.135Z"
      },
      {
        "duration": 6,
        "start_time": "2023-07-10T12:24:07.172Z"
      },
      {
        "duration": 36271,
        "start_time": "2023-07-10T12:24:07.180Z"
      },
      {
        "duration": 21,
        "start_time": "2023-07-10T12:25:20.847Z"
      },
      {
        "duration": 39591,
        "start_time": "2023-07-10T12:25:41.582Z"
      },
      {
        "duration": 0,
        "start_time": "2023-07-10T12:26:21.175Z"
      },
      {
        "duration": 8,
        "start_time": "2023-07-10T12:26:24.686Z"
      },
      {
        "duration": 17,
        "start_time": "2023-07-10T12:27:14.093Z"
      },
      {
        "duration": 226,
        "start_time": "2023-07-10T12:27:21.559Z"
      },
      {
        "duration": 105910,
        "start_time": "2023-07-10T12:27:54.462Z"
      },
      {
        "duration": 147,
        "start_time": "2023-07-10T12:29:58.551Z"
      },
      {
        "duration": 11,
        "start_time": "2023-07-10T12:30:41.993Z"
      },
      {
        "duration": 149,
        "start_time": "2023-07-10T12:32:16.559Z"
      },
      {
        "duration": 1409,
        "start_time": "2023-07-10T12:34:31.898Z"
      },
      {
        "duration": 444,
        "start_time": "2023-07-10T12:34:42.711Z"
      },
      {
        "duration": 105,
        "start_time": "2023-07-10T12:34:43.157Z"
      },
      {
        "duration": 33,
        "start_time": "2023-07-10T12:34:43.264Z"
      },
      {
        "duration": 43,
        "start_time": "2023-07-10T12:34:43.299Z"
      },
      {
        "duration": 31,
        "start_time": "2023-07-10T12:34:43.344Z"
      },
      {
        "duration": 24,
        "start_time": "2023-07-10T12:34:43.378Z"
      },
      {
        "duration": 3554,
        "start_time": "2023-07-10T12:34:43.403Z"
      },
      {
        "duration": 3,
        "start_time": "2023-07-10T12:34:46.960Z"
      },
      {
        "duration": 33,
        "start_time": "2023-07-10T12:34:46.964Z"
      },
      {
        "duration": 44,
        "start_time": "2023-07-10T12:34:46.999Z"
      },
      {
        "duration": 35,
        "start_time": "2023-07-10T12:34:47.046Z"
      },
      {
        "duration": 45,
        "start_time": "2023-07-10T12:34:47.083Z"
      },
      {
        "duration": 6,
        "start_time": "2023-07-10T12:34:47.130Z"
      },
      {
        "duration": 57,
        "start_time": "2023-07-10T12:34:47.140Z"
      },
      {
        "duration": 51,
        "start_time": "2023-07-10T12:34:47.198Z"
      },
      {
        "duration": 53,
        "start_time": "2023-07-10T12:34:47.252Z"
      },
      {
        "duration": 38,
        "start_time": "2023-07-10T12:34:47.307Z"
      },
      {
        "duration": 13,
        "start_time": "2023-07-10T12:34:47.347Z"
      },
      {
        "duration": 23,
        "start_time": "2023-07-10T12:34:47.362Z"
      },
      {
        "duration": 52,
        "start_time": "2023-07-10T12:34:47.387Z"
      },
      {
        "duration": 33,
        "start_time": "2023-07-10T12:34:47.441Z"
      },
      {
        "duration": 5,
        "start_time": "2023-07-10T12:34:47.476Z"
      },
      {
        "duration": 19,
        "start_time": "2023-07-10T12:34:47.482Z"
      },
      {
        "duration": 393,
        "start_time": "2023-07-10T12:34:47.503Z"
      },
      {
        "duration": 23,
        "start_time": "2023-07-10T12:34:47.898Z"
      },
      {
        "duration": 29,
        "start_time": "2023-07-10T12:34:47.923Z"
      },
      {
        "duration": 44,
        "start_time": "2023-07-10T12:34:47.954Z"
      },
      {
        "duration": 32,
        "start_time": "2023-07-10T12:34:48.008Z"
      },
      {
        "duration": 50,
        "start_time": "2023-07-10T12:34:48.043Z"
      },
      {
        "duration": 42,
        "start_time": "2023-07-10T12:34:48.095Z"
      },
      {
        "duration": 15,
        "start_time": "2023-07-10T12:34:48.140Z"
      },
      {
        "duration": 26,
        "start_time": "2023-07-10T12:34:48.158Z"
      },
      {
        "duration": 277,
        "start_time": "2023-07-10T12:34:48.187Z"
      },
      {
        "duration": 11,
        "start_time": "2023-07-10T12:34:59.498Z"
      },
      {
        "duration": 23,
        "start_time": "2023-07-10T12:35:11.740Z"
      },
      {
        "duration": 25,
        "start_time": "2023-07-10T12:35:41.902Z"
      },
      {
        "duration": 243,
        "start_time": "2023-07-10T12:36:02.029Z"
      },
      {
        "duration": 150,
        "start_time": "2023-07-10T12:36:12.022Z"
      },
      {
        "duration": 161,
        "start_time": "2023-07-10T12:36:25.212Z"
      },
      {
        "duration": 175,
        "start_time": "2023-07-10T12:36:29.885Z"
      },
      {
        "duration": 146,
        "start_time": "2023-07-10T12:37:01.357Z"
      },
      {
        "duration": 156,
        "start_time": "2023-07-10T12:37:06.949Z"
      },
      {
        "duration": 30989,
        "start_time": "2023-07-10T12:37:13.294Z"
      },
      {
        "duration": 193,
        "start_time": "2023-07-10T12:37:49.201Z"
      },
      {
        "duration": 182,
        "start_time": "2023-07-10T12:38:56.243Z"
      },
      {
        "duration": 211,
        "start_time": "2023-07-10T12:39:10.498Z"
      },
      {
        "duration": 174,
        "start_time": "2023-07-10T12:39:42.986Z"
      },
      {
        "duration": 181,
        "start_time": "2023-07-10T12:40:42.060Z"
      },
      {
        "duration": 305,
        "start_time": "2023-07-10T12:40:53.594Z"
      },
      {
        "duration": 185,
        "start_time": "2023-07-10T12:41:01.756Z"
      },
      {
        "duration": 185,
        "start_time": "2023-07-10T12:41:06.094Z"
      },
      {
        "duration": 6,
        "start_time": "2023-07-10T12:43:25.848Z"
      },
      {
        "duration": 188,
        "start_time": "2023-07-10T12:44:11.986Z"
      },
      {
        "duration": 203,
        "start_time": "2023-07-10T12:44:55.306Z"
      },
      {
        "duration": 201,
        "start_time": "2023-07-10T12:47:47.997Z"
      },
      {
        "duration": 197,
        "start_time": "2023-07-10T12:47:49.046Z"
      },
      {
        "duration": 4,
        "start_time": "2023-07-10T13:07:12.579Z"
      },
      {
        "duration": 186,
        "start_time": "2023-07-10T13:07:12.917Z"
      },
      {
        "duration": 191,
        "start_time": "2023-07-10T13:07:13.235Z"
      },
      {
        "duration": 190,
        "start_time": "2023-07-10T13:07:16.936Z"
      },
      {
        "duration": 4,
        "start_time": "2023-07-10T13:07:59.415Z"
      },
      {
        "duration": 183,
        "start_time": "2023-07-10T13:08:32.812Z"
      },
      {
        "duration": 164,
        "start_time": "2023-07-10T13:08:46.852Z"
      },
      {
        "duration": 155,
        "start_time": "2023-07-10T13:09:10.260Z"
      },
      {
        "duration": 156,
        "start_time": "2023-07-10T13:10:28.892Z"
      },
      {
        "duration": 4,
        "start_time": "2023-07-10T13:11:03.846Z"
      },
      {
        "duration": 159,
        "start_time": "2023-07-10T13:11:05.914Z"
      },
      {
        "duration": 163,
        "start_time": "2023-07-10T13:11:13.196Z"
      },
      {
        "duration": 472,
        "start_time": "2023-07-11T10:11:21.243Z"
      },
      {
        "duration": 397,
        "start_time": "2023-07-11T10:11:21.717Z"
      },
      {
        "duration": 29,
        "start_time": "2023-07-11T10:11:22.116Z"
      },
      {
        "duration": 25,
        "start_time": "2023-07-11T10:11:22.147Z"
      },
      {
        "duration": 20,
        "start_time": "2023-07-11T10:11:22.174Z"
      },
      {
        "duration": 15,
        "start_time": "2023-07-11T10:11:22.196Z"
      },
      {
        "duration": 5773,
        "start_time": "2023-07-11T10:11:22.213Z"
      },
      {
        "duration": 3,
        "start_time": "2023-07-11T10:11:27.989Z"
      },
      {
        "duration": 27,
        "start_time": "2023-07-11T10:11:27.994Z"
      },
      {
        "duration": 36,
        "start_time": "2023-07-11T10:11:28.023Z"
      },
      {
        "duration": 26,
        "start_time": "2023-07-11T10:11:28.061Z"
      },
      {
        "duration": 25,
        "start_time": "2023-07-11T10:11:28.089Z"
      },
      {
        "duration": 10,
        "start_time": "2023-07-11T10:11:28.117Z"
      },
      {
        "duration": 28,
        "start_time": "2023-07-11T10:11:28.131Z"
      },
      {
        "duration": 28,
        "start_time": "2023-07-11T10:11:28.161Z"
      },
      {
        "duration": 29,
        "start_time": "2023-07-11T10:11:28.191Z"
      },
      {
        "duration": 52,
        "start_time": "2023-07-11T10:11:28.222Z"
      },
      {
        "duration": 13,
        "start_time": "2023-07-11T10:11:28.276Z"
      },
      {
        "duration": 14,
        "start_time": "2023-07-11T10:11:28.291Z"
      },
      {
        "duration": 26,
        "start_time": "2023-07-11T10:11:28.307Z"
      },
      {
        "duration": 35,
        "start_time": "2023-07-11T10:11:28.335Z"
      },
      {
        "duration": 8,
        "start_time": "2023-07-11T10:11:28.372Z"
      },
      {
        "duration": 21,
        "start_time": "2023-07-11T10:11:28.382Z"
      },
      {
        "duration": 448,
        "start_time": "2023-07-11T10:11:28.404Z"
      },
      {
        "duration": 35,
        "start_time": "2023-07-11T10:11:28.854Z"
      },
      {
        "duration": 38,
        "start_time": "2023-07-11T10:11:28.891Z"
      },
      {
        "duration": 47,
        "start_time": "2023-07-11T10:11:28.932Z"
      },
      {
        "duration": 35,
        "start_time": "2023-07-11T10:11:28.982Z"
      },
      {
        "duration": 25,
        "start_time": "2023-07-11T10:11:29.020Z"
      },
      {
        "duration": 46,
        "start_time": "2023-07-11T10:11:29.047Z"
      },
      {
        "duration": 5,
        "start_time": "2023-07-11T10:11:29.095Z"
      },
      {
        "duration": 24,
        "start_time": "2023-07-11T10:11:29.102Z"
      },
      {
        "duration": 233,
        "start_time": "2023-07-11T10:11:29.128Z"
      },
      {
        "duration": 237,
        "start_time": "2023-07-11T10:11:29.364Z"
      },
      {
        "duration": 6101,
        "start_time": "2023-07-11T10:27:13.192Z"
      },
      {
        "duration": 31,
        "start_time": "2023-07-11T10:28:22.452Z"
      },
      {
        "duration": 23,
        "start_time": "2023-07-11T10:28:24.908Z"
      },
      {
        "duration": 176,
        "start_time": "2023-07-11T10:33:16.244Z"
      },
      {
        "duration": 50,
        "start_time": "2023-07-11T10:34:12.493Z"
      },
      {
        "duration": 11,
        "start_time": "2023-07-11T10:34:26.724Z"
      },
      {
        "duration": 57,
        "start_time": "2023-07-11T10:34:39.912Z"
      },
      {
        "duration": 14,
        "start_time": "2023-07-11T10:35:39.770Z"
      },
      {
        "duration": 26,
        "start_time": "2023-07-11T10:35:56.754Z"
      },
      {
        "duration": 536,
        "start_time": "2023-07-11T10:36:05.056Z"
      },
      {
        "duration": 244,
        "start_time": "2023-07-11T10:38:47.068Z"
      },
      {
        "duration": 161,
        "start_time": "2023-07-11T10:40:03.343Z"
      },
      {
        "duration": 18,
        "start_time": "2023-07-11T10:40:51.913Z"
      },
      {
        "duration": 61,
        "start_time": "2023-07-11T10:40:54.420Z"
      },
      {
        "duration": 33,
        "start_time": "2023-07-11T10:40:56.276Z"
      },
      {
        "duration": 6,
        "start_time": "2023-07-11T10:41:14.616Z"
      },
      {
        "duration": 5,
        "start_time": "2023-07-11T10:41:16.741Z"
      },
      {
        "duration": 71484,
        "start_time": "2023-07-11T10:41:34.202Z"
      },
      {
        "duration": 0,
        "start_time": "2023-07-11T10:42:45.688Z"
      },
      {
        "duration": 65,
        "start_time": "2023-07-11T10:43:13.935Z"
      },
      {
        "duration": 462,
        "start_time": "2023-07-11T10:43:21.321Z"
      },
      {
        "duration": 333,
        "start_time": "2023-07-11T10:43:21.785Z"
      },
      {
        "duration": 30,
        "start_time": "2023-07-11T10:43:22.120Z"
      },
      {
        "duration": 28,
        "start_time": "2023-07-11T10:43:22.151Z"
      },
      {
        "duration": 31,
        "start_time": "2023-07-11T10:43:22.182Z"
      },
      {
        "duration": 48,
        "start_time": "2023-07-11T10:43:22.215Z"
      },
      {
        "duration": 6355,
        "start_time": "2023-07-11T10:43:22.266Z"
      },
      {
        "duration": 4,
        "start_time": "2023-07-11T10:43:28.623Z"
      },
      {
        "duration": 17,
        "start_time": "2023-07-11T10:43:28.629Z"
      },
      {
        "duration": 35,
        "start_time": "2023-07-11T10:43:28.648Z"
      },
      {
        "duration": 34,
        "start_time": "2023-07-11T10:43:28.685Z"
      },
      {
        "duration": 16,
        "start_time": "2023-07-11T10:43:28.721Z"
      },
      {
        "duration": 28,
        "start_time": "2023-07-11T10:43:28.739Z"
      },
      {
        "duration": 13,
        "start_time": "2023-07-11T10:43:28.773Z"
      },
      {
        "duration": 41,
        "start_time": "2023-07-11T10:43:28.788Z"
      },
      {
        "duration": 23,
        "start_time": "2023-07-11T10:43:28.830Z"
      },
      {
        "duration": 38,
        "start_time": "2023-07-11T10:43:28.857Z"
      },
      {
        "duration": 13,
        "start_time": "2023-07-11T10:43:28.897Z"
      },
      {
        "duration": 23,
        "start_time": "2023-07-11T10:43:28.913Z"
      },
      {
        "duration": 36,
        "start_time": "2023-07-11T10:43:28.938Z"
      },
      {
        "duration": 23,
        "start_time": "2023-07-11T10:43:28.977Z"
      },
      {
        "duration": 6,
        "start_time": "2023-07-11T10:43:29.003Z"
      },
      {
        "duration": 19,
        "start_time": "2023-07-11T10:43:29.011Z"
      },
      {
        "duration": 430,
        "start_time": "2023-07-11T10:43:29.061Z"
      },
      {
        "duration": 17,
        "start_time": "2023-07-11T10:43:29.494Z"
      },
      {
        "duration": 21,
        "start_time": "2023-07-11T10:43:29.513Z"
      },
      {
        "duration": 52,
        "start_time": "2023-07-11T10:43:29.536Z"
      },
      {
        "duration": 20,
        "start_time": "2023-07-11T10:43:29.590Z"
      },
      {
        "duration": 23,
        "start_time": "2023-07-11T10:43:29.612Z"
      },
      {
        "duration": 28,
        "start_time": "2023-07-11T10:43:29.655Z"
      },
      {
        "duration": 6,
        "start_time": "2023-07-11T10:43:29.684Z"
      },
      {
        "duration": 7,
        "start_time": "2023-07-11T10:43:29.692Z"
      },
      {
        "duration": 234,
        "start_time": "2023-07-11T10:43:29.700Z"
      },
      {
        "duration": 254,
        "start_time": "2023-07-11T10:43:29.936Z"
      },
      {
        "duration": 23,
        "start_time": "2023-07-11T10:43:30.191Z"
      },
      {
        "duration": 14,
        "start_time": "2023-07-11T10:43:30.216Z"
      },
      {
        "duration": 176,
        "start_time": "2023-07-11T10:43:30.232Z"
      },
      {
        "duration": 27,
        "start_time": "2023-07-11T10:43:34.444Z"
      },
      {
        "duration": 135,
        "start_time": "2023-07-11T10:44:37.459Z"
      },
      {
        "duration": 707,
        "start_time": "2023-07-11T10:45:25.659Z"
      },
      {
        "duration": 6,
        "start_time": "2023-07-11T10:56:42.028Z"
      },
      {
        "duration": 177,
        "start_time": "2023-07-11T10:56:43.896Z"
      },
      {
        "duration": 430,
        "start_time": "2023-07-11T10:56:50.196Z"
      },
      {
        "duration": 113,
        "start_time": "2023-07-11T10:56:50.629Z"
      },
      {
        "duration": 49,
        "start_time": "2023-07-11T10:56:50.744Z"
      },
      {
        "duration": 22,
        "start_time": "2023-07-11T10:56:50.795Z"
      },
      {
        "duration": 53,
        "start_time": "2023-07-11T10:56:50.820Z"
      },
      {
        "duration": 20,
        "start_time": "2023-07-11T10:56:50.880Z"
      },
      {
        "duration": 6923,
        "start_time": "2023-07-11T10:56:50.902Z"
      },
      {
        "duration": 3,
        "start_time": "2023-07-11T10:56:57.828Z"
      },
      {
        "duration": 40,
        "start_time": "2023-07-11T10:56:57.833Z"
      },
      {
        "duration": 41,
        "start_time": "2023-07-11T10:56:57.875Z"
      },
      {
        "duration": 29,
        "start_time": "2023-07-11T10:56:57.918Z"
      },
      {
        "duration": 41,
        "start_time": "2023-07-11T10:56:57.949Z"
      },
      {
        "duration": 17,
        "start_time": "2023-07-11T10:56:57.994Z"
      },
      {
        "duration": 20,
        "start_time": "2023-07-11T10:56:58.015Z"
      },
      {
        "duration": 47,
        "start_time": "2023-07-11T10:56:58.038Z"
      },
      {
        "duration": 37,
        "start_time": "2023-07-11T10:56:58.095Z"
      },
      {
        "duration": 56,
        "start_time": "2023-07-11T10:56:58.134Z"
      },
      {
        "duration": 19,
        "start_time": "2023-07-11T10:56:58.193Z"
      },
      {
        "duration": 29,
        "start_time": "2023-07-11T10:56:58.214Z"
      },
      {
        "duration": 41,
        "start_time": "2023-07-11T10:56:58.246Z"
      },
      {
        "duration": 20,
        "start_time": "2023-07-11T10:56:58.289Z"
      },
      {
        "duration": 7,
        "start_time": "2023-07-11T10:56:58.311Z"
      },
      {
        "duration": 16,
        "start_time": "2023-07-11T10:56:58.319Z"
      },
      {
        "duration": 449,
        "start_time": "2023-07-11T10:56:58.336Z"
      },
      {
        "duration": 22,
        "start_time": "2023-07-11T10:56:58.787Z"
      },
      {
        "duration": 66,
        "start_time": "2023-07-11T10:56:58.810Z"
      },
      {
        "duration": 27,
        "start_time": "2023-07-11T10:56:58.887Z"
      },
      {
        "duration": 14,
        "start_time": "2023-07-11T10:56:58.916Z"
      },
      {
        "duration": 55,
        "start_time": "2023-07-11T10:56:58.932Z"
      },
      {
        "duration": 20,
        "start_time": "2023-07-11T10:56:58.989Z"
      },
      {
        "duration": 20,
        "start_time": "2023-07-11T10:56:59.012Z"
      },
      {
        "duration": 43,
        "start_time": "2023-07-11T10:56:59.034Z"
      },
      {
        "duration": 241,
        "start_time": "2023-07-11T10:56:59.080Z"
      },
      {
        "duration": 244,
        "start_time": "2023-07-11T10:56:59.323Z"
      },
      {
        "duration": 147,
        "start_time": "2023-07-11T10:56:59.573Z"
      },
      {
        "duration": 698,
        "start_time": "2023-07-11T10:56:59.723Z"
      },
      {
        "duration": 10,
        "start_time": "2023-07-11T10:57:00.423Z"
      },
      {
        "duration": 47,
        "start_time": "2023-07-11T10:57:00.455Z"
      },
      {
        "duration": 3,
        "start_time": "2023-07-11T10:58:19.422Z"
      },
      {
        "duration": 7,
        "start_time": "2023-07-11T11:03:12.110Z"
      },
      {
        "duration": 6,
        "start_time": "2023-07-11T11:03:15.012Z"
      },
      {
        "duration": 26,
        "start_time": "2023-07-11T11:03:18.921Z"
      },
      {
        "duration": 8043,
        "start_time": "2023-07-11T11:04:37.506Z"
      },
      {
        "duration": 462,
        "start_time": "2023-07-11T11:05:42.841Z"
      },
      {
        "duration": 123,
        "start_time": "2023-07-11T11:05:43.306Z"
      },
      {
        "duration": 58,
        "start_time": "2023-07-11T11:05:43.431Z"
      },
      {
        "duration": 20,
        "start_time": "2023-07-11T11:05:43.499Z"
      },
      {
        "duration": 22,
        "start_time": "2023-07-11T11:05:43.520Z"
      },
      {
        "duration": 44,
        "start_time": "2023-07-11T11:05:43.543Z"
      },
      {
        "duration": 7482,
        "start_time": "2023-07-11T11:05:43.591Z"
      },
      {
        "duration": 6,
        "start_time": "2023-07-11T11:05:51.091Z"
      },
      {
        "duration": 19,
        "start_time": "2023-07-11T11:05:51.100Z"
      },
      {
        "duration": 10,
        "start_time": "2023-07-11T11:05:51.122Z"
      },
      {
        "duration": 17,
        "start_time": "2023-07-11T11:05:51.134Z"
      },
      {
        "duration": 57,
        "start_time": "2023-07-11T11:05:51.153Z"
      },
      {
        "duration": 13,
        "start_time": "2023-07-11T11:05:51.212Z"
      },
      {
        "duration": 52,
        "start_time": "2023-07-11T11:05:51.227Z"
      },
      {
        "duration": 11,
        "start_time": "2023-07-11T11:05:51.299Z"
      },
      {
        "duration": 16,
        "start_time": "2023-07-11T11:05:51.311Z"
      },
      {
        "duration": 15,
        "start_time": "2023-07-11T11:05:51.330Z"
      },
      {
        "duration": 61,
        "start_time": "2023-07-11T11:05:51.347Z"
      },
      {
        "duration": 18,
        "start_time": "2023-07-11T11:05:51.410Z"
      },
      {
        "duration": 20,
        "start_time": "2023-07-11T11:05:51.429Z"
      },
      {
        "duration": 49,
        "start_time": "2023-07-11T11:05:51.451Z"
      },
      {
        "duration": 32,
        "start_time": "2023-07-11T11:05:51.503Z"
      },
      {
        "duration": 53,
        "start_time": "2023-07-11T11:05:51.536Z"
      },
      {
        "duration": 12,
        "start_time": "2023-07-11T11:05:51.599Z"
      },
      {
        "duration": 483,
        "start_time": "2023-07-11T11:05:51.613Z"
      },
      {
        "duration": 25,
        "start_time": "2023-07-11T11:05:52.098Z"
      },
      {
        "duration": 55,
        "start_time": "2023-07-11T11:05:52.124Z"
      },
      {
        "duration": 40,
        "start_time": "2023-07-11T11:05:52.183Z"
      },
      {
        "duration": 52,
        "start_time": "2023-07-11T11:05:52.225Z"
      },
      {
        "duration": 28,
        "start_time": "2023-07-11T11:05:52.298Z"
      },
      {
        "duration": 42,
        "start_time": "2023-07-11T11:05:52.327Z"
      },
      {
        "duration": 22,
        "start_time": "2023-07-11T11:05:52.371Z"
      },
      {
        "duration": 14,
        "start_time": "2023-07-11T11:05:52.399Z"
      },
      {
        "duration": 283,
        "start_time": "2023-07-11T11:05:52.415Z"
      },
      {
        "duration": 238,
        "start_time": "2023-07-11T11:05:52.702Z"
      },
      {
        "duration": 192,
        "start_time": "2023-07-11T11:05:52.942Z"
      },
      {
        "duration": 804,
        "start_time": "2023-07-11T11:05:53.135Z"
      },
      {
        "duration": 32,
        "start_time": "2023-07-11T11:05:53.941Z"
      },
      {
        "duration": 15,
        "start_time": "2023-07-11T11:05:53.984Z"
      },
      {
        "duration": 34,
        "start_time": "2023-07-11T11:05:54.001Z"
      },
      {
        "duration": 5,
        "start_time": "2023-07-11T11:06:23.115Z"
      },
      {
        "duration": 69,
        "start_time": "2023-07-11T11:15:26.037Z"
      },
      {
        "duration": 27,
        "start_time": "2023-07-11T11:15:28.023Z"
      },
      {
        "duration": 2,
        "start_time": "2023-07-11T11:16:20.841Z"
      },
      {
        "duration": 149,
        "start_time": "2023-07-11T11:16:20.845Z"
      },
      {
        "duration": 21,
        "start_time": "2023-07-11T11:16:20.996Z"
      },
      {
        "duration": 63,
        "start_time": "2023-07-11T11:16:21.019Z"
      },
      {
        "duration": 20,
        "start_time": "2023-07-11T11:16:21.085Z"
      },
      {
        "duration": 27,
        "start_time": "2023-07-11T11:16:21.107Z"
      },
      {
        "duration": 5572,
        "start_time": "2023-07-11T11:16:21.136Z"
      },
      {
        "duration": 4,
        "start_time": "2023-07-11T11:16:26.710Z"
      },
      {
        "duration": 5,
        "start_time": "2023-07-11T11:16:26.716Z"
      },
      {
        "duration": 10,
        "start_time": "2023-07-11T11:16:26.723Z"
      },
      {
        "duration": 34,
        "start_time": "2023-07-11T11:16:26.735Z"
      },
      {
        "duration": 20,
        "start_time": "2023-07-11T11:16:26.783Z"
      },
      {
        "duration": 15,
        "start_time": "2023-07-11T11:16:26.805Z"
      },
      {
        "duration": 10,
        "start_time": "2023-07-11T11:16:26.822Z"
      },
      {
        "duration": 18,
        "start_time": "2023-07-11T11:16:26.833Z"
      },
      {
        "duration": 39,
        "start_time": "2023-07-11T11:16:26.855Z"
      },
      {
        "duration": 15,
        "start_time": "2023-07-11T11:16:26.896Z"
      },
      {
        "duration": 24,
        "start_time": "2023-07-11T11:16:26.913Z"
      },
      {
        "duration": 22,
        "start_time": "2023-07-11T11:16:26.939Z"
      },
      {
        "duration": 14,
        "start_time": "2023-07-11T11:16:26.963Z"
      },
      {
        "duration": 48,
        "start_time": "2023-07-11T11:16:26.980Z"
      },
      {
        "duration": 62,
        "start_time": "2023-07-11T11:16:27.030Z"
      },
      {
        "duration": 6,
        "start_time": "2023-07-11T11:16:27.093Z"
      },
      {
        "duration": 20,
        "start_time": "2023-07-11T11:16:27.100Z"
      },
      {
        "duration": 325,
        "start_time": "2023-07-11T11:16:27.122Z"
      },
      {
        "duration": 46,
        "start_time": "2023-07-11T11:16:27.450Z"
      },
      {
        "duration": 25,
        "start_time": "2023-07-11T11:16:27.498Z"
      },
      {
        "duration": 57,
        "start_time": "2023-07-11T11:16:27.525Z"
      },
      {
        "duration": 17,
        "start_time": "2023-07-11T11:16:27.588Z"
      },
      {
        "duration": 35,
        "start_time": "2023-07-11T11:16:27.608Z"
      },
      {
        "duration": 37,
        "start_time": "2023-07-11T11:16:27.645Z"
      },
      {
        "duration": 6,
        "start_time": "2023-07-11T11:16:27.684Z"
      },
      {
        "duration": 5,
        "start_time": "2023-07-11T11:16:27.691Z"
      },
      {
        "duration": 237,
        "start_time": "2023-07-11T11:16:27.698Z"
      },
      {
        "duration": 230,
        "start_time": "2023-07-11T11:16:27.937Z"
      },
      {
        "duration": 144,
        "start_time": "2023-07-11T11:16:28.175Z"
      },
      {
        "duration": 572,
        "start_time": "2023-07-11T11:16:28.320Z"
      },
      {
        "duration": 8,
        "start_time": "2023-07-11T11:16:28.893Z"
      },
      {
        "duration": 13,
        "start_time": "2023-07-11T11:16:28.903Z"
      },
      {
        "duration": 27,
        "start_time": "2023-07-11T11:16:28.918Z"
      },
      {
        "duration": 4,
        "start_time": "2023-07-11T11:16:28.947Z"
      },
      {
        "duration": 15,
        "start_time": "2023-07-11T11:16:42.707Z"
      },
      {
        "duration": 7113,
        "start_time": "2023-07-11T11:18:55.608Z"
      },
      {
        "duration": 100,
        "start_time": "2023-07-11T11:21:32.678Z"
      },
      {
        "duration": 159,
        "start_time": "2023-07-11T11:23:43.329Z"
      },
      {
        "duration": 4,
        "start_time": "2023-07-11T11:24:04.000Z"
      },
      {
        "duration": 74,
        "start_time": "2023-07-11T11:24:54.221Z"
      },
      {
        "duration": 5137,
        "start_time": "2023-07-11T11:46:46.474Z"
      },
      {
        "duration": 7,
        "start_time": "2023-07-11T11:46:51.613Z"
      },
      {
        "duration": 10,
        "start_time": "2023-07-11T11:47:31.336Z"
      },
      {
        "duration": 172,
        "start_time": "2023-07-11T11:53:36.396Z"
      },
      {
        "duration": 60,
        "start_time": "2023-07-11T11:53:41.692Z"
      },
      {
        "duration": 49,
        "start_time": "2023-07-11T11:59:55.495Z"
      },
      {
        "duration": 5,
        "start_time": "2023-07-11T12:03:58.924Z"
      },
      {
        "duration": 778,
        "start_time": "2023-07-11T12:04:22.714Z"
      },
      {
        "duration": 5,
        "start_time": "2023-07-11T12:04:52.985Z"
      },
      {
        "duration": 5,
        "start_time": "2023-07-11T12:04:55.824Z"
      },
      {
        "duration": 4,
        "start_time": "2023-07-11T12:06:45.528Z"
      },
      {
        "duration": 19,
        "start_time": "2023-07-11T12:07:14.621Z"
      },
      {
        "duration": 6,
        "start_time": "2023-07-11T12:07:29.966Z"
      },
      {
        "duration": 5,
        "start_time": "2023-07-11T12:08:41.083Z"
      },
      {
        "duration": 63564,
        "start_time": "2023-07-11T12:09:31.223Z"
      },
      {
        "duration": 4,
        "start_time": "2023-07-11T12:10:34.789Z"
      },
      {
        "duration": 24,
        "start_time": "2023-07-11T12:14:46.787Z"
      },
      {
        "duration": 7590,
        "start_time": "2023-07-11T12:16:26.976Z"
      },
      {
        "duration": 4,
        "start_time": "2023-07-11T12:16:40.591Z"
      },
      {
        "duration": 4,
        "start_time": "2023-07-11T12:16:51.922Z"
      },
      {
        "duration": 23,
        "start_time": "2023-07-11T12:16:52.961Z"
      },
      {
        "duration": 580,
        "start_time": "2023-07-11T12:17:22.883Z"
      },
      {
        "duration": 6,
        "start_time": "2023-07-11T12:18:59.327Z"
      },
      {
        "duration": 33,
        "start_time": "2023-07-11T12:20:07.736Z"
      },
      {
        "duration": 12,
        "start_time": "2023-07-11T12:20:17.385Z"
      },
      {
        "duration": 9792,
        "start_time": "2023-07-11T12:22:45.963Z"
      },
      {
        "duration": 9,
        "start_time": "2023-07-11T12:23:14.231Z"
      },
      {
        "duration": 7213,
        "start_time": "2023-07-11T12:23:24.686Z"
      },
      {
        "duration": 13,
        "start_time": "2023-07-11T12:28:24.430Z"
      },
      {
        "duration": 28,
        "start_time": "2023-07-11T12:29:09.991Z"
      },
      {
        "duration": 6670,
        "start_time": "2023-07-11T12:29:36.600Z"
      },
      {
        "duration": 23,
        "start_time": "2023-07-11T12:31:05.858Z"
      },
      {
        "duration": 11208,
        "start_time": "2023-07-11T12:31:07.069Z"
      },
      {
        "duration": 22,
        "start_time": "2023-07-11T12:32:55.322Z"
      },
      {
        "duration": 24,
        "start_time": "2023-07-11T12:33:00.899Z"
      },
      {
        "duration": 12346,
        "start_time": "2023-07-11T12:33:01.620Z"
      },
      {
        "duration": 21,
        "start_time": "2023-07-11T12:34:52.520Z"
      },
      {
        "duration": 7561,
        "start_time": "2023-07-11T12:34:53.939Z"
      },
      {
        "duration": 25,
        "start_time": "2023-07-11T12:35:11.615Z"
      },
      {
        "duration": 7681,
        "start_time": "2023-07-11T12:35:13.568Z"
      },
      {
        "duration": 31,
        "start_time": "2023-07-11T12:35:27.523Z"
      },
      {
        "duration": 5746,
        "start_time": "2023-07-11T12:35:27.707Z"
      },
      {
        "duration": 23,
        "start_time": "2023-07-11T12:35:42.999Z"
      },
      {
        "duration": 16608,
        "start_time": "2023-07-11T12:35:43.526Z"
      },
      {
        "duration": 13,
        "start_time": "2023-07-11T12:38:31.197Z"
      },
      {
        "duration": 12,
        "start_time": "2023-07-11T12:39:18.035Z"
      },
      {
        "duration": 23,
        "start_time": "2023-07-11T12:39:38.599Z"
      },
      {
        "duration": 16501,
        "start_time": "2023-07-11T12:39:39.111Z"
      },
      {
        "duration": 3689,
        "start_time": "2023-07-11T12:39:55.614Z"
      },
      {
        "duration": 20,
        "start_time": "2023-07-11T12:40:11.391Z"
      },
      {
        "duration": 25,
        "start_time": "2023-07-11T12:42:56.388Z"
      },
      {
        "duration": 24,
        "start_time": "2023-07-11T12:43:20.634Z"
      },
      {
        "duration": 15,
        "start_time": "2023-07-11T12:43:30.799Z"
      },
      {
        "duration": 404,
        "start_time": "2023-07-11T12:43:36.688Z"
      },
      {
        "duration": 95,
        "start_time": "2023-07-11T12:43:37.094Z"
      },
      {
        "duration": 33,
        "start_time": "2023-07-11T12:43:37.191Z"
      },
      {
        "duration": 21,
        "start_time": "2023-07-11T12:43:37.226Z"
      },
      {
        "duration": 28,
        "start_time": "2023-07-11T12:43:37.253Z"
      },
      {
        "duration": 20,
        "start_time": "2023-07-11T12:43:37.283Z"
      },
      {
        "duration": 7167,
        "start_time": "2023-07-11T12:43:37.305Z"
      },
      {
        "duration": 1348,
        "start_time": "2023-07-11T12:43:44.475Z"
      },
      {
        "duration": 3,
        "start_time": "2023-07-11T12:43:45.826Z"
      },
      {
        "duration": 13,
        "start_time": "2023-07-11T12:43:45.831Z"
      },
      {
        "duration": 13,
        "start_time": "2023-07-11T12:43:45.847Z"
      },
      {
        "duration": 15,
        "start_time": "2023-07-11T12:43:45.861Z"
      },
      {
        "duration": 14,
        "start_time": "2023-07-11T12:43:45.878Z"
      },
      {
        "duration": 12,
        "start_time": "2023-07-11T12:43:45.895Z"
      },
      {
        "duration": 21,
        "start_time": "2023-07-11T12:43:45.909Z"
      },
      {
        "duration": 38,
        "start_time": "2023-07-11T12:43:45.931Z"
      },
      {
        "duration": 17,
        "start_time": "2023-07-11T12:43:45.971Z"
      },
      {
        "duration": 56,
        "start_time": "2023-07-11T12:43:45.990Z"
      },
      {
        "duration": 27,
        "start_time": "2023-07-11T12:43:46.049Z"
      },
      {
        "duration": 17,
        "start_time": "2023-07-11T12:43:46.079Z"
      },
      {
        "duration": 9,
        "start_time": "2023-07-11T12:43:46.098Z"
      },
      {
        "duration": 36,
        "start_time": "2023-07-11T12:43:46.108Z"
      },
      {
        "duration": 21,
        "start_time": "2023-07-11T12:43:46.146Z"
      },
      {
        "duration": 5,
        "start_time": "2023-07-11T12:43:46.168Z"
      },
      {
        "duration": 12,
        "start_time": "2023-07-11T12:43:46.175Z"
      },
      {
        "duration": 406,
        "start_time": "2023-07-11T12:43:46.189Z"
      },
      {
        "duration": 18,
        "start_time": "2023-07-11T12:43:46.596Z"
      },
      {
        "duration": 22,
        "start_time": "2023-07-11T12:43:46.616Z"
      },
      {
        "duration": 33,
        "start_time": "2023-07-11T12:43:46.654Z"
      },
      {
        "duration": 18,
        "start_time": "2023-07-11T12:43:46.689Z"
      },
      {
        "duration": 53,
        "start_time": "2023-07-11T12:43:46.709Z"
      },
      {
        "duration": 17,
        "start_time": "2023-07-11T12:43:46.763Z"
      },
      {
        "duration": 4,
        "start_time": "2023-07-11T12:43:46.782Z"
      },
      {
        "duration": 5,
        "start_time": "2023-07-11T12:43:46.788Z"
      },
      {
        "duration": 214,
        "start_time": "2023-07-11T12:43:46.794Z"
      },
      {
        "duration": 204,
        "start_time": "2023-07-11T12:43:47.009Z"
      },
      {
        "duration": 129,
        "start_time": "2023-07-11T12:43:47.214Z"
      },
      {
        "duration": 765,
        "start_time": "2023-07-11T12:43:47.344Z"
      },
      {
        "duration": 8,
        "start_time": "2023-07-11T12:43:48.110Z"
      },
      {
        "duration": 19,
        "start_time": "2023-07-11T12:43:48.119Z"
      },
      {
        "duration": 32,
        "start_time": "2023-07-11T12:43:48.142Z"
      },
      {
        "duration": 5,
        "start_time": "2023-07-11T12:43:48.176Z"
      },
      {
        "duration": 20,
        "start_time": "2023-07-11T12:43:48.183Z"
      },
      {
        "duration": 73,
        "start_time": "2023-07-11T12:43:48.205Z"
      },
      {
        "duration": 4,
        "start_time": "2023-07-11T12:43:48.280Z"
      },
      {
        "duration": 21,
        "start_time": "2023-07-11T12:43:48.285Z"
      },
      {
        "duration": 3,
        "start_time": "2023-07-11T12:43:48.307Z"
      },
      {
        "duration": 1055,
        "start_time": "2023-07-11T12:43:48.312Z"
      },
      {
        "duration": 4,
        "start_time": "2023-07-11T12:43:49.369Z"
      },
      {
        "duration": 11,
        "start_time": "2023-07-11T12:43:49.374Z"
      },
      {
        "duration": 60929,
        "start_time": "2023-07-11T12:43:49.387Z"
      },
      {
        "duration": 4,
        "start_time": "2023-07-11T12:44:50.318Z"
      },
      {
        "duration": 57,
        "start_time": "2023-07-11T12:44:50.324Z"
      },
      {
        "duration": 18069,
        "start_time": "2023-07-11T12:44:50.383Z"
      },
      {
        "duration": 3591,
        "start_time": "2023-07-11T12:45:08.454Z"
      },
      {
        "duration": 18,
        "start_time": "2023-07-11T12:45:12.047Z"
      },
      {
        "duration": 157,
        "start_time": "2023-07-11T12:46:23.104Z"
      },
      {
        "duration": 127,
        "start_time": "2023-07-11T12:46:26.505Z"
      },
      {
        "duration": 122,
        "start_time": "2023-07-11T12:46:30.892Z"
      },
      {
        "duration": 169,
        "start_time": "2023-07-11T12:46:51.657Z"
      },
      {
        "duration": 148,
        "start_time": "2023-07-11T12:46:58.264Z"
      },
      {
        "duration": 287,
        "start_time": "2023-07-11T12:49:25.945Z"
      },
      {
        "duration": 141,
        "start_time": "2023-07-11T12:49:40.462Z"
      },
      {
        "duration": 153,
        "start_time": "2023-07-11T12:49:44.453Z"
      },
      {
        "duration": 146,
        "start_time": "2023-07-11T12:50:02.059Z"
      },
      {
        "duration": 142,
        "start_time": "2023-07-11T12:50:09.238Z"
      },
      {
        "duration": 141,
        "start_time": "2023-07-11T12:50:17.281Z"
      },
      {
        "duration": 25,
        "start_time": "2023-07-11T12:55:02.118Z"
      },
      {
        "duration": 138,
        "start_time": "2023-07-11T12:55:03.400Z"
      },
      {
        "duration": 13,
        "start_time": "2023-07-11T12:55:48.650Z"
      },
      {
        "duration": 5,
        "start_time": "2023-07-11T12:56:30.403Z"
      },
      {
        "duration": 297,
        "start_time": "2023-07-11T12:56:34.033Z"
      },
      {
        "duration": 403,
        "start_time": "2023-07-11T12:58:02.718Z"
      },
      {
        "duration": 282,
        "start_time": "2023-07-11T12:58:08.338Z"
      },
      {
        "duration": 300,
        "start_time": "2023-07-11T12:58:22.428Z"
      },
      {
        "duration": 29,
        "start_time": "2023-07-11T12:58:38.896Z"
      },
      {
        "duration": 306,
        "start_time": "2023-07-11T12:58:44.709Z"
      },
      {
        "duration": 23,
        "start_time": "2023-07-11T12:59:11.530Z"
      },
      {
        "duration": 335,
        "start_time": "2023-07-11T12:59:28.222Z"
      },
      {
        "duration": 306,
        "start_time": "2023-07-11T12:59:31.838Z"
      },
      {
        "duration": 22,
        "start_time": "2023-07-11T12:59:40.104Z"
      },
      {
        "duration": 306,
        "start_time": "2023-07-11T12:59:58.338Z"
      },
      {
        "duration": 284,
        "start_time": "2023-07-11T13:00:05.204Z"
      },
      {
        "duration": 22,
        "start_time": "2023-07-11T13:00:11.602Z"
      },
      {
        "duration": 306,
        "start_time": "2023-07-11T13:00:19.829Z"
      },
      {
        "duration": 307,
        "start_time": "2023-07-11T13:00:30.227Z"
      },
      {
        "duration": 22,
        "start_time": "2023-07-11T13:00:53.220Z"
      },
      {
        "duration": 442,
        "start_time": "2023-07-11T13:01:10.317Z"
      },
      {
        "duration": 316,
        "start_time": "2023-07-11T13:01:59.508Z"
      },
      {
        "duration": 59,
        "start_time": "2023-07-11T13:03:37.861Z"
      },
      {
        "duration": 69,
        "start_time": "2023-07-11T13:03:52.827Z"
      },
      {
        "duration": 106,
        "start_time": "2023-07-11T13:04:10.917Z"
      },
      {
        "duration": 82,
        "start_time": "2023-07-11T13:05:21.569Z"
      },
      {
        "duration": 75,
        "start_time": "2023-07-11T13:05:26.767Z"
      },
      {
        "duration": 61,
        "start_time": "2023-07-11T13:05:48.918Z"
      },
      {
        "duration": 4,
        "start_time": "2023-07-11T13:05:52.989Z"
      },
      {
        "duration": 1017,
        "start_time": "2023-07-11T13:05:55.552Z"
      },
      {
        "duration": 3,
        "start_time": "2023-07-11T13:05:59.624Z"
      },
      {
        "duration": 4,
        "start_time": "2023-07-11T13:06:10.590Z"
      },
      {
        "duration": 63420,
        "start_time": "2023-07-11T13:06:13.143Z"
      },
      {
        "duration": 4,
        "start_time": "2023-07-11T13:07:16.566Z"
      },
      {
        "duration": 4,
        "start_time": "2023-07-11T13:07:26.250Z"
      },
      {
        "duration": 1058,
        "start_time": "2023-07-11T13:07:28.407Z"
      },
      {
        "duration": 3,
        "start_time": "2023-07-11T13:07:29.467Z"
      },
      {
        "duration": 4,
        "start_time": "2023-07-11T13:07:41.039Z"
      },
      {
        "duration": 3,
        "start_time": "2023-07-11T13:07:42.008Z"
      },
      {
        "duration": 991,
        "start_time": "2023-07-11T13:07:42.882Z"
      },
      {
        "duration": 425,
        "start_time": "2023-07-11T13:10:07.832Z"
      },
      {
        "duration": 390,
        "start_time": "2023-07-11T13:11:35.200Z"
      },
      {
        "duration": 15,
        "start_time": "2023-07-11T13:15:06.675Z"
      },
      {
        "duration": 5,
        "start_time": "2023-07-11T13:15:26.292Z"
      },
      {
        "duration": 5,
        "start_time": "2023-07-11T13:15:30.078Z"
      },
      {
        "duration": 969,
        "start_time": "2023-07-11T13:15:34.191Z"
      },
      {
        "duration": 935,
        "start_time": "2023-07-11T13:15:55.330Z"
      },
      {
        "duration": 5,
        "start_time": "2023-07-11T13:16:07.460Z"
      },
      {
        "duration": 67983,
        "start_time": "2023-07-11T13:16:19.403Z"
      },
      {
        "duration": 428,
        "start_time": "2023-07-11T13:17:35.009Z"
      },
      {
        "duration": 92,
        "start_time": "2023-07-11T13:17:35.440Z"
      },
      {
        "duration": 29,
        "start_time": "2023-07-11T13:17:35.534Z"
      },
      {
        "duration": 66,
        "start_time": "2023-07-11T13:17:35.565Z"
      },
      {
        "duration": 55,
        "start_time": "2023-07-11T13:17:35.633Z"
      },
      {
        "duration": 18,
        "start_time": "2023-07-11T13:17:35.690Z"
      },
      {
        "duration": 7215,
        "start_time": "2023-07-11T13:17:35.709Z"
      },
      {
        "duration": 1220,
        "start_time": "2023-07-11T13:17:42.926Z"
      },
      {
        "duration": 7,
        "start_time": "2023-07-11T13:17:44.148Z"
      },
      {
        "duration": 10,
        "start_time": "2023-07-11T13:17:44.157Z"
      },
      {
        "duration": 25,
        "start_time": "2023-07-11T13:17:44.169Z"
      },
      {
        "duration": 15,
        "start_time": "2023-07-11T13:17:44.196Z"
      },
      {
        "duration": 18,
        "start_time": "2023-07-11T13:17:44.213Z"
      },
      {
        "duration": 22,
        "start_time": "2023-07-11T13:17:44.235Z"
      },
      {
        "duration": 7,
        "start_time": "2023-07-11T13:17:44.259Z"
      },
      {
        "duration": 10,
        "start_time": "2023-07-11T13:17:44.267Z"
      },
      {
        "duration": 22,
        "start_time": "2023-07-11T13:17:44.279Z"
      },
      {
        "duration": 26,
        "start_time": "2023-07-11T13:17:44.302Z"
      },
      {
        "duration": 36,
        "start_time": "2023-07-11T13:17:44.330Z"
      },
      {
        "duration": 12,
        "start_time": "2023-07-11T13:17:44.369Z"
      },
      {
        "duration": 10,
        "start_time": "2023-07-11T13:17:44.383Z"
      },
      {
        "duration": 21,
        "start_time": "2023-07-11T13:17:44.395Z"
      },
      {
        "duration": 37,
        "start_time": "2023-07-11T13:17:44.418Z"
      },
      {
        "duration": 6,
        "start_time": "2023-07-11T13:17:44.457Z"
      },
      {
        "duration": 26,
        "start_time": "2023-07-11T13:17:44.464Z"
      },
      {
        "duration": 365,
        "start_time": "2023-07-11T13:17:44.492Z"
      },
      {
        "duration": 18,
        "start_time": "2023-07-11T13:17:44.859Z"
      },
      {
        "duration": 34,
        "start_time": "2023-07-11T13:17:44.879Z"
      },
      {
        "duration": 24,
        "start_time": "2023-07-11T13:17:44.915Z"
      },
      {
        "duration": 16,
        "start_time": "2023-07-11T13:17:44.954Z"
      },
      {
        "duration": 36,
        "start_time": "2023-07-11T13:17:44.972Z"
      },
      {
        "duration": 47,
        "start_time": "2023-07-11T13:17:45.011Z"
      },
      {
        "duration": 18,
        "start_time": "2023-07-11T13:17:45.060Z"
      },
      {
        "duration": 16,
        "start_time": "2023-07-11T13:17:45.079Z"
      },
      {
        "duration": 221,
        "start_time": "2023-07-11T13:17:45.097Z"
      },
      {
        "duration": 195,
        "start_time": "2023-07-11T13:17:45.320Z"
      },
      {
        "duration": 129,
        "start_time": "2023-07-11T13:17:45.517Z"
      },
      {
        "duration": 617,
        "start_time": "2023-07-11T13:17:45.653Z"
      },
      {
        "duration": 8,
        "start_time": "2023-07-11T13:17:46.272Z"
      },
      {
        "duration": 23,
        "start_time": "2023-07-11T13:17:46.282Z"
      },
      {
        "duration": 31,
        "start_time": "2023-07-11T13:17:46.310Z"
      },
      {
        "duration": 7,
        "start_time": "2023-07-11T13:17:46.343Z"
      },
      {
        "duration": 28,
        "start_time": "2023-07-11T13:17:46.352Z"
      },
      {
        "duration": 97,
        "start_time": "2023-07-11T13:17:46.383Z"
      },
      {
        "duration": 4,
        "start_time": "2023-07-11T13:17:46.482Z"
      },
      {
        "duration": 36,
        "start_time": "2023-07-11T13:17:46.488Z"
      },
      {
        "duration": 24,
        "start_time": "2023-07-11T13:17:46.527Z"
      },
      {
        "duration": 1115,
        "start_time": "2023-07-11T13:17:46.554Z"
      },
      {
        "duration": 3,
        "start_time": "2023-07-11T13:17:47.671Z"
      },
      {
        "duration": 35,
        "start_time": "2023-07-11T13:17:47.677Z"
      },
      {
        "duration": 62763,
        "start_time": "2023-07-11T13:17:47.714Z"
      },
      {
        "duration": 3,
        "start_time": "2023-07-11T13:18:50.479Z"
      },
      {
        "duration": 31,
        "start_time": "2023-07-11T13:18:50.484Z"
      },
      {
        "duration": 17509,
        "start_time": "2023-07-11T13:18:50.517Z"
      },
      {
        "duration": 3636,
        "start_time": "2023-07-11T13:19:08.028Z"
      },
      {
        "duration": 23,
        "start_time": "2023-07-11T13:19:11.666Z"
      },
      {
        "duration": 409,
        "start_time": "2023-07-11T13:19:11.690Z"
      },
      {
        "duration": 151,
        "start_time": "2023-07-11T13:19:12.101Z"
      },
      {
        "duration": 290,
        "start_time": "2023-07-11T13:19:12.254Z"
      },
      {
        "duration": 17291,
        "start_time": "2023-07-11T13:20:09.876Z"
      },
      {
        "duration": 412,
        "start_time": "2023-07-11T13:21:06.112Z"
      },
      {
        "duration": 102,
        "start_time": "2023-07-11T13:21:06.526Z"
      },
      {
        "duration": 40,
        "start_time": "2023-07-11T13:21:06.630Z"
      },
      {
        "duration": 19,
        "start_time": "2023-07-11T13:21:06.672Z"
      },
      {
        "duration": 21,
        "start_time": "2023-07-11T13:21:06.695Z"
      },
      {
        "duration": 50,
        "start_time": "2023-07-11T13:21:06.718Z"
      },
      {
        "duration": 7671,
        "start_time": "2023-07-11T13:21:06.770Z"
      },
      {
        "duration": 1249,
        "start_time": "2023-07-11T13:21:14.443Z"
      },
      {
        "duration": 3,
        "start_time": "2023-07-11T13:21:15.694Z"
      },
      {
        "duration": 4,
        "start_time": "2023-07-11T13:21:15.699Z"
      },
      {
        "duration": 9,
        "start_time": "2023-07-11T13:21:15.705Z"
      },
      {
        "duration": 26,
        "start_time": "2023-07-11T13:21:15.716Z"
      },
      {
        "duration": 24,
        "start_time": "2023-07-11T13:21:15.744Z"
      },
      {
        "duration": 11,
        "start_time": "2023-07-11T13:21:15.772Z"
      },
      {
        "duration": 6,
        "start_time": "2023-07-11T13:21:15.784Z"
      },
      {
        "duration": 14,
        "start_time": "2023-07-11T13:21:15.792Z"
      },
      {
        "duration": 13,
        "start_time": "2023-07-11T13:21:15.808Z"
      },
      {
        "duration": 13,
        "start_time": "2023-07-11T13:21:15.855Z"
      },
      {
        "duration": 22,
        "start_time": "2023-07-11T13:21:15.870Z"
      },
      {
        "duration": 10,
        "start_time": "2023-07-11T13:21:15.894Z"
      },
      {
        "duration": 13,
        "start_time": "2023-07-11T13:21:15.906Z"
      },
      {
        "duration": 47,
        "start_time": "2023-07-11T13:21:15.922Z"
      },
      {
        "duration": 47,
        "start_time": "2023-07-11T13:21:15.971Z"
      },
      {
        "duration": 6,
        "start_time": "2023-07-11T13:21:16.021Z"
      },
      {
        "duration": 36,
        "start_time": "2023-07-11T13:21:16.029Z"
      },
      {
        "duration": 358,
        "start_time": "2023-07-11T13:21:16.066Z"
      },
      {
        "duration": 31,
        "start_time": "2023-07-11T13:21:16.426Z"
      },
      {
        "duration": 40,
        "start_time": "2023-07-11T13:21:16.458Z"
      },
      {
        "duration": 35,
        "start_time": "2023-07-11T13:21:16.500Z"
      },
      {
        "duration": 25,
        "start_time": "2023-07-11T13:21:16.537Z"
      },
      {
        "duration": 28,
        "start_time": "2023-07-11T13:21:16.564Z"
      },
      {
        "duration": 20,
        "start_time": "2023-07-11T13:21:16.594Z"
      },
      {
        "duration": 4,
        "start_time": "2023-07-11T13:21:16.616Z"
      },
      {
        "duration": 13,
        "start_time": "2023-07-11T13:21:16.622Z"
      },
      {
        "duration": 224,
        "start_time": "2023-07-11T13:21:16.637Z"
      },
      {
        "duration": 191,
        "start_time": "2023-07-11T13:21:16.863Z"
      },
      {
        "duration": 124,
        "start_time": "2023-07-11T13:21:17.056Z"
      },
      {
        "duration": 757,
        "start_time": "2023-07-11T13:21:17.182Z"
      },
      {
        "duration": 16,
        "start_time": "2023-07-11T13:21:17.942Z"
      },
      {
        "duration": 15,
        "start_time": "2023-07-11T13:21:17.961Z"
      },
      {
        "duration": 27,
        "start_time": "2023-07-11T13:21:17.981Z"
      },
      {
        "duration": 21,
        "start_time": "2023-07-11T13:21:18.010Z"
      },
      {
        "duration": 36,
        "start_time": "2023-07-11T13:21:18.032Z"
      },
      {
        "duration": 83,
        "start_time": "2023-07-11T13:21:18.070Z"
      },
      {
        "duration": 4,
        "start_time": "2023-07-11T13:21:18.155Z"
      },
      {
        "duration": 39,
        "start_time": "2023-07-11T13:21:18.161Z"
      },
      {
        "duration": 27,
        "start_time": "2023-07-11T13:21:18.202Z"
      },
      {
        "duration": 1035,
        "start_time": "2023-07-11T13:21:18.231Z"
      },
      {
        "duration": 3,
        "start_time": "2023-07-11T13:21:19.268Z"
      },
      {
        "duration": 7,
        "start_time": "2023-07-11T13:21:19.273Z"
      },
      {
        "duration": 67024,
        "start_time": "2023-07-11T13:21:19.281Z"
      },
      {
        "duration": 3,
        "start_time": "2023-07-11T13:22:26.307Z"
      },
      {
        "duration": 32,
        "start_time": "2023-07-11T13:22:26.312Z"
      },
      {
        "duration": 20192,
        "start_time": "2023-07-11T13:22:26.346Z"
      },
      {
        "duration": 3474,
        "start_time": "2023-07-11T13:22:46.540Z"
      },
      {
        "duration": 24,
        "start_time": "2023-07-11T13:22:50.016Z"
      },
      {
        "duration": 450,
        "start_time": "2023-07-11T13:22:50.042Z"
      },
      {
        "duration": 146,
        "start_time": "2023-07-11T13:22:50.493Z"
      },
      {
        "duration": 302,
        "start_time": "2023-07-11T13:22:50.640Z"
      },
      {
        "duration": 446,
        "start_time": "2023-07-12T11:32:30.559Z"
      },
      {
        "duration": 324,
        "start_time": "2023-07-12T11:32:31.006Z"
      },
      {
        "duration": 43,
        "start_time": "2023-07-12T11:32:31.336Z"
      },
      {
        "duration": 66,
        "start_time": "2023-07-12T11:32:31.381Z"
      },
      {
        "duration": 89,
        "start_time": "2023-07-12T11:32:31.451Z"
      },
      {
        "duration": 47,
        "start_time": "2023-07-12T11:32:31.550Z"
      },
      {
        "duration": 12617,
        "start_time": "2023-07-12T11:32:31.599Z"
      },
      {
        "duration": 1567,
        "start_time": "2023-07-12T11:32:44.218Z"
      },
      {
        "duration": 3,
        "start_time": "2023-07-12T11:32:45.787Z"
      },
      {
        "duration": 102,
        "start_time": "2023-07-12T11:32:45.791Z"
      },
      {
        "duration": 29,
        "start_time": "2023-07-12T11:32:45.894Z"
      },
      {
        "duration": 34,
        "start_time": "2023-07-12T11:32:45.924Z"
      },
      {
        "duration": 14,
        "start_time": "2023-07-12T11:32:45.960Z"
      },
      {
        "duration": 10,
        "start_time": "2023-07-12T11:32:45.978Z"
      },
      {
        "duration": 7,
        "start_time": "2023-07-12T11:32:45.990Z"
      },
      {
        "duration": 16,
        "start_time": "2023-07-12T11:32:45.999Z"
      },
      {
        "duration": 26,
        "start_time": "2023-07-12T11:32:46.016Z"
      },
      {
        "duration": 34,
        "start_time": "2023-07-12T11:32:46.044Z"
      },
      {
        "duration": 26,
        "start_time": "2023-07-12T11:32:46.079Z"
      },
      {
        "duration": 13,
        "start_time": "2023-07-12T11:32:46.106Z"
      },
      {
        "duration": 26,
        "start_time": "2023-07-12T11:32:46.121Z"
      },
      {
        "duration": 27,
        "start_time": "2023-07-12T11:32:46.155Z"
      },
      {
        "duration": 20,
        "start_time": "2023-07-12T11:32:46.184Z"
      },
      {
        "duration": 5,
        "start_time": "2023-07-12T11:32:46.205Z"
      },
      {
        "duration": 14,
        "start_time": "2023-07-12T11:32:46.211Z"
      },
      {
        "duration": 283,
        "start_time": "2023-07-12T11:32:46.227Z"
      },
      {
        "duration": 22,
        "start_time": "2023-07-12T11:32:46.512Z"
      },
      {
        "duration": 42,
        "start_time": "2023-07-12T11:32:46.536Z"
      },
      {
        "duration": 25,
        "start_time": "2023-07-12T11:32:46.579Z"
      },
      {
        "duration": 38,
        "start_time": "2023-07-12T11:32:46.606Z"
      },
      {
        "duration": 124,
        "start_time": "2023-07-12T11:32:46.646Z"
      },
      {
        "duration": 14,
        "start_time": "2023-07-12T11:32:46.772Z"
      },
      {
        "duration": 5,
        "start_time": "2023-07-12T11:32:46.787Z"
      },
      {
        "duration": 57,
        "start_time": "2023-07-12T11:32:46.793Z"
      },
      {
        "duration": 215,
        "start_time": "2023-07-12T11:32:46.853Z"
      },
      {
        "duration": 193,
        "start_time": "2023-07-12T11:32:47.070Z"
      },
      {
        "duration": 210,
        "start_time": "2023-07-12T11:32:47.265Z"
      },
      {
        "duration": 578,
        "start_time": "2023-07-12T11:32:47.477Z"
      },
      {
        "duration": 8,
        "start_time": "2023-07-12T11:32:48.058Z"
      },
      {
        "duration": 14,
        "start_time": "2023-07-12T11:32:48.068Z"
      },
      {
        "duration": 19,
        "start_time": "2023-07-12T11:32:48.086Z"
      },
      {
        "duration": 22,
        "start_time": "2023-07-12T11:32:48.106Z"
      },
      {
        "duration": 52,
        "start_time": "2023-07-12T11:32:48.130Z"
      },
      {
        "duration": 80,
        "start_time": "2023-07-12T11:32:48.184Z"
      },
      {
        "duration": 4,
        "start_time": "2023-07-12T11:32:48.266Z"
      },
      {
        "duration": 34,
        "start_time": "2023-07-12T11:32:48.271Z"
      },
      {
        "duration": 3,
        "start_time": "2023-07-12T11:32:48.306Z"
      },
      {
        "duration": 848,
        "start_time": "2023-07-12T11:32:48.311Z"
      },
      {
        "duration": 3,
        "start_time": "2023-07-12T11:32:49.161Z"
      },
      {
        "duration": 6,
        "start_time": "2023-07-12T11:32:49.166Z"
      },
      {
        "duration": 61169,
        "start_time": "2023-07-12T11:32:49.174Z"
      },
      {
        "duration": 9,
        "start_time": "2023-07-12T11:33:50.347Z"
      },
      {
        "duration": 61,
        "start_time": "2023-07-12T11:33:50.358Z"
      },
      {
        "duration": 25088,
        "start_time": "2023-07-12T11:33:50.420Z"
      },
      {
        "duration": 4451,
        "start_time": "2023-07-12T11:34:15.509Z"
      },
      {
        "duration": 21,
        "start_time": "2023-07-12T11:34:19.961Z"
      },
      {
        "duration": 395,
        "start_time": "2023-07-12T11:34:19.984Z"
      },
      {
        "duration": 144,
        "start_time": "2023-07-12T11:34:20.380Z"
      },
      {
        "duration": 290,
        "start_time": "2023-07-12T11:34:20.525Z"
      },
      {
        "duration": 8,
        "start_time": "2023-07-12T11:42:05.187Z"
      },
      {
        "duration": 3,
        "start_time": "2023-07-12T11:42:33.034Z"
      },
      {
        "duration": 166,
        "start_time": "2023-07-12T11:42:33.042Z"
      },
      {
        "duration": 70,
        "start_time": "2023-07-12T11:42:33.210Z"
      },
      {
        "duration": 271,
        "start_time": "2023-07-12T11:42:33.281Z"
      },
      {
        "duration": 22,
        "start_time": "2023-07-12T11:42:33.554Z"
      },
      {
        "duration": 13,
        "start_time": "2023-07-12T11:42:33.579Z"
      },
      {
        "duration": 7367,
        "start_time": "2023-07-12T11:42:33.594Z"
      },
      {
        "duration": 6,
        "start_time": "2023-07-12T11:42:40.963Z"
      },
      {
        "duration": 22,
        "start_time": "2023-07-12T11:42:40.971Z"
      },
      {
        "duration": 8,
        "start_time": "2023-07-12T11:42:43.784Z"
      },
      {
        "duration": 8,
        "start_time": "2023-07-12T11:46:10.692Z"
      },
      {
        "duration": 9,
        "start_time": "2023-07-12T11:46:15.554Z"
      },
      {
        "duration": 9,
        "start_time": "2023-07-12T11:46:23.452Z"
      },
      {
        "duration": 101,
        "start_time": "2023-07-12T11:46:23.465Z"
      },
      {
        "duration": 20,
        "start_time": "2023-07-12T11:46:23.567Z"
      },
      {
        "duration": 23,
        "start_time": "2023-07-12T11:46:23.589Z"
      },
      {
        "duration": 70,
        "start_time": "2023-07-12T11:46:23.614Z"
      },
      {
        "duration": 40,
        "start_time": "2023-07-12T11:46:23.686Z"
      },
      {
        "duration": 8501,
        "start_time": "2023-07-12T11:46:23.728Z"
      },
      {
        "duration": 8,
        "start_time": "2023-07-12T11:46:32.235Z"
      },
      {
        "duration": 33,
        "start_time": "2023-07-12T11:46:32.246Z"
      },
      {
        "duration": 32,
        "start_time": "2023-07-12T11:46:32.282Z"
      },
      {
        "duration": 23,
        "start_time": "2023-07-12T11:47:52.925Z"
      },
      {
        "duration": 15,
        "start_time": "2023-07-12T11:48:59.356Z"
      },
      {
        "duration": 12,
        "start_time": "2023-07-12T11:49:05.882Z"
      },
      {
        "duration": 13,
        "start_time": "2023-07-12T11:49:31.128Z"
      },
      {
        "duration": 5,
        "start_time": "2023-07-12T11:49:51.697Z"
      },
      {
        "duration": 12,
        "start_time": "2023-07-12T11:50:02.522Z"
      },
      {
        "duration": 13,
        "start_time": "2023-07-12T11:50:04.810Z"
      },
      {
        "duration": 8,
        "start_time": "2023-07-12T11:50:30.703Z"
      },
      {
        "duration": 13,
        "start_time": "2023-07-12T11:50:37.060Z"
      },
      {
        "duration": 31,
        "start_time": "2023-07-12T11:50:48.030Z"
      },
      {
        "duration": 9,
        "start_time": "2023-07-12T11:50:57.251Z"
      },
      {
        "duration": 18,
        "start_time": "2023-07-12T11:51:02.732Z"
      },
      {
        "duration": 4,
        "start_time": "2023-07-12T11:51:46.654Z"
      },
      {
        "duration": 122,
        "start_time": "2023-07-12T11:51:46.660Z"
      },
      {
        "duration": 24,
        "start_time": "2023-07-12T11:51:46.783Z"
      },
      {
        "duration": 60,
        "start_time": "2023-07-12T11:51:46.809Z"
      },
      {
        "duration": 67,
        "start_time": "2023-07-12T11:51:46.872Z"
      },
      {
        "duration": 50,
        "start_time": "2023-07-12T11:51:46.941Z"
      },
      {
        "duration": 7416,
        "start_time": "2023-07-12T11:51:46.993Z"
      },
      {
        "duration": 4,
        "start_time": "2023-07-12T11:51:54.412Z"
      },
      {
        "duration": 46,
        "start_time": "2023-07-12T11:51:54.418Z"
      },
      {
        "duration": 52,
        "start_time": "2023-07-12T11:51:54.466Z"
      },
      {
        "duration": 53,
        "start_time": "2023-07-12T11:51:54.520Z"
      },
      {
        "duration": 46,
        "start_time": "2023-07-12T11:51:54.575Z"
      },
      {
        "duration": 4161,
        "start_time": "2023-07-12T11:51:54.623Z"
      },
      {
        "duration": 0,
        "start_time": "2023-07-12T11:51:58.786Z"
      },
      {
        "duration": 0,
        "start_time": "2023-07-12T11:51:58.788Z"
      },
      {
        "duration": 0,
        "start_time": "2023-07-12T11:51:58.789Z"
      },
      {
        "duration": 0,
        "start_time": "2023-07-12T11:51:58.790Z"
      },
      {
        "duration": 0,
        "start_time": "2023-07-12T11:51:58.791Z"
      },
      {
        "duration": 0,
        "start_time": "2023-07-12T11:51:58.793Z"
      },
      {
        "duration": 0,
        "start_time": "2023-07-12T11:51:58.794Z"
      },
      {
        "duration": 0,
        "start_time": "2023-07-12T11:51:58.796Z"
      },
      {
        "duration": 0,
        "start_time": "2023-07-12T11:51:58.797Z"
      },
      {
        "duration": 0,
        "start_time": "2023-07-12T11:51:58.798Z"
      },
      {
        "duration": 0,
        "start_time": "2023-07-12T11:51:58.799Z"
      },
      {
        "duration": 281,
        "start_time": "2023-07-12T11:53:26.116Z"
      },
      {
        "duration": 410,
        "start_time": "2023-07-12T11:54:08.645Z"
      },
      {
        "duration": 90,
        "start_time": "2023-07-12T11:54:09.057Z"
      },
      {
        "duration": 26,
        "start_time": "2023-07-12T11:54:09.151Z"
      },
      {
        "duration": 16,
        "start_time": "2023-07-12T11:54:09.179Z"
      },
      {
        "duration": 17,
        "start_time": "2023-07-12T11:54:09.197Z"
      },
      {
        "duration": 35,
        "start_time": "2023-07-12T11:54:09.216Z"
      },
      {
        "duration": 6924,
        "start_time": "2023-07-12T11:54:09.253Z"
      },
      {
        "duration": 1516,
        "start_time": "2023-07-12T11:54:16.179Z"
      },
      {
        "duration": 2,
        "start_time": "2023-07-12T11:54:17.697Z"
      },
      {
        "duration": 28,
        "start_time": "2023-07-12T11:54:17.701Z"
      },
      {
        "duration": 42,
        "start_time": "2023-07-12T11:54:17.730Z"
      },
      {
        "duration": 20,
        "start_time": "2023-07-12T11:54:17.774Z"
      },
      {
        "duration": 4245,
        "start_time": "2023-07-12T11:54:17.796Z"
      },
      {
        "duration": 0,
        "start_time": "2023-07-12T11:54:22.045Z"
      },
      {
        "duration": 0,
        "start_time": "2023-07-12T11:54:22.047Z"
      },
      {
        "duration": 0,
        "start_time": "2023-07-12T11:54:22.048Z"
      },
      {
        "duration": 0,
        "start_time": "2023-07-12T11:54:22.049Z"
      },
      {
        "duration": 0,
        "start_time": "2023-07-12T11:54:22.050Z"
      },
      {
        "duration": 0,
        "start_time": "2023-07-12T11:54:22.051Z"
      },
      {
        "duration": 0,
        "start_time": "2023-07-12T11:54:22.053Z"
      },
      {
        "duration": 0,
        "start_time": "2023-07-12T11:54:22.054Z"
      },
      {
        "duration": 0,
        "start_time": "2023-07-12T11:54:22.055Z"
      },
      {
        "duration": 0,
        "start_time": "2023-07-12T11:54:22.056Z"
      },
      {
        "duration": 0,
        "start_time": "2023-07-12T11:54:22.057Z"
      },
      {
        "duration": 0,
        "start_time": "2023-07-12T11:54:22.058Z"
      },
      {
        "duration": 0,
        "start_time": "2023-07-12T11:54:22.060Z"
      },
      {
        "duration": 1,
        "start_time": "2023-07-12T11:54:22.060Z"
      },
      {
        "duration": 0,
        "start_time": "2023-07-12T11:54:22.061Z"
      },
      {
        "duration": 0,
        "start_time": "2023-07-12T11:54:22.062Z"
      },
      {
        "duration": 0,
        "start_time": "2023-07-12T11:54:22.063Z"
      },
      {
        "duration": 0,
        "start_time": "2023-07-12T11:54:22.065Z"
      },
      {
        "duration": 0,
        "start_time": "2023-07-12T11:54:22.065Z"
      },
      {
        "duration": 0,
        "start_time": "2023-07-12T11:54:22.066Z"
      },
      {
        "duration": 0,
        "start_time": "2023-07-12T11:54:22.067Z"
      },
      {
        "duration": 0,
        "start_time": "2023-07-12T11:54:22.069Z"
      },
      {
        "duration": 0,
        "start_time": "2023-07-12T11:54:22.070Z"
      },
      {
        "duration": 0,
        "start_time": "2023-07-12T11:54:22.071Z"
      },
      {
        "duration": 0,
        "start_time": "2023-07-12T11:54:22.072Z"
      },
      {
        "duration": 0,
        "start_time": "2023-07-12T11:54:22.072Z"
      },
      {
        "duration": 0,
        "start_time": "2023-07-12T11:54:22.074Z"
      },
      {
        "duration": 0,
        "start_time": "2023-07-12T11:54:22.075Z"
      },
      {
        "duration": 0,
        "start_time": "2023-07-12T11:54:22.076Z"
      },
      {
        "duration": 0,
        "start_time": "2023-07-12T11:54:22.077Z"
      },
      {
        "duration": 0,
        "start_time": "2023-07-12T11:54:22.078Z"
      },
      {
        "duration": 0,
        "start_time": "2023-07-12T11:54:22.079Z"
      },
      {
        "duration": 0,
        "start_time": "2023-07-12T11:54:22.081Z"
      },
      {
        "duration": 0,
        "start_time": "2023-07-12T11:54:22.082Z"
      },
      {
        "duration": 0,
        "start_time": "2023-07-12T11:54:22.133Z"
      },
      {
        "duration": 0,
        "start_time": "2023-07-12T11:54:22.134Z"
      },
      {
        "duration": 0,
        "start_time": "2023-07-12T11:54:22.135Z"
      },
      {
        "duration": 0,
        "start_time": "2023-07-12T11:54:22.136Z"
      },
      {
        "duration": 0,
        "start_time": "2023-07-12T11:54:22.136Z"
      },
      {
        "duration": 0,
        "start_time": "2023-07-12T11:54:22.137Z"
      },
      {
        "duration": 0,
        "start_time": "2023-07-12T11:54:22.138Z"
      },
      {
        "duration": 0,
        "start_time": "2023-07-12T11:54:22.142Z"
      },
      {
        "duration": 0,
        "start_time": "2023-07-12T11:54:22.144Z"
      },
      {
        "duration": 0,
        "start_time": "2023-07-12T11:54:22.144Z"
      },
      {
        "duration": 0,
        "start_time": "2023-07-12T11:54:22.145Z"
      },
      {
        "duration": 9,
        "start_time": "2023-07-12T11:55:35.757Z"
      },
      {
        "duration": 407,
        "start_time": "2023-07-12T11:55:44.142Z"
      },
      {
        "duration": 120,
        "start_time": "2023-07-12T11:55:44.552Z"
      },
      {
        "duration": 33,
        "start_time": "2023-07-12T11:55:44.674Z"
      },
      {
        "duration": 23,
        "start_time": "2023-07-12T11:55:44.709Z"
      },
      {
        "duration": 110,
        "start_time": "2023-07-12T11:55:44.735Z"
      },
      {
        "duration": 17,
        "start_time": "2023-07-12T11:55:44.847Z"
      },
      {
        "duration": 7300,
        "start_time": "2023-07-12T11:55:44.865Z"
      },
      {
        "duration": 1183,
        "start_time": "2023-07-12T11:55:52.167Z"
      },
      {
        "duration": 4,
        "start_time": "2023-07-12T11:55:53.353Z"
      },
      {
        "duration": 22,
        "start_time": "2023-07-12T11:55:53.358Z"
      },
      {
        "duration": 36,
        "start_time": "2023-07-12T11:55:53.382Z"
      },
      {
        "duration": 20,
        "start_time": "2023-07-12T11:55:53.420Z"
      },
      {
        "duration": 35,
        "start_time": "2023-07-12T11:55:53.442Z"
      },
      {
        "duration": 28,
        "start_time": "2023-07-12T11:55:53.480Z"
      },
      {
        "duration": 18,
        "start_time": "2023-07-12T11:55:53.509Z"
      },
      {
        "duration": 24,
        "start_time": "2023-07-12T11:55:53.529Z"
      },
      {
        "duration": 37,
        "start_time": "2023-07-12T11:55:53.555Z"
      },
      {
        "duration": 20,
        "start_time": "2023-07-12T11:55:53.594Z"
      },
      {
        "duration": 9,
        "start_time": "2023-07-12T11:55:53.616Z"
      },
      {
        "duration": 27,
        "start_time": "2023-07-12T11:55:53.626Z"
      },
      {
        "duration": 36,
        "start_time": "2023-07-12T11:55:53.654Z"
      },
      {
        "duration": 34,
        "start_time": "2023-07-12T11:55:53.691Z"
      },
      {
        "duration": 5,
        "start_time": "2023-07-12T11:55:53.726Z"
      },
      {
        "duration": 77,
        "start_time": "2023-07-12T11:55:53.733Z"
      },
      {
        "duration": 296,
        "start_time": "2023-07-12T11:55:53.811Z"
      },
      {
        "duration": 15,
        "start_time": "2023-07-12T11:55:54.109Z"
      },
      {
        "duration": 22,
        "start_time": "2023-07-12T11:55:54.132Z"
      },
      {
        "duration": 4994,
        "start_time": "2023-07-12T11:55:54.157Z"
      },
      {
        "duration": 0,
        "start_time": "2023-07-12T11:55:59.154Z"
      },
      {
        "duration": 0,
        "start_time": "2023-07-12T11:55:59.155Z"
      },
      {
        "duration": 0,
        "start_time": "2023-07-12T11:55:59.157Z"
      },
      {
        "duration": 0,
        "start_time": "2023-07-12T11:55:59.158Z"
      },
      {
        "duration": 0,
        "start_time": "2023-07-12T11:55:59.159Z"
      },
      {
        "duration": 0,
        "start_time": "2023-07-12T11:55:59.160Z"
      },
      {
        "duration": 0,
        "start_time": "2023-07-12T11:55:59.161Z"
      },
      {
        "duration": 0,
        "start_time": "2023-07-12T11:55:59.162Z"
      },
      {
        "duration": 0,
        "start_time": "2023-07-12T11:55:59.163Z"
      },
      {
        "duration": 0,
        "start_time": "2023-07-12T11:55:59.164Z"
      },
      {
        "duration": 0,
        "start_time": "2023-07-12T11:55:59.166Z"
      },
      {
        "duration": 0,
        "start_time": "2023-07-12T11:55:59.166Z"
      },
      {
        "duration": 0,
        "start_time": "2023-07-12T11:55:59.168Z"
      },
      {
        "duration": 0,
        "start_time": "2023-07-12T11:55:59.168Z"
      },
      {
        "duration": 0,
        "start_time": "2023-07-12T11:55:59.170Z"
      },
      {
        "duration": 0,
        "start_time": "2023-07-12T11:55:59.171Z"
      },
      {
        "duration": 0,
        "start_time": "2023-07-12T11:55:59.172Z"
      },
      {
        "duration": 0,
        "start_time": "2023-07-12T11:55:59.173Z"
      },
      {
        "duration": 0,
        "start_time": "2023-07-12T11:55:59.174Z"
      },
      {
        "duration": 0,
        "start_time": "2023-07-12T11:55:59.176Z"
      },
      {
        "duration": 0,
        "start_time": "2023-07-12T11:55:59.177Z"
      },
      {
        "duration": 0,
        "start_time": "2023-07-12T11:55:59.177Z"
      },
      {
        "duration": 0,
        "start_time": "2023-07-12T11:55:59.178Z"
      },
      {
        "duration": 0,
        "start_time": "2023-07-12T11:55:59.179Z"
      },
      {
        "duration": 0,
        "start_time": "2023-07-12T11:55:59.181Z"
      },
      {
        "duration": 0,
        "start_time": "2023-07-12T11:55:59.181Z"
      },
      {
        "duration": 0,
        "start_time": "2023-07-12T11:55:59.182Z"
      },
      {
        "duration": 0,
        "start_time": "2023-07-12T11:55:59.184Z"
      },
      {
        "duration": 0,
        "start_time": "2023-07-12T11:55:59.185Z"
      },
      {
        "duration": 0,
        "start_time": "2023-07-12T11:55:59.186Z"
      },
      {
        "duration": 29,
        "start_time": "2023-07-12T11:56:58.730Z"
      },
      {
        "duration": 16,
        "start_time": "2023-07-12T11:57:05.348Z"
      },
      {
        "duration": 16,
        "start_time": "2023-07-12T11:57:11.390Z"
      },
      {
        "duration": 19,
        "start_time": "2023-07-12T11:57:11.408Z"
      },
      {
        "duration": 16,
        "start_time": "2023-07-12T11:57:11.428Z"
      },
      {
        "duration": 5,
        "start_time": "2023-07-12T11:57:11.447Z"
      },
      {
        "duration": 7,
        "start_time": "2023-07-12T11:57:11.455Z"
      },
      {
        "duration": 186,
        "start_time": "2023-07-12T11:57:11.463Z"
      },
      {
        "duration": 187,
        "start_time": "2023-07-12T11:57:11.651Z"
      },
      {
        "duration": 22,
        "start_time": "2023-07-12T11:57:11.840Z"
      },
      {
        "duration": 0,
        "start_time": "2023-07-12T11:57:11.864Z"
      },
      {
        "duration": 0,
        "start_time": "2023-07-12T11:57:11.865Z"
      },
      {
        "duration": 0,
        "start_time": "2023-07-12T11:57:11.866Z"
      },
      {
        "duration": 0,
        "start_time": "2023-07-12T11:57:11.867Z"
      },
      {
        "duration": 0,
        "start_time": "2023-07-12T11:57:11.868Z"
      },
      {
        "duration": 0,
        "start_time": "2023-07-12T11:57:11.869Z"
      },
      {
        "duration": 0,
        "start_time": "2023-07-12T11:57:11.871Z"
      },
      {
        "duration": 0,
        "start_time": "2023-07-12T11:57:11.872Z"
      },
      {
        "duration": 0,
        "start_time": "2023-07-12T11:57:11.873Z"
      },
      {
        "duration": 0,
        "start_time": "2023-07-12T11:57:11.874Z"
      },
      {
        "duration": 0,
        "start_time": "2023-07-12T11:57:11.875Z"
      },
      {
        "duration": 0,
        "start_time": "2023-07-12T11:57:11.876Z"
      },
      {
        "duration": 0,
        "start_time": "2023-07-12T11:57:11.877Z"
      },
      {
        "duration": 0,
        "start_time": "2023-07-12T11:57:11.878Z"
      },
      {
        "duration": 0,
        "start_time": "2023-07-12T11:57:11.879Z"
      },
      {
        "duration": 0,
        "start_time": "2023-07-12T11:57:11.880Z"
      },
      {
        "duration": 0,
        "start_time": "2023-07-12T11:57:11.881Z"
      },
      {
        "duration": 0,
        "start_time": "2023-07-12T11:57:11.882Z"
      },
      {
        "duration": 0,
        "start_time": "2023-07-12T11:57:11.883Z"
      },
      {
        "duration": 0,
        "start_time": "2023-07-12T11:57:11.932Z"
      },
      {
        "duration": 0,
        "start_time": "2023-07-12T11:57:11.933Z"
      },
      {
        "duration": 0,
        "start_time": "2023-07-12T11:57:11.935Z"
      },
      {
        "duration": 99,
        "start_time": "2023-07-12T11:58:38.181Z"
      },
      {
        "duration": 119,
        "start_time": "2023-07-12T11:58:46.585Z"
      },
      {
        "duration": 689,
        "start_time": "2023-07-12T11:58:46.706Z"
      },
      {
        "duration": 13,
        "start_time": "2023-07-12T11:58:47.397Z"
      },
      {
        "duration": 0,
        "start_time": "2023-07-12T11:58:47.412Z"
      },
      {
        "duration": 0,
        "start_time": "2023-07-12T11:58:47.413Z"
      },
      {
        "duration": 0,
        "start_time": "2023-07-12T11:58:47.414Z"
      },
      {
        "duration": 0,
        "start_time": "2023-07-12T11:58:47.432Z"
      },
      {
        "duration": 0,
        "start_time": "2023-07-12T11:58:47.433Z"
      },
      {
        "duration": 0,
        "start_time": "2023-07-12T11:58:47.435Z"
      },
      {
        "duration": 0,
        "start_time": "2023-07-12T11:58:47.436Z"
      },
      {
        "duration": 0,
        "start_time": "2023-07-12T11:58:47.437Z"
      },
      {
        "duration": 0,
        "start_time": "2023-07-12T11:58:47.439Z"
      },
      {
        "duration": 0,
        "start_time": "2023-07-12T11:58:47.440Z"
      },
      {
        "duration": 0,
        "start_time": "2023-07-12T11:58:47.441Z"
      },
      {
        "duration": 0,
        "start_time": "2023-07-12T11:58:47.442Z"
      },
      {
        "duration": 0,
        "start_time": "2023-07-12T11:58:47.443Z"
      },
      {
        "duration": 0,
        "start_time": "2023-07-12T11:58:47.444Z"
      },
      {
        "duration": 0,
        "start_time": "2023-07-12T11:58:47.446Z"
      },
      {
        "duration": 0,
        "start_time": "2023-07-12T11:58:47.447Z"
      },
      {
        "duration": 0,
        "start_time": "2023-07-12T11:58:47.449Z"
      },
      {
        "duration": 0,
        "start_time": "2023-07-12T11:58:47.450Z"
      },
      {
        "duration": 0,
        "start_time": "2023-07-12T11:58:47.451Z"
      },
      {
        "duration": 0,
        "start_time": "2023-07-12T11:58:47.453Z"
      },
      {
        "duration": 6,
        "start_time": "2023-07-12T11:59:31.602Z"
      },
      {
        "duration": 13,
        "start_time": "2023-07-12T12:00:05.331Z"
      },
      {
        "duration": 13,
        "start_time": "2023-07-12T12:00:15.062Z"
      },
      {
        "duration": 7,
        "start_time": "2023-07-12T12:00:15.498Z"
      },
      {
        "duration": 9,
        "start_time": "2023-07-12T12:00:15.623Z"
      },
      {
        "duration": 5,
        "start_time": "2023-07-12T12:00:17.655Z"
      },
      {
        "duration": 15,
        "start_time": "2023-07-12T12:00:32.526Z"
      },
      {
        "duration": 69,
        "start_time": "2023-07-12T12:00:33.491Z"
      },
      {
        "duration": 403,
        "start_time": "2023-07-12T12:00:41.752Z"
      },
      {
        "duration": 93,
        "start_time": "2023-07-12T12:00:42.157Z"
      },
      {
        "duration": 26,
        "start_time": "2023-07-12T12:00:42.252Z"
      },
      {
        "duration": 29,
        "start_time": "2023-07-12T12:00:42.280Z"
      },
      {
        "duration": 26,
        "start_time": "2023-07-12T12:00:42.310Z"
      },
      {
        "duration": 15,
        "start_time": "2023-07-12T12:00:42.337Z"
      },
      {
        "duration": 6852,
        "start_time": "2023-07-12T12:00:42.354Z"
      },
      {
        "duration": 1503,
        "start_time": "2023-07-12T12:00:49.208Z"
      },
      {
        "duration": 2,
        "start_time": "2023-07-12T12:00:50.713Z"
      },
      {
        "duration": 43,
        "start_time": "2023-07-12T12:00:50.717Z"
      },
      {
        "duration": 45,
        "start_time": "2023-07-12T12:00:50.762Z"
      },
      {
        "duration": 54,
        "start_time": "2023-07-12T12:00:50.808Z"
      },
      {
        "duration": 28,
        "start_time": "2023-07-12T12:00:50.863Z"
      },
      {
        "duration": 34,
        "start_time": "2023-07-12T12:00:50.892Z"
      },
      {
        "duration": 48,
        "start_time": "2023-07-12T12:00:50.927Z"
      },
      {
        "duration": 33,
        "start_time": "2023-07-12T12:00:50.977Z"
      },
      {
        "duration": 41,
        "start_time": "2023-07-12T12:00:51.012Z"
      },
      {
        "duration": 45,
        "start_time": "2023-07-12T12:00:51.055Z"
      },
      {
        "duration": 17,
        "start_time": "2023-07-12T12:00:51.102Z"
      },
      {
        "duration": 30,
        "start_time": "2023-07-12T12:00:51.120Z"
      },
      {
        "duration": 38,
        "start_time": "2023-07-12T12:00:51.152Z"
      },
      {
        "duration": 26,
        "start_time": "2023-07-12T12:00:51.191Z"
      },
      {
        "duration": 45,
        "start_time": "2023-07-12T12:00:51.219Z"
      },
      {
        "duration": 34,
        "start_time": "2023-07-12T12:00:51.265Z"
      },
      {
        "duration": 375,
        "start_time": "2023-07-12T12:00:51.300Z"
      },
      {
        "duration": 15,
        "start_time": "2023-07-12T12:00:51.677Z"
      },
      {
        "duration": 25,
        "start_time": "2023-07-12T12:00:51.693Z"
      },
      {
        "duration": 42,
        "start_time": "2023-07-12T12:00:51.721Z"
      },
      {
        "duration": 14,
        "start_time": "2023-07-12T12:00:51.765Z"
      },
      {
        "duration": 42,
        "start_time": "2023-07-12T12:00:51.781Z"
      },
      {
        "duration": 28,
        "start_time": "2023-07-12T12:00:51.826Z"
      },
      {
        "duration": 15,
        "start_time": "2023-07-12T12:00:51.856Z"
      },
      {
        "duration": 19,
        "start_time": "2023-07-12T12:00:51.872Z"
      },
      {
        "duration": 182,
        "start_time": "2023-07-12T12:00:51.893Z"
      },
      {
        "duration": 189,
        "start_time": "2023-07-12T12:00:52.076Z"
      },
      {
        "duration": 114,
        "start_time": "2023-07-12T12:00:52.266Z"
      },
      {
        "duration": 656,
        "start_time": "2023-07-12T12:00:52.381Z"
      },
      {
        "duration": 11,
        "start_time": "2023-07-12T12:00:53.039Z"
      },
      {
        "duration": 24,
        "start_time": "2023-07-12T12:00:53.052Z"
      },
      {
        "duration": 19,
        "start_time": "2023-07-12T12:00:53.077Z"
      },
      {
        "duration": 15,
        "start_time": "2023-07-12T12:00:53.097Z"
      },
      {
        "duration": 32,
        "start_time": "2023-07-12T12:00:53.113Z"
      },
      {
        "duration": 99,
        "start_time": "2023-07-12T12:00:53.148Z"
      },
      {
        "duration": 5,
        "start_time": "2023-07-12T12:00:53.249Z"
      },
      {
        "duration": 67,
        "start_time": "2023-07-12T12:00:53.256Z"
      },
      {
        "duration": 9,
        "start_time": "2023-07-12T12:00:53.324Z"
      },
      {
        "duration": 1005,
        "start_time": "2023-07-12T12:00:53.335Z"
      },
      {
        "duration": 3,
        "start_time": "2023-07-12T12:00:54.342Z"
      },
      {
        "duration": 60,
        "start_time": "2023-07-12T12:00:54.346Z"
      },
      {
        "duration": 59744,
        "start_time": "2023-07-12T12:00:54.408Z"
      },
      {
        "duration": 4,
        "start_time": "2023-07-12T12:01:54.154Z"
      },
      {
        "duration": 33,
        "start_time": "2023-07-12T12:01:54.159Z"
      },
      {
        "duration": 22727,
        "start_time": "2023-07-12T12:01:54.193Z"
      },
      {
        "duration": 5365,
        "start_time": "2023-07-12T12:02:16.922Z"
      },
      {
        "duration": 23,
        "start_time": "2023-07-12T12:02:22.289Z"
      },
      {
        "duration": 429,
        "start_time": "2023-07-12T12:02:22.314Z"
      },
      {
        "duration": 131,
        "start_time": "2023-07-12T12:02:22.745Z"
      },
      {
        "duration": 261,
        "start_time": "2023-07-12T12:02:22.877Z"
      },
      {
        "duration": 410,
        "start_time": "2023-07-12T12:03:24.564Z"
      },
      {
        "duration": 94,
        "start_time": "2023-07-12T12:03:24.975Z"
      },
      {
        "duration": 25,
        "start_time": "2023-07-12T12:03:25.070Z"
      },
      {
        "duration": 16,
        "start_time": "2023-07-12T12:03:25.097Z"
      },
      {
        "duration": 17,
        "start_time": "2023-07-12T12:03:25.114Z"
      },
      {
        "duration": 18,
        "start_time": "2023-07-12T12:03:25.133Z"
      },
      {
        "duration": 7958,
        "start_time": "2023-07-12T12:03:25.153Z"
      },
      {
        "duration": 1325,
        "start_time": "2023-07-12T12:03:33.113Z"
      },
      {
        "duration": 3,
        "start_time": "2023-07-12T12:03:34.440Z"
      },
      {
        "duration": 22,
        "start_time": "2023-07-12T12:03:34.446Z"
      },
      {
        "duration": 40,
        "start_time": "2023-07-12T12:03:34.470Z"
      },
      {
        "duration": 17,
        "start_time": "2023-07-12T12:03:34.512Z"
      },
      {
        "duration": 27,
        "start_time": "2023-07-12T12:03:34.531Z"
      },
      {
        "duration": 24,
        "start_time": "2023-07-12T12:03:34.560Z"
      },
      {
        "duration": 17,
        "start_time": "2023-07-12T12:03:34.587Z"
      },
      {
        "duration": 31,
        "start_time": "2023-07-12T12:03:34.606Z"
      },
      {
        "duration": 31,
        "start_time": "2023-07-12T12:03:34.640Z"
      },
      {
        "duration": 24,
        "start_time": "2023-07-12T12:03:34.673Z"
      },
      {
        "duration": 13,
        "start_time": "2023-07-12T12:03:34.700Z"
      },
      {
        "duration": 40,
        "start_time": "2023-07-12T12:03:34.715Z"
      },
      {
        "duration": 34,
        "start_time": "2023-07-12T12:03:34.758Z"
      },
      {
        "duration": 27,
        "start_time": "2023-07-12T12:03:34.795Z"
      },
      {
        "duration": 6,
        "start_time": "2023-07-12T12:03:34.824Z"
      },
      {
        "duration": 24,
        "start_time": "2023-07-12T12:03:34.832Z"
      },
      {
        "duration": 354,
        "start_time": "2023-07-12T12:03:34.858Z"
      },
      {
        "duration": 20,
        "start_time": "2023-07-12T12:03:35.214Z"
      },
      {
        "duration": 54,
        "start_time": "2023-07-12T12:03:35.237Z"
      },
      {
        "duration": 57,
        "start_time": "2023-07-12T12:03:35.294Z"
      },
      {
        "duration": 15,
        "start_time": "2023-07-12T12:03:35.354Z"
      },
      {
        "duration": 58,
        "start_time": "2023-07-12T12:03:35.370Z"
      },
      {
        "duration": 33,
        "start_time": "2023-07-12T12:03:35.430Z"
      },
      {
        "duration": 23,
        "start_time": "2023-07-12T12:03:35.465Z"
      },
      {
        "duration": 31,
        "start_time": "2023-07-12T12:03:35.490Z"
      },
      {
        "duration": 197,
        "start_time": "2023-07-12T12:03:35.522Z"
      },
      {
        "duration": 180,
        "start_time": "2023-07-12T12:03:35.720Z"
      },
      {
        "duration": 121,
        "start_time": "2023-07-12T12:03:35.902Z"
      },
      {
        "duration": 698,
        "start_time": "2023-07-12T12:03:36.025Z"
      },
      {
        "duration": 13,
        "start_time": "2023-07-12T12:03:36.725Z"
      },
      {
        "duration": 11,
        "start_time": "2023-07-12T12:03:36.740Z"
      },
      {
        "duration": 13,
        "start_time": "2023-07-12T12:03:36.752Z"
      },
      {
        "duration": 13,
        "start_time": "2023-07-12T12:03:36.767Z"
      },
      {
        "duration": 16,
        "start_time": "2023-07-12T12:03:36.781Z"
      },
      {
        "duration": 70,
        "start_time": "2023-07-12T12:03:36.798Z"
      },
      {
        "duration": 4,
        "start_time": "2023-07-12T12:03:36.869Z"
      },
      {
        "duration": 32,
        "start_time": "2023-07-12T12:03:36.874Z"
      },
      {
        "duration": 7,
        "start_time": "2023-07-12T12:03:36.908Z"
      },
      {
        "duration": 927,
        "start_time": "2023-07-12T12:03:36.916Z"
      },
      {
        "duration": 3,
        "start_time": "2023-07-12T12:03:37.845Z"
      },
      {
        "duration": 173,
        "start_time": "2023-07-12T12:03:37.849Z"
      },
      {
        "duration": 56355,
        "start_time": "2023-07-12T12:03:38.024Z"
      },
      {
        "duration": 3,
        "start_time": "2023-07-12T12:04:34.381Z"
      },
      {
        "duration": 30,
        "start_time": "2023-07-12T12:04:34.385Z"
      },
      {
        "duration": 16254,
        "start_time": "2023-07-12T12:04:34.417Z"
      },
      {
        "duration": 3483,
        "start_time": "2023-07-12T12:04:50.673Z"
      },
      {
        "duration": 22,
        "start_time": "2023-07-12T12:04:54.158Z"
      },
      {
        "duration": 416,
        "start_time": "2023-07-12T12:04:54.182Z"
      },
      {
        "duration": 175,
        "start_time": "2023-07-12T12:04:54.600Z"
      },
      {
        "duration": 308,
        "start_time": "2023-07-12T12:04:54.777Z"
      },
      {
        "duration": 110,
        "start_time": "2023-07-12T12:08:52.989Z"
      },
      {
        "duration": 16,
        "start_time": "2023-07-12T12:09:47.009Z"
      },
      {
        "duration": 226,
        "start_time": "2023-07-12T12:13:04.808Z"
      },
      {
        "duration": 4,
        "start_time": "2023-07-12T12:15:42.802Z"
      },
      {
        "duration": 271,
        "start_time": "2023-07-12T12:16:49.477Z"
      },
      {
        "duration": 12,
        "start_time": "2023-07-12T12:17:28.453Z"
      },
      {
        "duration": 13,
        "start_time": "2023-07-12T12:17:32.634Z"
      },
      {
        "duration": 5,
        "start_time": "2023-07-12T12:17:35.139Z"
      },
      {
        "duration": 235,
        "start_time": "2023-07-12T12:17:52.404Z"
      },
      {
        "duration": 256,
        "start_time": "2023-07-12T12:18:59.768Z"
      },
      {
        "duration": 299,
        "start_time": "2023-07-12T12:31:08.426Z"
      },
      {
        "duration": 224,
        "start_time": "2023-07-12T12:31:22.298Z"
      },
      {
        "duration": 126,
        "start_time": "2023-07-12T12:32:23.094Z"
      },
      {
        "duration": 5,
        "start_time": "2023-07-12T12:35:05.108Z"
      },
      {
        "duration": 11,
        "start_time": "2023-07-12T12:35:55.293Z"
      },
      {
        "duration": 10,
        "start_time": "2023-07-12T12:37:00.801Z"
      },
      {
        "duration": 3,
        "start_time": "2023-07-12T12:49:22.295Z"
      },
      {
        "duration": 24,
        "start_time": "2023-07-12T12:51:03.930Z"
      },
      {
        "duration": 21,
        "start_time": "2023-07-12T12:51:28.633Z"
      },
      {
        "duration": 2,
        "start_time": "2023-07-12T12:52:12.591Z"
      },
      {
        "duration": 3,
        "start_time": "2023-07-12T12:52:14.053Z"
      },
      {
        "duration": 11,
        "start_time": "2023-07-12T12:52:16.531Z"
      },
      {
        "duration": 23,
        "start_time": "2023-07-12T12:52:31.047Z"
      },
      {
        "duration": 669,
        "start_time": "2023-07-12T12:52:50.163Z"
      },
      {
        "duration": 18,
        "start_time": "2023-07-12T12:52:58.511Z"
      },
      {
        "duration": 6,
        "start_time": "2023-07-12T12:53:10.495Z"
      },
      {
        "duration": 419,
        "start_time": "2023-07-12T12:53:46.727Z"
      },
      {
        "duration": 95,
        "start_time": "2023-07-12T12:53:47.148Z"
      },
      {
        "duration": 29,
        "start_time": "2023-07-12T12:53:47.244Z"
      },
      {
        "duration": 17,
        "start_time": "2023-07-12T12:53:47.274Z"
      },
      {
        "duration": 44,
        "start_time": "2023-07-12T12:53:47.293Z"
      },
      {
        "duration": 22,
        "start_time": "2023-07-12T12:53:47.339Z"
      },
      {
        "duration": 6765,
        "start_time": "2023-07-12T12:53:47.363Z"
      },
      {
        "duration": 1220,
        "start_time": "2023-07-12T12:53:54.131Z"
      },
      {
        "duration": 3,
        "start_time": "2023-07-12T12:53:55.353Z"
      },
      {
        "duration": 22,
        "start_time": "2023-07-12T12:53:55.358Z"
      },
      {
        "duration": 23,
        "start_time": "2023-07-12T12:53:55.382Z"
      },
      {
        "duration": 48,
        "start_time": "2023-07-12T12:53:55.407Z"
      },
      {
        "duration": 9,
        "start_time": "2023-07-12T12:53:55.457Z"
      },
      {
        "duration": 11,
        "start_time": "2023-07-12T12:53:55.469Z"
      },
      {
        "duration": 20,
        "start_time": "2023-07-12T12:53:55.481Z"
      },
      {
        "duration": 40,
        "start_time": "2023-07-12T12:53:55.503Z"
      },
      {
        "duration": 26,
        "start_time": "2023-07-12T12:53:55.545Z"
      },
      {
        "duration": 26,
        "start_time": "2023-07-12T12:53:55.573Z"
      },
      {
        "duration": 10,
        "start_time": "2023-07-12T12:53:55.601Z"
      },
      {
        "duration": 15,
        "start_time": "2023-07-12T12:53:55.612Z"
      },
      {
        "duration": 27,
        "start_time": "2023-07-12T12:53:55.628Z"
      },
      {
        "duration": 25,
        "start_time": "2023-07-12T12:53:55.656Z"
      },
      {
        "duration": 11,
        "start_time": "2023-07-12T12:53:55.683Z"
      },
      {
        "duration": 23,
        "start_time": "2023-07-12T12:53:55.695Z"
      },
      {
        "duration": 373,
        "start_time": "2023-07-12T12:53:55.719Z"
      },
      {
        "duration": 17,
        "start_time": "2023-07-12T12:53:56.094Z"
      },
      {
        "duration": 31,
        "start_time": "2023-07-12T12:53:56.113Z"
      },
      {
        "duration": 33,
        "start_time": "2023-07-12T12:53:56.145Z"
      },
      {
        "duration": 14,
        "start_time": "2023-07-12T12:53:56.180Z"
      },
      {
        "duration": 48,
        "start_time": "2023-07-12T12:53:56.196Z"
      },
      {
        "duration": 16,
        "start_time": "2023-07-12T12:53:56.246Z"
      },
      {
        "duration": 5,
        "start_time": "2023-07-12T12:53:56.264Z"
      },
      {
        "duration": 5,
        "start_time": "2023-07-12T12:53:56.271Z"
      },
      {
        "duration": 400,
        "start_time": "2023-07-12T12:53:56.278Z"
      },
      {
        "duration": 481,
        "start_time": "2023-07-12T12:53:56.679Z"
      },
      {
        "duration": 5,
        "start_time": "2023-07-12T12:53:57.161Z"
      },
      {
        "duration": 63,
        "start_time": "2023-07-12T12:53:57.169Z"
      },
      {
        "duration": 645,
        "start_time": "2023-07-12T12:53:57.235Z"
      },
      {
        "duration": 242,
        "start_time": "2023-07-12T12:53:57.932Z"
      },
      {
        "duration": 1198,
        "start_time": "2023-07-12T12:53:58.175Z"
      },
      {
        "duration": 56,
        "start_time": "2023-07-12T12:53:59.377Z"
      },
      {
        "duration": 15,
        "start_time": "2023-07-12T12:53:59.435Z"
      },
      {
        "duration": 18,
        "start_time": "2023-07-12T12:53:59.453Z"
      },
      {
        "duration": 4,
        "start_time": "2023-07-12T12:53:59.473Z"
      },
      {
        "duration": 72,
        "start_time": "2023-07-12T12:53:59.479Z"
      },
      {
        "duration": 179,
        "start_time": "2023-07-12T12:53:59.553Z"
      },
      {
        "duration": 5,
        "start_time": "2023-07-12T12:53:59.735Z"
      },
      {
        "duration": 23,
        "start_time": "2023-07-12T12:53:59.742Z"
      },
      {
        "duration": 14,
        "start_time": "2023-07-12T12:53:59.767Z"
      },
      {
        "duration": 862,
        "start_time": "2023-07-12T12:53:59.783Z"
      },
      {
        "duration": 4,
        "start_time": "2023-07-12T12:54:00.648Z"
      },
      {
        "duration": 81,
        "start_time": "2023-07-12T12:54:00.655Z"
      },
      {
        "duration": 57528,
        "start_time": "2023-07-12T12:54:00.745Z"
      },
      {
        "duration": 3,
        "start_time": "2023-07-12T12:54:58.275Z"
      },
      {
        "duration": 36,
        "start_time": "2023-07-12T12:54:58.279Z"
      },
      {
        "duration": 19367,
        "start_time": "2023-07-12T12:54:58.316Z"
      },
      {
        "duration": 2675,
        "start_time": "2023-07-12T12:55:17.685Z"
      },
      {
        "duration": 27,
        "start_time": "2023-07-12T12:55:20.362Z"
      },
      {
        "duration": 144,
        "start_time": "2023-07-12T12:55:20.391Z"
      },
      {
        "duration": 18,
        "start_time": "2023-07-12T12:55:20.537Z"
      },
      {
        "duration": 264,
        "start_time": "2023-07-12T12:55:20.557Z"
      },
      {
        "duration": 457,
        "start_time": "2023-07-12T12:55:20.822Z"
      },
      {
        "duration": 134,
        "start_time": "2023-07-12T12:55:21.281Z"
      },
      {
        "duration": 3,
        "start_time": "2023-07-12T12:55:30.059Z"
      },
      {
        "duration": 17,
        "start_time": "2023-07-12T12:55:38.107Z"
      },
      {
        "duration": 28,
        "start_time": "2023-07-12T12:55:53.626Z"
      },
      {
        "duration": 3,
        "start_time": "2023-07-12T12:55:59.592Z"
      },
      {
        "duration": 26,
        "start_time": "2023-07-12T12:56:00.933Z"
      },
      {
        "duration": 3,
        "start_time": "2023-07-12T12:56:18.103Z"
      },
      {
        "duration": 8,
        "start_time": "2023-07-12T12:56:21.338Z"
      },
      {
        "duration": 20,
        "start_time": "2023-07-12T12:56:35.543Z"
      },
      {
        "duration": 3,
        "start_time": "2023-07-12T12:57:49.010Z"
      },
      {
        "duration": 25,
        "start_time": "2023-07-12T12:57:50.126Z"
      },
      {
        "duration": 36,
        "start_time": "2023-07-12T12:58:38.802Z"
      },
      {
        "duration": 2,
        "start_time": "2023-07-12T12:58:58.125Z"
      },
      {
        "duration": 3,
        "start_time": "2023-07-12T12:59:00.035Z"
      },
      {
        "duration": 3,
        "start_time": "2023-07-12T12:59:02.645Z"
      },
      {
        "duration": 28,
        "start_time": "2023-07-12T12:59:38.122Z"
      },
      {
        "duration": 27,
        "start_time": "2023-07-12T13:00:27.038Z"
      },
      {
        "duration": 16,
        "start_time": "2023-07-12T13:01:40.737Z"
      },
      {
        "duration": 78,
        "start_time": "2023-07-12T13:01:45.459Z"
      },
      {
        "duration": 22,
        "start_time": "2023-07-12T13:03:04.934Z"
      },
      {
        "duration": 191,
        "start_time": "2023-07-12T13:03:36.560Z"
      },
      {
        "duration": 3,
        "start_time": "2023-07-12T13:03:41.755Z"
      },
      {
        "duration": 175,
        "start_time": "2023-07-12T13:03:42.285Z"
      },
      {
        "duration": 4,
        "start_time": "2023-07-12T13:03:48.942Z"
      },
      {
        "duration": 225,
        "start_time": "2023-07-12T13:03:49.045Z"
      },
      {
        "duration": 176,
        "start_time": "2023-07-12T13:04:18.993Z"
      },
      {
        "duration": 13,
        "start_time": "2023-07-12T13:05:40.803Z"
      },
      {
        "duration": 233,
        "start_time": "2023-07-12T13:05:47.937Z"
      },
      {
        "duration": 5,
        "start_time": "2023-07-12T13:05:48.467Z"
      },
      {
        "duration": 15,
        "start_time": "2023-07-12T13:05:55.951Z"
      },
      {
        "duration": 12,
        "start_time": "2023-07-12T13:09:39.094Z"
      },
      {
        "duration": 8,
        "start_time": "2023-07-12T13:09:46.421Z"
      },
      {
        "duration": 14,
        "start_time": "2023-07-12T13:09:57.821Z"
      },
      {
        "duration": 6,
        "start_time": "2023-07-12T13:10:08.062Z"
      },
      {
        "duration": 7,
        "start_time": "2023-07-12T13:10:12.794Z"
      },
      {
        "duration": 7,
        "start_time": "2023-07-12T13:11:19.526Z"
      },
      {
        "duration": 7,
        "start_time": "2023-07-12T13:12:15.282Z"
      },
      {
        "duration": 6,
        "start_time": "2023-07-12T13:12:41.194Z"
      },
      {
        "duration": 6,
        "start_time": "2023-07-12T13:13:37.397Z"
      },
      {
        "duration": 6,
        "start_time": "2023-07-12T13:13:37.740Z"
      },
      {
        "duration": 7,
        "start_time": "2023-07-12T13:14:03.395Z"
      },
      {
        "duration": 21,
        "start_time": "2023-07-12T13:14:03.447Z"
      },
      {
        "duration": 139,
        "start_time": "2023-07-12T13:17:19.567Z"
      },
      {
        "duration": 3,
        "start_time": "2023-07-12T13:17:22.666Z"
      },
      {
        "duration": 210,
        "start_time": "2023-07-12T13:20:02.655Z"
      },
      {
        "duration": 4,
        "start_time": "2023-07-12T13:20:07.924Z"
      },
      {
        "duration": 7,
        "start_time": "2023-07-12T13:20:09.892Z"
      },
      {
        "duration": 14,
        "start_time": "2023-07-12T13:20:12.035Z"
      },
      {
        "duration": 12,
        "start_time": "2023-07-12T13:20:19.577Z"
      },
      {
        "duration": 10,
        "start_time": "2023-07-12T13:20:19.948Z"
      },
      {
        "duration": 9,
        "start_time": "2023-07-12T13:20:36.630Z"
      },
      {
        "duration": 2,
        "start_time": "2023-07-12T13:20:54.171Z"
      },
      {
        "duration": 216,
        "start_time": "2023-07-12T13:20:54.565Z"
      },
      {
        "duration": 4,
        "start_time": "2023-07-12T13:20:54.960Z"
      },
      {
        "duration": 8,
        "start_time": "2023-07-12T13:21:08.387Z"
      },
      {
        "duration": 8,
        "start_time": "2023-07-12T13:21:36.971Z"
      },
      {
        "duration": 8,
        "start_time": "2023-07-12T13:21:48.705Z"
      },
      {
        "duration": 7,
        "start_time": "2023-07-12T13:21:52.358Z"
      },
      {
        "duration": 3,
        "start_time": "2023-07-12T13:21:57.558Z"
      },
      {
        "duration": 183,
        "start_time": "2023-07-12T13:21:57.892Z"
      },
      {
        "duration": 5,
        "start_time": "2023-07-12T13:21:58.260Z"
      },
      {
        "duration": 6,
        "start_time": "2023-07-12T13:21:58.673Z"
      },
      {
        "duration": 7,
        "start_time": "2023-07-12T13:21:58.952Z"
      },
      {
        "duration": 9,
        "start_time": "2023-07-12T13:21:59.102Z"
      },
      {
        "duration": 6,
        "start_time": "2023-07-12T13:21:59.410Z"
      },
      {
        "duration": 7,
        "start_time": "2023-07-12T13:21:59.563Z"
      },
      {
        "duration": 8,
        "start_time": "2023-07-12T13:22:00.092Z"
      },
      {
        "duration": 6,
        "start_time": "2023-07-12T13:22:00.412Z"
      },
      {
        "duration": 9,
        "start_time": "2023-07-12T13:22:00.560Z"
      },
      {
        "duration": 16,
        "start_time": "2023-07-12T13:22:01.336Z"
      },
      {
        "duration": 3,
        "start_time": "2023-07-12T13:22:10.311Z"
      },
      {
        "duration": 167,
        "start_time": "2023-07-12T13:22:10.505Z"
      },
      {
        "duration": 3,
        "start_time": "2023-07-12T13:22:10.898Z"
      },
      {
        "duration": 8,
        "start_time": "2023-07-12T13:22:14.552Z"
      },
      {
        "duration": 11,
        "start_time": "2023-07-12T13:22:14.859Z"
      },
      {
        "duration": 10,
        "start_time": "2023-07-12T13:22:16.498Z"
      },
      {
        "duration": 3,
        "start_time": "2023-07-12T13:22:23.180Z"
      },
      {
        "duration": 179,
        "start_time": "2023-07-12T13:22:23.324Z"
      },
      {
        "duration": 4,
        "start_time": "2023-07-12T13:22:23.506Z"
      },
      {
        "duration": 8,
        "start_time": "2023-07-12T13:22:26.963Z"
      },
      {
        "duration": 7,
        "start_time": "2023-07-12T13:22:27.163Z"
      },
      {
        "duration": 8,
        "start_time": "2023-07-12T13:22:28.469Z"
      },
      {
        "duration": 3,
        "start_time": "2023-07-12T13:22:37.722Z"
      },
      {
        "duration": 434,
        "start_time": "2023-07-12T13:24:51.460Z"
      },
      {
        "duration": 108,
        "start_time": "2023-07-12T13:24:51.896Z"
      },
      {
        "duration": 30,
        "start_time": "2023-07-12T13:24:52.006Z"
      },
      {
        "duration": 46,
        "start_time": "2023-07-12T13:24:52.038Z"
      },
      {
        "duration": 36,
        "start_time": "2023-07-12T13:24:52.087Z"
      },
      {
        "duration": 76,
        "start_time": "2023-07-12T13:24:52.125Z"
      },
      {
        "duration": 7023,
        "start_time": "2023-07-12T13:24:52.203Z"
      },
      {
        "duration": 1430,
        "start_time": "2023-07-12T13:24:59.229Z"
      },
      {
        "duration": 3,
        "start_time": "2023-07-12T13:25:00.661Z"
      },
      {
        "duration": 143,
        "start_time": "2023-07-12T13:25:00.666Z"
      },
      {
        "duration": 87,
        "start_time": "2023-07-12T13:25:00.811Z"
      },
      {
        "duration": 107,
        "start_time": "2023-07-12T13:25:00.899Z"
      },
      {
        "duration": 56,
        "start_time": "2023-07-12T13:25:01.007Z"
      },
      {
        "duration": 76,
        "start_time": "2023-07-12T13:25:01.069Z"
      },
      {
        "duration": 52,
        "start_time": "2023-07-12T13:25:01.147Z"
      },
      {
        "duration": 170,
        "start_time": "2023-07-12T13:25:01.200Z"
      },
      {
        "duration": 109,
        "start_time": "2023-07-12T13:25:01.372Z"
      },
      {
        "duration": 81,
        "start_time": "2023-07-12T13:25:01.483Z"
      },
      {
        "duration": 33,
        "start_time": "2023-07-12T13:25:01.565Z"
      },
      {
        "duration": 55,
        "start_time": "2023-07-12T13:25:01.600Z"
      },
      {
        "duration": 42,
        "start_time": "2023-07-12T13:25:01.657Z"
      },
      {
        "duration": 77,
        "start_time": "2023-07-12T13:25:01.701Z"
      },
      {
        "duration": 32,
        "start_time": "2023-07-12T13:25:01.780Z"
      },
      {
        "duration": 53,
        "start_time": "2023-07-12T13:25:01.814Z"
      },
      {
        "duration": 395,
        "start_time": "2023-07-12T13:25:01.869Z"
      },
      {
        "duration": 17,
        "start_time": "2023-07-12T13:25:02.266Z"
      },
      {
        "duration": 31,
        "start_time": "2023-07-12T13:25:02.285Z"
      },
      {
        "duration": 59,
        "start_time": "2023-07-12T13:25:02.318Z"
      },
      {
        "duration": 18,
        "start_time": "2023-07-12T13:25:02.379Z"
      },
      {
        "duration": 47,
        "start_time": "2023-07-12T13:25:02.400Z"
      },
      {
        "duration": 37,
        "start_time": "2023-07-12T13:25:02.454Z"
      },
      {
        "duration": 7,
        "start_time": "2023-07-12T13:25:02.494Z"
      },
      {
        "duration": 22,
        "start_time": "2023-07-12T13:25:02.504Z"
      },
      {
        "duration": 199,
        "start_time": "2023-07-12T13:25:02.528Z"
      },
      {
        "duration": 186,
        "start_time": "2023-07-12T13:25:02.729Z"
      },
      {
        "duration": 4,
        "start_time": "2023-07-12T13:25:02.917Z"
      },
      {
        "duration": 83,
        "start_time": "2023-07-12T13:25:02.922Z"
      },
      {
        "duration": 321,
        "start_time": "2023-07-12T13:25:03.007Z"
      },
      {
        "duration": 234,
        "start_time": "2023-07-12T13:25:03.331Z"
      },
      {
        "duration": 537,
        "start_time": "2023-07-12T13:25:03.570Z"
      },
      {
        "duration": 7,
        "start_time": "2023-07-12T13:25:04.111Z"
      },
      {
        "duration": 59,
        "start_time": "2023-07-12T13:25:04.120Z"
      },
      {
        "duration": 186,
        "start_time": "2023-07-12T13:25:04.180Z"
      },
      {
        "duration": 142,
        "start_time": "2023-07-12T13:25:04.368Z"
      },
      {
        "duration": 112,
        "start_time": "2023-07-12T13:25:04.511Z"
      },
      {
        "duration": 201,
        "start_time": "2023-07-12T13:25:04.625Z"
      },
      {
        "duration": 23,
        "start_time": "2023-07-12T13:25:04.828Z"
      },
      {
        "duration": 45,
        "start_time": "2023-07-12T13:25:04.861Z"
      },
      {
        "duration": 51,
        "start_time": "2023-07-12T13:25:04.908Z"
      },
      {
        "duration": 602,
        "start_time": "2023-07-12T13:25:04.961Z"
      },
      {
        "duration": 7,
        "start_time": "2023-07-12T13:25:05.634Z"
      },
      {
        "duration": 55,
        "start_time": "2023-07-12T13:25:05.642Z"
      },
      {
        "duration": 391,
        "start_time": "2023-07-12T17:36:40.975Z"
      },
      {
        "duration": 91,
        "start_time": "2023-07-12T17:36:41.368Z"
      },
      {
        "duration": 26,
        "start_time": "2023-07-12T17:36:41.461Z"
      },
      {
        "duration": 21,
        "start_time": "2023-07-12T17:36:41.489Z"
      },
      {
        "duration": 17,
        "start_time": "2023-07-12T17:36:42.336Z"
      },
      {
        "duration": 13,
        "start_time": "2023-07-12T17:36:42.501Z"
      },
      {
        "duration": 7227,
        "start_time": "2023-07-12T17:36:44.535Z"
      },
      {
        "duration": 2123,
        "start_time": "2023-07-12T17:36:51.764Z"
      },
      {
        "duration": 3,
        "start_time": "2023-07-12T17:36:53.888Z"
      },
      {
        "duration": 16,
        "start_time": "2023-07-12T17:36:53.893Z"
      },
      {
        "duration": 30,
        "start_time": "2023-07-12T17:36:53.911Z"
      },
      {
        "duration": 24,
        "start_time": "2023-07-12T17:36:53.943Z"
      },
      {
        "duration": 14,
        "start_time": "2023-07-12T17:36:53.969Z"
      },
      {
        "duration": 7,
        "start_time": "2023-07-12T17:36:53.985Z"
      },
      {
        "duration": 12,
        "start_time": "2023-07-12T17:36:53.994Z"
      },
      {
        "duration": 15,
        "start_time": "2023-07-12T17:36:54.008Z"
      },
      {
        "duration": 42,
        "start_time": "2023-07-12T17:36:54.025Z"
      },
      {
        "duration": 22,
        "start_time": "2023-07-12T17:36:54.069Z"
      },
      {
        "duration": 21,
        "start_time": "2023-07-12T17:37:21.936Z"
      },
      {
        "duration": 5,
        "start_time": "2023-07-12T17:37:22.102Z"
      },
      {
        "duration": 14,
        "start_time": "2023-07-12T17:37:22.696Z"
      },
      {
        "duration": 15,
        "start_time": "2023-07-12T17:37:23.493Z"
      },
      {
        "duration": 6,
        "start_time": "2023-07-12T17:37:23.782Z"
      },
      {
        "duration": 21,
        "start_time": "2023-07-12T17:37:23.944Z"
      },
      {
        "duration": 644,
        "start_time": "2023-07-12T17:37:24.236Z"
      },
      {
        "duration": 82,
        "start_time": "2023-07-12T17:37:24.882Z"
      },
      {
        "duration": 20,
        "start_time": "2023-07-12T17:37:24.966Z"
      },
      {
        "duration": 63,
        "start_time": "2023-07-12T17:37:25.195Z"
      },
      {
        "duration": 44,
        "start_time": "2023-07-12T17:37:25.613Z"
      },
      {
        "duration": 40,
        "start_time": "2023-07-12T17:37:26.337Z"
      },
      {
        "duration": 14,
        "start_time": "2023-07-12T17:37:27.614Z"
      },
      {
        "duration": 4,
        "start_time": "2023-07-12T17:37:27.798Z"
      },
      {
        "duration": 4,
        "start_time": "2023-07-12T17:37:28.240Z"
      },
      {
        "duration": 303,
        "start_time": "2023-07-12T17:37:28.494Z"
      },
      {
        "duration": 471,
        "start_time": "2023-07-12T17:37:28.799Z"
      },
      {
        "duration": 5,
        "start_time": "2023-07-12T17:37:30.001Z"
      },
      {
        "duration": 3,
        "start_time": "2023-07-12T17:37:30.142Z"
      },
      {
        "duration": 470,
        "start_time": "2023-07-12T17:37:30.328Z"
      },
      {
        "duration": 182,
        "start_time": "2023-07-12T17:37:31.903Z"
      },
      {
        "duration": 1111,
        "start_time": "2023-07-12T17:37:32.550Z"
      },
      {
        "duration": 8,
        "start_time": "2023-07-12T17:37:33.663Z"
      },
      {
        "duration": 6,
        "start_time": "2023-07-12T17:37:36.135Z"
      },
      {
        "duration": 11,
        "start_time": "2023-07-12T17:37:36.297Z"
      },
      {
        "duration": 5,
        "start_time": "2023-07-12T17:37:36.461Z"
      },
      {
        "duration": 19,
        "start_time": "2023-07-12T17:37:37.897Z"
      },
      {
        "duration": 125,
        "start_time": "2023-07-12T17:37:38.056Z"
      },
      {
        "duration": 4,
        "start_time": "2023-07-12T17:37:38.310Z"
      },
      {
        "duration": 14,
        "start_time": "2023-07-12T17:37:40.957Z"
      },
      {
        "duration": 4,
        "start_time": "2023-07-12T17:37:41.175Z"
      },
      {
        "duration": 983,
        "start_time": "2023-07-12T17:37:41.397Z"
      },
      {
        "duration": 4,
        "start_time": "2023-07-12T17:37:42.757Z"
      },
      {
        "duration": 4,
        "start_time": "2023-07-12T17:37:56.942Z"
      },
      {
        "duration": 110267,
        "start_time": "2023-07-12T17:38:02.318Z"
      },
      {
        "duration": 3,
        "start_time": "2023-07-12T17:39:52.588Z"
      },
      {
        "duration": 93,
        "start_time": "2023-07-12T17:39:52.593Z"
      },
      {
        "duration": 19069,
        "start_time": "2023-07-12T17:39:52.689Z"
      },
      {
        "duration": 3741,
        "start_time": "2023-07-12T17:40:11.760Z"
      },
      {
        "duration": 68,
        "start_time": "2023-07-12T17:40:15.503Z"
      },
      {
        "duration": 302,
        "start_time": "2023-07-12T17:40:15.574Z"
      },
      {
        "duration": 14,
        "start_time": "2023-07-12T17:40:15.879Z"
      },
      {
        "duration": 372,
        "start_time": "2023-07-12T17:40:29.524Z"
      },
      {
        "duration": 628,
        "start_time": "2023-07-12T17:40:29.956Z"
      },
      {
        "duration": 2,
        "start_time": "2023-07-12T17:40:33.476Z"
      },
      {
        "duration": 3,
        "start_time": "2023-07-12T17:40:34.838Z"
      },
      {
        "duration": 309,
        "start_time": "2023-07-12T17:40:35.356Z"
      },
      {
        "duration": 5,
        "start_time": "2023-07-12T17:40:36.979Z"
      },
      {
        "duration": 8,
        "start_time": "2023-07-12T17:40:38.502Z"
      },
      {
        "duration": 7,
        "start_time": "2023-07-12T17:40:39.201Z"
      },
      {
        "duration": 8,
        "start_time": "2023-07-12T17:40:41.034Z"
      },
      {
        "duration": 7,
        "start_time": "2023-07-12T17:40:41.202Z"
      },
      {
        "duration": 6,
        "start_time": "2023-07-12T17:40:43.956Z"
      },
      {
        "duration": 7,
        "start_time": "2023-07-12T17:40:44.502Z"
      },
      {
        "duration": 8,
        "start_time": "2023-07-12T17:40:45.180Z"
      },
      {
        "duration": 429,
        "start_time": "2023-07-13T14:40:02.152Z"
      },
      {
        "duration": 321,
        "start_time": "2023-07-13T14:40:02.583Z"
      },
      {
        "duration": 27,
        "start_time": "2023-07-13T14:40:02.906Z"
      },
      {
        "duration": 16,
        "start_time": "2023-07-13T14:40:02.935Z"
      },
      {
        "duration": 18,
        "start_time": "2023-07-13T14:40:02.952Z"
      },
      {
        "duration": 14,
        "start_time": "2023-07-13T14:40:02.971Z"
      },
      {
        "duration": 9655,
        "start_time": "2023-07-13T14:40:02.986Z"
      },
      {
        "duration": 1346,
        "start_time": "2023-07-13T14:40:12.643Z"
      },
      {
        "duration": 2,
        "start_time": "2023-07-13T14:40:13.991Z"
      },
      {
        "duration": 60,
        "start_time": "2023-07-13T14:40:13.995Z"
      },
      {
        "duration": 63,
        "start_time": "2023-07-13T14:40:14.056Z"
      },
      {
        "duration": 59,
        "start_time": "2023-07-13T14:40:14.121Z"
      },
      {
        "duration": 65,
        "start_time": "2023-07-13T14:40:14.181Z"
      },
      {
        "duration": 38,
        "start_time": "2023-07-13T14:40:14.249Z"
      },
      {
        "duration": 64,
        "start_time": "2023-07-13T14:40:14.289Z"
      },
      {
        "duration": 75,
        "start_time": "2023-07-13T14:40:14.355Z"
      },
      {
        "duration": 94,
        "start_time": "2023-07-13T14:40:14.432Z"
      },
      {
        "duration": 73,
        "start_time": "2023-07-13T14:40:14.528Z"
      },
      {
        "duration": 42,
        "start_time": "2023-07-13T14:40:14.603Z"
      },
      {
        "duration": 76,
        "start_time": "2023-07-13T14:40:14.647Z"
      },
      {
        "duration": 63,
        "start_time": "2023-07-13T14:40:14.725Z"
      },
      {
        "duration": 39,
        "start_time": "2023-07-13T14:40:14.790Z"
      },
      {
        "duration": 60,
        "start_time": "2023-07-13T14:40:14.831Z"
      },
      {
        "duration": 68,
        "start_time": "2023-07-13T14:40:14.893Z"
      },
      {
        "duration": 337,
        "start_time": "2023-07-13T14:40:14.963Z"
      },
      {
        "duration": 17,
        "start_time": "2023-07-13T14:40:15.302Z"
      },
      {
        "duration": 64,
        "start_time": "2023-07-13T14:40:15.321Z"
      },
      {
        "duration": 48,
        "start_time": "2023-07-13T14:40:15.387Z"
      },
      {
        "duration": 39,
        "start_time": "2023-07-13T14:40:15.437Z"
      },
      {
        "duration": 63,
        "start_time": "2023-07-13T14:40:15.478Z"
      },
      {
        "duration": 66,
        "start_time": "2023-07-13T14:40:15.543Z"
      },
      {
        "duration": 40,
        "start_time": "2023-07-13T14:40:15.611Z"
      },
      {
        "duration": 15,
        "start_time": "2023-07-13T14:40:15.653Z"
      },
      {
        "duration": 206,
        "start_time": "2023-07-13T14:40:15.669Z"
      },
      {
        "duration": 158,
        "start_time": "2023-07-13T14:40:15.877Z"
      },
      {
        "duration": 3,
        "start_time": "2023-07-13T14:40:16.037Z"
      },
      {
        "duration": 63,
        "start_time": "2023-07-13T14:40:16.042Z"
      },
      {
        "duration": 325,
        "start_time": "2023-07-13T14:40:16.107Z"
      },
      {
        "duration": 103,
        "start_time": "2023-07-13T14:40:16.433Z"
      },
      {
        "duration": 613,
        "start_time": "2023-07-13T14:40:16.538Z"
      },
      {
        "duration": 6,
        "start_time": "2023-07-13T14:40:17.155Z"
      },
      {
        "duration": 42,
        "start_time": "2023-07-13T14:40:17.162Z"
      },
      {
        "duration": 42,
        "start_time": "2023-07-13T14:40:17.205Z"
      },
      {
        "duration": 47,
        "start_time": "2023-07-13T14:40:17.248Z"
      },
      {
        "duration": 92,
        "start_time": "2023-07-13T14:40:17.297Z"
      },
      {
        "duration": 86,
        "start_time": "2023-07-13T14:40:17.390Z"
      },
      {
        "duration": 3,
        "start_time": "2023-07-13T14:40:17.478Z"
      },
      {
        "duration": 52,
        "start_time": "2023-07-13T14:40:17.483Z"
      },
      {
        "duration": 40,
        "start_time": "2023-07-13T14:40:17.536Z"
      },
      {
        "duration": 997,
        "start_time": "2023-07-13T14:40:17.578Z"
      },
      {
        "duration": 3,
        "start_time": "2023-07-13T14:40:18.577Z"
      },
      {
        "duration": 41,
        "start_time": "2023-07-13T14:40:18.581Z"
      },
      {
        "duration": 54610,
        "start_time": "2023-07-13T14:40:18.624Z"
      },
      {
        "duration": 3,
        "start_time": "2023-07-13T14:41:13.236Z"
      },
      {
        "duration": 40,
        "start_time": "2023-07-13T14:41:13.240Z"
      },
      {
        "duration": 10514,
        "start_time": "2023-07-13T14:41:13.281Z"
      },
      {
        "duration": 1938,
        "start_time": "2023-07-13T14:41:23.797Z"
      },
      {
        "duration": 23,
        "start_time": "2023-07-13T14:41:25.736Z"
      },
      {
        "duration": 123,
        "start_time": "2023-07-13T14:41:25.761Z"
      },
      {
        "duration": 9,
        "start_time": "2023-07-13T14:41:25.886Z"
      },
      {
        "duration": 251,
        "start_time": "2023-07-13T14:41:25.896Z"
      },
      {
        "duration": 441,
        "start_time": "2023-07-13T14:41:26.148Z"
      },
      {
        "duration": 2,
        "start_time": "2023-07-13T14:41:26.591Z"
      },
      {
        "duration": 7,
        "start_time": "2023-07-13T14:41:26.595Z"
      },
      {
        "duration": 214,
        "start_time": "2023-07-13T14:41:26.604Z"
      },
      {
        "duration": 5,
        "start_time": "2023-07-13T14:41:26.820Z"
      },
      {
        "duration": 9,
        "start_time": "2023-07-13T14:41:26.827Z"
      },
      {
        "duration": 7,
        "start_time": "2023-07-13T14:41:26.838Z"
      },
      {
        "duration": 29,
        "start_time": "2023-07-13T14:41:26.846Z"
      },
      {
        "duration": 11,
        "start_time": "2023-07-13T14:41:26.877Z"
      },
      {
        "duration": 9,
        "start_time": "2023-07-13T14:41:26.890Z"
      },
      {
        "duration": 10,
        "start_time": "2023-07-13T14:41:26.900Z"
      },
      {
        "duration": 8,
        "start_time": "2023-07-13T14:41:26.912Z"
      },
      {
        "duration": 31,
        "start_time": "2023-07-13T14:45:26.263Z"
      },
      {
        "duration": 111,
        "start_time": "2023-07-13T14:45:38.502Z"
      },
      {
        "duration": 4,
        "start_time": "2023-07-13T14:45:40.806Z"
      },
      {
        "duration": 4,
        "start_time": "2023-07-13T15:30:28.127Z"
      },
      {
        "duration": 134,
        "start_time": "2023-07-13T15:46:06.421Z"
      },
      {
        "duration": 371,
        "start_time": "2023-07-13T16:13:48.302Z"
      },
      {
        "duration": 152,
        "start_time": "2023-07-13T16:23:46.521Z"
      },
      {
        "duration": 155,
        "start_time": "2023-07-13T16:23:55.548Z"
      },
      {
        "duration": 307,
        "start_time": "2023-07-13T16:24:05.172Z"
      },
      {
        "duration": 384,
        "start_time": "2023-07-13T16:27:36.334Z"
      },
      {
        "duration": 403,
        "start_time": "2023-07-13T16:30:36.394Z"
      },
      {
        "duration": 97,
        "start_time": "2023-07-13T16:30:36.798Z"
      },
      {
        "duration": 27,
        "start_time": "2023-07-13T16:30:36.896Z"
      },
      {
        "duration": 17,
        "start_time": "2023-07-13T16:30:36.924Z"
      },
      {
        "duration": 38,
        "start_time": "2023-07-13T16:30:36.943Z"
      },
      {
        "duration": 14,
        "start_time": "2023-07-13T16:30:36.983Z"
      },
      {
        "duration": 6355,
        "start_time": "2023-07-13T16:30:36.998Z"
      },
      {
        "duration": 1099,
        "start_time": "2023-07-13T16:30:43.355Z"
      },
      {
        "duration": 3,
        "start_time": "2023-07-13T16:30:44.455Z"
      },
      {
        "duration": 13,
        "start_time": "2023-07-13T16:30:44.459Z"
      },
      {
        "duration": 22,
        "start_time": "2023-07-13T16:30:44.474Z"
      },
      {
        "duration": 20,
        "start_time": "2023-07-13T16:30:44.497Z"
      },
      {
        "duration": 10,
        "start_time": "2023-07-13T16:30:44.518Z"
      },
      {
        "duration": 5,
        "start_time": "2023-07-13T16:30:44.530Z"
      },
      {
        "duration": 24,
        "start_time": "2023-07-13T16:30:44.537Z"
      },
      {
        "duration": 16,
        "start_time": "2023-07-13T16:30:44.562Z"
      },
      {
        "duration": 11,
        "start_time": "2023-07-13T16:30:44.579Z"
      },
      {
        "duration": 19,
        "start_time": "2023-07-13T16:30:44.592Z"
      },
      {
        "duration": 11,
        "start_time": "2023-07-13T16:30:44.613Z"
      },
      {
        "duration": 6,
        "start_time": "2023-07-13T16:30:44.625Z"
      },
      {
        "duration": 40,
        "start_time": "2023-07-13T16:30:44.633Z"
      },
      {
        "duration": 16,
        "start_time": "2023-07-13T16:30:44.676Z"
      },
      {
        "duration": 5,
        "start_time": "2023-07-13T16:30:44.694Z"
      },
      {
        "duration": 13,
        "start_time": "2023-07-13T16:30:44.701Z"
      },
      {
        "duration": 350,
        "start_time": "2023-07-13T16:30:44.717Z"
      },
      {
        "duration": 19,
        "start_time": "2023-07-13T16:30:45.069Z"
      },
      {
        "duration": 26,
        "start_time": "2023-07-13T16:30:45.089Z"
      },
      {
        "duration": 24,
        "start_time": "2023-07-13T16:30:45.116Z"
      },
      {
        "duration": 13,
        "start_time": "2023-07-13T16:30:45.142Z"
      },
      {
        "duration": 22,
        "start_time": "2023-07-13T16:30:45.170Z"
      },
      {
        "duration": 12,
        "start_time": "2023-07-13T16:30:45.194Z"
      },
      {
        "duration": 4,
        "start_time": "2023-07-13T16:30:45.207Z"
      },
      {
        "duration": 25,
        "start_time": "2023-07-13T16:30:45.212Z"
      },
      {
        "duration": 170,
        "start_time": "2023-07-13T16:30:45.238Z"
      },
      {
        "duration": 174,
        "start_time": "2023-07-13T16:30:45.409Z"
      },
      {
        "duration": 3,
        "start_time": "2023-07-13T16:30:45.585Z"
      },
      {
        "duration": 14,
        "start_time": "2023-07-13T16:30:45.590Z"
      },
      {
        "duration": 257,
        "start_time": "2023-07-13T16:30:45.605Z"
      },
      {
        "duration": 189,
        "start_time": "2023-07-13T16:30:45.864Z"
      },
      {
        "duration": 610,
        "start_time": "2023-07-13T16:30:46.055Z"
      },
      {
        "duration": 8,
        "start_time": "2023-07-13T16:30:46.673Z"
      },
      {
        "duration": 9,
        "start_time": "2023-07-13T16:30:46.682Z"
      },
      {
        "duration": 19,
        "start_time": "2023-07-13T16:30:46.693Z"
      },
      {
        "duration": 10,
        "start_time": "2023-07-13T16:30:46.714Z"
      },
      {
        "duration": 35,
        "start_time": "2023-07-13T16:30:46.725Z"
      },
      {
        "duration": 75,
        "start_time": "2023-07-13T16:30:46.762Z"
      },
      {
        "duration": 3,
        "start_time": "2023-07-13T16:30:46.839Z"
      },
      {
        "duration": 59,
        "start_time": "2023-07-13T16:30:46.844Z"
      },
      {
        "duration": 22,
        "start_time": "2023-07-13T16:30:46.905Z"
      },
      {
        "duration": 1046,
        "start_time": "2023-07-13T16:30:46.929Z"
      },
      {
        "duration": 3,
        "start_time": "2023-07-13T16:30:47.977Z"
      },
      {
        "duration": 16,
        "start_time": "2023-07-13T16:30:47.981Z"
      },
      {
        "duration": 53607,
        "start_time": "2023-07-13T16:30:47.999Z"
      },
      {
        "duration": 3,
        "start_time": "2023-07-13T16:31:41.608Z"
      },
      {
        "duration": 28,
        "start_time": "2023-07-13T16:31:41.613Z"
      },
      {
        "duration": 10036,
        "start_time": "2023-07-13T16:31:41.643Z"
      },
      {
        "duration": 2061,
        "start_time": "2023-07-13T16:31:51.680Z"
      },
      {
        "duration": 21,
        "start_time": "2023-07-13T16:31:53.742Z"
      },
      {
        "duration": 160,
        "start_time": "2023-07-13T16:31:53.765Z"
      },
      {
        "duration": 12,
        "start_time": "2023-07-13T16:31:53.927Z"
      },
      {
        "duration": 291,
        "start_time": "2023-07-13T16:31:53.941Z"
      },
      {
        "duration": 419,
        "start_time": "2023-07-13T16:31:54.234Z"
      },
      {
        "duration": 2,
        "start_time": "2023-07-13T16:31:54.655Z"
      },
      {
        "duration": 28,
        "start_time": "2023-07-13T16:31:54.659Z"
      },
      {
        "duration": 224,
        "start_time": "2023-07-13T16:31:54.689Z"
      },
      {
        "duration": 4,
        "start_time": "2023-07-13T16:31:54.915Z"
      },
      {
        "duration": 25,
        "start_time": "2023-07-13T16:31:54.920Z"
      },
      {
        "duration": 32,
        "start_time": "2023-07-13T16:31:54.946Z"
      },
      {
        "duration": 16,
        "start_time": "2023-07-13T16:31:54.981Z"
      },
      {
        "duration": 25,
        "start_time": "2023-07-13T16:31:54.998Z"
      },
      {
        "duration": 23,
        "start_time": "2023-07-13T16:31:55.025Z"
      },
      {
        "duration": 26,
        "start_time": "2023-07-13T16:31:55.050Z"
      },
      {
        "duration": 18,
        "start_time": "2023-07-13T16:31:55.078Z"
      },
      {
        "duration": 152,
        "start_time": "2023-07-13T16:31:55.097Z"
      },
      {
        "duration": 163,
        "start_time": "2023-07-13T16:31:55.251Z"
      },
      {
        "duration": 233,
        "start_time": "2023-07-13T16:31:55.416Z"
      },
      {
        "duration": 496,
        "start_time": "2023-07-13T16:31:55.651Z"
      }
    ],
    "kernelspec": {
      "display_name": "Python 3 (ipykernel)",
      "language": "python",
      "name": "python3"
    },
    "language_info": {
      "codemirror_mode": {
        "name": "ipython",
        "version": 3
      },
      "file_extension": ".py",
      "mimetype": "text/x-python",
      "name": "python",
      "nbconvert_exporter": "python",
      "pygments_lexer": "ipython3",
      "version": "3.9.5"
    },
    "toc": {
      "base_numbering": 1,
      "nav_menu": {},
      "number_sections": true,
      "sideBar": true,
      "skip_h1_title": true,
      "title_cell": "Table of Contents",
      "title_sidebar": "Contents",
      "toc_cell": false,
      "toc_position": {
        "height": "calc(100% - 180px)",
        "left": "10px",
        "top": "150px",
        "width": "346.523px"
      },
      "toc_section_display": true,
      "toc_window_display": true
    },
    "colab": {
      "provenance": []
    }
  },
  "nbformat": 4,
  "nbformat_minor": 0
}
