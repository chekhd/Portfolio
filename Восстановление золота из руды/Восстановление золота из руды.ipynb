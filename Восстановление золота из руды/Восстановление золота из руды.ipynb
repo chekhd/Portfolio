{
  "cells": [
    {
      "cell_type": "markdown",
      "metadata": {
        "toc": true,
        "id": "BsjkPH0twhot"
      },
      "source": [
        "<h1>Содержание<span class=\"tocSkip\"></span></h1>\n",
        "<div class=\"toc\"><ul class=\"toc-item\"><li><span><a href=\"#Подготовка-данных\" data-toc-modified-id=\"Подготовка-данных-1\"><span class=\"toc-item-num\">1&nbsp;&nbsp;</span>Подготовка данных</a></span><ul class=\"toc-item\"><li><span><a href=\"#Импорт-библиотек-и-открытие-файлов\" data-toc-modified-id=\"Импорт-библиотек-и-открытие-файлов-1.1\"><span class=\"toc-item-num\">1.1&nbsp;&nbsp;</span>Импорт библиотек и открытие файлов</a></span></li><li><span><a href=\"#Первичное-изучение-файлов\" data-toc-modified-id=\"Первичное-изучение-файлов-1.2\"><span class=\"toc-item-num\">1.2&nbsp;&nbsp;</span>Первичное изучение файлов</a></span></li><li><span><a href=\"#Заполнение-пропусков-в-тренировочном-датасете\" data-toc-modified-id=\"Заполнение-пропусков-в-тренировочном-датасете-1.3\"><span class=\"toc-item-num\">1.3&nbsp;&nbsp;</span>Заполнение пропусков в тренировочном датасете</a></span></li><li><span><a href=\"#Проверка-на-наличие-явных-дубликатов\" data-toc-modified-id=\"Проверка-на-наличие-явных-дубликатов-1.4\"><span class=\"toc-item-num\">1.4&nbsp;&nbsp;</span>Проверка на наличие явных дубликатов</a></span></li><li><span><a href=\"#Удаление-нулевых-значений-концентрации\" data-toc-modified-id=\"Удаление-нулевых-значений-концентрации-1.5\"><span class=\"toc-item-num\">1.5&nbsp;&nbsp;</span>Удаление нулевых значений концентрации</a></span></li><li><span><a href=\"#Проверка-формулы-вычисления-эффективности-обогащения\" data-toc-modified-id=\"Проверка-формулы-вычисления-эффективности-обогащения-1.6\"><span class=\"toc-item-num\">1.6&nbsp;&nbsp;</span>Проверка формулы вычисления эффективности обогащения</a></span></li><li><span><a href=\"#Анализ-признаков,-недоступных-в-тестовой-выборке\" data-toc-modified-id=\"Анализ-признаков,-недоступных-в-тестовой-выборке-1.7\"><span class=\"toc-item-num\">1.7&nbsp;&nbsp;</span>Анализ признаков, недоступных в тестовой выборке</a></span></li><li><span><a href=\"#Выводы-по-разделу\" data-toc-modified-id=\"Выводы-по-разделу-1.8\"><span class=\"toc-item-num\">1.8&nbsp;&nbsp;</span>Выводы по разделу</a></span></li></ul></li><li><span><a href=\"#Анализ-данных\" data-toc-modified-id=\"Анализ-данных-2\"><span class=\"toc-item-num\">2&nbsp;&nbsp;</span>Анализ данных</a></span><ul class=\"toc-item\"><li><span><a href=\"#Работа-с-выбросами\" data-toc-modified-id=\"Работа-с-выбросами-2.1\"><span class=\"toc-item-num\">2.1&nbsp;&nbsp;</span>Работа с выбросами</a></span></li><li><span><a href=\"#Динамика-концентрация-металлов-на-различных-этапах-очистки\" data-toc-modified-id=\"Динамика-концентрация-металлов-на-различных-этапах-очистки-2.2\"><span class=\"toc-item-num\">2.2&nbsp;&nbsp;</span>Динамика концентрация металлов на различных этапах очистки</a></span></li><li><span><a href=\"#Сравните-распределения-размеров-гранул-сырья-на-обучающей-и-тестовой-выборках\" data-toc-modified-id=\"Сравните-распределения-размеров-гранул-сырья-на-обучающей-и-тестовой-выборках-2.3\"><span class=\"toc-item-num\">2.3&nbsp;&nbsp;</span>Сравните распределения размеров гранул сырья на обучающей и тестовой выборках</a></span></li><li><span><a href=\"#Суммарная-концентрация-всех-веществ-на-разных-стадиях\" data-toc-modified-id=\"Суммарная-концентрация-всех-веществ-на-разных-стадиях-2.4\"><span class=\"toc-item-num\">2.4&nbsp;&nbsp;</span>Суммарная концентрация всех веществ на разных стадиях</a></span></li><li><span><a href=\"#Вывод-по-разделу\" data-toc-modified-id=\"Вывод-по-разделу-2.5\"><span class=\"toc-item-num\">2.5&nbsp;&nbsp;</span>Вывод по разделу</a></span></li></ul></li><li><span><a href=\"#Модель\" data-toc-modified-id=\"Модель-3\"><span class=\"toc-item-num\">3&nbsp;&nbsp;</span>Модель</a></span><ul class=\"toc-item\"><li><span><a href=\"#Функция-для-вычисления-sMAPE\" data-toc-modified-id=\"Функция-для-вычисления-sMAPE-3.1\"><span class=\"toc-item-num\">3.1&nbsp;&nbsp;</span>Функция для вычисления sMAPE</a></span></li><li><span><a href=\"#Разделение-данных-на-выборки\" data-toc-modified-id=\"Разделение-данных-на-выборки-3.2\"><span class=\"toc-item-num\">3.2&nbsp;&nbsp;</span>Разделение данных на выборки</a></span></li><li><span><a href=\"#Масштабирование-признаков\" data-toc-modified-id=\"Масштабирование-признаков-3.3\"><span class=\"toc-item-num\">3.3&nbsp;&nbsp;</span>Масштабирование признаков</a></span></li><li><span><a href=\"#Обучение-моделей\" data-toc-modified-id=\"Обучение-моделей-3.4\"><span class=\"toc-item-num\">3.4&nbsp;&nbsp;</span>Обучение моделей</a></span><ul class=\"toc-item\"><li><span><a href=\"#Обучение-rougher-моделей\" data-toc-modified-id=\"Обучение-rougher-моделей-3.4.1\"><span class=\"toc-item-num\">3.4.1&nbsp;&nbsp;</span>Обучение rougher моделей</a></span></li><li><span><a href=\"#Обучение-final-моделей\" data-toc-modified-id=\"Обучение-final-моделей-3.4.2\"><span class=\"toc-item-num\">3.4.2&nbsp;&nbsp;</span>Обучение final моделей</a></span></li></ul></li><li><span><a href=\"#Предсказания-по-тестовой-выборке\" data-toc-modified-id=\"Предсказания-по-тестовой-выборке-3.5\"><span class=\"toc-item-num\">3.5&nbsp;&nbsp;</span>Предсказания по тестовой выборке</a></span></li><li><span><a href=\"#Расчет-итогового-sMAPE\" data-toc-modified-id=\"Расчет-итогового-sMAPE-3.6\"><span class=\"toc-item-num\">3.6&nbsp;&nbsp;</span>Расчет итогового sMAPE</a></span></li></ul></li><li><span><a href=\"#Выводы\" data-toc-modified-id=\"Выводы-4\"><span class=\"toc-item-num\">4&nbsp;&nbsp;</span>Выводы</a></span></li><li><span><a href=\"#Чек-лист-готовности-проекта\" data-toc-modified-id=\"Чек-лист-готовности-проекта-5\"><span class=\"toc-item-num\">5&nbsp;&nbsp;</span>Чек-лист готовности проекта</a></span></li></ul></div>"
      ]
    },
    {
      "cell_type": "markdown",
      "metadata": {
        "id": "bwEW_-hqwhot"
      },
      "source": [
        "# Восстановление золота из руды"
      ]
    },
    {
      "cell_type": "markdown",
      "metadata": {
        "id": "9fQwSX1cwhov"
      },
      "source": [
        "Подготовьте прототип модели машинного обучения для «Цифры». Компания разрабатывает решения для эффективной работы промышленных предприятий.\n",
        "\n",
        "Модель должна предсказать коэффициент восстановления золота из золотосодержащей руды. Используйте данные с параметрами добычи и очистки.\n",
        "\n",
        "Модель поможет оптимизировать производство, чтобы не запускать предприятие с убыточными характеристиками.\n",
        "\n",
        "Вам нужно:\n",
        "\n",
        "1. Подготовить данные;\n",
        "2. Провести исследовательский анализ данных;\n",
        "3. Построить и обучить модель.\n",
        "\n"
      ]
    },
    {
      "cell_type": "markdown",
      "metadata": {
        "id": "0MHxGP_xwhov"
      },
      "source": [
        "## Подготовка данных"
      ]
    },
    {
      "cell_type": "markdown",
      "metadata": {
        "id": "5Gy6WZuwwhov"
      },
      "source": [
        "### Импорт библиотек и открытие файлов"
      ]
    },
    {
      "cell_type": "code",
      "execution_count": null,
      "metadata": {
        "id": "SajYwblSwhow"
      },
      "outputs": [],
      "source": [
        "# Импортируем библиотеки\n",
        "import pandas as pd\n",
        "import seaborn\n",
        "from matplotlib import pyplot as plt\n",
        "from matplotlib.pyplot import plot, hist, title, show\n",
        "from sklearn.preprocessing import StandardScaler\n",
        "from sklearn.model_selection import cross_val_score, RandomizedSearchCV\n",
        "from sklearn.linear_model import LinearRegression\n",
        "from sklearn.tree import DecisionTreeRegressor\n",
        "from sklearn.ensemble import RandomForestRegressor\n",
        "from sklearn.metrics import make_scorer\n",
        "from sklearn.dummy import DummyRegressor\n",
        "import warnings\n",
        "warnings.filterwarnings('ignore')\n"
      ]
    },
    {
      "cell_type": "code",
      "execution_count": null,
      "metadata": {
        "id": "vc0EvP8Mwhow"
      },
      "outputs": [],
      "source": [
        "# Откроем файлы\n",
        "data_full = pd.read_csv('/datasets/gold_recovery_full_new.csv')\n",
        "data_train = pd.read_csv('/datasets/gold_recovery_train_new.csv')\n",
        "data_test = pd.read_csv('/datasets/gold_recovery_test_new.csv')"
      ]
    },
    {
      "cell_type": "markdown",
      "metadata": {
        "id": "vqqSmaEIwhox"
      },
      "source": [
        "### Первичное изучение файлов"
      ]
    },
    {
      "cell_type": "code",
      "execution_count": null,
      "metadata": {
        "scrolled": false,
        "id": "GHD-aa07whox",
        "outputId": "00dce376-722f-485d-b640-481ee0006ee5"
      },
      "outputs": [
        {
          "name": "stdout",
          "output_type": "stream",
          "text": [
            "<class 'pandas.core.frame.DataFrame'>\n",
            "RangeIndex: 14149 entries, 0 to 14148\n",
            "Data columns (total 87 columns):\n",
            " #   Column                                              Non-Null Count  Dtype  \n",
            "---  ------                                              --------------  -----  \n",
            " 0   date                                                14149 non-null  object \n",
            " 1   final.output.concentrate_ag                         14148 non-null  float64\n",
            " 2   final.output.concentrate_pb                         14148 non-null  float64\n",
            " 3   final.output.concentrate_sol                        13938 non-null  float64\n",
            " 4   final.output.concentrate_au                         14149 non-null  float64\n",
            " 5   final.output.recovery                               14149 non-null  float64\n",
            " 6   final.output.tail_ag                                14149 non-null  float64\n",
            " 7   final.output.tail_pb                                14049 non-null  float64\n",
            " 8   final.output.tail_sol                               14144 non-null  float64\n",
            " 9   final.output.tail_au                                14149 non-null  float64\n",
            " 10  primary_cleaner.input.sulfate                       14129 non-null  float64\n",
            " 11  primary_cleaner.input.depressant                    14117 non-null  float64\n",
            " 12  primary_cleaner.input.feed_size                     14149 non-null  float64\n",
            " 13  primary_cleaner.input.xanthate                      14049 non-null  float64\n",
            " 14  primary_cleaner.output.concentrate_ag               14149 non-null  float64\n",
            " 15  primary_cleaner.output.concentrate_pb               14063 non-null  float64\n",
            " 16  primary_cleaner.output.concentrate_sol              13863 non-null  float64\n",
            " 17  primary_cleaner.output.concentrate_au               14149 non-null  float64\n",
            " 18  primary_cleaner.output.tail_ag                      14148 non-null  float64\n",
            " 19  primary_cleaner.output.tail_pb                      14134 non-null  float64\n",
            " 20  primary_cleaner.output.tail_sol                     14103 non-null  float64\n",
            " 21  primary_cleaner.output.tail_au                      14149 non-null  float64\n",
            " 22  primary_cleaner.state.floatbank8_a_air              14145 non-null  float64\n",
            " 23  primary_cleaner.state.floatbank8_a_level            14148 non-null  float64\n",
            " 24  primary_cleaner.state.floatbank8_b_air              14145 non-null  float64\n",
            " 25  primary_cleaner.state.floatbank8_b_level            14148 non-null  float64\n",
            " 26  primary_cleaner.state.floatbank8_c_air              14147 non-null  float64\n",
            " 27  primary_cleaner.state.floatbank8_c_level            14148 non-null  float64\n",
            " 28  primary_cleaner.state.floatbank8_d_air              14146 non-null  float64\n",
            " 29  primary_cleaner.state.floatbank8_d_level            14148 non-null  float64\n",
            " 30  rougher.calculation.sulfate_to_au_concentrate       14148 non-null  float64\n",
            " 31  rougher.calculation.floatbank10_sulfate_to_au_feed  14148 non-null  float64\n",
            " 32  rougher.calculation.floatbank11_sulfate_to_au_feed  14148 non-null  float64\n",
            " 33  rougher.calculation.au_pb_ratio                     14149 non-null  float64\n",
            " 34  rougher.input.feed_ag                               14149 non-null  float64\n",
            " 35  rougher.input.feed_pb                               14049 non-null  float64\n",
            " 36  rougher.input.feed_rate                             14141 non-null  float64\n",
            " 37  rougher.input.feed_size                             14005 non-null  float64\n",
            " 38  rougher.input.feed_sol                              14071 non-null  float64\n",
            " 39  rougher.input.feed_au                               14149 non-null  float64\n",
            " 40  rougher.input.floatbank10_sulfate                   14120 non-null  float64\n",
            " 41  rougher.input.floatbank10_xanthate                  14141 non-null  float64\n",
            " 42  rougher.input.floatbank11_sulfate                   14113 non-null  float64\n",
            " 43  rougher.input.floatbank11_xanthate                  13721 non-null  float64\n",
            " 44  rougher.output.concentrate_ag                       14149 non-null  float64\n",
            " 45  rougher.output.concentrate_pb                       14149 non-null  float64\n",
            " 46  rougher.output.concentrate_sol                      14127 non-null  float64\n",
            " 47  rougher.output.concentrate_au                       14149 non-null  float64\n",
            " 48  rougher.output.recovery                             14149 non-null  float64\n",
            " 49  rougher.output.tail_ag                              14148 non-null  float64\n",
            " 50  rougher.output.tail_pb                              14149 non-null  float64\n",
            " 51  rougher.output.tail_sol                             14149 non-null  float64\n",
            " 52  rougher.output.tail_au                              14149 non-null  float64\n",
            " 53  rougher.state.floatbank10_a_air                     14148 non-null  float64\n",
            " 54  rougher.state.floatbank10_a_level                   14148 non-null  float64\n",
            " 55  rougher.state.floatbank10_b_air                     14148 non-null  float64\n",
            " 56  rougher.state.floatbank10_b_level                   14148 non-null  float64\n",
            " 57  rougher.state.floatbank10_c_air                     14148 non-null  float64\n",
            " 58  rougher.state.floatbank10_c_level                   14148 non-null  float64\n",
            " 59  rougher.state.floatbank10_d_air                     14149 non-null  float64\n",
            " 60  rougher.state.floatbank10_d_level                   14149 non-null  float64\n",
            " 61  rougher.state.floatbank10_e_air                     13713 non-null  float64\n",
            " 62  rougher.state.floatbank10_e_level                   14149 non-null  float64\n",
            " 63  rougher.state.floatbank10_f_air                     14149 non-null  float64\n",
            " 64  rougher.state.floatbank10_f_level                   14149 non-null  float64\n",
            " 65  secondary_cleaner.output.tail_ag                    14147 non-null  float64\n",
            " 66  secondary_cleaner.output.tail_pb                    14139 non-null  float64\n",
            " 67  secondary_cleaner.output.tail_sol                   12544 non-null  float64\n",
            " 68  secondary_cleaner.output.tail_au                    14149 non-null  float64\n",
            " 69  secondary_cleaner.state.floatbank2_a_air            13932 non-null  float64\n",
            " 70  secondary_cleaner.state.floatbank2_a_level          14148 non-null  float64\n",
            " 71  secondary_cleaner.state.floatbank2_b_air            14128 non-null  float64\n",
            " 72  secondary_cleaner.state.floatbank2_b_level          14148 non-null  float64\n",
            " 73  secondary_cleaner.state.floatbank3_a_air            14145 non-null  float64\n",
            " 74  secondary_cleaner.state.floatbank3_a_level          14148 non-null  float64\n",
            " 75  secondary_cleaner.state.floatbank3_b_air            14148 non-null  float64\n",
            " 76  secondary_cleaner.state.floatbank3_b_level          14148 non-null  float64\n",
            " 77  secondary_cleaner.state.floatbank4_a_air            14143 non-null  float64\n",
            " 78  secondary_cleaner.state.floatbank4_a_level          14148 non-null  float64\n",
            " 79  secondary_cleaner.state.floatbank4_b_air            14148 non-null  float64\n",
            " 80  secondary_cleaner.state.floatbank4_b_level          14148 non-null  float64\n",
            " 81  secondary_cleaner.state.floatbank5_a_air            14148 non-null  float64\n",
            " 82  secondary_cleaner.state.floatbank5_a_level          14148 non-null  float64\n",
            " 83  secondary_cleaner.state.floatbank5_b_air            14148 non-null  float64\n",
            " 84  secondary_cleaner.state.floatbank5_b_level          14148 non-null  float64\n",
            " 85  secondary_cleaner.state.floatbank6_a_air            14147 non-null  float64\n",
            " 86  secondary_cleaner.state.floatbank6_a_level          14148 non-null  float64\n",
            "dtypes: float64(86), object(1)\n",
            "memory usage: 9.4+ MB\n"
          ]
        }
      ],
      "source": [
        "# Получим основную информацию о файлах:\n",
        "data_train.info()"
      ]
    },
    {
      "cell_type": "code",
      "execution_count": null,
      "metadata": {
        "id": "phCx7Zpswhox",
        "outputId": "da781cff-6af8-40de-efa1-78daca07a4d5"
      },
      "outputs": [
        {
          "data": {
            "text/html": [
              "<div>\n",
              "<style scoped>\n",
              "    .dataframe tbody tr th:only-of-type {\n",
              "        vertical-align: middle;\n",
              "    }\n",
              "\n",
              "    .dataframe tbody tr th {\n",
              "        vertical-align: top;\n",
              "    }\n",
              "\n",
              "    .dataframe thead th {\n",
              "        text-align: right;\n",
              "    }\n",
              "</style>\n",
              "<table border=\"1\" class=\"dataframe\">\n",
              "  <thead>\n",
              "    <tr style=\"text-align: right;\">\n",
              "      <th></th>\n",
              "      <th>date</th>\n",
              "      <th>final.output.concentrate_ag</th>\n",
              "      <th>final.output.concentrate_pb</th>\n",
              "      <th>final.output.concentrate_sol</th>\n",
              "      <th>final.output.concentrate_au</th>\n",
              "      <th>final.output.recovery</th>\n",
              "      <th>final.output.tail_ag</th>\n",
              "      <th>final.output.tail_pb</th>\n",
              "      <th>final.output.tail_sol</th>\n",
              "      <th>final.output.tail_au</th>\n",
              "      <th>primary_cleaner.input.sulfate</th>\n",
              "      <th>primary_cleaner.input.depressant</th>\n",
              "      <th>primary_cleaner.input.feed_size</th>\n",
              "      <th>primary_cleaner.input.xanthate</th>\n",
              "      <th>primary_cleaner.output.concentrate_ag</th>\n",
              "      <th>primary_cleaner.output.concentrate_pb</th>\n",
              "      <th>primary_cleaner.output.concentrate_sol</th>\n",
              "      <th>primary_cleaner.output.concentrate_au</th>\n",
              "      <th>primary_cleaner.output.tail_ag</th>\n",
              "      <th>primary_cleaner.output.tail_pb</th>\n",
              "      <th>primary_cleaner.output.tail_sol</th>\n",
              "      <th>primary_cleaner.output.tail_au</th>\n",
              "      <th>primary_cleaner.state.floatbank8_a_air</th>\n",
              "      <th>primary_cleaner.state.floatbank8_a_level</th>\n",
              "      <th>primary_cleaner.state.floatbank8_b_air</th>\n",
              "      <th>primary_cleaner.state.floatbank8_b_level</th>\n",
              "      <th>primary_cleaner.state.floatbank8_c_air</th>\n",
              "      <th>primary_cleaner.state.floatbank8_c_level</th>\n",
              "      <th>primary_cleaner.state.floatbank8_d_air</th>\n",
              "      <th>primary_cleaner.state.floatbank8_d_level</th>\n",
              "      <th>rougher.calculation.sulfate_to_au_concentrate</th>\n",
              "      <th>rougher.calculation.floatbank10_sulfate_to_au_feed</th>\n",
              "      <th>rougher.calculation.floatbank11_sulfate_to_au_feed</th>\n",
              "      <th>rougher.calculation.au_pb_ratio</th>\n",
              "      <th>rougher.input.feed_ag</th>\n",
              "      <th>rougher.input.feed_pb</th>\n",
              "      <th>rougher.input.feed_rate</th>\n",
              "      <th>rougher.input.feed_size</th>\n",
              "      <th>rougher.input.feed_sol</th>\n",
              "      <th>rougher.input.feed_au</th>\n",
              "      <th>rougher.input.floatbank10_sulfate</th>\n",
              "      <th>rougher.input.floatbank10_xanthate</th>\n",
              "      <th>rougher.input.floatbank11_sulfate</th>\n",
              "      <th>rougher.input.floatbank11_xanthate</th>\n",
              "      <th>rougher.output.concentrate_ag</th>\n",
              "      <th>rougher.output.concentrate_pb</th>\n",
              "      <th>rougher.output.concentrate_sol</th>\n",
              "      <th>rougher.output.concentrate_au</th>\n",
              "      <th>rougher.output.recovery</th>\n",
              "      <th>rougher.output.tail_ag</th>\n",
              "      <th>rougher.output.tail_pb</th>\n",
              "      <th>rougher.output.tail_sol</th>\n",
              "      <th>rougher.output.tail_au</th>\n",
              "      <th>rougher.state.floatbank10_a_air</th>\n",
              "      <th>rougher.state.floatbank10_a_level</th>\n",
              "      <th>rougher.state.floatbank10_b_air</th>\n",
              "      <th>rougher.state.floatbank10_b_level</th>\n",
              "      <th>rougher.state.floatbank10_c_air</th>\n",
              "      <th>rougher.state.floatbank10_c_level</th>\n",
              "      <th>rougher.state.floatbank10_d_air</th>\n",
              "      <th>rougher.state.floatbank10_d_level</th>\n",
              "      <th>rougher.state.floatbank10_e_air</th>\n",
              "      <th>rougher.state.floatbank10_e_level</th>\n",
              "      <th>rougher.state.floatbank10_f_air</th>\n",
              "      <th>rougher.state.floatbank10_f_level</th>\n",
              "      <th>secondary_cleaner.output.tail_ag</th>\n",
              "      <th>secondary_cleaner.output.tail_pb</th>\n",
              "      <th>secondary_cleaner.output.tail_sol</th>\n",
              "      <th>secondary_cleaner.output.tail_au</th>\n",
              "      <th>secondary_cleaner.state.floatbank2_a_air</th>\n",
              "      <th>secondary_cleaner.state.floatbank2_a_level</th>\n",
              "      <th>secondary_cleaner.state.floatbank2_b_air</th>\n",
              "      <th>secondary_cleaner.state.floatbank2_b_level</th>\n",
              "      <th>secondary_cleaner.state.floatbank3_a_air</th>\n",
              "      <th>secondary_cleaner.state.floatbank3_a_level</th>\n",
              "      <th>secondary_cleaner.state.floatbank3_b_air</th>\n",
              "      <th>secondary_cleaner.state.floatbank3_b_level</th>\n",
              "      <th>secondary_cleaner.state.floatbank4_a_air</th>\n",
              "      <th>secondary_cleaner.state.floatbank4_a_level</th>\n",
              "      <th>secondary_cleaner.state.floatbank4_b_air</th>\n",
              "      <th>secondary_cleaner.state.floatbank4_b_level</th>\n",
              "      <th>secondary_cleaner.state.floatbank5_a_air</th>\n",
              "      <th>secondary_cleaner.state.floatbank5_a_level</th>\n",
              "      <th>secondary_cleaner.state.floatbank5_b_air</th>\n",
              "      <th>secondary_cleaner.state.floatbank5_b_level</th>\n",
              "      <th>secondary_cleaner.state.floatbank6_a_air</th>\n",
              "      <th>secondary_cleaner.state.floatbank6_a_level</th>\n",
              "    </tr>\n",
              "  </thead>\n",
              "  <tbody>\n",
              "    <tr>\n",
              "      <th>0</th>\n",
              "      <td>2016-01-15 00:00:00</td>\n",
              "      <td>6.055403</td>\n",
              "      <td>9.889648</td>\n",
              "      <td>5.507324</td>\n",
              "      <td>42.192020</td>\n",
              "      <td>70.541216</td>\n",
              "      <td>10.411962</td>\n",
              "      <td>0.895447</td>\n",
              "      <td>16.904297</td>\n",
              "      <td>2.143149</td>\n",
              "      <td>127.092003</td>\n",
              "      <td>10.128295</td>\n",
              "      <td>7.25</td>\n",
              "      <td>0.988759</td>\n",
              "      <td>8.547551</td>\n",
              "      <td>10.389648</td>\n",
              "      <td>19.529297</td>\n",
              "      <td>34.174427</td>\n",
              "      <td>14.936526</td>\n",
              "      <td>2.534912</td>\n",
              "      <td>7.476074</td>\n",
              "      <td>2.106679</td>\n",
              "      <td>1549.775757</td>\n",
              "      <td>-498.912140</td>\n",
              "      <td>1551.434204</td>\n",
              "      <td>-516.403442</td>\n",
              "      <td>1549.873901</td>\n",
              "      <td>-498.666595</td>\n",
              "      <td>1554.367432</td>\n",
              "      <td>-493.428131</td>\n",
              "      <td>41885.707031</td>\n",
              "      <td>3481.779053</td>\n",
              "      <td>3520.337158</td>\n",
              "      <td>2.838687</td>\n",
              "      <td>6.100378</td>\n",
              "      <td>2.284912</td>\n",
              "      <td>523.546326</td>\n",
              "      <td>55.486599</td>\n",
              "      <td>36.808594</td>\n",
              "      <td>6.486150</td>\n",
              "      <td>11.986616</td>\n",
              "      <td>6.007990</td>\n",
              "      <td>11.836743</td>\n",
              "      <td>6.005818</td>\n",
              "      <td>11.500771</td>\n",
              "      <td>7.101074</td>\n",
              "      <td>28.029297</td>\n",
              "      <td>19.793808</td>\n",
              "      <td>87.107763</td>\n",
              "      <td>5.008018</td>\n",
              "      <td>0.508728</td>\n",
              "      <td>19.154297</td>\n",
              "      <td>1.170244</td>\n",
              "      <td>999.706909</td>\n",
              "      <td>-404.066986</td>\n",
              "      <td>1603.011353</td>\n",
              "      <td>-434.715027</td>\n",
              "      <td>1602.375000</td>\n",
              "      <td>-442.204468</td>\n",
              "      <td>1598.937256</td>\n",
              "      <td>-451.294128</td>\n",
              "      <td>1404.472046</td>\n",
              "      <td>-455.462982</td>\n",
              "      <td>1416.354980</td>\n",
              "      <td>-451.939636</td>\n",
              "      <td>14.500184</td>\n",
              "      <td>4.694824</td>\n",
              "      <td>8.764648</td>\n",
              "      <td>2.606185</td>\n",
              "      <td>25.853109</td>\n",
              "      <td>-498.526489</td>\n",
              "      <td>23.893660</td>\n",
              "      <td>-501.406281</td>\n",
              "      <td>23.961798</td>\n",
              "      <td>-495.262817</td>\n",
              "      <td>21.940409</td>\n",
              "      <td>-499.340973</td>\n",
              "      <td>14.016835</td>\n",
              "      <td>-502.488007</td>\n",
              "      <td>12.099931</td>\n",
              "      <td>-504.715942</td>\n",
              "      <td>9.925633</td>\n",
              "      <td>-498.310211</td>\n",
              "      <td>8.079666</td>\n",
              "      <td>-500.470978</td>\n",
              "      <td>14.151341</td>\n",
              "      <td>-605.841980</td>\n",
              "    </tr>\n",
              "    <tr>\n",
              "      <th>1</th>\n",
              "      <td>2016-01-15 01:00:00</td>\n",
              "      <td>6.029369</td>\n",
              "      <td>9.968944</td>\n",
              "      <td>5.257781</td>\n",
              "      <td>42.701629</td>\n",
              "      <td>69.266198</td>\n",
              "      <td>10.462676</td>\n",
              "      <td>0.927452</td>\n",
              "      <td>16.634514</td>\n",
              "      <td>2.224930</td>\n",
              "      <td>125.629232</td>\n",
              "      <td>10.296251</td>\n",
              "      <td>7.25</td>\n",
              "      <td>1.002663</td>\n",
              "      <td>8.558743</td>\n",
              "      <td>10.497069</td>\n",
              "      <td>19.369147</td>\n",
              "      <td>34.118526</td>\n",
              "      <td>16.250511</td>\n",
              "      <td>3.049646</td>\n",
              "      <td>6.733907</td>\n",
              "      <td>2.353017</td>\n",
              "      <td>1576.166671</td>\n",
              "      <td>-500.904965</td>\n",
              "      <td>1575.950626</td>\n",
              "      <td>-499.865889</td>\n",
              "      <td>1575.994189</td>\n",
              "      <td>-499.315107</td>\n",
              "      <td>1574.479259</td>\n",
              "      <td>-498.931665</td>\n",
              "      <td>42050.861809</td>\n",
              "      <td>3498.370979</td>\n",
              "      <td>3489.981857</td>\n",
              "      <td>2.858998</td>\n",
              "      <td>6.161113</td>\n",
              "      <td>2.266033</td>\n",
              "      <td>525.290581</td>\n",
              "      <td>57.278666</td>\n",
              "      <td>35.753385</td>\n",
              "      <td>6.478583</td>\n",
              "      <td>11.971193</td>\n",
              "      <td>6.005766</td>\n",
              "      <td>11.996163</td>\n",
              "      <td>6.012594</td>\n",
              "      <td>11.615865</td>\n",
              "      <td>7.278807</td>\n",
              "      <td>28.067063</td>\n",
              "      <td>20.050975</td>\n",
              "      <td>86.843261</td>\n",
              "      <td>4.955378</td>\n",
              "      <td>0.536689</td>\n",
              "      <td>18.965234</td>\n",
              "      <td>1.184827</td>\n",
              "      <td>1000.286398</td>\n",
              "      <td>-400.065196</td>\n",
              "      <td>1600.754587</td>\n",
              "      <td>-449.953435</td>\n",
              "      <td>1600.479580</td>\n",
              "      <td>-449.830646</td>\n",
              "      <td>1600.527589</td>\n",
              "      <td>-449.953649</td>\n",
              "      <td>1399.227084</td>\n",
              "      <td>-450.869848</td>\n",
              "      <td>1399.719514</td>\n",
              "      <td>-450.119001</td>\n",
              "      <td>14.265474</td>\n",
              "      <td>4.592547</td>\n",
              "      <td>9.001494</td>\n",
              "      <td>2.488248</td>\n",
              "      <td>25.880539</td>\n",
              "      <td>-499.989656</td>\n",
              "      <td>23.889530</td>\n",
              "      <td>-500.372428</td>\n",
              "      <td>23.970550</td>\n",
              "      <td>-500.085473</td>\n",
              "      <td>22.085714</td>\n",
              "      <td>-499.446897</td>\n",
              "      <td>13.992281</td>\n",
              "      <td>-505.503262</td>\n",
              "      <td>11.950531</td>\n",
              "      <td>-501.331529</td>\n",
              "      <td>10.039245</td>\n",
              "      <td>-500.169983</td>\n",
              "      <td>7.984757</td>\n",
              "      <td>-500.582168</td>\n",
              "      <td>13.998353</td>\n",
              "      <td>-599.787184</td>\n",
              "    </tr>\n",
              "    <tr>\n",
              "      <th>2</th>\n",
              "      <td>2016-01-15 02:00:00</td>\n",
              "      <td>6.055926</td>\n",
              "      <td>10.213995</td>\n",
              "      <td>5.383759</td>\n",
              "      <td>42.657501</td>\n",
              "      <td>68.116445</td>\n",
              "      <td>10.507046</td>\n",
              "      <td>0.953716</td>\n",
              "      <td>16.208849</td>\n",
              "      <td>2.257889</td>\n",
              "      <td>123.819808</td>\n",
              "      <td>11.316280</td>\n",
              "      <td>7.25</td>\n",
              "      <td>0.991265</td>\n",
              "      <td>8.603505</td>\n",
              "      <td>10.354494</td>\n",
              "      <td>19.167579</td>\n",
              "      <td>33.969464</td>\n",
              "      <td>16.491823</td>\n",
              "      <td>3.124664</td>\n",
              "      <td>6.471768</td>\n",
              "      <td>2.416800</td>\n",
              "      <td>1601.556163</td>\n",
              "      <td>-499.997791</td>\n",
              "      <td>1600.386685</td>\n",
              "      <td>-500.607762</td>\n",
              "      <td>1602.003542</td>\n",
              "      <td>-500.870069</td>\n",
              "      <td>1599.541515</td>\n",
              "      <td>-499.827444</td>\n",
              "      <td>42018.101184</td>\n",
              "      <td>3495.348910</td>\n",
              "      <td>3502.359819</td>\n",
              "      <td>2.945989</td>\n",
              "      <td>6.116455</td>\n",
              "      <td>2.159622</td>\n",
              "      <td>530.026610</td>\n",
              "      <td>57.510649</td>\n",
              "      <td>35.971630</td>\n",
              "      <td>6.362222</td>\n",
              "      <td>11.920603</td>\n",
              "      <td>6.197377</td>\n",
              "      <td>11.920305</td>\n",
              "      <td>6.204633</td>\n",
              "      <td>11.695753</td>\n",
              "      <td>7.216833</td>\n",
              "      <td>27.454037</td>\n",
              "      <td>19.737170</td>\n",
              "      <td>86.842308</td>\n",
              "      <td>4.843460</td>\n",
              "      <td>0.546416</td>\n",
              "      <td>18.808533</td>\n",
              "      <td>1.162562</td>\n",
              "      <td>999.719565</td>\n",
              "      <td>-400.074028</td>\n",
              "      <td>1599.337330</td>\n",
              "      <td>-450.008530</td>\n",
              "      <td>1599.672797</td>\n",
              "      <td>-449.954491</td>\n",
              "      <td>1599.849325</td>\n",
              "      <td>-449.954185</td>\n",
              "      <td>1399.180945</td>\n",
              "      <td>-449.937588</td>\n",
              "      <td>1400.316682</td>\n",
              "      <td>-450.527147</td>\n",
              "      <td>14.115662</td>\n",
              "      <td>4.624775</td>\n",
              "      <td>8.842896</td>\n",
              "      <td>2.458187</td>\n",
              "      <td>26.005245</td>\n",
              "      <td>-499.929616</td>\n",
              "      <td>23.886657</td>\n",
              "      <td>-499.951928</td>\n",
              "      <td>23.913535</td>\n",
              "      <td>-499.442343</td>\n",
              "      <td>23.957717</td>\n",
              "      <td>-499.901982</td>\n",
              "      <td>14.015015</td>\n",
              "      <td>-502.520901</td>\n",
              "      <td>11.912783</td>\n",
              "      <td>-501.133383</td>\n",
              "      <td>10.070913</td>\n",
              "      <td>-500.129135</td>\n",
              "      <td>8.013877</td>\n",
              "      <td>-500.517572</td>\n",
              "      <td>14.028663</td>\n",
              "      <td>-601.427363</td>\n",
              "    </tr>\n",
              "    <tr>\n",
              "      <th>3</th>\n",
              "      <td>2016-01-15 03:00:00</td>\n",
              "      <td>6.047977</td>\n",
              "      <td>9.977019</td>\n",
              "      <td>4.858634</td>\n",
              "      <td>42.689819</td>\n",
              "      <td>68.347543</td>\n",
              "      <td>10.422762</td>\n",
              "      <td>0.883763</td>\n",
              "      <td>16.532835</td>\n",
              "      <td>2.146849</td>\n",
              "      <td>122.270188</td>\n",
              "      <td>11.322140</td>\n",
              "      <td>7.25</td>\n",
              "      <td>0.996739</td>\n",
              "      <td>7.221879</td>\n",
              "      <td>8.496563</td>\n",
              "      <td>15.978538</td>\n",
              "      <td>28.260743</td>\n",
              "      <td>16.024359</td>\n",
              "      <td>2.960362</td>\n",
              "      <td>6.843791</td>\n",
              "      <td>2.262051</td>\n",
              "      <td>1599.968720</td>\n",
              "      <td>-500.951778</td>\n",
              "      <td>1600.659236</td>\n",
              "      <td>-499.677094</td>\n",
              "      <td>1600.304144</td>\n",
              "      <td>-500.727997</td>\n",
              "      <td>1600.449520</td>\n",
              "      <td>-500.052575</td>\n",
              "      <td>42029.447991</td>\n",
              "      <td>3498.578313</td>\n",
              "      <td>3499.162912</td>\n",
              "      <td>3.002340</td>\n",
              "      <td>6.043309</td>\n",
              "      <td>2.037807</td>\n",
              "      <td>542.590390</td>\n",
              "      <td>57.792734</td>\n",
              "      <td>36.862241</td>\n",
              "      <td>6.118189</td>\n",
              "      <td>11.630094</td>\n",
              "      <td>6.203177</td>\n",
              "      <td>11.692450</td>\n",
              "      <td>6.196578</td>\n",
              "      <td>11.915047</td>\n",
              "      <td>7.175616</td>\n",
              "      <td>27.341277</td>\n",
              "      <td>19.320810</td>\n",
              "      <td>87.226430</td>\n",
              "      <td>4.655288</td>\n",
              "      <td>0.542525</td>\n",
              "      <td>19.330200</td>\n",
              "      <td>1.079755</td>\n",
              "      <td>999.814770</td>\n",
              "      <td>-400.200179</td>\n",
              "      <td>1600.059442</td>\n",
              "      <td>-450.619948</td>\n",
              "      <td>1600.012842</td>\n",
              "      <td>-449.910497</td>\n",
              "      <td>1597.725177</td>\n",
              "      <td>-450.130127</td>\n",
              "      <td>1400.943157</td>\n",
              "      <td>-450.030142</td>\n",
              "      <td>1400.234743</td>\n",
              "      <td>-449.790835</td>\n",
              "      <td>13.732071</td>\n",
              "      <td>4.482453</td>\n",
              "      <td>9.122857</td>\n",
              "      <td>2.322062</td>\n",
              "      <td>25.942508</td>\n",
              "      <td>-499.176749</td>\n",
              "      <td>23.955516</td>\n",
              "      <td>-499.848796</td>\n",
              "      <td>23.966838</td>\n",
              "      <td>-500.008812</td>\n",
              "      <td>23.954443</td>\n",
              "      <td>-499.944710</td>\n",
              "      <td>14.036510</td>\n",
              "      <td>-500.857308</td>\n",
              "      <td>11.999550</td>\n",
              "      <td>-501.193686</td>\n",
              "      <td>9.970366</td>\n",
              "      <td>-499.201640</td>\n",
              "      <td>7.977324</td>\n",
              "      <td>-500.255908</td>\n",
              "      <td>14.005551</td>\n",
              "      <td>-599.996129</td>\n",
              "    </tr>\n",
              "    <tr>\n",
              "      <th>4</th>\n",
              "      <td>2016-01-15 04:00:00</td>\n",
              "      <td>6.148599</td>\n",
              "      <td>10.142511</td>\n",
              "      <td>4.939416</td>\n",
              "      <td>42.774141</td>\n",
              "      <td>66.927016</td>\n",
              "      <td>10.360302</td>\n",
              "      <td>0.792826</td>\n",
              "      <td>16.525686</td>\n",
              "      <td>2.055292</td>\n",
              "      <td>117.988169</td>\n",
              "      <td>11.913613</td>\n",
              "      <td>7.25</td>\n",
              "      <td>1.009869</td>\n",
              "      <td>9.089428</td>\n",
              "      <td>9.986786</td>\n",
              "      <td>19.199864</td>\n",
              "      <td>33.044932</td>\n",
              "      <td>16.480185</td>\n",
              "      <td>3.112100</td>\n",
              "      <td>6.550154</td>\n",
              "      <td>2.277073</td>\n",
              "      <td>1601.339707</td>\n",
              "      <td>-498.975456</td>\n",
              "      <td>1601.437854</td>\n",
              "      <td>-500.323246</td>\n",
              "      <td>1599.581894</td>\n",
              "      <td>-500.888152</td>\n",
              "      <td>1602.649541</td>\n",
              "      <td>-500.593010</td>\n",
              "      <td>42125.354245</td>\n",
              "      <td>3494.800771</td>\n",
              "      <td>3506.679315</td>\n",
              "      <td>3.169615</td>\n",
              "      <td>6.060915</td>\n",
              "      <td>1.786875</td>\n",
              "      <td>540.531893</td>\n",
              "      <td>56.047189</td>\n",
              "      <td>34.347666</td>\n",
              "      <td>5.663707</td>\n",
              "      <td>10.957755</td>\n",
              "      <td>6.198826</td>\n",
              "      <td>10.960521</td>\n",
              "      <td>6.194897</td>\n",
              "      <td>12.411054</td>\n",
              "      <td>7.240205</td>\n",
              "      <td>27.041023</td>\n",
              "      <td>19.216101</td>\n",
              "      <td>86.688794</td>\n",
              "      <td>4.552800</td>\n",
              "      <td>0.515438</td>\n",
              "      <td>19.267422</td>\n",
              "      <td>1.012642</td>\n",
              "      <td>999.678690</td>\n",
              "      <td>-399.752729</td>\n",
              "      <td>1600.208824</td>\n",
              "      <td>-449.599614</td>\n",
              "      <td>1600.357732</td>\n",
              "      <td>-450.034364</td>\n",
              "      <td>1599.759049</td>\n",
              "      <td>-449.909799</td>\n",
              "      <td>1401.560902</td>\n",
              "      <td>-448.877187</td>\n",
              "      <td>1401.160227</td>\n",
              "      <td>-450.407128</td>\n",
              "      <td>14.079996</td>\n",
              "      <td>4.470737</td>\n",
              "      <td>8.871028</td>\n",
              "      <td>2.330448</td>\n",
              "      <td>26.024787</td>\n",
              "      <td>-500.279091</td>\n",
              "      <td>23.955345</td>\n",
              "      <td>-500.593614</td>\n",
              "      <td>23.985703</td>\n",
              "      <td>-500.083811</td>\n",
              "      <td>23.958945</td>\n",
              "      <td>-499.990309</td>\n",
              "      <td>14.027298</td>\n",
              "      <td>-499.838632</td>\n",
              "      <td>11.953070</td>\n",
              "      <td>-501.053894</td>\n",
              "      <td>9.925709</td>\n",
              "      <td>-501.686727</td>\n",
              "      <td>7.894242</td>\n",
              "      <td>-500.356035</td>\n",
              "      <td>13.996647</td>\n",
              "      <td>-601.496691</td>\n",
              "    </tr>\n",
              "  </tbody>\n",
              "</table>\n",
              "</div>"
            ],
            "text/plain": [
              "                  date  final.output.concentrate_ag  \\\n",
              "0  2016-01-15 00:00:00                     6.055403   \n",
              "1  2016-01-15 01:00:00                     6.029369   \n",
              "2  2016-01-15 02:00:00                     6.055926   \n",
              "3  2016-01-15 03:00:00                     6.047977   \n",
              "4  2016-01-15 04:00:00                     6.148599   \n",
              "\n",
              "   final.output.concentrate_pb  final.output.concentrate_sol  \\\n",
              "0                     9.889648                      5.507324   \n",
              "1                     9.968944                      5.257781   \n",
              "2                    10.213995                      5.383759   \n",
              "3                     9.977019                      4.858634   \n",
              "4                    10.142511                      4.939416   \n",
              "\n",
              "   final.output.concentrate_au  final.output.recovery  final.output.tail_ag  \\\n",
              "0                    42.192020              70.541216             10.411962   \n",
              "1                    42.701629              69.266198             10.462676   \n",
              "2                    42.657501              68.116445             10.507046   \n",
              "3                    42.689819              68.347543             10.422762   \n",
              "4                    42.774141              66.927016             10.360302   \n",
              "\n",
              "   final.output.tail_pb  final.output.tail_sol  final.output.tail_au  \\\n",
              "0              0.895447              16.904297              2.143149   \n",
              "1              0.927452              16.634514              2.224930   \n",
              "2              0.953716              16.208849              2.257889   \n",
              "3              0.883763              16.532835              2.146849   \n",
              "4              0.792826              16.525686              2.055292   \n",
              "\n",
              "   primary_cleaner.input.sulfate  primary_cleaner.input.depressant  \\\n",
              "0                     127.092003                         10.128295   \n",
              "1                     125.629232                         10.296251   \n",
              "2                     123.819808                         11.316280   \n",
              "3                     122.270188                         11.322140   \n",
              "4                     117.988169                         11.913613   \n",
              "\n",
              "   primary_cleaner.input.feed_size  primary_cleaner.input.xanthate  \\\n",
              "0                             7.25                        0.988759   \n",
              "1                             7.25                        1.002663   \n",
              "2                             7.25                        0.991265   \n",
              "3                             7.25                        0.996739   \n",
              "4                             7.25                        1.009869   \n",
              "\n",
              "   primary_cleaner.output.concentrate_ag  \\\n",
              "0                               8.547551   \n",
              "1                               8.558743   \n",
              "2                               8.603505   \n",
              "3                               7.221879   \n",
              "4                               9.089428   \n",
              "\n",
              "   primary_cleaner.output.concentrate_pb  \\\n",
              "0                              10.389648   \n",
              "1                              10.497069   \n",
              "2                              10.354494   \n",
              "3                               8.496563   \n",
              "4                               9.986786   \n",
              "\n",
              "   primary_cleaner.output.concentrate_sol  \\\n",
              "0                               19.529297   \n",
              "1                               19.369147   \n",
              "2                               19.167579   \n",
              "3                               15.978538   \n",
              "4                               19.199864   \n",
              "\n",
              "   primary_cleaner.output.concentrate_au  primary_cleaner.output.tail_ag  \\\n",
              "0                              34.174427                       14.936526   \n",
              "1                              34.118526                       16.250511   \n",
              "2                              33.969464                       16.491823   \n",
              "3                              28.260743                       16.024359   \n",
              "4                              33.044932                       16.480185   \n",
              "\n",
              "   primary_cleaner.output.tail_pb  primary_cleaner.output.tail_sol  \\\n",
              "0                        2.534912                         7.476074   \n",
              "1                        3.049646                         6.733907   \n",
              "2                        3.124664                         6.471768   \n",
              "3                        2.960362                         6.843791   \n",
              "4                        3.112100                         6.550154   \n",
              "\n",
              "   primary_cleaner.output.tail_au  primary_cleaner.state.floatbank8_a_air  \\\n",
              "0                        2.106679                             1549.775757   \n",
              "1                        2.353017                             1576.166671   \n",
              "2                        2.416800                             1601.556163   \n",
              "3                        2.262051                             1599.968720   \n",
              "4                        2.277073                             1601.339707   \n",
              "\n",
              "   primary_cleaner.state.floatbank8_a_level  \\\n",
              "0                               -498.912140   \n",
              "1                               -500.904965   \n",
              "2                               -499.997791   \n",
              "3                               -500.951778   \n",
              "4                               -498.975456   \n",
              "\n",
              "   primary_cleaner.state.floatbank8_b_air  \\\n",
              "0                             1551.434204   \n",
              "1                             1575.950626   \n",
              "2                             1600.386685   \n",
              "3                             1600.659236   \n",
              "4                             1601.437854   \n",
              "\n",
              "   primary_cleaner.state.floatbank8_b_level  \\\n",
              "0                               -516.403442   \n",
              "1                               -499.865889   \n",
              "2                               -500.607762   \n",
              "3                               -499.677094   \n",
              "4                               -500.323246   \n",
              "\n",
              "   primary_cleaner.state.floatbank8_c_air  \\\n",
              "0                             1549.873901   \n",
              "1                             1575.994189   \n",
              "2                             1602.003542   \n",
              "3                             1600.304144   \n",
              "4                             1599.581894   \n",
              "\n",
              "   primary_cleaner.state.floatbank8_c_level  \\\n",
              "0                               -498.666595   \n",
              "1                               -499.315107   \n",
              "2                               -500.870069   \n",
              "3                               -500.727997   \n",
              "4                               -500.888152   \n",
              "\n",
              "   primary_cleaner.state.floatbank8_d_air  \\\n",
              "0                             1554.367432   \n",
              "1                             1574.479259   \n",
              "2                             1599.541515   \n",
              "3                             1600.449520   \n",
              "4                             1602.649541   \n",
              "\n",
              "   primary_cleaner.state.floatbank8_d_level  \\\n",
              "0                               -493.428131   \n",
              "1                               -498.931665   \n",
              "2                               -499.827444   \n",
              "3                               -500.052575   \n",
              "4                               -500.593010   \n",
              "\n",
              "   rougher.calculation.sulfate_to_au_concentrate  \\\n",
              "0                                   41885.707031   \n",
              "1                                   42050.861809   \n",
              "2                                   42018.101184   \n",
              "3                                   42029.447991   \n",
              "4                                   42125.354245   \n",
              "\n",
              "   rougher.calculation.floatbank10_sulfate_to_au_feed  \\\n",
              "0                                        3481.779053    \n",
              "1                                        3498.370979    \n",
              "2                                        3495.348910    \n",
              "3                                        3498.578313    \n",
              "4                                        3494.800771    \n",
              "\n",
              "   rougher.calculation.floatbank11_sulfate_to_au_feed  \\\n",
              "0                                        3520.337158    \n",
              "1                                        3489.981857    \n",
              "2                                        3502.359819    \n",
              "3                                        3499.162912    \n",
              "4                                        3506.679315    \n",
              "\n",
              "   rougher.calculation.au_pb_ratio  rougher.input.feed_ag  \\\n",
              "0                         2.838687               6.100378   \n",
              "1                         2.858998               6.161113   \n",
              "2                         2.945989               6.116455   \n",
              "3                         3.002340               6.043309   \n",
              "4                         3.169615               6.060915   \n",
              "\n",
              "   rougher.input.feed_pb  rougher.input.feed_rate  rougher.input.feed_size  \\\n",
              "0               2.284912               523.546326                55.486599   \n",
              "1               2.266033               525.290581                57.278666   \n",
              "2               2.159622               530.026610                57.510649   \n",
              "3               2.037807               542.590390                57.792734   \n",
              "4               1.786875               540.531893                56.047189   \n",
              "\n",
              "   rougher.input.feed_sol  rougher.input.feed_au  \\\n",
              "0               36.808594               6.486150   \n",
              "1               35.753385               6.478583   \n",
              "2               35.971630               6.362222   \n",
              "3               36.862241               6.118189   \n",
              "4               34.347666               5.663707   \n",
              "\n",
              "   rougher.input.floatbank10_sulfate  rougher.input.floatbank10_xanthate  \\\n",
              "0                          11.986616                            6.007990   \n",
              "1                          11.971193                            6.005766   \n",
              "2                          11.920603                            6.197377   \n",
              "3                          11.630094                            6.203177   \n",
              "4                          10.957755                            6.198826   \n",
              "\n",
              "   rougher.input.floatbank11_sulfate  rougher.input.floatbank11_xanthate  \\\n",
              "0                          11.836743                            6.005818   \n",
              "1                          11.996163                            6.012594   \n",
              "2                          11.920305                            6.204633   \n",
              "3                          11.692450                            6.196578   \n",
              "4                          10.960521                            6.194897   \n",
              "\n",
              "   rougher.output.concentrate_ag  rougher.output.concentrate_pb  \\\n",
              "0                      11.500771                       7.101074   \n",
              "1                      11.615865                       7.278807   \n",
              "2                      11.695753                       7.216833   \n",
              "3                      11.915047                       7.175616   \n",
              "4                      12.411054                       7.240205   \n",
              "\n",
              "   rougher.output.concentrate_sol  rougher.output.concentrate_au  \\\n",
              "0                       28.029297                      19.793808   \n",
              "1                       28.067063                      20.050975   \n",
              "2                       27.454037                      19.737170   \n",
              "3                       27.341277                      19.320810   \n",
              "4                       27.041023                      19.216101   \n",
              "\n",
              "   rougher.output.recovery  rougher.output.tail_ag  rougher.output.tail_pb  \\\n",
              "0                87.107763                5.008018                0.508728   \n",
              "1                86.843261                4.955378                0.536689   \n",
              "2                86.842308                4.843460                0.546416   \n",
              "3                87.226430                4.655288                0.542525   \n",
              "4                86.688794                4.552800                0.515438   \n",
              "\n",
              "   rougher.output.tail_sol  rougher.output.tail_au  \\\n",
              "0                19.154297                1.170244   \n",
              "1                18.965234                1.184827   \n",
              "2                18.808533                1.162562   \n",
              "3                19.330200                1.079755   \n",
              "4                19.267422                1.012642   \n",
              "\n",
              "   rougher.state.floatbank10_a_air  rougher.state.floatbank10_a_level  \\\n",
              "0                       999.706909                        -404.066986   \n",
              "1                      1000.286398                        -400.065196   \n",
              "2                       999.719565                        -400.074028   \n",
              "3                       999.814770                        -400.200179   \n",
              "4                       999.678690                        -399.752729   \n",
              "\n",
              "   rougher.state.floatbank10_b_air  rougher.state.floatbank10_b_level  \\\n",
              "0                      1603.011353                        -434.715027   \n",
              "1                      1600.754587                        -449.953435   \n",
              "2                      1599.337330                        -450.008530   \n",
              "3                      1600.059442                        -450.619948   \n",
              "4                      1600.208824                        -449.599614   \n",
              "\n",
              "   rougher.state.floatbank10_c_air  rougher.state.floatbank10_c_level  \\\n",
              "0                      1602.375000                        -442.204468   \n",
              "1                      1600.479580                        -449.830646   \n",
              "2                      1599.672797                        -449.954491   \n",
              "3                      1600.012842                        -449.910497   \n",
              "4                      1600.357732                        -450.034364   \n",
              "\n",
              "   rougher.state.floatbank10_d_air  rougher.state.floatbank10_d_level  \\\n",
              "0                      1598.937256                        -451.294128   \n",
              "1                      1600.527589                        -449.953649   \n",
              "2                      1599.849325                        -449.954185   \n",
              "3                      1597.725177                        -450.130127   \n",
              "4                      1599.759049                        -449.909799   \n",
              "\n",
              "   rougher.state.floatbank10_e_air  rougher.state.floatbank10_e_level  \\\n",
              "0                      1404.472046                        -455.462982   \n",
              "1                      1399.227084                        -450.869848   \n",
              "2                      1399.180945                        -449.937588   \n",
              "3                      1400.943157                        -450.030142   \n",
              "4                      1401.560902                        -448.877187   \n",
              "\n",
              "   rougher.state.floatbank10_f_air  rougher.state.floatbank10_f_level  \\\n",
              "0                      1416.354980                        -451.939636   \n",
              "1                      1399.719514                        -450.119001   \n",
              "2                      1400.316682                        -450.527147   \n",
              "3                      1400.234743                        -449.790835   \n",
              "4                      1401.160227                        -450.407128   \n",
              "\n",
              "   secondary_cleaner.output.tail_ag  secondary_cleaner.output.tail_pb  \\\n",
              "0                         14.500184                          4.694824   \n",
              "1                         14.265474                          4.592547   \n",
              "2                         14.115662                          4.624775   \n",
              "3                         13.732071                          4.482453   \n",
              "4                         14.079996                          4.470737   \n",
              "\n",
              "   secondary_cleaner.output.tail_sol  secondary_cleaner.output.tail_au  \\\n",
              "0                           8.764648                          2.606185   \n",
              "1                           9.001494                          2.488248   \n",
              "2                           8.842896                          2.458187   \n",
              "3                           9.122857                          2.322062   \n",
              "4                           8.871028                          2.330448   \n",
              "\n",
              "   secondary_cleaner.state.floatbank2_a_air  \\\n",
              "0                                 25.853109   \n",
              "1                                 25.880539   \n",
              "2                                 26.005245   \n",
              "3                                 25.942508   \n",
              "4                                 26.024787   \n",
              "\n",
              "   secondary_cleaner.state.floatbank2_a_level  \\\n",
              "0                                 -498.526489   \n",
              "1                                 -499.989656   \n",
              "2                                 -499.929616   \n",
              "3                                 -499.176749   \n",
              "4                                 -500.279091   \n",
              "\n",
              "   secondary_cleaner.state.floatbank2_b_air  \\\n",
              "0                                 23.893660   \n",
              "1                                 23.889530   \n",
              "2                                 23.886657   \n",
              "3                                 23.955516   \n",
              "4                                 23.955345   \n",
              "\n",
              "   secondary_cleaner.state.floatbank2_b_level  \\\n",
              "0                                 -501.406281   \n",
              "1                                 -500.372428   \n",
              "2                                 -499.951928   \n",
              "3                                 -499.848796   \n",
              "4                                 -500.593614   \n",
              "\n",
              "   secondary_cleaner.state.floatbank3_a_air  \\\n",
              "0                                 23.961798   \n",
              "1                                 23.970550   \n",
              "2                                 23.913535   \n",
              "3                                 23.966838   \n",
              "4                                 23.985703   \n",
              "\n",
              "   secondary_cleaner.state.floatbank3_a_level  \\\n",
              "0                                 -495.262817   \n",
              "1                                 -500.085473   \n",
              "2                                 -499.442343   \n",
              "3                                 -500.008812   \n",
              "4                                 -500.083811   \n",
              "\n",
              "   secondary_cleaner.state.floatbank3_b_air  \\\n",
              "0                                 21.940409   \n",
              "1                                 22.085714   \n",
              "2                                 23.957717   \n",
              "3                                 23.954443   \n",
              "4                                 23.958945   \n",
              "\n",
              "   secondary_cleaner.state.floatbank3_b_level  \\\n",
              "0                                 -499.340973   \n",
              "1                                 -499.446897   \n",
              "2                                 -499.901982   \n",
              "3                                 -499.944710   \n",
              "4                                 -499.990309   \n",
              "\n",
              "   secondary_cleaner.state.floatbank4_a_air  \\\n",
              "0                                 14.016835   \n",
              "1                                 13.992281   \n",
              "2                                 14.015015   \n",
              "3                                 14.036510   \n",
              "4                                 14.027298   \n",
              "\n",
              "   secondary_cleaner.state.floatbank4_a_level  \\\n",
              "0                                 -502.488007   \n",
              "1                                 -505.503262   \n",
              "2                                 -502.520901   \n",
              "3                                 -500.857308   \n",
              "4                                 -499.838632   \n",
              "\n",
              "   secondary_cleaner.state.floatbank4_b_air  \\\n",
              "0                                 12.099931   \n",
              "1                                 11.950531   \n",
              "2                                 11.912783   \n",
              "3                                 11.999550   \n",
              "4                                 11.953070   \n",
              "\n",
              "   secondary_cleaner.state.floatbank4_b_level  \\\n",
              "0                                 -504.715942   \n",
              "1                                 -501.331529   \n",
              "2                                 -501.133383   \n",
              "3                                 -501.193686   \n",
              "4                                 -501.053894   \n",
              "\n",
              "   secondary_cleaner.state.floatbank5_a_air  \\\n",
              "0                                  9.925633   \n",
              "1                                 10.039245   \n",
              "2                                 10.070913   \n",
              "3                                  9.970366   \n",
              "4                                  9.925709   \n",
              "\n",
              "   secondary_cleaner.state.floatbank5_a_level  \\\n",
              "0                                 -498.310211   \n",
              "1                                 -500.169983   \n",
              "2                                 -500.129135   \n",
              "3                                 -499.201640   \n",
              "4                                 -501.686727   \n",
              "\n",
              "   secondary_cleaner.state.floatbank5_b_air  \\\n",
              "0                                  8.079666   \n",
              "1                                  7.984757   \n",
              "2                                  8.013877   \n",
              "3                                  7.977324   \n",
              "4                                  7.894242   \n",
              "\n",
              "   secondary_cleaner.state.floatbank5_b_level  \\\n",
              "0                                 -500.470978   \n",
              "1                                 -500.582168   \n",
              "2                                 -500.517572   \n",
              "3                                 -500.255908   \n",
              "4                                 -500.356035   \n",
              "\n",
              "   secondary_cleaner.state.floatbank6_a_air  \\\n",
              "0                                 14.151341   \n",
              "1                                 13.998353   \n",
              "2                                 14.028663   \n",
              "3                                 14.005551   \n",
              "4                                 13.996647   \n",
              "\n",
              "   secondary_cleaner.state.floatbank6_a_level  \n",
              "0                                 -605.841980  \n",
              "1                                 -599.787184  \n",
              "2                                 -601.427363  \n",
              "3                                 -599.996129  \n",
              "4                                 -601.496691  "
            ]
          },
          "metadata": {},
          "output_type": "display_data"
        },
        {
          "data": {
            "text/html": [
              "<div>\n",
              "<style scoped>\n",
              "    .dataframe tbody tr th:only-of-type {\n",
              "        vertical-align: middle;\n",
              "    }\n",
              "\n",
              "    .dataframe tbody tr th {\n",
              "        vertical-align: top;\n",
              "    }\n",
              "\n",
              "    .dataframe thead th {\n",
              "        text-align: right;\n",
              "    }\n",
              "</style>\n",
              "<table border=\"1\" class=\"dataframe\">\n",
              "  <thead>\n",
              "    <tr style=\"text-align: right;\">\n",
              "      <th></th>\n",
              "      <th>date</th>\n",
              "      <th>final.output.concentrate_ag</th>\n",
              "      <th>final.output.concentrate_pb</th>\n",
              "      <th>final.output.concentrate_sol</th>\n",
              "      <th>final.output.concentrate_au</th>\n",
              "      <th>final.output.recovery</th>\n",
              "      <th>final.output.tail_ag</th>\n",
              "      <th>final.output.tail_pb</th>\n",
              "      <th>final.output.tail_sol</th>\n",
              "      <th>final.output.tail_au</th>\n",
              "      <th>primary_cleaner.input.sulfate</th>\n",
              "      <th>primary_cleaner.input.depressant</th>\n",
              "      <th>primary_cleaner.input.feed_size</th>\n",
              "      <th>primary_cleaner.input.xanthate</th>\n",
              "      <th>primary_cleaner.output.concentrate_ag</th>\n",
              "      <th>primary_cleaner.output.concentrate_pb</th>\n",
              "      <th>primary_cleaner.output.concentrate_sol</th>\n",
              "      <th>primary_cleaner.output.concentrate_au</th>\n",
              "      <th>primary_cleaner.output.tail_ag</th>\n",
              "      <th>primary_cleaner.output.tail_pb</th>\n",
              "      <th>primary_cleaner.output.tail_sol</th>\n",
              "      <th>primary_cleaner.output.tail_au</th>\n",
              "      <th>primary_cleaner.state.floatbank8_a_air</th>\n",
              "      <th>primary_cleaner.state.floatbank8_a_level</th>\n",
              "      <th>primary_cleaner.state.floatbank8_b_air</th>\n",
              "      <th>primary_cleaner.state.floatbank8_b_level</th>\n",
              "      <th>primary_cleaner.state.floatbank8_c_air</th>\n",
              "      <th>primary_cleaner.state.floatbank8_c_level</th>\n",
              "      <th>primary_cleaner.state.floatbank8_d_air</th>\n",
              "      <th>primary_cleaner.state.floatbank8_d_level</th>\n",
              "      <th>rougher.calculation.sulfate_to_au_concentrate</th>\n",
              "      <th>rougher.calculation.floatbank10_sulfate_to_au_feed</th>\n",
              "      <th>rougher.calculation.floatbank11_sulfate_to_au_feed</th>\n",
              "      <th>rougher.calculation.au_pb_ratio</th>\n",
              "      <th>rougher.input.feed_ag</th>\n",
              "      <th>rougher.input.feed_pb</th>\n",
              "      <th>rougher.input.feed_rate</th>\n",
              "      <th>rougher.input.feed_size</th>\n",
              "      <th>rougher.input.feed_sol</th>\n",
              "      <th>rougher.input.feed_au</th>\n",
              "      <th>rougher.input.floatbank10_sulfate</th>\n",
              "      <th>rougher.input.floatbank10_xanthate</th>\n",
              "      <th>rougher.input.floatbank11_sulfate</th>\n",
              "      <th>rougher.input.floatbank11_xanthate</th>\n",
              "      <th>rougher.output.concentrate_ag</th>\n",
              "      <th>rougher.output.concentrate_pb</th>\n",
              "      <th>rougher.output.concentrate_sol</th>\n",
              "      <th>rougher.output.concentrate_au</th>\n",
              "      <th>rougher.output.recovery</th>\n",
              "      <th>rougher.output.tail_ag</th>\n",
              "      <th>rougher.output.tail_pb</th>\n",
              "      <th>rougher.output.tail_sol</th>\n",
              "      <th>rougher.output.tail_au</th>\n",
              "      <th>rougher.state.floatbank10_a_air</th>\n",
              "      <th>rougher.state.floatbank10_a_level</th>\n",
              "      <th>rougher.state.floatbank10_b_air</th>\n",
              "      <th>rougher.state.floatbank10_b_level</th>\n",
              "      <th>rougher.state.floatbank10_c_air</th>\n",
              "      <th>rougher.state.floatbank10_c_level</th>\n",
              "      <th>rougher.state.floatbank10_d_air</th>\n",
              "      <th>rougher.state.floatbank10_d_level</th>\n",
              "      <th>rougher.state.floatbank10_e_air</th>\n",
              "      <th>rougher.state.floatbank10_e_level</th>\n",
              "      <th>rougher.state.floatbank10_f_air</th>\n",
              "      <th>rougher.state.floatbank10_f_level</th>\n",
              "      <th>secondary_cleaner.output.tail_ag</th>\n",
              "      <th>secondary_cleaner.output.tail_pb</th>\n",
              "      <th>secondary_cleaner.output.tail_sol</th>\n",
              "      <th>secondary_cleaner.output.tail_au</th>\n",
              "      <th>secondary_cleaner.state.floatbank2_a_air</th>\n",
              "      <th>secondary_cleaner.state.floatbank2_a_level</th>\n",
              "      <th>secondary_cleaner.state.floatbank2_b_air</th>\n",
              "      <th>secondary_cleaner.state.floatbank2_b_level</th>\n",
              "      <th>secondary_cleaner.state.floatbank3_a_air</th>\n",
              "      <th>secondary_cleaner.state.floatbank3_a_level</th>\n",
              "      <th>secondary_cleaner.state.floatbank3_b_air</th>\n",
              "      <th>secondary_cleaner.state.floatbank3_b_level</th>\n",
              "      <th>secondary_cleaner.state.floatbank4_a_air</th>\n",
              "      <th>secondary_cleaner.state.floatbank4_a_level</th>\n",
              "      <th>secondary_cleaner.state.floatbank4_b_air</th>\n",
              "      <th>secondary_cleaner.state.floatbank4_b_level</th>\n",
              "      <th>secondary_cleaner.state.floatbank5_a_air</th>\n",
              "      <th>secondary_cleaner.state.floatbank5_a_level</th>\n",
              "      <th>secondary_cleaner.state.floatbank5_b_air</th>\n",
              "      <th>secondary_cleaner.state.floatbank5_b_level</th>\n",
              "      <th>secondary_cleaner.state.floatbank6_a_air</th>\n",
              "      <th>secondary_cleaner.state.floatbank6_a_level</th>\n",
              "    </tr>\n",
              "  </thead>\n",
              "  <tbody>\n",
              "    <tr>\n",
              "      <th>14144</th>\n",
              "      <td>2018-08-18 06:59:59</td>\n",
              "      <td>3.224920</td>\n",
              "      <td>11.356233</td>\n",
              "      <td>6.803482</td>\n",
              "      <td>46.713954</td>\n",
              "      <td>73.755150</td>\n",
              "      <td>8.769645</td>\n",
              "      <td>3.141541</td>\n",
              "      <td>10.403181</td>\n",
              "      <td>1.529220</td>\n",
              "      <td>123.381787</td>\n",
              "      <td>8.028927</td>\n",
              "      <td>6.5</td>\n",
              "      <td>1.304232</td>\n",
              "      <td>6.559174</td>\n",
              "      <td>12.445966</td>\n",
              "      <td>7.056338</td>\n",
              "      <td>32.940215</td>\n",
              "      <td>22.854592</td>\n",
              "      <td>6.531541</td>\n",
              "      <td>3.934320</td>\n",
              "      <td>2.314352</td>\n",
              "      <td>1648.421193</td>\n",
              "      <td>-400.382169</td>\n",
              "      <td>1648.742005</td>\n",
              "      <td>-400.359661</td>\n",
              "      <td>1648.578230</td>\n",
              "      <td>-399.363624</td>\n",
              "      <td>1648.833984</td>\n",
              "      <td>-399.669220</td>\n",
              "      <td>45912.942619</td>\n",
              "      <td>2497.652954</td>\n",
              "      <td>2499.177950</td>\n",
              "      <td>1.155559</td>\n",
              "      <td>6.091855</td>\n",
              "      <td>4.617558</td>\n",
              "      <td>560.889077</td>\n",
              "      <td>85.718304</td>\n",
              "      <td>37.369774</td>\n",
              "      <td>5.335862</td>\n",
              "      <td>7.762770</td>\n",
              "      <td>9.158609</td>\n",
              "      <td>7.766744</td>\n",
              "      <td>9.156069</td>\n",
              "      <td>11.124896</td>\n",
              "      <td>10.984003</td>\n",
              "      <td>30.068876</td>\n",
              "      <td>18.603550</td>\n",
              "      <td>89.574376</td>\n",
              "      <td>4.207261</td>\n",
              "      <td>0.612935</td>\n",
              "      <td>16.666590</td>\n",
              "      <td>0.748633</td>\n",
              "      <td>1199.245914</td>\n",
              "      <td>-300.845518</td>\n",
              "      <td>1149.807890</td>\n",
              "      <td>-498.789721</td>\n",
              "      <td>1047.963596</td>\n",
              "      <td>-498.413079</td>\n",
              "      <td>946.640977</td>\n",
              "      <td>-499.152477</td>\n",
              "      <td>849.664935</td>\n",
              "      <td>-499.214461</td>\n",
              "      <td>849.758091</td>\n",
              "      <td>-497.448664</td>\n",
              "      <td>0.0</td>\n",
              "      <td>0.0</td>\n",
              "      <td>0.0</td>\n",
              "      <td>0.0</td>\n",
              "      <td>35.043205</td>\n",
              "      <td>-499.045671</td>\n",
              "      <td>29.906659</td>\n",
              "      <td>-499.979939</td>\n",
              "      <td>26.002402</td>\n",
              "      <td>-499.953431</td>\n",
              "      <td>22.987238</td>\n",
              "      <td>-499.967351</td>\n",
              "      <td>23.031497</td>\n",
              "      <td>-501.167942</td>\n",
              "      <td>20.007571</td>\n",
              "      <td>-499.740028</td>\n",
              "      <td>18.006038</td>\n",
              "      <td>-499.834374</td>\n",
              "      <td>13.001114</td>\n",
              "      <td>-500.155694</td>\n",
              "      <td>20.007840</td>\n",
              "      <td>-501.296428</td>\n",
              "    </tr>\n",
              "    <tr>\n",
              "      <th>14145</th>\n",
              "      <td>2018-08-18 07:59:59</td>\n",
              "      <td>3.195978</td>\n",
              "      <td>11.349355</td>\n",
              "      <td>6.862249</td>\n",
              "      <td>46.866780</td>\n",
              "      <td>69.049291</td>\n",
              "      <td>8.897321</td>\n",
              "      <td>3.130493</td>\n",
              "      <td>10.549470</td>\n",
              "      <td>1.612542</td>\n",
              "      <td>120.878188</td>\n",
              "      <td>7.962636</td>\n",
              "      <td>6.5</td>\n",
              "      <td>1.302419</td>\n",
              "      <td>6.612376</td>\n",
              "      <td>12.623947</td>\n",
              "      <td>7.542264</td>\n",
              "      <td>32.925325</td>\n",
              "      <td>23.002490</td>\n",
              "      <td>6.629725</td>\n",
              "      <td>4.089124</td>\n",
              "      <td>2.462890</td>\n",
              "      <td>1649.820162</td>\n",
              "      <td>-399.930973</td>\n",
              "      <td>1649.357538</td>\n",
              "      <td>-399.721222</td>\n",
              "      <td>1648.656192</td>\n",
              "      <td>-401.195834</td>\n",
              "      <td>1649.725133</td>\n",
              "      <td>-400.636306</td>\n",
              "      <td>46200.099585</td>\n",
              "      <td>2614.403937</td>\n",
              "      <td>2518.550078</td>\n",
              "      <td>1.167342</td>\n",
              "      <td>6.121323</td>\n",
              "      <td>4.144989</td>\n",
              "      <td>559.031805</td>\n",
              "      <td>119.499241</td>\n",
              "      <td>38.591551</td>\n",
              "      <td>4.838619</td>\n",
              "      <td>7.356687</td>\n",
              "      <td>9.304952</td>\n",
              "      <td>7.095508</td>\n",
              "      <td>9.297924</td>\n",
              "      <td>11.425983</td>\n",
              "      <td>10.888213</td>\n",
              "      <td>29.783972</td>\n",
              "      <td>18.441436</td>\n",
              "      <td>87.724007</td>\n",
              "      <td>4.177943</td>\n",
              "      <td>0.650557</td>\n",
              "      <td>16.960649</td>\n",
              "      <td>0.771582</td>\n",
              "      <td>1196.569267</td>\n",
              "      <td>-299.512227</td>\n",
              "      <td>1147.675196</td>\n",
              "      <td>-500.608341</td>\n",
              "      <td>1048.565741</td>\n",
              "      <td>-500.932810</td>\n",
              "      <td>949.773589</td>\n",
              "      <td>-500.023144</td>\n",
              "      <td>848.515225</td>\n",
              "      <td>-500.289405</td>\n",
              "      <td>850.013123</td>\n",
              "      <td>-496.822119</td>\n",
              "      <td>0.0</td>\n",
              "      <td>0.0</td>\n",
              "      <td>0.0</td>\n",
              "      <td>0.0</td>\n",
              "      <td>35.026062</td>\n",
              "      <td>-499.891945</td>\n",
              "      <td>29.921795</td>\n",
              "      <td>-499.949663</td>\n",
              "      <td>26.031747</td>\n",
              "      <td>-500.384612</td>\n",
              "      <td>22.991058</td>\n",
              "      <td>-500.079590</td>\n",
              "      <td>22.960095</td>\n",
              "      <td>-501.612783</td>\n",
              "      <td>20.035660</td>\n",
              "      <td>-500.251357</td>\n",
              "      <td>17.998535</td>\n",
              "      <td>-500.395178</td>\n",
              "      <td>12.954048</td>\n",
              "      <td>-499.895163</td>\n",
              "      <td>19.968498</td>\n",
              "      <td>-501.041608</td>\n",
              "    </tr>\n",
              "    <tr>\n",
              "      <th>14146</th>\n",
              "      <td>2018-08-18 08:59:59</td>\n",
              "      <td>3.109998</td>\n",
              "      <td>11.434366</td>\n",
              "      <td>6.886013</td>\n",
              "      <td>46.795691</td>\n",
              "      <td>67.002189</td>\n",
              "      <td>8.529606</td>\n",
              "      <td>2.911418</td>\n",
              "      <td>11.115147</td>\n",
              "      <td>1.596616</td>\n",
              "      <td>105.666118</td>\n",
              "      <td>7.955111</td>\n",
              "      <td>6.5</td>\n",
              "      <td>1.315926</td>\n",
              "      <td>7.128896</td>\n",
              "      <td>12.633558</td>\n",
              "      <td>7.941900</td>\n",
              "      <td>31.856742</td>\n",
              "      <td>22.298149</td>\n",
              "      <td>6.278250</td>\n",
              "      <td>4.457457</td>\n",
              "      <td>2.612231</td>\n",
              "      <td>1649.166761</td>\n",
              "      <td>-399.888631</td>\n",
              "      <td>1649.196904</td>\n",
              "      <td>-399.677571</td>\n",
              "      <td>1647.896999</td>\n",
              "      <td>-399.988275</td>\n",
              "      <td>1649.772714</td>\n",
              "      <td>-399.831902</td>\n",
              "      <td>44585.181334</td>\n",
              "      <td>2510.813545</td>\n",
              "      <td>2510.142433</td>\n",
              "      <td>1.125637</td>\n",
              "      <td>5.970515</td>\n",
              "      <td>4.020002</td>\n",
              "      <td>555.682872</td>\n",
              "      <td>122.262690</td>\n",
              "      <td>40.074026</td>\n",
              "      <td>4.525061</td>\n",
              "      <td>6.586020</td>\n",
              "      <td>9.299606</td>\n",
              "      <td>6.584130</td>\n",
              "      <td>9.300133</td>\n",
              "      <td>8.523497</td>\n",
              "      <td>8.955135</td>\n",
              "      <td>22.786467</td>\n",
              "      <td>15.111231</td>\n",
              "      <td>88.890579</td>\n",
              "      <td>4.050010</td>\n",
              "      <td>0.636095</td>\n",
              "      <td>18.323080</td>\n",
              "      <td>0.685059</td>\n",
              "      <td>1204.866639</td>\n",
              "      <td>-299.235675</td>\n",
              "      <td>1149.942902</td>\n",
              "      <td>-501.717903</td>\n",
              "      <td>1049.604390</td>\n",
              "      <td>-500.549053</td>\n",
              "      <td>952.702732</td>\n",
              "      <td>-502.352296</td>\n",
              "      <td>849.016017</td>\n",
              "      <td>-500.505677</td>\n",
              "      <td>850.455635</td>\n",
              "      <td>-506.897968</td>\n",
              "      <td>0.0</td>\n",
              "      <td>0.0</td>\n",
              "      <td>0.0</td>\n",
              "      <td>0.0</td>\n",
              "      <td>35.003586</td>\n",
              "      <td>-501.083794</td>\n",
              "      <td>29.990533</td>\n",
              "      <td>-611.855898</td>\n",
              "      <td>25.948429</td>\n",
              "      <td>-500.067268</td>\n",
              "      <td>22.968268</td>\n",
              "      <td>-499.839442</td>\n",
              "      <td>23.015718</td>\n",
              "      <td>-501.711599</td>\n",
              "      <td>19.951231</td>\n",
              "      <td>-499.857027</td>\n",
              "      <td>18.019543</td>\n",
              "      <td>-500.451156</td>\n",
              "      <td>13.023431</td>\n",
              "      <td>-499.914391</td>\n",
              "      <td>19.990885</td>\n",
              "      <td>-501.518452</td>\n",
              "    </tr>\n",
              "    <tr>\n",
              "      <th>14147</th>\n",
              "      <td>2018-08-18 09:59:59</td>\n",
              "      <td>3.367241</td>\n",
              "      <td>11.625587</td>\n",
              "      <td>6.799433</td>\n",
              "      <td>46.408188</td>\n",
              "      <td>65.523246</td>\n",
              "      <td>8.777171</td>\n",
              "      <td>2.819214</td>\n",
              "      <td>10.463847</td>\n",
              "      <td>1.602879</td>\n",
              "      <td>98.880538</td>\n",
              "      <td>7.984164</td>\n",
              "      <td>6.5</td>\n",
              "      <td>1.241969</td>\n",
              "      <td>7.490444</td>\n",
              "      <td>12.012378</td>\n",
              "      <td>6.942972</td>\n",
              "      <td>30.770892</td>\n",
              "      <td>22.714656</td>\n",
              "      <td>6.253145</td>\n",
              "      <td>3.557121</td>\n",
              "      <td>2.800648</td>\n",
              "      <td>1646.547763</td>\n",
              "      <td>-398.977083</td>\n",
              "      <td>1648.212240</td>\n",
              "      <td>-400.383265</td>\n",
              "      <td>1648.917387</td>\n",
              "      <td>-399.521344</td>\n",
              "      <td>1651.498591</td>\n",
              "      <td>-399.745329</td>\n",
              "      <td>44084.735708</td>\n",
              "      <td>2507.572494</td>\n",
              "      <td>2507.723361</td>\n",
              "      <td>1.117935</td>\n",
              "      <td>6.048130</td>\n",
              "      <td>3.902537</td>\n",
              "      <td>544.731687</td>\n",
              "      <td>123.742430</td>\n",
              "      <td>39.713906</td>\n",
              "      <td>4.362781</td>\n",
              "      <td>6.210119</td>\n",
              "      <td>9.297709</td>\n",
              "      <td>6.209517</td>\n",
              "      <td>9.297194</td>\n",
              "      <td>11.658799</td>\n",
              "      <td>10.655377</td>\n",
              "      <td>29.052742</td>\n",
              "      <td>17.834772</td>\n",
              "      <td>89.858126</td>\n",
              "      <td>3.902494</td>\n",
              "      <td>0.625609</td>\n",
              "      <td>19.423740</td>\n",
              "      <td>0.567130</td>\n",
              "      <td>1201.904177</td>\n",
              "      <td>-299.907308</td>\n",
              "      <td>1154.087804</td>\n",
              "      <td>-500.036580</td>\n",
              "      <td>1054.009756</td>\n",
              "      <td>-500.237335</td>\n",
              "      <td>944.138793</td>\n",
              "      <td>-496.866953</td>\n",
              "      <td>851.589767</td>\n",
              "      <td>-499.040466</td>\n",
              "      <td>851.345606</td>\n",
              "      <td>-499.122561</td>\n",
              "      <td>0.0</td>\n",
              "      <td>0.0</td>\n",
              "      <td>0.0</td>\n",
              "      <td>0.0</td>\n",
              "      <td>34.980742</td>\n",
              "      <td>-498.131002</td>\n",
              "      <td>29.968453</td>\n",
              "      <td>-586.013330</td>\n",
              "      <td>25.971737</td>\n",
              "      <td>-499.608392</td>\n",
              "      <td>22.958448</td>\n",
              "      <td>-499.821308</td>\n",
              "      <td>23.024963</td>\n",
              "      <td>-501.153409</td>\n",
              "      <td>20.054122</td>\n",
              "      <td>-500.314711</td>\n",
              "      <td>17.979515</td>\n",
              "      <td>-499.272871</td>\n",
              "      <td>12.992404</td>\n",
              "      <td>-499.976268</td>\n",
              "      <td>20.013986</td>\n",
              "      <td>-500.625471</td>\n",
              "    </tr>\n",
              "    <tr>\n",
              "      <th>14148</th>\n",
              "      <td>2018-08-18 10:59:59</td>\n",
              "      <td>3.598375</td>\n",
              "      <td>11.737832</td>\n",
              "      <td>6.717509</td>\n",
              "      <td>46.299438</td>\n",
              "      <td>70.281454</td>\n",
              "      <td>8.406690</td>\n",
              "      <td>2.517518</td>\n",
              "      <td>10.652193</td>\n",
              "      <td>1.389434</td>\n",
              "      <td>95.248427</td>\n",
              "      <td>8.078957</td>\n",
              "      <td>6.5</td>\n",
              "      <td>1.283045</td>\n",
              "      <td>7.537584</td>\n",
              "      <td>11.650285</td>\n",
              "      <td>6.203553</td>\n",
              "      <td>30.356618</td>\n",
              "      <td>22.735927</td>\n",
              "      <td>6.084287</td>\n",
              "      <td>3.026699</td>\n",
              "      <td>2.708046</td>\n",
              "      <td>1648.759906</td>\n",
              "      <td>-399.862053</td>\n",
              "      <td>1650.135395</td>\n",
              "      <td>-399.957321</td>\n",
              "      <td>1648.831890</td>\n",
              "      <td>-400.586116</td>\n",
              "      <td>1649.464582</td>\n",
              "      <td>-400.673303</td>\n",
              "      <td>44082.866565</td>\n",
              "      <td>2487.477762</td>\n",
              "      <td>2488.626080</td>\n",
              "      <td>1.126367</td>\n",
              "      <td>6.158718</td>\n",
              "      <td>3.875727</td>\n",
              "      <td>555.820208</td>\n",
              "      <td>94.544358</td>\n",
              "      <td>39.135119</td>\n",
              "      <td>4.365491</td>\n",
              "      <td>6.146982</td>\n",
              "      <td>9.308612</td>\n",
              "      <td>6.168939</td>\n",
              "      <td>9.309852</td>\n",
              "      <td>11.959486</td>\n",
              "      <td>10.702148</td>\n",
              "      <td>29.078235</td>\n",
              "      <td>17.804134</td>\n",
              "      <td>89.514960</td>\n",
              "      <td>3.925473</td>\n",
              "      <td>0.638677</td>\n",
              "      <td>19.946673</td>\n",
              "      <td>0.586439</td>\n",
              "      <td>1196.238112</td>\n",
              "      <td>-299.862743</td>\n",
              "      <td>1147.248241</td>\n",
              "      <td>-500.363165</td>\n",
              "      <td>1047.279065</td>\n",
              "      <td>-500.354091</td>\n",
              "      <td>948.756608</td>\n",
              "      <td>-498.439416</td>\n",
              "      <td>849.441918</td>\n",
              "      <td>-499.255503</td>\n",
              "      <td>850.112246</td>\n",
              "      <td>-499.407112</td>\n",
              "      <td>0.0</td>\n",
              "      <td>0.0</td>\n",
              "      <td>0.0</td>\n",
              "      <td>0.0</td>\n",
              "      <td>34.940919</td>\n",
              "      <td>-500.150510</td>\n",
              "      <td>30.031867</td>\n",
              "      <td>-500.328335</td>\n",
              "      <td>26.033990</td>\n",
              "      <td>-500.147792</td>\n",
              "      <td>22.952306</td>\n",
              "      <td>-500.037678</td>\n",
              "      <td>23.018622</td>\n",
              "      <td>-500.492702</td>\n",
              "      <td>20.020205</td>\n",
              "      <td>-500.220296</td>\n",
              "      <td>17.963512</td>\n",
              "      <td>-499.939490</td>\n",
              "      <td>12.990306</td>\n",
              "      <td>-500.080993</td>\n",
              "      <td>19.990336</td>\n",
              "      <td>-499.191575</td>\n",
              "    </tr>\n",
              "  </tbody>\n",
              "</table>\n",
              "</div>"
            ],
            "text/plain": [
              "                      date  final.output.concentrate_ag  \\\n",
              "14144  2018-08-18 06:59:59                     3.224920   \n",
              "14145  2018-08-18 07:59:59                     3.195978   \n",
              "14146  2018-08-18 08:59:59                     3.109998   \n",
              "14147  2018-08-18 09:59:59                     3.367241   \n",
              "14148  2018-08-18 10:59:59                     3.598375   \n",
              "\n",
              "       final.output.concentrate_pb  final.output.concentrate_sol  \\\n",
              "14144                    11.356233                      6.803482   \n",
              "14145                    11.349355                      6.862249   \n",
              "14146                    11.434366                      6.886013   \n",
              "14147                    11.625587                      6.799433   \n",
              "14148                    11.737832                      6.717509   \n",
              "\n",
              "       final.output.concentrate_au  final.output.recovery  \\\n",
              "14144                    46.713954              73.755150   \n",
              "14145                    46.866780              69.049291   \n",
              "14146                    46.795691              67.002189   \n",
              "14147                    46.408188              65.523246   \n",
              "14148                    46.299438              70.281454   \n",
              "\n",
              "       final.output.tail_ag  final.output.tail_pb  final.output.tail_sol  \\\n",
              "14144              8.769645              3.141541              10.403181   \n",
              "14145              8.897321              3.130493              10.549470   \n",
              "14146              8.529606              2.911418              11.115147   \n",
              "14147              8.777171              2.819214              10.463847   \n",
              "14148              8.406690              2.517518              10.652193   \n",
              "\n",
              "       final.output.tail_au  primary_cleaner.input.sulfate  \\\n",
              "14144              1.529220                     123.381787   \n",
              "14145              1.612542                     120.878188   \n",
              "14146              1.596616                     105.666118   \n",
              "14147              1.602879                      98.880538   \n",
              "14148              1.389434                      95.248427   \n",
              "\n",
              "       primary_cleaner.input.depressant  primary_cleaner.input.feed_size  \\\n",
              "14144                          8.028927                              6.5   \n",
              "14145                          7.962636                              6.5   \n",
              "14146                          7.955111                              6.5   \n",
              "14147                          7.984164                              6.5   \n",
              "14148                          8.078957                              6.5   \n",
              "\n",
              "       primary_cleaner.input.xanthate  primary_cleaner.output.concentrate_ag  \\\n",
              "14144                        1.304232                               6.559174   \n",
              "14145                        1.302419                               6.612376   \n",
              "14146                        1.315926                               7.128896   \n",
              "14147                        1.241969                               7.490444   \n",
              "14148                        1.283045                               7.537584   \n",
              "\n",
              "       primary_cleaner.output.concentrate_pb  \\\n",
              "14144                              12.445966   \n",
              "14145                              12.623947   \n",
              "14146                              12.633558   \n",
              "14147                              12.012378   \n",
              "14148                              11.650285   \n",
              "\n",
              "       primary_cleaner.output.concentrate_sol  \\\n",
              "14144                                7.056338   \n",
              "14145                                7.542264   \n",
              "14146                                7.941900   \n",
              "14147                                6.942972   \n",
              "14148                                6.203553   \n",
              "\n",
              "       primary_cleaner.output.concentrate_au  primary_cleaner.output.tail_ag  \\\n",
              "14144                              32.940215                       22.854592   \n",
              "14145                              32.925325                       23.002490   \n",
              "14146                              31.856742                       22.298149   \n",
              "14147                              30.770892                       22.714656   \n",
              "14148                              30.356618                       22.735927   \n",
              "\n",
              "       primary_cleaner.output.tail_pb  primary_cleaner.output.tail_sol  \\\n",
              "14144                        6.531541                         3.934320   \n",
              "14145                        6.629725                         4.089124   \n",
              "14146                        6.278250                         4.457457   \n",
              "14147                        6.253145                         3.557121   \n",
              "14148                        6.084287                         3.026699   \n",
              "\n",
              "       primary_cleaner.output.tail_au  primary_cleaner.state.floatbank8_a_air  \\\n",
              "14144                        2.314352                             1648.421193   \n",
              "14145                        2.462890                             1649.820162   \n",
              "14146                        2.612231                             1649.166761   \n",
              "14147                        2.800648                             1646.547763   \n",
              "14148                        2.708046                             1648.759906   \n",
              "\n",
              "       primary_cleaner.state.floatbank8_a_level  \\\n",
              "14144                               -400.382169   \n",
              "14145                               -399.930973   \n",
              "14146                               -399.888631   \n",
              "14147                               -398.977083   \n",
              "14148                               -399.862053   \n",
              "\n",
              "       primary_cleaner.state.floatbank8_b_air  \\\n",
              "14144                             1648.742005   \n",
              "14145                             1649.357538   \n",
              "14146                             1649.196904   \n",
              "14147                             1648.212240   \n",
              "14148                             1650.135395   \n",
              "\n",
              "       primary_cleaner.state.floatbank8_b_level  \\\n",
              "14144                               -400.359661   \n",
              "14145                               -399.721222   \n",
              "14146                               -399.677571   \n",
              "14147                               -400.383265   \n",
              "14148                               -399.957321   \n",
              "\n",
              "       primary_cleaner.state.floatbank8_c_air  \\\n",
              "14144                             1648.578230   \n",
              "14145                             1648.656192   \n",
              "14146                             1647.896999   \n",
              "14147                             1648.917387   \n",
              "14148                             1648.831890   \n",
              "\n",
              "       primary_cleaner.state.floatbank8_c_level  \\\n",
              "14144                               -399.363624   \n",
              "14145                               -401.195834   \n",
              "14146                               -399.988275   \n",
              "14147                               -399.521344   \n",
              "14148                               -400.586116   \n",
              "\n",
              "       primary_cleaner.state.floatbank8_d_air  \\\n",
              "14144                             1648.833984   \n",
              "14145                             1649.725133   \n",
              "14146                             1649.772714   \n",
              "14147                             1651.498591   \n",
              "14148                             1649.464582   \n",
              "\n",
              "       primary_cleaner.state.floatbank8_d_level  \\\n",
              "14144                               -399.669220   \n",
              "14145                               -400.636306   \n",
              "14146                               -399.831902   \n",
              "14147                               -399.745329   \n",
              "14148                               -400.673303   \n",
              "\n",
              "       rougher.calculation.sulfate_to_au_concentrate  \\\n",
              "14144                                   45912.942619   \n",
              "14145                                   46200.099585   \n",
              "14146                                   44585.181334   \n",
              "14147                                   44084.735708   \n",
              "14148                                   44082.866565   \n",
              "\n",
              "       rougher.calculation.floatbank10_sulfate_to_au_feed  \\\n",
              "14144                                        2497.652954    \n",
              "14145                                        2614.403937    \n",
              "14146                                        2510.813545    \n",
              "14147                                        2507.572494    \n",
              "14148                                        2487.477762    \n",
              "\n",
              "       rougher.calculation.floatbank11_sulfate_to_au_feed  \\\n",
              "14144                                        2499.177950    \n",
              "14145                                        2518.550078    \n",
              "14146                                        2510.142433    \n",
              "14147                                        2507.723361    \n",
              "14148                                        2488.626080    \n",
              "\n",
              "       rougher.calculation.au_pb_ratio  rougher.input.feed_ag  \\\n",
              "14144                         1.155559               6.091855   \n",
              "14145                         1.167342               6.121323   \n",
              "14146                         1.125637               5.970515   \n",
              "14147                         1.117935               6.048130   \n",
              "14148                         1.126367               6.158718   \n",
              "\n",
              "       rougher.input.feed_pb  rougher.input.feed_rate  \\\n",
              "14144               4.617558               560.889077   \n",
              "14145               4.144989               559.031805   \n",
              "14146               4.020002               555.682872   \n",
              "14147               3.902537               544.731687   \n",
              "14148               3.875727               555.820208   \n",
              "\n",
              "       rougher.input.feed_size  rougher.input.feed_sol  rougher.input.feed_au  \\\n",
              "14144                85.718304               37.369774               5.335862   \n",
              "14145               119.499241               38.591551               4.838619   \n",
              "14146               122.262690               40.074026               4.525061   \n",
              "14147               123.742430               39.713906               4.362781   \n",
              "14148                94.544358               39.135119               4.365491   \n",
              "\n",
              "       rougher.input.floatbank10_sulfate  rougher.input.floatbank10_xanthate  \\\n",
              "14144                           7.762770                            9.158609   \n",
              "14145                           7.356687                            9.304952   \n",
              "14146                           6.586020                            9.299606   \n",
              "14147                           6.210119                            9.297709   \n",
              "14148                           6.146982                            9.308612   \n",
              "\n",
              "       rougher.input.floatbank11_sulfate  rougher.input.floatbank11_xanthate  \\\n",
              "14144                           7.766744                            9.156069   \n",
              "14145                           7.095508                            9.297924   \n",
              "14146                           6.584130                            9.300133   \n",
              "14147                           6.209517                            9.297194   \n",
              "14148                           6.168939                            9.309852   \n",
              "\n",
              "       rougher.output.concentrate_ag  rougher.output.concentrate_pb  \\\n",
              "14144                      11.124896                      10.984003   \n",
              "14145                      11.425983                      10.888213   \n",
              "14146                       8.523497                       8.955135   \n",
              "14147                      11.658799                      10.655377   \n",
              "14148                      11.959486                      10.702148   \n",
              "\n",
              "       rougher.output.concentrate_sol  rougher.output.concentrate_au  \\\n",
              "14144                       30.068876                      18.603550   \n",
              "14145                       29.783972                      18.441436   \n",
              "14146                       22.786467                      15.111231   \n",
              "14147                       29.052742                      17.834772   \n",
              "14148                       29.078235                      17.804134   \n",
              "\n",
              "       rougher.output.recovery  rougher.output.tail_ag  \\\n",
              "14144                89.574376                4.207261   \n",
              "14145                87.724007                4.177943   \n",
              "14146                88.890579                4.050010   \n",
              "14147                89.858126                3.902494   \n",
              "14148                89.514960                3.925473   \n",
              "\n",
              "       rougher.output.tail_pb  rougher.output.tail_sol  \\\n",
              "14144                0.612935                16.666590   \n",
              "14145                0.650557                16.960649   \n",
              "14146                0.636095                18.323080   \n",
              "14147                0.625609                19.423740   \n",
              "14148                0.638677                19.946673   \n",
              "\n",
              "       rougher.output.tail_au  rougher.state.floatbank10_a_air  \\\n",
              "14144                0.748633                      1199.245914   \n",
              "14145                0.771582                      1196.569267   \n",
              "14146                0.685059                      1204.866639   \n",
              "14147                0.567130                      1201.904177   \n",
              "14148                0.586439                      1196.238112   \n",
              "\n",
              "       rougher.state.floatbank10_a_level  rougher.state.floatbank10_b_air  \\\n",
              "14144                        -300.845518                      1149.807890   \n",
              "14145                        -299.512227                      1147.675196   \n",
              "14146                        -299.235675                      1149.942902   \n",
              "14147                        -299.907308                      1154.087804   \n",
              "14148                        -299.862743                      1147.248241   \n",
              "\n",
              "       rougher.state.floatbank10_b_level  rougher.state.floatbank10_c_air  \\\n",
              "14144                        -498.789721                      1047.963596   \n",
              "14145                        -500.608341                      1048.565741   \n",
              "14146                        -501.717903                      1049.604390   \n",
              "14147                        -500.036580                      1054.009756   \n",
              "14148                        -500.363165                      1047.279065   \n",
              "\n",
              "       rougher.state.floatbank10_c_level  rougher.state.floatbank10_d_air  \\\n",
              "14144                        -498.413079                       946.640977   \n",
              "14145                        -500.932810                       949.773589   \n",
              "14146                        -500.549053                       952.702732   \n",
              "14147                        -500.237335                       944.138793   \n",
              "14148                        -500.354091                       948.756608   \n",
              "\n",
              "       rougher.state.floatbank10_d_level  rougher.state.floatbank10_e_air  \\\n",
              "14144                        -499.152477                       849.664935   \n",
              "14145                        -500.023144                       848.515225   \n",
              "14146                        -502.352296                       849.016017   \n",
              "14147                        -496.866953                       851.589767   \n",
              "14148                        -498.439416                       849.441918   \n",
              "\n",
              "       rougher.state.floatbank10_e_level  rougher.state.floatbank10_f_air  \\\n",
              "14144                        -499.214461                       849.758091   \n",
              "14145                        -500.289405                       850.013123   \n",
              "14146                        -500.505677                       850.455635   \n",
              "14147                        -499.040466                       851.345606   \n",
              "14148                        -499.255503                       850.112246   \n",
              "\n",
              "       rougher.state.floatbank10_f_level  secondary_cleaner.output.tail_ag  \\\n",
              "14144                        -497.448664                               0.0   \n",
              "14145                        -496.822119                               0.0   \n",
              "14146                        -506.897968                               0.0   \n",
              "14147                        -499.122561                               0.0   \n",
              "14148                        -499.407112                               0.0   \n",
              "\n",
              "       secondary_cleaner.output.tail_pb  secondary_cleaner.output.tail_sol  \\\n",
              "14144                               0.0                                0.0   \n",
              "14145                               0.0                                0.0   \n",
              "14146                               0.0                                0.0   \n",
              "14147                               0.0                                0.0   \n",
              "14148                               0.0                                0.0   \n",
              "\n",
              "       secondary_cleaner.output.tail_au  \\\n",
              "14144                               0.0   \n",
              "14145                               0.0   \n",
              "14146                               0.0   \n",
              "14147                               0.0   \n",
              "14148                               0.0   \n",
              "\n",
              "       secondary_cleaner.state.floatbank2_a_air  \\\n",
              "14144                                 35.043205   \n",
              "14145                                 35.026062   \n",
              "14146                                 35.003586   \n",
              "14147                                 34.980742   \n",
              "14148                                 34.940919   \n",
              "\n",
              "       secondary_cleaner.state.floatbank2_a_level  \\\n",
              "14144                                 -499.045671   \n",
              "14145                                 -499.891945   \n",
              "14146                                 -501.083794   \n",
              "14147                                 -498.131002   \n",
              "14148                                 -500.150510   \n",
              "\n",
              "       secondary_cleaner.state.floatbank2_b_air  \\\n",
              "14144                                 29.906659   \n",
              "14145                                 29.921795   \n",
              "14146                                 29.990533   \n",
              "14147                                 29.968453   \n",
              "14148                                 30.031867   \n",
              "\n",
              "       secondary_cleaner.state.floatbank2_b_level  \\\n",
              "14144                                 -499.979939   \n",
              "14145                                 -499.949663   \n",
              "14146                                 -611.855898   \n",
              "14147                                 -586.013330   \n",
              "14148                                 -500.328335   \n",
              "\n",
              "       secondary_cleaner.state.floatbank3_a_air  \\\n",
              "14144                                 26.002402   \n",
              "14145                                 26.031747   \n",
              "14146                                 25.948429   \n",
              "14147                                 25.971737   \n",
              "14148                                 26.033990   \n",
              "\n",
              "       secondary_cleaner.state.floatbank3_a_level  \\\n",
              "14144                                 -499.953431   \n",
              "14145                                 -500.384612   \n",
              "14146                                 -500.067268   \n",
              "14147                                 -499.608392   \n",
              "14148                                 -500.147792   \n",
              "\n",
              "       secondary_cleaner.state.floatbank3_b_air  \\\n",
              "14144                                 22.987238   \n",
              "14145                                 22.991058   \n",
              "14146                                 22.968268   \n",
              "14147                                 22.958448   \n",
              "14148                                 22.952306   \n",
              "\n",
              "       secondary_cleaner.state.floatbank3_b_level  \\\n",
              "14144                                 -499.967351   \n",
              "14145                                 -500.079590   \n",
              "14146                                 -499.839442   \n",
              "14147                                 -499.821308   \n",
              "14148                                 -500.037678   \n",
              "\n",
              "       secondary_cleaner.state.floatbank4_a_air  \\\n",
              "14144                                 23.031497   \n",
              "14145                                 22.960095   \n",
              "14146                                 23.015718   \n",
              "14147                                 23.024963   \n",
              "14148                                 23.018622   \n",
              "\n",
              "       secondary_cleaner.state.floatbank4_a_level  \\\n",
              "14144                                 -501.167942   \n",
              "14145                                 -501.612783   \n",
              "14146                                 -501.711599   \n",
              "14147                                 -501.153409   \n",
              "14148                                 -500.492702   \n",
              "\n",
              "       secondary_cleaner.state.floatbank4_b_air  \\\n",
              "14144                                 20.007571   \n",
              "14145                                 20.035660   \n",
              "14146                                 19.951231   \n",
              "14147                                 20.054122   \n",
              "14148                                 20.020205   \n",
              "\n",
              "       secondary_cleaner.state.floatbank4_b_level  \\\n",
              "14144                                 -499.740028   \n",
              "14145                                 -500.251357   \n",
              "14146                                 -499.857027   \n",
              "14147                                 -500.314711   \n",
              "14148                                 -500.220296   \n",
              "\n",
              "       secondary_cleaner.state.floatbank5_a_air  \\\n",
              "14144                                 18.006038   \n",
              "14145                                 17.998535   \n",
              "14146                                 18.019543   \n",
              "14147                                 17.979515   \n",
              "14148                                 17.963512   \n",
              "\n",
              "       secondary_cleaner.state.floatbank5_a_level  \\\n",
              "14144                                 -499.834374   \n",
              "14145                                 -500.395178   \n",
              "14146                                 -500.451156   \n",
              "14147                                 -499.272871   \n",
              "14148                                 -499.939490   \n",
              "\n",
              "       secondary_cleaner.state.floatbank5_b_air  \\\n",
              "14144                                 13.001114   \n",
              "14145                                 12.954048   \n",
              "14146                                 13.023431   \n",
              "14147                                 12.992404   \n",
              "14148                                 12.990306   \n",
              "\n",
              "       secondary_cleaner.state.floatbank5_b_level  \\\n",
              "14144                                 -500.155694   \n",
              "14145                                 -499.895163   \n",
              "14146                                 -499.914391   \n",
              "14147                                 -499.976268   \n",
              "14148                                 -500.080993   \n",
              "\n",
              "       secondary_cleaner.state.floatbank6_a_air  \\\n",
              "14144                                 20.007840   \n",
              "14145                                 19.968498   \n",
              "14146                                 19.990885   \n",
              "14147                                 20.013986   \n",
              "14148                                 19.990336   \n",
              "\n",
              "       secondary_cleaner.state.floatbank6_a_level  \n",
              "14144                                 -501.296428  \n",
              "14145                                 -501.041608  \n",
              "14146                                 -501.518452  \n",
              "14147                                 -500.625471  \n",
              "14148                                 -499.191575  "
            ]
          },
          "metadata": {},
          "output_type": "display_data"
        }
      ],
      "source": [
        "pd.set_option('max_columns', None)\n",
        "display(data_train.head())\n",
        "display(data_train.tail())\n"
      ]
    },
    {
      "cell_type": "markdown",
      "metadata": {
        "id": "1wXIyYwlwhoy"
      },
      "source": [
        "Наблюдаем, что в обучающих данных 14149 строк и 87 признаков, включая два целевых признака rougher.output.recovery и final.output.recovery. Также, отмечаем наличие пропусков во многих столбцах.\n",
        "\n",
        "Эксперименты сделаны с интервалом в один час."
      ]
    },
    {
      "cell_type": "code",
      "execution_count": null,
      "metadata": {
        "id": "aZ-Ocyu9whoy",
        "outputId": "288098fe-80f0-4861-cd44-a361cbb55e84"
      },
      "outputs": [
        {
          "name": "stdout",
          "output_type": "stream",
          "text": [
            "<class 'pandas.core.frame.DataFrame'>\n",
            "RangeIndex: 5290 entries, 0 to 5289\n",
            "Data columns (total 53 columns):\n",
            " #   Column                                      Non-Null Count  Dtype  \n",
            "---  ------                                      --------------  -----  \n",
            " 0   date                                        5290 non-null   object \n",
            " 1   primary_cleaner.input.sulfate               5286 non-null   float64\n",
            " 2   primary_cleaner.input.depressant            5285 non-null   float64\n",
            " 3   primary_cleaner.input.feed_size             5290 non-null   float64\n",
            " 4   primary_cleaner.input.xanthate              5286 non-null   float64\n",
            " 5   primary_cleaner.state.floatbank8_a_air      5290 non-null   float64\n",
            " 6   primary_cleaner.state.floatbank8_a_level    5290 non-null   float64\n",
            " 7   primary_cleaner.state.floatbank8_b_air      5290 non-null   float64\n",
            " 8   primary_cleaner.state.floatbank8_b_level    5290 non-null   float64\n",
            " 9   primary_cleaner.state.floatbank8_c_air      5290 non-null   float64\n",
            " 10  primary_cleaner.state.floatbank8_c_level    5290 non-null   float64\n",
            " 11  primary_cleaner.state.floatbank8_d_air      5290 non-null   float64\n",
            " 12  primary_cleaner.state.floatbank8_d_level    5290 non-null   float64\n",
            " 13  rougher.input.feed_ag                       5290 non-null   float64\n",
            " 14  rougher.input.feed_pb                       5290 non-null   float64\n",
            " 15  rougher.input.feed_rate                     5287 non-null   float64\n",
            " 16  rougher.input.feed_size                     5289 non-null   float64\n",
            " 17  rougher.input.feed_sol                      5269 non-null   float64\n",
            " 18  rougher.input.feed_au                       5290 non-null   float64\n",
            " 19  rougher.input.floatbank10_sulfate           5285 non-null   float64\n",
            " 20  rougher.input.floatbank10_xanthate          5290 non-null   float64\n",
            " 21  rougher.input.floatbank11_sulfate           5282 non-null   float64\n",
            " 22  rougher.input.floatbank11_xanthate          5265 non-null   float64\n",
            " 23  rougher.state.floatbank10_a_air             5290 non-null   float64\n",
            " 24  rougher.state.floatbank10_a_level           5290 non-null   float64\n",
            " 25  rougher.state.floatbank10_b_air             5290 non-null   float64\n",
            " 26  rougher.state.floatbank10_b_level           5290 non-null   float64\n",
            " 27  rougher.state.floatbank10_c_air             5290 non-null   float64\n",
            " 28  rougher.state.floatbank10_c_level           5290 non-null   float64\n",
            " 29  rougher.state.floatbank10_d_air             5290 non-null   float64\n",
            " 30  rougher.state.floatbank10_d_level           5290 non-null   float64\n",
            " 31  rougher.state.floatbank10_e_air             5290 non-null   float64\n",
            " 32  rougher.state.floatbank10_e_level           5290 non-null   float64\n",
            " 33  rougher.state.floatbank10_f_air             5290 non-null   float64\n",
            " 34  rougher.state.floatbank10_f_level           5290 non-null   float64\n",
            " 35  secondary_cleaner.state.floatbank2_a_air    5287 non-null   float64\n",
            " 36  secondary_cleaner.state.floatbank2_a_level  5290 non-null   float64\n",
            " 37  secondary_cleaner.state.floatbank2_b_air    5288 non-null   float64\n",
            " 38  secondary_cleaner.state.floatbank2_b_level  5290 non-null   float64\n",
            " 39  secondary_cleaner.state.floatbank3_a_air    5281 non-null   float64\n",
            " 40  secondary_cleaner.state.floatbank3_a_level  5290 non-null   float64\n",
            " 41  secondary_cleaner.state.floatbank3_b_air    5290 non-null   float64\n",
            " 42  secondary_cleaner.state.floatbank3_b_level  5290 non-null   float64\n",
            " 43  secondary_cleaner.state.floatbank4_a_air    5290 non-null   float64\n",
            " 44  secondary_cleaner.state.floatbank4_a_level  5290 non-null   float64\n",
            " 45  secondary_cleaner.state.floatbank4_b_air    5290 non-null   float64\n",
            " 46  secondary_cleaner.state.floatbank4_b_level  5290 non-null   float64\n",
            " 47  secondary_cleaner.state.floatbank5_a_air    5290 non-null   float64\n",
            " 48  secondary_cleaner.state.floatbank5_a_level  5290 non-null   float64\n",
            " 49  secondary_cleaner.state.floatbank5_b_air    5290 non-null   float64\n",
            " 50  secondary_cleaner.state.floatbank5_b_level  5290 non-null   float64\n",
            " 51  secondary_cleaner.state.floatbank6_a_air    5290 non-null   float64\n",
            " 52  secondary_cleaner.state.floatbank6_a_level  5290 non-null   float64\n",
            "dtypes: float64(52), object(1)\n",
            "memory usage: 2.1+ MB\n"
          ]
        }
      ],
      "source": [
        "data_test.info()"
      ]
    },
    {
      "cell_type": "markdown",
      "metadata": {
        "id": "o42cjSlnwhoy"
      },
      "source": [
        "В тестовой выборке присутствует 5290 строк и только 53 признака. Целевые признаки отсутствуют. Также, имеются пропуски."
      ]
    },
    {
      "cell_type": "code",
      "execution_count": null,
      "metadata": {
        "id": "2mBbF1xpwhoy",
        "outputId": "35bcc2ee-a5b4-4998-aab8-741932fefa01"
      },
      "outputs": [
        {
          "name": "stdout",
          "output_type": "stream",
          "text": [
            "<class 'pandas.core.frame.DataFrame'>\n",
            "RangeIndex: 19439 entries, 0 to 19438\n",
            "Data columns (total 87 columns):\n",
            " #   Column                                              Non-Null Count  Dtype  \n",
            "---  ------                                              --------------  -----  \n",
            " 0   date                                                19439 non-null  object \n",
            " 1   final.output.concentrate_ag                         19438 non-null  float64\n",
            " 2   final.output.concentrate_pb                         19438 non-null  float64\n",
            " 3   final.output.concentrate_sol                        19228 non-null  float64\n",
            " 4   final.output.concentrate_au                         19439 non-null  float64\n",
            " 5   final.output.recovery                               19439 non-null  float64\n",
            " 6   final.output.tail_ag                                19438 non-null  float64\n",
            " 7   final.output.tail_pb                                19338 non-null  float64\n",
            " 8   final.output.tail_sol                               19433 non-null  float64\n",
            " 9   final.output.tail_au                                19439 non-null  float64\n",
            " 10  primary_cleaner.input.sulfate                       19415 non-null  float64\n",
            " 11  primary_cleaner.input.depressant                    19402 non-null  float64\n",
            " 12  primary_cleaner.input.feed_size                     19439 non-null  float64\n",
            " 13  primary_cleaner.input.xanthate                      19335 non-null  float64\n",
            " 14  primary_cleaner.output.concentrate_ag               19439 non-null  float64\n",
            " 15  primary_cleaner.output.concentrate_pb               19323 non-null  float64\n",
            " 16  primary_cleaner.output.concentrate_sol              19069 non-null  float64\n",
            " 17  primary_cleaner.output.concentrate_au               19439 non-null  float64\n",
            " 18  primary_cleaner.output.tail_ag                      19435 non-null  float64\n",
            " 19  primary_cleaner.output.tail_pb                      19418 non-null  float64\n",
            " 20  primary_cleaner.output.tail_sol                     19377 non-null  float64\n",
            " 21  primary_cleaner.output.tail_au                      19439 non-null  float64\n",
            " 22  primary_cleaner.state.floatbank8_a_air              19435 non-null  float64\n",
            " 23  primary_cleaner.state.floatbank8_a_level            19438 non-null  float64\n",
            " 24  primary_cleaner.state.floatbank8_b_air              19435 non-null  float64\n",
            " 25  primary_cleaner.state.floatbank8_b_level            19438 non-null  float64\n",
            " 26  primary_cleaner.state.floatbank8_c_air              19437 non-null  float64\n",
            " 27  primary_cleaner.state.floatbank8_c_level            19438 non-null  float64\n",
            " 28  primary_cleaner.state.floatbank8_d_air              19436 non-null  float64\n",
            " 29  primary_cleaner.state.floatbank8_d_level            19438 non-null  float64\n",
            " 30  rougher.calculation.sulfate_to_au_concentrate       19437 non-null  float64\n",
            " 31  rougher.calculation.floatbank10_sulfate_to_au_feed  19437 non-null  float64\n",
            " 32  rougher.calculation.floatbank11_sulfate_to_au_feed  19437 non-null  float64\n",
            " 33  rougher.calculation.au_pb_ratio                     19439 non-null  float64\n",
            " 34  rougher.input.feed_ag                               19439 non-null  float64\n",
            " 35  rougher.input.feed_pb                               19339 non-null  float64\n",
            " 36  rougher.input.feed_rate                             19428 non-null  float64\n",
            " 37  rougher.input.feed_size                             19294 non-null  float64\n",
            " 38  rougher.input.feed_sol                              19340 non-null  float64\n",
            " 39  rougher.input.feed_au                               19439 non-null  float64\n",
            " 40  rougher.input.floatbank10_sulfate                   19405 non-null  float64\n",
            " 41  rougher.input.floatbank10_xanthate                  19431 non-null  float64\n",
            " 42  rougher.input.floatbank11_sulfate                   19395 non-null  float64\n",
            " 43  rougher.input.floatbank11_xanthate                  18986 non-null  float64\n",
            " 44  rougher.output.concentrate_ag                       19439 non-null  float64\n",
            " 45  rougher.output.concentrate_pb                       19439 non-null  float64\n",
            " 46  rougher.output.concentrate_sol                      19416 non-null  float64\n",
            " 47  rougher.output.concentrate_au                       19439 non-null  float64\n",
            " 48  rougher.output.recovery                             19439 non-null  float64\n",
            " 49  rougher.output.tail_ag                              19438 non-null  float64\n",
            " 50  rougher.output.tail_pb                              19439 non-null  float64\n",
            " 51  rougher.output.tail_sol                             19439 non-null  float64\n",
            " 52  rougher.output.tail_au                              19439 non-null  float64\n",
            " 53  rougher.state.floatbank10_a_air                     19438 non-null  float64\n",
            " 54  rougher.state.floatbank10_a_level                   19438 non-null  float64\n",
            " 55  rougher.state.floatbank10_b_air                     19438 non-null  float64\n",
            " 56  rougher.state.floatbank10_b_level                   19438 non-null  float64\n",
            " 57  rougher.state.floatbank10_c_air                     19438 non-null  float64\n",
            " 58  rougher.state.floatbank10_c_level                   19438 non-null  float64\n",
            " 59  rougher.state.floatbank10_d_air                     19439 non-null  float64\n",
            " 60  rougher.state.floatbank10_d_level                   19439 non-null  float64\n",
            " 61  rougher.state.floatbank10_e_air                     19003 non-null  float64\n",
            " 62  rougher.state.floatbank10_e_level                   19439 non-null  float64\n",
            " 63  rougher.state.floatbank10_f_air                     19439 non-null  float64\n",
            " 64  rougher.state.floatbank10_f_level                   19439 non-null  float64\n",
            " 65  secondary_cleaner.output.tail_ag                    19437 non-null  float64\n",
            " 66  secondary_cleaner.output.tail_pb                    19427 non-null  float64\n",
            " 67  secondary_cleaner.output.tail_sol                   17691 non-null  float64\n",
            " 68  secondary_cleaner.output.tail_au                    19439 non-null  float64\n",
            " 69  secondary_cleaner.state.floatbank2_a_air            19219 non-null  float64\n",
            " 70  secondary_cleaner.state.floatbank2_a_level          19438 non-null  float64\n",
            " 71  secondary_cleaner.state.floatbank2_b_air            19416 non-null  float64\n",
            " 72  secondary_cleaner.state.floatbank2_b_level          19438 non-null  float64\n",
            " 73  secondary_cleaner.state.floatbank3_a_air            19426 non-null  float64\n",
            " 74  secondary_cleaner.state.floatbank3_a_level          19438 non-null  float64\n",
            " 75  secondary_cleaner.state.floatbank3_b_air            19438 non-null  float64\n",
            " 76  secondary_cleaner.state.floatbank3_b_level          19438 non-null  float64\n",
            " 77  secondary_cleaner.state.floatbank4_a_air            19433 non-null  float64\n",
            " 78  secondary_cleaner.state.floatbank4_a_level          19438 non-null  float64\n",
            " 79  secondary_cleaner.state.floatbank4_b_air            19438 non-null  float64\n",
            " 80  secondary_cleaner.state.floatbank4_b_level          19438 non-null  float64\n",
            " 81  secondary_cleaner.state.floatbank5_a_air            19438 non-null  float64\n",
            " 82  secondary_cleaner.state.floatbank5_a_level          19438 non-null  float64\n",
            " 83  secondary_cleaner.state.floatbank5_b_air            19438 non-null  float64\n",
            " 84  secondary_cleaner.state.floatbank5_b_level          19438 non-null  float64\n",
            " 85  secondary_cleaner.state.floatbank6_a_air            19437 non-null  float64\n",
            " 86  secondary_cleaner.state.floatbank6_a_level          19438 non-null  float64\n",
            "dtypes: float64(86), object(1)\n",
            "memory usage: 12.9+ MB\n"
          ]
        }
      ],
      "source": [
        "data_full.info()"
      ]
    },
    {
      "cell_type": "markdown",
      "metadata": {
        "id": "Y3h25HfLwhoy"
      },
      "source": [
        "Данный файл - это исходный файл, поэтому в нём, ожидаемо, все 87 признаков, включая два целевых и 19439 строк."
      ]
    },
    {
      "cell_type": "markdown",
      "metadata": {
        "id": "Q3Ihebv9whoy"
      },
      "source": [
        "### Заполнение пропусков в тренировочном датасете\n"
      ]
    },
    {
      "cell_type": "code",
      "execution_count": null,
      "metadata": {
        "id": "PQCAOExBwhoy",
        "outputId": "7fc2d297-fdb1-4334-ca5a-c1cc40d1ccc2"
      },
      "outputs": [
        {
          "name": "stdout",
          "output_type": "stream",
          "text": [
            "date                                            0\n",
            "final.output.concentrate_ag                     1\n",
            "final.output.concentrate_pb                     1\n",
            "final.output.concentrate_sol                  211\n",
            "final.output.concentrate_au                     0\n",
            "                                             ... \n",
            "secondary_cleaner.state.floatbank5_a_level      1\n",
            "secondary_cleaner.state.floatbank5_b_air        1\n",
            "secondary_cleaner.state.floatbank5_b_level      1\n",
            "secondary_cleaner.state.floatbank6_a_air        2\n",
            "secondary_cleaner.state.floatbank6_a_level      1\n",
            "Length: 87, dtype: int64\n"
          ]
        }
      ],
      "source": [
        "# проверим наличие пропусков\n",
        "print(data_train.isna().sum())"
      ]
    },
    {
      "cell_type": "markdown",
      "metadata": {
        "id": "RPabXbpxwhoz"
      },
      "source": [
        "Т.к. эксперименты в обучающем датасете были выполнены с небольшим интервалом, то заполним пропуски в данных данными предыдущих экспериментов, с помощью метода ffill.\n"
      ]
    },
    {
      "cell_type": "code",
      "execution_count": null,
      "metadata": {
        "id": "43uGvjggwhoz"
      },
      "outputs": [],
      "source": [
        "data_train = data_train.fillna(method = 'ffill')"
      ]
    },
    {
      "cell_type": "code",
      "execution_count": null,
      "metadata": {
        "id": "cujHMqREwhoz",
        "outputId": "cb6feb55-18df-4adb-9d94-2b2ce3e788c5"
      },
      "outputs": [
        {
          "name": "stdout",
          "output_type": "stream",
          "text": [
            "date                                                  0\n",
            "final.output.concentrate_ag                           0\n",
            "final.output.concentrate_pb                           0\n",
            "final.output.concentrate_sol                          0\n",
            "final.output.concentrate_au                           0\n",
            "final.output.recovery                                 0\n",
            "final.output.tail_ag                                  0\n",
            "final.output.tail_pb                                  0\n",
            "final.output.tail_sol                                 0\n",
            "final.output.tail_au                                  0\n",
            "primary_cleaner.input.sulfate                         0\n",
            "primary_cleaner.input.depressant                      0\n",
            "primary_cleaner.input.feed_size                       0\n",
            "primary_cleaner.input.xanthate                        0\n",
            "primary_cleaner.output.concentrate_ag                 0\n",
            "primary_cleaner.output.concentrate_pb                 0\n",
            "primary_cleaner.output.concentrate_sol                0\n",
            "primary_cleaner.output.concentrate_au                 0\n",
            "primary_cleaner.output.tail_ag                        0\n",
            "primary_cleaner.output.tail_pb                        0\n",
            "primary_cleaner.output.tail_sol                       0\n",
            "primary_cleaner.output.tail_au                        0\n",
            "primary_cleaner.state.floatbank8_a_air                0\n",
            "primary_cleaner.state.floatbank8_a_level              0\n",
            "primary_cleaner.state.floatbank8_b_air                0\n",
            "primary_cleaner.state.floatbank8_b_level              0\n",
            "primary_cleaner.state.floatbank8_c_air                0\n",
            "primary_cleaner.state.floatbank8_c_level              0\n",
            "primary_cleaner.state.floatbank8_d_air                0\n",
            "primary_cleaner.state.floatbank8_d_level              0\n",
            "rougher.calculation.sulfate_to_au_concentrate         0\n",
            "rougher.calculation.floatbank10_sulfate_to_au_feed    0\n",
            "rougher.calculation.floatbank11_sulfate_to_au_feed    0\n",
            "rougher.calculation.au_pb_ratio                       0\n",
            "rougher.input.feed_ag                                 0\n",
            "rougher.input.feed_pb                                 0\n",
            "rougher.input.feed_rate                               0\n",
            "rougher.input.feed_size                               0\n",
            "rougher.input.feed_sol                                0\n",
            "rougher.input.feed_au                                 0\n",
            "rougher.input.floatbank10_sulfate                     0\n",
            "rougher.input.floatbank10_xanthate                    0\n",
            "rougher.input.floatbank11_sulfate                     0\n",
            "rougher.input.floatbank11_xanthate                    0\n",
            "rougher.output.concentrate_ag                         0\n",
            "rougher.output.concentrate_pb                         0\n",
            "rougher.output.concentrate_sol                        0\n",
            "rougher.output.concentrate_au                         0\n",
            "rougher.output.recovery                               0\n",
            "rougher.output.tail_ag                                0\n",
            "rougher.output.tail_pb                                0\n",
            "rougher.output.tail_sol                               0\n",
            "rougher.output.tail_au                                0\n",
            "rougher.state.floatbank10_a_air                       0\n",
            "rougher.state.floatbank10_a_level                     0\n",
            "rougher.state.floatbank10_b_air                       0\n",
            "rougher.state.floatbank10_b_level                     0\n",
            "rougher.state.floatbank10_c_air                       0\n",
            "rougher.state.floatbank10_c_level                     0\n",
            "rougher.state.floatbank10_d_air                       0\n",
            "rougher.state.floatbank10_d_level                     0\n",
            "rougher.state.floatbank10_e_air                       0\n",
            "rougher.state.floatbank10_e_level                     0\n",
            "rougher.state.floatbank10_f_air                       0\n",
            "rougher.state.floatbank10_f_level                     0\n",
            "secondary_cleaner.output.tail_ag                      0\n",
            "secondary_cleaner.output.tail_pb                      0\n",
            "secondary_cleaner.output.tail_sol                     0\n",
            "secondary_cleaner.output.tail_au                      0\n",
            "secondary_cleaner.state.floatbank2_a_air              0\n",
            "secondary_cleaner.state.floatbank2_a_level            0\n",
            "secondary_cleaner.state.floatbank2_b_air              0\n",
            "secondary_cleaner.state.floatbank2_b_level            0\n",
            "secondary_cleaner.state.floatbank3_a_air              0\n",
            "secondary_cleaner.state.floatbank3_a_level            0\n",
            "secondary_cleaner.state.floatbank3_b_air              0\n",
            "secondary_cleaner.state.floatbank3_b_level            0\n",
            "secondary_cleaner.state.floatbank4_a_air              0\n",
            "secondary_cleaner.state.floatbank4_a_level            0\n",
            "secondary_cleaner.state.floatbank4_b_air              0\n",
            "secondary_cleaner.state.floatbank4_b_level            0\n",
            "secondary_cleaner.state.floatbank5_a_air              0\n",
            "secondary_cleaner.state.floatbank5_a_level            0\n",
            "secondary_cleaner.state.floatbank5_b_air              0\n",
            "secondary_cleaner.state.floatbank5_b_level            0\n",
            "secondary_cleaner.state.floatbank6_a_air              0\n",
            "secondary_cleaner.state.floatbank6_a_level            0\n",
            "dtype: int64\n"
          ]
        }
      ],
      "source": [
        "# проверим наличие пропусков после заполнения\n",
        "pd.options.display.max_rows = 100\n",
        "print(data_train.isna().sum())"
      ]
    },
    {
      "cell_type": "markdown",
      "metadata": {
        "id": "eYJB8_JWwhoz"
      },
      "source": [
        "Пропуски заполнены."
      ]
    },
    {
      "cell_type": "markdown",
      "metadata": {
        "id": "8HNZfeifwhoz"
      },
      "source": [
        "### Проверка на наличие явных дубликатов"
      ]
    },
    {
      "cell_type": "code",
      "execution_count": null,
      "metadata": {
        "id": "0qU3SQlTwhoz",
        "outputId": "937ef1a4-22fb-438b-ccec-9190773fdf9c"
      },
      "outputs": [
        {
          "data": {
            "text/plain": [
              "0"
            ]
          },
          "execution_count": 10,
          "metadata": {},
          "output_type": "execute_result"
        }
      ],
      "source": [
        "# узнаем кол-во явных дубликатов\n",
        "data_train.duplicated().sum()"
      ]
    },
    {
      "cell_type": "markdown",
      "metadata": {
        "id": "jBXN12qWwho0"
      },
      "source": [
        "Явные дубликаты в целом, по датасету, отсутствуют."
      ]
    },
    {
      "cell_type": "markdown",
      "metadata": {
        "id": "rQr-WHK5who0"
      },
      "source": [
        "### Удаление нулевых значений концентрации"
      ]
    },
    {
      "cell_type": "code",
      "execution_count": null,
      "metadata": {
        "id": "sMjjgVOtwho0",
        "outputId": "4f703887-ca6c-43bc-9caa-34e255c67ca1"
      },
      "outputs": [
        {
          "data": {
            "text/plain": [
              "date                                                    0\n",
              "final.output.concentrate_ag                            58\n",
              "final.output.concentrate_pb                            58\n",
              "final.output.concentrate_sol                           58\n",
              "final.output.concentrate_au                            58\n",
              "final.output.recovery                                  58\n",
              "final.output.tail_ag                                   75\n",
              "final.output.tail_pb                                   75\n",
              "final.output.tail_sol                                  75\n",
              "final.output.tail_au                                   75\n",
              "primary_cleaner.input.sulfate                           0\n",
              "primary_cleaner.input.depressant                       18\n",
              "primary_cleaner.input.feed_size                         0\n",
              "primary_cleaner.input.xanthate                          0\n",
              "primary_cleaner.output.concentrate_ag                  74\n",
              "primary_cleaner.output.concentrate_pb                  79\n",
              "primary_cleaner.output.concentrate_sol                 80\n",
              "primary_cleaner.output.concentrate_au                  74\n",
              "primary_cleaner.output.tail_ag                         68\n",
              "primary_cleaner.output.tail_pb                         68\n",
              "primary_cleaner.output.tail_sol                        71\n",
              "primary_cleaner.output.tail_au                         68\n",
              "primary_cleaner.state.floatbank8_a_air                  0\n",
              "primary_cleaner.state.floatbank8_a_level                0\n",
              "primary_cleaner.state.floatbank8_b_air                  0\n",
              "primary_cleaner.state.floatbank8_b_level                0\n",
              "primary_cleaner.state.floatbank8_c_air                  0\n",
              "primary_cleaner.state.floatbank8_c_level                0\n",
              "primary_cleaner.state.floatbank8_d_air                  0\n",
              "primary_cleaner.state.floatbank8_d_level                0\n",
              "rougher.calculation.sulfate_to_au_concentrate           0\n",
              "rougher.calculation.floatbank10_sulfate_to_au_feed      0\n",
              "rougher.calculation.floatbank11_sulfate_to_au_feed      0\n",
              "rougher.calculation.au_pb_ratio                         0\n",
              "rougher.input.feed_ag                                   0\n",
              "rougher.input.feed_pb                                   0\n",
              "rougher.input.feed_rate                                 0\n",
              "rougher.input.feed_size                                 0\n",
              "rougher.input.feed_sol                                  0\n",
              "rougher.input.feed_au                                   0\n",
              "rougher.input.floatbank10_sulfate                       0\n",
              "rougher.input.floatbank10_xanthate                      0\n",
              "rougher.input.floatbank11_sulfate                       0\n",
              "rougher.input.floatbank11_xanthate                      0\n",
              "rougher.output.concentrate_ag                         297\n",
              "rougher.output.concentrate_pb                         297\n",
              "rougher.output.concentrate_sol                        300\n",
              "rougher.output.concentrate_au                         297\n",
              "rougher.output.recovery                               297\n",
              "rougher.output.tail_ag                                  0\n",
              "rougher.output.tail_pb                                  0\n",
              "rougher.output.tail_sol                                 0\n",
              "rougher.output.tail_au                                  0\n",
              "rougher.state.floatbank10_a_air                         0\n",
              "rougher.state.floatbank10_a_level                       0\n",
              "rougher.state.floatbank10_b_air                         0\n",
              "rougher.state.floatbank10_b_level                       0\n",
              "rougher.state.floatbank10_c_air                         0\n",
              "rougher.state.floatbank10_c_level                       0\n",
              "rougher.state.floatbank10_d_air                         0\n",
              "rougher.state.floatbank10_d_level                       0\n",
              "rougher.state.floatbank10_e_air                         0\n",
              "rougher.state.floatbank10_e_level                       0\n",
              "rougher.state.floatbank10_f_air                         0\n",
              "rougher.state.floatbank10_f_level                       0\n",
              "secondary_cleaner.output.tail_ag                      739\n",
              "secondary_cleaner.output.tail_pb                      739\n",
              "secondary_cleaner.output.tail_sol                     833\n",
              "secondary_cleaner.output.tail_au                      739\n",
              "secondary_cleaner.state.floatbank2_a_air                0\n",
              "secondary_cleaner.state.floatbank2_a_level              0\n",
              "secondary_cleaner.state.floatbank2_b_air                8\n",
              "secondary_cleaner.state.floatbank2_b_level              0\n",
              "secondary_cleaner.state.floatbank3_a_air                1\n",
              "secondary_cleaner.state.floatbank3_a_level              0\n",
              "secondary_cleaner.state.floatbank3_b_air                1\n",
              "secondary_cleaner.state.floatbank3_b_level              0\n",
              "secondary_cleaner.state.floatbank4_a_air                1\n",
              "secondary_cleaner.state.floatbank4_a_level              0\n",
              "secondary_cleaner.state.floatbank4_b_air                1\n",
              "secondary_cleaner.state.floatbank4_b_level              0\n",
              "secondary_cleaner.state.floatbank5_a_air                0\n",
              "secondary_cleaner.state.floatbank5_a_level              0\n",
              "secondary_cleaner.state.floatbank5_b_air                0\n",
              "secondary_cleaner.state.floatbank5_b_level              0\n",
              "secondary_cleaner.state.floatbank6_a_air                0\n",
              "secondary_cleaner.state.floatbank6_a_level              0\n",
              "dtype: int64"
            ]
          },
          "execution_count": 11,
          "metadata": {},
          "output_type": "execute_result"
        }
      ],
      "source": [
        "# Проверим датасет на наличие нулевых значений.\n",
        "(data_train==0).sum()"
      ]
    },
    {
      "cell_type": "markdown",
      "metadata": {
        "id": "ocRlwuDiwho0"
      },
      "source": [
        "Так как нулевые значения концентрации металлов или хвостов на отдельных этапах очистки выглядят неправдоподобно, а также по причине того, что на ноль делить нельзя (в формуле эффективности, например) принято решение удалить нулевые значения в тренировочном датасете."
      ]
    },
    {
      "cell_type": "markdown",
      "metadata": {
        "id": "ZWLqKJPIwho0"
      },
      "source": [
        "1. Логика удаления нулей в final.output.concentrate_ag, final.output.concentrate_pb, final.output.concentrate_sol, final.output.concentrate_au, final.output.recovery:  \n",
        "наблюдаем, что в тех экспериментах, где финальный концентрат любого вещества равен нулю, финальные концентраты остальных веществ также равняются нулю. Возможно, действительно результат неудачного эксперимента, но, думается, что это выглядит нереалистично, потому что:\n",
        "\n",
        "1.1. Даты таких экспериментов разные и отличаются вплоть до года. Т.е. можно было бы предположить, что в какой-то день по различным, в том числе техническим или методологическим причинам действительно мог случиться сбой (брак) и не получили финальный продукт, но предполагать, что такие сбои происходят больше нескольких раз и их раз за разом допускают, кажется мне маловероятно.  \n",
        "1.2. Исходя из описанного в ТЗ технологического процесса, становится понятно, что черновой концентрат проходит две стадии очистки и на выходе мы получаем более \"чистый\" концентрат золота и хвосты. Опираясь на эту информацию считаю очень маловероятным, что после первой очистки мы получили положительное значение концентрата золота(и других веществ), а после второй очистки показатель уменьшился до нуля.\n",
        "\n",
        "По описанным причинам удаляем нули в в final.output.concentrate_ag, final.output.concentrate_pb, final.output.concentrate_sol, final.output.concentrate_au. Final.output.recovery удаляется вследствии нуля в показателе золота."
      ]
    },
    {
      "cell_type": "code",
      "execution_count": null,
      "metadata": {
        "scrolled": false,
        "id": "rMuaB1KUwho0",
        "outputId": "eb5eab64-b302-4313-eb99-3a83a99e7a4f"
      },
      "outputs": [
        {
          "data": {
            "text/html": [
              "<div>\n",
              "<style scoped>\n",
              "    .dataframe tbody tr th:only-of-type {\n",
              "        vertical-align: middle;\n",
              "    }\n",
              "\n",
              "    .dataframe tbody tr th {\n",
              "        vertical-align: top;\n",
              "    }\n",
              "\n",
              "    .dataframe thead th {\n",
              "        text-align: right;\n",
              "    }\n",
              "</style>\n",
              "<table border=\"1\" class=\"dataframe\">\n",
              "  <thead>\n",
              "    <tr style=\"text-align: right;\">\n",
              "      <th></th>\n",
              "      <th>date</th>\n",
              "      <th>final.output.concentrate_ag</th>\n",
              "      <th>final.output.concentrate_pb</th>\n",
              "      <th>final.output.concentrate_sol</th>\n",
              "      <th>final.output.concentrate_au</th>\n",
              "      <th>final.output.recovery</th>\n",
              "      <th>final.output.tail_ag</th>\n",
              "      <th>final.output.tail_pb</th>\n",
              "      <th>final.output.tail_sol</th>\n",
              "      <th>final.output.tail_au</th>\n",
              "      <th>primary_cleaner.input.sulfate</th>\n",
              "      <th>primary_cleaner.input.depressant</th>\n",
              "      <th>primary_cleaner.input.feed_size</th>\n",
              "      <th>primary_cleaner.input.xanthate</th>\n",
              "      <th>primary_cleaner.output.concentrate_ag</th>\n",
              "      <th>primary_cleaner.output.concentrate_pb</th>\n",
              "      <th>primary_cleaner.output.concentrate_sol</th>\n",
              "      <th>primary_cleaner.output.concentrate_au</th>\n",
              "      <th>primary_cleaner.output.tail_ag</th>\n",
              "      <th>primary_cleaner.output.tail_pb</th>\n",
              "      <th>primary_cleaner.output.tail_sol</th>\n",
              "      <th>primary_cleaner.output.tail_au</th>\n",
              "      <th>primary_cleaner.state.floatbank8_a_air</th>\n",
              "      <th>primary_cleaner.state.floatbank8_a_level</th>\n",
              "      <th>primary_cleaner.state.floatbank8_b_air</th>\n",
              "      <th>primary_cleaner.state.floatbank8_b_level</th>\n",
              "      <th>primary_cleaner.state.floatbank8_c_air</th>\n",
              "      <th>primary_cleaner.state.floatbank8_c_level</th>\n",
              "      <th>primary_cleaner.state.floatbank8_d_air</th>\n",
              "      <th>primary_cleaner.state.floatbank8_d_level</th>\n",
              "      <th>rougher.calculation.sulfate_to_au_concentrate</th>\n",
              "      <th>rougher.calculation.floatbank10_sulfate_to_au_feed</th>\n",
              "      <th>rougher.calculation.floatbank11_sulfate_to_au_feed</th>\n",
              "      <th>rougher.calculation.au_pb_ratio</th>\n",
              "      <th>rougher.input.feed_ag</th>\n",
              "      <th>rougher.input.feed_pb</th>\n",
              "      <th>rougher.input.feed_rate</th>\n",
              "      <th>rougher.input.feed_size</th>\n",
              "      <th>rougher.input.feed_sol</th>\n",
              "      <th>rougher.input.feed_au</th>\n",
              "      <th>rougher.input.floatbank10_sulfate</th>\n",
              "      <th>rougher.input.floatbank10_xanthate</th>\n",
              "      <th>rougher.input.floatbank11_sulfate</th>\n",
              "      <th>rougher.input.floatbank11_xanthate</th>\n",
              "      <th>rougher.output.concentrate_ag</th>\n",
              "      <th>rougher.output.concentrate_pb</th>\n",
              "      <th>rougher.output.concentrate_sol</th>\n",
              "      <th>rougher.output.concentrate_au</th>\n",
              "      <th>rougher.output.recovery</th>\n",
              "      <th>rougher.output.tail_ag</th>\n",
              "      <th>rougher.output.tail_pb</th>\n",
              "      <th>rougher.output.tail_sol</th>\n",
              "      <th>rougher.output.tail_au</th>\n",
              "      <th>rougher.state.floatbank10_a_air</th>\n",
              "      <th>rougher.state.floatbank10_a_level</th>\n",
              "      <th>rougher.state.floatbank10_b_air</th>\n",
              "      <th>rougher.state.floatbank10_b_level</th>\n",
              "      <th>rougher.state.floatbank10_c_air</th>\n",
              "      <th>rougher.state.floatbank10_c_level</th>\n",
              "      <th>rougher.state.floatbank10_d_air</th>\n",
              "      <th>rougher.state.floatbank10_d_level</th>\n",
              "      <th>rougher.state.floatbank10_e_air</th>\n",
              "      <th>rougher.state.floatbank10_e_level</th>\n",
              "      <th>rougher.state.floatbank10_f_air</th>\n",
              "      <th>rougher.state.floatbank10_f_level</th>\n",
              "      <th>secondary_cleaner.output.tail_ag</th>\n",
              "      <th>secondary_cleaner.output.tail_pb</th>\n",
              "      <th>secondary_cleaner.output.tail_sol</th>\n",
              "      <th>secondary_cleaner.output.tail_au</th>\n",
              "      <th>secondary_cleaner.state.floatbank2_a_air</th>\n",
              "      <th>secondary_cleaner.state.floatbank2_a_level</th>\n",
              "      <th>secondary_cleaner.state.floatbank2_b_air</th>\n",
              "      <th>secondary_cleaner.state.floatbank2_b_level</th>\n",
              "      <th>secondary_cleaner.state.floatbank3_a_air</th>\n",
              "      <th>secondary_cleaner.state.floatbank3_a_level</th>\n",
              "      <th>secondary_cleaner.state.floatbank3_b_air</th>\n",
              "      <th>secondary_cleaner.state.floatbank3_b_level</th>\n",
              "      <th>secondary_cleaner.state.floatbank4_a_air</th>\n",
              "      <th>secondary_cleaner.state.floatbank4_a_level</th>\n",
              "      <th>secondary_cleaner.state.floatbank4_b_air</th>\n",
              "      <th>secondary_cleaner.state.floatbank4_b_level</th>\n",
              "      <th>secondary_cleaner.state.floatbank5_a_air</th>\n",
              "      <th>secondary_cleaner.state.floatbank5_a_level</th>\n",
              "      <th>secondary_cleaner.state.floatbank5_b_air</th>\n",
              "      <th>secondary_cleaner.state.floatbank5_b_level</th>\n",
              "      <th>secondary_cleaner.state.floatbank6_a_air</th>\n",
              "      <th>secondary_cleaner.state.floatbank6_a_level</th>\n",
              "    </tr>\n",
              "  </thead>\n",
              "  <tbody>\n",
              "    <tr>\n",
              "      <th>644</th>\n",
              "      <td>2016-02-13 11:00:00</td>\n",
              "      <td>0.0</td>\n",
              "      <td>0.0</td>\n",
              "      <td>0.0</td>\n",
              "      <td>0.0</td>\n",
              "      <td>0.0</td>\n",
              "      <td>8.894029</td>\n",
              "      <td>0.843584</td>\n",
              "      <td>15.417342</td>\n",
              "      <td>1.779052</td>\n",
              "      <td>133.610147</td>\n",
              "      <td>14.032789</td>\n",
              "      <td>7.32</td>\n",
              "      <td>1.550190</td>\n",
              "      <td>8.986696</td>\n",
              "      <td>6.530607</td>\n",
              "      <td>11.969464</td>\n",
              "      <td>26.238846</td>\n",
              "      <td>13.854131</td>\n",
              "      <td>2.156414</td>\n",
              "      <td>8.174442</td>\n",
              "      <td>1.965728</td>\n",
              "      <td>1800.648807</td>\n",
              "      <td>-349.517991</td>\n",
              "      <td>1799.347332</td>\n",
              "      <td>-350.925554</td>\n",
              "      <td>1798.833149</td>\n",
              "      <td>-349.609813</td>\n",
              "      <td>1456.714168</td>\n",
              "      <td>-350.518404</td>\n",
              "      <td>45778.313924</td>\n",
              "      <td>2952.203313</td>\n",
              "      <td>2943.136954</td>\n",
              "      <td>2.894754</td>\n",
              "      <td>7.407737</td>\n",
              "      <td>1.934178</td>\n",
              "      <td>500.087438</td>\n",
              "      <td>51.965198</td>\n",
              "      <td>31.762853</td>\n",
              "      <td>5.598971</td>\n",
              "      <td>10.251319</td>\n",
              "      <td>6.620908</td>\n",
              "      <td>10.259054</td>\n",
              "      <td>6.620118</td>\n",
              "      <td>11.803589</td>\n",
              "      <td>7.143475</td>\n",
              "      <td>21.692525</td>\n",
              "      <td>15.935190</td>\n",
              "      <td>68.960993</td>\n",
              "      <td>5.114923</td>\n",
              "      <td>0.925673</td>\n",
              "      <td>20.699912</td>\n",
              "      <td>2.293607</td>\n",
              "      <td>999.884600</td>\n",
              "      <td>-499.972731</td>\n",
              "      <td>1499.290173</td>\n",
              "      <td>-399.546180</td>\n",
              "      <td>1499.161769</td>\n",
              "      <td>-398.630471</td>\n",
              "      <td>1499.040323</td>\n",
              "      <td>-399.389036</td>\n",
              "      <td>1501.877151</td>\n",
              "      <td>-397.227473</td>\n",
              "      <td>1501.061312</td>\n",
              "      <td>-400.602849</td>\n",
              "      <td>11.838086</td>\n",
              "      <td>3.905472</td>\n",
              "      <td>10.651508</td>\n",
              "      <td>2.283842</td>\n",
              "      <td>32.054894</td>\n",
              "      <td>-400.832639</td>\n",
              "      <td>30.998499</td>\n",
              "      <td>-401.051170</td>\n",
              "      <td>30.900779</td>\n",
              "      <td>-400.953348</td>\n",
              "      <td>29.003189</td>\n",
              "      <td>-401.031397</td>\n",
              "      <td>21.991762</td>\n",
              "      <td>-399.587122</td>\n",
              "      <td>21.988937</td>\n",
              "      <td>-401.366408</td>\n",
              "      <td>22.995012</td>\n",
              "      <td>-399.370680</td>\n",
              "      <td>20.966863</td>\n",
              "      <td>-399.308354</td>\n",
              "      <td>24.987274</td>\n",
              "      <td>-399.619808</td>\n",
              "    </tr>\n",
              "    <tr>\n",
              "      <th>1193</th>\n",
              "      <td>2016-03-11 10:00:00</td>\n",
              "      <td>0.0</td>\n",
              "      <td>0.0</td>\n",
              "      <td>0.0</td>\n",
              "      <td>0.0</td>\n",
              "      <td>0.0</td>\n",
              "      <td>10.817313</td>\n",
              "      <td>1.462800</td>\n",
              "      <td>16.407607</td>\n",
              "      <td>2.984504</td>\n",
              "      <td>111.502432</td>\n",
              "      <td>11.927825</td>\n",
              "      <td>7.79</td>\n",
              "      <td>0.992436</td>\n",
              "      <td>8.701237</td>\n",
              "      <td>7.234158</td>\n",
              "      <td>10.754321</td>\n",
              "      <td>34.564456</td>\n",
              "      <td>13.665507</td>\n",
              "      <td>2.569557</td>\n",
              "      <td>9.186415</td>\n",
              "      <td>4.009465</td>\n",
              "      <td>1600.246853</td>\n",
              "      <td>-402.167837</td>\n",
              "      <td>1601.734558</td>\n",
              "      <td>-398.906828</td>\n",
              "      <td>1595.110867</td>\n",
              "      <td>-401.693888</td>\n",
              "      <td>627.591922</td>\n",
              "      <td>-398.868839</td>\n",
              "      <td>32559.326343</td>\n",
              "      <td>2098.775030</td>\n",
              "      <td>2097.794484</td>\n",
              "      <td>3.007789</td>\n",
              "      <td>8.098125</td>\n",
              "      <td>2.588661</td>\n",
              "      <td>502.314489</td>\n",
              "      <td>49.985298</td>\n",
              "      <td>34.896012</td>\n",
              "      <td>7.786147</td>\n",
              "      <td>8.842907</td>\n",
              "      <td>7.265263</td>\n",
              "      <td>8.842783</td>\n",
              "      <td>7.269218</td>\n",
              "      <td>10.640168</td>\n",
              "      <td>7.565854</td>\n",
              "      <td>24.793448</td>\n",
              "      <td>18.682162</td>\n",
              "      <td>82.787322</td>\n",
              "      <td>6.102604</td>\n",
              "      <td>0.788412</td>\n",
              "      <td>21.096415</td>\n",
              "      <td>2.046213</td>\n",
              "      <td>1000.621368</td>\n",
              "      <td>-499.594073</td>\n",
              "      <td>1500.980640</td>\n",
              "      <td>-499.669103</td>\n",
              "      <td>1501.032313</td>\n",
              "      <td>-500.950129</td>\n",
              "      <td>1498.673085</td>\n",
              "      <td>-501.877154</td>\n",
              "      <td>1297.623855</td>\n",
              "      <td>-501.776602</td>\n",
              "      <td>1197.469227</td>\n",
              "      <td>-500.648180</td>\n",
              "      <td>11.644152</td>\n",
              "      <td>4.028016</td>\n",
              "      <td>11.880836</td>\n",
              "      <td>3.627020</td>\n",
              "      <td>30.029055</td>\n",
              "      <td>-449.465681</td>\n",
              "      <td>28.042141</td>\n",
              "      <td>-450.180346</td>\n",
              "      <td>27.039535</td>\n",
              "      <td>-449.388889</td>\n",
              "      <td>24.884122</td>\n",
              "      <td>-449.365144</td>\n",
              "      <td>11.979352</td>\n",
              "      <td>-453.431061</td>\n",
              "      <td>12.003445</td>\n",
              "      <td>-450.179844</td>\n",
              "      <td>11.982937</td>\n",
              "      <td>-449.856468</td>\n",
              "      <td>9.927727</td>\n",
              "      <td>-450.521700</td>\n",
              "      <td>19.971682</td>\n",
              "      <td>-500.685521</td>\n",
              "    </tr>\n",
              "    <tr>\n",
              "      <th>1194</th>\n",
              "      <td>2016-03-11 11:00:00</td>\n",
              "      <td>0.0</td>\n",
              "      <td>0.0</td>\n",
              "      <td>0.0</td>\n",
              "      <td>0.0</td>\n",
              "      <td>0.0</td>\n",
              "      <td>10.436792</td>\n",
              "      <td>1.207636</td>\n",
              "      <td>17.800392</td>\n",
              "      <td>2.747294</td>\n",
              "      <td>110.586754</td>\n",
              "      <td>12.018310</td>\n",
              "      <td>7.79</td>\n",
              "      <td>1.000046</td>\n",
              "      <td>8.697952</td>\n",
              "      <td>7.119325</td>\n",
              "      <td>10.194141</td>\n",
              "      <td>34.399450</td>\n",
              "      <td>13.008128</td>\n",
              "      <td>2.295769</td>\n",
              "      <td>9.822700</td>\n",
              "      <td>3.611843</td>\n",
              "      <td>1599.492169</td>\n",
              "      <td>-399.712307</td>\n",
              "      <td>1600.069554</td>\n",
              "      <td>-400.566751</td>\n",
              "      <td>1597.600427</td>\n",
              "      <td>-400.355176</td>\n",
              "      <td>620.987030</td>\n",
              "      <td>-400.064647</td>\n",
              "      <td>32534.407535</td>\n",
              "      <td>2102.119757</td>\n",
              "      <td>2101.265127</td>\n",
              "      <td>3.079615</td>\n",
              "      <td>7.832467</td>\n",
              "      <td>2.435125</td>\n",
              "      <td>501.677628</td>\n",
              "      <td>48.845911</td>\n",
              "      <td>34.196525</td>\n",
              "      <td>7.499248</td>\n",
              "      <td>8.501246</td>\n",
              "      <td>6.989404</td>\n",
              "      <td>8.511888</td>\n",
              "      <td>6.982774</td>\n",
              "      <td>10.415491</td>\n",
              "      <td>7.367937</td>\n",
              "      <td>24.200400</td>\n",
              "      <td>18.231121</td>\n",
              "      <td>83.515262</td>\n",
              "      <td>6.016604</td>\n",
              "      <td>0.695116</td>\n",
              "      <td>20.893637</td>\n",
              "      <td>1.883162</td>\n",
              "      <td>999.826851</td>\n",
              "      <td>-500.323676</td>\n",
              "      <td>1500.315649</td>\n",
              "      <td>-499.482887</td>\n",
              "      <td>1498.075323</td>\n",
              "      <td>-499.213575</td>\n",
              "      <td>1501.362418</td>\n",
              "      <td>-500.711943</td>\n",
              "      <td>1300.513265</td>\n",
              "      <td>-499.835501</td>\n",
              "      <td>1200.145997</td>\n",
              "      <td>-498.002888</td>\n",
              "      <td>11.344059</td>\n",
              "      <td>3.795803</td>\n",
              "      <td>11.783571</td>\n",
              "      <td>3.462723</td>\n",
              "      <td>29.995514</td>\n",
              "      <td>-446.314649</td>\n",
              "      <td>27.944098</td>\n",
              "      <td>-449.314545</td>\n",
              "      <td>27.022681</td>\n",
              "      <td>-412.624177</td>\n",
              "      <td>25.010402</td>\n",
              "      <td>-421.023904</td>\n",
              "      <td>12.034636</td>\n",
              "      <td>-446.590944</td>\n",
              "      <td>12.130405</td>\n",
              "      <td>-449.684812</td>\n",
              "      <td>11.844983</td>\n",
              "      <td>-450.881424</td>\n",
              "      <td>9.916784</td>\n",
              "      <td>-449.542871</td>\n",
              "      <td>20.004767</td>\n",
              "      <td>-500.137068</td>\n",
              "    </tr>\n",
              "  </tbody>\n",
              "</table>\n",
              "</div>"
            ],
            "text/plain": [
              "                     date  final.output.concentrate_ag  \\\n",
              "644   2016-02-13 11:00:00                          0.0   \n",
              "1193  2016-03-11 10:00:00                          0.0   \n",
              "1194  2016-03-11 11:00:00                          0.0   \n",
              "\n",
              "      final.output.concentrate_pb  final.output.concentrate_sol  \\\n",
              "644                           0.0                           0.0   \n",
              "1193                          0.0                           0.0   \n",
              "1194                          0.0                           0.0   \n",
              "\n",
              "      final.output.concentrate_au  final.output.recovery  \\\n",
              "644                           0.0                    0.0   \n",
              "1193                          0.0                    0.0   \n",
              "1194                          0.0                    0.0   \n",
              "\n",
              "      final.output.tail_ag  final.output.tail_pb  final.output.tail_sol  \\\n",
              "644               8.894029              0.843584              15.417342   \n",
              "1193             10.817313              1.462800              16.407607   \n",
              "1194             10.436792              1.207636              17.800392   \n",
              "\n",
              "      final.output.tail_au  primary_cleaner.input.sulfate  \\\n",
              "644               1.779052                     133.610147   \n",
              "1193              2.984504                     111.502432   \n",
              "1194              2.747294                     110.586754   \n",
              "\n",
              "      primary_cleaner.input.depressant  primary_cleaner.input.feed_size  \\\n",
              "644                          14.032789                             7.32   \n",
              "1193                         11.927825                             7.79   \n",
              "1194                         12.018310                             7.79   \n",
              "\n",
              "      primary_cleaner.input.xanthate  primary_cleaner.output.concentrate_ag  \\\n",
              "644                         1.550190                               8.986696   \n",
              "1193                        0.992436                               8.701237   \n",
              "1194                        1.000046                               8.697952   \n",
              "\n",
              "      primary_cleaner.output.concentrate_pb  \\\n",
              "644                                6.530607   \n",
              "1193                               7.234158   \n",
              "1194                               7.119325   \n",
              "\n",
              "      primary_cleaner.output.concentrate_sol  \\\n",
              "644                                11.969464   \n",
              "1193                               10.754321   \n",
              "1194                               10.194141   \n",
              "\n",
              "      primary_cleaner.output.concentrate_au  primary_cleaner.output.tail_ag  \\\n",
              "644                               26.238846                       13.854131   \n",
              "1193                              34.564456                       13.665507   \n",
              "1194                              34.399450                       13.008128   \n",
              "\n",
              "      primary_cleaner.output.tail_pb  primary_cleaner.output.tail_sol  \\\n",
              "644                         2.156414                         8.174442   \n",
              "1193                        2.569557                         9.186415   \n",
              "1194                        2.295769                         9.822700   \n",
              "\n",
              "      primary_cleaner.output.tail_au  primary_cleaner.state.floatbank8_a_air  \\\n",
              "644                         1.965728                             1800.648807   \n",
              "1193                        4.009465                             1600.246853   \n",
              "1194                        3.611843                             1599.492169   \n",
              "\n",
              "      primary_cleaner.state.floatbank8_a_level  \\\n",
              "644                                -349.517991   \n",
              "1193                               -402.167837   \n",
              "1194                               -399.712307   \n",
              "\n",
              "      primary_cleaner.state.floatbank8_b_air  \\\n",
              "644                              1799.347332   \n",
              "1193                             1601.734558   \n",
              "1194                             1600.069554   \n",
              "\n",
              "      primary_cleaner.state.floatbank8_b_level  \\\n",
              "644                                -350.925554   \n",
              "1193                               -398.906828   \n",
              "1194                               -400.566751   \n",
              "\n",
              "      primary_cleaner.state.floatbank8_c_air  \\\n",
              "644                              1798.833149   \n",
              "1193                             1595.110867   \n",
              "1194                             1597.600427   \n",
              "\n",
              "      primary_cleaner.state.floatbank8_c_level  \\\n",
              "644                                -349.609813   \n",
              "1193                               -401.693888   \n",
              "1194                               -400.355176   \n",
              "\n",
              "      primary_cleaner.state.floatbank8_d_air  \\\n",
              "644                              1456.714168   \n",
              "1193                              627.591922   \n",
              "1194                              620.987030   \n",
              "\n",
              "      primary_cleaner.state.floatbank8_d_level  \\\n",
              "644                                -350.518404   \n",
              "1193                               -398.868839   \n",
              "1194                               -400.064647   \n",
              "\n",
              "      rougher.calculation.sulfate_to_au_concentrate  \\\n",
              "644                                    45778.313924   \n",
              "1193                                   32559.326343   \n",
              "1194                                   32534.407535   \n",
              "\n",
              "      rougher.calculation.floatbank10_sulfate_to_au_feed  \\\n",
              "644                                         2952.203313    \n",
              "1193                                        2098.775030    \n",
              "1194                                        2102.119757    \n",
              "\n",
              "      rougher.calculation.floatbank11_sulfate_to_au_feed  \\\n",
              "644                                         2943.136954    \n",
              "1193                                        2097.794484    \n",
              "1194                                        2101.265127    \n",
              "\n",
              "      rougher.calculation.au_pb_ratio  rougher.input.feed_ag  \\\n",
              "644                          2.894754               7.407737   \n",
              "1193                         3.007789               8.098125   \n",
              "1194                         3.079615               7.832467   \n",
              "\n",
              "      rougher.input.feed_pb  rougher.input.feed_rate  rougher.input.feed_size  \\\n",
              "644                1.934178               500.087438                51.965198   \n",
              "1193               2.588661               502.314489                49.985298   \n",
              "1194               2.435125               501.677628                48.845911   \n",
              "\n",
              "      rougher.input.feed_sol  rougher.input.feed_au  \\\n",
              "644                31.762853               5.598971   \n",
              "1193               34.896012               7.786147   \n",
              "1194               34.196525               7.499248   \n",
              "\n",
              "      rougher.input.floatbank10_sulfate  rougher.input.floatbank10_xanthate  \\\n",
              "644                           10.251319                            6.620908   \n",
              "1193                           8.842907                            7.265263   \n",
              "1194                           8.501246                            6.989404   \n",
              "\n",
              "      rougher.input.floatbank11_sulfate  rougher.input.floatbank11_xanthate  \\\n",
              "644                           10.259054                            6.620118   \n",
              "1193                           8.842783                            7.269218   \n",
              "1194                           8.511888                            6.982774   \n",
              "\n",
              "      rougher.output.concentrate_ag  rougher.output.concentrate_pb  \\\n",
              "644                       11.803589                       7.143475   \n",
              "1193                      10.640168                       7.565854   \n",
              "1194                      10.415491                       7.367937   \n",
              "\n",
              "      rougher.output.concentrate_sol  rougher.output.concentrate_au  \\\n",
              "644                        21.692525                      15.935190   \n",
              "1193                       24.793448                      18.682162   \n",
              "1194                       24.200400                      18.231121   \n",
              "\n",
              "      rougher.output.recovery  rougher.output.tail_ag  rougher.output.tail_pb  \\\n",
              "644                 68.960993                5.114923                0.925673   \n",
              "1193                82.787322                6.102604                0.788412   \n",
              "1194                83.515262                6.016604                0.695116   \n",
              "\n",
              "      rougher.output.tail_sol  rougher.output.tail_au  \\\n",
              "644                 20.699912                2.293607   \n",
              "1193                21.096415                2.046213   \n",
              "1194                20.893637                1.883162   \n",
              "\n",
              "      rougher.state.floatbank10_a_air  rougher.state.floatbank10_a_level  \\\n",
              "644                        999.884600                        -499.972731   \n",
              "1193                      1000.621368                        -499.594073   \n",
              "1194                       999.826851                        -500.323676   \n",
              "\n",
              "      rougher.state.floatbank10_b_air  rougher.state.floatbank10_b_level  \\\n",
              "644                       1499.290173                        -399.546180   \n",
              "1193                      1500.980640                        -499.669103   \n",
              "1194                      1500.315649                        -499.482887   \n",
              "\n",
              "      rougher.state.floatbank10_c_air  rougher.state.floatbank10_c_level  \\\n",
              "644                       1499.161769                        -398.630471   \n",
              "1193                      1501.032313                        -500.950129   \n",
              "1194                      1498.075323                        -499.213575   \n",
              "\n",
              "      rougher.state.floatbank10_d_air  rougher.state.floatbank10_d_level  \\\n",
              "644                       1499.040323                        -399.389036   \n",
              "1193                      1498.673085                        -501.877154   \n",
              "1194                      1501.362418                        -500.711943   \n",
              "\n",
              "      rougher.state.floatbank10_e_air  rougher.state.floatbank10_e_level  \\\n",
              "644                       1501.877151                        -397.227473   \n",
              "1193                      1297.623855                        -501.776602   \n",
              "1194                      1300.513265                        -499.835501   \n",
              "\n",
              "      rougher.state.floatbank10_f_air  rougher.state.floatbank10_f_level  \\\n",
              "644                       1501.061312                        -400.602849   \n",
              "1193                      1197.469227                        -500.648180   \n",
              "1194                      1200.145997                        -498.002888   \n",
              "\n",
              "      secondary_cleaner.output.tail_ag  secondary_cleaner.output.tail_pb  \\\n",
              "644                          11.838086                          3.905472   \n",
              "1193                         11.644152                          4.028016   \n",
              "1194                         11.344059                          3.795803   \n",
              "\n",
              "      secondary_cleaner.output.tail_sol  secondary_cleaner.output.tail_au  \\\n",
              "644                           10.651508                          2.283842   \n",
              "1193                          11.880836                          3.627020   \n",
              "1194                          11.783571                          3.462723   \n",
              "\n",
              "      secondary_cleaner.state.floatbank2_a_air  \\\n",
              "644                                  32.054894   \n",
              "1193                                 30.029055   \n",
              "1194                                 29.995514   \n",
              "\n",
              "      secondary_cleaner.state.floatbank2_a_level  \\\n",
              "644                                  -400.832639   \n",
              "1193                                 -449.465681   \n",
              "1194                                 -446.314649   \n",
              "\n",
              "      secondary_cleaner.state.floatbank2_b_air  \\\n",
              "644                                  30.998499   \n",
              "1193                                 28.042141   \n",
              "1194                                 27.944098   \n",
              "\n",
              "      secondary_cleaner.state.floatbank2_b_level  \\\n",
              "644                                  -401.051170   \n",
              "1193                                 -450.180346   \n",
              "1194                                 -449.314545   \n",
              "\n",
              "      secondary_cleaner.state.floatbank3_a_air  \\\n",
              "644                                  30.900779   \n",
              "1193                                 27.039535   \n",
              "1194                                 27.022681   \n",
              "\n",
              "      secondary_cleaner.state.floatbank3_a_level  \\\n",
              "644                                  -400.953348   \n",
              "1193                                 -449.388889   \n",
              "1194                                 -412.624177   \n",
              "\n",
              "      secondary_cleaner.state.floatbank3_b_air  \\\n",
              "644                                  29.003189   \n",
              "1193                                 24.884122   \n",
              "1194                                 25.010402   \n",
              "\n",
              "      secondary_cleaner.state.floatbank3_b_level  \\\n",
              "644                                  -401.031397   \n",
              "1193                                 -449.365144   \n",
              "1194                                 -421.023904   \n",
              "\n",
              "      secondary_cleaner.state.floatbank4_a_air  \\\n",
              "644                                  21.991762   \n",
              "1193                                 11.979352   \n",
              "1194                                 12.034636   \n",
              "\n",
              "      secondary_cleaner.state.floatbank4_a_level  \\\n",
              "644                                  -399.587122   \n",
              "1193                                 -453.431061   \n",
              "1194                                 -446.590944   \n",
              "\n",
              "      secondary_cleaner.state.floatbank4_b_air  \\\n",
              "644                                  21.988937   \n",
              "1193                                 12.003445   \n",
              "1194                                 12.130405   \n",
              "\n",
              "      secondary_cleaner.state.floatbank4_b_level  \\\n",
              "644                                  -401.366408   \n",
              "1193                                 -450.179844   \n",
              "1194                                 -449.684812   \n",
              "\n",
              "      secondary_cleaner.state.floatbank5_a_air  \\\n",
              "644                                  22.995012   \n",
              "1193                                 11.982937   \n",
              "1194                                 11.844983   \n",
              "\n",
              "      secondary_cleaner.state.floatbank5_a_level  \\\n",
              "644                                  -399.370680   \n",
              "1193                                 -449.856468   \n",
              "1194                                 -450.881424   \n",
              "\n",
              "      secondary_cleaner.state.floatbank5_b_air  \\\n",
              "644                                  20.966863   \n",
              "1193                                  9.927727   \n",
              "1194                                  9.916784   \n",
              "\n",
              "      secondary_cleaner.state.floatbank5_b_level  \\\n",
              "644                                  -399.308354   \n",
              "1193                                 -450.521700   \n",
              "1194                                 -449.542871   \n",
              "\n",
              "      secondary_cleaner.state.floatbank6_a_air  \\\n",
              "644                                  24.987274   \n",
              "1193                                 19.971682   \n",
              "1194                                 20.004767   \n",
              "\n",
              "      secondary_cleaner.state.floatbank6_a_level  \n",
              "644                                  -399.619808  \n",
              "1193                                 -500.685521  \n",
              "1194                                 -500.137068  "
            ]
          },
          "execution_count": 12,
          "metadata": {},
          "output_type": "execute_result"
        }
      ],
      "source": [
        "data_train.loc[data_train['final.output.concentrate_ag']==0].head(3)"
      ]
    },
    {
      "cell_type": "markdown",
      "metadata": {
        "id": "wL6fWtgPwho1"
      },
      "source": [
        "2. обоснование удаления нулей в final.output.tail_ag, final.output.tail_pb, final.output.tail_sol, final.output.tail_au.\n",
        "\n",
        "2.1. Присутсвуют положительные значения хвостов после флотации, после первой и второй очистки  \n",
        "2.2. Присутствуют положительные значения финальных концентратов и концентратов после первой очистки. В технологическом процессе четко сказано, что после очистки получаем как новый концентрат, так и новые хвосты.\n",
        "\n",
        "По данным причинам удаляем нулевые значения в вышеупомянутых хвостах."
      ]
    },
    {
      "cell_type": "code",
      "execution_count": null,
      "metadata": {
        "scrolled": false,
        "id": "y7xOn0YYwho1",
        "outputId": "b42dfe1f-7207-4033-d2cc-c979d841b935"
      },
      "outputs": [
        {
          "data": {
            "text/html": [
              "<div>\n",
              "<style scoped>\n",
              "    .dataframe tbody tr th:only-of-type {\n",
              "        vertical-align: middle;\n",
              "    }\n",
              "\n",
              "    .dataframe tbody tr th {\n",
              "        vertical-align: top;\n",
              "    }\n",
              "\n",
              "    .dataframe thead th {\n",
              "        text-align: right;\n",
              "    }\n",
              "</style>\n",
              "<table border=\"1\" class=\"dataframe\">\n",
              "  <thead>\n",
              "    <tr style=\"text-align: right;\">\n",
              "      <th></th>\n",
              "      <th>date</th>\n",
              "      <th>final.output.concentrate_ag</th>\n",
              "      <th>final.output.concentrate_pb</th>\n",
              "      <th>final.output.concentrate_sol</th>\n",
              "      <th>final.output.concentrate_au</th>\n",
              "      <th>final.output.recovery</th>\n",
              "      <th>final.output.tail_ag</th>\n",
              "      <th>final.output.tail_pb</th>\n",
              "      <th>final.output.tail_sol</th>\n",
              "      <th>final.output.tail_au</th>\n",
              "      <th>primary_cleaner.input.sulfate</th>\n",
              "      <th>primary_cleaner.input.depressant</th>\n",
              "      <th>primary_cleaner.input.feed_size</th>\n",
              "      <th>primary_cleaner.input.xanthate</th>\n",
              "      <th>primary_cleaner.output.concentrate_ag</th>\n",
              "      <th>primary_cleaner.output.concentrate_pb</th>\n",
              "      <th>primary_cleaner.output.concentrate_sol</th>\n",
              "      <th>primary_cleaner.output.concentrate_au</th>\n",
              "      <th>primary_cleaner.output.tail_ag</th>\n",
              "      <th>primary_cleaner.output.tail_pb</th>\n",
              "      <th>primary_cleaner.output.tail_sol</th>\n",
              "      <th>primary_cleaner.output.tail_au</th>\n",
              "      <th>primary_cleaner.state.floatbank8_a_air</th>\n",
              "      <th>primary_cleaner.state.floatbank8_a_level</th>\n",
              "      <th>primary_cleaner.state.floatbank8_b_air</th>\n",
              "      <th>primary_cleaner.state.floatbank8_b_level</th>\n",
              "      <th>primary_cleaner.state.floatbank8_c_air</th>\n",
              "      <th>primary_cleaner.state.floatbank8_c_level</th>\n",
              "      <th>primary_cleaner.state.floatbank8_d_air</th>\n",
              "      <th>primary_cleaner.state.floatbank8_d_level</th>\n",
              "      <th>rougher.calculation.sulfate_to_au_concentrate</th>\n",
              "      <th>rougher.calculation.floatbank10_sulfate_to_au_feed</th>\n",
              "      <th>rougher.calculation.floatbank11_sulfate_to_au_feed</th>\n",
              "      <th>rougher.calculation.au_pb_ratio</th>\n",
              "      <th>rougher.input.feed_ag</th>\n",
              "      <th>rougher.input.feed_pb</th>\n",
              "      <th>rougher.input.feed_rate</th>\n",
              "      <th>rougher.input.feed_size</th>\n",
              "      <th>rougher.input.feed_sol</th>\n",
              "      <th>rougher.input.feed_au</th>\n",
              "      <th>rougher.input.floatbank10_sulfate</th>\n",
              "      <th>rougher.input.floatbank10_xanthate</th>\n",
              "      <th>rougher.input.floatbank11_sulfate</th>\n",
              "      <th>rougher.input.floatbank11_xanthate</th>\n",
              "      <th>rougher.output.concentrate_ag</th>\n",
              "      <th>rougher.output.concentrate_pb</th>\n",
              "      <th>rougher.output.concentrate_sol</th>\n",
              "      <th>rougher.output.concentrate_au</th>\n",
              "      <th>rougher.output.recovery</th>\n",
              "      <th>rougher.output.tail_ag</th>\n",
              "      <th>rougher.output.tail_pb</th>\n",
              "      <th>rougher.output.tail_sol</th>\n",
              "      <th>rougher.output.tail_au</th>\n",
              "      <th>rougher.state.floatbank10_a_air</th>\n",
              "      <th>rougher.state.floatbank10_a_level</th>\n",
              "      <th>rougher.state.floatbank10_b_air</th>\n",
              "      <th>rougher.state.floatbank10_b_level</th>\n",
              "      <th>rougher.state.floatbank10_c_air</th>\n",
              "      <th>rougher.state.floatbank10_c_level</th>\n",
              "      <th>rougher.state.floatbank10_d_air</th>\n",
              "      <th>rougher.state.floatbank10_d_level</th>\n",
              "      <th>rougher.state.floatbank10_e_air</th>\n",
              "      <th>rougher.state.floatbank10_e_level</th>\n",
              "      <th>rougher.state.floatbank10_f_air</th>\n",
              "      <th>rougher.state.floatbank10_f_level</th>\n",
              "      <th>secondary_cleaner.output.tail_ag</th>\n",
              "      <th>secondary_cleaner.output.tail_pb</th>\n",
              "      <th>secondary_cleaner.output.tail_sol</th>\n",
              "      <th>secondary_cleaner.output.tail_au</th>\n",
              "      <th>secondary_cleaner.state.floatbank2_a_air</th>\n",
              "      <th>secondary_cleaner.state.floatbank2_a_level</th>\n",
              "      <th>secondary_cleaner.state.floatbank2_b_air</th>\n",
              "      <th>secondary_cleaner.state.floatbank2_b_level</th>\n",
              "      <th>secondary_cleaner.state.floatbank3_a_air</th>\n",
              "      <th>secondary_cleaner.state.floatbank3_a_level</th>\n",
              "      <th>secondary_cleaner.state.floatbank3_b_air</th>\n",
              "      <th>secondary_cleaner.state.floatbank3_b_level</th>\n",
              "      <th>secondary_cleaner.state.floatbank4_a_air</th>\n",
              "      <th>secondary_cleaner.state.floatbank4_a_level</th>\n",
              "      <th>secondary_cleaner.state.floatbank4_b_air</th>\n",
              "      <th>secondary_cleaner.state.floatbank4_b_level</th>\n",
              "      <th>secondary_cleaner.state.floatbank5_a_air</th>\n",
              "      <th>secondary_cleaner.state.floatbank5_a_level</th>\n",
              "      <th>secondary_cleaner.state.floatbank5_b_air</th>\n",
              "      <th>secondary_cleaner.state.floatbank5_b_level</th>\n",
              "      <th>secondary_cleaner.state.floatbank6_a_air</th>\n",
              "      <th>secondary_cleaner.state.floatbank6_a_level</th>\n",
              "    </tr>\n",
              "  </thead>\n",
              "  <tbody>\n",
              "    <tr>\n",
              "      <th>75</th>\n",
              "      <td>2016-01-18 05:00:00</td>\n",
              "      <td>4.392827</td>\n",
              "      <td>10.611895</td>\n",
              "      <td>3.769994</td>\n",
              "      <td>46.543285</td>\n",
              "      <td>100.0</td>\n",
              "      <td>0.0</td>\n",
              "      <td>0.0</td>\n",
              "      <td>0.0</td>\n",
              "      <td>0.0</td>\n",
              "      <td>157.532385</td>\n",
              "      <td>11.963090</td>\n",
              "      <td>7.25</td>\n",
              "      <td>1.103433</td>\n",
              "      <td>1.174961</td>\n",
              "      <td>1.522761</td>\n",
              "      <td>2.836448</td>\n",
              "      <td>5.964539</td>\n",
              "      <td>7.167931</td>\n",
              "      <td>1.429464</td>\n",
              "      <td>3.404861</td>\n",
              "      <td>1.111034</td>\n",
              "      <td>1601.448907</td>\n",
              "      <td>-501.471448</td>\n",
              "      <td>1601.558504</td>\n",
              "      <td>-500.010589</td>\n",
              "      <td>1602.028524</td>\n",
              "      <td>-499.468609</td>\n",
              "      <td>1598.613194</td>\n",
              "      <td>-500.295764</td>\n",
              "      <td>45049.660160</td>\n",
              "      <td>3198.729657</td>\n",
              "      <td>3202.210087</td>\n",
              "      <td>2.719894</td>\n",
              "      <td>7.622043</td>\n",
              "      <td>2.618408</td>\n",
              "      <td>595.469733</td>\n",
              "      <td>65.696424</td>\n",
              "      <td>39.490905</td>\n",
              "      <td>7.121792</td>\n",
              "      <td>14.495708</td>\n",
              "      <td>7.493563</td>\n",
              "      <td>14.484829</td>\n",
              "      <td>7.501648</td>\n",
              "      <td>10.566581</td>\n",
              "      <td>7.099058</td>\n",
              "      <td>24.517793</td>\n",
              "      <td>18.861476</td>\n",
              "      <td>76.989555</td>\n",
              "      <td>5.558103</td>\n",
              "      <td>0.414353</td>\n",
              "      <td>33.817076</td>\n",
              "      <td>2.310386</td>\n",
              "      <td>997.081324</td>\n",
              "      <td>-499.803097</td>\n",
              "      <td>1600.337764</td>\n",
              "      <td>-499.816809</td>\n",
              "      <td>1597.645108</td>\n",
              "      <td>-500.411411</td>\n",
              "      <td>1396.269152</td>\n",
              "      <td>-500.463076</td>\n",
              "      <td>1198.843888</td>\n",
              "      <td>-500.124478</td>\n",
              "      <td>1198.926859</td>\n",
              "      <td>-499.048712</td>\n",
              "      <td>0.000000</td>\n",
              "      <td>0.000000</td>\n",
              "      <td>0.000000</td>\n",
              "      <td>0.000000</td>\n",
              "      <td>27.914664</td>\n",
              "      <td>-499.856305</td>\n",
              "      <td>25.873597</td>\n",
              "      <td>-500.437030</td>\n",
              "      <td>24.979331</td>\n",
              "      <td>-502.957796</td>\n",
              "      <td>24.043003</td>\n",
              "      <td>-500.257385</td>\n",
              "      <td>14.034118</td>\n",
              "      <td>-548.853909</td>\n",
              "      <td>12.154792</td>\n",
              "      <td>-549.955843</td>\n",
              "      <td>10.009101</td>\n",
              "      <td>-499.569336</td>\n",
              "      <td>8.023898</td>\n",
              "      <td>-499.706346</td>\n",
              "      <td>12.025978</td>\n",
              "      <td>-600.232206</td>\n",
              "    </tr>\n",
              "    <tr>\n",
              "      <th>1916</th>\n",
              "      <td>2016-04-20 11:00:00</td>\n",
              "      <td>5.829191</td>\n",
              "      <td>7.802456</td>\n",
              "      <td>11.447054</td>\n",
              "      <td>25.773495</td>\n",
              "      <td>100.0</td>\n",
              "      <td>0.0</td>\n",
              "      <td>0.0</td>\n",
              "      <td>0.0</td>\n",
              "      <td>0.0</td>\n",
              "      <td>63.014436</td>\n",
              "      <td>4.724183</td>\n",
              "      <td>7.30</td>\n",
              "      <td>0.731953</td>\n",
              "      <td>1.585390</td>\n",
              "      <td>6.638002</td>\n",
              "      <td>11.938954</td>\n",
              "      <td>10.369385</td>\n",
              "      <td>15.935430</td>\n",
              "      <td>2.605012</td>\n",
              "      <td>2.840765</td>\n",
              "      <td>6.267795</td>\n",
              "      <td>1498.325646</td>\n",
              "      <td>-499.676729</td>\n",
              "      <td>1497.700652</td>\n",
              "      <td>-500.692944</td>\n",
              "      <td>1497.863730</td>\n",
              "      <td>-499.931113</td>\n",
              "      <td>1499.307172</td>\n",
              "      <td>-498.959821</td>\n",
              "      <td>27807.782642</td>\n",
              "      <td>2500.589643</td>\n",
              "      <td>2584.513111</td>\n",
              "      <td>2.326646</td>\n",
              "      <td>7.647935</td>\n",
              "      <td>2.916579</td>\n",
              "      <td>498.221554</td>\n",
              "      <td>54.749306</td>\n",
              "      <td>36.042169</td>\n",
              "      <td>6.785848</td>\n",
              "      <td>9.046065</td>\n",
              "      <td>5.893642</td>\n",
              "      <td>9.556930</td>\n",
              "      <td>6.859317</td>\n",
              "      <td>10.354297</td>\n",
              "      <td>7.649745</td>\n",
              "      <td>34.647383</td>\n",
              "      <td>22.013020</td>\n",
              "      <td>77.621604</td>\n",
              "      <td>5.725632</td>\n",
              "      <td>0.629738</td>\n",
              "      <td>14.528143</td>\n",
              "      <td>1.996220</td>\n",
              "      <td>998.824499</td>\n",
              "      <td>-500.078813</td>\n",
              "      <td>1199.743518</td>\n",
              "      <td>-500.138842</td>\n",
              "      <td>1200.018123</td>\n",
              "      <td>-500.267765</td>\n",
              "      <td>1196.263608</td>\n",
              "      <td>-500.946872</td>\n",
              "      <td>1099.787154</td>\n",
              "      <td>-501.622229</td>\n",
              "      <td>999.601585</td>\n",
              "      <td>-501.239340</td>\n",
              "      <td>12.913498</td>\n",
              "      <td>4.451667</td>\n",
              "      <td>7.212153</td>\n",
              "      <td>5.356954</td>\n",
              "      <td>30.057075</td>\n",
              "      <td>-495.554923</td>\n",
              "      <td>29.059133</td>\n",
              "      <td>-499.615078</td>\n",
              "      <td>28.994480</td>\n",
              "      <td>-499.273301</td>\n",
              "      <td>28.139725</td>\n",
              "      <td>-499.789083</td>\n",
              "      <td>14.034117</td>\n",
              "      <td>-500.039461</td>\n",
              "      <td>11.998315</td>\n",
              "      <td>-502.636151</td>\n",
              "      <td>13.080442</td>\n",
              "      <td>-501.837482</td>\n",
              "      <td>11.026389</td>\n",
              "      <td>-500.512369</td>\n",
              "      <td>19.958898</td>\n",
              "      <td>-501.968677</td>\n",
              "    </tr>\n",
              "    <tr>\n",
              "      <th>1927</th>\n",
              "      <td>2016-04-20 22:00:00</td>\n",
              "      <td>5.957068</td>\n",
              "      <td>11.112426</td>\n",
              "      <td>16.058054</td>\n",
              "      <td>42.984047</td>\n",
              "      <td>100.0</td>\n",
              "      <td>0.0</td>\n",
              "      <td>0.0</td>\n",
              "      <td>0.0</td>\n",
              "      <td>0.0</td>\n",
              "      <td>135.081971</td>\n",
              "      <td>12.250947</td>\n",
              "      <td>7.30</td>\n",
              "      <td>1.197524</td>\n",
              "      <td>9.239029</td>\n",
              "      <td>6.524577</td>\n",
              "      <td>10.898137</td>\n",
              "      <td>34.114900</td>\n",
              "      <td>14.080217</td>\n",
              "      <td>2.685968</td>\n",
              "      <td>8.528606</td>\n",
              "      <td>4.254244</td>\n",
              "      <td>1500.974520</td>\n",
              "      <td>-499.588734</td>\n",
              "      <td>1498.065993</td>\n",
              "      <td>-506.109018</td>\n",
              "      <td>1500.085153</td>\n",
              "      <td>-498.461836</td>\n",
              "      <td>1547.403180</td>\n",
              "      <td>-501.328654</td>\n",
              "      <td>40804.201110</td>\n",
              "      <td>2430.763216</td>\n",
              "      <td>2432.478141</td>\n",
              "      <td>2.490151</td>\n",
              "      <td>7.999460</td>\n",
              "      <td>2.970068</td>\n",
              "      <td>560.993068</td>\n",
              "      <td>76.782908</td>\n",
              "      <td>45.339621</td>\n",
              "      <td>7.395918</td>\n",
              "      <td>9.991209</td>\n",
              "      <td>6.294392</td>\n",
              "      <td>10.001742</td>\n",
              "      <td>7.506712</td>\n",
              "      <td>12.032048</td>\n",
              "      <td>7.039237</td>\n",
              "      <td>29.975862</td>\n",
              "      <td>19.038865</td>\n",
              "      <td>86.814820</td>\n",
              "      <td>5.226618</td>\n",
              "      <td>0.730604</td>\n",
              "      <td>22.567908</td>\n",
              "      <td>1.471380</td>\n",
              "      <td>998.940175</td>\n",
              "      <td>-299.895508</td>\n",
              "      <td>1198.056904</td>\n",
              "      <td>-497.601077</td>\n",
              "      <td>1196.199476</td>\n",
              "      <td>-497.326778</td>\n",
              "      <td>1196.966275</td>\n",
              "      <td>-500.098149</td>\n",
              "      <td>1099.534816</td>\n",
              "      <td>-499.195763</td>\n",
              "      <td>998.162141</td>\n",
              "      <td>-498.396442</td>\n",
              "      <td>10.856210</td>\n",
              "      <td>3.593789</td>\n",
              "      <td>10.811096</td>\n",
              "      <td>3.248157</td>\n",
              "      <td>30.003183</td>\n",
              "      <td>-499.443991</td>\n",
              "      <td>29.038080</td>\n",
              "      <td>-500.549184</td>\n",
              "      <td>28.944272</td>\n",
              "      <td>-498.380859</td>\n",
              "      <td>27.924192</td>\n",
              "      <td>-499.470573</td>\n",
              "      <td>14.013758</td>\n",
              "      <td>-500.485942</td>\n",
              "      <td>12.039078</td>\n",
              "      <td>-501.307078</td>\n",
              "      <td>12.989730</td>\n",
              "      <td>-496.606034</td>\n",
              "      <td>10.954030</td>\n",
              "      <td>-499.711712</td>\n",
              "      <td>19.982339</td>\n",
              "      <td>-499.062438</td>\n",
              "    </tr>\n",
              "  </tbody>\n",
              "</table>\n",
              "</div>"
            ],
            "text/plain": [
              "                     date  final.output.concentrate_ag  \\\n",
              "75    2016-01-18 05:00:00                     4.392827   \n",
              "1916  2016-04-20 11:00:00                     5.829191   \n",
              "1927  2016-04-20 22:00:00                     5.957068   \n",
              "\n",
              "      final.output.concentrate_pb  final.output.concentrate_sol  \\\n",
              "75                      10.611895                      3.769994   \n",
              "1916                     7.802456                     11.447054   \n",
              "1927                    11.112426                     16.058054   \n",
              "\n",
              "      final.output.concentrate_au  final.output.recovery  \\\n",
              "75                      46.543285                  100.0   \n",
              "1916                    25.773495                  100.0   \n",
              "1927                    42.984047                  100.0   \n",
              "\n",
              "      final.output.tail_ag  final.output.tail_pb  final.output.tail_sol  \\\n",
              "75                     0.0                   0.0                    0.0   \n",
              "1916                   0.0                   0.0                    0.0   \n",
              "1927                   0.0                   0.0                    0.0   \n",
              "\n",
              "      final.output.tail_au  primary_cleaner.input.sulfate  \\\n",
              "75                     0.0                     157.532385   \n",
              "1916                   0.0                      63.014436   \n",
              "1927                   0.0                     135.081971   \n",
              "\n",
              "      primary_cleaner.input.depressant  primary_cleaner.input.feed_size  \\\n",
              "75                           11.963090                             7.25   \n",
              "1916                          4.724183                             7.30   \n",
              "1927                         12.250947                             7.30   \n",
              "\n",
              "      primary_cleaner.input.xanthate  primary_cleaner.output.concentrate_ag  \\\n",
              "75                          1.103433                               1.174961   \n",
              "1916                        0.731953                               1.585390   \n",
              "1927                        1.197524                               9.239029   \n",
              "\n",
              "      primary_cleaner.output.concentrate_pb  \\\n",
              "75                                 1.522761   \n",
              "1916                               6.638002   \n",
              "1927                               6.524577   \n",
              "\n",
              "      primary_cleaner.output.concentrate_sol  \\\n",
              "75                                  2.836448   \n",
              "1916                               11.938954   \n",
              "1927                               10.898137   \n",
              "\n",
              "      primary_cleaner.output.concentrate_au  primary_cleaner.output.tail_ag  \\\n",
              "75                                 5.964539                        7.167931   \n",
              "1916                              10.369385                       15.935430   \n",
              "1927                              34.114900                       14.080217   \n",
              "\n",
              "      primary_cleaner.output.tail_pb  primary_cleaner.output.tail_sol  \\\n",
              "75                          1.429464                         3.404861   \n",
              "1916                        2.605012                         2.840765   \n",
              "1927                        2.685968                         8.528606   \n",
              "\n",
              "      primary_cleaner.output.tail_au  primary_cleaner.state.floatbank8_a_air  \\\n",
              "75                          1.111034                             1601.448907   \n",
              "1916                        6.267795                             1498.325646   \n",
              "1927                        4.254244                             1500.974520   \n",
              "\n",
              "      primary_cleaner.state.floatbank8_a_level  \\\n",
              "75                                 -501.471448   \n",
              "1916                               -499.676729   \n",
              "1927                               -499.588734   \n",
              "\n",
              "      primary_cleaner.state.floatbank8_b_air  \\\n",
              "75                               1601.558504   \n",
              "1916                             1497.700652   \n",
              "1927                             1498.065993   \n",
              "\n",
              "      primary_cleaner.state.floatbank8_b_level  \\\n",
              "75                                 -500.010589   \n",
              "1916                               -500.692944   \n",
              "1927                               -506.109018   \n",
              "\n",
              "      primary_cleaner.state.floatbank8_c_air  \\\n",
              "75                               1602.028524   \n",
              "1916                             1497.863730   \n",
              "1927                             1500.085153   \n",
              "\n",
              "      primary_cleaner.state.floatbank8_c_level  \\\n",
              "75                                 -499.468609   \n",
              "1916                               -499.931113   \n",
              "1927                               -498.461836   \n",
              "\n",
              "      primary_cleaner.state.floatbank8_d_air  \\\n",
              "75                               1598.613194   \n",
              "1916                             1499.307172   \n",
              "1927                             1547.403180   \n",
              "\n",
              "      primary_cleaner.state.floatbank8_d_level  \\\n",
              "75                                 -500.295764   \n",
              "1916                               -498.959821   \n",
              "1927                               -501.328654   \n",
              "\n",
              "      rougher.calculation.sulfate_to_au_concentrate  \\\n",
              "75                                     45049.660160   \n",
              "1916                                   27807.782642   \n",
              "1927                                   40804.201110   \n",
              "\n",
              "      rougher.calculation.floatbank10_sulfate_to_au_feed  \\\n",
              "75                                          3198.729657    \n",
              "1916                                        2500.589643    \n",
              "1927                                        2430.763216    \n",
              "\n",
              "      rougher.calculation.floatbank11_sulfate_to_au_feed  \\\n",
              "75                                          3202.210087    \n",
              "1916                                        2584.513111    \n",
              "1927                                        2432.478141    \n",
              "\n",
              "      rougher.calculation.au_pb_ratio  rougher.input.feed_ag  \\\n",
              "75                           2.719894               7.622043   \n",
              "1916                         2.326646               7.647935   \n",
              "1927                         2.490151               7.999460   \n",
              "\n",
              "      rougher.input.feed_pb  rougher.input.feed_rate  rougher.input.feed_size  \\\n",
              "75                 2.618408               595.469733                65.696424   \n",
              "1916               2.916579               498.221554                54.749306   \n",
              "1927               2.970068               560.993068                76.782908   \n",
              "\n",
              "      rougher.input.feed_sol  rougher.input.feed_au  \\\n",
              "75                 39.490905               7.121792   \n",
              "1916               36.042169               6.785848   \n",
              "1927               45.339621               7.395918   \n",
              "\n",
              "      rougher.input.floatbank10_sulfate  rougher.input.floatbank10_xanthate  \\\n",
              "75                            14.495708                            7.493563   \n",
              "1916                           9.046065                            5.893642   \n",
              "1927                           9.991209                            6.294392   \n",
              "\n",
              "      rougher.input.floatbank11_sulfate  rougher.input.floatbank11_xanthate  \\\n",
              "75                            14.484829                            7.501648   \n",
              "1916                           9.556930                            6.859317   \n",
              "1927                          10.001742                            7.506712   \n",
              "\n",
              "      rougher.output.concentrate_ag  rougher.output.concentrate_pb  \\\n",
              "75                        10.566581                       7.099058   \n",
              "1916                      10.354297                       7.649745   \n",
              "1927                      12.032048                       7.039237   \n",
              "\n",
              "      rougher.output.concentrate_sol  rougher.output.concentrate_au  \\\n",
              "75                         24.517793                      18.861476   \n",
              "1916                       34.647383                      22.013020   \n",
              "1927                       29.975862                      19.038865   \n",
              "\n",
              "      rougher.output.recovery  rougher.output.tail_ag  rougher.output.tail_pb  \\\n",
              "75                  76.989555                5.558103                0.414353   \n",
              "1916                77.621604                5.725632                0.629738   \n",
              "1927                86.814820                5.226618                0.730604   \n",
              "\n",
              "      rougher.output.tail_sol  rougher.output.tail_au  \\\n",
              "75                  33.817076                2.310386   \n",
              "1916                14.528143                1.996220   \n",
              "1927                22.567908                1.471380   \n",
              "\n",
              "      rougher.state.floatbank10_a_air  rougher.state.floatbank10_a_level  \\\n",
              "75                         997.081324                        -499.803097   \n",
              "1916                       998.824499                        -500.078813   \n",
              "1927                       998.940175                        -299.895508   \n",
              "\n",
              "      rougher.state.floatbank10_b_air  rougher.state.floatbank10_b_level  \\\n",
              "75                        1600.337764                        -499.816809   \n",
              "1916                      1199.743518                        -500.138842   \n",
              "1927                      1198.056904                        -497.601077   \n",
              "\n",
              "      rougher.state.floatbank10_c_air  rougher.state.floatbank10_c_level  \\\n",
              "75                        1597.645108                        -500.411411   \n",
              "1916                      1200.018123                        -500.267765   \n",
              "1927                      1196.199476                        -497.326778   \n",
              "\n",
              "      rougher.state.floatbank10_d_air  rougher.state.floatbank10_d_level  \\\n",
              "75                        1396.269152                        -500.463076   \n",
              "1916                      1196.263608                        -500.946872   \n",
              "1927                      1196.966275                        -500.098149   \n",
              "\n",
              "      rougher.state.floatbank10_e_air  rougher.state.floatbank10_e_level  \\\n",
              "75                        1198.843888                        -500.124478   \n",
              "1916                      1099.787154                        -501.622229   \n",
              "1927                      1099.534816                        -499.195763   \n",
              "\n",
              "      rougher.state.floatbank10_f_air  rougher.state.floatbank10_f_level  \\\n",
              "75                        1198.926859                        -499.048712   \n",
              "1916                       999.601585                        -501.239340   \n",
              "1927                       998.162141                        -498.396442   \n",
              "\n",
              "      secondary_cleaner.output.tail_ag  secondary_cleaner.output.tail_pb  \\\n",
              "75                            0.000000                          0.000000   \n",
              "1916                         12.913498                          4.451667   \n",
              "1927                         10.856210                          3.593789   \n",
              "\n",
              "      secondary_cleaner.output.tail_sol  secondary_cleaner.output.tail_au  \\\n",
              "75                             0.000000                          0.000000   \n",
              "1916                           7.212153                          5.356954   \n",
              "1927                          10.811096                          3.248157   \n",
              "\n",
              "      secondary_cleaner.state.floatbank2_a_air  \\\n",
              "75                                   27.914664   \n",
              "1916                                 30.057075   \n",
              "1927                                 30.003183   \n",
              "\n",
              "      secondary_cleaner.state.floatbank2_a_level  \\\n",
              "75                                   -499.856305   \n",
              "1916                                 -495.554923   \n",
              "1927                                 -499.443991   \n",
              "\n",
              "      secondary_cleaner.state.floatbank2_b_air  \\\n",
              "75                                   25.873597   \n",
              "1916                                 29.059133   \n",
              "1927                                 29.038080   \n",
              "\n",
              "      secondary_cleaner.state.floatbank2_b_level  \\\n",
              "75                                   -500.437030   \n",
              "1916                                 -499.615078   \n",
              "1927                                 -500.549184   \n",
              "\n",
              "      secondary_cleaner.state.floatbank3_a_air  \\\n",
              "75                                   24.979331   \n",
              "1916                                 28.994480   \n",
              "1927                                 28.944272   \n",
              "\n",
              "      secondary_cleaner.state.floatbank3_a_level  \\\n",
              "75                                   -502.957796   \n",
              "1916                                 -499.273301   \n",
              "1927                                 -498.380859   \n",
              "\n",
              "      secondary_cleaner.state.floatbank3_b_air  \\\n",
              "75                                   24.043003   \n",
              "1916                                 28.139725   \n",
              "1927                                 27.924192   \n",
              "\n",
              "      secondary_cleaner.state.floatbank3_b_level  \\\n",
              "75                                   -500.257385   \n",
              "1916                                 -499.789083   \n",
              "1927                                 -499.470573   \n",
              "\n",
              "      secondary_cleaner.state.floatbank4_a_air  \\\n",
              "75                                   14.034118   \n",
              "1916                                 14.034117   \n",
              "1927                                 14.013758   \n",
              "\n",
              "      secondary_cleaner.state.floatbank4_a_level  \\\n",
              "75                                   -548.853909   \n",
              "1916                                 -500.039461   \n",
              "1927                                 -500.485942   \n",
              "\n",
              "      secondary_cleaner.state.floatbank4_b_air  \\\n",
              "75                                   12.154792   \n",
              "1916                                 11.998315   \n",
              "1927                                 12.039078   \n",
              "\n",
              "      secondary_cleaner.state.floatbank4_b_level  \\\n",
              "75                                   -549.955843   \n",
              "1916                                 -502.636151   \n",
              "1927                                 -501.307078   \n",
              "\n",
              "      secondary_cleaner.state.floatbank5_a_air  \\\n",
              "75                                   10.009101   \n",
              "1916                                 13.080442   \n",
              "1927                                 12.989730   \n",
              "\n",
              "      secondary_cleaner.state.floatbank5_a_level  \\\n",
              "75                                   -499.569336   \n",
              "1916                                 -501.837482   \n",
              "1927                                 -496.606034   \n",
              "\n",
              "      secondary_cleaner.state.floatbank5_b_air  \\\n",
              "75                                    8.023898   \n",
              "1916                                 11.026389   \n",
              "1927                                 10.954030   \n",
              "\n",
              "      secondary_cleaner.state.floatbank5_b_level  \\\n",
              "75                                   -499.706346   \n",
              "1916                                 -500.512369   \n",
              "1927                                 -499.711712   \n",
              "\n",
              "      secondary_cleaner.state.floatbank6_a_air  \\\n",
              "75                                   12.025978   \n",
              "1916                                 19.958898   \n",
              "1927                                 19.982339   \n",
              "\n",
              "      secondary_cleaner.state.floatbank6_a_level  \n",
              "75                                   -600.232206  \n",
              "1916                                 -501.968677  \n",
              "1927                                 -499.062438  "
            ]
          },
          "execution_count": 13,
          "metadata": {},
          "output_type": "execute_result"
        }
      ],
      "source": [
        "data_train.loc[data_train['final.output.tail_ag']==0].head(3)"
      ]
    },
    {
      "cell_type": "markdown",
      "metadata": {
        "id": "pS0XpSRLwho1"
      },
      "source": [
        "3. Обоснование удаление нулей в primary_cleaner.input.depressant\n",
        "\n",
        "3.1. Если я правильно понял, то в процессе флотации/очистки золотоносную смесь вместе с водой и химикатами прогоняют через специальную установку, запускают в эту установки пузыри воздуха и именно с пузырями воздуха за счет химикатов золото поднимается на поверхность, а остальные вещества отправляются в \"хвосты\". Депресссанты в этом процессе повышает чистоту концентрата, т.к. не позволяют другим веществам \"цепляться\" за пузыри воздуха. Т.е. депресант нужен для лучшего результата, а значит необходим для процеса.  \n",
        "\n",
        "3.2. Медиана показателя 8.03, а нижний квартиль 6.03, что очень далеко от нуля. Поэтому считаю нули аномалиями."
      ]
    },
    {
      "cell_type": "code",
      "execution_count": null,
      "metadata": {
        "id": "AReiWFUSwho1",
        "outputId": "62a76dea-3117-4a2e-d3ad-644fb4e006ff"
      },
      "outputs": [
        {
          "data": {
            "text/plain": [
              "count    14149.000000\n",
              "mean         8.855281\n",
              "std          3.375435\n",
              "min          0.000000\n",
              "25%          6.038358\n",
              "50%          8.034222\n",
              "75%         11.516919\n",
              "max         20.052255\n",
              "Name: primary_cleaner.input.depressant, dtype: float64"
            ]
          },
          "execution_count": 14,
          "metadata": {},
          "output_type": "execute_result"
        }
      ],
      "source": [
        "data_train['primary_cleaner.input.depressant'].describe()"
      ]
    },
    {
      "cell_type": "markdown",
      "metadata": {
        "id": "K10_ChWtwho1"
      },
      "source": [
        "4. Обоснование удаление нулей в primary_cleaner.output.concentrate_ag, primary_cleaner.output.concentrate_pb, primary_cleaner.output.concentrate_sol, primary_cleaner.output.concentrate_au.\n",
        "\n",
        "4.1 Присутствуют положительные значения как в предшествующем продукте rougher.output.concentrate, так и в последующем final.output.concentrate. Поэтому считаю нули аномалиями."
      ]
    },
    {
      "cell_type": "code",
      "execution_count": null,
      "metadata": {
        "scrolled": false,
        "id": "sNc_QguEwho2",
        "outputId": "702179ab-bed5-4a47-bf3b-60835a3244d5"
      },
      "outputs": [
        {
          "data": {
            "text/html": [
              "<div>\n",
              "<style scoped>\n",
              "    .dataframe tbody tr th:only-of-type {\n",
              "        vertical-align: middle;\n",
              "    }\n",
              "\n",
              "    .dataframe tbody tr th {\n",
              "        vertical-align: top;\n",
              "    }\n",
              "\n",
              "    .dataframe thead th {\n",
              "        text-align: right;\n",
              "    }\n",
              "</style>\n",
              "<table border=\"1\" class=\"dataframe\">\n",
              "  <thead>\n",
              "    <tr style=\"text-align: right;\">\n",
              "      <th></th>\n",
              "      <th>date</th>\n",
              "      <th>final.output.concentrate_ag</th>\n",
              "      <th>final.output.concentrate_pb</th>\n",
              "      <th>final.output.concentrate_sol</th>\n",
              "      <th>final.output.concentrate_au</th>\n",
              "      <th>final.output.recovery</th>\n",
              "      <th>final.output.tail_ag</th>\n",
              "      <th>final.output.tail_pb</th>\n",
              "      <th>final.output.tail_sol</th>\n",
              "      <th>final.output.tail_au</th>\n",
              "      <th>primary_cleaner.input.sulfate</th>\n",
              "      <th>primary_cleaner.input.depressant</th>\n",
              "      <th>primary_cleaner.input.feed_size</th>\n",
              "      <th>primary_cleaner.input.xanthate</th>\n",
              "      <th>primary_cleaner.output.concentrate_ag</th>\n",
              "      <th>primary_cleaner.output.concentrate_pb</th>\n",
              "      <th>primary_cleaner.output.concentrate_sol</th>\n",
              "      <th>primary_cleaner.output.concentrate_au</th>\n",
              "      <th>primary_cleaner.output.tail_ag</th>\n",
              "      <th>primary_cleaner.output.tail_pb</th>\n",
              "      <th>primary_cleaner.output.tail_sol</th>\n",
              "      <th>primary_cleaner.output.tail_au</th>\n",
              "      <th>primary_cleaner.state.floatbank8_a_air</th>\n",
              "      <th>primary_cleaner.state.floatbank8_a_level</th>\n",
              "      <th>primary_cleaner.state.floatbank8_b_air</th>\n",
              "      <th>primary_cleaner.state.floatbank8_b_level</th>\n",
              "      <th>primary_cleaner.state.floatbank8_c_air</th>\n",
              "      <th>primary_cleaner.state.floatbank8_c_level</th>\n",
              "      <th>primary_cleaner.state.floatbank8_d_air</th>\n",
              "      <th>primary_cleaner.state.floatbank8_d_level</th>\n",
              "      <th>rougher.calculation.sulfate_to_au_concentrate</th>\n",
              "      <th>rougher.calculation.floatbank10_sulfate_to_au_feed</th>\n",
              "      <th>rougher.calculation.floatbank11_sulfate_to_au_feed</th>\n",
              "      <th>rougher.calculation.au_pb_ratio</th>\n",
              "      <th>rougher.input.feed_ag</th>\n",
              "      <th>rougher.input.feed_pb</th>\n",
              "      <th>rougher.input.feed_rate</th>\n",
              "      <th>rougher.input.feed_size</th>\n",
              "      <th>rougher.input.feed_sol</th>\n",
              "      <th>rougher.input.feed_au</th>\n",
              "      <th>rougher.input.floatbank10_sulfate</th>\n",
              "      <th>rougher.input.floatbank10_xanthate</th>\n",
              "      <th>rougher.input.floatbank11_sulfate</th>\n",
              "      <th>rougher.input.floatbank11_xanthate</th>\n",
              "      <th>rougher.output.concentrate_ag</th>\n",
              "      <th>rougher.output.concentrate_pb</th>\n",
              "      <th>rougher.output.concentrate_sol</th>\n",
              "      <th>rougher.output.concentrate_au</th>\n",
              "      <th>rougher.output.recovery</th>\n",
              "      <th>rougher.output.tail_ag</th>\n",
              "      <th>rougher.output.tail_pb</th>\n",
              "      <th>rougher.output.tail_sol</th>\n",
              "      <th>rougher.output.tail_au</th>\n",
              "      <th>rougher.state.floatbank10_a_air</th>\n",
              "      <th>rougher.state.floatbank10_a_level</th>\n",
              "      <th>rougher.state.floatbank10_b_air</th>\n",
              "      <th>rougher.state.floatbank10_b_level</th>\n",
              "      <th>rougher.state.floatbank10_c_air</th>\n",
              "      <th>rougher.state.floatbank10_c_level</th>\n",
              "      <th>rougher.state.floatbank10_d_air</th>\n",
              "      <th>rougher.state.floatbank10_d_level</th>\n",
              "      <th>rougher.state.floatbank10_e_air</th>\n",
              "      <th>rougher.state.floatbank10_e_level</th>\n",
              "      <th>rougher.state.floatbank10_f_air</th>\n",
              "      <th>rougher.state.floatbank10_f_level</th>\n",
              "      <th>secondary_cleaner.output.tail_ag</th>\n",
              "      <th>secondary_cleaner.output.tail_pb</th>\n",
              "      <th>secondary_cleaner.output.tail_sol</th>\n",
              "      <th>secondary_cleaner.output.tail_au</th>\n",
              "      <th>secondary_cleaner.state.floatbank2_a_air</th>\n",
              "      <th>secondary_cleaner.state.floatbank2_a_level</th>\n",
              "      <th>secondary_cleaner.state.floatbank2_b_air</th>\n",
              "      <th>secondary_cleaner.state.floatbank2_b_level</th>\n",
              "      <th>secondary_cleaner.state.floatbank3_a_air</th>\n",
              "      <th>secondary_cleaner.state.floatbank3_a_level</th>\n",
              "      <th>secondary_cleaner.state.floatbank3_b_air</th>\n",
              "      <th>secondary_cleaner.state.floatbank3_b_level</th>\n",
              "      <th>secondary_cleaner.state.floatbank4_a_air</th>\n",
              "      <th>secondary_cleaner.state.floatbank4_a_level</th>\n",
              "      <th>secondary_cleaner.state.floatbank4_b_air</th>\n",
              "      <th>secondary_cleaner.state.floatbank4_b_level</th>\n",
              "      <th>secondary_cleaner.state.floatbank5_a_air</th>\n",
              "      <th>secondary_cleaner.state.floatbank5_a_level</th>\n",
              "      <th>secondary_cleaner.state.floatbank5_b_air</th>\n",
              "      <th>secondary_cleaner.state.floatbank5_b_level</th>\n",
              "      <th>secondary_cleaner.state.floatbank6_a_air</th>\n",
              "      <th>secondary_cleaner.state.floatbank6_a_level</th>\n",
              "    </tr>\n",
              "  </thead>\n",
              "  <tbody>\n",
              "    <tr>\n",
              "      <th>19</th>\n",
              "      <td>2016-01-15 19:00:00</td>\n",
              "      <td>5.658943</td>\n",
              "      <td>10.436002</td>\n",
              "      <td>5.942418</td>\n",
              "      <td>42.509402</td>\n",
              "      <td>70.34830</td>\n",
              "      <td>10.232392</td>\n",
              "      <td>1.174845</td>\n",
              "      <td>19.498566</td>\n",
              "      <td>2.272460</td>\n",
              "      <td>149.998260</td>\n",
              "      <td>12.509947</td>\n",
              "      <td>7.25</td>\n",
              "      <td>0.997030</td>\n",
              "      <td>0.0</td>\n",
              "      <td>0.0</td>\n",
              "      <td>0.0</td>\n",
              "      <td>0.0</td>\n",
              "      <td>14.915949</td>\n",
              "      <td>2.702527</td>\n",
              "      <td>7.784534</td>\n",
              "      <td>2.013487</td>\n",
              "      <td>1599.617983</td>\n",
              "      <td>-499.527131</td>\n",
              "      <td>1599.389604</td>\n",
              "      <td>-499.554869</td>\n",
              "      <td>1600.441370</td>\n",
              "      <td>-500.503609</td>\n",
              "      <td>1601.900702</td>\n",
              "      <td>-500.129123</td>\n",
              "      <td>41959.818540</td>\n",
              "      <td>3507.941540</td>\n",
              "      <td>3499.552368</td>\n",
              "      <td>2.448851</td>\n",
              "      <td>6.046063</td>\n",
              "      <td>2.777324</td>\n",
              "      <td>571.766992</td>\n",
              "      <td>62.823127</td>\n",
              "      <td>40.381002</td>\n",
              "      <td>6.801254</td>\n",
              "      <td>14.812266</td>\n",
              "      <td>7.064468</td>\n",
              "      <td>14.814722</td>\n",
              "      <td>7.064408</td>\n",
              "      <td>10.788951</td>\n",
              "      <td>7.537074</td>\n",
              "      <td>26.092838</td>\n",
              "      <td>18.511902</td>\n",
              "      <td>86.241795</td>\n",
              "      <td>4.919573</td>\n",
              "      <td>0.739863</td>\n",
              "      <td>20.309714</td>\n",
              "      <td>1.369732</td>\n",
              "      <td>999.708593</td>\n",
              "      <td>-400.075046</td>\n",
              "      <td>1600.639292</td>\n",
              "      <td>-450.110961</td>\n",
              "      <td>1602.333794</td>\n",
              "      <td>-450.673170</td>\n",
              "      <td>1600.427078</td>\n",
              "      <td>-449.633484</td>\n",
              "      <td>1401.859581</td>\n",
              "      <td>-448.145152</td>\n",
              "      <td>1400.906088</td>\n",
              "      <td>-451.771497</td>\n",
              "      <td>12.708557</td>\n",
              "      <td>4.565723</td>\n",
              "      <td>9.997717</td>\n",
              "      <td>2.138772</td>\n",
              "      <td>25.999540</td>\n",
              "      <td>-500.152462</td>\n",
              "      <td>24.013000</td>\n",
              "      <td>-500.297031</td>\n",
              "      <td>24.022240</td>\n",
              "      <td>-499.329964</td>\n",
              "      <td>24.012891</td>\n",
              "      <td>-499.923981</td>\n",
              "      <td>14.001632</td>\n",
              "      <td>-509.808331</td>\n",
              "      <td>12.087669</td>\n",
              "      <td>-510.782166</td>\n",
              "      <td>10.032043</td>\n",
              "      <td>-499.128183</td>\n",
              "      <td>8.016140</td>\n",
              "      <td>-499.806844</td>\n",
              "      <td>13.949790</td>\n",
              "      <td>-600.140776</td>\n",
              "    </tr>\n",
              "    <tr>\n",
              "      <th>22</th>\n",
              "      <td>2016-01-15 22:00:00</td>\n",
              "      <td>6.118749</td>\n",
              "      <td>10.483007</td>\n",
              "      <td>6.546983</td>\n",
              "      <td>41.406172</td>\n",
              "      <td>69.82390</td>\n",
              "      <td>10.322077</td>\n",
              "      <td>1.270956</td>\n",
              "      <td>19.384247</td>\n",
              "      <td>2.245145</td>\n",
              "      <td>158.353434</td>\n",
              "      <td>14.020791</td>\n",
              "      <td>7.25</td>\n",
              "      <td>0.997999</td>\n",
              "      <td>0.0</td>\n",
              "      <td>0.0</td>\n",
              "      <td>0.0</td>\n",
              "      <td>0.0</td>\n",
              "      <td>13.874346</td>\n",
              "      <td>2.440897</td>\n",
              "      <td>8.529620</td>\n",
              "      <td>1.964468</td>\n",
              "      <td>1596.351031</td>\n",
              "      <td>-498.896997</td>\n",
              "      <td>1596.177717</td>\n",
              "      <td>-500.402418</td>\n",
              "      <td>1598.280618</td>\n",
              "      <td>-498.946313</td>\n",
              "      <td>1600.472486</td>\n",
              "      <td>-499.623157</td>\n",
              "      <td>42082.414968</td>\n",
              "      <td>3506.178699</td>\n",
              "      <td>3501.343118</td>\n",
              "      <td>2.617243</td>\n",
              "      <td>5.599324</td>\n",
              "      <td>2.525838</td>\n",
              "      <td>571.140653</td>\n",
              "      <td>64.816398</td>\n",
              "      <td>41.302359</td>\n",
              "      <td>6.610732</td>\n",
              "      <td>14.501843</td>\n",
              "      <td>7.301759</td>\n",
              "      <td>14.460181</td>\n",
              "      <td>7.298780</td>\n",
              "      <td>10.958096</td>\n",
              "      <td>7.267608</td>\n",
              "      <td>25.911055</td>\n",
              "      <td>18.089134</td>\n",
              "      <td>88.132239</td>\n",
              "      <td>4.421208</td>\n",
              "      <td>0.705108</td>\n",
              "      <td>20.397352</td>\n",
              "      <td>1.157287</td>\n",
              "      <td>1000.107388</td>\n",
              "      <td>-399.263233</td>\n",
              "      <td>1599.780054</td>\n",
              "      <td>-449.883122</td>\n",
              "      <td>1597.621485</td>\n",
              "      <td>-450.022545</td>\n",
              "      <td>1605.906830</td>\n",
              "      <td>-449.026683</td>\n",
              "      <td>1400.871116</td>\n",
              "      <td>-449.902838</td>\n",
              "      <td>1400.723107</td>\n",
              "      <td>-449.651567</td>\n",
              "      <td>11.523559</td>\n",
              "      <td>4.466500</td>\n",
              "      <td>10.776495</td>\n",
              "      <td>2.018144</td>\n",
              "      <td>25.979270</td>\n",
              "      <td>-499.922901</td>\n",
              "      <td>24.039935</td>\n",
              "      <td>-499.368998</td>\n",
              "      <td>24.027888</td>\n",
              "      <td>-501.291317</td>\n",
              "      <td>23.994020</td>\n",
              "      <td>-499.715395</td>\n",
              "      <td>13.943970</td>\n",
              "      <td>-541.642068</td>\n",
              "      <td>11.993920</td>\n",
              "      <td>-550.493894</td>\n",
              "      <td>9.985232</td>\n",
              "      <td>-499.796583</td>\n",
              "      <td>7.985524</td>\n",
              "      <td>-499.872153</td>\n",
              "      <td>13.973257</td>\n",
              "      <td>-600.054998</td>\n",
              "    </tr>\n",
              "    <tr>\n",
              "      <th>30</th>\n",
              "      <td>2016-01-16 06:00:00</td>\n",
              "      <td>5.322681</td>\n",
              "      <td>9.577672</td>\n",
              "      <td>4.805490</td>\n",
              "      <td>44.059908</td>\n",
              "      <td>69.19384</td>\n",
              "      <td>10.334312</td>\n",
              "      <td>1.406355</td>\n",
              "      <td>19.923319</td>\n",
              "      <td>2.239310</td>\n",
              "      <td>145.952867</td>\n",
              "      <td>13.947704</td>\n",
              "      <td>7.25</td>\n",
              "      <td>0.991678</td>\n",
              "      <td>0.0</td>\n",
              "      <td>0.0</td>\n",
              "      <td>0.0</td>\n",
              "      <td>0.0</td>\n",
              "      <td>14.613684</td>\n",
              "      <td>2.893445</td>\n",
              "      <td>8.537165</td>\n",
              "      <td>1.982306</td>\n",
              "      <td>1599.096777</td>\n",
              "      <td>-498.630270</td>\n",
              "      <td>1599.484314</td>\n",
              "      <td>-499.255872</td>\n",
              "      <td>1598.366222</td>\n",
              "      <td>-499.198198</td>\n",
              "      <td>1602.317332</td>\n",
              "      <td>-500.664282</td>\n",
              "      <td>41974.790294</td>\n",
              "      <td>3501.482821</td>\n",
              "      <td>3497.994338</td>\n",
              "      <td>2.600945</td>\n",
              "      <td>5.689557</td>\n",
              "      <td>2.508414</td>\n",
              "      <td>583.537789</td>\n",
              "      <td>64.616077</td>\n",
              "      <td>43.042457</td>\n",
              "      <td>6.524249</td>\n",
              "      <td>14.160944</td>\n",
              "      <td>7.300138</td>\n",
              "      <td>14.205313</td>\n",
              "      <td>7.298306</td>\n",
              "      <td>11.574823</td>\n",
              "      <td>7.384216</td>\n",
              "      <td>25.740506</td>\n",
              "      <td>17.583602</td>\n",
              "      <td>88.066903</td>\n",
              "      <td>4.404777</td>\n",
              "      <td>0.714497</td>\n",
              "      <td>21.003984</td>\n",
              "      <td>1.156424</td>\n",
              "      <td>999.750176</td>\n",
              "      <td>-399.931753</td>\n",
              "      <td>1600.527289</td>\n",
              "      <td>-450.011008</td>\n",
              "      <td>1600.517301</td>\n",
              "      <td>-450.379779</td>\n",
              "      <td>1603.804224</td>\n",
              "      <td>-450.250299</td>\n",
              "      <td>1402.769232</td>\n",
              "      <td>-447.699241</td>\n",
              "      <td>1401.919470</td>\n",
              "      <td>-451.025028</td>\n",
              "      <td>12.403678</td>\n",
              "      <td>5.121716</td>\n",
              "      <td>11.185081</td>\n",
              "      <td>2.216077</td>\n",
              "      <td>25.942168</td>\n",
              "      <td>-500.100481</td>\n",
              "      <td>24.040606</td>\n",
              "      <td>-499.449996</td>\n",
              "      <td>25.013290</td>\n",
              "      <td>-500.208164</td>\n",
              "      <td>23.988862</td>\n",
              "      <td>-500.062470</td>\n",
              "      <td>13.981220</td>\n",
              "      <td>-551.189582</td>\n",
              "      <td>12.004777</td>\n",
              "      <td>-549.974630</td>\n",
              "      <td>9.969535</td>\n",
              "      <td>-499.350934</td>\n",
              "      <td>8.017975</td>\n",
              "      <td>-500.620850</td>\n",
              "      <td>11.999969</td>\n",
              "      <td>-600.315548</td>\n",
              "    </tr>\n",
              "  </tbody>\n",
              "</table>\n",
              "</div>"
            ],
            "text/plain": [
              "                   date  final.output.concentrate_ag  \\\n",
              "19  2016-01-15 19:00:00                     5.658943   \n",
              "22  2016-01-15 22:00:00                     6.118749   \n",
              "30  2016-01-16 06:00:00                     5.322681   \n",
              "\n",
              "    final.output.concentrate_pb  final.output.concentrate_sol  \\\n",
              "19                    10.436002                      5.942418   \n",
              "22                    10.483007                      6.546983   \n",
              "30                     9.577672                      4.805490   \n",
              "\n",
              "    final.output.concentrate_au  final.output.recovery  final.output.tail_ag  \\\n",
              "19                    42.509402               70.34830             10.232392   \n",
              "22                    41.406172               69.82390             10.322077   \n",
              "30                    44.059908               69.19384             10.334312   \n",
              "\n",
              "    final.output.tail_pb  final.output.tail_sol  final.output.tail_au  \\\n",
              "19              1.174845              19.498566              2.272460   \n",
              "22              1.270956              19.384247              2.245145   \n",
              "30              1.406355              19.923319              2.239310   \n",
              "\n",
              "    primary_cleaner.input.sulfate  primary_cleaner.input.depressant  \\\n",
              "19                     149.998260                         12.509947   \n",
              "22                     158.353434                         14.020791   \n",
              "30                     145.952867                         13.947704   \n",
              "\n",
              "    primary_cleaner.input.feed_size  primary_cleaner.input.xanthate  \\\n",
              "19                             7.25                        0.997030   \n",
              "22                             7.25                        0.997999   \n",
              "30                             7.25                        0.991678   \n",
              "\n",
              "    primary_cleaner.output.concentrate_ag  \\\n",
              "19                                    0.0   \n",
              "22                                    0.0   \n",
              "30                                    0.0   \n",
              "\n",
              "    primary_cleaner.output.concentrate_pb  \\\n",
              "19                                    0.0   \n",
              "22                                    0.0   \n",
              "30                                    0.0   \n",
              "\n",
              "    primary_cleaner.output.concentrate_sol  \\\n",
              "19                                     0.0   \n",
              "22                                     0.0   \n",
              "30                                     0.0   \n",
              "\n",
              "    primary_cleaner.output.concentrate_au  primary_cleaner.output.tail_ag  \\\n",
              "19                                    0.0                       14.915949   \n",
              "22                                    0.0                       13.874346   \n",
              "30                                    0.0                       14.613684   \n",
              "\n",
              "    primary_cleaner.output.tail_pb  primary_cleaner.output.tail_sol  \\\n",
              "19                        2.702527                         7.784534   \n",
              "22                        2.440897                         8.529620   \n",
              "30                        2.893445                         8.537165   \n",
              "\n",
              "    primary_cleaner.output.tail_au  primary_cleaner.state.floatbank8_a_air  \\\n",
              "19                        2.013487                             1599.617983   \n",
              "22                        1.964468                             1596.351031   \n",
              "30                        1.982306                             1599.096777   \n",
              "\n",
              "    primary_cleaner.state.floatbank8_a_level  \\\n",
              "19                               -499.527131   \n",
              "22                               -498.896997   \n",
              "30                               -498.630270   \n",
              "\n",
              "    primary_cleaner.state.floatbank8_b_air  \\\n",
              "19                             1599.389604   \n",
              "22                             1596.177717   \n",
              "30                             1599.484314   \n",
              "\n",
              "    primary_cleaner.state.floatbank8_b_level  \\\n",
              "19                               -499.554869   \n",
              "22                               -500.402418   \n",
              "30                               -499.255872   \n",
              "\n",
              "    primary_cleaner.state.floatbank8_c_air  \\\n",
              "19                             1600.441370   \n",
              "22                             1598.280618   \n",
              "30                             1598.366222   \n",
              "\n",
              "    primary_cleaner.state.floatbank8_c_level  \\\n",
              "19                               -500.503609   \n",
              "22                               -498.946313   \n",
              "30                               -499.198198   \n",
              "\n",
              "    primary_cleaner.state.floatbank8_d_air  \\\n",
              "19                             1601.900702   \n",
              "22                             1600.472486   \n",
              "30                             1602.317332   \n",
              "\n",
              "    primary_cleaner.state.floatbank8_d_level  \\\n",
              "19                               -500.129123   \n",
              "22                               -499.623157   \n",
              "30                               -500.664282   \n",
              "\n",
              "    rougher.calculation.sulfate_to_au_concentrate  \\\n",
              "19                                   41959.818540   \n",
              "22                                   42082.414968   \n",
              "30                                   41974.790294   \n",
              "\n",
              "    rougher.calculation.floatbank10_sulfate_to_au_feed  \\\n",
              "19                                        3507.941540    \n",
              "22                                        3506.178699    \n",
              "30                                        3501.482821    \n",
              "\n",
              "    rougher.calculation.floatbank11_sulfate_to_au_feed  \\\n",
              "19                                        3499.552368    \n",
              "22                                        3501.343118    \n",
              "30                                        3497.994338    \n",
              "\n",
              "    rougher.calculation.au_pb_ratio  rougher.input.feed_ag  \\\n",
              "19                         2.448851               6.046063   \n",
              "22                         2.617243               5.599324   \n",
              "30                         2.600945               5.689557   \n",
              "\n",
              "    rougher.input.feed_pb  rougher.input.feed_rate  rougher.input.feed_size  \\\n",
              "19               2.777324               571.766992                62.823127   \n",
              "22               2.525838               571.140653                64.816398   \n",
              "30               2.508414               583.537789                64.616077   \n",
              "\n",
              "    rougher.input.feed_sol  rougher.input.feed_au  \\\n",
              "19               40.381002               6.801254   \n",
              "22               41.302359               6.610732   \n",
              "30               43.042457               6.524249   \n",
              "\n",
              "    rougher.input.floatbank10_sulfate  rougher.input.floatbank10_xanthate  \\\n",
              "19                          14.812266                            7.064468   \n",
              "22                          14.501843                            7.301759   \n",
              "30                          14.160944                            7.300138   \n",
              "\n",
              "    rougher.input.floatbank11_sulfate  rougher.input.floatbank11_xanthate  \\\n",
              "19                          14.814722                            7.064408   \n",
              "22                          14.460181                            7.298780   \n",
              "30                          14.205313                            7.298306   \n",
              "\n",
              "    rougher.output.concentrate_ag  rougher.output.concentrate_pb  \\\n",
              "19                      10.788951                       7.537074   \n",
              "22                      10.958096                       7.267608   \n",
              "30                      11.574823                       7.384216   \n",
              "\n",
              "    rougher.output.concentrate_sol  rougher.output.concentrate_au  \\\n",
              "19                       26.092838                      18.511902   \n",
              "22                       25.911055                      18.089134   \n",
              "30                       25.740506                      17.583602   \n",
              "\n",
              "    rougher.output.recovery  rougher.output.tail_ag  rougher.output.tail_pb  \\\n",
              "19                86.241795                4.919573                0.739863   \n",
              "22                88.132239                4.421208                0.705108   \n",
              "30                88.066903                4.404777                0.714497   \n",
              "\n",
              "    rougher.output.tail_sol  rougher.output.tail_au  \\\n",
              "19                20.309714                1.369732   \n",
              "22                20.397352                1.157287   \n",
              "30                21.003984                1.156424   \n",
              "\n",
              "    rougher.state.floatbank10_a_air  rougher.state.floatbank10_a_level  \\\n",
              "19                       999.708593                        -400.075046   \n",
              "22                      1000.107388                        -399.263233   \n",
              "30                       999.750176                        -399.931753   \n",
              "\n",
              "    rougher.state.floatbank10_b_air  rougher.state.floatbank10_b_level  \\\n",
              "19                      1600.639292                        -450.110961   \n",
              "22                      1599.780054                        -449.883122   \n",
              "30                      1600.527289                        -450.011008   \n",
              "\n",
              "    rougher.state.floatbank10_c_air  rougher.state.floatbank10_c_level  \\\n",
              "19                      1602.333794                        -450.673170   \n",
              "22                      1597.621485                        -450.022545   \n",
              "30                      1600.517301                        -450.379779   \n",
              "\n",
              "    rougher.state.floatbank10_d_air  rougher.state.floatbank10_d_level  \\\n",
              "19                      1600.427078                        -449.633484   \n",
              "22                      1605.906830                        -449.026683   \n",
              "30                      1603.804224                        -450.250299   \n",
              "\n",
              "    rougher.state.floatbank10_e_air  rougher.state.floatbank10_e_level  \\\n",
              "19                      1401.859581                        -448.145152   \n",
              "22                      1400.871116                        -449.902838   \n",
              "30                      1402.769232                        -447.699241   \n",
              "\n",
              "    rougher.state.floatbank10_f_air  rougher.state.floatbank10_f_level  \\\n",
              "19                      1400.906088                        -451.771497   \n",
              "22                      1400.723107                        -449.651567   \n",
              "30                      1401.919470                        -451.025028   \n",
              "\n",
              "    secondary_cleaner.output.tail_ag  secondary_cleaner.output.tail_pb  \\\n",
              "19                         12.708557                          4.565723   \n",
              "22                         11.523559                          4.466500   \n",
              "30                         12.403678                          5.121716   \n",
              "\n",
              "    secondary_cleaner.output.tail_sol  secondary_cleaner.output.tail_au  \\\n",
              "19                           9.997717                          2.138772   \n",
              "22                          10.776495                          2.018144   \n",
              "30                          11.185081                          2.216077   \n",
              "\n",
              "    secondary_cleaner.state.floatbank2_a_air  \\\n",
              "19                                 25.999540   \n",
              "22                                 25.979270   \n",
              "30                                 25.942168   \n",
              "\n",
              "    secondary_cleaner.state.floatbank2_a_level  \\\n",
              "19                                 -500.152462   \n",
              "22                                 -499.922901   \n",
              "30                                 -500.100481   \n",
              "\n",
              "    secondary_cleaner.state.floatbank2_b_air  \\\n",
              "19                                 24.013000   \n",
              "22                                 24.039935   \n",
              "30                                 24.040606   \n",
              "\n",
              "    secondary_cleaner.state.floatbank2_b_level  \\\n",
              "19                                 -500.297031   \n",
              "22                                 -499.368998   \n",
              "30                                 -499.449996   \n",
              "\n",
              "    secondary_cleaner.state.floatbank3_a_air  \\\n",
              "19                                 24.022240   \n",
              "22                                 24.027888   \n",
              "30                                 25.013290   \n",
              "\n",
              "    secondary_cleaner.state.floatbank3_a_level  \\\n",
              "19                                 -499.329964   \n",
              "22                                 -501.291317   \n",
              "30                                 -500.208164   \n",
              "\n",
              "    secondary_cleaner.state.floatbank3_b_air  \\\n",
              "19                                 24.012891   \n",
              "22                                 23.994020   \n",
              "30                                 23.988862   \n",
              "\n",
              "    secondary_cleaner.state.floatbank3_b_level  \\\n",
              "19                                 -499.923981   \n",
              "22                                 -499.715395   \n",
              "30                                 -500.062470   \n",
              "\n",
              "    secondary_cleaner.state.floatbank4_a_air  \\\n",
              "19                                 14.001632   \n",
              "22                                 13.943970   \n",
              "30                                 13.981220   \n",
              "\n",
              "    secondary_cleaner.state.floatbank4_a_level  \\\n",
              "19                                 -509.808331   \n",
              "22                                 -541.642068   \n",
              "30                                 -551.189582   \n",
              "\n",
              "    secondary_cleaner.state.floatbank4_b_air  \\\n",
              "19                                 12.087669   \n",
              "22                                 11.993920   \n",
              "30                                 12.004777   \n",
              "\n",
              "    secondary_cleaner.state.floatbank4_b_level  \\\n",
              "19                                 -510.782166   \n",
              "22                                 -550.493894   \n",
              "30                                 -549.974630   \n",
              "\n",
              "    secondary_cleaner.state.floatbank5_a_air  \\\n",
              "19                                 10.032043   \n",
              "22                                  9.985232   \n",
              "30                                  9.969535   \n",
              "\n",
              "    secondary_cleaner.state.floatbank5_a_level  \\\n",
              "19                                 -499.128183   \n",
              "22                                 -499.796583   \n",
              "30                                 -499.350934   \n",
              "\n",
              "    secondary_cleaner.state.floatbank5_b_air  \\\n",
              "19                                  8.016140   \n",
              "22                                  7.985524   \n",
              "30                                  8.017975   \n",
              "\n",
              "    secondary_cleaner.state.floatbank5_b_level  \\\n",
              "19                                 -499.806844   \n",
              "22                                 -499.872153   \n",
              "30                                 -500.620850   \n",
              "\n",
              "    secondary_cleaner.state.floatbank6_a_air  \\\n",
              "19                                 13.949790   \n",
              "22                                 13.973257   \n",
              "30                                 11.999969   \n",
              "\n",
              "    secondary_cleaner.state.floatbank6_a_level  \n",
              "19                                 -600.140776  \n",
              "22                                 -600.054998  \n",
              "30                                 -600.315548  "
            ]
          },
          "execution_count": 15,
          "metadata": {},
          "output_type": "execute_result"
        }
      ],
      "source": [
        "data_train.loc[data_train['primary_cleaner.output.concentrate_sol']==0].head(3)"
      ]
    },
    {
      "cell_type": "markdown",
      "metadata": {
        "id": "DfKxwZtxwho2"
      },
      "source": [
        "5. Обоснование удаления нулей в rougher.output.concentrate_ag, rougher.output.concentrate_pb, rougher.output.concentrate_sol, rougher.output.concentrate_au, rougher.output.recovery.\n",
        "\n",
        "5.1. Логика аналогична предыдущему пункту: есть положительные значения в последующих зависимых процессах процессах: primary_cleaner.output.concentrate и final.output.concentrate.\n"
      ]
    },
    {
      "cell_type": "code",
      "execution_count": null,
      "metadata": {
        "id": "rnpB9P8Twho2",
        "outputId": "ccdf7361-1cf3-4eca-9c13-1ba62e9cf669"
      },
      "outputs": [
        {
          "data": {
            "text/html": [
              "<div>\n",
              "<style scoped>\n",
              "    .dataframe tbody tr th:only-of-type {\n",
              "        vertical-align: middle;\n",
              "    }\n",
              "\n",
              "    .dataframe tbody tr th {\n",
              "        vertical-align: top;\n",
              "    }\n",
              "\n",
              "    .dataframe thead th {\n",
              "        text-align: right;\n",
              "    }\n",
              "</style>\n",
              "<table border=\"1\" class=\"dataframe\">\n",
              "  <thead>\n",
              "    <tr style=\"text-align: right;\">\n",
              "      <th></th>\n",
              "      <th>date</th>\n",
              "      <th>final.output.concentrate_ag</th>\n",
              "      <th>final.output.concentrate_pb</th>\n",
              "      <th>final.output.concentrate_sol</th>\n",
              "      <th>final.output.concentrate_au</th>\n",
              "      <th>final.output.recovery</th>\n",
              "      <th>final.output.tail_ag</th>\n",
              "      <th>final.output.tail_pb</th>\n",
              "      <th>final.output.tail_sol</th>\n",
              "      <th>final.output.tail_au</th>\n",
              "      <th>primary_cleaner.input.sulfate</th>\n",
              "      <th>primary_cleaner.input.depressant</th>\n",
              "      <th>primary_cleaner.input.feed_size</th>\n",
              "      <th>primary_cleaner.input.xanthate</th>\n",
              "      <th>primary_cleaner.output.concentrate_ag</th>\n",
              "      <th>primary_cleaner.output.concentrate_pb</th>\n",
              "      <th>primary_cleaner.output.concentrate_sol</th>\n",
              "      <th>primary_cleaner.output.concentrate_au</th>\n",
              "      <th>primary_cleaner.output.tail_ag</th>\n",
              "      <th>primary_cleaner.output.tail_pb</th>\n",
              "      <th>primary_cleaner.output.tail_sol</th>\n",
              "      <th>primary_cleaner.output.tail_au</th>\n",
              "      <th>primary_cleaner.state.floatbank8_a_air</th>\n",
              "      <th>primary_cleaner.state.floatbank8_a_level</th>\n",
              "      <th>primary_cleaner.state.floatbank8_b_air</th>\n",
              "      <th>primary_cleaner.state.floatbank8_b_level</th>\n",
              "      <th>primary_cleaner.state.floatbank8_c_air</th>\n",
              "      <th>primary_cleaner.state.floatbank8_c_level</th>\n",
              "      <th>primary_cleaner.state.floatbank8_d_air</th>\n",
              "      <th>primary_cleaner.state.floatbank8_d_level</th>\n",
              "      <th>rougher.calculation.sulfate_to_au_concentrate</th>\n",
              "      <th>rougher.calculation.floatbank10_sulfate_to_au_feed</th>\n",
              "      <th>rougher.calculation.floatbank11_sulfate_to_au_feed</th>\n",
              "      <th>rougher.calculation.au_pb_ratio</th>\n",
              "      <th>rougher.input.feed_ag</th>\n",
              "      <th>rougher.input.feed_pb</th>\n",
              "      <th>rougher.input.feed_rate</th>\n",
              "      <th>rougher.input.feed_size</th>\n",
              "      <th>rougher.input.feed_sol</th>\n",
              "      <th>rougher.input.feed_au</th>\n",
              "      <th>rougher.input.floatbank10_sulfate</th>\n",
              "      <th>rougher.input.floatbank10_xanthate</th>\n",
              "      <th>rougher.input.floatbank11_sulfate</th>\n",
              "      <th>rougher.input.floatbank11_xanthate</th>\n",
              "      <th>rougher.output.concentrate_ag</th>\n",
              "      <th>rougher.output.concentrate_pb</th>\n",
              "      <th>rougher.output.concentrate_sol</th>\n",
              "      <th>rougher.output.concentrate_au</th>\n",
              "      <th>rougher.output.recovery</th>\n",
              "      <th>rougher.output.tail_ag</th>\n",
              "      <th>rougher.output.tail_pb</th>\n",
              "      <th>rougher.output.tail_sol</th>\n",
              "      <th>rougher.output.tail_au</th>\n",
              "      <th>rougher.state.floatbank10_a_air</th>\n",
              "      <th>rougher.state.floatbank10_a_level</th>\n",
              "      <th>rougher.state.floatbank10_b_air</th>\n",
              "      <th>rougher.state.floatbank10_b_level</th>\n",
              "      <th>rougher.state.floatbank10_c_air</th>\n",
              "      <th>rougher.state.floatbank10_c_level</th>\n",
              "      <th>rougher.state.floatbank10_d_air</th>\n",
              "      <th>rougher.state.floatbank10_d_level</th>\n",
              "      <th>rougher.state.floatbank10_e_air</th>\n",
              "      <th>rougher.state.floatbank10_e_level</th>\n",
              "      <th>rougher.state.floatbank10_f_air</th>\n",
              "      <th>rougher.state.floatbank10_f_level</th>\n",
              "      <th>secondary_cleaner.output.tail_ag</th>\n",
              "      <th>secondary_cleaner.output.tail_pb</th>\n",
              "      <th>secondary_cleaner.output.tail_sol</th>\n",
              "      <th>secondary_cleaner.output.tail_au</th>\n",
              "      <th>secondary_cleaner.state.floatbank2_a_air</th>\n",
              "      <th>secondary_cleaner.state.floatbank2_a_level</th>\n",
              "      <th>secondary_cleaner.state.floatbank2_b_air</th>\n",
              "      <th>secondary_cleaner.state.floatbank2_b_level</th>\n",
              "      <th>secondary_cleaner.state.floatbank3_a_air</th>\n",
              "      <th>secondary_cleaner.state.floatbank3_a_level</th>\n",
              "      <th>secondary_cleaner.state.floatbank3_b_air</th>\n",
              "      <th>secondary_cleaner.state.floatbank3_b_level</th>\n",
              "      <th>secondary_cleaner.state.floatbank4_a_air</th>\n",
              "      <th>secondary_cleaner.state.floatbank4_a_level</th>\n",
              "      <th>secondary_cleaner.state.floatbank4_b_air</th>\n",
              "      <th>secondary_cleaner.state.floatbank4_b_level</th>\n",
              "      <th>secondary_cleaner.state.floatbank5_a_air</th>\n",
              "      <th>secondary_cleaner.state.floatbank5_a_level</th>\n",
              "      <th>secondary_cleaner.state.floatbank5_b_air</th>\n",
              "      <th>secondary_cleaner.state.floatbank5_b_level</th>\n",
              "      <th>secondary_cleaner.state.floatbank6_a_air</th>\n",
              "      <th>secondary_cleaner.state.floatbank6_a_level</th>\n",
              "    </tr>\n",
              "  </thead>\n",
              "  <tbody>\n",
              "    <tr>\n",
              "      <th>45</th>\n",
              "      <td>2016-01-16 21:00:00</td>\n",
              "      <td>4.566664</td>\n",
              "      <td>10.406178</td>\n",
              "      <td>4.588698</td>\n",
              "      <td>46.614456</td>\n",
              "      <td>68.403877</td>\n",
              "      <td>10.705777</td>\n",
              "      <td>1.509070</td>\n",
              "      <td>17.875134</td>\n",
              "      <td>2.509776</td>\n",
              "      <td>131.251366</td>\n",
              "      <td>13.969457</td>\n",
              "      <td>7.25</td>\n",
              "      <td>1.203034</td>\n",
              "      <td>8.513177</td>\n",
              "      <td>9.724797</td>\n",
              "      <td>19.120964</td>\n",
              "      <td>37.633572</td>\n",
              "      <td>16.455383</td>\n",
              "      <td>3.366501</td>\n",
              "      <td>6.864404</td>\n",
              "      <td>3.434734</td>\n",
              "      <td>1601.674776</td>\n",
              "      <td>-500.285160</td>\n",
              "      <td>1600.151967</td>\n",
              "      <td>-499.633542</td>\n",
              "      <td>1599.542959</td>\n",
              "      <td>-499.495721</td>\n",
              "      <td>1599.342687</td>\n",
              "      <td>-500.360306</td>\n",
              "      <td>41359.061159</td>\n",
              "      <td>3196.130244</td>\n",
              "      <td>3205.717062</td>\n",
              "      <td>2.530283</td>\n",
              "      <td>7.521974</td>\n",
              "      <td>2.811569</td>\n",
              "      <td>581.605260</td>\n",
              "      <td>65.620714</td>\n",
              "      <td>41.154430</td>\n",
              "      <td>7.114065</td>\n",
              "      <td>13.322740</td>\n",
              "      <td>7.504592</td>\n",
              "      <td>13.311361</td>\n",
              "      <td>7.493738</td>\n",
              "      <td>0.0</td>\n",
              "      <td>0.0</td>\n",
              "      <td>0.0</td>\n",
              "      <td>0.0</td>\n",
              "      <td>0.0</td>\n",
              "      <td>4.784398</td>\n",
              "      <td>0.818965</td>\n",
              "      <td>20.046797</td>\n",
              "      <td>1.939811</td>\n",
              "      <td>999.026619</td>\n",
              "      <td>-499.850895</td>\n",
              "      <td>1600.614880</td>\n",
              "      <td>-500.331775</td>\n",
              "      <td>1598.654561</td>\n",
              "      <td>-500.364377</td>\n",
              "      <td>1398.394100</td>\n",
              "      <td>-501.540155</td>\n",
              "      <td>1197.182011</td>\n",
              "      <td>-500.205806</td>\n",
              "      <td>1198.542180</td>\n",
              "      <td>-499.648335</td>\n",
              "      <td>13.605154</td>\n",
              "      <td>4.983564</td>\n",
              "      <td>9.545239</td>\n",
              "      <td>3.102137</td>\n",
              "      <td>25.963860</td>\n",
              "      <td>-498.097243</td>\n",
              "      <td>23.896954</td>\n",
              "      <td>-500.047419</td>\n",
              "      <td>24.963926</td>\n",
              "      <td>-500.207267</td>\n",
              "      <td>23.984937</td>\n",
              "      <td>-500.613261</td>\n",
              "      <td>14.025588</td>\n",
              "      <td>-550.404242</td>\n",
              "      <td>12.028925</td>\n",
              "      <td>-550.570104</td>\n",
              "      <td>10.052072</td>\n",
              "      <td>-500.797905</td>\n",
              "      <td>7.984500</td>\n",
              "      <td>-499.581046</td>\n",
              "      <td>11.982025</td>\n",
              "      <td>-599.161228</td>\n",
              "    </tr>\n",
              "    <tr>\n",
              "      <th>46</th>\n",
              "      <td>2016-01-16 22:00:00</td>\n",
              "      <td>4.577832</td>\n",
              "      <td>10.691605</td>\n",
              "      <td>5.274175</td>\n",
              "      <td>46.250638</td>\n",
              "      <td>70.675633</td>\n",
              "      <td>10.728531</td>\n",
              "      <td>1.641216</td>\n",
              "      <td>18.349339</td>\n",
              "      <td>2.540843</td>\n",
              "      <td>141.184039</td>\n",
              "      <td>13.978607</td>\n",
              "      <td>7.25</td>\n",
              "      <td>1.248254</td>\n",
              "      <td>8.466262</td>\n",
              "      <td>9.780929</td>\n",
              "      <td>19.220963</td>\n",
              "      <td>37.718947</td>\n",
              "      <td>15.517931</td>\n",
              "      <td>3.076929</td>\n",
              "      <td>7.321526</td>\n",
              "      <td>3.102171</td>\n",
              "      <td>1604.852903</td>\n",
              "      <td>-500.922517</td>\n",
              "      <td>1603.005456</td>\n",
              "      <td>-499.631837</td>\n",
              "      <td>1599.307763</td>\n",
              "      <td>-501.200791</td>\n",
              "      <td>1599.437018</td>\n",
              "      <td>-499.307245</td>\n",
              "      <td>41274.202372</td>\n",
              "      <td>3196.955345</td>\n",
              "      <td>3205.146739</td>\n",
              "      <td>2.572943</td>\n",
              "      <td>7.313187</td>\n",
              "      <td>2.973841</td>\n",
              "      <td>562.972841</td>\n",
              "      <td>66.014780</td>\n",
              "      <td>41.983063</td>\n",
              "      <td>7.651522</td>\n",
              "      <td>14.433889</td>\n",
              "      <td>7.583598</td>\n",
              "      <td>14.482716</td>\n",
              "      <td>7.578460</td>\n",
              "      <td>0.0</td>\n",
              "      <td>0.0</td>\n",
              "      <td>0.0</td>\n",
              "      <td>0.0</td>\n",
              "      <td>0.0</td>\n",
              "      <td>4.955785</td>\n",
              "      <td>0.891051</td>\n",
              "      <td>19.633741</td>\n",
              "      <td>2.087628</td>\n",
              "      <td>999.846655</td>\n",
              "      <td>-500.082738</td>\n",
              "      <td>1599.408126</td>\n",
              "      <td>-500.189249</td>\n",
              "      <td>1598.918123</td>\n",
              "      <td>-498.775979</td>\n",
              "      <td>1398.970429</td>\n",
              "      <td>-500.939255</td>\n",
              "      <td>1198.632079</td>\n",
              "      <td>-501.344435</td>\n",
              "      <td>1198.715369</td>\n",
              "      <td>-500.311765</td>\n",
              "      <td>13.130989</td>\n",
              "      <td>5.043644</td>\n",
              "      <td>9.734058</td>\n",
              "      <td>2.920315</td>\n",
              "      <td>25.946448</td>\n",
              "      <td>-502.052990</td>\n",
              "      <td>23.903017</td>\n",
              "      <td>-500.245612</td>\n",
              "      <td>25.029826</td>\n",
              "      <td>-499.896144</td>\n",
              "      <td>23.963950</td>\n",
              "      <td>-499.786821</td>\n",
              "      <td>14.094808</td>\n",
              "      <td>-550.676337</td>\n",
              "      <td>12.004728</td>\n",
              "      <td>-550.496522</td>\n",
              "      <td>9.953139</td>\n",
              "      <td>-500.330920</td>\n",
              "      <td>8.012074</td>\n",
              "      <td>-500.133530</td>\n",
              "      <td>11.975316</td>\n",
              "      <td>-598.839683</td>\n",
              "    </tr>\n",
              "    <tr>\n",
              "      <th>47</th>\n",
              "      <td>2016-01-16 23:00:00</td>\n",
              "      <td>4.591462</td>\n",
              "      <td>10.628846</td>\n",
              "      <td>5.688961</td>\n",
              "      <td>46.663335</td>\n",
              "      <td>55.088448</td>\n",
              "      <td>10.694584</td>\n",
              "      <td>1.671644</td>\n",
              "      <td>17.910312</td>\n",
              "      <td>2.686782</td>\n",
              "      <td>126.397495</td>\n",
              "      <td>12.709727</td>\n",
              "      <td>7.25</td>\n",
              "      <td>1.229626</td>\n",
              "      <td>8.092185</td>\n",
              "      <td>9.719728</td>\n",
              "      <td>19.077471</td>\n",
              "      <td>38.624404</td>\n",
              "      <td>15.911266</td>\n",
              "      <td>3.269298</td>\n",
              "      <td>7.095597</td>\n",
              "      <td>3.513846</td>\n",
              "      <td>1601.301169</td>\n",
              "      <td>-498.725777</td>\n",
              "      <td>1605.370031</td>\n",
              "      <td>-500.644437</td>\n",
              "      <td>1598.360694</td>\n",
              "      <td>-500.461991</td>\n",
              "      <td>1604.014273</td>\n",
              "      <td>-501.824136</td>\n",
              "      <td>35990.036451</td>\n",
              "      <td>3220.710538</td>\n",
              "      <td>3206.895723</td>\n",
              "      <td>3.168669</td>\n",
              "      <td>7.934791</td>\n",
              "      <td>1.763437</td>\n",
              "      <td>229.379445</td>\n",
              "      <td>40.601032</td>\n",
              "      <td>41.983063</td>\n",
              "      <td>5.587750</td>\n",
              "      <td>10.865871</td>\n",
              "      <td>5.648950</td>\n",
              "      <td>10.786929</td>\n",
              "      <td>5.638302</td>\n",
              "      <td>0.0</td>\n",
              "      <td>0.0</td>\n",
              "      <td>0.0</td>\n",
              "      <td>0.0</td>\n",
              "      <td>0.0</td>\n",
              "      <td>4.990718</td>\n",
              "      <td>0.901107</td>\n",
              "      <td>19.096033</td>\n",
              "      <td>2.126460</td>\n",
              "      <td>1003.354806</td>\n",
              "      <td>-501.078303</td>\n",
              "      <td>1603.648910</td>\n",
              "      <td>-498.000810</td>\n",
              "      <td>1603.488420</td>\n",
              "      <td>-495.577057</td>\n",
              "      <td>1402.004381</td>\n",
              "      <td>-497.117094</td>\n",
              "      <td>1203.394353</td>\n",
              "      <td>-494.391170</td>\n",
              "      <td>1202.592202</td>\n",
              "      <td>-500.167701</td>\n",
              "      <td>13.648648</td>\n",
              "      <td>5.146849</td>\n",
              "      <td>9.601115</td>\n",
              "      <td>3.108674</td>\n",
              "      <td>26.069763</td>\n",
              "      <td>-502.180953</td>\n",
              "      <td>24.044256</td>\n",
              "      <td>-502.252420</td>\n",
              "      <td>25.024571</td>\n",
              "      <td>-499.417407</td>\n",
              "      <td>23.983086</td>\n",
              "      <td>-499.931140</td>\n",
              "      <td>13.997488</td>\n",
              "      <td>-551.224653</td>\n",
              "      <td>11.971272</td>\n",
              "      <td>-550.095619</td>\n",
              "      <td>9.981163</td>\n",
              "      <td>-502.869109</td>\n",
              "      <td>7.941184</td>\n",
              "      <td>-500.623610</td>\n",
              "      <td>12.018837</td>\n",
              "      <td>-600.916665</td>\n",
              "    </tr>\n",
              "  </tbody>\n",
              "</table>\n",
              "</div>"
            ],
            "text/plain": [
              "                   date  final.output.concentrate_ag  \\\n",
              "45  2016-01-16 21:00:00                     4.566664   \n",
              "46  2016-01-16 22:00:00                     4.577832   \n",
              "47  2016-01-16 23:00:00                     4.591462   \n",
              "\n",
              "    final.output.concentrate_pb  final.output.concentrate_sol  \\\n",
              "45                    10.406178                      4.588698   \n",
              "46                    10.691605                      5.274175   \n",
              "47                    10.628846                      5.688961   \n",
              "\n",
              "    final.output.concentrate_au  final.output.recovery  final.output.tail_ag  \\\n",
              "45                    46.614456              68.403877             10.705777   \n",
              "46                    46.250638              70.675633             10.728531   \n",
              "47                    46.663335              55.088448             10.694584   \n",
              "\n",
              "    final.output.tail_pb  final.output.tail_sol  final.output.tail_au  \\\n",
              "45              1.509070              17.875134              2.509776   \n",
              "46              1.641216              18.349339              2.540843   \n",
              "47              1.671644              17.910312              2.686782   \n",
              "\n",
              "    primary_cleaner.input.sulfate  primary_cleaner.input.depressant  \\\n",
              "45                     131.251366                         13.969457   \n",
              "46                     141.184039                         13.978607   \n",
              "47                     126.397495                         12.709727   \n",
              "\n",
              "    primary_cleaner.input.feed_size  primary_cleaner.input.xanthate  \\\n",
              "45                             7.25                        1.203034   \n",
              "46                             7.25                        1.248254   \n",
              "47                             7.25                        1.229626   \n",
              "\n",
              "    primary_cleaner.output.concentrate_ag  \\\n",
              "45                               8.513177   \n",
              "46                               8.466262   \n",
              "47                               8.092185   \n",
              "\n",
              "    primary_cleaner.output.concentrate_pb  \\\n",
              "45                               9.724797   \n",
              "46                               9.780929   \n",
              "47                               9.719728   \n",
              "\n",
              "    primary_cleaner.output.concentrate_sol  \\\n",
              "45                               19.120964   \n",
              "46                               19.220963   \n",
              "47                               19.077471   \n",
              "\n",
              "    primary_cleaner.output.concentrate_au  primary_cleaner.output.tail_ag  \\\n",
              "45                              37.633572                       16.455383   \n",
              "46                              37.718947                       15.517931   \n",
              "47                              38.624404                       15.911266   \n",
              "\n",
              "    primary_cleaner.output.tail_pb  primary_cleaner.output.tail_sol  \\\n",
              "45                        3.366501                         6.864404   \n",
              "46                        3.076929                         7.321526   \n",
              "47                        3.269298                         7.095597   \n",
              "\n",
              "    primary_cleaner.output.tail_au  primary_cleaner.state.floatbank8_a_air  \\\n",
              "45                        3.434734                             1601.674776   \n",
              "46                        3.102171                             1604.852903   \n",
              "47                        3.513846                             1601.301169   \n",
              "\n",
              "    primary_cleaner.state.floatbank8_a_level  \\\n",
              "45                               -500.285160   \n",
              "46                               -500.922517   \n",
              "47                               -498.725777   \n",
              "\n",
              "    primary_cleaner.state.floatbank8_b_air  \\\n",
              "45                             1600.151967   \n",
              "46                             1603.005456   \n",
              "47                             1605.370031   \n",
              "\n",
              "    primary_cleaner.state.floatbank8_b_level  \\\n",
              "45                               -499.633542   \n",
              "46                               -499.631837   \n",
              "47                               -500.644437   \n",
              "\n",
              "    primary_cleaner.state.floatbank8_c_air  \\\n",
              "45                             1599.542959   \n",
              "46                             1599.307763   \n",
              "47                             1598.360694   \n",
              "\n",
              "    primary_cleaner.state.floatbank8_c_level  \\\n",
              "45                               -499.495721   \n",
              "46                               -501.200791   \n",
              "47                               -500.461991   \n",
              "\n",
              "    primary_cleaner.state.floatbank8_d_air  \\\n",
              "45                             1599.342687   \n",
              "46                             1599.437018   \n",
              "47                             1604.014273   \n",
              "\n",
              "    primary_cleaner.state.floatbank8_d_level  \\\n",
              "45                               -500.360306   \n",
              "46                               -499.307245   \n",
              "47                               -501.824136   \n",
              "\n",
              "    rougher.calculation.sulfate_to_au_concentrate  \\\n",
              "45                                   41359.061159   \n",
              "46                                   41274.202372   \n",
              "47                                   35990.036451   \n",
              "\n",
              "    rougher.calculation.floatbank10_sulfate_to_au_feed  \\\n",
              "45                                        3196.130244    \n",
              "46                                        3196.955345    \n",
              "47                                        3220.710538    \n",
              "\n",
              "    rougher.calculation.floatbank11_sulfate_to_au_feed  \\\n",
              "45                                        3205.717062    \n",
              "46                                        3205.146739    \n",
              "47                                        3206.895723    \n",
              "\n",
              "    rougher.calculation.au_pb_ratio  rougher.input.feed_ag  \\\n",
              "45                         2.530283               7.521974   \n",
              "46                         2.572943               7.313187   \n",
              "47                         3.168669               7.934791   \n",
              "\n",
              "    rougher.input.feed_pb  rougher.input.feed_rate  rougher.input.feed_size  \\\n",
              "45               2.811569               581.605260                65.620714   \n",
              "46               2.973841               562.972841                66.014780   \n",
              "47               1.763437               229.379445                40.601032   \n",
              "\n",
              "    rougher.input.feed_sol  rougher.input.feed_au  \\\n",
              "45               41.154430               7.114065   \n",
              "46               41.983063               7.651522   \n",
              "47               41.983063               5.587750   \n",
              "\n",
              "    rougher.input.floatbank10_sulfate  rougher.input.floatbank10_xanthate  \\\n",
              "45                          13.322740                            7.504592   \n",
              "46                          14.433889                            7.583598   \n",
              "47                          10.865871                            5.648950   \n",
              "\n",
              "    rougher.input.floatbank11_sulfate  rougher.input.floatbank11_xanthate  \\\n",
              "45                          13.311361                            7.493738   \n",
              "46                          14.482716                            7.578460   \n",
              "47                          10.786929                            5.638302   \n",
              "\n",
              "    rougher.output.concentrate_ag  rougher.output.concentrate_pb  \\\n",
              "45                            0.0                            0.0   \n",
              "46                            0.0                            0.0   \n",
              "47                            0.0                            0.0   \n",
              "\n",
              "    rougher.output.concentrate_sol  rougher.output.concentrate_au  \\\n",
              "45                             0.0                            0.0   \n",
              "46                             0.0                            0.0   \n",
              "47                             0.0                            0.0   \n",
              "\n",
              "    rougher.output.recovery  rougher.output.tail_ag  rougher.output.tail_pb  \\\n",
              "45                      0.0                4.784398                0.818965   \n",
              "46                      0.0                4.955785                0.891051   \n",
              "47                      0.0                4.990718                0.901107   \n",
              "\n",
              "    rougher.output.tail_sol  rougher.output.tail_au  \\\n",
              "45                20.046797                1.939811   \n",
              "46                19.633741                2.087628   \n",
              "47                19.096033                2.126460   \n",
              "\n",
              "    rougher.state.floatbank10_a_air  rougher.state.floatbank10_a_level  \\\n",
              "45                       999.026619                        -499.850895   \n",
              "46                       999.846655                        -500.082738   \n",
              "47                      1003.354806                        -501.078303   \n",
              "\n",
              "    rougher.state.floatbank10_b_air  rougher.state.floatbank10_b_level  \\\n",
              "45                      1600.614880                        -500.331775   \n",
              "46                      1599.408126                        -500.189249   \n",
              "47                      1603.648910                        -498.000810   \n",
              "\n",
              "    rougher.state.floatbank10_c_air  rougher.state.floatbank10_c_level  \\\n",
              "45                      1598.654561                        -500.364377   \n",
              "46                      1598.918123                        -498.775979   \n",
              "47                      1603.488420                        -495.577057   \n",
              "\n",
              "    rougher.state.floatbank10_d_air  rougher.state.floatbank10_d_level  \\\n",
              "45                      1398.394100                        -501.540155   \n",
              "46                      1398.970429                        -500.939255   \n",
              "47                      1402.004381                        -497.117094   \n",
              "\n",
              "    rougher.state.floatbank10_e_air  rougher.state.floatbank10_e_level  \\\n",
              "45                      1197.182011                        -500.205806   \n",
              "46                      1198.632079                        -501.344435   \n",
              "47                      1203.394353                        -494.391170   \n",
              "\n",
              "    rougher.state.floatbank10_f_air  rougher.state.floatbank10_f_level  \\\n",
              "45                      1198.542180                        -499.648335   \n",
              "46                      1198.715369                        -500.311765   \n",
              "47                      1202.592202                        -500.167701   \n",
              "\n",
              "    secondary_cleaner.output.tail_ag  secondary_cleaner.output.tail_pb  \\\n",
              "45                         13.605154                          4.983564   \n",
              "46                         13.130989                          5.043644   \n",
              "47                         13.648648                          5.146849   \n",
              "\n",
              "    secondary_cleaner.output.tail_sol  secondary_cleaner.output.tail_au  \\\n",
              "45                           9.545239                          3.102137   \n",
              "46                           9.734058                          2.920315   \n",
              "47                           9.601115                          3.108674   \n",
              "\n",
              "    secondary_cleaner.state.floatbank2_a_air  \\\n",
              "45                                 25.963860   \n",
              "46                                 25.946448   \n",
              "47                                 26.069763   \n",
              "\n",
              "    secondary_cleaner.state.floatbank2_a_level  \\\n",
              "45                                 -498.097243   \n",
              "46                                 -502.052990   \n",
              "47                                 -502.180953   \n",
              "\n",
              "    secondary_cleaner.state.floatbank2_b_air  \\\n",
              "45                                 23.896954   \n",
              "46                                 23.903017   \n",
              "47                                 24.044256   \n",
              "\n",
              "    secondary_cleaner.state.floatbank2_b_level  \\\n",
              "45                                 -500.047419   \n",
              "46                                 -500.245612   \n",
              "47                                 -502.252420   \n",
              "\n",
              "    secondary_cleaner.state.floatbank3_a_air  \\\n",
              "45                                 24.963926   \n",
              "46                                 25.029826   \n",
              "47                                 25.024571   \n",
              "\n",
              "    secondary_cleaner.state.floatbank3_a_level  \\\n",
              "45                                 -500.207267   \n",
              "46                                 -499.896144   \n",
              "47                                 -499.417407   \n",
              "\n",
              "    secondary_cleaner.state.floatbank3_b_air  \\\n",
              "45                                 23.984937   \n",
              "46                                 23.963950   \n",
              "47                                 23.983086   \n",
              "\n",
              "    secondary_cleaner.state.floatbank3_b_level  \\\n",
              "45                                 -500.613261   \n",
              "46                                 -499.786821   \n",
              "47                                 -499.931140   \n",
              "\n",
              "    secondary_cleaner.state.floatbank4_a_air  \\\n",
              "45                                 14.025588   \n",
              "46                                 14.094808   \n",
              "47                                 13.997488   \n",
              "\n",
              "    secondary_cleaner.state.floatbank4_a_level  \\\n",
              "45                                 -550.404242   \n",
              "46                                 -550.676337   \n",
              "47                                 -551.224653   \n",
              "\n",
              "    secondary_cleaner.state.floatbank4_b_air  \\\n",
              "45                                 12.028925   \n",
              "46                                 12.004728   \n",
              "47                                 11.971272   \n",
              "\n",
              "    secondary_cleaner.state.floatbank4_b_level  \\\n",
              "45                                 -550.570104   \n",
              "46                                 -550.496522   \n",
              "47                                 -550.095619   \n",
              "\n",
              "    secondary_cleaner.state.floatbank5_a_air  \\\n",
              "45                                 10.052072   \n",
              "46                                  9.953139   \n",
              "47                                  9.981163   \n",
              "\n",
              "    secondary_cleaner.state.floatbank5_a_level  \\\n",
              "45                                 -500.797905   \n",
              "46                                 -500.330920   \n",
              "47                                 -502.869109   \n",
              "\n",
              "    secondary_cleaner.state.floatbank5_b_air  \\\n",
              "45                                  7.984500   \n",
              "46                                  8.012074   \n",
              "47                                  7.941184   \n",
              "\n",
              "    secondary_cleaner.state.floatbank5_b_level  \\\n",
              "45                                 -499.581046   \n",
              "46                                 -500.133530   \n",
              "47                                 -500.623610   \n",
              "\n",
              "    secondary_cleaner.state.floatbank6_a_air  \\\n",
              "45                                 11.982025   \n",
              "46                                 11.975316   \n",
              "47                                 12.018837   \n",
              "\n",
              "    secondary_cleaner.state.floatbank6_a_level  \n",
              "45                                 -599.161228  \n",
              "46                                 -598.839683  \n",
              "47                                 -600.916665  "
            ]
          },
          "execution_count": 16,
          "metadata": {},
          "output_type": "execute_result"
        }
      ],
      "source": [
        "data_train.loc[data_train['rougher.output.concentrate_sol']==0].head(3)"
      ]
    },
    {
      "cell_type": "markdown",
      "metadata": {
        "id": "Ar7IMuyJwho2"
      },
      "source": [
        "6. Обоснование удаления нулей в primary_cleaner.output.tail_ag, primary_cleaner.output.tail_pb, primary_cleaner.output.tail_sol, primary_cleaner.output.tail_au и secondary_cleaner.output.tail_ag, secondary_cleaner.output.tail_pb, secondary_cleaner.output.tail_sol, secondary_cleaner.output.tail_au.\n",
        "\n",
        "6.1. Как и в предыдущем случае с хвостами описаемся на описание технологического процесса: есть новый концентрат, то должны получиться и новые хвосты. Выходные концентраты на этапах присутствуют, значит хвосты не могут равняться нулю."
      ]
    },
    {
      "cell_type": "code",
      "execution_count": null,
      "metadata": {
        "id": "nTPsqAY_who2",
        "outputId": "70de6ae4-8468-4016-b6d6-af823148202a"
      },
      "outputs": [
        {
          "data": {
            "text/html": [
              "<div>\n",
              "<style scoped>\n",
              "    .dataframe tbody tr th:only-of-type {\n",
              "        vertical-align: middle;\n",
              "    }\n",
              "\n",
              "    .dataframe tbody tr th {\n",
              "        vertical-align: top;\n",
              "    }\n",
              "\n",
              "    .dataframe thead th {\n",
              "        text-align: right;\n",
              "    }\n",
              "</style>\n",
              "<table border=\"1\" class=\"dataframe\">\n",
              "  <thead>\n",
              "    <tr style=\"text-align: right;\">\n",
              "      <th></th>\n",
              "      <th>date</th>\n",
              "      <th>final.output.concentrate_ag</th>\n",
              "      <th>final.output.concentrate_pb</th>\n",
              "      <th>final.output.concentrate_sol</th>\n",
              "      <th>final.output.concentrate_au</th>\n",
              "      <th>final.output.recovery</th>\n",
              "      <th>final.output.tail_ag</th>\n",
              "      <th>final.output.tail_pb</th>\n",
              "      <th>final.output.tail_sol</th>\n",
              "      <th>final.output.tail_au</th>\n",
              "      <th>primary_cleaner.input.sulfate</th>\n",
              "      <th>primary_cleaner.input.depressant</th>\n",
              "      <th>primary_cleaner.input.feed_size</th>\n",
              "      <th>primary_cleaner.input.xanthate</th>\n",
              "      <th>primary_cleaner.output.concentrate_ag</th>\n",
              "      <th>primary_cleaner.output.concentrate_pb</th>\n",
              "      <th>primary_cleaner.output.concentrate_sol</th>\n",
              "      <th>primary_cleaner.output.concentrate_au</th>\n",
              "      <th>primary_cleaner.output.tail_ag</th>\n",
              "      <th>primary_cleaner.output.tail_pb</th>\n",
              "      <th>primary_cleaner.output.tail_sol</th>\n",
              "      <th>primary_cleaner.output.tail_au</th>\n",
              "      <th>primary_cleaner.state.floatbank8_a_air</th>\n",
              "      <th>primary_cleaner.state.floatbank8_a_level</th>\n",
              "      <th>primary_cleaner.state.floatbank8_b_air</th>\n",
              "      <th>primary_cleaner.state.floatbank8_b_level</th>\n",
              "      <th>primary_cleaner.state.floatbank8_c_air</th>\n",
              "      <th>primary_cleaner.state.floatbank8_c_level</th>\n",
              "      <th>primary_cleaner.state.floatbank8_d_air</th>\n",
              "      <th>primary_cleaner.state.floatbank8_d_level</th>\n",
              "      <th>rougher.calculation.sulfate_to_au_concentrate</th>\n",
              "      <th>rougher.calculation.floatbank10_sulfate_to_au_feed</th>\n",
              "      <th>rougher.calculation.floatbank11_sulfate_to_au_feed</th>\n",
              "      <th>rougher.calculation.au_pb_ratio</th>\n",
              "      <th>rougher.input.feed_ag</th>\n",
              "      <th>rougher.input.feed_pb</th>\n",
              "      <th>rougher.input.feed_rate</th>\n",
              "      <th>rougher.input.feed_size</th>\n",
              "      <th>rougher.input.feed_sol</th>\n",
              "      <th>rougher.input.feed_au</th>\n",
              "      <th>rougher.input.floatbank10_sulfate</th>\n",
              "      <th>rougher.input.floatbank10_xanthate</th>\n",
              "      <th>rougher.input.floatbank11_sulfate</th>\n",
              "      <th>rougher.input.floatbank11_xanthate</th>\n",
              "      <th>rougher.output.concentrate_ag</th>\n",
              "      <th>rougher.output.concentrate_pb</th>\n",
              "      <th>rougher.output.concentrate_sol</th>\n",
              "      <th>rougher.output.concentrate_au</th>\n",
              "      <th>rougher.output.recovery</th>\n",
              "      <th>rougher.output.tail_ag</th>\n",
              "      <th>rougher.output.tail_pb</th>\n",
              "      <th>rougher.output.tail_sol</th>\n",
              "      <th>rougher.output.tail_au</th>\n",
              "      <th>rougher.state.floatbank10_a_air</th>\n",
              "      <th>rougher.state.floatbank10_a_level</th>\n",
              "      <th>rougher.state.floatbank10_b_air</th>\n",
              "      <th>rougher.state.floatbank10_b_level</th>\n",
              "      <th>rougher.state.floatbank10_c_air</th>\n",
              "      <th>rougher.state.floatbank10_c_level</th>\n",
              "      <th>rougher.state.floatbank10_d_air</th>\n",
              "      <th>rougher.state.floatbank10_d_level</th>\n",
              "      <th>rougher.state.floatbank10_e_air</th>\n",
              "      <th>rougher.state.floatbank10_e_level</th>\n",
              "      <th>rougher.state.floatbank10_f_air</th>\n",
              "      <th>rougher.state.floatbank10_f_level</th>\n",
              "      <th>secondary_cleaner.output.tail_ag</th>\n",
              "      <th>secondary_cleaner.output.tail_pb</th>\n",
              "      <th>secondary_cleaner.output.tail_sol</th>\n",
              "      <th>secondary_cleaner.output.tail_au</th>\n",
              "      <th>secondary_cleaner.state.floatbank2_a_air</th>\n",
              "      <th>secondary_cleaner.state.floatbank2_a_level</th>\n",
              "      <th>secondary_cleaner.state.floatbank2_b_air</th>\n",
              "      <th>secondary_cleaner.state.floatbank2_b_level</th>\n",
              "      <th>secondary_cleaner.state.floatbank3_a_air</th>\n",
              "      <th>secondary_cleaner.state.floatbank3_a_level</th>\n",
              "      <th>secondary_cleaner.state.floatbank3_b_air</th>\n",
              "      <th>secondary_cleaner.state.floatbank3_b_level</th>\n",
              "      <th>secondary_cleaner.state.floatbank4_a_air</th>\n",
              "      <th>secondary_cleaner.state.floatbank4_a_level</th>\n",
              "      <th>secondary_cleaner.state.floatbank4_b_air</th>\n",
              "      <th>secondary_cleaner.state.floatbank4_b_level</th>\n",
              "      <th>secondary_cleaner.state.floatbank5_a_air</th>\n",
              "      <th>secondary_cleaner.state.floatbank5_a_level</th>\n",
              "      <th>secondary_cleaner.state.floatbank5_b_air</th>\n",
              "      <th>secondary_cleaner.state.floatbank5_b_level</th>\n",
              "      <th>secondary_cleaner.state.floatbank6_a_air</th>\n",
              "      <th>secondary_cleaner.state.floatbank6_a_level</th>\n",
              "    </tr>\n",
              "  </thead>\n",
              "  <tbody>\n",
              "    <tr>\n",
              "      <th>1243</th>\n",
              "      <td>2016-03-13 12:00:00</td>\n",
              "      <td>0.371783</td>\n",
              "      <td>0.629302</td>\n",
              "      <td>0.253231</td>\n",
              "      <td>3.505267</td>\n",
              "      <td>72.707062</td>\n",
              "      <td>1.309797</td>\n",
              "      <td>0.212103</td>\n",
              "      <td>2.379831</td>\n",
              "      <td>0.403496</td>\n",
              "      <td>134.709461</td>\n",
              "      <td>11.982738</td>\n",
              "      <td>8.005667</td>\n",
              "      <td>0.956090</td>\n",
              "      <td>0.228718</td>\n",
              "      <td>0.148024</td>\n",
              "      <td>0.287696</td>\n",
              "      <td>0.988034</td>\n",
              "      <td>0.0</td>\n",
              "      <td>0.0</td>\n",
              "      <td>0.0</td>\n",
              "      <td>0.0</td>\n",
              "      <td>1601.077281</td>\n",
              "      <td>-399.700132</td>\n",
              "      <td>1602.445673</td>\n",
              "      <td>-399.366374</td>\n",
              "      <td>1599.291532</td>\n",
              "      <td>-398.668689</td>\n",
              "      <td>590.118921</td>\n",
              "      <td>-400.103080</td>\n",
              "      <td>39539.306606</td>\n",
              "      <td>2452.175586</td>\n",
              "      <td>2449.693926</td>\n",
              "      <td>3.155826</td>\n",
              "      <td>1.106758</td>\n",
              "      <td>0.358522</td>\n",
              "      <td>502.360268</td>\n",
              "      <td>51.964681</td>\n",
              "      <td>5.622568</td>\n",
              "      <td>1.131434</td>\n",
              "      <td>10.046321</td>\n",
              "      <td>7.418992</td>\n",
              "      <td>10.038419</td>\n",
              "      <td>7.421236</td>\n",
              "      <td>0.000000</td>\n",
              "      <td>0.000000</td>\n",
              "      <td>0.000000</td>\n",
              "      <td>0.000000</td>\n",
              "      <td>0.000000</td>\n",
              "      <td>5.525764</td>\n",
              "      <td>0.085127</td>\n",
              "      <td>20.779297</td>\n",
              "      <td>1.816174</td>\n",
              "      <td>999.444742</td>\n",
              "      <td>-499.599772</td>\n",
              "      <td>1499.641637</td>\n",
              "      <td>-499.895930</td>\n",
              "      <td>1500.737132</td>\n",
              "      <td>-500.304718</td>\n",
              "      <td>1504.498416</td>\n",
              "      <td>-499.916795</td>\n",
              "      <td>1301.231427</td>\n",
              "      <td>-499.182264</td>\n",
              "      <td>1201.396653</td>\n",
              "      <td>-499.665895</td>\n",
              "      <td>0.017409</td>\n",
              "      <td>0.007514</td>\n",
              "      <td>0.021719</td>\n",
              "      <td>0.005877</td>\n",
              "      <td>30.015576</td>\n",
              "      <td>-497.087068</td>\n",
              "      <td>27.995837</td>\n",
              "      <td>-500.217269</td>\n",
              "      <td>26.998878</td>\n",
              "      <td>-499.614812</td>\n",
              "      <td>24.954651</td>\n",
              "      <td>-499.883065</td>\n",
              "      <td>11.965964</td>\n",
              "      <td>-500.860287</td>\n",
              "      <td>12.065144</td>\n",
              "      <td>-500.078915</td>\n",
              "      <td>11.964771</td>\n",
              "      <td>-499.142019</td>\n",
              "      <td>9.978513</td>\n",
              "      <td>-500.157967</td>\n",
              "      <td>20.037665</td>\n",
              "      <td>-499.811109</td>\n",
              "    </tr>\n",
              "    <tr>\n",
              "      <th>1929</th>\n",
              "      <td>2016-04-21 00:00:00</td>\n",
              "      <td>1.040656</td>\n",
              "      <td>1.866097</td>\n",
              "      <td>2.735971</td>\n",
              "      <td>7.148353</td>\n",
              "      <td>59.657700</td>\n",
              "      <td>1.088713</td>\n",
              "      <td>0.249844</td>\n",
              "      <td>1.831435</td>\n",
              "      <td>0.456159</td>\n",
              "      <td>127.087791</td>\n",
              "      <td>12.304945</td>\n",
              "      <td>7.300000</td>\n",
              "      <td>1.195756</td>\n",
              "      <td>0.186975</td>\n",
              "      <td>0.137007</td>\n",
              "      <td>0.240759</td>\n",
              "      <td>0.713426</td>\n",
              "      <td>0.0</td>\n",
              "      <td>0.0</td>\n",
              "      <td>0.0</td>\n",
              "      <td>0.0</td>\n",
              "      <td>1500.852771</td>\n",
              "      <td>-499.960480</td>\n",
              "      <td>1501.585225</td>\n",
              "      <td>-500.011738</td>\n",
              "      <td>1501.198070</td>\n",
              "      <td>-499.153395</td>\n",
              "      <td>1490.767242</td>\n",
              "      <td>-500.654303</td>\n",
              "      <td>41303.829228</td>\n",
              "      <td>2518.284365</td>\n",
              "      <td>2521.238029</td>\n",
              "      <td>2.515725</td>\n",
              "      <td>1.116930</td>\n",
              "      <td>0.410705</td>\n",
              "      <td>560.768066</td>\n",
              "      <td>67.518676</td>\n",
              "      <td>5.868278</td>\n",
              "      <td>1.033221</td>\n",
              "      <td>10.002095</td>\n",
              "      <td>6.307356</td>\n",
              "      <td>9.990991</td>\n",
              "      <td>7.504806</td>\n",
              "      <td>0.351874</td>\n",
              "      <td>0.214360</td>\n",
              "      <td>0.879593</td>\n",
              "      <td>0.570819</td>\n",
              "      <td>48.457734</td>\n",
              "      <td>8.471625</td>\n",
              "      <td>0.196956</td>\n",
              "      <td>24.029297</td>\n",
              "      <td>4.333786</td>\n",
              "      <td>999.975985</td>\n",
              "      <td>-300.363166</td>\n",
              "      <td>1199.255468</td>\n",
              "      <td>-500.096603</td>\n",
              "      <td>1199.995174</td>\n",
              "      <td>-497.905108</td>\n",
              "      <td>1198.397433</td>\n",
              "      <td>-500.855404</td>\n",
              "      <td>1098.077371</td>\n",
              "      <td>-499.796931</td>\n",
              "      <td>1000.698464</td>\n",
              "      <td>-496.837563</td>\n",
              "      <td>0.000000</td>\n",
              "      <td>0.000000</td>\n",
              "      <td>0.000000</td>\n",
              "      <td>0.000000</td>\n",
              "      <td>30.099104</td>\n",
              "      <td>-499.977689</td>\n",
              "      <td>28.943525</td>\n",
              "      <td>-498.894499</td>\n",
              "      <td>29.017110</td>\n",
              "      <td>-500.212762</td>\n",
              "      <td>27.988294</td>\n",
              "      <td>-500.518310</td>\n",
              "      <td>14.019715</td>\n",
              "      <td>-500.664569</td>\n",
              "      <td>12.025928</td>\n",
              "      <td>-499.677789</td>\n",
              "      <td>13.011800</td>\n",
              "      <td>-498.432371</td>\n",
              "      <td>10.968442</td>\n",
              "      <td>-499.167247</td>\n",
              "      <td>19.971177</td>\n",
              "      <td>-499.803257</td>\n",
              "    </tr>\n",
              "    <tr>\n",
              "      <th>2533</th>\n",
              "      <td>2016-05-25 09:59:59</td>\n",
              "      <td>4.539454</td>\n",
              "      <td>8.403190</td>\n",
              "      <td>9.078570</td>\n",
              "      <td>46.454830</td>\n",
              "      <td>71.212122</td>\n",
              "      <td>9.399079</td>\n",
              "      <td>1.708505</td>\n",
              "      <td>11.142506</td>\n",
              "      <td>2.790530</td>\n",
              "      <td>123.016722</td>\n",
              "      <td>14.079339</td>\n",
              "      <td>7.650000</td>\n",
              "      <td>0.964615</td>\n",
              "      <td>8.394197</td>\n",
              "      <td>6.686772</td>\n",
              "      <td>15.591651</td>\n",
              "      <td>36.807122</td>\n",
              "      <td>0.0</td>\n",
              "      <td>0.0</td>\n",
              "      <td>0.0</td>\n",
              "      <td>0.0</td>\n",
              "      <td>1200.031976</td>\n",
              "      <td>-500.665678</td>\n",
              "      <td>1199.840519</td>\n",
              "      <td>-501.097610</td>\n",
              "      <td>1201.035153</td>\n",
              "      <td>-499.924707</td>\n",
              "      <td>1200.549050</td>\n",
              "      <td>-500.535747</td>\n",
              "      <td>37752.487654</td>\n",
              "      <td>2816.979971</td>\n",
              "      <td>2819.813655</td>\n",
              "      <td>3.237660</td>\n",
              "      <td>9.380262</td>\n",
              "      <td>2.606630</td>\n",
              "      <td>392.029823</td>\n",
              "      <td>55.750408</td>\n",
              "      <td>37.075829</td>\n",
              "      <td>8.439383</td>\n",
              "      <td>11.939452</td>\n",
              "      <td>5.805255</td>\n",
              "      <td>11.935943</td>\n",
              "      <td>5.801816</td>\n",
              "      <td>13.742016</td>\n",
              "      <td>5.795542</td>\n",
              "      <td>33.862760</td>\n",
              "      <td>22.567554</td>\n",
              "      <td>80.872494</td>\n",
              "      <td>6.613175</td>\n",
              "      <td>0.656209</td>\n",
              "      <td>17.815547</td>\n",
              "      <td>2.314100</td>\n",
              "      <td>1000.587323</td>\n",
              "      <td>-499.817201</td>\n",
              "      <td>1399.128088</td>\n",
              "      <td>-502.262690</td>\n",
              "      <td>1300.212670</td>\n",
              "      <td>-507.056395</td>\n",
              "      <td>1098.523812</td>\n",
              "      <td>-501.754814</td>\n",
              "      <td>999.615481</td>\n",
              "      <td>-504.085595</td>\n",
              "      <td>1000.268872</td>\n",
              "      <td>-510.220367</td>\n",
              "      <td>14.508839</td>\n",
              "      <td>3.663301</td>\n",
              "      <td>9.885756</td>\n",
              "      <td>4.105744</td>\n",
              "      <td>25.032016</td>\n",
              "      <td>-501.588203</td>\n",
              "      <td>21.912967</td>\n",
              "      <td>-500.322778</td>\n",
              "      <td>22.996934</td>\n",
              "      <td>-500.151379</td>\n",
              "      <td>22.081926</td>\n",
              "      <td>-499.581546</td>\n",
              "      <td>9.976501</td>\n",
              "      <td>-498.050953</td>\n",
              "      <td>8.089601</td>\n",
              "      <td>-497.507981</td>\n",
              "      <td>8.049565</td>\n",
              "      <td>-501.145199</td>\n",
              "      <td>5.936720</td>\n",
              "      <td>-500.390447</td>\n",
              "      <td>17.972430</td>\n",
              "      <td>-499.817235</td>\n",
              "    </tr>\n",
              "  </tbody>\n",
              "</table>\n",
              "</div>"
            ],
            "text/plain": [
              "                     date  final.output.concentrate_ag  \\\n",
              "1243  2016-03-13 12:00:00                     0.371783   \n",
              "1929  2016-04-21 00:00:00                     1.040656   \n",
              "2533  2016-05-25 09:59:59                     4.539454   \n",
              "\n",
              "      final.output.concentrate_pb  final.output.concentrate_sol  \\\n",
              "1243                     0.629302                      0.253231   \n",
              "1929                     1.866097                      2.735971   \n",
              "2533                     8.403190                      9.078570   \n",
              "\n",
              "      final.output.concentrate_au  final.output.recovery  \\\n",
              "1243                     3.505267              72.707062   \n",
              "1929                     7.148353              59.657700   \n",
              "2533                    46.454830              71.212122   \n",
              "\n",
              "      final.output.tail_ag  final.output.tail_pb  final.output.tail_sol  \\\n",
              "1243              1.309797              0.212103               2.379831   \n",
              "1929              1.088713              0.249844               1.831435   \n",
              "2533              9.399079              1.708505              11.142506   \n",
              "\n",
              "      final.output.tail_au  primary_cleaner.input.sulfate  \\\n",
              "1243              0.403496                     134.709461   \n",
              "1929              0.456159                     127.087791   \n",
              "2533              2.790530                     123.016722   \n",
              "\n",
              "      primary_cleaner.input.depressant  primary_cleaner.input.feed_size  \\\n",
              "1243                         11.982738                         8.005667   \n",
              "1929                         12.304945                         7.300000   \n",
              "2533                         14.079339                         7.650000   \n",
              "\n",
              "      primary_cleaner.input.xanthate  primary_cleaner.output.concentrate_ag  \\\n",
              "1243                        0.956090                               0.228718   \n",
              "1929                        1.195756                               0.186975   \n",
              "2533                        0.964615                               8.394197   \n",
              "\n",
              "      primary_cleaner.output.concentrate_pb  \\\n",
              "1243                               0.148024   \n",
              "1929                               0.137007   \n",
              "2533                               6.686772   \n",
              "\n",
              "      primary_cleaner.output.concentrate_sol  \\\n",
              "1243                                0.287696   \n",
              "1929                                0.240759   \n",
              "2533                               15.591651   \n",
              "\n",
              "      primary_cleaner.output.concentrate_au  primary_cleaner.output.tail_ag  \\\n",
              "1243                               0.988034                             0.0   \n",
              "1929                               0.713426                             0.0   \n",
              "2533                              36.807122                             0.0   \n",
              "\n",
              "      primary_cleaner.output.tail_pb  primary_cleaner.output.tail_sol  \\\n",
              "1243                             0.0                              0.0   \n",
              "1929                             0.0                              0.0   \n",
              "2533                             0.0                              0.0   \n",
              "\n",
              "      primary_cleaner.output.tail_au  primary_cleaner.state.floatbank8_a_air  \\\n",
              "1243                             0.0                             1601.077281   \n",
              "1929                             0.0                             1500.852771   \n",
              "2533                             0.0                             1200.031976   \n",
              "\n",
              "      primary_cleaner.state.floatbank8_a_level  \\\n",
              "1243                               -399.700132   \n",
              "1929                               -499.960480   \n",
              "2533                               -500.665678   \n",
              "\n",
              "      primary_cleaner.state.floatbank8_b_air  \\\n",
              "1243                             1602.445673   \n",
              "1929                             1501.585225   \n",
              "2533                             1199.840519   \n",
              "\n",
              "      primary_cleaner.state.floatbank8_b_level  \\\n",
              "1243                               -399.366374   \n",
              "1929                               -500.011738   \n",
              "2533                               -501.097610   \n",
              "\n",
              "      primary_cleaner.state.floatbank8_c_air  \\\n",
              "1243                             1599.291532   \n",
              "1929                             1501.198070   \n",
              "2533                             1201.035153   \n",
              "\n",
              "      primary_cleaner.state.floatbank8_c_level  \\\n",
              "1243                               -398.668689   \n",
              "1929                               -499.153395   \n",
              "2533                               -499.924707   \n",
              "\n",
              "      primary_cleaner.state.floatbank8_d_air  \\\n",
              "1243                              590.118921   \n",
              "1929                             1490.767242   \n",
              "2533                             1200.549050   \n",
              "\n",
              "      primary_cleaner.state.floatbank8_d_level  \\\n",
              "1243                               -400.103080   \n",
              "1929                               -500.654303   \n",
              "2533                               -500.535747   \n",
              "\n",
              "      rougher.calculation.sulfate_to_au_concentrate  \\\n",
              "1243                                   39539.306606   \n",
              "1929                                   41303.829228   \n",
              "2533                                   37752.487654   \n",
              "\n",
              "      rougher.calculation.floatbank10_sulfate_to_au_feed  \\\n",
              "1243                                        2452.175586    \n",
              "1929                                        2518.284365    \n",
              "2533                                        2816.979971    \n",
              "\n",
              "      rougher.calculation.floatbank11_sulfate_to_au_feed  \\\n",
              "1243                                        2449.693926    \n",
              "1929                                        2521.238029    \n",
              "2533                                        2819.813655    \n",
              "\n",
              "      rougher.calculation.au_pb_ratio  rougher.input.feed_ag  \\\n",
              "1243                         3.155826               1.106758   \n",
              "1929                         2.515725               1.116930   \n",
              "2533                         3.237660               9.380262   \n",
              "\n",
              "      rougher.input.feed_pb  rougher.input.feed_rate  rougher.input.feed_size  \\\n",
              "1243               0.358522               502.360268                51.964681   \n",
              "1929               0.410705               560.768066                67.518676   \n",
              "2533               2.606630               392.029823                55.750408   \n",
              "\n",
              "      rougher.input.feed_sol  rougher.input.feed_au  \\\n",
              "1243                5.622568               1.131434   \n",
              "1929                5.868278               1.033221   \n",
              "2533               37.075829               8.439383   \n",
              "\n",
              "      rougher.input.floatbank10_sulfate  rougher.input.floatbank10_xanthate  \\\n",
              "1243                          10.046321                            7.418992   \n",
              "1929                          10.002095                            6.307356   \n",
              "2533                          11.939452                            5.805255   \n",
              "\n",
              "      rougher.input.floatbank11_sulfate  rougher.input.floatbank11_xanthate  \\\n",
              "1243                          10.038419                            7.421236   \n",
              "1929                           9.990991                            7.504806   \n",
              "2533                          11.935943                            5.801816   \n",
              "\n",
              "      rougher.output.concentrate_ag  rougher.output.concentrate_pb  \\\n",
              "1243                       0.000000                       0.000000   \n",
              "1929                       0.351874                       0.214360   \n",
              "2533                      13.742016                       5.795542   \n",
              "\n",
              "      rougher.output.concentrate_sol  rougher.output.concentrate_au  \\\n",
              "1243                        0.000000                       0.000000   \n",
              "1929                        0.879593                       0.570819   \n",
              "2533                       33.862760                      22.567554   \n",
              "\n",
              "      rougher.output.recovery  rougher.output.tail_ag  rougher.output.tail_pb  \\\n",
              "1243                 0.000000                5.525764                0.085127   \n",
              "1929                48.457734                8.471625                0.196956   \n",
              "2533                80.872494                6.613175                0.656209   \n",
              "\n",
              "      rougher.output.tail_sol  rougher.output.tail_au  \\\n",
              "1243                20.779297                1.816174   \n",
              "1929                24.029297                4.333786   \n",
              "2533                17.815547                2.314100   \n",
              "\n",
              "      rougher.state.floatbank10_a_air  rougher.state.floatbank10_a_level  \\\n",
              "1243                       999.444742                        -499.599772   \n",
              "1929                       999.975985                        -300.363166   \n",
              "2533                      1000.587323                        -499.817201   \n",
              "\n",
              "      rougher.state.floatbank10_b_air  rougher.state.floatbank10_b_level  \\\n",
              "1243                      1499.641637                        -499.895930   \n",
              "1929                      1199.255468                        -500.096603   \n",
              "2533                      1399.128088                        -502.262690   \n",
              "\n",
              "      rougher.state.floatbank10_c_air  rougher.state.floatbank10_c_level  \\\n",
              "1243                      1500.737132                        -500.304718   \n",
              "1929                      1199.995174                        -497.905108   \n",
              "2533                      1300.212670                        -507.056395   \n",
              "\n",
              "      rougher.state.floatbank10_d_air  rougher.state.floatbank10_d_level  \\\n",
              "1243                      1504.498416                        -499.916795   \n",
              "1929                      1198.397433                        -500.855404   \n",
              "2533                      1098.523812                        -501.754814   \n",
              "\n",
              "      rougher.state.floatbank10_e_air  rougher.state.floatbank10_e_level  \\\n",
              "1243                      1301.231427                        -499.182264   \n",
              "1929                      1098.077371                        -499.796931   \n",
              "2533                       999.615481                        -504.085595   \n",
              "\n",
              "      rougher.state.floatbank10_f_air  rougher.state.floatbank10_f_level  \\\n",
              "1243                      1201.396653                        -499.665895   \n",
              "1929                      1000.698464                        -496.837563   \n",
              "2533                      1000.268872                        -510.220367   \n",
              "\n",
              "      secondary_cleaner.output.tail_ag  secondary_cleaner.output.tail_pb  \\\n",
              "1243                          0.017409                          0.007514   \n",
              "1929                          0.000000                          0.000000   \n",
              "2533                         14.508839                          3.663301   \n",
              "\n",
              "      secondary_cleaner.output.tail_sol  secondary_cleaner.output.tail_au  \\\n",
              "1243                           0.021719                          0.005877   \n",
              "1929                           0.000000                          0.000000   \n",
              "2533                           9.885756                          4.105744   \n",
              "\n",
              "      secondary_cleaner.state.floatbank2_a_air  \\\n",
              "1243                                 30.015576   \n",
              "1929                                 30.099104   \n",
              "2533                                 25.032016   \n",
              "\n",
              "      secondary_cleaner.state.floatbank2_a_level  \\\n",
              "1243                                 -497.087068   \n",
              "1929                                 -499.977689   \n",
              "2533                                 -501.588203   \n",
              "\n",
              "      secondary_cleaner.state.floatbank2_b_air  \\\n",
              "1243                                 27.995837   \n",
              "1929                                 28.943525   \n",
              "2533                                 21.912967   \n",
              "\n",
              "      secondary_cleaner.state.floatbank2_b_level  \\\n",
              "1243                                 -500.217269   \n",
              "1929                                 -498.894499   \n",
              "2533                                 -500.322778   \n",
              "\n",
              "      secondary_cleaner.state.floatbank3_a_air  \\\n",
              "1243                                 26.998878   \n",
              "1929                                 29.017110   \n",
              "2533                                 22.996934   \n",
              "\n",
              "      secondary_cleaner.state.floatbank3_a_level  \\\n",
              "1243                                 -499.614812   \n",
              "1929                                 -500.212762   \n",
              "2533                                 -500.151379   \n",
              "\n",
              "      secondary_cleaner.state.floatbank3_b_air  \\\n",
              "1243                                 24.954651   \n",
              "1929                                 27.988294   \n",
              "2533                                 22.081926   \n",
              "\n",
              "      secondary_cleaner.state.floatbank3_b_level  \\\n",
              "1243                                 -499.883065   \n",
              "1929                                 -500.518310   \n",
              "2533                                 -499.581546   \n",
              "\n",
              "      secondary_cleaner.state.floatbank4_a_air  \\\n",
              "1243                                 11.965964   \n",
              "1929                                 14.019715   \n",
              "2533                                  9.976501   \n",
              "\n",
              "      secondary_cleaner.state.floatbank4_a_level  \\\n",
              "1243                                 -500.860287   \n",
              "1929                                 -500.664569   \n",
              "2533                                 -498.050953   \n",
              "\n",
              "      secondary_cleaner.state.floatbank4_b_air  \\\n",
              "1243                                 12.065144   \n",
              "1929                                 12.025928   \n",
              "2533                                  8.089601   \n",
              "\n",
              "      secondary_cleaner.state.floatbank4_b_level  \\\n",
              "1243                                 -500.078915   \n",
              "1929                                 -499.677789   \n",
              "2533                                 -497.507981   \n",
              "\n",
              "      secondary_cleaner.state.floatbank5_a_air  \\\n",
              "1243                                 11.964771   \n",
              "1929                                 13.011800   \n",
              "2533                                  8.049565   \n",
              "\n",
              "      secondary_cleaner.state.floatbank5_a_level  \\\n",
              "1243                                 -499.142019   \n",
              "1929                                 -498.432371   \n",
              "2533                                 -501.145199   \n",
              "\n",
              "      secondary_cleaner.state.floatbank5_b_air  \\\n",
              "1243                                  9.978513   \n",
              "1929                                 10.968442   \n",
              "2533                                  5.936720   \n",
              "\n",
              "      secondary_cleaner.state.floatbank5_b_level  \\\n",
              "1243                                 -500.157967   \n",
              "1929                                 -499.167247   \n",
              "2533                                 -500.390447   \n",
              "\n",
              "      secondary_cleaner.state.floatbank6_a_air  \\\n",
              "1243                                 20.037665   \n",
              "1929                                 19.971177   \n",
              "2533                                 17.972430   \n",
              "\n",
              "      secondary_cleaner.state.floatbank6_a_level  \n",
              "1243                                 -499.811109  \n",
              "1929                                 -499.803257  \n",
              "2533                                 -499.817235  "
            ]
          },
          "execution_count": 17,
          "metadata": {},
          "output_type": "execute_result"
        }
      ],
      "source": [
        "data_train.loc[data_train['primary_cleaner.output.tail_ag']==0].head(3)"
      ]
    },
    {
      "cell_type": "markdown",
      "metadata": {
        "id": "PqpthGujwho2"
      },
      "source": [
        "7. Обоснование удаления нулей в secondary_cleaner.state.floatbank2_b_air, secondary_cleaner.state.floatbank3_a_air, secondary_cleaner.state.floatbank3_b_air, secondary_cleaner.state.floatbank4_a_air, secondary_cleaner.state.floatbank4_b_air\n",
        "\n",
        "7.1. Данные параментры отвечают за объем воздуха на этапе. Если, на производстве действительно был сбой и уровень воздуха опустился до нуля, понимаем, что это единичный случай и поэтому для обучения модели значение этих экспериментов чрезвычайно низко. Также, количество этих признаков с нулями несущественно, поэтому можем их удалить."
      ]
    },
    {
      "cell_type": "code",
      "execution_count": null,
      "metadata": {
        "id": "yU5BFVyJwho3",
        "outputId": "30958342-488b-4f4b-a605-9522dca8bc5c"
      },
      "outputs": [
        {
          "data": {
            "text/plain": [
              "<AxesSubplot:>"
            ]
          },
          "execution_count": 18,
          "metadata": {},
          "output_type": "execute_result"
        },
        {
          "data": {
            "image/png": "[encoded data removed]",
            "text/plain": [
              "<Figure size 432x288 with 1 Axes>"
            ]
          },
          "metadata": {
            "needs_background": "light"
          },
          "output_type": "display_data"
        }
      ],
      "source": [
        "data_train['secondary_cleaner.state.floatbank2_b_air'].hist()"
      ]
    },
    {
      "cell_type": "code",
      "execution_count": null,
      "metadata": {
        "id": "Qos2acxwwho3"
      },
      "outputs": [],
      "source": [
        "data_train = data_train[data_train != 0].dropna()"
      ]
    },
    {
      "cell_type": "code",
      "execution_count": null,
      "metadata": {
        "id": "0cG9lg-nwho4",
        "outputId": "8c7d65e6-72ba-4bea-c895-be6367b1ba32"
      },
      "outputs": [
        {
          "data": {
            "text/plain": [
              "date                                                  0\n",
              "final.output.concentrate_ag                           0\n",
              "final.output.concentrate_pb                           0\n",
              "final.output.concentrate_sol                          0\n",
              "final.output.concentrate_au                           0\n",
              "final.output.recovery                                 0\n",
              "final.output.tail_ag                                  0\n",
              "final.output.tail_pb                                  0\n",
              "final.output.tail_sol                                 0\n",
              "final.output.tail_au                                  0\n",
              "primary_cleaner.input.sulfate                         0\n",
              "primary_cleaner.input.depressant                      0\n",
              "primary_cleaner.input.feed_size                       0\n",
              "primary_cleaner.input.xanthate                        0\n",
              "primary_cleaner.output.concentrate_ag                 0\n",
              "primary_cleaner.output.concentrate_pb                 0\n",
              "primary_cleaner.output.concentrate_sol                0\n",
              "primary_cleaner.output.concentrate_au                 0\n",
              "primary_cleaner.output.tail_ag                        0\n",
              "primary_cleaner.output.tail_pb                        0\n",
              "primary_cleaner.output.tail_sol                       0\n",
              "primary_cleaner.output.tail_au                        0\n",
              "primary_cleaner.state.floatbank8_a_air                0\n",
              "primary_cleaner.state.floatbank8_a_level              0\n",
              "primary_cleaner.state.floatbank8_b_air                0\n",
              "primary_cleaner.state.floatbank8_b_level              0\n",
              "primary_cleaner.state.floatbank8_c_air                0\n",
              "primary_cleaner.state.floatbank8_c_level              0\n",
              "primary_cleaner.state.floatbank8_d_air                0\n",
              "primary_cleaner.state.floatbank8_d_level              0\n",
              "rougher.calculation.sulfate_to_au_concentrate         0\n",
              "rougher.calculation.floatbank10_sulfate_to_au_feed    0\n",
              "rougher.calculation.floatbank11_sulfate_to_au_feed    0\n",
              "rougher.calculation.au_pb_ratio                       0\n",
              "rougher.input.feed_ag                                 0\n",
              "rougher.input.feed_pb                                 0\n",
              "rougher.input.feed_rate                               0\n",
              "rougher.input.feed_size                               0\n",
              "rougher.input.feed_sol                                0\n",
              "rougher.input.feed_au                                 0\n",
              "rougher.input.floatbank10_sulfate                     0\n",
              "rougher.input.floatbank10_xanthate                    0\n",
              "rougher.input.floatbank11_sulfate                     0\n",
              "rougher.input.floatbank11_xanthate                    0\n",
              "rougher.output.concentrate_ag                         0\n",
              "rougher.output.concentrate_pb                         0\n",
              "rougher.output.concentrate_sol                        0\n",
              "rougher.output.concentrate_au                         0\n",
              "rougher.output.recovery                               0\n",
              "rougher.output.tail_ag                                0\n",
              "rougher.output.tail_pb                                0\n",
              "rougher.output.tail_sol                               0\n",
              "rougher.output.tail_au                                0\n",
              "rougher.state.floatbank10_a_air                       0\n",
              "rougher.state.floatbank10_a_level                     0\n",
              "rougher.state.floatbank10_b_air                       0\n",
              "rougher.state.floatbank10_b_level                     0\n",
              "rougher.state.floatbank10_c_air                       0\n",
              "rougher.state.floatbank10_c_level                     0\n",
              "rougher.state.floatbank10_d_air                       0\n",
              "rougher.state.floatbank10_d_level                     0\n",
              "rougher.state.floatbank10_e_air                       0\n",
              "rougher.state.floatbank10_e_level                     0\n",
              "rougher.state.floatbank10_f_air                       0\n",
              "rougher.state.floatbank10_f_level                     0\n",
              "secondary_cleaner.output.tail_ag                      0\n",
              "secondary_cleaner.output.tail_pb                      0\n",
              "secondary_cleaner.output.tail_sol                     0\n",
              "secondary_cleaner.output.tail_au                      0\n",
              "secondary_cleaner.state.floatbank2_a_air              0\n",
              "secondary_cleaner.state.floatbank2_a_level            0\n",
              "secondary_cleaner.state.floatbank2_b_air              0\n",
              "secondary_cleaner.state.floatbank2_b_level            0\n",
              "secondary_cleaner.state.floatbank3_a_air              0\n",
              "secondary_cleaner.state.floatbank3_a_level            0\n",
              "secondary_cleaner.state.floatbank3_b_air              0\n",
              "secondary_cleaner.state.floatbank3_b_level            0\n",
              "secondary_cleaner.state.floatbank4_a_air              0\n",
              "secondary_cleaner.state.floatbank4_a_level            0\n",
              "secondary_cleaner.state.floatbank4_b_air              0\n",
              "secondary_cleaner.state.floatbank4_b_level            0\n",
              "secondary_cleaner.state.floatbank5_a_air              0\n",
              "secondary_cleaner.state.floatbank5_a_level            0\n",
              "secondary_cleaner.state.floatbank5_b_air              0\n",
              "secondary_cleaner.state.floatbank5_b_level            0\n",
              "secondary_cleaner.state.floatbank6_a_air              0\n",
              "secondary_cleaner.state.floatbank6_a_level            0\n",
              "dtype: int64"
            ]
          },
          "execution_count": 20,
          "metadata": {},
          "output_type": "execute_result"
        }
      ],
      "source": [
        "# Проверяем кол-во нулей\n",
        "(data_train==0).sum()"
      ]
    },
    {
      "cell_type": "markdown",
      "metadata": {
        "id": "yMgzeblmwho4"
      },
      "source": [
        "### Проверка формулы вычисления эффективности обогащения"
      ]
    },
    {
      "cell_type": "markdown",
      "metadata": {
        "id": "BNlQLTsNwho4"
      },
      "source": [
        "Эффективность обогащения рассчитывается по формуле:  \n",
        "recovery = (c * (f-t)) / (f * (c-t))"
      ]
    },
    {
      "cell_type": "code",
      "execution_count": null,
      "metadata": {
        "id": "nwKVmQ95who4"
      },
      "outputs": [],
      "source": [
        "def rougher_output_recovery_estimated(c,f,t):\n",
        "    result = (c*(f-t)) / (f*(c-t)) *100\n",
        "    return result"
      ]
    },
    {
      "cell_type": "code",
      "execution_count": null,
      "metadata": {
        "id": "sqRR2UQKwho4"
      },
      "outputs": [],
      "source": [
        "data_train['rougher.output.recovery_estimated'] = rougher_output_recovery_estimated(\n",
        "    c = data_train['rougher.output.concentrate_au'],\n",
        "    f = data_train['rougher.input.feed_au'],\n",
        "    t = data_train['rougher.output.tail_au'])"
      ]
    },
    {
      "cell_type": "code",
      "execution_count": null,
      "metadata": {
        "id": "gysV3CUBwho4"
      },
      "outputs": [],
      "source": [
        "# Посчитаем MAE:\n",
        "mae = (sum(abs(data_train['rougher.output.recovery']-data_train['rougher.output.recovery_estimated'])))/(\n",
        "    len(data_train['rougher.output.recovery']))"
      ]
    },
    {
      "cell_type": "code",
      "execution_count": null,
      "metadata": {
        "id": "Jovhw34bwho4",
        "outputId": "a729bbdb-4c35-4c61-fcd4-379d668ba4e2"
      },
      "outputs": [
        {
          "name": "stdout",
          "output_type": "stream",
          "text": [
            "MAE между расчётами и значением признака recovery_estimated = 9.95928285502106e-15\n"
          ]
        }
      ],
      "source": [
        "print(f'MAE между расчётами и значением признака recovery_estimated = {mae}')"
      ]
    },
    {
      "cell_type": "markdown",
      "metadata": {
        "id": "XPEEGkz6who5"
      },
      "source": [
        "Наблюдаем, что средняя абсолютная ошибка очень мала, поэтому считаем, что эффективность обогащения рассчитана верно."
      ]
    },
    {
      "cell_type": "markdown",
      "metadata": {
        "id": "U8n-MwGIwho5"
      },
      "source": [
        "### Анализ признаков, недоступных в тестовой выборке"
      ]
    },
    {
      "cell_type": "code",
      "execution_count": null,
      "metadata": {
        "id": "fP7GDUd7who5"
      },
      "outputs": [],
      "source": [
        "# получим множества названий колонок в тренировочном и тестовом датасетах\n",
        "colunms_train = set(data_train.columns)\n",
        "colunms_test = set(data_test.columns)"
      ]
    },
    {
      "cell_type": "code",
      "execution_count": null,
      "metadata": {
        "id": "E4fEPZ3Rwho5"
      },
      "outputs": [],
      "source": [
        "# получим призники, отсутствующие в тестовом датасете\n",
        "columns_only_in_train = set(colunms_train-colunms_test)"
      ]
    },
    {
      "cell_type": "code",
      "execution_count": null,
      "metadata": {
        "id": "otmW7e-vwho5",
        "outputId": "0018fe70-1d77-4827-8feb-93e595f36f5f"
      },
      "outputs": [
        {
          "data": {
            "text/plain": [
              "{'final.output.concentrate_ag',\n",
              " 'final.output.concentrate_au',\n",
              " 'final.output.concentrate_pb',\n",
              " 'final.output.concentrate_sol',\n",
              " 'final.output.recovery',\n",
              " 'final.output.tail_ag',\n",
              " 'final.output.tail_au',\n",
              " 'final.output.tail_pb',\n",
              " 'final.output.tail_sol',\n",
              " 'primary_cleaner.output.concentrate_ag',\n",
              " 'primary_cleaner.output.concentrate_au',\n",
              " 'primary_cleaner.output.concentrate_pb',\n",
              " 'primary_cleaner.output.concentrate_sol',\n",
              " 'primary_cleaner.output.tail_ag',\n",
              " 'primary_cleaner.output.tail_au',\n",
              " 'primary_cleaner.output.tail_pb',\n",
              " 'primary_cleaner.output.tail_sol',\n",
              " 'rougher.calculation.au_pb_ratio',\n",
              " 'rougher.calculation.floatbank10_sulfate_to_au_feed',\n",
              " 'rougher.calculation.floatbank11_sulfate_to_au_feed',\n",
              " 'rougher.calculation.sulfate_to_au_concentrate',\n",
              " 'rougher.output.concentrate_ag',\n",
              " 'rougher.output.concentrate_au',\n",
              " 'rougher.output.concentrate_pb',\n",
              " 'rougher.output.concentrate_sol',\n",
              " 'rougher.output.recovery',\n",
              " 'rougher.output.recovery_estimated',\n",
              " 'rougher.output.tail_ag',\n",
              " 'rougher.output.tail_au',\n",
              " 'rougher.output.tail_pb',\n",
              " 'rougher.output.tail_sol',\n",
              " 'secondary_cleaner.output.tail_ag',\n",
              " 'secondary_cleaner.output.tail_au',\n",
              " 'secondary_cleaner.output.tail_pb',\n",
              " 'secondary_cleaner.output.tail_sol'}"
            ]
          },
          "execution_count": 27,
          "metadata": {},
          "output_type": "execute_result"
        }
      ],
      "source": [
        "columns_only_in_train"
      ]
    },
    {
      "cell_type": "markdown",
      "metadata": {
        "id": "GJ5U06J0who6"
      },
      "source": [
        "Можем наблюдать, что в тестовом датасете отсутствуют все данные, содержащие параметры продукта (output), по каждой стадии: rougher, primary_cleaner, secondary_cleaner и final. Также отсутствуют все расчетные характеристики: au_pb_ratio, sulfate_to_au_feed и sulfate_to_au_concentrate.\n",
        "\n",
        "Иными словами, в тестовом датасете нам доступны только входные данные."
      ]
    },
    {
      "cell_type": "markdown",
      "metadata": {
        "id": "tjI1kYAnwho6"
      },
      "source": [
        "### Выводы по разделу"
      ]
    },
    {
      "cell_type": "markdown",
      "metadata": {
        "id": "bdZ_u0Hawho6"
      },
      "source": [
        "В данном разделе было проведено первичное изучение данных, была проведена их предобработка: заполнены пропуски, произведена проверка наличия явных дубликатов, а также удалены все нулевые значения датасета.\n",
        "\n",
        "Была проверена формула вычисления эффективности обогащения и, т.к. средняя абсолютная ошибка между rougher.output.recovery и расчетными значениями очень мала, считаем, что эффективность обогащения рассчитана верно.\n",
        "\n",
        "\n",
        "Были выявлены признаки, отсутствующие в тестовом датасете и выяснено, что в нем отсутствую все параметры выходного продукта и все расчетные характеристики."
      ]
    },
    {
      "cell_type": "markdown",
      "metadata": {
        "id": "uuQTNm8iwho6"
      },
      "source": [
        "## Анализ данных"
      ]
    },
    {
      "cell_type": "markdown",
      "metadata": {
        "id": "r_Ef-roIwho6"
      },
      "source": [
        "### Работа с выбросами"
      ]
    },
    {
      "cell_type": "code",
      "execution_count": null,
      "metadata": {
        "id": "dfD5Oq4Gwho6"
      },
      "outputs": [],
      "source": [
        "data_train = data_train.loc[data_train['primary_cleaner.output.concentrate_au']>1]\n",
        "data_train = data_train.loc[data_train['primary_cleaner.output.concentrate_ag']>1]\n",
        "data_train = data_train.loc[data_train['primary_cleaner.output.concentrate_pb']>1]\n",
        "data_train = data_train.loc[data_train['primary_cleaner.output.concentrate_sol']>1]"
      ]
    },
    {
      "cell_type": "code",
      "execution_count": null,
      "metadata": {
        "id": "SgZTwSbxwho7",
        "outputId": "bb9b84a0-f75e-4289-ebe4-5a044f0a1093"
      },
      "outputs": [
        {
          "name": "stdout",
          "output_type": "stream",
          "text": [
            "<class 'pandas.core.frame.DataFrame'>\n",
            "Int64Index: 12662 entries, 0 to 14139\n",
            "Data columns (total 88 columns):\n",
            " #   Column                                              Non-Null Count  Dtype  \n",
            "---  ------                                              --------------  -----  \n",
            " 0   date                                                12662 non-null  object \n",
            " 1   final.output.concentrate_ag                         12662 non-null  float64\n",
            " 2   final.output.concentrate_pb                         12662 non-null  float64\n",
            " 3   final.output.concentrate_sol                        12662 non-null  float64\n",
            " 4   final.output.concentrate_au                         12662 non-null  float64\n",
            " 5   final.output.recovery                               12662 non-null  float64\n",
            " 6   final.output.tail_ag                                12662 non-null  float64\n",
            " 7   final.output.tail_pb                                12662 non-null  float64\n",
            " 8   final.output.tail_sol                               12662 non-null  float64\n",
            " 9   final.output.tail_au                                12662 non-null  float64\n",
            " 10  primary_cleaner.input.sulfate                       12662 non-null  float64\n",
            " 11  primary_cleaner.input.depressant                    12662 non-null  float64\n",
            " 12  primary_cleaner.input.feed_size                     12662 non-null  float64\n",
            " 13  primary_cleaner.input.xanthate                      12662 non-null  float64\n",
            " 14  primary_cleaner.output.concentrate_ag               12662 non-null  float64\n",
            " 15  primary_cleaner.output.concentrate_pb               12662 non-null  float64\n",
            " 16  primary_cleaner.output.concentrate_sol              12662 non-null  float64\n",
            " 17  primary_cleaner.output.concentrate_au               12662 non-null  float64\n",
            " 18  primary_cleaner.output.tail_ag                      12662 non-null  float64\n",
            " 19  primary_cleaner.output.tail_pb                      12662 non-null  float64\n",
            " 20  primary_cleaner.output.tail_sol                     12662 non-null  float64\n",
            " 21  primary_cleaner.output.tail_au                      12662 non-null  float64\n",
            " 22  primary_cleaner.state.floatbank8_a_air              12662 non-null  float64\n",
            " 23  primary_cleaner.state.floatbank8_a_level            12662 non-null  float64\n",
            " 24  primary_cleaner.state.floatbank8_b_air              12662 non-null  float64\n",
            " 25  primary_cleaner.state.floatbank8_b_level            12662 non-null  float64\n",
            " 26  primary_cleaner.state.floatbank8_c_air              12662 non-null  float64\n",
            " 27  primary_cleaner.state.floatbank8_c_level            12662 non-null  float64\n",
            " 28  primary_cleaner.state.floatbank8_d_air              12662 non-null  float64\n",
            " 29  primary_cleaner.state.floatbank8_d_level            12662 non-null  float64\n",
            " 30  rougher.calculation.sulfate_to_au_concentrate       12662 non-null  float64\n",
            " 31  rougher.calculation.floatbank10_sulfate_to_au_feed  12662 non-null  float64\n",
            " 32  rougher.calculation.floatbank11_sulfate_to_au_feed  12662 non-null  float64\n",
            " 33  rougher.calculation.au_pb_ratio                     12662 non-null  float64\n",
            " 34  rougher.input.feed_ag                               12662 non-null  float64\n",
            " 35  rougher.input.feed_pb                               12662 non-null  float64\n",
            " 36  rougher.input.feed_rate                             12662 non-null  float64\n",
            " 37  rougher.input.feed_size                             12662 non-null  float64\n",
            " 38  rougher.input.feed_sol                              12662 non-null  float64\n",
            " 39  rougher.input.feed_au                               12662 non-null  float64\n",
            " 40  rougher.input.floatbank10_sulfate                   12662 non-null  float64\n",
            " 41  rougher.input.floatbank10_xanthate                  12662 non-null  float64\n",
            " 42  rougher.input.floatbank11_sulfate                   12662 non-null  float64\n",
            " 43  rougher.input.floatbank11_xanthate                  12662 non-null  float64\n",
            " 44  rougher.output.concentrate_ag                       12662 non-null  float64\n",
            " 45  rougher.output.concentrate_pb                       12662 non-null  float64\n",
            " 46  rougher.output.concentrate_sol                      12662 non-null  float64\n",
            " 47  rougher.output.concentrate_au                       12662 non-null  float64\n",
            " 48  rougher.output.recovery                             12662 non-null  float64\n",
            " 49  rougher.output.tail_ag                              12662 non-null  float64\n",
            " 50  rougher.output.tail_pb                              12662 non-null  float64\n",
            " 51  rougher.output.tail_sol                             12662 non-null  float64\n",
            " 52  rougher.output.tail_au                              12662 non-null  float64\n",
            " 53  rougher.state.floatbank10_a_air                     12662 non-null  float64\n",
            " 54  rougher.state.floatbank10_a_level                   12662 non-null  float64\n",
            " 55  rougher.state.floatbank10_b_air                     12662 non-null  float64\n",
            " 56  rougher.state.floatbank10_b_level                   12662 non-null  float64\n",
            " 57  rougher.state.floatbank10_c_air                     12662 non-null  float64\n",
            " 58  rougher.state.floatbank10_c_level                   12662 non-null  float64\n",
            " 59  rougher.state.floatbank10_d_air                     12662 non-null  float64\n",
            " 60  rougher.state.floatbank10_d_level                   12662 non-null  float64\n",
            " 61  rougher.state.floatbank10_e_air                     12662 non-null  float64\n",
            " 62  rougher.state.floatbank10_e_level                   12662 non-null  float64\n",
            " 63  rougher.state.floatbank10_f_air                     12662 non-null  float64\n",
            " 64  rougher.state.floatbank10_f_level                   12662 non-null  float64\n",
            " 65  secondary_cleaner.output.tail_ag                    12662 non-null  float64\n",
            " 66  secondary_cleaner.output.tail_pb                    12662 non-null  float64\n",
            " 67  secondary_cleaner.output.tail_sol                   12662 non-null  float64\n",
            " 68  secondary_cleaner.output.tail_au                    12662 non-null  float64\n",
            " 69  secondary_cleaner.state.floatbank2_a_air            12662 non-null  float64\n",
            " 70  secondary_cleaner.state.floatbank2_a_level          12662 non-null  float64\n",
            " 71  secondary_cleaner.state.floatbank2_b_air            12662 non-null  float64\n",
            " 72  secondary_cleaner.state.floatbank2_b_level          12662 non-null  float64\n",
            " 73  secondary_cleaner.state.floatbank3_a_air            12662 non-null  float64\n",
            " 74  secondary_cleaner.state.floatbank3_a_level          12662 non-null  float64\n",
            " 75  secondary_cleaner.state.floatbank3_b_air            12662 non-null  float64\n",
            " 76  secondary_cleaner.state.floatbank3_b_level          12662 non-null  float64\n",
            " 77  secondary_cleaner.state.floatbank4_a_air            12662 non-null  float64\n",
            " 78  secondary_cleaner.state.floatbank4_a_level          12662 non-null  float64\n",
            " 79  secondary_cleaner.state.floatbank4_b_air            12662 non-null  float64\n",
            " 80  secondary_cleaner.state.floatbank4_b_level          12662 non-null  float64\n",
            " 81  secondary_cleaner.state.floatbank5_a_air            12662 non-null  float64\n",
            " 82  secondary_cleaner.state.floatbank5_a_level          12662 non-null  float64\n",
            " 83  secondary_cleaner.state.floatbank5_b_air            12662 non-null  float64\n",
            " 84  secondary_cleaner.state.floatbank5_b_level          12662 non-null  float64\n",
            " 85  secondary_cleaner.state.floatbank6_a_air            12662 non-null  float64\n",
            " 86  secondary_cleaner.state.floatbank6_a_level          12662 non-null  float64\n",
            " 87  rougher.output.recovery_estimated                   12662 non-null  float64\n",
            "dtypes: float64(87), object(1)\n",
            "memory usage: 8.6+ MB\n"
          ]
        }
      ],
      "source": [
        "data_train.info()"
      ]
    },
    {
      "cell_type": "markdown",
      "metadata": {
        "id": "8sqp3_cTwho7"
      },
      "source": [
        "### Динамика концентрация металлов на различных этапах очистки"
      ]
    },
    {
      "cell_type": "code",
      "execution_count": null,
      "metadata": {
        "scrolled": false,
        "id": "OU29WbUhwho7"
      },
      "outputs": [],
      "source": [
        "# Создадим функцию для построения распределения концентрации и выведения медиан\n",
        "def seab_hist_concentrate(rougher_in, rougher_out, primary, final, metal):\n",
        "    fig, ax = plt.subplots(figsize=(15,7))\n",
        "    seaborn.histplot(data = data_train[[rougher_in,\n",
        "                                        rougher_out,\n",
        "                                        primary,\n",
        "                                        final\n",
        "                                       ]], alpha = 0.5)\n",
        "    ax.set (xlabel='Концентрация', ylabel='Кол-во повторений')\n",
        "    title(f'Концентрация {metal} на различных этапах очистки')\n",
        "    plt.show()\n",
        "    print(round(data_train[rougher_in].median(), 2),\n",
        "          round(data_train[rougher_out].median(), 2),\n",
        "          round(data_train[primary].median(), 2),\n",
        "          round(data_train[final].median(), 2),)"
      ]
    },
    {
      "cell_type": "code",
      "execution_count": null,
      "metadata": {
        "id": "SlPwKn4vwho7",
        "outputId": "8142f05b-c299-4352-e431-f1db25c611ed"
      },
      "outputs": [
        {
          "data": {
            "image/png": "[encoded data removed]",
            "text/plain": [
              "<Figure size 1080x504 with 1 Axes>"
            ]
          },
          "metadata": {
            "needs_background": "light"
          },
          "output_type": "display_data"
        },
        {
          "name": "stdout",
          "output_type": "stream",
          "text": [
            "7.59 20.01 33.26 44.86\n"
          ]
        }
      ],
      "source": [
        "# Изучим динамику концентрации au\n",
        "seab_hist_concentrate('rougher.input.feed_au', 'rougher.output.concentrate_au',\n",
        "          'primary_cleaner.output.concentrate_au', 'final.output.concentrate_au', 'AU')\n"
      ]
    },
    {
      "cell_type": "markdown",
      "metadata": {
        "id": "_ujPb6mKwho7"
      },
      "source": [
        "Ожидаемо, наблюдаем, что с каждым этапом очистки концентрация золота растет. Так, медиана концентрации золота в смеси золотоносной руды составляет 7.58 а на финальном этапе показатель достигает уже 44.86."
      ]
    },
    {
      "cell_type": "code",
      "execution_count": null,
      "metadata": {
        "scrolled": false,
        "id": "nx3b4rHVwho8",
        "outputId": "94efc837-55ba-4b63-ee0c-72426bfa874c"
      },
      "outputs": [
        {
          "data": {
            "image/png": "[encoded data removed]",
            "text/plain": [
              "<Figure size 1080x504 with 1 Axes>"
            ]
          },
          "metadata": {
            "needs_background": "light"
          },
          "output_type": "display_data"
        },
        {
          "name": "stdout",
          "output_type": "stream",
          "text": [
            "8.1 11.75 8.25 4.98\n"
          ]
        }
      ],
      "source": [
        "# Изучим динамику концентрации ag\n",
        "seab_hist_concentrate('rougher.input.feed_ag', 'rougher.output.concentrate_ag',\n",
        "          'primary_cleaner.output.concentrate_ag', 'final.output.concentrate_ag', 'AG')\n"
      ]
    },
    {
      "cell_type": "markdown",
      "metadata": {
        "id": "KE97iRl7who8"
      },
      "source": [
        "Наблюдаем, что после флотации медиана концентрации серебра увеличивается с 8.09 до 11.76, а после уменьшается до 8.22 после первой очистки и до 4.98 после второй."
      ]
    },
    {
      "cell_type": "code",
      "execution_count": null,
      "metadata": {
        "id": "HGi0mM03who8",
        "outputId": "ba153d25-141e-4232-efda-b1e71f2e10f5"
      },
      "outputs": [
        {
          "data": {
            "image/png": "[encoded data removed]",
            "text/plain": [
              "<Figure size 1080x504 with 1 Axes>"
            ]
          },
          "metadata": {
            "needs_background": "light"
          },
          "output_type": "display_data"
        },
        {
          "name": "stdout",
          "output_type": "stream",
          "text": [
            "3.38 7.78 9.98 10.34\n"
          ]
        }
      ],
      "source": [
        "# Изучим динамику концентрации pb\n",
        "seab_hist_concentrate('rougher.input.feed_pb', 'rougher.output.concentrate_pb',\n",
        "          'primary_cleaner.output.concentrate_pb', 'final.output.concentrate_pb', 'PB')\n"
      ]
    },
    {
      "cell_type": "markdown",
      "metadata": {
        "id": "JOCoCIEpwho8"
      },
      "source": [
        "Медиана концентрации свинца имеет тенденцию к росту, так на начальном этапе концентрация составляла 3.38, а на финальном 10.34"
      ]
    },
    {
      "cell_type": "markdown",
      "metadata": {
        "id": "mU8N2F5Owho9"
      },
      "source": [
        "### Сравните распределения размеров гранул сырья на обучающей и тестовой выборках"
      ]
    },
    {
      "cell_type": "code",
      "execution_count": null,
      "metadata": {
        "id": "T8_NQ4XYwho9",
        "outputId": "731951f0-efb8-4b98-e10b-8ad2e398321d"
      },
      "outputs": [
        {
          "data": {
            "image/png": "[encoded data removed]",
            "text/plain": [
              "<Figure size 1080x504 with 1 Axes>"
            ]
          },
          "metadata": {
            "needs_background": "light"
          },
          "output_type": "display_data"
        }
      ],
      "source": [
        "fig, ax = plt.subplots(figsize=(15,7))\n",
        "seaborn.kdeplot(data = data_train['rougher.input.feed_size'])\n",
        "seaborn.kdeplot(data = data_test['rougher.input.feed_size'], color='green')\n",
        "ax.set (xlabel='Размер гранул')\n",
        "plt.xlim([0, 150])\n",
        "title(f'Распределение размеров гранул до флотации')\n",
        "plt.legend(['Train', 'Test'], prop={'size': 10})\n",
        "plt.show()"
      ]
    },
    {
      "cell_type": "code",
      "execution_count": null,
      "metadata": {
        "id": "nhMaSH63who-",
        "outputId": "1b745f63-0f66-4872-8ee1-1addf3d0e93d"
      },
      "outputs": [
        {
          "data": {
            "image/png": "[encoded data removed]",
            "text/plain": [
              "<Figure size 1080x504 with 1 Axes>"
            ]
          },
          "metadata": {
            "needs_background": "light"
          },
          "output_type": "display_data"
        }
      ],
      "source": [
        "fig, ax = plt.subplots(figsize=(15,7))\n",
        "seaborn.kdeplot(data = data_train['primary_cleaner.input.feed_size'])\n",
        "seaborn.kdeplot(data = data_test['primary_cleaner.input.feed_size'], color='green')\n",
        "ax.set (xlabel='Размер гранул')\n",
        "plt.xlim([4, 10])\n",
        "title(f'Распределение размеров гранул после флотации')\n",
        "plt.legend(['Train', 'Test'], prop={'size': 10})\n",
        "plt.show()"
      ]
    },
    {
      "cell_type": "markdown",
      "metadata": {
        "id": "uVSwHc6mwho-"
      },
      "source": [
        "В целом, на основе визуальной оценки можно сделать вывод, что распределению размера гранул до флотации имеют некоторые отличия, в то время как после флотации распределения очень схожи."
      ]
    },
    {
      "cell_type": "markdown",
      "metadata": {
        "id": "i1h8I9glwho-"
      },
      "source": [
        "### Суммарная концентрация всех веществ на разных стадиях"
      ]
    },
    {
      "cell_type": "code",
      "execution_count": null,
      "metadata": {
        "id": "wZl9KQ8Xwho-"
      },
      "outputs": [],
      "source": [
        "# Суммарная концентрация веществ в сырье (с солями)\n",
        "data_train['rougher_input_feed_sum_sol'] = (data_train['rougher.input.feed_ag']+\n",
        "                                    data_train['rougher.input.feed_pb']+\n",
        "                                    data_train['rougher.input.feed_sol']+\n",
        "                                    data_train['rougher.input.feed_au'])\n",
        "\n",
        "# Суммарная концентрация веществ в черновом концентрате (с солями)\n",
        "data_train['rougher_output_concentrate_sum_sol'] = (data_train['rougher.output.concentrate_ag']+\n",
        "                                    data_train['rougher.output.concentrate_pb']+\n",
        "                                    data_train['rougher.output.concentrate_sol']+\n",
        "                                    data_train['rougher.output.concentrate_au'])\n",
        "\n",
        "# Суммарная концентрация веществ в финальном концентрате (с солями)\n",
        "data_train['final_output_concentrate_sum_sol'] = (data_train['final.output.concentrate_ag']+\n",
        "                                    data_train['final.output.concentrate_pb']+\n",
        "                                    data_train['final.output.concentrate_sol']+\n",
        "                                    data_train['final.output.concentrate_au'])"
      ]
    },
    {
      "cell_type": "code",
      "execution_count": null,
      "metadata": {
        "id": "c_cdG1qrwho_"
      },
      "outputs": [],
      "source": [
        "# Создадим функцию для построения распределения концентрации\n",
        "def seab_hist_concentrate_sum(rougher_in, rougher_out, final, sol):\n",
        "    fig, ax = plt.subplots(figsize=(15,7))\n",
        "    seaborn.histplot(data = data_train[[rougher_in,\n",
        "                                        rougher_out,\n",
        "                                        final\n",
        "                                       ]], alpha = 0.5)\n",
        "    ax.set (xlabel='Концентрация')\n",
        "    title(f'Суммарная концентрация веществ {sol}')\n",
        "    plt.show()\n",
        "    print(round(data_train[rougher_in].median(), 2),\n",
        "          round(data_train[rougher_out].median(), 2),\n",
        "          round(data_train[final].median(), 2),)"
      ]
    },
    {
      "cell_type": "code",
      "execution_count": null,
      "metadata": {
        "id": "I2Vatr0Twho_",
        "outputId": "c5f0e117-d006-4f57-ba89-3f6030ca82b4"
      },
      "outputs": [
        {
          "data": {
            "image/png": "[encoded data removed]",
            "text/plain": [
              "<Figure size 1080x504 with 1 Axes>"
            ]
          },
          "metadata": {
            "needs_background": "light"
          },
          "output_type": "display_data"
        },
        {
          "name": "stdout",
          "output_type": "stream",
          "text": [
            "56.67 69.28 69.15\n"
          ]
        }
      ],
      "source": [
        "seab_hist_concentrate_sum('rougher_input_feed_sum_sol', 'rougher_output_concentrate_sum_sol', 'final_output_concentrate_sum_sol', 'с солями')"
      ]
    },
    {
      "cell_type": "markdown",
      "metadata": {
        "id": "rCLL-gC4whpA"
      },
      "source": [
        "Наблюдаем, что медиана суммарной концентрации веществ в сырье составляет 56.64, стандартное отклонение 6.86. После флотации медиана суммарной концентрации увеличивается до 69.26, но также увеличивается и отклонение - до 7.9. Финальные показатели составляют: медиана суммарной концентрации = 69.14, отклонение = 5.04.\n",
        "\n",
        "Думается, что несмотря на то, что медиана суммарной концентрации веществ после второй очистки не увеличивается по сравнению с черновым концентратом, предполагаем, что концентрат претерпевает положительные структурные изменения и доля солей уменьшается."
      ]
    },
    {
      "cell_type": "code",
      "execution_count": null,
      "metadata": {
        "id": "C6wbqY4jwhpA"
      },
      "outputs": [],
      "source": [
        "# Суммарная концентрация веществ в сырье (без солей)\n",
        "data_train['rougher_input_feed_sum'] = (data_train['rougher.input.feed_ag']+\n",
        "                                    data_train['rougher.input.feed_pb']+\n",
        "                                    data_train['rougher.input.feed_au'])\n",
        "\n",
        "# Суммарная концентрация веществ в черновом концентрате (без солей)\n",
        "data_train['rougher_output_concentrate_sum'] = (data_train['rougher.output.concentrate_ag']+\n",
        "                                    data_train['rougher.output.concentrate_pb']+\n",
        "                                    data_train['rougher.output.concentrate_au'])\n",
        "\n",
        "# Суммарная концентрация веществ в финальном концентрате (без солей)\n",
        "data_train['final_output_concentrate_sum'] = (data_train['final.output.concentrate_ag']+\n",
        "                                    data_train['final.output.concentrate_pb']+\n",
        "                                    data_train['final.output.concentrate_au'])"
      ]
    },
    {
      "cell_type": "code",
      "execution_count": null,
      "metadata": {
        "id": "JiP5KXilwhpA",
        "outputId": "330b45ef-b80a-459e-cabd-29deac80878e"
      },
      "outputs": [
        {
          "data": {
            "image/png": "[encoded data removed]",
            "text/plain": [
              "<Figure size 1080x504 with 1 Axes>"
            ]
          },
          "metadata": {
            "needs_background": "light"
          },
          "output_type": "display_data"
        },
        {
          "name": "stdout",
          "output_type": "stream",
          "text": [
            "19.02 39.88 60.21\n"
          ]
        }
      ],
      "source": [
        "seab_hist_concentrate_sum('rougher_input_feed_sum', 'rougher_output_concentrate_sum', 'final_output_concentrate_sum', 'без солей')"
      ]
    },
    {
      "cell_type": "markdown",
      "metadata": {
        "id": "vR3yP8NTwhpB"
      },
      "source": [
        "Если рассматривать суммарную концентрацию веществ без солей, то можно заметить, что медиана показателя растет с каждыи этапом: до флотации = 19, после флотации = 39.87, в финальном концентрате = 60.2"
      ]
    },
    {
      "cell_type": "markdown",
      "metadata": {
        "id": "LHlAw-VkwhpB"
      },
      "source": [
        "Таким образом делаем вывод, что с каждым этапом суммарная концентрация au,ar,pb увеличивается, а концентрация sol уменьшается."
      ]
    },
    {
      "cell_type": "markdown",
      "metadata": {
        "id": "cypnLtzRwhpB"
      },
      "source": [
        "### Вывод по разделу"
      ]
    },
    {
      "cell_type": "markdown",
      "metadata": {
        "id": "zrKk896jwhpB"
      },
      "source": [
        "В данном разделе была рассмотрена динамика концентрации металлов на различных этапах очистки. Так, с каждым этапом концентрация золота и свинца растет. Концентрация серебра растет после флотации, но уменьшается при последующих этапах очистки.\n",
        "\n",
        "Было произведено сравнение распределений размеров гранул обучающего и тестового датасетов. И, если распределение показателя до флотации имеет определенные отличия, то после флотации распределения имеют схожий, нормальный вид.\n",
        "\n",
        "После рассмотрения динамики суммарной концентрации веществ на различных этапах можно заметить, что при рассмотрении данного показателя с солями медиана суммарной концентрации веществ в сырье составляет 56.64, после флотации увеличивается до 69.26, а финальный показатель составил 69.14. Однако, если оставить только сумму au,ar,pb то увидим рост показателя на каждом этапе: до флотации = 19, после флотации = 39.87, в финальном концентрате = 60.2. Отсюда можно сделать вывод, что суммарный концентрат претерпевает положительные структурные изменения и доля солей уменьшается, а au,ar,pb увеличивается."
      ]
    },
    {
      "cell_type": "markdown",
      "metadata": {
        "id": "wQM3AIiGwhpB"
      },
      "source": [
        "## Модель"
      ]
    },
    {
      "cell_type": "markdown",
      "metadata": {
        "id": "BuLA-noLwhpB"
      },
      "source": [
        "### Функция для вычисления sMAPE"
      ]
    },
    {
      "cell_type": "code",
      "execution_count": null,
      "metadata": {
        "id": "7sD8CH4iwhpC"
      },
      "outputs": [],
      "source": [
        "# Функция для вычисления sMAPE\n",
        "def sMAPE(target, pred):\n",
        "    smape = ((sum((abs(target - pred))/((abs(target) + abs(pred))/2)))/len(target))*100\n",
        "    return smape"
      ]
    },
    {
      "cell_type": "code",
      "execution_count": null,
      "metadata": {
        "id": "c8aQBamlwhpC"
      },
      "outputs": [],
      "source": [
        "# Функция для вычисления финального sMAPE\n",
        "def final_sMAPE(smape_rougher, smape_final):\n",
        "    final_smape = 0.25*smape_rougher+0.75*smape_final\n",
        "    return final_smape"
      ]
    },
    {
      "cell_type": "code",
      "execution_count": null,
      "metadata": {
        "id": "Evay_HB_whpC"
      },
      "outputs": [],
      "source": [
        "best_smape = make_scorer(sMAPE,greater_is_better=False)"
      ]
    },
    {
      "cell_type": "markdown",
      "metadata": {
        "id": "tqSzlry2whpC"
      },
      "source": [
        "###  Разделение данных на выборки"
      ]
    },
    {
      "cell_type": "code",
      "execution_count": null,
      "metadata": {
        "id": "CMuasEiqwhpC"
      },
      "outputs": [],
      "source": [
        "# Добавим в тестовый датафрейм значения таргета\n",
        "data_test_for_target = data_test.merge(data_full.loc[:,['date',\"rougher.output.recovery\",\"final.output.recovery\"]],on = 'date')\n",
        "\n",
        "# Удалим нули\n",
        "data_test_for_target = data_test_for_target[data_test_for_target != 0].dropna()"
      ]
    },
    {
      "cell_type": "code",
      "execution_count": null,
      "metadata": {
        "id": "jsroobDtwhpC"
      },
      "outputs": [],
      "source": [
        "target_train_rougher = data_train['rougher.output.recovery']\n",
        "target_train_final = data_train['final.output.recovery']\n",
        "features_train = data_train[data_test_for_target.columns].drop(['rougher.output.recovery', 'final.output.recovery', 'date'], axis=1)\n",
        "\n",
        "target_test_rougher = data_test_for_target['rougher.output.recovery']\n",
        "target_test_final = data_test_for_target['final.output.recovery']\n",
        "features_test = data_test_for_target.drop(['rougher.output.recovery', 'final.output.recovery', 'date'], axis=1)\n",
        "\n"
      ]
    },
    {
      "cell_type": "markdown",
      "metadata": {
        "id": "FujknaH6whpD"
      },
      "source": [
        "### Масштабирование признаков"
      ]
    },
    {
      "cell_type": "code",
      "execution_count": null,
      "metadata": {
        "id": "kBLe5hYYwhpD"
      },
      "outputs": [],
      "source": [
        "# масштабируем признаки\n",
        "scaler = StandardScaler()\n",
        "scaler.fit(features_train)\n",
        "\n",
        "features_train_scaled = pd.DataFrame(scaler.transform(features_train), columns=features_train.columns, index = features_train.index)\n",
        "features_test_scaled = pd.DataFrame(scaler.transform(features_test), columns=features_test.columns, index = features_test.index)"
      ]
    },
    {
      "cell_type": "markdown",
      "metadata": {
        "id": "BnY2vEbpwhpD"
      },
      "source": [
        "### Обучение моделей"
      ]
    },
    {
      "cell_type": "code",
      "execution_count": null,
      "metadata": {
        "id": "Kta1Qn8kwhpD"
      },
      "outputs": [],
      "source": [
        "STATE = 12345"
      ]
    },
    {
      "cell_type": "code",
      "execution_count": null,
      "metadata": {
        "id": "B5EE6I9dwhpD"
      },
      "outputs": [],
      "source": [
        "model_linear_rougher = LinearRegression()\n",
        "model_dt_rougher = DecisionTreeRegressor(random_state=STATE)\n",
        "model_rf_rougher = RandomForestRegressor(random_state=STATE, n_jobs=-1)\n",
        "\n",
        "model_linear_final = LinearRegression()\n",
        "model_dt_final = DecisionTreeRegressor(random_state=STATE)\n",
        "model_rf_final = RandomForestRegressor(random_state=STATE, n_jobs=-1)"
      ]
    },
    {
      "cell_type": "code",
      "execution_count": null,
      "metadata": {
        "id": "TTWFhwCFwhpE"
      },
      "outputs": [],
      "source": [
        "dummy_model_rougher = DummyRegressor(strategy=\"mean\")\n",
        "dummy_model_final = DummyRegressor(strategy=\"mean\")"
      ]
    },
    {
      "cell_type": "code",
      "execution_count": null,
      "metadata": {
        "id": "g5U7k0I1whpE"
      },
      "outputs": [],
      "source": [
        "parametrs_linear = {}\n",
        "parametrs_rf = {\"n_estimators\": range(100,150),\n",
        "             \"max_depth\": range(10,20)}\n",
        "parametrs_dt = {\"max_depth\": range(5,15)}"
      ]
    },
    {
      "cell_type": "code",
      "execution_count": null,
      "metadata": {
        "id": "_lCG_ZZjwhpE"
      },
      "outputs": [],
      "source": [
        "grid_linear_rougher = RandomizedSearchCV(model_linear_rougher, scoring=best_smape, cv=5, param_distributions = parametrs_linear)\n",
        "grid_linear_final = RandomizedSearchCV(model_linear_final, scoring=best_smape, cv=5, param_distributions = parametrs_linear)\n",
        "\n",
        "grid_dt_rougher = RandomizedSearchCV(model_dt_rougher, n_iter=10, scoring=best_smape, cv=5, param_distributions=parametrs_dt, random_state=STATE, verbose=3)\n",
        "grid_dt_final = RandomizedSearchCV(model_dt_final, n_iter=10, scoring=best_smape, cv=5, param_distributions = parametrs_dt, random_state=STATE, verbose=3)\n",
        "\n",
        "grid_rf_rougher = RandomizedSearchCV(model_rf_rougher, n_iter=4, scoring=best_smape, cv=5, param_distributions = parametrs_rf, random_state=STATE, verbose=3)\n",
        "grid_rf_final = RandomizedSearchCV(model_rf_final, n_iter=4, scoring=best_smape, cv=5, param_distributions = parametrs_rf, random_state=STATE, verbose=3)"
      ]
    },
    {
      "cell_type": "markdown",
      "metadata": {
        "id": "97MCqkZmwhpF"
      },
      "source": [
        "#### Обучение rougher моделей"
      ]
    },
    {
      "cell_type": "code",
      "execution_count": null,
      "metadata": {
        "id": "5V9EXZrIwhpF",
        "outputId": "e5579d03-8cdf-4be3-adf1-df734ff5a85c"
      },
      "outputs": [
        {
          "data": {
            "text/plain": [
              "DummyRegressor()"
            ]
          },
          "execution_count": 58,
          "metadata": {},
          "output_type": "execute_result"
        }
      ],
      "source": [
        "# Обучаем константную модель\n",
        "dummy_model_rougher.fit(features_train_scaled, target_train_rougher)"
      ]
    },
    {
      "cell_type": "code",
      "execution_count": null,
      "metadata": {
        "id": "eEwj_ocpwhpF",
        "outputId": "c232788e-5f90-42c9-fc03-298fcb640d64"
      },
      "outputs": [
        {
          "name": "stdout",
          "output_type": "stream",
          "text": [
            "sMAPE константной модели rougher = 7.30287528328782\n"
          ]
        }
      ],
      "source": [
        "predict_dummy_rougher = dummy_model_rougher.predict(features_train_scaled)\n",
        "print(f'sMAPE константной модели rougher = {sMAPE(target_train_rougher, predict_dummy_rougher)}')"
      ]
    },
    {
      "cell_type": "code",
      "execution_count": null,
      "metadata": {
        "scrolled": false,
        "id": "m1A8OZCewhpF",
        "outputId": "175178c8-d64a-4408-c84b-d6ab5aab8d57"
      },
      "outputs": [
        {
          "data": {
            "text/plain": [
              "RandomizedSearchCV(cv=5, estimator=LinearRegression(), param_distributions={},\n",
              "                   scoring=make_scorer(sMAPE, greater_is_better=False))"
            ]
          },
          "execution_count": 60,
          "metadata": {},
          "output_type": "execute_result"
        }
      ],
      "source": [
        "# Обучаем линейную модель\n",
        "grid_linear_rougher.fit(features_train_scaled, target_train_rougher)"
      ]
    },
    {
      "cell_type": "code",
      "execution_count": null,
      "metadata": {
        "id": "CvQ94DHbwhpF",
        "outputId": "368417ec-35e8-4e25-bab8-c0da38386ddf"
      },
      "outputs": [
        {
          "name": "stdout",
          "output_type": "stream",
          "text": [
            "Средний результат кросс валидации линейной модели rougher = 7.511796171337773\n"
          ]
        }
      ],
      "source": [
        "print(f'Средний результат кросс валидации линейной модели rougher = {-(grid_linear_rougher.best_score_)}')"
      ]
    },
    {
      "cell_type": "code",
      "execution_count": null,
      "metadata": {
        "scrolled": true,
        "id": "_5TmbAAswhpF",
        "outputId": "2f5ff21c-5cf6-492d-8ffd-07e58b221152"
      },
      "outputs": [
        {
          "name": "stdout",
          "output_type": "stream",
          "text": [
            "Fitting 5 folds for each of 10 candidates, totalling 50 fits\n",
            "[CV 1/5] END ....................................max_depth=5; total time=   0.5s\n",
            "[CV 2/5] END ....................................max_depth=5; total time=   0.5s\n",
            "[CV 3/5] END ....................................max_depth=5; total time=   0.5s\n",
            "[CV 4/5] END ....................................max_depth=5; total time=   0.6s\n",
            "[CV 5/5] END ....................................max_depth=5; total time=   0.8s\n",
            "[CV 1/5] END ....................................max_depth=6; total time=   0.7s\n",
            "[CV 2/5] END ....................................max_depth=6; total time=   0.7s\n",
            "[CV 3/5] END ....................................max_depth=6; total time=   1.0s\n",
            "[CV 4/5] END ....................................max_depth=6; total time=   0.9s\n",
            "[CV 5/5] END ....................................max_depth=6; total time=   1.0s\n",
            "[CV 1/5] END ....................................max_depth=7; total time=   0.9s\n",
            "[CV 2/5] END ....................................max_depth=7; total time=   1.0s\n",
            "[CV 3/5] END ....................................max_depth=7; total time=   0.9s\n",
            "[CV 4/5] END ....................................max_depth=7; total time=   0.9s\n",
            "[CV 5/5] END ....................................max_depth=7; total time=   1.2s\n",
            "[CV 1/5] END ....................................max_depth=8; total time=   1.2s\n",
            "[CV 2/5] END ....................................max_depth=8; total time=   1.1s\n",
            "[CV 3/5] END ....................................max_depth=8; total time=   1.1s\n",
            "[CV 4/5] END ....................................max_depth=8; total time=   1.1s\n",
            "[CV 5/5] END ....................................max_depth=8; total time=   1.1s\n",
            "[CV 1/5] END ....................................max_depth=9; total time=   1.2s\n",
            "[CV 2/5] END ....................................max_depth=9; total time=   1.2s\n",
            "[CV 3/5] END ....................................max_depth=9; total time=   1.2s\n",
            "[CV 4/5] END ....................................max_depth=9; total time=   1.2s\n",
            "[CV 5/5] END ....................................max_depth=9; total time=   1.3s\n",
            "[CV 1/5] END ...................................max_depth=10; total time=   1.3s\n",
            "[CV 2/5] END ...................................max_depth=10; total time=   1.3s\n",
            "[CV 3/5] END ...................................max_depth=10; total time=   1.3s\n",
            "[CV 4/5] END ...................................max_depth=10; total time=   1.4s\n",
            "[CV 5/5] END ...................................max_depth=10; total time=   1.3s\n",
            "[CV 1/5] END ...................................max_depth=11; total time=   1.4s\n",
            "[CV 2/5] END ...................................max_depth=11; total time=   1.4s\n",
            "[CV 3/5] END ...................................max_depth=11; total time=   1.5s\n",
            "[CV 4/5] END ...................................max_depth=11; total time=   1.5s\n",
            "[CV 5/5] END ...................................max_depth=11; total time=   1.4s\n",
            "[CV 1/5] END ...................................max_depth=12; total time=   1.5s\n",
            "[CV 2/5] END ...................................max_depth=12; total time=   1.5s\n",
            "[CV 3/5] END ...................................max_depth=12; total time=   1.5s\n",
            "[CV 4/5] END ...................................max_depth=12; total time=   1.5s\n",
            "[CV 5/5] END ...................................max_depth=12; total time=   1.5s\n",
            "[CV 1/5] END ...................................max_depth=13; total time=   1.6s\n",
            "[CV 2/5] END ...................................max_depth=13; total time=   1.6s\n",
            "[CV 3/5] END ...................................max_depth=13; total time=   1.6s\n",
            "[CV 4/5] END ...................................max_depth=13; total time=   1.5s\n",
            "[CV 5/5] END ...................................max_depth=13; total time=   1.6s\n",
            "[CV 1/5] END ...................................max_depth=14; total time=   1.6s\n",
            "[CV 2/5] END ...................................max_depth=14; total time=   1.6s\n",
            "[CV 3/5] END ...................................max_depth=14; total time=   1.7s\n",
            "[CV 4/5] END ...................................max_depth=14; total time=   1.8s\n",
            "[CV 5/5] END ...................................max_depth=14; total time=   1.6s\n"
          ]
        },
        {
          "data": {
            "text/plain": [
              "RandomizedSearchCV(cv=5, estimator=DecisionTreeRegressor(random_state=12345),\n",
              "                   param_distributions={'max_depth': range(5, 15)},\n",
              "                   random_state=12345,\n",
              "                   scoring=make_scorer(sMAPE, greater_is_better=False),\n",
              "                   verbose=3)"
            ]
          },
          "execution_count": 62,
          "metadata": {},
          "output_type": "execute_result"
        }
      ],
      "source": [
        "# Обучим модель решающего дерева\n",
        "grid_dt_rougher.fit(features_train_scaled, target_train_rougher)"
      ]
    },
    {
      "cell_type": "code",
      "execution_count": null,
      "metadata": {
        "id": "JspBDKi3whpG",
        "outputId": "29d48eaa-7851-44b2-e579-a5db0910517e"
      },
      "outputs": [
        {
          "name": "stdout",
          "output_type": "stream",
          "text": [
            "Средний результат кросс валидации модели решающего дерева rougher = 6.93241871431965\n"
          ]
        }
      ],
      "source": [
        "print(f'Средний результат кросс валидации модели решающего дерева rougher = {-(grid_dt_rougher.best_score_)}')"
      ]
    },
    {
      "cell_type": "code",
      "execution_count": null,
      "metadata": {
        "id": "6VR_y8ExwhpG",
        "outputId": "d880e4e8-1e56-46f1-f273-36d5d0687b1a"
      },
      "outputs": [
        {
          "name": "stdout",
          "output_type": "stream",
          "text": [
            "Fitting 5 folds for each of 4 candidates, totalling 20 fits\n",
            "[CV 1/5] END .................max_depth=19, n_estimators=132; total time= 2.6min\n",
            "[CV 2/5] END .................max_depth=19, n_estimators=132; total time= 2.6min\n",
            "[CV 3/5] END .................max_depth=19, n_estimators=132; total time= 2.5min\n",
            "[CV 4/5] END .................max_depth=19, n_estimators=132; total time= 2.6min\n",
            "[CV 5/5] END .................max_depth=19, n_estimators=132; total time= 2.6min\n",
            "[CV 1/5] END .................max_depth=19, n_estimators=135; total time= 2.6min\n",
            "[CV 2/5] END .................max_depth=19, n_estimators=135; total time= 2.9min\n",
            "[CV 3/5] END .................max_depth=19, n_estimators=135; total time= 3.2min\n",
            "[CV 4/5] END .................max_depth=19, n_estimators=135; total time= 4.5min\n",
            "[CV 5/5] END .................max_depth=19, n_estimators=135; total time= 4.6min\n",
            "[CV 1/5] END .................max_depth=15, n_estimators=135; total time= 4.2min\n",
            "[CV 2/5] END .................max_depth=15, n_estimators=135; total time= 3.5min\n",
            "[CV 3/5] END .................max_depth=15, n_estimators=135; total time= 2.8min\n",
            "[CV 4/5] END .................max_depth=15, n_estimators=135; total time= 2.8min\n",
            "[CV 5/5] END .................max_depth=15, n_estimators=135; total time= 2.8min\n",
            "[CV 1/5] END .................max_depth=12, n_estimators=129; total time= 2.4min\n",
            "[CV 2/5] END .................max_depth=12, n_estimators=129; total time= 2.6min\n",
            "[CV 3/5] END .................max_depth=12, n_estimators=129; total time= 3.2min\n",
            "[CV 4/5] END .................max_depth=12, n_estimators=129; total time= 2.3min\n",
            "[CV 5/5] END .................max_depth=12, n_estimators=129; total time= 2.3min\n"
          ]
        },
        {
          "data": {
            "text/plain": [
              "RandomizedSearchCV(cv=5,\n",
              "                   estimator=RandomForestRegressor(n_jobs=-1,\n",
              "                                                   random_state=12345),\n",
              "                   n_iter=4,\n",
              "                   param_distributions={'max_depth': range(10, 20),\n",
              "                                        'n_estimators': range(100, 150)},\n",
              "                   random_state=12345,\n",
              "                   scoring=make_scorer(sMAPE, greater_is_better=False),\n",
              "                   verbose=3)"
            ]
          },
          "execution_count": 64,
          "metadata": {},
          "output_type": "execute_result"
        }
      ],
      "source": [
        "# Обучим модель случайного леса\n",
        "grid_rf_rougher.fit(features_train_scaled, target_train_rougher)"
      ]
    },
    {
      "cell_type": "code",
      "execution_count": null,
      "metadata": {
        "id": "QnaZmfDzwhpG",
        "outputId": "7827becb-f980-48eb-a02a-ddd75ba2f3a4"
      },
      "outputs": [
        {
          "name": "stdout",
          "output_type": "stream",
          "text": [
            "Средний результат кросс валидации модели случайного леса rougher = 6.639580166050017\n"
          ]
        }
      ],
      "source": [
        "print(f'Средний результат кросс валидации модели случайного леса rougher = {-(grid_rf_rougher.best_score_)}')"
      ]
    },
    {
      "cell_type": "markdown",
      "metadata": {
        "id": "oDR8Hy9XwhpG"
      },
      "source": [
        "Лучшая roughe модель - это модель случайного леса с показателем sMAPE = 6.64. sMAPE константной модели = 7.3. Это означает, что модель случайного леса лучше константной и может быть использована далее."
      ]
    },
    {
      "cell_type": "markdown",
      "metadata": {
        "id": "p-FjUqqWwhpH"
      },
      "source": [
        "#### Обучение final моделей"
      ]
    },
    {
      "cell_type": "code",
      "execution_count": null,
      "metadata": {
        "id": "sYy12OVLwhpH",
        "outputId": "6da1dca9-8baa-4862-c788-b1e4e9b1eb7e"
      },
      "outputs": [
        {
          "data": {
            "text/plain": [
              "DummyRegressor()"
            ]
          },
          "execution_count": 66,
          "metadata": {},
          "output_type": "execute_result"
        }
      ],
      "source": [
        "dummy_model_final.fit(features_train_scaled, target_train_final)"
      ]
    },
    {
      "cell_type": "code",
      "execution_count": null,
      "metadata": {
        "id": "IY7AEqaKwhpH",
        "outputId": "54c44194-587b-472d-d83a-bff6a11167d3"
      },
      "outputs": [
        {
          "name": "stdout",
          "output_type": "stream",
          "text": [
            "sMAPE константной модели final = 9.941202570438625\n"
          ]
        }
      ],
      "source": [
        "predict_dummy_final = dummy_model_final.predict(features_train_scaled)\n",
        "print(f'sMAPE константной модели final = {sMAPE(target_train_final, predict_dummy_final)}')"
      ]
    },
    {
      "cell_type": "code",
      "execution_count": null,
      "metadata": {
        "id": "3aI8tpldwhpH",
        "outputId": "8952d788-691a-4db1-b376-93a0d93a2e9b"
      },
      "outputs": [
        {
          "data": {
            "text/plain": [
              "RandomizedSearchCV(cv=5, estimator=LinearRegression(), param_distributions={},\n",
              "                   scoring=make_scorer(sMAPE, greater_is_better=False))"
            ]
          },
          "execution_count": 68,
          "metadata": {},
          "output_type": "execute_result"
        }
      ],
      "source": [
        "# Обучаем линейную модель\n",
        "grid_linear_final.fit(features_train_scaled, target_train_final)"
      ]
    },
    {
      "cell_type": "code",
      "execution_count": null,
      "metadata": {
        "id": "JogCIEyOwhpI",
        "outputId": "430e4b4e-7876-4383-80b5-e112795af2eb"
      },
      "outputs": [
        {
          "name": "stdout",
          "output_type": "stream",
          "text": [
            "Средний результат кросс валидации линейной модели final = 11.086086933832362\n"
          ]
        }
      ],
      "source": [
        "print(f'Средний результат кросс валидации линейной модели final = {-(grid_linear_final.best_score_)}')"
      ]
    },
    {
      "cell_type": "code",
      "execution_count": null,
      "metadata": {
        "id": "Ch9ts_xvwhpI",
        "outputId": "446d1ea8-87c0-4c75-9317-fc4e1e5de07b"
      },
      "outputs": [
        {
          "name": "stdout",
          "output_type": "stream",
          "text": [
            "Fitting 5 folds for each of 10 candidates, totalling 50 fits\n",
            "[CV 1/5] END ....................................max_depth=5; total time=   0.8s\n",
            "[CV 2/5] END ....................................max_depth=5; total time=   0.8s\n",
            "[CV 3/5] END ....................................max_depth=5; total time=   0.8s\n",
            "[CV 4/5] END ....................................max_depth=5; total time=   0.8s\n",
            "[CV 5/5] END ....................................max_depth=5; total time=   0.8s\n",
            "[CV 1/5] END ....................................max_depth=6; total time=   0.8s\n",
            "[CV 2/5] END ....................................max_depth=6; total time=   1.0s\n",
            "[CV 3/5] END ....................................max_depth=6; total time=   0.9s\n",
            "[CV 4/5] END ....................................max_depth=6; total time=   0.8s\n",
            "[CV 5/5] END ....................................max_depth=6; total time=   1.0s\n",
            "[CV 1/5] END ....................................max_depth=7; total time=   0.9s\n",
            "[CV 2/5] END ....................................max_depth=7; total time=   1.1s\n",
            "[CV 3/5] END ....................................max_depth=7; total time=   1.7s\n",
            "[CV 4/5] END ....................................max_depth=7; total time=   1.9s\n",
            "[CV 5/5] END ....................................max_depth=7; total time=   1.5s\n",
            "[CV 1/5] END ....................................max_depth=8; total time=   1.3s\n",
            "[CV 2/5] END ....................................max_depth=8; total time=   1.2s\n",
            "[CV 3/5] END ....................................max_depth=8; total time=   1.3s\n",
            "[CV 4/5] END ....................................max_depth=8; total time=   1.3s\n",
            "[CV 5/5] END ....................................max_depth=8; total time=   1.3s\n",
            "[CV 1/5] END ....................................max_depth=9; total time=   1.3s\n",
            "[CV 2/5] END ....................................max_depth=9; total time=   1.3s\n",
            "[CV 3/5] END ....................................max_depth=9; total time=   1.3s\n",
            "[CV 4/5] END ....................................max_depth=9; total time=   1.2s\n",
            "[CV 5/5] END ....................................max_depth=9; total time=   1.3s\n",
            "[CV 1/5] END ...................................max_depth=10; total time=   1.3s\n",
            "[CV 2/5] END ...................................max_depth=10; total time=   1.5s\n",
            "[CV 3/5] END ...................................max_depth=10; total time=   1.4s\n",
            "[CV 4/5] END ...................................max_depth=10; total time=   1.4s\n",
            "[CV 5/5] END ...................................max_depth=10; total time=   1.4s\n",
            "[CV 1/5] END ...................................max_depth=11; total time=   1.6s\n",
            "[CV 2/5] END ...................................max_depth=11; total time=   1.4s\n",
            "[CV 3/5] END ...................................max_depth=11; total time=   1.5s\n",
            "[CV 4/5] END ...................................max_depth=11; total time=   1.5s\n",
            "[CV 5/5] END ...................................max_depth=11; total time=   1.4s\n",
            "[CV 1/5] END ...................................max_depth=12; total time=   1.5s\n",
            "[CV 2/5] END ...................................max_depth=12; total time=   1.6s\n",
            "[CV 3/5] END ...................................max_depth=12; total time=   1.6s\n",
            "[CV 4/5] END ...................................max_depth=12; total time=   1.6s\n",
            "[CV 5/5] END ...................................max_depth=12; total time=   1.6s\n",
            "[CV 1/5] END ...................................max_depth=13; total time=   1.7s\n",
            "[CV 2/5] END ...................................max_depth=13; total time=   1.6s\n",
            "[CV 3/5] END ...................................max_depth=13; total time=   1.7s\n",
            "[CV 4/5] END ...................................max_depth=13; total time=   1.7s\n",
            "[CV 5/5] END ...................................max_depth=13; total time=   1.7s\n",
            "[CV 1/5] END ...................................max_depth=14; total time=   1.7s\n",
            "[CV 2/5] END ...................................max_depth=14; total time=   1.8s\n",
            "[CV 3/5] END ...................................max_depth=14; total time=   1.8s\n",
            "[CV 4/5] END ...................................max_depth=14; total time=   1.7s\n",
            "[CV 5/5] END ...................................max_depth=14; total time=   1.7s\n"
          ]
        },
        {
          "data": {
            "text/plain": [
              "RandomizedSearchCV(cv=5, estimator=DecisionTreeRegressor(random_state=12345),\n",
              "                   param_distributions={'max_depth': range(5, 15)},\n",
              "                   random_state=12345,\n",
              "                   scoring=make_scorer(sMAPE, greater_is_better=False),\n",
              "                   verbose=3)"
            ]
          },
          "execution_count": 70,
          "metadata": {},
          "output_type": "execute_result"
        }
      ],
      "source": [
        "# Обучим модель решающего дерева\n",
        "grid_dt_final.fit(features_train_scaled, target_train_final)"
      ]
    },
    {
      "cell_type": "code",
      "execution_count": null,
      "metadata": {
        "id": "28epQRyawhpI",
        "outputId": "8be6e39b-ea86-4511-9d9a-06edfe11519e"
      },
      "outputs": [
        {
          "name": "stdout",
          "output_type": "stream",
          "text": [
            "Средний результат кросс валидации модели решающего дерева final = 11.113331381922366\n"
          ]
        }
      ],
      "source": [
        "print(f'Средний результат кросс валидации модели решающего дерева final = {-(grid_dt_final.best_score_)}')"
      ]
    },
    {
      "cell_type": "code",
      "execution_count": null,
      "metadata": {
        "scrolled": true,
        "id": "qLpxhXBhwhpJ",
        "outputId": "56bcac9a-f2a1-4db8-f5c6-6a565416659a"
      },
      "outputs": [
        {
          "name": "stdout",
          "output_type": "stream",
          "text": [
            "Fitting 5 folds for each of 4 candidates, totalling 20 fits\n",
            "[CV 1/5] END .................max_depth=19, n_estimators=132; total time= 2.8min\n",
            "[CV 2/5] END .................max_depth=19, n_estimators=132; total time= 2.8min\n",
            "[CV 3/5] END .................max_depth=19, n_estimators=132; total time= 2.7min\n",
            "[CV 4/5] END .................max_depth=19, n_estimators=132; total time= 2.8min\n",
            "[CV 5/5] END .................max_depth=19, n_estimators=132; total time= 2.8min\n",
            "[CV 1/5] END .................max_depth=19, n_estimators=135; total time= 2.8min\n",
            "[CV 2/5] END .................max_depth=19, n_estimators=135; total time= 3.0min\n",
            "[CV 3/5] END .................max_depth=19, n_estimators=135; total time= 2.8min\n"
          ]
        }
      ],
      "source": [
        "# Обучим модель случайного леса\n",
        "grid_rf_final.fit(features_train_scaled, target_train_final)"
      ]
    },
    {
      "cell_type": "code",
      "execution_count": null,
      "metadata": {
        "id": "fNyOY-F_whpJ"
      },
      "outputs": [],
      "source": [
        "print(f'Средний результат кросс валидации модели случайного леса final = {-(grid_rf_final.best_score_)}')"
      ]
    },
    {
      "cell_type": "markdown",
      "metadata": {
        "id": "VSgxujzvwhpJ"
      },
      "source": [
        "Лучшая final модель - это модель случайного леса с показателем sMAPE = 9.61, что лучше аналогичного показателя константной модели (9.94)"
      ]
    },
    {
      "cell_type": "markdown",
      "metadata": {
        "id": "-6PJgkrNwhpJ"
      },
      "source": [
        "### Предсказания по тестовой выборке"
      ]
    },
    {
      "cell_type": "markdown",
      "metadata": {
        "id": "YPdVl3gSwhpJ"
      },
      "source": [
        "Таким образом, для работы над тестовой выборкой используем модели случайного леса"
      ]
    },
    {
      "cell_type": "code",
      "execution_count": null,
      "metadata": {
        "id": "IYKIfFWhwhpJ"
      },
      "outputs": [],
      "source": [
        "predict_rougher = grid_rf_rougher.predict(features_test_scaled)\n",
        "print(f'sMAPE модели rougher = {sMAPE(target_test_rougher, predict_rougher)}')\n",
        "smape_rougher = sMAPE(target_test_rougher, predict_rougher)\n"
      ]
    },
    {
      "cell_type": "code",
      "execution_count": null,
      "metadata": {
        "id": "P8M6wjcXwhpJ"
      },
      "outputs": [],
      "source": [
        "predict_final = grid_rf_final.predict(features_test_scaled)\n",
        "print(f'sMAPE модели final = {sMAPE(target_test_final, predict_final)}')\n",
        "smape_final = sMAPE(target_test_final, predict_final)\n"
      ]
    },
    {
      "cell_type": "markdown",
      "metadata": {
        "id": "cDd4ECSUwhpK"
      },
      "source": [
        "### Расчет итогового sMAPE"
      ]
    },
    {
      "cell_type": "code",
      "execution_count": null,
      "metadata": {
        "id": "nr494jq4whpK"
      },
      "outputs": [],
      "source": [
        "print(f' Итоговый sMAPE = {final_sMAPE(smape_rougher, smape_final)}')"
      ]
    },
    {
      "cell_type": "markdown",
      "metadata": {
        "id": "8tEhZK_dwhpL"
      },
      "source": [
        "## Выводы"
      ]
    },
    {
      "cell_type": "markdown",
      "metadata": {
        "id": "umdNtvozwhpL"
      },
      "source": [
        "Целью данной проектной работы является построеие прототипа модели машинного обучения, которая должна предсказать коэффициент восстановления золота из золотосодержащей руды.\n",
        "\n",
        "В проекте были обучены различные модели машинного обучения и на основании их прогнозов был посчитан итоговый показатель sMAPE. Лучшая roughe модель - это модель случайного леса с показателем sMAPE = 6.64. Лучшая final модель - также модель случайного леса с показтелем sMAPE = 9.61. Аналочичные показатели константых моделей составили: 7.3 и 9.94. Так как sMAPE показывает величину отклонения прогнозов от фактических результатов, то можно сделать вывод, что чем показатель ниже, тем лучше.\n",
        "\n",
        "Так как показатели моделей демонстрирует лучшие результаты, чем константные, используем их для работы над тестовой выборкой.\n",
        "\n",
        "Итоговый sMAPE составил 7.05."
      ]
    },
    {
      "cell_type": "markdown",
      "metadata": {
        "id": "DkRWqj12whpL"
      },
      "source": [
        "------"
      ]
    }
  ],
  "metadata": {
    "ExecuteTimeLog": [
      {
        "duration": 444,
        "start_time": "2023-03-18T14:10:52.215Z"
      },
      {
        "duration": 107,
        "start_time": "2023-03-18T14:11:10.308Z"
      },
      {
        "duration": 51,
        "start_time": "2023-03-18T14:11:35.683Z"
      },
      {
        "duration": 1775,
        "start_time": "2023-03-18T14:12:09.919Z"
      },
      {
        "duration": 367,
        "start_time": "2023-03-18T14:12:12.019Z"
      },
      {
        "duration": 40,
        "start_time": "2023-03-18T14:12:28.435Z"
      },
      {
        "duration": 459,
        "start_time": "2023-03-18T14:13:17.494Z"
      },
      {
        "duration": 860,
        "start_time": "2023-03-18T14:13:22.062Z"
      },
      {
        "duration": 714,
        "start_time": "2023-03-18T14:13:45.441Z"
      },
      {
        "duration": 30,
        "start_time": "2023-03-18T14:13:54.556Z"
      },
      {
        "duration": 24,
        "start_time": "2023-03-18T14:14:07.200Z"
      },
      {
        "duration": 24,
        "start_time": "2023-03-18T14:14:24.949Z"
      },
      {
        "duration": 19,
        "start_time": "2023-03-18T14:16:54.349Z"
      },
      {
        "duration": 38,
        "start_time": "2023-03-18T14:52:48.902Z"
      },
      {
        "duration": 22,
        "start_time": "2023-03-18T14:53:04.332Z"
      },
      {
        "duration": 16,
        "start_time": "2023-03-18T14:53:22.500Z"
      },
      {
        "duration": 21,
        "start_time": "2023-03-18T14:53:35.999Z"
      },
      {
        "duration": 65,
        "start_time": "2023-03-18T14:57:46.347Z"
      },
      {
        "duration": 63,
        "start_time": "2023-03-18T14:58:36.220Z"
      },
      {
        "duration": 74,
        "start_time": "2023-03-18T14:58:40.601Z"
      },
      {
        "duration": 19,
        "start_time": "2023-03-18T15:00:01.619Z"
      },
      {
        "duration": 31,
        "start_time": "2023-03-18T15:00:11.730Z"
      },
      {
        "duration": 13,
        "start_time": "2023-03-18T15:00:18.767Z"
      },
      {
        "duration": 1146,
        "start_time": "2023-03-18T15:01:43.215Z"
      },
      {
        "duration": 1114,
        "start_time": "2023-03-18T15:01:51.016Z"
      },
      {
        "duration": 1318,
        "start_time": "2023-03-18T15:02:01.097Z"
      },
      {
        "duration": 1156,
        "start_time": "2023-03-18T15:02:36.494Z"
      },
      {
        "duration": 5,
        "start_time": "2023-03-18T15:02:54.703Z"
      },
      {
        "duration": 7,
        "start_time": "2023-03-18T15:03:32.118Z"
      },
      {
        "duration": 6,
        "start_time": "2023-03-18T15:03:39.348Z"
      },
      {
        "duration": 6,
        "start_time": "2023-03-18T15:04:13.206Z"
      },
      {
        "duration": 5,
        "start_time": "2023-03-18T15:04:29.636Z"
      },
      {
        "duration": 5,
        "start_time": "2023-03-18T15:04:51.999Z"
      },
      {
        "duration": 89,
        "start_time": "2023-03-18T15:06:30.398Z"
      },
      {
        "duration": 12,
        "start_time": "2023-03-18T15:06:39.227Z"
      },
      {
        "duration": 7,
        "start_time": "2023-03-18T15:07:01.695Z"
      },
      {
        "duration": 7,
        "start_time": "2023-03-18T15:07:16.239Z"
      },
      {
        "duration": 6,
        "start_time": "2023-03-18T15:07:26.698Z"
      },
      {
        "duration": 4,
        "start_time": "2023-03-18T15:07:33.995Z"
      },
      {
        "duration": 9,
        "start_time": "2023-03-18T15:08:24.831Z"
      },
      {
        "duration": 7,
        "start_time": "2023-03-18T15:08:30.323Z"
      },
      {
        "duration": 5,
        "start_time": "2023-03-18T15:31:40.023Z"
      },
      {
        "duration": 4,
        "start_time": "2023-03-18T15:31:58.232Z"
      },
      {
        "duration": 5,
        "start_time": "2023-03-18T15:33:30.531Z"
      },
      {
        "duration": 4,
        "start_time": "2023-03-18T15:33:52.258Z"
      },
      {
        "duration": 5,
        "start_time": "2023-03-18T15:34:01.734Z"
      },
      {
        "duration": 5,
        "start_time": "2023-03-18T15:34:27.510Z"
      },
      {
        "duration": 4,
        "start_time": "2023-03-18T15:34:46.429Z"
      },
      {
        "duration": 4,
        "start_time": "2023-03-18T15:35:01.445Z"
      },
      {
        "duration": 4,
        "start_time": "2023-03-18T16:42:56.413Z"
      },
      {
        "duration": 4,
        "start_time": "2023-03-18T16:43:21.105Z"
      },
      {
        "duration": 5,
        "start_time": "2023-03-18T16:51:57.307Z"
      },
      {
        "duration": 4,
        "start_time": "2023-03-18T16:52:12.303Z"
      },
      {
        "duration": 19,
        "start_time": "2023-03-18T16:53:43.863Z"
      },
      {
        "duration": 5,
        "start_time": "2023-03-18T16:59:25.419Z"
      },
      {
        "duration": 4,
        "start_time": "2023-03-18T17:06:14.949Z"
      },
      {
        "duration": 1180,
        "start_time": "2023-03-18T17:06:38.953Z"
      },
      {
        "duration": 1191,
        "start_time": "2023-03-18T17:07:35.014Z"
      },
      {
        "duration": 4,
        "start_time": "2023-03-18T17:07:38.459Z"
      },
      {
        "duration": 4,
        "start_time": "2023-03-18T17:08:00.622Z"
      },
      {
        "duration": 4,
        "start_time": "2023-03-18T17:08:57.276Z"
      },
      {
        "duration": 4,
        "start_time": "2023-03-18T17:09:12.111Z"
      },
      {
        "duration": 5,
        "start_time": "2023-03-18T17:09:24.211Z"
      },
      {
        "duration": 6,
        "start_time": "2023-03-18T17:10:34.262Z"
      },
      {
        "duration": 4,
        "start_time": "2023-03-18T17:10:52.582Z"
      },
      {
        "duration": 4,
        "start_time": "2023-03-18T17:11:10.122Z"
      },
      {
        "duration": 5,
        "start_time": "2023-03-18T17:11:46.660Z"
      },
      {
        "duration": 4,
        "start_time": "2023-03-18T17:12:02.553Z"
      },
      {
        "duration": 4,
        "start_time": "2023-03-18T17:12:15.736Z"
      },
      {
        "duration": 5,
        "start_time": "2023-03-18T17:12:31.472Z"
      },
      {
        "duration": 383,
        "start_time": "2023-03-19T11:06:57.649Z"
      },
      {
        "duration": 2464,
        "start_time": "2023-03-19T11:06:58.034Z"
      },
      {
        "duration": 2,
        "start_time": "2023-03-19T11:07:39.109Z"
      },
      {
        "duration": 16,
        "start_time": "2023-03-19T11:09:10.126Z"
      },
      {
        "duration": 17,
        "start_time": "2023-03-19T11:21:55.649Z"
      },
      {
        "duration": 16,
        "start_time": "2023-03-19T11:26:30.816Z"
      },
      {
        "duration": 25,
        "start_time": "2023-03-19T11:58:53.655Z"
      },
      {
        "duration": 52,
        "start_time": "2023-03-19T11:59:28.672Z"
      },
      {
        "duration": 64,
        "start_time": "2023-03-19T12:04:03.188Z"
      },
      {
        "duration": 11,
        "start_time": "2023-03-19T12:04:06.499Z"
      },
      {
        "duration": 11,
        "start_time": "2023-03-19T12:06:51.518Z"
      },
      {
        "duration": 2,
        "start_time": "2023-03-19T12:07:01.415Z"
      },
      {
        "duration": 749,
        "start_time": "2023-03-19T12:07:01.419Z"
      },
      {
        "duration": 15,
        "start_time": "2023-03-19T12:07:02.170Z"
      },
      {
        "duration": 68,
        "start_time": "2023-03-19T12:07:02.187Z"
      },
      {
        "duration": 13,
        "start_time": "2023-03-19T12:07:02.257Z"
      },
      {
        "duration": 25,
        "start_time": "2023-03-19T12:07:02.272Z"
      },
      {
        "duration": 6,
        "start_time": "2023-03-19T12:07:52.857Z"
      },
      {
        "duration": 14,
        "start_time": "2023-03-19T12:07:57.323Z"
      },
      {
        "duration": 8,
        "start_time": "2023-03-19T12:09:36.274Z"
      },
      {
        "duration": 9,
        "start_time": "2023-03-19T12:09:46.614Z"
      },
      {
        "duration": 11,
        "start_time": "2023-03-19T12:10:05.452Z"
      },
      {
        "duration": 8,
        "start_time": "2023-03-19T12:10:10.942Z"
      },
      {
        "duration": 8,
        "start_time": "2023-03-19T12:10:27.375Z"
      },
      {
        "duration": 96,
        "start_time": "2023-03-19T12:11:25.588Z"
      },
      {
        "duration": 112,
        "start_time": "2023-03-19T12:11:27.982Z"
      },
      {
        "duration": 7,
        "start_time": "2023-03-19T12:12:34.554Z"
      },
      {
        "duration": 7,
        "start_time": "2023-03-19T12:15:13.547Z"
      },
      {
        "duration": 9,
        "start_time": "2023-03-19T12:15:14.790Z"
      },
      {
        "duration": 7,
        "start_time": "2023-03-19T12:15:35.012Z"
      },
      {
        "duration": 113,
        "start_time": "2023-03-19T12:17:05.317Z"
      },
      {
        "duration": 8,
        "start_time": "2023-03-19T12:18:11.848Z"
      },
      {
        "duration": 8,
        "start_time": "2023-03-19T12:18:16.193Z"
      },
      {
        "duration": 3,
        "start_time": "2023-03-19T12:19:48.629Z"
      },
      {
        "duration": 4,
        "start_time": "2023-03-19T12:19:58.125Z"
      },
      {
        "duration": 4,
        "start_time": "2023-03-19T12:20:03.203Z"
      },
      {
        "duration": 114,
        "start_time": "2023-03-19T12:25:03.263Z"
      },
      {
        "duration": 105,
        "start_time": "2023-03-19T12:27:07.504Z"
      },
      {
        "duration": 89,
        "start_time": "2023-03-20T08:56:16.878Z"
      },
      {
        "duration": 6,
        "start_time": "2023-03-20T09:05:17.271Z"
      },
      {
        "duration": 7,
        "start_time": "2023-03-20T09:06:51.111Z"
      },
      {
        "duration": 564,
        "start_time": "2023-03-20T09:06:59.520Z"
      },
      {
        "duration": 3400,
        "start_time": "2023-03-20T09:07:00.095Z"
      },
      {
        "duration": 20,
        "start_time": "2023-03-20T09:07:03.501Z"
      },
      {
        "duration": 170,
        "start_time": "2023-03-20T09:07:03.523Z"
      },
      {
        "duration": 15,
        "start_time": "2023-03-20T09:07:03.695Z"
      },
      {
        "duration": 19,
        "start_time": "2023-03-20T09:07:03.712Z"
      },
      {
        "duration": 36,
        "start_time": "2023-03-20T09:07:03.734Z"
      },
      {
        "duration": 30,
        "start_time": "2023-03-20T09:07:03.779Z"
      },
      {
        "duration": 9,
        "start_time": "2023-03-20T09:07:03.811Z"
      },
      {
        "duration": 180,
        "start_time": "2023-03-20T09:07:03.822Z"
      },
      {
        "duration": 3,
        "start_time": "2023-03-20T09:07:04.004Z"
      },
      {
        "duration": 8,
        "start_time": "2023-03-20T09:07:06.892Z"
      },
      {
        "duration": 6,
        "start_time": "2023-03-20T09:07:13.007Z"
      },
      {
        "duration": 3,
        "start_time": "2023-03-20T09:07:59.715Z"
      },
      {
        "duration": 39,
        "start_time": "2023-03-20T09:08:29.219Z"
      },
      {
        "duration": 4,
        "start_time": "2023-03-20T09:08:57.306Z"
      },
      {
        "duration": 25,
        "start_time": "2023-03-20T09:08:57.839Z"
      },
      {
        "duration": 12,
        "start_time": "2023-03-20T09:08:58.610Z"
      },
      {
        "duration": 15,
        "start_time": "2023-03-20T09:09:17.985Z"
      },
      {
        "duration": 61,
        "start_time": "2023-03-20T09:09:21.973Z"
      },
      {
        "duration": 25,
        "start_time": "2023-03-20T09:09:37.728Z"
      },
      {
        "duration": 8,
        "start_time": "2023-03-20T09:14:41.452Z"
      },
      {
        "duration": 4,
        "start_time": "2023-03-20T09:14:44.208Z"
      },
      {
        "duration": 84,
        "start_time": "2023-03-20T09:15:06.007Z"
      },
      {
        "duration": 3,
        "start_time": "2023-03-20T09:15:12.408Z"
      },
      {
        "duration": 6,
        "start_time": "2023-03-20T09:15:12.903Z"
      },
      {
        "duration": 7,
        "start_time": "2023-03-20T09:15:23.674Z"
      },
      {
        "duration": 4,
        "start_time": "2023-03-20T09:15:24.032Z"
      },
      {
        "duration": 5,
        "start_time": "2023-03-20T09:15:49.586Z"
      },
      {
        "duration": 5,
        "start_time": "2023-03-20T09:15:51.479Z"
      },
      {
        "duration": 6,
        "start_time": "2023-03-20T09:16:01.976Z"
      },
      {
        "duration": 7,
        "start_time": "2023-03-20T09:16:02.476Z"
      },
      {
        "duration": 4,
        "start_time": "2023-03-20T09:16:03.011Z"
      },
      {
        "duration": 4,
        "start_time": "2023-03-20T09:16:21.420Z"
      },
      {
        "duration": 6,
        "start_time": "2023-03-20T09:16:32.573Z"
      },
      {
        "duration": 3,
        "start_time": "2023-03-20T09:16:38.713Z"
      },
      {
        "duration": 7,
        "start_time": "2023-03-20T09:16:48.073Z"
      },
      {
        "duration": 6,
        "start_time": "2023-03-20T09:16:58.773Z"
      },
      {
        "duration": 6,
        "start_time": "2023-03-20T09:17:38.932Z"
      },
      {
        "duration": 4,
        "start_time": "2023-03-20T09:17:40.511Z"
      },
      {
        "duration": 4,
        "start_time": "2023-03-20T09:18:32.415Z"
      },
      {
        "duration": 3,
        "start_time": "2023-03-20T09:38:39.216Z"
      },
      {
        "duration": 8,
        "start_time": "2023-03-20T09:38:42.071Z"
      },
      {
        "duration": 2,
        "start_time": "2023-03-20T09:39:03.810Z"
      },
      {
        "duration": 6,
        "start_time": "2023-03-20T09:39:04.299Z"
      },
      {
        "duration": 4,
        "start_time": "2023-03-20T09:39:52.516Z"
      },
      {
        "duration": 4,
        "start_time": "2023-03-20T09:40:08.684Z"
      },
      {
        "duration": 8,
        "start_time": "2023-03-20T09:40:51.310Z"
      },
      {
        "duration": 2,
        "start_time": "2023-03-20T09:40:54.811Z"
      },
      {
        "duration": 9,
        "start_time": "2023-03-20T09:40:56.874Z"
      },
      {
        "duration": 13,
        "start_time": "2023-03-20T09:41:07.562Z"
      },
      {
        "duration": 5,
        "start_time": "2023-03-20T09:41:15.375Z"
      },
      {
        "duration": 5,
        "start_time": "2023-03-20T09:42:18.905Z"
      },
      {
        "duration": 5,
        "start_time": "2023-03-20T09:45:20.738Z"
      },
      {
        "duration": 27,
        "start_time": "2023-03-20T09:45:22.008Z"
      },
      {
        "duration": 3,
        "start_time": "2023-03-20T09:45:27.224Z"
      },
      {
        "duration": 3,
        "start_time": "2023-03-20T09:45:27.711Z"
      },
      {
        "duration": 5,
        "start_time": "2023-03-20T09:45:31.619Z"
      },
      {
        "duration": 3,
        "start_time": "2023-03-20T09:46:52.163Z"
      },
      {
        "duration": 3,
        "start_time": "2023-03-20T10:34:38.197Z"
      },
      {
        "duration": 615,
        "start_time": "2023-03-20T10:34:49.390Z"
      },
      {
        "duration": 538,
        "start_time": "2023-03-20T10:35:32.374Z"
      },
      {
        "duration": 849,
        "start_time": "2023-03-20T10:36:26.421Z"
      },
      {
        "duration": 237,
        "start_time": "2023-03-20T10:36:33.291Z"
      },
      {
        "duration": 2,
        "start_time": "2023-03-20T10:36:43.952Z"
      },
      {
        "duration": 199,
        "start_time": "2023-03-20T10:36:51.059Z"
      },
      {
        "duration": 0,
        "start_time": "2023-03-20T10:39:32.971Z"
      },
      {
        "duration": 3,
        "start_time": "2023-03-20T10:39:36.651Z"
      },
      {
        "duration": 716,
        "start_time": "2023-03-20T10:39:36.656Z"
      },
      {
        "duration": 21,
        "start_time": "2023-03-20T10:39:37.374Z"
      },
      {
        "duration": 159,
        "start_time": "2023-03-20T10:39:37.398Z"
      },
      {
        "duration": 14,
        "start_time": "2023-03-20T10:39:37.559Z"
      },
      {
        "duration": 39,
        "start_time": "2023-03-20T10:39:37.574Z"
      },
      {
        "duration": 8,
        "start_time": "2023-03-20T10:39:37.614Z"
      },
      {
        "duration": 20,
        "start_time": "2023-03-20T10:39:37.624Z"
      },
      {
        "duration": 9,
        "start_time": "2023-03-20T10:39:37.645Z"
      },
      {
        "duration": 146,
        "start_time": "2023-03-20T10:39:37.655Z"
      },
      {
        "duration": 3,
        "start_time": "2023-03-20T10:39:37.803Z"
      },
      {
        "duration": 7,
        "start_time": "2023-03-20T10:39:37.808Z"
      },
      {
        "duration": 25,
        "start_time": "2023-03-20T10:39:37.816Z"
      },
      {
        "duration": 5,
        "start_time": "2023-03-20T10:39:37.842Z"
      },
      {
        "duration": 7,
        "start_time": "2023-03-20T10:39:37.848Z"
      },
      {
        "duration": 8,
        "start_time": "2023-03-20T10:39:37.857Z"
      },
      {
        "duration": 21,
        "start_time": "2023-03-20T10:39:37.867Z"
      },
      {
        "duration": 50,
        "start_time": "2023-03-20T10:39:39.666Z"
      },
      {
        "duration": 49,
        "start_time": "2023-03-20T10:39:53.441Z"
      },
      {
        "duration": 82507,
        "start_time": "2023-03-20T10:39:59.037Z"
      },
      {
        "duration": 3,
        "start_time": "2023-03-20T10:41:25.056Z"
      },
      {
        "duration": 739,
        "start_time": "2023-03-20T10:41:25.061Z"
      },
      {
        "duration": 18,
        "start_time": "2023-03-20T10:41:25.802Z"
      },
      {
        "duration": 146,
        "start_time": "2023-03-20T10:41:25.822Z"
      },
      {
        "duration": 12,
        "start_time": "2023-03-20T10:41:25.970Z"
      },
      {
        "duration": 16,
        "start_time": "2023-03-20T10:41:25.984Z"
      },
      {
        "duration": 7,
        "start_time": "2023-03-20T10:41:26.001Z"
      },
      {
        "duration": 38,
        "start_time": "2023-03-20T10:41:26.010Z"
      },
      {
        "duration": 10,
        "start_time": "2023-03-20T10:41:26.051Z"
      },
      {
        "duration": 144,
        "start_time": "2023-03-20T10:41:26.063Z"
      },
      {
        "duration": 3,
        "start_time": "2023-03-20T10:41:26.208Z"
      },
      {
        "duration": 18,
        "start_time": "2023-03-20T10:41:26.213Z"
      },
      {
        "duration": 13,
        "start_time": "2023-03-20T10:41:26.233Z"
      },
      {
        "duration": 10,
        "start_time": "2023-03-20T10:41:26.249Z"
      },
      {
        "duration": 5,
        "start_time": "2023-03-20T10:41:26.261Z"
      },
      {
        "duration": 9,
        "start_time": "2023-03-20T10:41:26.268Z"
      },
      {
        "duration": 5,
        "start_time": "2023-03-20T10:41:26.279Z"
      },
      {
        "duration": 262,
        "start_time": "2023-03-20T10:43:02.748Z"
      },
      {
        "duration": 262,
        "start_time": "2023-03-20T10:43:16.380Z"
      },
      {
        "duration": 284,
        "start_time": "2023-03-20T10:46:06.129Z"
      },
      {
        "duration": 52,
        "start_time": "2023-03-20T10:46:31.168Z"
      },
      {
        "duration": 272,
        "start_time": "2023-03-20T10:46:35.569Z"
      },
      {
        "duration": 294,
        "start_time": "2023-03-20T10:46:39.253Z"
      },
      {
        "duration": 346,
        "start_time": "2023-03-20T10:46:42.555Z"
      },
      {
        "duration": 318,
        "start_time": "2023-03-20T10:46:46.480Z"
      },
      {
        "duration": 339,
        "start_time": "2023-03-20T10:46:56.754Z"
      },
      {
        "duration": 354,
        "start_time": "2023-03-20T10:47:01.476Z"
      },
      {
        "duration": 327,
        "start_time": "2023-03-20T10:47:05.923Z"
      },
      {
        "duration": 308,
        "start_time": "2023-03-20T10:48:37.223Z"
      },
      {
        "duration": 307,
        "start_time": "2023-03-20T10:49:00.791Z"
      },
      {
        "duration": 424,
        "start_time": "2023-03-20T10:49:34.688Z"
      },
      {
        "duration": 510,
        "start_time": "2023-03-20T10:50:07.193Z"
      },
      {
        "duration": 251,
        "start_time": "2023-03-20T10:53:38.700Z"
      },
      {
        "duration": 24,
        "start_time": "2023-03-20T10:53:53.660Z"
      },
      {
        "duration": 57,
        "start_time": "2023-03-20T10:54:16.013Z"
      },
      {
        "duration": 624,
        "start_time": "2023-03-20T10:54:19.020Z"
      },
      {
        "duration": 534,
        "start_time": "2023-03-20T10:56:13.070Z"
      },
      {
        "duration": 616,
        "start_time": "2023-03-20T10:56:18.028Z"
      },
      {
        "duration": 599,
        "start_time": "2023-03-20T10:56:23.507Z"
      },
      {
        "duration": 582,
        "start_time": "2023-03-20T10:56:29.999Z"
      },
      {
        "duration": 559,
        "start_time": "2023-03-20T10:56:36.469Z"
      },
      {
        "duration": 52,
        "start_time": "2023-03-20T10:57:51.572Z"
      },
      {
        "duration": 605,
        "start_time": "2023-03-20T10:58:04.070Z"
      },
      {
        "duration": 3,
        "start_time": "2023-03-20T10:58:28.636Z"
      },
      {
        "duration": 633,
        "start_time": "2023-03-20T10:58:31.466Z"
      },
      {
        "duration": 88,
        "start_time": "2023-03-20T11:00:07.251Z"
      },
      {
        "duration": 5,
        "start_time": "2023-03-20T11:00:17.255Z"
      },
      {
        "duration": 18,
        "start_time": "2023-03-20T11:00:36.608Z"
      },
      {
        "duration": 9,
        "start_time": "2023-03-20T11:01:40.169Z"
      },
      {
        "duration": 182,
        "start_time": "2023-03-20T11:02:21.481Z"
      },
      {
        "duration": 5,
        "start_time": "2023-03-20T11:02:41.174Z"
      },
      {
        "duration": 153,
        "start_time": "2023-03-20T11:02:43.231Z"
      },
      {
        "duration": 5,
        "start_time": "2023-03-20T11:03:38.669Z"
      },
      {
        "duration": 5,
        "start_time": "2023-03-20T11:03:39.957Z"
      },
      {
        "duration": 620,
        "start_time": "2023-03-20T11:03:40.625Z"
      },
      {
        "duration": 609,
        "start_time": "2023-03-20T11:03:55.462Z"
      },
      {
        "duration": 614,
        "start_time": "2023-03-20T11:05:11.594Z"
      },
      {
        "duration": 5,
        "start_time": "2023-03-20T11:07:26.007Z"
      },
      {
        "duration": 716,
        "start_time": "2023-03-20T11:07:26.454Z"
      },
      {
        "duration": 5,
        "start_time": "2023-03-20T11:08:06.011Z"
      },
      {
        "duration": 639,
        "start_time": "2023-03-20T11:08:06.623Z"
      },
      {
        "duration": 6,
        "start_time": "2023-03-20T11:08:54.347Z"
      },
      {
        "duration": 593,
        "start_time": "2023-03-20T11:08:56.130Z"
      },
      {
        "duration": 5,
        "start_time": "2023-03-20T11:09:26.581Z"
      },
      {
        "duration": 5,
        "start_time": "2023-03-20T11:09:27.508Z"
      },
      {
        "duration": 1429,
        "start_time": "2023-03-20T11:09:28.242Z"
      },
      {
        "duration": 5,
        "start_time": "2023-03-20T11:09:43.921Z"
      },
      {
        "duration": 641,
        "start_time": "2023-03-20T11:09:45.454Z"
      },
      {
        "duration": 6,
        "start_time": "2023-03-20T11:10:06.982Z"
      },
      {
        "duration": 6,
        "start_time": "2023-03-20T11:10:07.879Z"
      },
      {
        "duration": 563,
        "start_time": "2023-03-20T11:10:09.453Z"
      },
      {
        "duration": 8,
        "start_time": "2023-03-20T11:10:52.357Z"
      },
      {
        "duration": 617,
        "start_time": "2023-03-20T11:10:54.124Z"
      },
      {
        "duration": 5,
        "start_time": "2023-03-20T11:11:30.195Z"
      },
      {
        "duration": 592,
        "start_time": "2023-03-20T11:11:30.457Z"
      },
      {
        "duration": 5,
        "start_time": "2023-03-20T11:13:02.166Z"
      },
      {
        "duration": 633,
        "start_time": "2023-03-20T11:13:02.351Z"
      },
      {
        "duration": 53,
        "start_time": "2023-03-20T11:16:34.149Z"
      },
      {
        "duration": 55,
        "start_time": "2023-03-20T11:16:43.698Z"
      },
      {
        "duration": 51,
        "start_time": "2023-03-20T11:17:25.431Z"
      },
      {
        "duration": 49,
        "start_time": "2023-03-20T11:17:28.369Z"
      },
      {
        "duration": 6,
        "start_time": "2023-03-20T11:18:24.377Z"
      },
      {
        "duration": 609,
        "start_time": "2023-03-20T11:18:26.719Z"
      },
      {
        "duration": 5,
        "start_time": "2023-03-20T11:18:48.524Z"
      },
      {
        "duration": 615,
        "start_time": "2023-03-20T11:18:49.141Z"
      },
      {
        "duration": 6,
        "start_time": "2023-03-20T11:19:25.135Z"
      },
      {
        "duration": 584,
        "start_time": "2023-03-20T11:19:27.554Z"
      },
      {
        "duration": 5,
        "start_time": "2023-03-20T11:19:38.265Z"
      },
      {
        "duration": 4,
        "start_time": "2023-03-20T11:19:38.865Z"
      },
      {
        "duration": 587,
        "start_time": "2023-03-20T11:19:39.573Z"
      },
      {
        "duration": 1080,
        "start_time": "2023-03-20T11:22:52.873Z"
      },
      {
        "duration": 817,
        "start_time": "2023-03-20T11:23:51.231Z"
      },
      {
        "duration": 84,
        "start_time": "2023-03-20T11:51:34.431Z"
      },
      {
        "duration": 14,
        "start_time": "2023-03-20T11:51:44.022Z"
      },
      {
        "duration": 11,
        "start_time": "2023-03-20T11:52:04.406Z"
      },
      {
        "duration": 11,
        "start_time": "2023-03-20T11:55:43.115Z"
      },
      {
        "duration": 8,
        "start_time": "2023-03-20T11:55:55.622Z"
      },
      {
        "duration": 11,
        "start_time": "2023-03-20T11:57:42.872Z"
      },
      {
        "duration": 250,
        "start_time": "2023-03-20T12:01:11.170Z"
      },
      {
        "duration": 72,
        "start_time": "2023-03-20T12:01:27.618Z"
      },
      {
        "duration": 68,
        "start_time": "2023-03-20T12:02:02.850Z"
      },
      {
        "duration": 12,
        "start_time": "2023-03-20T12:06:45.556Z"
      },
      {
        "duration": 5,
        "start_time": "2023-03-20T12:07:02.174Z"
      },
      {
        "duration": 10,
        "start_time": "2023-03-20T12:07:11.905Z"
      },
      {
        "duration": 4,
        "start_time": "2023-03-20T12:07:26.834Z"
      },
      {
        "duration": 9,
        "start_time": "2023-03-20T12:07:27.404Z"
      },
      {
        "duration": 88,
        "start_time": "2023-03-20T12:07:32.575Z"
      },
      {
        "duration": 10,
        "start_time": "2023-03-20T12:07:37.305Z"
      },
      {
        "duration": 67,
        "start_time": "2023-03-20T12:07:57.806Z"
      },
      {
        "duration": 16,
        "start_time": "2023-03-20T12:09:09.233Z"
      },
      {
        "duration": 19,
        "start_time": "2023-03-20T12:09:15.141Z"
      },
      {
        "duration": 4,
        "start_time": "2023-03-20T12:09:26.376Z"
      },
      {
        "duration": 9,
        "start_time": "2023-03-20T12:09:30.420Z"
      },
      {
        "duration": 5,
        "start_time": "2023-03-20T12:09:49.056Z"
      },
      {
        "duration": 10,
        "start_time": "2023-03-20T12:09:49.924Z"
      },
      {
        "duration": 108,
        "start_time": "2023-03-20T12:10:00.897Z"
      },
      {
        "duration": 3,
        "start_time": "2023-03-20T12:10:46.565Z"
      },
      {
        "duration": 775,
        "start_time": "2023-03-20T12:10:46.571Z"
      },
      {
        "duration": 23,
        "start_time": "2023-03-20T12:10:47.350Z"
      },
      {
        "duration": 155,
        "start_time": "2023-03-20T12:10:47.375Z"
      },
      {
        "duration": 19,
        "start_time": "2023-03-20T12:10:47.532Z"
      },
      {
        "duration": 34,
        "start_time": "2023-03-20T12:10:47.554Z"
      },
      {
        "duration": 8,
        "start_time": "2023-03-20T12:10:47.591Z"
      },
      {
        "duration": 9,
        "start_time": "2023-03-20T12:10:47.601Z"
      },
      {
        "duration": 29,
        "start_time": "2023-03-20T12:10:47.612Z"
      },
      {
        "duration": 140,
        "start_time": "2023-03-20T12:10:47.646Z"
      },
      {
        "duration": 9,
        "start_time": "2023-03-20T12:10:47.788Z"
      },
      {
        "duration": 77,
        "start_time": "2023-03-20T12:11:16.400Z"
      },
      {
        "duration": 68,
        "start_time": "2023-03-20T12:11:18.632Z"
      },
      {
        "duration": 5,
        "start_time": "2023-03-20T12:13:27.453Z"
      },
      {
        "duration": 806,
        "start_time": "2023-03-20T12:13:27.463Z"
      },
      {
        "duration": 18,
        "start_time": "2023-03-20T12:13:28.272Z"
      },
      {
        "duration": 143,
        "start_time": "2023-03-20T12:13:28.292Z"
      },
      {
        "duration": 19,
        "start_time": "2023-03-20T12:13:28.440Z"
      },
      {
        "duration": 23,
        "start_time": "2023-03-20T12:13:28.460Z"
      },
      {
        "duration": 9,
        "start_time": "2023-03-20T12:13:28.484Z"
      },
      {
        "duration": 11,
        "start_time": "2023-03-20T12:13:28.494Z"
      },
      {
        "duration": 51,
        "start_time": "2023-03-20T12:13:28.507Z"
      },
      {
        "duration": 148,
        "start_time": "2023-03-20T12:13:28.559Z"
      },
      {
        "duration": 10,
        "start_time": "2023-03-20T12:13:28.709Z"
      },
      {
        "duration": 15,
        "start_time": "2023-03-20T12:15:17.245Z"
      },
      {
        "duration": 10,
        "start_time": "2023-03-20T12:15:19.592Z"
      },
      {
        "duration": 10,
        "start_time": "2023-03-20T12:15:23.754Z"
      },
      {
        "duration": 2,
        "start_time": "2023-03-20T12:15:28.899Z"
      },
      {
        "duration": 823,
        "start_time": "2023-03-20T12:15:28.903Z"
      },
      {
        "duration": 26,
        "start_time": "2023-03-20T12:15:29.729Z"
      },
      {
        "duration": 130,
        "start_time": "2023-03-20T12:15:29.759Z"
      },
      {
        "duration": 16,
        "start_time": "2023-03-20T12:15:29.891Z"
      },
      {
        "duration": 46,
        "start_time": "2023-03-20T12:15:29.909Z"
      },
      {
        "duration": 10,
        "start_time": "2023-03-20T12:15:29.957Z"
      },
      {
        "duration": 10,
        "start_time": "2023-03-20T12:15:29.969Z"
      },
      {
        "duration": 9,
        "start_time": "2023-03-20T12:15:29.982Z"
      },
      {
        "duration": 184,
        "start_time": "2023-03-20T12:15:29.992Z"
      },
      {
        "duration": 11,
        "start_time": "2023-03-20T12:15:30.178Z"
      },
      {
        "duration": 11,
        "start_time": "2023-03-20T12:15:30.191Z"
      },
      {
        "duration": 107,
        "start_time": "2023-03-20T12:15:42.126Z"
      },
      {
        "duration": 12,
        "start_time": "2023-03-20T12:15:47.881Z"
      },
      {
        "duration": 13,
        "start_time": "2023-03-20T12:15:52.580Z"
      },
      {
        "duration": 13,
        "start_time": "2023-03-20T12:16:09.412Z"
      },
      {
        "duration": 10,
        "start_time": "2023-03-20T12:16:10.989Z"
      },
      {
        "duration": 10,
        "start_time": "2023-03-20T12:16:18.315Z"
      },
      {
        "duration": 13,
        "start_time": "2023-03-20T12:17:46.863Z"
      },
      {
        "duration": 11,
        "start_time": "2023-03-20T12:17:49.867Z"
      },
      {
        "duration": 3,
        "start_time": "2023-03-20T12:18:01.691Z"
      },
      {
        "duration": 788,
        "start_time": "2023-03-20T12:18:01.696Z"
      },
      {
        "duration": 16,
        "start_time": "2023-03-20T12:18:02.486Z"
      },
      {
        "duration": 160,
        "start_time": "2023-03-20T12:18:02.504Z"
      },
      {
        "duration": 14,
        "start_time": "2023-03-20T12:18:02.666Z"
      },
      {
        "duration": 43,
        "start_time": "2023-03-20T12:18:02.681Z"
      },
      {
        "duration": 18,
        "start_time": "2023-03-20T12:18:02.726Z"
      },
      {
        "duration": 14,
        "start_time": "2023-03-20T12:18:02.747Z"
      },
      {
        "duration": 11,
        "start_time": "2023-03-20T12:18:02.763Z"
      },
      {
        "duration": 153,
        "start_time": "2023-03-20T12:18:02.775Z"
      },
      {
        "duration": 26,
        "start_time": "2023-03-20T12:18:02.930Z"
      },
      {
        "duration": 12,
        "start_time": "2023-03-20T12:18:09.854Z"
      },
      {
        "duration": 9,
        "start_time": "2023-03-20T12:18:11.226Z"
      },
      {
        "duration": 13,
        "start_time": "2023-03-20T12:18:28.383Z"
      },
      {
        "duration": 4,
        "start_time": "2023-03-20T12:18:32.774Z"
      },
      {
        "duration": 6,
        "start_time": "2023-03-20T12:18:34.183Z"
      },
      {
        "duration": 5,
        "start_time": "2023-03-20T12:18:35.908Z"
      },
      {
        "duration": 3,
        "start_time": "2023-03-20T12:18:37.218Z"
      },
      {
        "duration": 20,
        "start_time": "2023-03-20T12:18:56.225Z"
      },
      {
        "duration": 3,
        "start_time": "2023-03-20T12:19:13.209Z"
      },
      {
        "duration": 792,
        "start_time": "2023-03-20T12:19:13.214Z"
      },
      {
        "duration": 22,
        "start_time": "2023-03-20T12:19:14.008Z"
      },
      {
        "duration": 145,
        "start_time": "2023-03-20T12:19:14.032Z"
      },
      {
        "duration": 16,
        "start_time": "2023-03-20T12:19:14.179Z"
      },
      {
        "duration": 20,
        "start_time": "2023-03-20T12:19:14.198Z"
      },
      {
        "duration": 15,
        "start_time": "2023-03-20T12:19:14.240Z"
      },
      {
        "duration": 9,
        "start_time": "2023-03-20T12:19:14.256Z"
      },
      {
        "duration": 9,
        "start_time": "2023-03-20T12:19:14.267Z"
      },
      {
        "duration": 151,
        "start_time": "2023-03-20T12:19:14.278Z"
      },
      {
        "duration": 19,
        "start_time": "2023-03-20T12:19:14.432Z"
      },
      {
        "duration": 14,
        "start_time": "2023-03-20T12:19:14.455Z"
      },
      {
        "duration": 17,
        "start_time": "2023-03-20T12:19:16.192Z"
      },
      {
        "duration": 70,
        "start_time": "2023-03-20T12:19:32.212Z"
      },
      {
        "duration": 3,
        "start_time": "2023-03-20T12:21:12.225Z"
      },
      {
        "duration": 800,
        "start_time": "2023-03-20T12:21:12.230Z"
      },
      {
        "duration": 23,
        "start_time": "2023-03-20T12:21:13.031Z"
      },
      {
        "duration": 133,
        "start_time": "2023-03-20T12:21:13.057Z"
      },
      {
        "duration": 13,
        "start_time": "2023-03-20T12:21:13.193Z"
      },
      {
        "duration": 48,
        "start_time": "2023-03-20T12:21:13.208Z"
      },
      {
        "duration": 8,
        "start_time": "2023-03-20T12:21:13.257Z"
      },
      {
        "duration": 12,
        "start_time": "2023-03-20T12:21:13.267Z"
      },
      {
        "duration": 9,
        "start_time": "2023-03-20T12:21:13.281Z"
      },
      {
        "duration": 165,
        "start_time": "2023-03-20T12:21:13.292Z"
      },
      {
        "duration": 11,
        "start_time": "2023-03-20T12:21:13.459Z"
      },
      {
        "duration": 16,
        "start_time": "2023-03-20T12:21:21.891Z"
      },
      {
        "duration": 18,
        "start_time": "2023-03-20T12:21:48.698Z"
      },
      {
        "duration": 10,
        "start_time": "2023-03-20T12:22:15.557Z"
      },
      {
        "duration": 24,
        "start_time": "2023-03-20T12:22:17.737Z"
      },
      {
        "duration": 14,
        "start_time": "2023-03-20T12:22:22.222Z"
      },
      {
        "duration": 2,
        "start_time": "2023-03-20T12:22:34.665Z"
      },
      {
        "duration": 789,
        "start_time": "2023-03-20T12:22:34.669Z"
      },
      {
        "duration": 18,
        "start_time": "2023-03-20T12:22:35.459Z"
      },
      {
        "duration": 138,
        "start_time": "2023-03-20T12:22:35.480Z"
      },
      {
        "duration": 22,
        "start_time": "2023-03-20T12:22:35.620Z"
      },
      {
        "duration": 22,
        "start_time": "2023-03-20T12:22:35.646Z"
      },
      {
        "duration": 8,
        "start_time": "2023-03-20T12:22:35.670Z"
      },
      {
        "duration": 13,
        "start_time": "2023-03-20T12:22:35.680Z"
      },
      {
        "duration": 9,
        "start_time": "2023-03-20T12:22:35.696Z"
      },
      {
        "duration": 179,
        "start_time": "2023-03-20T12:22:35.708Z"
      },
      {
        "duration": 11,
        "start_time": "2023-03-20T12:22:35.889Z"
      },
      {
        "duration": 15,
        "start_time": "2023-03-20T12:22:38.257Z"
      },
      {
        "duration": 7,
        "start_time": "2023-03-20T12:24:20.551Z"
      },
      {
        "duration": 19,
        "start_time": "2023-03-20T12:24:22.878Z"
      },
      {
        "duration": 8,
        "start_time": "2023-03-20T12:24:28.256Z"
      },
      {
        "duration": 15,
        "start_time": "2023-03-20T12:24:30.223Z"
      },
      {
        "duration": 14,
        "start_time": "2023-03-20T12:24:33.372Z"
      },
      {
        "duration": 17,
        "start_time": "2023-03-20T12:24:35.774Z"
      },
      {
        "duration": 3,
        "start_time": "2023-03-20T12:24:41.121Z"
      },
      {
        "duration": 764,
        "start_time": "2023-03-20T12:24:41.126Z"
      },
      {
        "duration": 17,
        "start_time": "2023-03-20T12:24:41.892Z"
      },
      {
        "duration": 156,
        "start_time": "2023-03-20T12:24:41.911Z"
      },
      {
        "duration": 18,
        "start_time": "2023-03-20T12:24:42.068Z"
      },
      {
        "duration": 23,
        "start_time": "2023-03-20T12:24:42.088Z"
      },
      {
        "duration": 35,
        "start_time": "2023-03-20T12:24:42.113Z"
      },
      {
        "duration": 15,
        "start_time": "2023-03-20T12:24:42.149Z"
      },
      {
        "duration": 10,
        "start_time": "2023-03-20T12:24:42.167Z"
      },
      {
        "duration": 154,
        "start_time": "2023-03-20T12:24:42.179Z"
      },
      {
        "duration": 22,
        "start_time": "2023-03-20T12:24:42.335Z"
      },
      {
        "duration": 59,
        "start_time": "2023-03-20T12:24:50.299Z"
      },
      {
        "duration": 23,
        "start_time": "2023-03-20T12:24:58.806Z"
      },
      {
        "duration": 15,
        "start_time": "2023-03-20T12:26:15.484Z"
      },
      {
        "duration": 3,
        "start_time": "2023-03-20T12:27:13.105Z"
      },
      {
        "duration": 843,
        "start_time": "2023-03-20T12:27:13.111Z"
      },
      {
        "duration": 22,
        "start_time": "2023-03-20T12:27:13.955Z"
      },
      {
        "duration": 135,
        "start_time": "2023-03-20T12:27:13.979Z"
      },
      {
        "duration": 14,
        "start_time": "2023-03-20T12:27:14.116Z"
      },
      {
        "duration": 33,
        "start_time": "2023-03-20T12:27:14.131Z"
      },
      {
        "duration": 10,
        "start_time": "2023-03-20T12:27:14.165Z"
      },
      {
        "duration": 14,
        "start_time": "2023-03-20T12:27:14.177Z"
      },
      {
        "duration": 8,
        "start_time": "2023-03-20T12:27:14.193Z"
      },
      {
        "duration": 171,
        "start_time": "2023-03-20T12:27:14.203Z"
      },
      {
        "duration": 25,
        "start_time": "2023-03-20T12:27:21.745Z"
      },
      {
        "duration": 37,
        "start_time": "2023-03-20T12:27:30.229Z"
      },
      {
        "duration": 18,
        "start_time": "2023-03-20T12:27:32.409Z"
      },
      {
        "duration": 10,
        "start_time": "2023-03-20T12:27:38.665Z"
      },
      {
        "duration": 30,
        "start_time": "2023-03-20T12:28:05.906Z"
      },
      {
        "duration": 18,
        "start_time": "2023-03-20T12:28:08.064Z"
      },
      {
        "duration": 14,
        "start_time": "2023-03-20T12:28:21.866Z"
      },
      {
        "duration": 9,
        "start_time": "2023-03-20T12:28:27.765Z"
      },
      {
        "duration": 3,
        "start_time": "2023-03-20T12:28:36.813Z"
      },
      {
        "duration": 7,
        "start_time": "2023-03-20T12:28:37.318Z"
      },
      {
        "duration": 5,
        "start_time": "2023-03-20T12:28:37.871Z"
      },
      {
        "duration": 3,
        "start_time": "2023-03-20T12:28:39.821Z"
      },
      {
        "duration": 29,
        "start_time": "2023-03-20T12:29:24.466Z"
      },
      {
        "duration": 46,
        "start_time": "2023-03-20T12:29:28.859Z"
      },
      {
        "duration": 3,
        "start_time": "2023-03-20T12:30:48.893Z"
      },
      {
        "duration": 830,
        "start_time": "2023-03-20T12:30:48.899Z"
      },
      {
        "duration": 31,
        "start_time": "2023-03-20T12:30:49.731Z"
      },
      {
        "duration": 144,
        "start_time": "2023-03-20T12:30:49.765Z"
      },
      {
        "duration": 48,
        "start_time": "2023-03-20T12:30:49.912Z"
      },
      {
        "duration": 18,
        "start_time": "2023-03-20T12:30:49.965Z"
      },
      {
        "duration": 8,
        "start_time": "2023-03-20T12:30:49.985Z"
      },
      {
        "duration": 12,
        "start_time": "2023-03-20T12:30:49.995Z"
      },
      {
        "duration": 22,
        "start_time": "2023-03-20T12:30:50.009Z"
      },
      {
        "duration": 137,
        "start_time": "2023-03-20T12:30:50.033Z"
      },
      {
        "duration": 9,
        "start_time": "2023-03-20T12:30:50.172Z"
      },
      {
        "duration": 20,
        "start_time": "2023-03-20T12:30:50.183Z"
      },
      {
        "duration": 9,
        "start_time": "2023-03-20T12:30:50.204Z"
      },
      {
        "duration": 11,
        "start_time": "2023-03-20T12:30:50.248Z"
      },
      {
        "duration": 17,
        "start_time": "2023-03-20T12:30:50.263Z"
      },
      {
        "duration": 9,
        "start_time": "2023-03-20T12:30:50.281Z"
      },
      {
        "duration": 7,
        "start_time": "2023-03-20T12:30:50.291Z"
      },
      {
        "duration": 7,
        "start_time": "2023-03-20T12:30:50.299Z"
      },
      {
        "duration": 4,
        "start_time": "2023-03-20T12:30:50.307Z"
      },
      {
        "duration": 6,
        "start_time": "2023-03-20T12:30:50.313Z"
      },
      {
        "duration": 5,
        "start_time": "2023-03-20T12:31:01.772Z"
      },
      {
        "duration": 589,
        "start_time": "2023-03-20T12:31:02.418Z"
      },
      {
        "duration": 12,
        "start_time": "2023-03-20T12:31:53.667Z"
      },
      {
        "duration": 1088,
        "start_time": "2023-03-20T12:32:00.290Z"
      },
      {
        "duration": 768,
        "start_time": "2023-03-20T12:33:07.408Z"
      },
      {
        "duration": 5,
        "start_time": "2023-03-20T12:33:16.471Z"
      },
      {
        "duration": 759,
        "start_time": "2023-03-20T12:33:16.479Z"
      },
      {
        "duration": 25,
        "start_time": "2023-03-20T12:33:17.240Z"
      },
      {
        "duration": 175,
        "start_time": "2023-03-20T12:33:17.267Z"
      },
      {
        "duration": 28,
        "start_time": "2023-03-20T12:33:17.445Z"
      },
      {
        "duration": 58,
        "start_time": "2023-03-20T12:33:17.475Z"
      },
      {
        "duration": 18,
        "start_time": "2023-03-20T12:33:17.535Z"
      },
      {
        "duration": 23,
        "start_time": "2023-03-20T12:33:17.562Z"
      },
      {
        "duration": 10,
        "start_time": "2023-03-20T12:33:17.587Z"
      },
      {
        "duration": 154,
        "start_time": "2023-03-20T12:33:17.599Z"
      },
      {
        "duration": 16,
        "start_time": "2023-03-20T12:33:17.760Z"
      },
      {
        "duration": 24,
        "start_time": "2023-03-20T12:33:17.778Z"
      },
      {
        "duration": 13,
        "start_time": "2023-03-20T12:33:17.804Z"
      },
      {
        "duration": 39,
        "start_time": "2023-03-20T12:33:17.820Z"
      },
      {
        "duration": 9,
        "start_time": "2023-03-20T12:33:17.863Z"
      },
      {
        "duration": 5,
        "start_time": "2023-03-20T12:33:17.874Z"
      },
      {
        "duration": 10,
        "start_time": "2023-03-20T12:33:17.881Z"
      },
      {
        "duration": 6,
        "start_time": "2023-03-20T12:33:17.893Z"
      },
      {
        "duration": 5,
        "start_time": "2023-03-20T12:33:17.901Z"
      },
      {
        "duration": 19,
        "start_time": "2023-03-20T12:33:17.907Z"
      },
      {
        "duration": 6,
        "start_time": "2023-03-20T12:33:17.928Z"
      },
      {
        "duration": 665,
        "start_time": "2023-03-20T12:33:17.935Z"
      },
      {
        "duration": 1175,
        "start_time": "2023-03-20T12:33:18.602Z"
      },
      {
        "duration": 802,
        "start_time": "2023-03-20T12:33:19.779Z"
      },
      {
        "duration": 40,
        "start_time": "2023-03-20T12:34:12.387Z"
      },
      {
        "duration": 104,
        "start_time": "2023-03-20T12:34:18.069Z"
      },
      {
        "duration": 783,
        "start_time": "2023-03-20T12:35:19.733Z"
      },
      {
        "duration": 280,
        "start_time": "2023-03-20T12:35:31.829Z"
      },
      {
        "duration": 63,
        "start_time": "2023-03-20T12:35:40.041Z"
      },
      {
        "duration": 278,
        "start_time": "2023-03-20T12:35:43.290Z"
      },
      {
        "duration": 219,
        "start_time": "2023-03-20T12:35:47.787Z"
      },
      {
        "duration": 242,
        "start_time": "2023-03-20T12:36:16.671Z"
      },
      {
        "duration": 30,
        "start_time": "2023-03-20T12:36:36.128Z"
      },
      {
        "duration": 784,
        "start_time": "2023-03-20T12:36:48.574Z"
      },
      {
        "duration": 9,
        "start_time": "2023-03-20T12:37:11.476Z"
      },
      {
        "duration": 66,
        "start_time": "2023-03-20T12:37:14.286Z"
      },
      {
        "duration": 224,
        "start_time": "2023-03-20T12:37:19.770Z"
      },
      {
        "duration": 537,
        "start_time": "2023-03-20T12:40:04.090Z"
      },
      {
        "duration": 3,
        "start_time": "2023-03-20T12:43:10.104Z"
      },
      {
        "duration": 859,
        "start_time": "2023-03-20T12:43:10.109Z"
      },
      {
        "duration": 18,
        "start_time": "2023-03-20T12:43:10.971Z"
      },
      {
        "duration": 145,
        "start_time": "2023-03-20T12:43:10.992Z"
      },
      {
        "duration": 29,
        "start_time": "2023-03-20T12:43:11.139Z"
      },
      {
        "duration": 21,
        "start_time": "2023-03-20T12:43:11.172Z"
      },
      {
        "duration": 8,
        "start_time": "2023-03-20T12:43:11.195Z"
      },
      {
        "duration": 9,
        "start_time": "2023-03-20T12:43:11.205Z"
      },
      {
        "duration": 12,
        "start_time": "2023-03-20T12:43:11.246Z"
      },
      {
        "duration": 145,
        "start_time": "2023-03-20T12:43:11.259Z"
      },
      {
        "duration": 11,
        "start_time": "2023-03-20T12:43:11.406Z"
      },
      {
        "duration": 47,
        "start_time": "2023-03-20T12:43:11.419Z"
      },
      {
        "duration": 10,
        "start_time": "2023-03-20T12:43:11.468Z"
      },
      {
        "duration": 3,
        "start_time": "2023-03-20T12:43:11.480Z"
      },
      {
        "duration": 6,
        "start_time": "2023-03-20T12:43:11.485Z"
      },
      {
        "duration": 7,
        "start_time": "2023-03-20T12:43:11.492Z"
      },
      {
        "duration": 22,
        "start_time": "2023-03-20T12:43:11.501Z"
      },
      {
        "duration": 31,
        "start_time": "2023-03-20T12:43:11.525Z"
      },
      {
        "duration": 9,
        "start_time": "2023-03-20T12:43:11.558Z"
      },
      {
        "duration": 5,
        "start_time": "2023-03-20T12:43:11.576Z"
      },
      {
        "duration": 5,
        "start_time": "2023-03-20T12:43:11.583Z"
      },
      {
        "duration": 653,
        "start_time": "2023-03-20T12:43:11.590Z"
      },
      {
        "duration": 1116,
        "start_time": "2023-03-20T12:43:12.250Z"
      },
      {
        "duration": 864,
        "start_time": "2023-03-20T12:43:20.518Z"
      },
      {
        "duration": 19,
        "start_time": "2023-03-20T12:45:20.166Z"
      },
      {
        "duration": 3,
        "start_time": "2023-03-20T12:45:51.130Z"
      },
      {
        "duration": 879,
        "start_time": "2023-03-20T12:45:51.135Z"
      },
      {
        "duration": 29,
        "start_time": "2023-03-20T12:45:52.017Z"
      },
      {
        "duration": 142,
        "start_time": "2023-03-20T12:45:52.057Z"
      },
      {
        "duration": 16,
        "start_time": "2023-03-20T12:45:52.202Z"
      },
      {
        "duration": 54,
        "start_time": "2023-03-20T12:45:52.220Z"
      },
      {
        "duration": 19,
        "start_time": "2023-03-20T12:45:52.276Z"
      },
      {
        "duration": 23,
        "start_time": "2023-03-20T12:45:52.297Z"
      },
      {
        "duration": 46,
        "start_time": "2023-03-20T12:45:52.322Z"
      },
      {
        "duration": 146,
        "start_time": "2023-03-20T12:45:52.370Z"
      },
      {
        "duration": 28,
        "start_time": "2023-03-20T12:45:52.520Z"
      },
      {
        "duration": 28,
        "start_time": "2023-03-20T12:45:52.554Z"
      },
      {
        "duration": 29,
        "start_time": "2023-03-20T12:45:52.584Z"
      },
      {
        "duration": 3,
        "start_time": "2023-03-20T12:45:52.615Z"
      },
      {
        "duration": 43,
        "start_time": "2023-03-20T12:45:52.620Z"
      },
      {
        "duration": 25,
        "start_time": "2023-03-20T12:45:52.674Z"
      },
      {
        "duration": 17,
        "start_time": "2023-03-20T12:45:52.702Z"
      },
      {
        "duration": 8,
        "start_time": "2023-03-20T12:45:52.721Z"
      },
      {
        "duration": 36,
        "start_time": "2023-03-20T12:45:52.731Z"
      },
      {
        "duration": 61,
        "start_time": "2023-03-20T12:45:52.772Z"
      },
      {
        "duration": 64,
        "start_time": "2023-03-20T12:45:52.834Z"
      },
      {
        "duration": 666,
        "start_time": "2023-03-20T12:45:52.899Z"
      },
      {
        "duration": 1046,
        "start_time": "2023-03-20T12:45:53.567Z"
      },
      {
        "duration": 788,
        "start_time": "2023-03-20T12:45:54.615Z"
      },
      {
        "duration": 129,
        "start_time": "2023-03-20T12:47:02.110Z"
      },
      {
        "duration": 45,
        "start_time": "2023-03-20T12:47:43.185Z"
      },
      {
        "duration": 90,
        "start_time": "2023-03-20T12:47:46.068Z"
      },
      {
        "duration": 12,
        "start_time": "2023-03-20T12:47:57.068Z"
      },
      {
        "duration": 11,
        "start_time": "2023-03-20T12:48:07.589Z"
      },
      {
        "duration": 11,
        "start_time": "2023-03-20T12:48:13.800Z"
      },
      {
        "duration": 30,
        "start_time": "2023-03-20T12:48:21.530Z"
      },
      {
        "duration": 17,
        "start_time": "2023-03-20T12:50:28.137Z"
      },
      {
        "duration": 65,
        "start_time": "2023-03-20T12:50:51.168Z"
      },
      {
        "duration": 401,
        "start_time": "2023-03-20T12:51:23.104Z"
      },
      {
        "duration": 5,
        "start_time": "2023-03-20T13:08:40.282Z"
      },
      {
        "duration": 547,
        "start_time": "2023-03-20T13:08:56.134Z"
      },
      {
        "duration": 676,
        "start_time": "2023-03-20T13:10:32.402Z"
      },
      {
        "duration": 206,
        "start_time": "2023-03-20T13:11:39.440Z"
      },
      {
        "duration": 292,
        "start_time": "2023-03-20T13:11:49.726Z"
      },
      {
        "duration": 385,
        "start_time": "2023-03-20T13:12:06.179Z"
      },
      {
        "duration": 364,
        "start_time": "2023-03-20T13:12:20.744Z"
      },
      {
        "duration": 370,
        "start_time": "2023-03-20T13:12:28.501Z"
      },
      {
        "duration": 247,
        "start_time": "2023-03-20T13:12:42.239Z"
      },
      {
        "duration": 299,
        "start_time": "2023-03-20T13:12:45.614Z"
      },
      {
        "duration": 317,
        "start_time": "2023-03-20T13:12:47.613Z"
      },
      {
        "duration": 257,
        "start_time": "2023-03-20T13:12:50.200Z"
      },
      {
        "duration": 85,
        "start_time": "2023-03-20T13:13:08.313Z"
      },
      {
        "duration": 85,
        "start_time": "2023-03-20T13:13:13.223Z"
      },
      {
        "duration": 90,
        "start_time": "2023-03-20T13:13:26.799Z"
      },
      {
        "duration": 285,
        "start_time": "2023-03-20T13:13:29.267Z"
      },
      {
        "duration": 208,
        "start_time": "2023-03-20T13:13:34.486Z"
      },
      {
        "duration": 383,
        "start_time": "2023-03-20T13:13:54.666Z"
      },
      {
        "duration": 234,
        "start_time": "2023-03-20T13:14:00.425Z"
      },
      {
        "duration": 236,
        "start_time": "2023-03-20T13:14:04.160Z"
      },
      {
        "duration": 244,
        "start_time": "2023-03-20T13:14:37.679Z"
      },
      {
        "duration": 216,
        "start_time": "2023-03-20T13:15:19.873Z"
      },
      {
        "duration": 229,
        "start_time": "2023-03-20T13:15:31.077Z"
      },
      {
        "duration": 266,
        "start_time": "2023-03-20T13:15:39.831Z"
      },
      {
        "duration": 232,
        "start_time": "2023-03-20T13:15:44.315Z"
      },
      {
        "duration": 212,
        "start_time": "2023-03-20T13:15:53.763Z"
      },
      {
        "duration": 331,
        "start_time": "2023-03-20T13:16:14.458Z"
      },
      {
        "duration": 461,
        "start_time": "2023-03-20T13:38:02.866Z"
      },
      {
        "duration": 338,
        "start_time": "2023-03-20T13:38:07.162Z"
      },
      {
        "duration": 300,
        "start_time": "2023-03-20T13:38:20.339Z"
      },
      {
        "duration": 334,
        "start_time": "2023-03-20T13:38:26.680Z"
      },
      {
        "duration": 323,
        "start_time": "2023-03-20T13:38:31.110Z"
      },
      {
        "duration": 342,
        "start_time": "2023-03-20T13:38:33.914Z"
      },
      {
        "duration": 292,
        "start_time": "2023-03-20T13:38:37.472Z"
      },
      {
        "duration": 293,
        "start_time": "2023-03-20T13:38:44.933Z"
      },
      {
        "duration": 228,
        "start_time": "2023-03-20T13:40:02.824Z"
      },
      {
        "duration": 202,
        "start_time": "2023-03-20T13:40:06.515Z"
      },
      {
        "duration": 8,
        "start_time": "2023-03-20T13:41:42.981Z"
      },
      {
        "duration": 8,
        "start_time": "2023-03-20T13:41:47.220Z"
      },
      {
        "duration": 9,
        "start_time": "2023-03-20T13:41:52.703Z"
      },
      {
        "duration": 223,
        "start_time": "2023-03-20T13:42:00.986Z"
      },
      {
        "duration": 12,
        "start_time": "2023-03-20T13:42:14.485Z"
      },
      {
        "duration": 16,
        "start_time": "2023-03-20T13:42:19.659Z"
      },
      {
        "duration": 305,
        "start_time": "2023-03-20T13:43:07.943Z"
      },
      {
        "duration": 230,
        "start_time": "2023-03-20T13:43:35.385Z"
      },
      {
        "duration": 683,
        "start_time": "2023-03-20T13:43:39.809Z"
      },
      {
        "duration": 618,
        "start_time": "2023-03-20T13:43:54.582Z"
      },
      {
        "duration": 4,
        "start_time": "2023-03-20T13:44:00.693Z"
      },
      {
        "duration": 170,
        "start_time": "2023-03-20T13:44:04.261Z"
      },
      {
        "duration": 720,
        "start_time": "2023-03-20T13:44:10.159Z"
      },
      {
        "duration": 268,
        "start_time": "2023-03-20T13:44:19.855Z"
      },
      {
        "duration": 150,
        "start_time": "2023-03-20T13:44:26.158Z"
      },
      {
        "duration": 145,
        "start_time": "2023-03-20T13:44:31.758Z"
      },
      {
        "duration": 524,
        "start_time": "2023-03-20T13:44:36.008Z"
      },
      {
        "duration": 627,
        "start_time": "2023-03-20T13:45:00.907Z"
      },
      {
        "duration": 48,
        "start_time": "2023-03-20T13:46:47.766Z"
      },
      {
        "duration": 220,
        "start_time": "2023-03-20T13:47:40.969Z"
      },
      {
        "duration": 216,
        "start_time": "2023-03-20T13:47:50.762Z"
      },
      {
        "duration": 1050,
        "start_time": "2023-03-20T13:48:05.566Z"
      },
      {
        "duration": 1064,
        "start_time": "2023-03-20T13:50:11.431Z"
      },
      {
        "duration": 1074,
        "start_time": "2023-03-20T13:50:35.082Z"
      },
      {
        "duration": 170,
        "start_time": "2023-03-20T13:51:34.216Z"
      },
      {
        "duration": 1044,
        "start_time": "2023-03-20T13:51:40.554Z"
      },
      {
        "duration": 1063,
        "start_time": "2023-03-20T13:53:16.318Z"
      },
      {
        "duration": 884,
        "start_time": "2023-03-20T13:53:20.925Z"
      },
      {
        "duration": 1078,
        "start_time": "2023-03-20T13:53:43.984Z"
      },
      {
        "duration": 1022,
        "start_time": "2023-03-20T13:53:55.294Z"
      },
      {
        "duration": 1110,
        "start_time": "2023-03-20T13:55:28.545Z"
      },
      {
        "duration": 47,
        "start_time": "2023-03-20T13:56:08.528Z"
      },
      {
        "duration": 1193,
        "start_time": "2023-03-20T13:56:16.608Z"
      },
      {
        "duration": 46,
        "start_time": "2023-03-20T13:56:52.232Z"
      },
      {
        "duration": 47,
        "start_time": "2023-03-20T13:56:59.617Z"
      },
      {
        "duration": 60,
        "start_time": "2023-03-20T13:57:02.594Z"
      },
      {
        "duration": 979,
        "start_time": "2023-03-20T13:57:06.869Z"
      },
      {
        "duration": 831,
        "start_time": "2023-03-20T13:57:13.902Z"
      },
      {
        "duration": 1090,
        "start_time": "2023-03-20T13:57:28.934Z"
      },
      {
        "duration": 843,
        "start_time": "2023-03-20T13:57:46.139Z"
      },
      {
        "duration": 1220,
        "start_time": "2023-03-20T13:58:00.826Z"
      },
      {
        "duration": 1029,
        "start_time": "2023-03-20T13:58:51.381Z"
      },
      {
        "duration": 887,
        "start_time": "2023-03-20T13:58:59.115Z"
      },
      {
        "duration": 985,
        "start_time": "2023-03-20T13:59:12.401Z"
      },
      {
        "duration": 1053,
        "start_time": "2023-03-20T13:59:21.594Z"
      },
      {
        "duration": 855,
        "start_time": "2023-03-20T13:59:23.461Z"
      },
      {
        "duration": 1142,
        "start_time": "2023-03-20T14:01:59.478Z"
      },
      {
        "duration": 1132,
        "start_time": "2023-03-20T14:02:27.637Z"
      },
      {
        "duration": 818,
        "start_time": "2023-03-20T14:02:42.939Z"
      },
      {
        "duration": 947,
        "start_time": "2023-03-20T14:02:50.266Z"
      },
      {
        "duration": 1006,
        "start_time": "2023-03-20T14:03:18.940Z"
      },
      {
        "duration": 823,
        "start_time": "2023-03-20T14:03:40.831Z"
      },
      {
        "duration": 1342,
        "start_time": "2023-03-20T14:03:53.846Z"
      },
      {
        "duration": 1189,
        "start_time": "2023-03-20T14:03:56.416Z"
      },
      {
        "duration": 642,
        "start_time": "2023-03-20T14:15:56.292Z"
      },
      {
        "duration": 774,
        "start_time": "2023-03-20T14:16:11.735Z"
      },
      {
        "duration": 634,
        "start_time": "2023-03-20T14:16:27.736Z"
      },
      {
        "duration": 1190,
        "start_time": "2023-03-20T14:18:35.852Z"
      },
      {
        "duration": 600,
        "start_time": "2023-03-20T14:18:44.344Z"
      },
      {
        "duration": 17,
        "start_time": "2023-03-20T14:24:23.755Z"
      },
      {
        "duration": 45,
        "start_time": "2023-03-20T14:28:52.046Z"
      },
      {
        "duration": 7,
        "start_time": "2023-03-20T14:28:55.514Z"
      },
      {
        "duration": 6,
        "start_time": "2023-03-20T14:29:03.135Z"
      },
      {
        "duration": 8,
        "start_time": "2023-03-20T14:30:40.742Z"
      },
      {
        "duration": 7,
        "start_time": "2023-03-20T14:34:46.186Z"
      },
      {
        "duration": 4,
        "start_time": "2023-03-20T14:34:52.503Z"
      },
      {
        "duration": 706,
        "start_time": "2023-03-20T14:34:52.509Z"
      },
      {
        "duration": 16,
        "start_time": "2023-03-20T14:34:53.217Z"
      },
      {
        "duration": 126,
        "start_time": "2023-03-20T14:34:53.235Z"
      },
      {
        "duration": 13,
        "start_time": "2023-03-20T14:34:53.363Z"
      },
      {
        "duration": 31,
        "start_time": "2023-03-20T14:34:53.378Z"
      },
      {
        "duration": 10,
        "start_time": "2023-03-20T14:34:53.411Z"
      },
      {
        "duration": 9,
        "start_time": "2023-03-20T14:34:53.441Z"
      },
      {
        "duration": 8,
        "start_time": "2023-03-20T14:34:53.453Z"
      },
      {
        "duration": 153,
        "start_time": "2023-03-20T14:34:53.463Z"
      },
      {
        "duration": 11,
        "start_time": "2023-03-20T14:34:53.618Z"
      },
      {
        "duration": 30,
        "start_time": "2023-03-20T14:34:53.631Z"
      },
      {
        "duration": 9,
        "start_time": "2023-03-20T14:34:53.663Z"
      },
      {
        "duration": 3,
        "start_time": "2023-03-20T14:34:53.673Z"
      },
      {
        "duration": 16,
        "start_time": "2023-03-20T14:34:53.678Z"
      },
      {
        "duration": 11,
        "start_time": "2023-03-20T14:34:53.696Z"
      },
      {
        "duration": 7,
        "start_time": "2023-03-20T14:34:53.709Z"
      },
      {
        "duration": 24,
        "start_time": "2023-03-20T14:34:53.717Z"
      },
      {
        "duration": 11,
        "start_time": "2023-03-20T14:34:53.743Z"
      },
      {
        "duration": 19,
        "start_time": "2023-03-20T14:34:53.755Z"
      },
      {
        "duration": 21,
        "start_time": "2023-03-20T14:34:53.775Z"
      },
      {
        "duration": 561,
        "start_time": "2023-03-20T14:34:53.798Z"
      },
      {
        "duration": 1190,
        "start_time": "2023-03-20T14:34:54.361Z"
      },
      {
        "duration": 730,
        "start_time": "2023-03-20T14:34:55.555Z"
      },
      {
        "duration": 1242,
        "start_time": "2023-03-20T14:34:56.286Z"
      },
      {
        "duration": 694,
        "start_time": "2023-03-20T14:34:57.529Z"
      },
      {
        "duration": 8,
        "start_time": "2023-03-20T14:37:02.968Z"
      },
      {
        "duration": 8,
        "start_time": "2023-03-20T14:37:53.322Z"
      },
      {
        "duration": 129,
        "start_time": "2023-03-20T14:39:20.743Z"
      },
      {
        "duration": 278,
        "start_time": "2023-03-20T14:39:55.392Z"
      },
      {
        "duration": 162,
        "start_time": "2023-03-20T14:50:07.332Z"
      },
      {
        "duration": 151,
        "start_time": "2023-03-20T14:50:12.338Z"
      },
      {
        "duration": 155,
        "start_time": "2023-03-20T14:50:37.541Z"
      },
      {
        "duration": 182,
        "start_time": "2023-03-20T14:51:15.238Z"
      },
      {
        "duration": 155,
        "start_time": "2023-03-20T14:51:19.433Z"
      },
      {
        "duration": 163,
        "start_time": "2023-03-20T14:51:22.198Z"
      },
      {
        "duration": 146,
        "start_time": "2023-03-20T14:52:03.256Z"
      },
      {
        "duration": 169,
        "start_time": "2023-03-20T14:52:52.277Z"
      },
      {
        "duration": 10,
        "start_time": "2023-03-20T15:13:03.561Z"
      },
      {
        "duration": 174,
        "start_time": "2023-03-20T15:13:06.646Z"
      },
      {
        "duration": 236,
        "start_time": "2023-03-20T15:13:12.380Z"
      },
      {
        "duration": 307,
        "start_time": "2023-03-20T15:13:15.110Z"
      },
      {
        "duration": 9,
        "start_time": "2023-03-20T15:14:31.134Z"
      },
      {
        "duration": 170,
        "start_time": "2023-03-20T15:14:31.899Z"
      },
      {
        "duration": 197,
        "start_time": "2023-03-20T15:14:32.618Z"
      },
      {
        "duration": 181,
        "start_time": "2023-03-20T15:14:33.159Z"
      },
      {
        "duration": 10,
        "start_time": "2023-03-20T15:17:11.400Z"
      },
      {
        "duration": 168,
        "start_time": "2023-03-20T15:17:16.885Z"
      },
      {
        "duration": 169,
        "start_time": "2023-03-20T15:17:21.172Z"
      },
      {
        "duration": 191,
        "start_time": "2023-03-20T15:17:27.299Z"
      },
      {
        "duration": 9,
        "start_time": "2023-03-20T15:18:09.536Z"
      },
      {
        "duration": 4,
        "start_time": "2023-03-20T15:18:13.745Z"
      },
      {
        "duration": 665,
        "start_time": "2023-03-20T15:18:13.751Z"
      },
      {
        "duration": 19,
        "start_time": "2023-03-20T15:18:14.418Z"
      },
      {
        "duration": 130,
        "start_time": "2023-03-20T15:18:14.440Z"
      },
      {
        "duration": 13,
        "start_time": "2023-03-20T15:18:14.573Z"
      },
      {
        "duration": 18,
        "start_time": "2023-03-20T15:18:14.588Z"
      },
      {
        "duration": 39,
        "start_time": "2023-03-20T15:18:14.608Z"
      },
      {
        "duration": 10,
        "start_time": "2023-03-20T15:18:14.650Z"
      },
      {
        "duration": 8,
        "start_time": "2023-03-20T15:18:14.661Z"
      },
      {
        "duration": 149,
        "start_time": "2023-03-20T15:18:14.671Z"
      },
      {
        "duration": 20,
        "start_time": "2023-03-20T15:18:14.822Z"
      },
      {
        "duration": 22,
        "start_time": "2023-03-20T15:18:14.843Z"
      },
      {
        "duration": 9,
        "start_time": "2023-03-20T15:18:14.866Z"
      },
      {
        "duration": 3,
        "start_time": "2023-03-20T15:18:14.877Z"
      },
      {
        "duration": 7,
        "start_time": "2023-03-20T15:18:14.881Z"
      },
      {
        "duration": 5,
        "start_time": "2023-03-20T15:18:14.890Z"
      },
      {
        "duration": 5,
        "start_time": "2023-03-20T15:18:14.896Z"
      },
      {
        "duration": 4,
        "start_time": "2023-03-20T15:18:14.941Z"
      },
      {
        "duration": 7,
        "start_time": "2023-03-20T15:18:14.947Z"
      },
      {
        "duration": 6,
        "start_time": "2023-03-20T15:18:14.956Z"
      },
      {
        "duration": 6,
        "start_time": "2023-03-20T15:18:14.964Z"
      },
      {
        "duration": 604,
        "start_time": "2023-03-20T15:18:14.972Z"
      },
      {
        "duration": 1120,
        "start_time": "2023-03-20T15:18:15.578Z"
      },
      {
        "duration": 716,
        "start_time": "2023-03-20T15:18:16.700Z"
      },
      {
        "duration": 1216,
        "start_time": "2023-03-20T15:18:17.418Z"
      },
      {
        "duration": 681,
        "start_time": "2023-03-20T15:18:18.636Z"
      },
      {
        "duration": 23,
        "start_time": "2023-03-20T15:18:19.320Z"
      },
      {
        "duration": 236,
        "start_time": "2023-03-20T15:18:19.346Z"
      },
      {
        "duration": 355,
        "start_time": "2023-03-20T15:18:19.587Z"
      },
      {
        "duration": 183,
        "start_time": "2023-03-20T15:18:19.944Z"
      },
      {
        "duration": 10,
        "start_time": "2023-03-20T15:18:51.856Z"
      },
      {
        "duration": 8,
        "start_time": "2023-03-20T15:18:57.093Z"
      },
      {
        "duration": 170,
        "start_time": "2023-03-20T15:19:02.322Z"
      },
      {
        "duration": 211,
        "start_time": "2023-03-20T15:19:11.133Z"
      },
      {
        "duration": 189,
        "start_time": "2023-03-20T15:19:17.538Z"
      },
      {
        "duration": 9,
        "start_time": "2023-03-20T15:19:22.205Z"
      },
      {
        "duration": 172,
        "start_time": "2023-03-20T15:19:50.438Z"
      },
      {
        "duration": 4,
        "start_time": "2023-03-20T15:20:10.785Z"
      },
      {
        "duration": 685,
        "start_time": "2023-03-20T15:20:10.791Z"
      },
      {
        "duration": 21,
        "start_time": "2023-03-20T15:20:11.478Z"
      },
      {
        "duration": 212,
        "start_time": "2023-03-20T15:20:11.502Z"
      },
      {
        "duration": 33,
        "start_time": "2023-03-20T15:20:11.716Z"
      },
      {
        "duration": 21,
        "start_time": "2023-03-20T15:20:11.752Z"
      },
      {
        "duration": 11,
        "start_time": "2023-03-20T15:20:11.775Z"
      },
      {
        "duration": 20,
        "start_time": "2023-03-20T15:20:11.788Z"
      },
      {
        "duration": 14,
        "start_time": "2023-03-20T15:20:11.840Z"
      },
      {
        "duration": 168,
        "start_time": "2023-03-20T15:20:11.857Z"
      },
      {
        "duration": 21,
        "start_time": "2023-03-20T15:20:12.027Z"
      },
      {
        "duration": 24,
        "start_time": "2023-03-20T15:20:12.050Z"
      },
      {
        "duration": 13,
        "start_time": "2023-03-20T15:20:12.076Z"
      },
      {
        "duration": 8,
        "start_time": "2023-03-20T15:20:12.095Z"
      },
      {
        "duration": 8,
        "start_time": "2023-03-20T15:20:12.141Z"
      },
      {
        "duration": 7,
        "start_time": "2023-03-20T15:20:12.151Z"
      },
      {
        "duration": 5,
        "start_time": "2023-03-20T15:20:12.161Z"
      },
      {
        "duration": 4,
        "start_time": "2023-03-20T15:20:12.168Z"
      },
      {
        "duration": 6,
        "start_time": "2023-03-20T15:20:12.174Z"
      },
      {
        "duration": 5,
        "start_time": "2023-03-20T15:20:12.182Z"
      },
      {
        "duration": 52,
        "start_time": "2023-03-20T15:20:12.189Z"
      },
      {
        "duration": 622,
        "start_time": "2023-03-20T15:20:12.243Z"
      },
      {
        "duration": 1430,
        "start_time": "2023-03-20T15:20:12.867Z"
      },
      {
        "duration": 832,
        "start_time": "2023-03-20T15:20:14.300Z"
      },
      {
        "duration": 1405,
        "start_time": "2023-03-20T15:20:15.141Z"
      },
      {
        "duration": 1001,
        "start_time": "2023-03-20T15:20:16.548Z"
      },
      {
        "duration": 15,
        "start_time": "2023-03-20T15:20:17.553Z"
      },
      {
        "duration": 245,
        "start_time": "2023-03-20T15:20:17.570Z"
      },
      {
        "duration": 224,
        "start_time": "2023-03-20T15:20:17.818Z"
      },
      {
        "duration": 359,
        "start_time": "2023-03-20T15:20:20.800Z"
      },
      {
        "duration": 828,
        "start_time": "2023-03-20T15:20:56.977Z"
      },
      {
        "duration": 5,
        "start_time": "2023-03-20T15:21:05.154Z"
      },
      {
        "duration": 835,
        "start_time": "2023-03-20T15:21:05.162Z"
      },
      {
        "duration": 22,
        "start_time": "2023-03-20T15:21:05.999Z"
      },
      {
        "duration": 187,
        "start_time": "2023-03-20T15:21:06.023Z"
      },
      {
        "duration": 35,
        "start_time": "2023-03-20T15:21:06.214Z"
      },
      {
        "duration": 30,
        "start_time": "2023-03-20T15:21:06.251Z"
      },
      {
        "duration": 13,
        "start_time": "2023-03-20T15:21:06.284Z"
      },
      {
        "duration": 12,
        "start_time": "2023-03-20T15:21:06.299Z"
      },
      {
        "duration": 34,
        "start_time": "2023-03-20T15:21:06.313Z"
      },
      {
        "duration": 197,
        "start_time": "2023-03-20T15:21:06.350Z"
      },
      {
        "duration": 14,
        "start_time": "2023-03-20T15:21:06.549Z"
      },
      {
        "duration": 30,
        "start_time": "2023-03-20T15:21:06.565Z"
      },
      {
        "duration": 12,
        "start_time": "2023-03-20T15:21:06.598Z"
      },
      {
        "duration": 4,
        "start_time": "2023-03-20T15:21:06.640Z"
      },
      {
        "duration": 8,
        "start_time": "2023-03-20T15:21:06.646Z"
      },
      {
        "duration": 8,
        "start_time": "2023-03-20T15:21:06.656Z"
      },
      {
        "duration": 20,
        "start_time": "2023-03-20T15:21:06.665Z"
      },
      {
        "duration": 7,
        "start_time": "2023-03-20T15:21:06.686Z"
      },
      {
        "duration": 4,
        "start_time": "2023-03-20T15:21:06.696Z"
      },
      {
        "duration": 40,
        "start_time": "2023-03-20T15:21:06.702Z"
      },
      {
        "duration": 10,
        "start_time": "2023-03-20T15:21:06.745Z"
      },
      {
        "duration": 639,
        "start_time": "2023-03-20T15:21:06.757Z"
      },
      {
        "duration": 990,
        "start_time": "2023-03-20T15:21:07.398Z"
      },
      {
        "duration": 1146,
        "start_time": "2023-03-20T15:21:08.390Z"
      },
      {
        "duration": 1215,
        "start_time": "2023-03-20T15:21:09.539Z"
      },
      {
        "duration": 859,
        "start_time": "2023-03-20T15:21:10.756Z"
      },
      {
        "duration": 25,
        "start_time": "2023-03-20T15:21:11.618Z"
      },
      {
        "duration": 189,
        "start_time": "2023-03-20T15:21:11.646Z"
      },
      {
        "duration": 207,
        "start_time": "2023-03-20T15:21:11.840Z"
      },
      {
        "duration": 274,
        "start_time": "2023-03-20T15:21:12.049Z"
      },
      {
        "duration": 20,
        "start_time": "2023-03-20T15:21:12.326Z"
      },
      {
        "duration": 246,
        "start_time": "2023-03-20T15:21:12.349Z"
      },
      {
        "duration": 180,
        "start_time": "2023-03-20T15:21:14.188Z"
      },
      {
        "duration": 190,
        "start_time": "2023-03-20T15:22:05.295Z"
      },
      {
        "duration": 229,
        "start_time": "2023-03-20T15:22:22.637Z"
      },
      {
        "duration": 48,
        "start_time": "2023-03-20T16:16:55.562Z"
      },
      {
        "duration": 4,
        "start_time": "2023-03-20T16:17:04.522Z"
      },
      {
        "duration": 3,
        "start_time": "2023-03-20T16:17:38.514Z"
      },
      {
        "duration": 3,
        "start_time": "2023-03-20T16:17:55.067Z"
      },
      {
        "duration": 3,
        "start_time": "2023-03-20T16:19:57.063Z"
      },
      {
        "duration": 4,
        "start_time": "2023-03-20T16:20:04.880Z"
      },
      {
        "duration": 3,
        "start_time": "2023-03-20T16:23:42.080Z"
      },
      {
        "duration": 3,
        "start_time": "2023-03-20T16:24:00.104Z"
      },
      {
        "duration": 4,
        "start_time": "2023-03-20T16:24:18.932Z"
      },
      {
        "duration": 4,
        "start_time": "2023-03-20T16:24:27.572Z"
      },
      {
        "duration": 4,
        "start_time": "2023-03-20T16:25:54.888Z"
      },
      {
        "duration": 4,
        "start_time": "2023-03-20T16:25:55.023Z"
      },
      {
        "duration": 316,
        "start_time": "2023-03-20T17:22:32.139Z"
      },
      {
        "duration": 1029,
        "start_time": "2023-03-20T17:25:43.330Z"
      },
      {
        "duration": 480,
        "start_time": "2023-03-20T17:25:52.691Z"
      },
      {
        "duration": 437,
        "start_time": "2023-03-20T17:26:06.726Z"
      },
      {
        "duration": 3,
        "start_time": "2023-03-20T17:30:56.314Z"
      },
      {
        "duration": 170,
        "start_time": "2023-03-20T17:32:05.380Z"
      },
      {
        "duration": 3,
        "start_time": "2023-03-20T17:38:28.591Z"
      },
      {
        "duration": 10,
        "start_time": "2023-03-20T17:40:26.534Z"
      },
      {
        "duration": 20,
        "start_time": "2023-03-20T17:40:46.862Z"
      },
      {
        "duration": 15,
        "start_time": "2023-03-20T17:40:59.084Z"
      },
      {
        "duration": 130,
        "start_time": "2023-03-20T17:41:05.254Z"
      },
      {
        "duration": 9,
        "start_time": "2023-03-20T17:43:13.254Z"
      },
      {
        "duration": 9,
        "start_time": "2023-03-20T17:43:16.906Z"
      },
      {
        "duration": 4,
        "start_time": "2023-03-20T17:43:20.381Z"
      },
      {
        "duration": 9,
        "start_time": "2023-03-20T17:44:09.911Z"
      },
      {
        "duration": 78,
        "start_time": "2023-03-20T17:44:15.040Z"
      },
      {
        "duration": 9,
        "start_time": "2023-03-20T17:44:50.974Z"
      },
      {
        "duration": 73,
        "start_time": "2023-03-20T17:44:53.501Z"
      },
      {
        "duration": 9,
        "start_time": "2023-03-20T17:46:26.986Z"
      },
      {
        "duration": 11,
        "start_time": "2023-03-20T17:49:46.511Z"
      },
      {
        "duration": 72,
        "start_time": "2023-03-20T17:49:53.684Z"
      },
      {
        "duration": 208,
        "start_time": "2023-03-20T17:51:38.466Z"
      },
      {
        "duration": 32,
        "start_time": "2023-03-20T17:54:09.605Z"
      },
      {
        "duration": 79,
        "start_time": "2023-03-20T17:58:34.865Z"
      },
      {
        "duration": 20,
        "start_time": "2023-03-20T18:05:11.095Z"
      },
      {
        "duration": 23,
        "start_time": "2023-03-20T18:07:54.176Z"
      },
      {
        "duration": 22,
        "start_time": "2023-03-20T18:09:08.164Z"
      },
      {
        "duration": 22,
        "start_time": "2023-03-20T18:09:19.902Z"
      },
      {
        "duration": 12,
        "start_time": "2023-03-20T18:09:45.617Z"
      },
      {
        "duration": 4,
        "start_time": "2023-03-20T18:09:59.475Z"
      },
      {
        "duration": 3,
        "start_time": "2023-03-20T18:10:29.931Z"
      },
      {
        "duration": 4,
        "start_time": "2023-03-20T18:13:45.968Z"
      },
      {
        "duration": 2,
        "start_time": "2023-03-20T18:16:20.858Z"
      },
      {
        "duration": 12,
        "start_time": "2023-03-20T18:19:34.057Z"
      },
      {
        "duration": 4,
        "start_time": "2023-03-20T18:19:39.033Z"
      },
      {
        "duration": 12,
        "start_time": "2023-03-20T18:19:39.395Z"
      },
      {
        "duration": 10,
        "start_time": "2023-03-20T18:20:01.211Z"
      },
      {
        "duration": 3,
        "start_time": "2023-03-20T18:20:04.332Z"
      },
      {
        "duration": 10,
        "start_time": "2023-03-20T18:28:54.545Z"
      },
      {
        "duration": 10,
        "start_time": "2023-03-20T18:29:20.489Z"
      },
      {
        "duration": 11,
        "start_time": "2023-03-20T18:29:25.364Z"
      },
      {
        "duration": 1771,
        "start_time": "2023-03-20T18:34:32.369Z"
      },
      {
        "duration": 4,
        "start_time": "2023-03-20T18:45:27.840Z"
      },
      {
        "duration": 4,
        "start_time": "2023-03-20T18:45:31.510Z"
      },
      {
        "duration": 3,
        "start_time": "2023-03-20T18:48:20.335Z"
      },
      {
        "duration": 4,
        "start_time": "2023-03-20T18:48:26.461Z"
      },
      {
        "duration": 2050,
        "start_time": "2023-03-20T18:48:26.467Z"
      },
      {
        "duration": 17,
        "start_time": "2023-03-20T18:48:28.519Z"
      },
      {
        "duration": 123,
        "start_time": "2023-03-20T18:48:28.538Z"
      },
      {
        "duration": 15,
        "start_time": "2023-03-20T18:48:28.663Z"
      },
      {
        "duration": 19,
        "start_time": "2023-03-20T18:48:28.679Z"
      },
      {
        "duration": 8,
        "start_time": "2023-03-20T18:48:28.699Z"
      },
      {
        "duration": 37,
        "start_time": "2023-03-20T18:48:28.709Z"
      },
      {
        "duration": 9,
        "start_time": "2023-03-20T18:48:28.748Z"
      },
      {
        "duration": 137,
        "start_time": "2023-03-20T18:48:28.758Z"
      },
      {
        "duration": 9,
        "start_time": "2023-03-20T18:48:28.897Z"
      },
      {
        "duration": 36,
        "start_time": "2023-03-20T18:48:28.907Z"
      },
      {
        "duration": 12,
        "start_time": "2023-03-20T18:48:28.945Z"
      },
      {
        "duration": 5,
        "start_time": "2023-03-20T18:48:28.959Z"
      },
      {
        "duration": 7,
        "start_time": "2023-03-20T18:48:28.966Z"
      },
      {
        "duration": 5,
        "start_time": "2023-03-20T18:48:28.975Z"
      },
      {
        "duration": 9,
        "start_time": "2023-03-20T18:48:28.982Z"
      },
      {
        "duration": 4,
        "start_time": "2023-03-20T18:48:28.993Z"
      },
      {
        "duration": 3,
        "start_time": "2023-03-20T18:48:28.999Z"
      },
      {
        "duration": 41,
        "start_time": "2023-03-20T18:48:29.004Z"
      },
      {
        "duration": 6,
        "start_time": "2023-03-20T18:48:29.048Z"
      },
      {
        "duration": 592,
        "start_time": "2023-03-20T18:48:29.055Z"
      },
      {
        "duration": 1049,
        "start_time": "2023-03-20T18:48:29.649Z"
      },
      {
        "duration": 709,
        "start_time": "2023-03-20T18:48:30.701Z"
      },
      {
        "duration": 459,
        "start_time": "2023-03-20T18:48:31.411Z"
      },
      {
        "duration": 482,
        "start_time": "2023-03-20T18:48:31.872Z"
      },
      {
        "duration": 11,
        "start_time": "2023-03-20T18:48:32.355Z"
      },
      {
        "duration": 163,
        "start_time": "2023-03-20T18:48:32.367Z"
      },
      {
        "duration": 175,
        "start_time": "2023-03-20T18:48:32.531Z"
      },
      {
        "duration": 310,
        "start_time": "2023-03-20T18:48:32.708Z"
      },
      {
        "duration": 20,
        "start_time": "2023-03-20T18:48:33.020Z"
      },
      {
        "duration": 173,
        "start_time": "2023-03-20T18:48:33.042Z"
      },
      {
        "duration": 173,
        "start_time": "2023-03-20T18:48:33.217Z"
      },
      {
        "duration": 182,
        "start_time": "2023-03-20T18:48:33.392Z"
      },
      {
        "duration": 3,
        "start_time": "2023-03-20T18:48:33.576Z"
      },
      {
        "duration": 4,
        "start_time": "2023-03-20T18:48:33.581Z"
      },
      {
        "duration": 3,
        "start_time": "2023-03-20T18:48:34.685Z"
      },
      {
        "duration": 14,
        "start_time": "2023-03-20T18:48:38.497Z"
      },
      {
        "duration": 35,
        "start_time": "2023-03-20T18:48:39.299Z"
      },
      {
        "duration": 3,
        "start_time": "2023-03-20T18:48:42.330Z"
      },
      {
        "duration": 12,
        "start_time": "2023-03-20T18:53:32.180Z"
      },
      {
        "duration": 12,
        "start_time": "2023-03-20T18:55:35.748Z"
      },
      {
        "duration": 11,
        "start_time": "2023-03-20T18:55:38.148Z"
      },
      {
        "duration": 12,
        "start_time": "2023-03-20T18:55:44.885Z"
      },
      {
        "duration": 5,
        "start_time": "2023-03-20T18:55:48.899Z"
      },
      {
        "duration": 10,
        "start_time": "2023-03-20T18:58:16.993Z"
      },
      {
        "duration": 4,
        "start_time": "2023-03-20T18:58:21.739Z"
      },
      {
        "duration": 700,
        "start_time": "2023-03-20T18:58:21.746Z"
      },
      {
        "duration": 19,
        "start_time": "2023-03-20T18:58:22.448Z"
      },
      {
        "duration": 211,
        "start_time": "2023-03-20T18:58:22.469Z"
      },
      {
        "duration": 16,
        "start_time": "2023-03-20T18:58:22.682Z"
      },
      {
        "duration": 41,
        "start_time": "2023-03-20T18:58:22.700Z"
      },
      {
        "duration": 9,
        "start_time": "2023-03-20T18:58:22.743Z"
      },
      {
        "duration": 10,
        "start_time": "2023-03-20T18:58:22.753Z"
      },
      {
        "duration": 7,
        "start_time": "2023-03-20T18:58:22.766Z"
      },
      {
        "duration": 156,
        "start_time": "2023-03-20T18:58:22.775Z"
      },
      {
        "duration": 10,
        "start_time": "2023-03-20T18:58:22.933Z"
      },
      {
        "duration": 20,
        "start_time": "2023-03-20T18:58:22.945Z"
      },
      {
        "duration": 9,
        "start_time": "2023-03-20T18:58:22.967Z"
      },
      {
        "duration": 13,
        "start_time": "2023-03-20T18:58:22.977Z"
      },
      {
        "duration": 6,
        "start_time": "2023-03-20T18:58:22.992Z"
      },
      {
        "duration": 42,
        "start_time": "2023-03-20T18:58:22.999Z"
      },
      {
        "duration": 4,
        "start_time": "2023-03-20T18:58:23.042Z"
      },
      {
        "duration": 5,
        "start_time": "2023-03-20T18:58:23.049Z"
      },
      {
        "duration": 6,
        "start_time": "2023-03-20T18:58:23.056Z"
      },
      {
        "duration": 13,
        "start_time": "2023-03-20T18:58:23.064Z"
      },
      {
        "duration": 5,
        "start_time": "2023-03-20T18:58:23.079Z"
      },
      {
        "duration": 598,
        "start_time": "2023-03-20T18:58:23.086Z"
      },
      {
        "duration": 1102,
        "start_time": "2023-03-20T18:58:23.685Z"
      },
      {
        "duration": 725,
        "start_time": "2023-03-20T18:58:24.791Z"
      },
      {
        "duration": 560,
        "start_time": "2023-03-20T18:58:25.518Z"
      },
      {
        "duration": 496,
        "start_time": "2023-03-20T18:58:26.080Z"
      },
      {
        "duration": 9,
        "start_time": "2023-03-20T18:58:26.577Z"
      },
      {
        "duration": 173,
        "start_time": "2023-03-20T18:58:26.588Z"
      },
      {
        "duration": 178,
        "start_time": "2023-03-20T18:58:26.763Z"
      },
      {
        "duration": 176,
        "start_time": "2023-03-20T18:58:26.943Z"
      },
      {
        "duration": 7,
        "start_time": "2023-03-20T18:58:27.121Z"
      },
      {
        "duration": 351,
        "start_time": "2023-03-20T18:58:27.129Z"
      },
      {
        "duration": 175,
        "start_time": "2023-03-20T18:58:27.482Z"
      },
      {
        "duration": 181,
        "start_time": "2023-03-20T18:58:27.659Z"
      },
      {
        "duration": 4,
        "start_time": "2023-03-20T18:58:27.842Z"
      },
      {
        "duration": 5,
        "start_time": "2023-03-20T18:58:27.848Z"
      },
      {
        "duration": 4,
        "start_time": "2023-03-20T18:58:27.855Z"
      },
      {
        "duration": 16,
        "start_time": "2023-03-20T18:58:27.861Z"
      },
      {
        "duration": 29,
        "start_time": "2023-03-20T18:58:27.879Z"
      },
      {
        "duration": 3,
        "start_time": "2023-03-20T18:58:27.940Z"
      },
      {
        "duration": 13,
        "start_time": "2023-03-20T18:58:27.944Z"
      },
      {
        "duration": 31,
        "start_time": "2023-03-20T18:58:27.959Z"
      },
      {
        "duration": 12,
        "start_time": "2023-03-20T18:58:30.312Z"
      },
      {
        "duration": 9,
        "start_time": "2023-03-20T18:59:15.950Z"
      },
      {
        "duration": 10,
        "start_time": "2023-03-20T18:59:46.675Z"
      },
      {
        "duration": 5,
        "start_time": "2023-03-20T19:00:03.834Z"
      },
      {
        "duration": 3,
        "start_time": "2023-03-20T19:00:45.912Z"
      },
      {
        "duration": 5,
        "start_time": "2023-03-20T19:01:39.132Z"
      },
      {
        "duration": 15,
        "start_time": "2023-03-20T19:04:38.896Z"
      },
      {
        "duration": 3,
        "start_time": "2023-03-20T19:04:42.710Z"
      },
      {
        "duration": 4,
        "start_time": "2023-03-20T19:04:44.219Z"
      },
      {
        "duration": 4,
        "start_time": "2023-03-20T19:05:14.166Z"
      },
      {
        "duration": 4,
        "start_time": "2023-03-20T19:06:20.500Z"
      },
      {
        "duration": 18,
        "start_time": "2023-03-20T19:08:09.987Z"
      },
      {
        "duration": 28,
        "start_time": "2023-03-20T19:09:16.597Z"
      },
      {
        "duration": 3,
        "start_time": "2023-03-20T19:10:50.798Z"
      },
      {
        "duration": 6,
        "start_time": "2023-03-20T19:10:51.293Z"
      },
      {
        "duration": 24,
        "start_time": "2023-03-20T19:10:52.130Z"
      },
      {
        "duration": 3,
        "start_time": "2023-03-20T19:11:58.481Z"
      },
      {
        "duration": 7,
        "start_time": "2023-03-20T19:12:13.752Z"
      },
      {
        "duration": 4064,
        "start_time": "2023-03-20T19:12:26.778Z"
      },
      {
        "duration": 5,
        "start_time": "2023-03-20T19:12:47.042Z"
      },
      {
        "duration": 2658,
        "start_time": "2023-03-20T19:12:47.590Z"
      },
      {
        "duration": 17,
        "start_time": "2023-03-20T19:15:13.112Z"
      },
      {
        "duration": 7,
        "start_time": "2023-03-20T19:16:12.011Z"
      },
      {
        "duration": 11,
        "start_time": "2023-03-20T19:20:49.433Z"
      },
      {
        "duration": 10,
        "start_time": "2023-03-20T19:26:26.641Z"
      },
      {
        "duration": 6,
        "start_time": "2023-03-20T19:26:29.585Z"
      },
      {
        "duration": 7,
        "start_time": "2023-03-20T19:26:41.834Z"
      },
      {
        "duration": 5,
        "start_time": "2023-03-20T19:27:31.731Z"
      },
      {
        "duration": 5,
        "start_time": "2023-03-20T19:27:34.824Z"
      },
      {
        "duration": 21,
        "start_time": "2023-03-20T19:28:12.455Z"
      },
      {
        "duration": 44,
        "start_time": "2023-03-20T19:31:33.297Z"
      },
      {
        "duration": 16,
        "start_time": "2023-03-20T19:32:43.385Z"
      },
      {
        "duration": 12,
        "start_time": "2023-03-20T19:33:32.961Z"
      },
      {
        "duration": 4,
        "start_time": "2023-03-20T19:35:05.159Z"
      },
      {
        "duration": 678,
        "start_time": "2023-03-20T19:35:05.166Z"
      },
      {
        "duration": 19,
        "start_time": "2023-03-20T19:35:05.847Z"
      },
      {
        "duration": 140,
        "start_time": "2023-03-20T19:35:05.868Z"
      },
      {
        "duration": 12,
        "start_time": "2023-03-20T19:35:06.010Z"
      },
      {
        "duration": 17,
        "start_time": "2023-03-20T19:35:06.040Z"
      },
      {
        "duration": 25,
        "start_time": "2023-03-20T19:35:06.059Z"
      },
      {
        "duration": 11,
        "start_time": "2023-03-20T19:35:06.086Z"
      },
      {
        "duration": 14,
        "start_time": "2023-03-20T19:35:06.099Z"
      },
      {
        "duration": 122,
        "start_time": "2023-03-20T19:35:06.115Z"
      },
      {
        "duration": 10,
        "start_time": "2023-03-20T19:35:06.241Z"
      },
      {
        "duration": 27,
        "start_time": "2023-03-20T19:35:06.253Z"
      },
      {
        "duration": 22,
        "start_time": "2023-03-20T19:35:06.282Z"
      },
      {
        "duration": 27,
        "start_time": "2023-03-20T19:35:06.306Z"
      },
      {
        "duration": 8,
        "start_time": "2023-03-20T19:35:06.334Z"
      },
      {
        "duration": 16,
        "start_time": "2023-03-20T19:35:06.344Z"
      },
      {
        "duration": 24,
        "start_time": "2023-03-20T19:35:06.362Z"
      },
      {
        "duration": 17,
        "start_time": "2023-03-20T19:35:06.387Z"
      },
      {
        "duration": 5,
        "start_time": "2023-03-20T19:35:06.405Z"
      },
      {
        "duration": 6,
        "start_time": "2023-03-20T19:35:06.412Z"
      },
      {
        "duration": 20,
        "start_time": "2023-03-20T19:35:06.419Z"
      },
      {
        "duration": 540,
        "start_time": "2023-03-20T19:35:06.441Z"
      },
      {
        "duration": 1045,
        "start_time": "2023-03-20T19:35:06.982Z"
      },
      {
        "duration": 671,
        "start_time": "2023-03-20T19:35:08.029Z"
      },
      {
        "duration": 489,
        "start_time": "2023-03-20T19:35:08.702Z"
      },
      {
        "duration": 469,
        "start_time": "2023-03-20T19:35:09.193Z"
      },
      {
        "duration": 9,
        "start_time": "2023-03-20T19:35:09.664Z"
      },
      {
        "duration": 166,
        "start_time": "2023-03-20T19:35:09.676Z"
      },
      {
        "duration": 152,
        "start_time": "2023-03-20T19:35:09.843Z"
      },
      {
        "duration": 164,
        "start_time": "2023-03-20T19:35:09.997Z"
      },
      {
        "duration": 6,
        "start_time": "2023-03-20T19:35:10.163Z"
      },
      {
        "duration": 335,
        "start_time": "2023-03-20T19:35:10.171Z"
      },
      {
        "duration": 183,
        "start_time": "2023-03-20T19:35:10.507Z"
      },
      {
        "duration": 168,
        "start_time": "2023-03-20T19:35:10.691Z"
      },
      {
        "duration": 4,
        "start_time": "2023-03-20T19:35:10.861Z"
      },
      {
        "duration": 5,
        "start_time": "2023-03-20T19:35:10.867Z"
      },
      {
        "duration": 5,
        "start_time": "2023-03-20T19:35:10.873Z"
      },
      {
        "duration": 16,
        "start_time": "2023-03-20T19:35:10.879Z"
      },
      {
        "duration": 6,
        "start_time": "2023-03-20T19:35:15.954Z"
      },
      {
        "duration": 2,
        "start_time": "2023-03-20T19:35:41.250Z"
      },
      {
        "duration": 1980,
        "start_time": "2023-03-20T19:35:52.062Z"
      },
      {
        "duration": 17,
        "start_time": "2023-03-20T19:36:17.914Z"
      },
      {
        "duration": 49,
        "start_time": "2023-03-20T19:38:33.730Z"
      },
      {
        "duration": 7,
        "start_time": "2023-03-20T19:38:59.463Z"
      },
      {
        "duration": 54,
        "start_time": "2023-03-20T19:39:30.611Z"
      },
      {
        "duration": 71,
        "start_time": "2023-03-20T19:39:50.101Z"
      },
      {
        "duration": 12,
        "start_time": "2023-03-20T19:40:09.642Z"
      },
      {
        "duration": 51,
        "start_time": "2023-03-20T19:41:15.452Z"
      },
      {
        "duration": 12,
        "start_time": "2023-03-20T19:41:50.313Z"
      },
      {
        "duration": 10,
        "start_time": "2023-03-20T19:41:58.287Z"
      },
      {
        "duration": 5,
        "start_time": "2023-03-20T19:42:13.172Z"
      },
      {
        "duration": 647,
        "start_time": "2023-03-20T19:42:13.178Z"
      },
      {
        "duration": 17,
        "start_time": "2023-03-20T19:42:13.827Z"
      },
      {
        "duration": 124,
        "start_time": "2023-03-20T19:42:13.846Z"
      },
      {
        "duration": 13,
        "start_time": "2023-03-20T19:42:13.971Z"
      },
      {
        "duration": 19,
        "start_time": "2023-03-20T19:42:13.985Z"
      },
      {
        "duration": 8,
        "start_time": "2023-03-20T19:42:14.005Z"
      },
      {
        "duration": 9,
        "start_time": "2023-03-20T19:42:14.041Z"
      },
      {
        "duration": 8,
        "start_time": "2023-03-20T19:42:14.052Z"
      },
      {
        "duration": 137,
        "start_time": "2023-03-20T19:42:14.062Z"
      },
      {
        "duration": 11,
        "start_time": "2023-03-20T19:42:17.903Z"
      },
      {
        "duration": 16,
        "start_time": "2023-03-20T19:42:23.145Z"
      },
      {
        "duration": 11,
        "start_time": "2023-03-20T19:42:43.082Z"
      },
      {
        "duration": 2,
        "start_time": "2023-03-20T19:47:12.901Z"
      },
      {
        "duration": 4,
        "start_time": "2023-03-20T19:47:26.774Z"
      },
      {
        "duration": 670,
        "start_time": "2023-03-20T19:47:26.780Z"
      },
      {
        "duration": 21,
        "start_time": "2023-03-20T19:47:27.452Z"
      },
      {
        "duration": 183,
        "start_time": "2023-03-20T19:47:27.475Z"
      },
      {
        "duration": 14,
        "start_time": "2023-03-20T19:47:27.660Z"
      },
      {
        "duration": 19,
        "start_time": "2023-03-20T19:47:27.676Z"
      },
      {
        "duration": 9,
        "start_time": "2023-03-20T19:47:27.697Z"
      },
      {
        "duration": 39,
        "start_time": "2023-03-20T19:47:27.708Z"
      },
      {
        "duration": 9,
        "start_time": "2023-03-20T19:47:27.753Z"
      },
      {
        "duration": 143,
        "start_time": "2023-03-20T19:47:27.764Z"
      },
      {
        "duration": 9,
        "start_time": "2023-03-20T19:47:27.909Z"
      },
      {
        "duration": 37,
        "start_time": "2023-03-20T19:47:27.920Z"
      },
      {
        "duration": 8,
        "start_time": "2023-03-20T19:47:27.959Z"
      },
      {
        "duration": 3,
        "start_time": "2023-03-20T19:47:27.969Z"
      },
      {
        "duration": 11,
        "start_time": "2023-03-20T19:47:27.974Z"
      },
      {
        "duration": 9,
        "start_time": "2023-03-20T19:47:27.986Z"
      },
      {
        "duration": 6,
        "start_time": "2023-03-20T19:47:27.997Z"
      },
      {
        "duration": 8,
        "start_time": "2023-03-20T19:47:28.004Z"
      },
      {
        "duration": 7,
        "start_time": "2023-03-20T19:47:28.014Z"
      },
      {
        "duration": 20,
        "start_time": "2023-03-20T19:47:28.022Z"
      },
      {
        "duration": 6,
        "start_time": "2023-03-20T19:47:28.043Z"
      },
      {
        "duration": 597,
        "start_time": "2023-03-20T19:47:28.051Z"
      },
      {
        "duration": 1175,
        "start_time": "2023-03-20T19:47:28.650Z"
      },
      {
        "duration": 688,
        "start_time": "2023-03-20T19:47:29.828Z"
      },
      {
        "duration": 486,
        "start_time": "2023-03-20T19:47:30.518Z"
      },
      {
        "duration": 466,
        "start_time": "2023-03-20T19:47:31.006Z"
      },
      {
        "duration": 11,
        "start_time": "2023-03-20T19:47:31.474Z"
      },
      {
        "duration": 246,
        "start_time": "2023-03-20T19:47:31.487Z"
      },
      {
        "duration": 171,
        "start_time": "2023-03-20T19:47:31.740Z"
      },
      {
        "duration": 193,
        "start_time": "2023-03-20T19:47:31.912Z"
      },
      {
        "duration": 7,
        "start_time": "2023-03-20T19:47:32.106Z"
      },
      {
        "duration": 341,
        "start_time": "2023-03-20T19:47:32.115Z"
      },
      {
        "duration": 217,
        "start_time": "2023-03-20T19:47:32.458Z"
      },
      {
        "duration": 208,
        "start_time": "2023-03-20T19:47:32.677Z"
      },
      {
        "duration": 4,
        "start_time": "2023-03-20T19:47:32.887Z"
      },
      {
        "duration": 6,
        "start_time": "2023-03-20T19:47:32.893Z"
      },
      {
        "duration": 3,
        "start_time": "2023-03-20T19:47:32.901Z"
      },
      {
        "duration": 14,
        "start_time": "2023-03-20T19:52:34.270Z"
      },
      {
        "duration": 51,
        "start_time": "2023-03-20T19:53:35.339Z"
      },
      {
        "duration": 9,
        "start_time": "2023-03-20T19:54:01.585Z"
      },
      {
        "duration": 24,
        "start_time": "2023-03-20T19:54:43.388Z"
      },
      {
        "duration": 9,
        "start_time": "2023-03-20T19:54:45.444Z"
      },
      {
        "duration": 24,
        "start_time": "2023-03-20T19:55:11.383Z"
      },
      {
        "duration": 76,
        "start_time": "2023-03-20T19:57:32.827Z"
      },
      {
        "duration": 18,
        "start_time": "2023-03-20T19:58:03.294Z"
      },
      {
        "duration": 23,
        "start_time": "2023-03-20T19:58:14.231Z"
      },
      {
        "duration": 53,
        "start_time": "2023-03-20T19:59:45.170Z"
      },
      {
        "duration": 2,
        "start_time": "2023-03-20T20:02:28.951Z"
      },
      {
        "duration": 5,
        "start_time": "2023-03-20T20:02:34.477Z"
      },
      {
        "duration": 674,
        "start_time": "2023-03-20T20:02:34.484Z"
      },
      {
        "duration": 28,
        "start_time": "2023-03-20T20:02:35.161Z"
      },
      {
        "duration": 135,
        "start_time": "2023-03-20T20:02:35.191Z"
      },
      {
        "duration": 27,
        "start_time": "2023-03-20T20:02:35.328Z"
      },
      {
        "duration": 20,
        "start_time": "2023-03-20T20:02:35.356Z"
      },
      {
        "duration": 11,
        "start_time": "2023-03-20T20:02:35.379Z"
      },
      {
        "duration": 11,
        "start_time": "2023-03-20T20:02:35.392Z"
      },
      {
        "duration": 43,
        "start_time": "2023-03-20T20:02:35.405Z"
      },
      {
        "duration": 146,
        "start_time": "2023-03-20T20:02:35.450Z"
      },
      {
        "duration": 10,
        "start_time": "2023-03-20T20:02:35.599Z"
      },
      {
        "duration": 44,
        "start_time": "2023-03-20T20:02:35.612Z"
      },
      {
        "duration": 14,
        "start_time": "2023-03-20T20:02:35.658Z"
      },
      {
        "duration": 4,
        "start_time": "2023-03-20T20:02:35.673Z"
      },
      {
        "duration": 7,
        "start_time": "2023-03-20T20:02:35.680Z"
      },
      {
        "duration": 6,
        "start_time": "2023-03-20T20:02:35.688Z"
      },
      {
        "duration": 12,
        "start_time": "2023-03-20T20:02:35.695Z"
      },
      {
        "duration": 8,
        "start_time": "2023-03-20T20:02:35.709Z"
      },
      {
        "duration": 29,
        "start_time": "2023-03-20T20:02:35.719Z"
      },
      {
        "duration": 12,
        "start_time": "2023-03-20T20:02:35.750Z"
      },
      {
        "duration": 6,
        "start_time": "2023-03-20T20:02:35.764Z"
      },
      {
        "duration": 562,
        "start_time": "2023-03-20T20:02:35.771Z"
      },
      {
        "duration": 1093,
        "start_time": "2023-03-20T20:02:36.340Z"
      },
      {
        "duration": 717,
        "start_time": "2023-03-20T20:02:37.441Z"
      },
      {
        "duration": 404,
        "start_time": "2023-03-20T20:02:38.160Z"
      },
      {
        "duration": 424,
        "start_time": "2023-03-20T20:02:38.566Z"
      },
      {
        "duration": 12,
        "start_time": "2023-03-20T20:02:38.992Z"
      },
      {
        "duration": 254,
        "start_time": "2023-03-20T20:02:39.006Z"
      },
      {
        "duration": 200,
        "start_time": "2023-03-20T20:02:39.265Z"
      },
      {
        "duration": 188,
        "start_time": "2023-03-20T20:02:39.466Z"
      },
      {
        "duration": 8,
        "start_time": "2023-03-20T20:02:39.656Z"
      },
      {
        "duration": 219,
        "start_time": "2023-03-20T20:02:39.666Z"
      },
      {
        "duration": 367,
        "start_time": "2023-03-20T20:02:39.887Z"
      },
      {
        "duration": 188,
        "start_time": "2023-03-20T20:02:40.256Z"
      },
      {
        "duration": 3,
        "start_time": "2023-03-20T20:02:40.446Z"
      },
      {
        "duration": 11,
        "start_time": "2023-03-20T20:02:40.451Z"
      },
      {
        "duration": 5,
        "start_time": "2023-03-20T20:02:40.464Z"
      },
      {
        "duration": 25,
        "start_time": "2023-03-20T20:02:40.471Z"
      },
      {
        "duration": 17,
        "start_time": "2023-03-20T20:02:40.497Z"
      },
      {
        "duration": 3,
        "start_time": "2023-03-20T20:02:46.637Z"
      },
      {
        "duration": 4,
        "start_time": "2023-03-20T20:02:47.297Z"
      },
      {
        "duration": 3,
        "start_time": "2023-03-20T20:02:50.923Z"
      },
      {
        "duration": 6,
        "start_time": "2023-03-20T20:02:53.625Z"
      },
      {
        "duration": 2319,
        "start_time": "2023-03-20T20:03:48.627Z"
      },
      {
        "duration": 26,
        "start_time": "2023-03-20T20:05:09.447Z"
      },
      {
        "duration": 6,
        "start_time": "2023-03-20T20:07:17.442Z"
      },
      {
        "duration": 6,
        "start_time": "2023-03-20T20:07:21.276Z"
      },
      {
        "duration": 61,
        "start_time": "2023-03-20T20:07:23.832Z"
      },
      {
        "duration": 4,
        "start_time": "2023-03-20T20:08:54.428Z"
      },
      {
        "duration": 700,
        "start_time": "2023-03-20T20:08:54.435Z"
      },
      {
        "duration": 19,
        "start_time": "2023-03-20T20:08:55.137Z"
      },
      {
        "duration": 144,
        "start_time": "2023-03-20T20:08:55.158Z"
      },
      {
        "duration": 12,
        "start_time": "2023-03-20T20:08:55.305Z"
      },
      {
        "duration": 34,
        "start_time": "2023-03-20T20:08:55.319Z"
      },
      {
        "duration": 11,
        "start_time": "2023-03-20T20:08:55.355Z"
      },
      {
        "duration": 9,
        "start_time": "2023-03-20T20:08:55.368Z"
      },
      {
        "duration": 8,
        "start_time": "2023-03-20T20:08:55.379Z"
      },
      {
        "duration": 198,
        "start_time": "2023-03-20T20:08:55.388Z"
      },
      {
        "duration": 14,
        "start_time": "2023-03-20T20:08:55.588Z"
      },
      {
        "duration": 25,
        "start_time": "2023-03-20T20:08:55.604Z"
      },
      {
        "duration": 16,
        "start_time": "2023-03-20T20:08:55.642Z"
      },
      {
        "duration": 3,
        "start_time": "2023-03-20T20:08:55.662Z"
      },
      {
        "duration": 7,
        "start_time": "2023-03-20T20:08:55.666Z"
      },
      {
        "duration": 7,
        "start_time": "2023-03-20T20:08:55.674Z"
      },
      {
        "duration": 4,
        "start_time": "2023-03-20T20:08:55.682Z"
      },
      {
        "duration": 6,
        "start_time": "2023-03-20T20:08:55.688Z"
      },
      {
        "duration": 13,
        "start_time": "2023-03-20T20:08:55.696Z"
      },
      {
        "duration": 31,
        "start_time": "2023-03-20T20:08:55.711Z"
      },
      {
        "duration": 6,
        "start_time": "2023-03-20T20:08:55.743Z"
      },
      {
        "duration": 603,
        "start_time": "2023-03-20T20:08:55.751Z"
      },
      {
        "duration": 1105,
        "start_time": "2023-03-20T20:08:56.356Z"
      },
      {
        "duration": 917,
        "start_time": "2023-03-20T20:08:57.463Z"
      },
      {
        "duration": 507,
        "start_time": "2023-03-20T20:08:58.382Z"
      },
      {
        "duration": 560,
        "start_time": "2023-03-20T20:08:58.890Z"
      },
      {
        "duration": 13,
        "start_time": "2023-03-20T20:08:59.453Z"
      },
      {
        "duration": 192,
        "start_time": "2023-03-20T20:08:59.468Z"
      },
      {
        "duration": 180,
        "start_time": "2023-03-20T20:08:59.662Z"
      },
      {
        "duration": 223,
        "start_time": "2023-03-20T20:08:59.844Z"
      },
      {
        "duration": 8,
        "start_time": "2023-03-20T20:09:00.068Z"
      },
      {
        "duration": 222,
        "start_time": "2023-03-20T20:09:00.077Z"
      },
      {
        "duration": 198,
        "start_time": "2023-03-20T20:09:00.301Z"
      },
      {
        "duration": 340,
        "start_time": "2023-03-20T20:09:00.501Z"
      },
      {
        "duration": 4,
        "start_time": "2023-03-20T20:09:00.843Z"
      },
      {
        "duration": 31,
        "start_time": "2023-03-20T20:09:00.850Z"
      },
      {
        "duration": 28,
        "start_time": "2023-03-20T20:09:00.883Z"
      },
      {
        "duration": 2725,
        "start_time": "2023-03-20T20:14:14.223Z"
      },
      {
        "duration": 2374,
        "start_time": "2023-03-20T20:14:26.978Z"
      },
      {
        "duration": 16,
        "start_time": "2023-03-20T20:15:37.282Z"
      },
      {
        "duration": 14,
        "start_time": "2023-03-20T20:16:15.039Z"
      },
      {
        "duration": 30,
        "start_time": "2023-03-20T20:17:10.422Z"
      },
      {
        "duration": 12,
        "start_time": "2023-03-20T20:17:34.774Z"
      },
      {
        "duration": 29,
        "start_time": "2023-03-20T20:17:36.726Z"
      },
      {
        "duration": 4,
        "start_time": "2023-03-20T20:17:40.883Z"
      },
      {
        "duration": 3,
        "start_time": "2023-03-20T20:17:41.106Z"
      },
      {
        "duration": 3,
        "start_time": "2023-03-20T20:17:41.378Z"
      },
      {
        "duration": 7,
        "start_time": "2023-03-20T20:17:43.725Z"
      },
      {
        "duration": 2793,
        "start_time": "2023-03-20T20:17:45.264Z"
      },
      {
        "duration": 11,
        "start_time": "2023-03-20T20:17:49.247Z"
      },
      {
        "duration": 2293,
        "start_time": "2023-03-20T20:22:56.257Z"
      },
      {
        "duration": 8,
        "start_time": "2023-03-20T20:23:03.598Z"
      },
      {
        "duration": 12,
        "start_time": "2023-03-20T20:23:27.534Z"
      },
      {
        "duration": 3,
        "start_time": "2023-03-20T20:30:29.430Z"
      },
      {
        "duration": 739,
        "start_time": "2023-03-20T20:30:29.435Z"
      },
      {
        "duration": 18,
        "start_time": "2023-03-20T20:30:30.176Z"
      },
      {
        "duration": 146,
        "start_time": "2023-03-20T20:30:30.196Z"
      },
      {
        "duration": 20,
        "start_time": "2023-03-20T20:30:30.344Z"
      },
      {
        "duration": 31,
        "start_time": "2023-03-20T20:30:30.367Z"
      },
      {
        "duration": 11,
        "start_time": "2023-03-20T20:30:30.400Z"
      },
      {
        "duration": 28,
        "start_time": "2023-03-20T20:30:30.412Z"
      },
      {
        "duration": 12,
        "start_time": "2023-03-20T20:30:30.446Z"
      },
      {
        "duration": 156,
        "start_time": "2023-03-20T20:30:30.461Z"
      },
      {
        "duration": 11,
        "start_time": "2023-03-20T20:30:30.619Z"
      },
      {
        "duration": 43,
        "start_time": "2023-03-20T20:30:30.640Z"
      },
      {
        "duration": 13,
        "start_time": "2023-03-20T20:30:30.685Z"
      },
      {
        "duration": 26,
        "start_time": "2023-03-20T20:30:30.699Z"
      },
      {
        "duration": 27,
        "start_time": "2023-03-20T20:30:30.728Z"
      },
      {
        "duration": 31,
        "start_time": "2023-03-20T20:30:30.758Z"
      },
      {
        "duration": 22,
        "start_time": "2023-03-20T20:30:30.791Z"
      },
      {
        "duration": 37,
        "start_time": "2023-03-20T20:30:30.815Z"
      },
      {
        "duration": 40,
        "start_time": "2023-03-20T20:30:30.855Z"
      },
      {
        "duration": 21,
        "start_time": "2023-03-20T20:30:30.897Z"
      },
      {
        "duration": 31,
        "start_time": "2023-03-20T20:30:30.919Z"
      },
      {
        "duration": 711,
        "start_time": "2023-03-20T20:30:30.952Z"
      },
      {
        "duration": 1075,
        "start_time": "2023-03-20T20:30:31.665Z"
      },
      {
        "duration": 980,
        "start_time": "2023-03-20T20:30:32.742Z"
      },
      {
        "duration": 471,
        "start_time": "2023-03-20T20:30:33.724Z"
      },
      {
        "duration": 493,
        "start_time": "2023-03-20T20:30:34.198Z"
      },
      {
        "duration": 9,
        "start_time": "2023-03-20T20:30:34.693Z"
      },
      {
        "duration": 185,
        "start_time": "2023-03-20T20:30:34.705Z"
      },
      {
        "duration": 192,
        "start_time": "2023-03-20T20:30:34.892Z"
      },
      {
        "duration": 204,
        "start_time": "2023-03-20T20:30:35.087Z"
      },
      {
        "duration": 8,
        "start_time": "2023-03-20T20:30:35.292Z"
      },
      {
        "duration": 204,
        "start_time": "2023-03-20T20:30:35.302Z"
      },
      {
        "duration": 191,
        "start_time": "2023-03-20T20:30:35.508Z"
      },
      {
        "duration": 192,
        "start_time": "2023-03-20T20:30:35.701Z"
      },
      {
        "duration": 4,
        "start_time": "2023-03-20T20:30:35.895Z"
      },
      {
        "duration": 4,
        "start_time": "2023-03-20T20:30:35.902Z"
      },
      {
        "duration": 3,
        "start_time": "2023-03-20T20:30:35.908Z"
      },
      {
        "duration": 57,
        "start_time": "2023-03-20T20:30:35.913Z"
      },
      {
        "duration": 0,
        "start_time": "2023-03-20T20:30:35.972Z"
      },
      {
        "duration": 0,
        "start_time": "2023-03-20T20:30:35.973Z"
      },
      {
        "duration": 0,
        "start_time": "2023-03-20T20:30:35.974Z"
      },
      {
        "duration": 0,
        "start_time": "2023-03-20T20:30:35.975Z"
      },
      {
        "duration": 0,
        "start_time": "2023-03-20T20:30:35.976Z"
      },
      {
        "duration": 0,
        "start_time": "2023-03-20T20:30:35.977Z"
      },
      {
        "duration": 0,
        "start_time": "2023-03-20T20:30:35.979Z"
      },
      {
        "duration": 0,
        "start_time": "2023-03-20T20:30:35.980Z"
      },
      {
        "duration": 0,
        "start_time": "2023-03-20T20:30:35.981Z"
      },
      {
        "duration": 56,
        "start_time": "2023-03-20T20:32:39.465Z"
      },
      {
        "duration": 50,
        "start_time": "2023-03-20T20:32:46.660Z"
      },
      {
        "duration": 72,
        "start_time": "2023-03-20T20:32:59.569Z"
      },
      {
        "duration": 14,
        "start_time": "2023-03-20T20:33:51.335Z"
      },
      {
        "duration": 1427,
        "start_time": "2023-03-20T20:34:15.518Z"
      },
      {
        "duration": 16,
        "start_time": "2023-03-20T20:34:19.995Z"
      },
      {
        "duration": 1722,
        "start_time": "2023-03-20T20:36:39.320Z"
      },
      {
        "duration": 88,
        "start_time": "2023-03-20T20:36:52.160Z"
      },
      {
        "duration": 4,
        "start_time": "2023-03-20T20:36:56.533Z"
      },
      {
        "duration": 674,
        "start_time": "2023-03-20T20:36:56.540Z"
      },
      {
        "duration": 173,
        "start_time": "2023-03-20T20:36:57.215Z"
      },
      {
        "duration": 135,
        "start_time": "2023-03-20T20:36:57.391Z"
      },
      {
        "duration": 18,
        "start_time": "2023-03-20T20:36:57.548Z"
      },
      {
        "duration": 17,
        "start_time": "2023-03-20T20:36:57.568Z"
      },
      {
        "duration": 8,
        "start_time": "2023-03-20T20:36:57.587Z"
      },
      {
        "duration": 8,
        "start_time": "2023-03-20T20:36:57.596Z"
      },
      {
        "duration": 8,
        "start_time": "2023-03-20T20:36:57.607Z"
      },
      {
        "duration": 151,
        "start_time": "2023-03-20T20:36:57.640Z"
      },
      {
        "duration": 12,
        "start_time": "2023-03-20T20:36:57.793Z"
      },
      {
        "duration": 41,
        "start_time": "2023-03-20T20:36:57.808Z"
      },
      {
        "duration": 10,
        "start_time": "2023-03-20T20:36:57.851Z"
      },
      {
        "duration": 4,
        "start_time": "2023-03-20T20:36:57.863Z"
      },
      {
        "duration": 8,
        "start_time": "2023-03-20T20:36:57.869Z"
      },
      {
        "duration": 5,
        "start_time": "2023-03-20T20:36:57.880Z"
      },
      {
        "duration": 5,
        "start_time": "2023-03-20T20:36:57.887Z"
      },
      {
        "duration": 5,
        "start_time": "2023-03-20T20:36:57.893Z"
      },
      {
        "duration": 4,
        "start_time": "2023-03-20T20:36:57.899Z"
      },
      {
        "duration": 19,
        "start_time": "2023-03-20T20:36:57.940Z"
      },
      {
        "duration": 5,
        "start_time": "2023-03-20T20:36:57.961Z"
      },
      {
        "duration": 650,
        "start_time": "2023-03-20T20:36:57.968Z"
      },
      {
        "duration": 1203,
        "start_time": "2023-03-20T20:36:58.620Z"
      },
      {
        "duration": 903,
        "start_time": "2023-03-20T20:36:59.826Z"
      },
      {
        "duration": 545,
        "start_time": "2023-03-20T20:37:00.741Z"
      },
      {
        "duration": 500,
        "start_time": "2023-03-20T20:37:01.288Z"
      },
      {
        "duration": 9,
        "start_time": "2023-03-20T20:37:01.790Z"
      },
      {
        "duration": 194,
        "start_time": "2023-03-20T20:37:01.800Z"
      },
      {
        "duration": 186,
        "start_time": "2023-03-20T20:37:01.996Z"
      },
      {
        "duration": 189,
        "start_time": "2023-03-20T20:37:02.184Z"
      },
      {
        "duration": 8,
        "start_time": "2023-03-20T20:37:02.375Z"
      },
      {
        "duration": 209,
        "start_time": "2023-03-20T20:37:02.385Z"
      },
      {
        "duration": 204,
        "start_time": "2023-03-20T20:37:02.595Z"
      },
      {
        "duration": 199,
        "start_time": "2023-03-20T20:37:02.800Z"
      },
      {
        "duration": 2,
        "start_time": "2023-03-20T20:37:03.001Z"
      },
      {
        "duration": 18,
        "start_time": "2023-03-20T20:37:03.005Z"
      },
      {
        "duration": 30,
        "start_time": "2023-03-20T20:37:03.024Z"
      },
      {
        "duration": 20,
        "start_time": "2023-03-20T20:37:03.056Z"
      },
      {
        "duration": 0,
        "start_time": "2023-03-20T20:37:03.078Z"
      },
      {
        "duration": 0,
        "start_time": "2023-03-20T20:37:03.079Z"
      },
      {
        "duration": 0,
        "start_time": "2023-03-20T20:37:03.080Z"
      },
      {
        "duration": 0,
        "start_time": "2023-03-20T20:37:03.081Z"
      },
      {
        "duration": 0,
        "start_time": "2023-03-20T20:37:03.082Z"
      },
      {
        "duration": 0,
        "start_time": "2023-03-20T20:37:03.083Z"
      },
      {
        "duration": 0,
        "start_time": "2023-03-20T20:37:03.084Z"
      },
      {
        "duration": 0,
        "start_time": "2023-03-20T20:37:03.085Z"
      },
      {
        "duration": 21,
        "start_time": "2023-03-20T20:37:33.565Z"
      },
      {
        "duration": 21,
        "start_time": "2023-03-20T20:38:12.290Z"
      },
      {
        "duration": 18,
        "start_time": "2023-03-20T20:38:14.834Z"
      },
      {
        "duration": 3,
        "start_time": "2023-03-20T20:38:15.639Z"
      },
      {
        "duration": 3,
        "start_time": "2023-03-20T20:38:16.698Z"
      },
      {
        "duration": 4,
        "start_time": "2023-03-20T20:38:17.071Z"
      },
      {
        "duration": 3,
        "start_time": "2023-03-20T20:38:17.258Z"
      },
      {
        "duration": 5,
        "start_time": "2023-03-20T20:38:17.726Z"
      },
      {
        "duration": 1997,
        "start_time": "2023-03-20T20:38:18.756Z"
      },
      {
        "duration": 17,
        "start_time": "2023-03-20T20:38:23.233Z"
      },
      {
        "duration": 10,
        "start_time": "2023-03-20T20:38:59.320Z"
      },
      {
        "duration": 24,
        "start_time": "2023-03-20T20:42:57.070Z"
      },
      {
        "duration": 5,
        "start_time": "2023-03-20T20:44:38.796Z"
      },
      {
        "duration": 30,
        "start_time": "2023-03-20T20:44:42.453Z"
      },
      {
        "duration": 19,
        "start_time": "2023-03-20T20:49:04.322Z"
      },
      {
        "duration": 4,
        "start_time": "2023-03-20T20:49:20.099Z"
      },
      {
        "duration": 4,
        "start_time": "2023-03-20T20:49:21.006Z"
      },
      {
        "duration": 18,
        "start_time": "2023-03-20T20:49:23.567Z"
      },
      {
        "duration": 5,
        "start_time": "2023-03-20T20:49:37.402Z"
      },
      {
        "duration": 23,
        "start_time": "2023-03-20T20:49:41.456Z"
      },
      {
        "duration": 15,
        "start_time": "2023-03-20T20:50:20.845Z"
      },
      {
        "duration": 3,
        "start_time": "2023-03-20T20:50:26.236Z"
      },
      {
        "duration": 4,
        "start_time": "2023-03-20T20:50:26.846Z"
      },
      {
        "duration": 5,
        "start_time": "2023-03-20T20:50:27.759Z"
      },
      {
        "duration": 23,
        "start_time": "2023-03-20T20:50:33.379Z"
      },
      {
        "duration": 3,
        "start_time": "2023-03-20T20:51:38.356Z"
      },
      {
        "duration": 4,
        "start_time": "2023-03-20T20:51:44.709Z"
      },
      {
        "duration": 4345,
        "start_time": "2023-03-20T20:51:47.857Z"
      },
      {
        "duration": 4,
        "start_time": "2023-03-20T20:52:07.988Z"
      },
      {
        "duration": 1601,
        "start_time": "2023-03-20T20:52:08.940Z"
      },
      {
        "duration": 101,
        "start_time": "2023-03-20T20:52:10.547Z"
      },
      {
        "duration": 3990,
        "start_time": "2023-03-20T20:52:12.511Z"
      },
      {
        "duration": 3,
        "start_time": "2023-03-20T20:52:47.823Z"
      },
      {
        "duration": 5,
        "start_time": "2023-03-20T20:52:48.575Z"
      },
      {
        "duration": 3932,
        "start_time": "2023-03-20T20:52:51.654Z"
      },
      {
        "duration": 4,
        "start_time": "2023-03-20T20:53:01.532Z"
      },
      {
        "duration": 5,
        "start_time": "2023-03-20T20:53:02.859Z"
      },
      {
        "duration": 1510,
        "start_time": "2023-03-20T20:53:03.545Z"
      },
      {
        "duration": 183,
        "start_time": "2023-03-20T20:53:05.058Z"
      },
      {
        "duration": 4828,
        "start_time": "2023-03-20T20:53:05.244Z"
      },
      {
        "duration": 5,
        "start_time": "2023-03-20T20:53:23.107Z"
      },
      {
        "duration": 4581,
        "start_time": "2023-03-20T20:53:25.563Z"
      },
      {
        "duration": 8,
        "start_time": "2023-03-20T20:54:53.919Z"
      },
      {
        "duration": 3,
        "start_time": "2023-03-20T20:55:59.440Z"
      },
      {
        "duration": 5,
        "start_time": "2023-03-20T20:56:03.712Z"
      },
      {
        "duration": 369325,
        "start_time": "2023-03-20T20:56:17.260Z"
      },
      {
        "duration": 52,
        "start_time": "2023-03-20T21:02:41.082Z"
      },
      {
        "duration": 48,
        "start_time": "2023-03-20T21:03:01.862Z"
      },
      {
        "duration": 3,
        "start_time": "2023-03-20T21:03:07.545Z"
      },
      {
        "duration": 3,
        "start_time": "2023-03-20T21:03:55.299Z"
      },
      {
        "duration": 1620,
        "start_time": "2023-03-20T21:03:59.822Z"
      },
      {
        "duration": 197,
        "start_time": "2023-03-20T21:04:01.445Z"
      },
      {
        "duration": 4715,
        "start_time": "2023-03-20T21:04:01.646Z"
      },
      {
        "duration": 3,
        "start_time": "2023-03-20T21:04:06.363Z"
      },
      {
        "duration": 5,
        "start_time": "2023-03-20T21:04:06.804Z"
      },
      {
        "duration": 1690,
        "start_time": "2023-03-20T21:04:07.953Z"
      },
      {
        "duration": 49,
        "start_time": "2023-03-20T21:04:11.502Z"
      },
      {
        "duration": 8412,
        "start_time": "2023-03-20T21:04:13.482Z"
      },
      {
        "duration": 4,
        "start_time": "2023-03-20T21:04:39.441Z"
      },
      {
        "duration": 626,
        "start_time": "2023-03-20T21:04:39.447Z"
      },
      {
        "duration": 159,
        "start_time": "2023-03-20T21:04:40.075Z"
      },
      {
        "duration": 128,
        "start_time": "2023-03-20T21:04:40.236Z"
      },
      {
        "duration": 14,
        "start_time": "2023-03-20T21:04:40.366Z"
      },
      {
        "duration": 18,
        "start_time": "2023-03-20T21:04:40.381Z"
      },
      {
        "duration": 8,
        "start_time": "2023-03-20T21:04:40.400Z"
      },
      {
        "duration": 9,
        "start_time": "2023-03-20T21:04:40.441Z"
      },
      {
        "duration": 8,
        "start_time": "2023-03-20T21:04:40.453Z"
      },
      {
        "duration": 146,
        "start_time": "2023-03-20T21:04:40.463Z"
      },
      {
        "duration": 9,
        "start_time": "2023-03-20T21:04:40.611Z"
      },
      {
        "duration": 36,
        "start_time": "2023-03-20T21:04:40.621Z"
      },
      {
        "duration": 10,
        "start_time": "2023-03-20T21:04:40.659Z"
      },
      {
        "duration": 3,
        "start_time": "2023-03-20T21:04:40.671Z"
      },
      {
        "duration": 7,
        "start_time": "2023-03-20T21:04:40.676Z"
      },
      {
        "duration": 7,
        "start_time": "2023-03-20T21:04:40.684Z"
      },
      {
        "duration": 5,
        "start_time": "2023-03-20T21:04:40.692Z"
      },
      {
        "duration": 7,
        "start_time": "2023-03-20T21:04:40.698Z"
      },
      {
        "duration": 7,
        "start_time": "2023-03-20T21:04:40.706Z"
      },
      {
        "duration": 5,
        "start_time": "2023-03-20T21:04:40.740Z"
      },
      {
        "duration": 5,
        "start_time": "2023-03-20T21:04:40.747Z"
      },
      {
        "duration": 561,
        "start_time": "2023-03-20T21:04:40.754Z"
      },
      {
        "duration": 1097,
        "start_time": "2023-03-20T21:04:41.317Z"
      },
      {
        "duration": 853,
        "start_time": "2023-03-20T21:04:42.418Z"
      },
      {
        "duration": 489,
        "start_time": "2023-03-20T21:04:43.274Z"
      },
      {
        "duration": 404,
        "start_time": "2023-03-20T21:04:43.765Z"
      },
      {
        "duration": 10,
        "start_time": "2023-03-20T21:04:44.171Z"
      },
      {
        "duration": 173,
        "start_time": "2023-03-20T21:04:44.183Z"
      },
      {
        "duration": 174,
        "start_time": "2023-03-20T21:04:44.358Z"
      },
      {
        "duration": 167,
        "start_time": "2023-03-20T21:04:44.540Z"
      },
      {
        "duration": 7,
        "start_time": "2023-03-20T21:04:44.710Z"
      },
      {
        "duration": 192,
        "start_time": "2023-03-20T21:04:44.719Z"
      },
      {
        "duration": 172,
        "start_time": "2023-03-20T21:04:44.912Z"
      },
      {
        "duration": 172,
        "start_time": "2023-03-20T21:04:45.085Z"
      },
      {
        "duration": 3,
        "start_time": "2023-03-20T21:04:45.259Z"
      },
      {
        "duration": 8,
        "start_time": "2023-03-20T21:04:45.263Z"
      },
      {
        "duration": 10,
        "start_time": "2023-03-20T21:04:45.272Z"
      },
      {
        "duration": 26,
        "start_time": "2023-03-20T21:04:45.284Z"
      },
      {
        "duration": 32,
        "start_time": "2023-03-20T21:04:45.312Z"
      },
      {
        "duration": 3,
        "start_time": "2023-03-20T21:04:45.346Z"
      },
      {
        "duration": 4,
        "start_time": "2023-03-20T21:04:45.351Z"
      },
      {
        "duration": 4,
        "start_time": "2023-03-20T21:04:45.356Z"
      },
      {
        "duration": 7,
        "start_time": "2023-03-20T21:04:45.361Z"
      },
      {
        "duration": 6,
        "start_time": "2023-03-20T21:04:45.369Z"
      },
      {
        "duration": 1466,
        "start_time": "2023-03-20T21:04:45.376Z"
      },
      {
        "duration": 103,
        "start_time": "2023-03-20T21:04:46.845Z"
      },
      {
        "duration": 21686,
        "start_time": "2023-03-20T21:04:46.950Z"
      },
      {
        "duration": 7,
        "start_time": "2023-03-20T21:05:08.638Z"
      },
      {
        "duration": 1256945,
        "start_time": "2023-03-20T21:05:43.858Z"
      },
      {
        "duration": 87,
        "start_time": "2023-03-20T21:26:40.805Z"
      },
      {
        "duration": 3,
        "start_time": "2023-03-20T21:26:40.893Z"
      },
      {
        "duration": 10,
        "start_time": "2023-03-20T21:26:40.898Z"
      },
      {
        "duration": 3,
        "start_time": "2023-03-20T21:30:59.136Z"
      },
      {
        "duration": 11,
        "start_time": "2023-03-20T21:31:00.577Z"
      },
      {
        "duration": 5,
        "start_time": "2023-03-20T21:31:25.438Z"
      },
      {
        "duration": 3,
        "start_time": "2023-03-20T21:33:08.469Z"
      },
      {
        "duration": 9,
        "start_time": "2023-03-20T21:34:51.063Z"
      },
      {
        "duration": 6,
        "start_time": "2023-03-20T21:35:30.221Z"
      },
      {
        "duration": 5,
        "start_time": "2023-03-20T21:35:44.296Z"
      },
      {
        "duration": 9,
        "start_time": "2023-03-20T21:35:58.807Z"
      },
      {
        "duration": 6,
        "start_time": "2023-03-20T21:36:04.967Z"
      },
      {
        "duration": 9,
        "start_time": "2023-03-20T21:37:34.859Z"
      },
      {
        "duration": 5,
        "start_time": "2023-03-20T21:37:52.060Z"
      },
      {
        "duration": 686,
        "start_time": "2023-03-20T21:37:52.067Z"
      },
      {
        "duration": 17,
        "start_time": "2023-03-20T21:37:52.755Z"
      },
      {
        "duration": 132,
        "start_time": "2023-03-20T21:37:52.773Z"
      },
      {
        "duration": 14,
        "start_time": "2023-03-20T21:37:52.906Z"
      },
      {
        "duration": 35,
        "start_time": "2023-03-20T21:37:52.922Z"
      },
      {
        "duration": 18,
        "start_time": "2023-03-20T21:37:52.959Z"
      },
      {
        "duration": 13,
        "start_time": "2023-03-20T21:37:52.978Z"
      },
      {
        "duration": 9,
        "start_time": "2023-03-20T21:37:52.994Z"
      },
      {
        "duration": 138,
        "start_time": "2023-03-20T21:37:53.004Z"
      },
      {
        "duration": 10,
        "start_time": "2023-03-20T21:37:53.145Z"
      },
      {
        "duration": 20,
        "start_time": "2023-03-20T21:37:53.156Z"
      },
      {
        "duration": 10,
        "start_time": "2023-03-20T21:37:53.178Z"
      },
      {
        "duration": 4,
        "start_time": "2023-03-20T21:37:53.189Z"
      },
      {
        "duration": 10,
        "start_time": "2023-03-20T21:37:53.194Z"
      },
      {
        "duration": 37,
        "start_time": "2023-03-20T21:37:53.206Z"
      },
      {
        "duration": 9,
        "start_time": "2023-03-20T21:37:53.245Z"
      },
      {
        "duration": 5,
        "start_time": "2023-03-20T21:37:53.255Z"
      },
      {
        "duration": 4,
        "start_time": "2023-03-20T21:37:53.261Z"
      },
      {
        "duration": 23,
        "start_time": "2023-03-20T21:37:53.266Z"
      },
      {
        "duration": 8,
        "start_time": "2023-03-20T21:37:53.291Z"
      },
      {
        "duration": 574,
        "start_time": "2023-03-20T21:37:53.301Z"
      },
      {
        "duration": 940,
        "start_time": "2023-03-20T21:37:53.877Z"
      },
      {
        "duration": 874,
        "start_time": "2023-03-20T21:37:54.821Z"
      },
      {
        "duration": 476,
        "start_time": "2023-03-20T21:37:55.697Z"
      },
      {
        "duration": 495,
        "start_time": "2023-03-20T21:37:56.175Z"
      },
      {
        "duration": 9,
        "start_time": "2023-03-20T21:37:56.672Z"
      },
      {
        "duration": 178,
        "start_time": "2023-03-20T21:37:56.683Z"
      },
      {
        "duration": 167,
        "start_time": "2023-03-20T21:37:56.863Z"
      },
      {
        "duration": 183,
        "start_time": "2023-03-20T21:37:57.032Z"
      },
      {
        "duration": 24,
        "start_time": "2023-03-20T21:37:57.217Z"
      },
      {
        "duration": 172,
        "start_time": "2023-03-20T21:37:57.243Z"
      },
      {
        "duration": 195,
        "start_time": "2023-03-20T21:37:57.416Z"
      },
      {
        "duration": 169,
        "start_time": "2023-03-20T21:37:57.613Z"
      },
      {
        "duration": 4,
        "start_time": "2023-03-20T21:37:57.784Z"
      },
      {
        "duration": 7,
        "start_time": "2023-03-20T21:37:57.789Z"
      },
      {
        "duration": 4,
        "start_time": "2023-03-20T21:37:57.798Z"
      },
      {
        "duration": 45,
        "start_time": "2023-03-20T21:37:57.804Z"
      },
      {
        "duration": 14,
        "start_time": "2023-03-20T21:37:57.850Z"
      },
      {
        "duration": 2,
        "start_time": "2023-03-20T21:37:57.866Z"
      },
      {
        "duration": 4,
        "start_time": "2023-03-20T21:37:57.869Z"
      },
      {
        "duration": 3,
        "start_time": "2023-03-20T21:37:57.875Z"
      },
      {
        "duration": 6,
        "start_time": "2023-03-20T21:37:57.880Z"
      },
      {
        "duration": 5,
        "start_time": "2023-03-20T21:37:57.887Z"
      },
      {
        "duration": 1461,
        "start_time": "2023-03-20T21:37:57.893Z"
      },
      {
        "duration": 107,
        "start_time": "2023-03-20T21:37:59.442Z"
      },
      {
        "duration": 22671,
        "start_time": "2023-03-20T21:37:59.553Z"
      },
      {
        "duration": 16,
        "start_time": "2023-03-20T21:38:22.226Z"
      },
      {
        "duration": 795003,
        "start_time": "2023-03-20T21:38:22.243Z"
      },
      {
        "duration": 72,
        "start_time": "2023-03-20T21:51:37.248Z"
      },
      {
        "duration": 3430,
        "start_time": "2023-03-20T21:51:37.323Z"
      },
      {
        "duration": 190,
        "start_time": "2023-03-20T21:51:40.755Z"
      },
      {
        "duration": 22783,
        "start_time": "2023-03-20T21:51:40.947Z"
      },
      {
        "duration": 10,
        "start_time": "2023-03-20T21:52:03.731Z"
      },
      {
        "duration": 892311,
        "start_time": "2023-03-20T21:52:03.743Z"
      },
      {
        "duration": 72,
        "start_time": "2023-03-20T22:06:56.055Z"
      },
      {
        "duration": 12,
        "start_time": "2023-03-20T22:06:56.129Z"
      },
      {
        "duration": 13,
        "start_time": "2023-03-20T22:06:56.143Z"
      },
      {
        "duration": 4,
        "start_time": "2023-03-20T22:06:56.159Z"
      },
      {
        "duration": 15,
        "start_time": "2023-03-20T22:06:56.166Z"
      },
      {
        "duration": 4,
        "start_time": "2023-03-20T22:12:04.606Z"
      },
      {
        "duration": 4,
        "start_time": "2023-03-20T22:12:06.715Z"
      },
      {
        "duration": 12,
        "start_time": "2023-03-20T22:12:12.173Z"
      },
      {
        "duration": 10,
        "start_time": "2023-03-20T22:12:22.438Z"
      },
      {
        "duration": 57,
        "start_time": "2023-03-20T22:12:25.721Z"
      },
      {
        "duration": 9,
        "start_time": "2023-03-20T22:12:36.086Z"
      },
      {
        "duration": 7,
        "start_time": "2023-03-20T22:12:43.409Z"
      },
      {
        "duration": 74,
        "start_time": "2023-03-20T22:12:47.009Z"
      },
      {
        "duration": 8,
        "start_time": "2023-03-20T22:12:58.870Z"
      },
      {
        "duration": 13,
        "start_time": "2023-03-20T22:20:20.865Z"
      },
      {
        "duration": 4,
        "start_time": "2023-03-20T22:20:25.527Z"
      },
      {
        "duration": 63,
        "start_time": "2023-03-20T22:21:00.814Z"
      },
      {
        "duration": 4,
        "start_time": "2023-03-20T22:21:06.154Z"
      },
      {
        "duration": 4,
        "start_time": "2023-03-20T22:21:42.513Z"
      },
      {
        "duration": 3,
        "start_time": "2023-03-20T22:22:40.929Z"
      },
      {
        "duration": 70,
        "start_time": "2023-03-20T22:23:37.814Z"
      },
      {
        "duration": 7,
        "start_time": "2023-03-20T22:23:42.296Z"
      },
      {
        "duration": 50,
        "start_time": "2023-03-22T10:08:34.880Z"
      },
      {
        "duration": 6,
        "start_time": "2023-03-22T10:08:51.147Z"
      },
      {
        "duration": 1616,
        "start_time": "2023-03-22T10:10:06.137Z"
      },
      {
        "duration": 2040,
        "start_time": "2023-03-22T10:10:07.755Z"
      },
      {
        "duration": 23,
        "start_time": "2023-03-22T10:10:09.797Z"
      },
      {
        "duration": 132,
        "start_time": "2023-03-22T10:10:09.823Z"
      },
      {
        "duration": 19,
        "start_time": "2023-03-22T10:10:09.956Z"
      },
      {
        "duration": 50,
        "start_time": "2023-03-22T10:10:09.977Z"
      },
      {
        "duration": 10,
        "start_time": "2023-03-22T10:10:10.030Z"
      },
      {
        "duration": 13,
        "start_time": "2023-03-22T10:10:10.042Z"
      },
      {
        "duration": 19,
        "start_time": "2023-03-22T10:10:10.057Z"
      },
      {
        "duration": 174,
        "start_time": "2023-03-22T10:10:10.079Z"
      },
      {
        "duration": 16,
        "start_time": "2023-03-22T10:10:10.255Z"
      },
      {
        "duration": 15,
        "start_time": "2023-03-22T10:10:17.581Z"
      },
      {
        "duration": 4,
        "start_time": "2023-03-22T10:11:04.883Z"
      },
      {
        "duration": 654,
        "start_time": "2023-03-22T10:11:04.889Z"
      },
      {
        "duration": 16,
        "start_time": "2023-03-22T10:11:05.545Z"
      },
      {
        "duration": 128,
        "start_time": "2023-03-22T10:11:05.562Z"
      },
      {
        "duration": 13,
        "start_time": "2023-03-22T10:11:05.692Z"
      },
      {
        "duration": 18,
        "start_time": "2023-03-22T10:11:05.724Z"
      },
      {
        "duration": 8,
        "start_time": "2023-03-22T10:11:05.743Z"
      },
      {
        "duration": 10,
        "start_time": "2023-03-22T10:11:05.752Z"
      },
      {
        "duration": 8,
        "start_time": "2023-03-22T10:11:05.763Z"
      },
      {
        "duration": 170,
        "start_time": "2023-03-22T10:11:05.772Z"
      },
      {
        "duration": 9,
        "start_time": "2023-03-22T10:11:05.944Z"
      },
      {
        "duration": 108,
        "start_time": "2023-03-22T10:11:21.338Z"
      },
      {
        "duration": 6,
        "start_time": "2023-03-22T10:11:36.679Z"
      },
      {
        "duration": 159,
        "start_time": "2023-03-22T10:11:59.929Z"
      },
      {
        "duration": 64,
        "start_time": "2023-03-22T10:13:38.511Z"
      },
      {
        "duration": 94,
        "start_time": "2023-03-22T10:15:32.384Z"
      },
      {
        "duration": 225,
        "start_time": "2023-03-22T10:34:52.645Z"
      },
      {
        "duration": 64,
        "start_time": "2023-03-22T10:47:16.397Z"
      },
      {
        "duration": 69,
        "start_time": "2023-03-22T10:47:22.740Z"
      },
      {
        "duration": 285,
        "start_time": "2023-03-22T10:54:05.116Z"
      },
      {
        "duration": 65,
        "start_time": "2023-03-22T11:13:28.499Z"
      },
      {
        "duration": 71,
        "start_time": "2023-03-22T11:14:01.811Z"
      },
      {
        "duration": 65,
        "start_time": "2023-03-22T11:14:03.486Z"
      },
      {
        "duration": 200,
        "start_time": "2023-03-22T11:14:13.045Z"
      },
      {
        "duration": 74,
        "start_time": "2023-03-22T11:14:38.681Z"
      },
      {
        "duration": 74,
        "start_time": "2023-03-22T11:14:41.359Z"
      },
      {
        "duration": 64,
        "start_time": "2023-03-22T11:17:36.616Z"
      },
      {
        "duration": 338,
        "start_time": "2023-03-22T11:17:40.095Z"
      },
      {
        "duration": 92,
        "start_time": "2023-03-22T11:19:57.903Z"
      },
      {
        "duration": 83,
        "start_time": "2023-03-22T11:25:14.643Z"
      },
      {
        "duration": 83,
        "start_time": "2023-03-22T11:40:13.133Z"
      },
      {
        "duration": 149,
        "start_time": "2023-03-22T11:40:19.919Z"
      },
      {
        "duration": 108,
        "start_time": "2023-03-22T11:40:55.897Z"
      },
      {
        "duration": 7,
        "start_time": "2023-03-22T11:42:52.509Z"
      },
      {
        "duration": 12,
        "start_time": "2023-03-22T11:42:55.900Z"
      },
      {
        "duration": 61,
        "start_time": "2023-03-22T12:15:59.820Z"
      },
      {
        "duration": 235,
        "start_time": "2023-03-22T12:16:07.574Z"
      },
      {
        "duration": 72,
        "start_time": "2023-03-22T12:18:04.449Z"
      },
      {
        "duration": 67,
        "start_time": "2023-03-22T12:23:45.745Z"
      },
      {
        "duration": 77,
        "start_time": "2023-03-22T12:31:26.306Z"
      },
      {
        "duration": 97,
        "start_time": "2023-03-22T12:32:34.401Z"
      },
      {
        "duration": 101,
        "start_time": "2023-03-22T12:35:41.083Z"
      },
      {
        "duration": 98,
        "start_time": "2023-03-22T12:35:56.864Z"
      },
      {
        "duration": 126,
        "start_time": "2023-03-22T12:36:00.812Z"
      },
      {
        "duration": 73,
        "start_time": "2023-03-22T12:37:21.397Z"
      },
      {
        "duration": 6,
        "start_time": "2023-03-22T12:42:20.023Z"
      },
      {
        "duration": 5,
        "start_time": "2023-03-22T12:42:34.608Z"
      },
      {
        "duration": 4,
        "start_time": "2023-03-22T12:45:47.490Z"
      },
      {
        "duration": 852,
        "start_time": "2023-03-22T12:45:47.496Z"
      },
      {
        "duration": 17,
        "start_time": "2023-03-22T12:45:48.350Z"
      },
      {
        "duration": 177,
        "start_time": "2023-03-22T12:45:48.369Z"
      },
      {
        "duration": 17,
        "start_time": "2023-03-22T12:45:48.548Z"
      },
      {
        "duration": 24,
        "start_time": "2023-03-22T12:45:48.567Z"
      },
      {
        "duration": 11,
        "start_time": "2023-03-22T12:45:48.593Z"
      },
      {
        "duration": 34,
        "start_time": "2023-03-22T12:45:48.605Z"
      },
      {
        "duration": 12,
        "start_time": "2023-03-22T12:45:48.646Z"
      },
      {
        "duration": 149,
        "start_time": "2023-03-22T12:45:48.660Z"
      },
      {
        "duration": 24,
        "start_time": "2023-03-22T12:45:48.811Z"
      },
      {
        "duration": 89,
        "start_time": "2023-03-22T12:45:48.837Z"
      },
      {
        "duration": 66,
        "start_time": "2023-03-22T12:45:48.928Z"
      },
      {
        "duration": 9,
        "start_time": "2023-03-22T12:45:48.996Z"
      },
      {
        "duration": 62,
        "start_time": "2023-03-22T12:45:49.024Z"
      },
      {
        "duration": 81,
        "start_time": "2023-03-22T12:45:49.088Z"
      },
      {
        "duration": 76,
        "start_time": "2023-03-22T12:45:49.170Z"
      },
      {
        "duration": 12,
        "start_time": "2023-03-22T12:49:10.853Z"
      },
      {
        "duration": 5,
        "start_time": "2023-03-22T12:49:14.626Z"
      },
      {
        "duration": 768,
        "start_time": "2023-03-22T12:49:14.636Z"
      },
      {
        "duration": 18,
        "start_time": "2023-03-22T12:49:15.406Z"
      },
      {
        "duration": 136,
        "start_time": "2023-03-22T12:49:15.429Z"
      },
      {
        "duration": 12,
        "start_time": "2023-03-22T12:49:15.567Z"
      },
      {
        "duration": 18,
        "start_time": "2023-03-22T12:49:15.581Z"
      },
      {
        "duration": 16,
        "start_time": "2023-03-22T12:49:15.622Z"
      },
      {
        "duration": 11,
        "start_time": "2023-03-22T12:49:15.642Z"
      },
      {
        "duration": 10,
        "start_time": "2023-03-22T12:49:15.655Z"
      },
      {
        "duration": 185,
        "start_time": "2023-03-22T12:49:15.667Z"
      },
      {
        "duration": 11,
        "start_time": "2023-03-22T12:49:15.853Z"
      },
      {
        "duration": 96,
        "start_time": "2023-03-22T12:49:15.866Z"
      },
      {
        "duration": 56,
        "start_time": "2023-03-22T12:49:15.964Z"
      },
      {
        "duration": 11,
        "start_time": "2023-03-22T12:49:16.024Z"
      },
      {
        "duration": 64,
        "start_time": "2023-03-22T12:49:16.037Z"
      },
      {
        "duration": 82,
        "start_time": "2023-03-22T12:49:16.102Z"
      },
      {
        "duration": 73,
        "start_time": "2023-03-22T12:49:16.185Z"
      },
      {
        "duration": 21,
        "start_time": "2023-03-22T12:49:16.261Z"
      },
      {
        "duration": 10,
        "start_time": "2023-03-22T12:49:17.691Z"
      },
      {
        "duration": 5,
        "start_time": "2023-03-22T12:53:00.345Z"
      },
      {
        "duration": 887,
        "start_time": "2023-03-22T12:53:00.352Z"
      },
      {
        "duration": 17,
        "start_time": "2023-03-22T12:53:01.241Z"
      },
      {
        "duration": 195,
        "start_time": "2023-03-22T12:53:01.261Z"
      },
      {
        "duration": 16,
        "start_time": "2023-03-22T12:53:01.458Z"
      },
      {
        "duration": 32,
        "start_time": "2023-03-22T12:53:01.476Z"
      },
      {
        "duration": 17,
        "start_time": "2023-03-22T12:53:01.510Z"
      },
      {
        "duration": 29,
        "start_time": "2023-03-22T12:53:01.530Z"
      },
      {
        "duration": 29,
        "start_time": "2023-03-22T12:53:01.562Z"
      },
      {
        "duration": 180,
        "start_time": "2023-03-22T12:53:01.593Z"
      },
      {
        "duration": 11,
        "start_time": "2023-03-22T12:53:01.775Z"
      },
      {
        "duration": 88,
        "start_time": "2023-03-22T12:53:01.788Z"
      },
      {
        "duration": 87,
        "start_time": "2023-03-22T12:53:01.877Z"
      },
      {
        "duration": 25,
        "start_time": "2023-03-22T12:53:01.968Z"
      },
      {
        "duration": 95,
        "start_time": "2023-03-22T12:53:01.995Z"
      },
      {
        "duration": 88,
        "start_time": "2023-03-22T12:53:02.092Z"
      },
      {
        "duration": 89,
        "start_time": "2023-03-22T12:53:02.182Z"
      },
      {
        "duration": 21,
        "start_time": "2023-03-22T12:53:02.273Z"
      },
      {
        "duration": 9,
        "start_time": "2023-03-22T12:53:02.295Z"
      },
      {
        "duration": 17,
        "start_time": "2023-03-22T12:53:02.306Z"
      },
      {
        "duration": 12,
        "start_time": "2023-03-22T12:53:02.331Z"
      },
      {
        "duration": 9,
        "start_time": "2023-03-22T12:53:02.344Z"
      },
      {
        "duration": 17,
        "start_time": "2023-03-22T12:53:02.354Z"
      },
      {
        "duration": 16,
        "start_time": "2023-03-22T12:53:02.374Z"
      },
      {
        "duration": 5,
        "start_time": "2023-03-22T12:53:02.392Z"
      },
      {
        "duration": 11,
        "start_time": "2023-03-22T12:53:02.398Z"
      },
      {
        "duration": 3,
        "start_time": "2023-03-22T12:57:11.748Z"
      },
      {
        "duration": 3,
        "start_time": "2023-03-22T12:57:43.452Z"
      },
      {
        "duration": 28,
        "start_time": "2023-03-22T12:58:00.523Z"
      },
      {
        "duration": 134,
        "start_time": "2023-03-22T12:58:09.989Z"
      },
      {
        "duration": 4,
        "start_time": "2023-03-22T12:59:00.865Z"
      },
      {
        "duration": 112,
        "start_time": "2023-03-22T12:59:02.464Z"
      },
      {
        "duration": 5,
        "start_time": "2023-03-22T12:59:19.665Z"
      },
      {
        "duration": 180,
        "start_time": "2023-03-22T12:59:23.366Z"
      },
      {
        "duration": 133,
        "start_time": "2023-03-22T12:59:50.500Z"
      },
      {
        "duration": 108,
        "start_time": "2023-03-22T13:00:50.948Z"
      },
      {
        "duration": 20,
        "start_time": "2023-03-22T13:01:22.013Z"
      },
      {
        "duration": 97,
        "start_time": "2023-03-22T13:03:20.544Z"
      },
      {
        "duration": 8,
        "start_time": "2023-03-22T13:03:42.890Z"
      },
      {
        "duration": 24,
        "start_time": "2023-03-22T13:03:45.705Z"
      },
      {
        "duration": 18,
        "start_time": "2023-03-22T13:04:25.833Z"
      },
      {
        "duration": 18,
        "start_time": "2023-03-22T13:04:29.834Z"
      },
      {
        "duration": 10,
        "start_time": "2023-03-22T13:04:35.884Z"
      },
      {
        "duration": 537,
        "start_time": "2023-03-22T13:04:37.528Z"
      },
      {
        "duration": 1046,
        "start_time": "2023-03-22T13:04:42.445Z"
      },
      {
        "duration": 703,
        "start_time": "2023-03-22T13:04:51.475Z"
      },
      {
        "duration": 16,
        "start_time": "2023-03-22T13:05:48.531Z"
      },
      {
        "duration": 27,
        "start_time": "2023-03-22T13:05:50.621Z"
      },
      {
        "duration": 4,
        "start_time": "2023-03-22T13:08:32.854Z"
      },
      {
        "duration": 636,
        "start_time": "2023-03-22T13:08:34.822Z"
      },
      {
        "duration": 1094,
        "start_time": "2023-03-22T13:08:40.562Z"
      },
      {
        "duration": 5,
        "start_time": "2023-03-22T13:08:48.579Z"
      },
      {
        "duration": 553,
        "start_time": "2023-03-22T13:08:48.885Z"
      },
      {
        "duration": 1053,
        "start_time": "2023-03-22T13:08:52.353Z"
      },
      {
        "duration": 5,
        "start_time": "2023-03-22T13:09:25.698Z"
      },
      {
        "duration": 548,
        "start_time": "2023-03-22T13:09:27.163Z"
      },
      {
        "duration": 946,
        "start_time": "2023-03-22T13:09:31.238Z"
      },
      {
        "duration": 5,
        "start_time": "2023-03-22T13:10:06.770Z"
      },
      {
        "duration": 687,
        "start_time": "2023-03-22T13:10:07.139Z"
      },
      {
        "duration": 1001,
        "start_time": "2023-03-22T13:10:09.191Z"
      },
      {
        "duration": 866,
        "start_time": "2023-03-22T13:10:13.988Z"
      },
      {
        "duration": 6,
        "start_time": "2023-03-22T13:17:19.688Z"
      },
      {
        "duration": 1023,
        "start_time": "2023-03-22T13:17:19.697Z"
      },
      {
        "duration": 23,
        "start_time": "2023-03-22T13:17:20.724Z"
      },
      {
        "duration": 211,
        "start_time": "2023-03-22T13:17:20.752Z"
      },
      {
        "duration": 38,
        "start_time": "2023-03-22T13:17:20.965Z"
      },
      {
        "duration": 24,
        "start_time": "2023-03-22T13:17:21.008Z"
      },
      {
        "duration": 11,
        "start_time": "2023-03-22T13:17:21.034Z"
      },
      {
        "duration": 19,
        "start_time": "2023-03-22T13:17:21.047Z"
      },
      {
        "duration": 20,
        "start_time": "2023-03-22T13:17:21.068Z"
      },
      {
        "duration": 174,
        "start_time": "2023-03-22T13:17:21.092Z"
      },
      {
        "duration": 11,
        "start_time": "2023-03-22T13:17:21.272Z"
      },
      {
        "duration": 89,
        "start_time": "2023-03-22T13:17:21.285Z"
      },
      {
        "duration": 74,
        "start_time": "2023-03-22T13:17:21.376Z"
      },
      {
        "duration": 16,
        "start_time": "2023-03-22T13:17:21.452Z"
      },
      {
        "duration": 87,
        "start_time": "2023-03-22T13:17:21.470Z"
      },
      {
        "duration": 74,
        "start_time": "2023-03-22T13:17:21.559Z"
      },
      {
        "duration": 67,
        "start_time": "2023-03-22T13:17:21.635Z"
      },
      {
        "duration": 41,
        "start_time": "2023-03-22T13:17:21.705Z"
      },
      {
        "duration": 13,
        "start_time": "2023-03-22T13:17:21.748Z"
      },
      {
        "duration": 14,
        "start_time": "2023-03-22T13:17:21.763Z"
      },
      {
        "duration": 39,
        "start_time": "2023-03-22T13:17:21.778Z"
      },
      {
        "duration": 32,
        "start_time": "2023-03-22T13:17:21.819Z"
      },
      {
        "duration": 5,
        "start_time": "2023-03-22T13:17:21.854Z"
      },
      {
        "duration": 5,
        "start_time": "2023-03-22T13:17:21.861Z"
      },
      {
        "duration": 6,
        "start_time": "2023-03-22T13:17:21.868Z"
      },
      {
        "duration": 8,
        "start_time": "2023-03-22T13:17:21.876Z"
      },
      {
        "duration": 25,
        "start_time": "2023-03-22T13:17:21.886Z"
      },
      {
        "duration": 22,
        "start_time": "2023-03-22T13:17:21.915Z"
      },
      {
        "duration": 6,
        "start_time": "2023-03-22T13:17:21.938Z"
      },
      {
        "duration": 615,
        "start_time": "2023-03-22T13:17:21.946Z"
      },
      {
        "duration": 1103,
        "start_time": "2023-03-22T13:17:22.563Z"
      },
      {
        "duration": 917,
        "start_time": "2023-03-22T13:17:23.668Z"
      },
      {
        "duration": 707,
        "start_time": "2023-03-22T13:17:24.587Z"
      },
      {
        "duration": 590,
        "start_time": "2023-03-22T13:17:25.297Z"
      },
      {
        "duration": 6,
        "start_time": "2023-03-22T13:21:51.712Z"
      },
      {
        "duration": 194,
        "start_time": "2023-03-22T13:23:00.754Z"
      },
      {
        "duration": 12,
        "start_time": "2023-03-22T13:23:25.347Z"
      },
      {
        "duration": 10,
        "start_time": "2023-03-22T13:23:26.923Z"
      },
      {
        "duration": 996,
        "start_time": "2023-03-22T13:23:30.845Z"
      },
      {
        "duration": 12,
        "start_time": "2023-03-22T13:26:05.954Z"
      },
      {
        "duration": 9,
        "start_time": "2023-03-22T13:26:10.239Z"
      },
      {
        "duration": 991,
        "start_time": "2023-03-22T13:26:10.621Z"
      },
      {
        "duration": 7,
        "start_time": "2023-03-22T13:26:55.029Z"
      },
      {
        "duration": 5,
        "start_time": "2023-03-22T13:28:46.237Z"
      },
      {
        "duration": 2,
        "start_time": "2023-03-22T13:28:48.741Z"
      },
      {
        "duration": 3,
        "start_time": "2023-03-22T13:30:20.455Z"
      },
      {
        "duration": 2,
        "start_time": "2023-03-22T13:30:22.818Z"
      },
      {
        "duration": 2,
        "start_time": "2023-03-22T13:30:24.644Z"
      },
      {
        "duration": 9,
        "start_time": "2023-03-22T13:30:28.544Z"
      },
      {
        "duration": 9,
        "start_time": "2023-03-22T13:30:29.862Z"
      },
      {
        "duration": 481,
        "start_time": "2023-03-22T13:30:40.228Z"
      },
      {
        "duration": 5,
        "start_time": "2023-03-22T13:33:07.061Z"
      },
      {
        "duration": 1447,
        "start_time": "2023-03-22T13:33:07.068Z"
      },
      {
        "duration": 17,
        "start_time": "2023-03-22T13:33:08.517Z"
      },
      {
        "duration": 122,
        "start_time": "2023-03-22T13:33:08.536Z"
      },
      {
        "duration": 13,
        "start_time": "2023-03-22T13:33:08.661Z"
      },
      {
        "duration": 17,
        "start_time": "2023-03-22T13:33:08.676Z"
      },
      {
        "duration": 34,
        "start_time": "2023-03-22T13:33:08.695Z"
      },
      {
        "duration": 13,
        "start_time": "2023-03-22T13:33:08.731Z"
      },
      {
        "duration": 10,
        "start_time": "2023-03-22T13:33:08.746Z"
      },
      {
        "duration": 144,
        "start_time": "2023-03-22T13:33:08.757Z"
      },
      {
        "duration": 10,
        "start_time": "2023-03-22T13:33:08.903Z"
      },
      {
        "duration": 54,
        "start_time": "2023-03-22T13:33:08.923Z"
      },
      {
        "duration": 71,
        "start_time": "2023-03-22T13:33:08.979Z"
      },
      {
        "duration": 8,
        "start_time": "2023-03-22T13:33:09.052Z"
      },
      {
        "duration": 69,
        "start_time": "2023-03-22T13:33:09.062Z"
      },
      {
        "duration": 61,
        "start_time": "2023-03-22T13:33:09.132Z"
      },
      {
        "duration": 78,
        "start_time": "2023-03-22T13:33:09.194Z"
      },
      {
        "duration": 23,
        "start_time": "2023-03-22T13:33:09.273Z"
      },
      {
        "duration": 26,
        "start_time": "2023-03-22T13:33:09.298Z"
      },
      {
        "duration": 3,
        "start_time": "2023-03-22T13:33:09.326Z"
      },
      {
        "duration": 11,
        "start_time": "2023-03-22T13:33:09.330Z"
      },
      {
        "duration": 7,
        "start_time": "2023-03-22T13:33:09.343Z"
      },
      {
        "duration": 9,
        "start_time": "2023-03-22T13:33:09.352Z"
      },
      {
        "duration": 4,
        "start_time": "2023-03-22T13:33:09.363Z"
      },
      {
        "duration": 12,
        "start_time": "2023-03-22T13:33:09.368Z"
      },
      {
        "duration": 20,
        "start_time": "2023-03-22T13:33:09.382Z"
      },
      {
        "duration": 37,
        "start_time": "2023-03-22T13:33:09.403Z"
      },
      {
        "duration": 16,
        "start_time": "2023-03-22T13:33:09.441Z"
      },
      {
        "duration": 5,
        "start_time": "2023-03-22T13:33:09.461Z"
      },
      {
        "duration": 532,
        "start_time": "2023-03-22T13:33:09.468Z"
      },
      {
        "duration": 1158,
        "start_time": "2023-03-22T13:33:10.002Z"
      },
      {
        "duration": 682,
        "start_time": "2023-03-22T13:33:11.162Z"
      },
      {
        "duration": 499,
        "start_time": "2023-03-22T13:33:11.846Z"
      },
      {
        "duration": 601,
        "start_time": "2023-03-22T13:33:12.347Z"
      },
      {
        "duration": 7,
        "start_time": "2023-03-22T13:33:12.950Z"
      },
      {
        "duration": 6,
        "start_time": "2023-03-22T13:33:12.959Z"
      },
      {
        "duration": 822,
        "start_time": "2023-03-22T13:33:12.966Z"
      },
      {
        "duration": 2,
        "start_time": "2023-03-22T13:33:13.790Z"
      },
      {
        "duration": 6,
        "start_time": "2023-03-22T13:33:13.793Z"
      },
      {
        "duration": 4,
        "start_time": "2023-03-22T13:33:13.800Z"
      },
      {
        "duration": 18,
        "start_time": "2023-03-22T13:33:13.806Z"
      },
      {
        "duration": 406,
        "start_time": "2023-03-22T13:33:13.826Z"
      },
      {
        "duration": 3,
        "start_time": "2023-03-22T13:33:14.233Z"
      },
      {
        "duration": 18,
        "start_time": "2023-03-22T13:33:14.238Z"
      },
      {
        "duration": 11,
        "start_time": "2023-03-22T13:33:14.258Z"
      },
      {
        "duration": 25,
        "start_time": "2023-03-22T13:33:14.271Z"
      },
      {
        "duration": 4,
        "start_time": "2023-03-22T13:33:14.298Z"
      },
      {
        "duration": 11,
        "start_time": "2023-03-22T13:33:14.303Z"
      },
      {
        "duration": 21,
        "start_time": "2023-03-22T13:33:14.316Z"
      },
      {
        "duration": 9,
        "start_time": "2023-03-22T13:33:14.339Z"
      },
      {
        "duration": 27,
        "start_time": "2023-03-22T13:33:14.350Z"
      },
      {
        "duration": 4,
        "start_time": "2023-03-22T13:39:14.317Z"
      },
      {
        "duration": 708,
        "start_time": "2023-03-22T13:39:14.323Z"
      },
      {
        "duration": 17,
        "start_time": "2023-03-22T13:39:15.032Z"
      },
      {
        "duration": 132,
        "start_time": "2023-03-22T13:39:15.051Z"
      },
      {
        "duration": 14,
        "start_time": "2023-03-22T13:39:15.185Z"
      },
      {
        "duration": 35,
        "start_time": "2023-03-22T13:39:15.200Z"
      },
      {
        "duration": 8,
        "start_time": "2023-03-22T13:39:15.236Z"
      },
      {
        "duration": 13,
        "start_time": "2023-03-22T13:39:15.246Z"
      },
      {
        "duration": 10,
        "start_time": "2023-03-22T13:39:15.260Z"
      },
      {
        "duration": 161,
        "start_time": "2023-03-22T13:39:15.272Z"
      },
      {
        "duration": 10,
        "start_time": "2023-03-22T13:39:15.435Z"
      },
      {
        "duration": 76,
        "start_time": "2023-03-22T13:39:15.447Z"
      },
      {
        "duration": 57,
        "start_time": "2023-03-22T13:39:15.526Z"
      },
      {
        "duration": 9,
        "start_time": "2023-03-22T13:39:15.585Z"
      },
      {
        "duration": 80,
        "start_time": "2023-03-22T13:39:15.596Z"
      },
      {
        "duration": 68,
        "start_time": "2023-03-22T13:39:15.677Z"
      },
      {
        "duration": 57,
        "start_time": "2023-03-22T13:39:15.746Z"
      },
      {
        "duration": 47,
        "start_time": "2023-03-22T13:39:15.805Z"
      },
      {
        "duration": 12,
        "start_time": "2023-03-22T13:39:15.854Z"
      },
      {
        "duration": 3,
        "start_time": "2023-03-22T13:39:15.868Z"
      },
      {
        "duration": 7,
        "start_time": "2023-03-22T13:39:15.873Z"
      },
      {
        "duration": 8,
        "start_time": "2023-03-22T13:39:15.882Z"
      },
      {
        "duration": 33,
        "start_time": "2023-03-22T13:39:15.891Z"
      },
      {
        "duration": 3,
        "start_time": "2023-03-22T13:39:15.926Z"
      },
      {
        "duration": 5,
        "start_time": "2023-03-22T13:39:15.930Z"
      },
      {
        "duration": 6,
        "start_time": "2023-03-22T13:39:15.936Z"
      },
      {
        "duration": 23,
        "start_time": "2023-03-22T13:39:15.943Z"
      },
      {
        "duration": 16,
        "start_time": "2023-03-22T13:39:15.968Z"
      },
      {
        "duration": 38,
        "start_time": "2023-03-22T13:39:15.986Z"
      },
      {
        "duration": 608,
        "start_time": "2023-03-22T13:39:16.027Z"
      },
      {
        "duration": 939,
        "start_time": "2023-03-22T13:39:16.636Z"
      },
      {
        "duration": 697,
        "start_time": "2023-03-22T13:39:17.577Z"
      },
      {
        "duration": 577,
        "start_time": "2023-03-22T13:39:18.276Z"
      },
      {
        "duration": 457,
        "start_time": "2023-03-22T13:39:18.854Z"
      },
      {
        "duration": 16,
        "start_time": "2023-03-22T13:39:19.314Z"
      },
      {
        "duration": 5,
        "start_time": "2023-03-22T13:39:19.333Z"
      },
      {
        "duration": 838,
        "start_time": "2023-03-22T13:39:19.342Z"
      },
      {
        "duration": 3,
        "start_time": "2023-03-22T13:39:20.182Z"
      },
      {
        "duration": 5,
        "start_time": "2023-03-22T13:39:20.186Z"
      },
      {
        "duration": 10,
        "start_time": "2023-03-22T13:39:20.192Z"
      },
      {
        "duration": 26,
        "start_time": "2023-03-22T13:39:20.204Z"
      },
      {
        "duration": 505,
        "start_time": "2023-03-22T13:39:20.232Z"
      },
      {
        "duration": 3,
        "start_time": "2023-03-22T13:39:20.739Z"
      },
      {
        "duration": 9,
        "start_time": "2023-03-22T13:39:20.743Z"
      },
      {
        "duration": 5,
        "start_time": "2023-03-22T13:39:20.754Z"
      },
      {
        "duration": 11,
        "start_time": "2023-03-22T13:39:20.761Z"
      },
      {
        "duration": 4,
        "start_time": "2023-03-22T13:39:20.777Z"
      },
      {
        "duration": 7,
        "start_time": "2023-03-22T13:39:20.783Z"
      },
      {
        "duration": 40,
        "start_time": "2023-03-22T13:39:20.792Z"
      },
      {
        "duration": 11,
        "start_time": "2023-03-22T13:39:20.834Z"
      },
      {
        "duration": 25,
        "start_time": "2023-03-22T13:39:20.846Z"
      },
      {
        "duration": 11,
        "start_time": "2023-03-22T13:44:04.123Z"
      },
      {
        "duration": 5,
        "start_time": "2023-03-22T13:44:10.321Z"
      },
      {
        "duration": 692,
        "start_time": "2023-03-22T13:44:10.329Z"
      },
      {
        "duration": 17,
        "start_time": "2023-03-22T13:44:11.022Z"
      },
      {
        "duration": 125,
        "start_time": "2023-03-22T13:44:11.041Z"
      },
      {
        "duration": 12,
        "start_time": "2023-03-22T13:44:11.169Z"
      },
      {
        "duration": 16,
        "start_time": "2023-03-22T13:44:11.182Z"
      },
      {
        "duration": 29,
        "start_time": "2023-03-22T13:44:11.199Z"
      },
      {
        "duration": 9,
        "start_time": "2023-03-22T13:44:11.229Z"
      },
      {
        "duration": 8,
        "start_time": "2023-03-22T13:44:11.240Z"
      },
      {
        "duration": 143,
        "start_time": "2023-03-22T13:44:11.249Z"
      },
      {
        "duration": 11,
        "start_time": "2023-03-22T13:44:11.394Z"
      },
      {
        "duration": 68,
        "start_time": "2023-03-22T13:44:11.406Z"
      },
      {
        "duration": 70,
        "start_time": "2023-03-22T13:44:11.478Z"
      },
      {
        "duration": 8,
        "start_time": "2023-03-22T13:44:11.550Z"
      },
      {
        "duration": 70,
        "start_time": "2023-03-22T13:44:11.560Z"
      },
      {
        "duration": 55,
        "start_time": "2023-03-22T13:44:11.632Z"
      },
      {
        "duration": 68,
        "start_time": "2023-03-22T13:44:11.688Z"
      },
      {
        "duration": 19,
        "start_time": "2023-03-22T13:44:11.757Z"
      },
      {
        "duration": 8,
        "start_time": "2023-03-22T13:44:11.778Z"
      },
      {
        "duration": 3,
        "start_time": "2023-03-22T13:44:11.787Z"
      },
      {
        "duration": 32,
        "start_time": "2023-03-22T13:44:11.791Z"
      },
      {
        "duration": 4,
        "start_time": "2023-03-22T13:44:11.825Z"
      },
      {
        "duration": 5,
        "start_time": "2023-03-22T13:44:11.830Z"
      },
      {
        "duration": 4,
        "start_time": "2023-03-22T13:44:11.837Z"
      },
      {
        "duration": 4,
        "start_time": "2023-03-22T13:44:11.842Z"
      },
      {
        "duration": 10,
        "start_time": "2023-03-22T13:44:11.847Z"
      },
      {
        "duration": 17,
        "start_time": "2023-03-22T13:44:11.858Z"
      },
      {
        "duration": 16,
        "start_time": "2023-03-22T13:44:11.877Z"
      },
      {
        "duration": 30,
        "start_time": "2023-03-22T13:44:11.894Z"
      },
      {
        "duration": 621,
        "start_time": "2023-03-22T13:44:11.925Z"
      },
      {
        "duration": 878,
        "start_time": "2023-03-22T13:44:12.548Z"
      },
      {
        "duration": 744,
        "start_time": "2023-03-22T13:44:13.428Z"
      },
      {
        "duration": 461,
        "start_time": "2023-03-22T13:44:14.174Z"
      },
      {
        "duration": 404,
        "start_time": "2023-03-22T13:44:14.637Z"
      },
      {
        "duration": 7,
        "start_time": "2023-03-22T13:44:15.043Z"
      },
      {
        "duration": 6,
        "start_time": "2023-03-22T13:44:15.052Z"
      },
      {
        "duration": 816,
        "start_time": "2023-03-22T13:44:15.061Z"
      },
      {
        "duration": 2,
        "start_time": "2023-03-22T13:44:15.879Z"
      },
      {
        "duration": 5,
        "start_time": "2023-03-22T13:44:15.883Z"
      },
      {
        "duration": 4,
        "start_time": "2023-03-22T13:44:15.889Z"
      },
      {
        "duration": 7,
        "start_time": "2023-03-22T13:44:15.895Z"
      },
      {
        "duration": 405,
        "start_time": "2023-03-22T13:44:15.903Z"
      },
      {
        "duration": 2,
        "start_time": "2023-03-22T13:44:16.309Z"
      },
      {
        "duration": 6,
        "start_time": "2023-03-22T13:44:16.313Z"
      },
      {
        "duration": 4,
        "start_time": "2023-03-22T13:44:16.324Z"
      },
      {
        "duration": 5,
        "start_time": "2023-03-22T13:44:16.330Z"
      },
      {
        "duration": 5,
        "start_time": "2023-03-22T13:44:16.337Z"
      },
      {
        "duration": 4,
        "start_time": "2023-03-22T13:44:16.343Z"
      },
      {
        "duration": 21,
        "start_time": "2023-03-22T13:44:16.348Z"
      },
      {
        "duration": 10,
        "start_time": "2023-03-22T13:44:16.371Z"
      },
      {
        "duration": 48,
        "start_time": "2023-03-22T13:44:16.383Z"
      },
      {
        "duration": 3,
        "start_time": "2023-03-22T13:44:16.433Z"
      },
      {
        "duration": 5,
        "start_time": "2023-03-22T13:44:16.437Z"
      },
      {
        "duration": 7,
        "start_time": "2023-03-22T13:44:16.443Z"
      },
      {
        "duration": 5,
        "start_time": "2023-03-22T13:44:17.989Z"
      },
      {
        "duration": 5,
        "start_time": "2023-03-22T13:44:30.712Z"
      },
      {
        "duration": 20,
        "start_time": "2023-03-22T13:49:52.292Z"
      },
      {
        "duration": 1498,
        "start_time": "2023-03-22T13:49:54.726Z"
      },
      {
        "duration": 8,
        "start_time": "2023-03-22T13:49:58.914Z"
      },
      {
        "duration": 4,
        "start_time": "2023-03-22T13:51:32.571Z"
      },
      {
        "duration": 7,
        "start_time": "2023-03-22T13:51:32.963Z"
      },
      {
        "duration": 3,
        "start_time": "2023-03-22T13:51:33.824Z"
      },
      {
        "duration": 6,
        "start_time": "2023-03-22T13:51:38.556Z"
      },
      {
        "duration": 123,
        "start_time": "2023-03-22T13:52:20.085Z"
      },
      {
        "duration": 1367,
        "start_time": "2023-03-22T13:52:25.762Z"
      },
      {
        "duration": 8,
        "start_time": "2023-03-22T13:52:28.660Z"
      },
      {
        "duration": 6,
        "start_time": "2023-03-22T13:52:36.793Z"
      },
      {
        "duration": 1695,
        "start_time": "2023-03-22T13:52:40.137Z"
      },
      {
        "duration": 10,
        "start_time": "2023-03-22T13:52:42.099Z"
      },
      {
        "duration": 1656,
        "start_time": "2023-03-22T13:52:46.067Z"
      },
      {
        "duration": 9,
        "start_time": "2023-03-22T13:52:49.342Z"
      },
      {
        "duration": 5,
        "start_time": "2023-03-22T13:52:56.733Z"
      },
      {
        "duration": 3,
        "start_time": "2023-03-22T13:53:57.219Z"
      },
      {
        "duration": 5,
        "start_time": "2023-03-22T13:54:29.508Z"
      },
      {
        "duration": 5,
        "start_time": "2023-03-22T13:55:11.759Z"
      },
      {
        "duration": 5,
        "start_time": "2023-03-22T13:55:13.592Z"
      },
      {
        "duration": 5,
        "start_time": "2023-03-22T13:55:39.727Z"
      },
      {
        "duration": 4,
        "start_time": "2023-03-22T13:55:57.817Z"
      },
      {
        "duration": 6,
        "start_time": "2023-03-22T13:56:16.821Z"
      },
      {
        "duration": 1379,
        "start_time": "2023-03-22T13:58:20.563Z"
      },
      {
        "duration": 652,
        "start_time": "2023-03-22T13:58:21.944Z"
      },
      {
        "duration": 19,
        "start_time": "2023-03-22T13:58:22.597Z"
      },
      {
        "duration": 129,
        "start_time": "2023-03-22T13:58:22.618Z"
      },
      {
        "duration": 15,
        "start_time": "2023-03-22T13:58:22.748Z"
      },
      {
        "duration": 17,
        "start_time": "2023-03-22T13:58:22.764Z"
      },
      {
        "duration": 7,
        "start_time": "2023-03-22T13:58:22.783Z"
      },
      {
        "duration": 11,
        "start_time": "2023-03-22T13:58:22.824Z"
      },
      {
        "duration": 7,
        "start_time": "2023-03-22T13:58:22.837Z"
      },
      {
        "duration": 138,
        "start_time": "2023-03-22T13:58:22.847Z"
      },
      {
        "duration": 10,
        "start_time": "2023-03-22T13:58:22.987Z"
      },
      {
        "duration": 66,
        "start_time": "2023-03-22T13:58:22.999Z"
      },
      {
        "duration": 74,
        "start_time": "2023-03-22T13:58:23.067Z"
      },
      {
        "duration": 8,
        "start_time": "2023-03-22T13:58:23.143Z"
      },
      {
        "duration": 54,
        "start_time": "2023-03-22T13:58:23.153Z"
      },
      {
        "duration": 57,
        "start_time": "2023-03-22T13:58:23.223Z"
      },
      {
        "duration": 85,
        "start_time": "2023-03-22T13:58:23.281Z"
      },
      {
        "duration": 22,
        "start_time": "2023-03-22T13:58:23.368Z"
      },
      {
        "duration": 9,
        "start_time": "2023-03-22T13:58:23.391Z"
      },
      {
        "duration": 21,
        "start_time": "2023-03-22T13:58:23.402Z"
      },
      {
        "duration": 7,
        "start_time": "2023-03-22T13:58:23.425Z"
      },
      {
        "duration": 6,
        "start_time": "2023-03-22T13:58:23.433Z"
      },
      {
        "duration": 4,
        "start_time": "2023-03-22T13:58:23.440Z"
      },
      {
        "duration": 3,
        "start_time": "2023-03-22T13:58:23.446Z"
      },
      {
        "duration": 5,
        "start_time": "2023-03-22T13:58:23.450Z"
      },
      {
        "duration": 6,
        "start_time": "2023-03-22T13:58:23.456Z"
      },
      {
        "duration": 20,
        "start_time": "2023-03-22T13:58:23.464Z"
      },
      {
        "duration": 49,
        "start_time": "2023-03-22T13:58:23.488Z"
      },
      {
        "duration": 6,
        "start_time": "2023-03-22T13:58:23.539Z"
      },
      {
        "duration": 522,
        "start_time": "2023-03-22T13:58:23.547Z"
      },
      {
        "duration": 988,
        "start_time": "2023-03-22T13:58:24.070Z"
      },
      {
        "duration": 673,
        "start_time": "2023-03-22T13:58:25.060Z"
      },
      {
        "duration": 408,
        "start_time": "2023-03-22T13:58:25.734Z"
      },
      {
        "duration": 396,
        "start_time": "2023-03-22T13:58:26.144Z"
      },
      {
        "duration": 8,
        "start_time": "2023-03-22T13:58:26.542Z"
      },
      {
        "duration": 4,
        "start_time": "2023-03-22T13:58:26.552Z"
      },
      {
        "duration": 928,
        "start_time": "2023-03-22T13:58:26.558Z"
      },
      {
        "duration": 2,
        "start_time": "2023-03-22T13:58:27.488Z"
      },
      {
        "duration": 6,
        "start_time": "2023-03-22T13:58:27.492Z"
      },
      {
        "duration": 6,
        "start_time": "2023-03-22T13:58:27.500Z"
      },
      {
        "duration": 20,
        "start_time": "2023-03-22T13:58:27.507Z"
      },
      {
        "duration": 397,
        "start_time": "2023-03-22T13:58:27.528Z"
      },
      {
        "duration": 3,
        "start_time": "2023-03-22T13:58:27.926Z"
      },
      {
        "duration": 9,
        "start_time": "2023-03-22T13:58:27.931Z"
      },
      {
        "duration": 6,
        "start_time": "2023-03-22T13:58:27.941Z"
      },
      {
        "duration": 9,
        "start_time": "2023-03-22T13:58:27.948Z"
      },
      {
        "duration": 6,
        "start_time": "2023-03-22T13:58:27.958Z"
      },
      {
        "duration": 17,
        "start_time": "2023-03-22T13:58:27.966Z"
      },
      {
        "duration": 42,
        "start_time": "2023-03-22T13:58:27.985Z"
      },
      {
        "duration": 10,
        "start_time": "2023-03-22T13:58:28.029Z"
      },
      {
        "duration": 24,
        "start_time": "2023-03-22T13:58:28.040Z"
      },
      {
        "duration": 3,
        "start_time": "2023-03-22T13:58:28.066Z"
      },
      {
        "duration": 6,
        "start_time": "2023-03-22T13:58:28.070Z"
      },
      {
        "duration": 9,
        "start_time": "2023-03-22T13:58:28.078Z"
      },
      {
        "duration": 14,
        "start_time": "2023-03-22T13:58:28.088Z"
      },
      {
        "duration": 7,
        "start_time": "2023-03-22T13:58:28.103Z"
      },
      {
        "duration": 16,
        "start_time": "2023-03-22T13:58:28.111Z"
      },
      {
        "duration": 10,
        "start_time": "2023-03-22T13:58:28.129Z"
      },
      {
        "duration": 1585,
        "start_time": "2023-03-22T13:58:28.141Z"
      },
      {
        "duration": 9,
        "start_time": "2023-03-22T13:58:29.729Z"
      },
      {
        "duration": 19953,
        "start_time": "2023-03-22T13:58:29.825Z"
      },
      {
        "duration": 8,
        "start_time": "2023-03-22T13:58:49.780Z"
      },
      {
        "duration": 942683,
        "start_time": "2023-03-22T13:58:49.790Z"
      },
      {
        "duration": 79,
        "start_time": "2023-03-22T14:14:32.475Z"
      },
      {
        "duration": 5,
        "start_time": "2023-03-22T14:14:32.556Z"
      },
      {
        "duration": 9,
        "start_time": "2023-03-22T14:14:32.562Z"
      },
      {
        "duration": 1359,
        "start_time": "2023-03-22T14:14:32.572Z"
      },
      {
        "duration": 197,
        "start_time": "2023-03-22T14:14:33.933Z"
      },
      {
        "duration": 21060,
        "start_time": "2023-03-22T14:14:34.132Z"
      },
      {
        "duration": 10,
        "start_time": "2023-03-22T14:14:55.194Z"
      },
      {
        "duration": 1018897,
        "start_time": "2023-03-22T14:14:55.205Z"
      },
      {
        "duration": 70,
        "start_time": "2023-03-22T14:31:54.104Z"
      },
      {
        "duration": 3,
        "start_time": "2023-03-22T14:31:54.176Z"
      },
      {
        "duration": 8,
        "start_time": "2023-03-22T14:31:54.183Z"
      },
      {
        "duration": 3,
        "start_time": "2023-03-22T14:38:09.936Z"
      },
      {
        "duration": 2789,
        "start_time": "2023-03-23T09:33:38.290Z"
      },
      {
        "duration": 1499,
        "start_time": "2023-03-23T09:33:41.082Z"
      },
      {
        "duration": 21,
        "start_time": "2023-03-23T09:33:42.582Z"
      },
      {
        "duration": 298,
        "start_time": "2023-03-23T09:33:42.605Z"
      },
      {
        "duration": 16,
        "start_time": "2023-03-23T09:33:42.964Z"
      },
      {
        "duration": 17,
        "start_time": "2023-03-23T09:33:42.981Z"
      },
      {
        "duration": 66,
        "start_time": "2023-03-23T09:33:43.000Z"
      },
      {
        "duration": 11,
        "start_time": "2023-03-23T09:33:43.068Z"
      },
      {
        "duration": 9,
        "start_time": "2023-03-23T09:33:43.081Z"
      },
      {
        "duration": 307,
        "start_time": "2023-03-23T09:33:43.092Z"
      },
      {
        "duration": 78,
        "start_time": "2023-03-23T09:33:43.401Z"
      },
      {
        "duration": 189,
        "start_time": "2023-03-23T09:33:43.481Z"
      },
      {
        "duration": 116,
        "start_time": "2023-03-23T09:33:43.672Z"
      },
      {
        "duration": 12,
        "start_time": "2023-03-23T09:33:43.792Z"
      },
      {
        "duration": 130,
        "start_time": "2023-03-23T09:33:43.862Z"
      },
      {
        "duration": 189,
        "start_time": "2023-03-23T09:33:43.995Z"
      },
      {
        "duration": 190,
        "start_time": "2023-03-23T09:33:44.186Z"
      },
      {
        "duration": 92,
        "start_time": "2023-03-23T09:33:44.379Z"
      },
      {
        "duration": 13,
        "start_time": "2023-03-23T09:33:44.474Z"
      },
      {
        "duration": 3,
        "start_time": "2023-03-23T09:33:44.489Z"
      },
      {
        "duration": 70,
        "start_time": "2023-03-23T09:33:44.494Z"
      },
      {
        "duration": 6,
        "start_time": "2023-03-23T09:33:44.567Z"
      },
      {
        "duration": 5,
        "start_time": "2023-03-23T09:33:44.575Z"
      },
      {
        "duration": 6,
        "start_time": "2023-03-23T09:33:44.581Z"
      },
      {
        "duration": 8,
        "start_time": "2023-03-23T09:33:44.589Z"
      },
      {
        "duration": 66,
        "start_time": "2023-03-23T09:33:44.599Z"
      },
      {
        "duration": 24,
        "start_time": "2023-03-23T09:33:44.668Z"
      },
      {
        "duration": 82,
        "start_time": "2023-03-23T09:33:44.693Z"
      },
      {
        "duration": 5,
        "start_time": "2023-03-23T09:33:44.777Z"
      },
      {
        "duration": 1387,
        "start_time": "2023-03-23T09:33:44.783Z"
      },
      {
        "duration": 2311,
        "start_time": "2023-03-23T09:33:46.173Z"
      },
      {
        "duration": 1575,
        "start_time": "2023-03-23T09:33:48.487Z"
      },
      {
        "duration": 729,
        "start_time": "2023-03-23T09:33:50.064Z"
      },
      {
        "duration": 880,
        "start_time": "2023-03-23T09:33:50.795Z"
      },
      {
        "duration": 8,
        "start_time": "2023-03-23T09:33:51.678Z"
      },
      {
        "duration": 6,
        "start_time": "2023-03-23T09:33:51.688Z"
      },
      {
        "duration": 2189,
        "start_time": "2023-03-23T09:33:51.696Z"
      },
      {
        "duration": 3,
        "start_time": "2023-03-23T09:33:53.887Z"
      },
      {
        "duration": 6,
        "start_time": "2023-03-23T09:33:53.892Z"
      },
      {
        "duration": 61,
        "start_time": "2023-03-23T09:33:53.900Z"
      },
      {
        "duration": 11,
        "start_time": "2023-03-23T09:33:53.968Z"
      },
      {
        "duration": 1010,
        "start_time": "2023-03-23T09:33:53.981Z"
      },
      {
        "duration": 3,
        "start_time": "2023-03-23T09:33:54.993Z"
      },
      {
        "duration": 64,
        "start_time": "2023-03-23T09:33:54.998Z"
      },
      {
        "duration": 7,
        "start_time": "2023-03-23T09:33:55.064Z"
      },
      {
        "duration": 9,
        "start_time": "2023-03-23T09:33:55.073Z"
      },
      {
        "duration": 14,
        "start_time": "2023-03-23T09:33:55.084Z"
      },
      {
        "duration": 63,
        "start_time": "2023-03-23T09:33:55.100Z"
      },
      {
        "duration": 24,
        "start_time": "2023-03-23T09:33:55.165Z"
      },
      {
        "duration": 11,
        "start_time": "2023-03-23T09:33:55.190Z"
      },
      {
        "duration": 80,
        "start_time": "2023-03-23T09:33:55.204Z"
      },
      {
        "duration": 3,
        "start_time": "2023-03-23T09:33:55.286Z"
      },
      {
        "duration": 71,
        "start_time": "2023-03-23T09:33:55.291Z"
      },
      {
        "duration": 11,
        "start_time": "2023-03-23T09:33:55.365Z"
      },
      {
        "duration": 4,
        "start_time": "2023-03-23T09:33:55.378Z"
      },
      {
        "duration": 6,
        "start_time": "2023-03-23T09:33:55.384Z"
      },
      {
        "duration": 7,
        "start_time": "2023-03-23T09:33:55.392Z"
      },
      {
        "duration": 6,
        "start_time": "2023-03-23T09:33:55.463Z"
      },
      {
        "duration": 1994,
        "start_time": "2023-03-23T09:33:55.471Z"
      },
      {
        "duration": 102,
        "start_time": "2023-03-23T09:33:57.468Z"
      },
      {
        "duration": 48394,
        "start_time": "2023-03-23T09:33:57.577Z"
      },
      {
        "duration": 11,
        "start_time": "2023-03-23T09:34:45.974Z"
      },
      {
        "duration": 2055592,
        "start_time": "2023-03-23T09:34:45.987Z"
      },
      {
        "duration": 188,
        "start_time": "2023-03-23T10:09:01.582Z"
      },
      {
        "duration": 4,
        "start_time": "2023-03-23T10:09:01.779Z"
      },
      {
        "duration": 33,
        "start_time": "2023-03-23T10:09:01.785Z"
      },
      {
        "duration": 4256,
        "start_time": "2023-03-23T10:09:01.820Z"
      },
      {
        "duration": 287,
        "start_time": "2023-03-23T10:09:06.079Z"
      },
      {
        "duration": 49407,
        "start_time": "2023-03-23T10:09:06.369Z"
      },
      {
        "duration": 9,
        "start_time": "2023-03-23T10:09:55.778Z"
      },
      {
        "duration": 1114401,
        "start_time": "2023-03-23T10:09:55.790Z"
      },
      {
        "duration": 0,
        "start_time": "2023-03-23T10:28:30.193Z"
      },
      {
        "duration": 0,
        "start_time": "2023-03-23T10:28:30.193Z"
      },
      {
        "duration": 6,
        "start_time": "2023-03-23T10:40:39.300Z"
      },
      {
        "duration": 6,
        "start_time": "2023-03-23T10:40:47.238Z"
      },
      {
        "duration": 115,
        "start_time": "2023-03-23T10:40:58.778Z"
      },
      {
        "duration": 18,
        "start_time": "2023-03-23T10:41:58.957Z"
      },
      {
        "duration": 15,
        "start_time": "2023-03-23T10:42:24.403Z"
      },
      {
        "duration": 19,
        "start_time": "2023-03-23T10:42:40.656Z"
      },
      {
        "duration": 103,
        "start_time": "2023-03-23T10:42:48.316Z"
      },
      {
        "duration": 5,
        "start_time": "2023-03-23T10:42:53.015Z"
      },
      {
        "duration": 22,
        "start_time": "2023-03-23T10:43:07.361Z"
      },
      {
        "duration": 18,
        "start_time": "2023-03-23T10:43:13.716Z"
      },
      {
        "duration": 20,
        "start_time": "2023-03-23T10:43:19.780Z"
      },
      {
        "duration": 100925,
        "start_time": "2023-03-23T10:43:26.677Z"
      },
      {
        "duration": 54,
        "start_time": "2023-03-23T14:44:18.957Z"
      },
      {
        "duration": 1769,
        "start_time": "2023-03-23T14:44:37.123Z"
      },
      {
        "duration": 2140,
        "start_time": "2023-03-23T14:44:38.894Z"
      },
      {
        "duration": 21,
        "start_time": "2023-03-23T14:44:41.035Z"
      },
      {
        "duration": 131,
        "start_time": "2023-03-23T14:44:41.058Z"
      },
      {
        "duration": 14,
        "start_time": "2023-03-23T14:44:41.191Z"
      },
      {
        "duration": 23,
        "start_time": "2023-03-23T14:44:41.206Z"
      },
      {
        "duration": 9,
        "start_time": "2023-03-23T14:44:41.230Z"
      },
      {
        "duration": 12,
        "start_time": "2023-03-23T14:44:41.240Z"
      },
      {
        "duration": 40,
        "start_time": "2023-03-23T14:44:41.254Z"
      },
      {
        "duration": 135,
        "start_time": "2023-03-23T14:44:41.296Z"
      },
      {
        "duration": 12,
        "start_time": "2023-03-23T14:44:41.432Z"
      },
      {
        "duration": 73,
        "start_time": "2023-03-23T14:44:41.445Z"
      },
      {
        "duration": 75,
        "start_time": "2023-03-23T14:44:41.520Z"
      },
      {
        "duration": 9,
        "start_time": "2023-03-23T14:44:41.598Z"
      },
      {
        "duration": 58,
        "start_time": "2023-03-23T14:44:41.608Z"
      },
      {
        "duration": 65,
        "start_time": "2023-03-23T14:44:41.689Z"
      },
      {
        "duration": 69,
        "start_time": "2023-03-23T14:44:41.756Z"
      },
      {
        "duration": 26,
        "start_time": "2023-03-23T14:44:41.826Z"
      },
      {
        "duration": 8,
        "start_time": "2023-03-23T14:44:41.854Z"
      },
      {
        "duration": 2,
        "start_time": "2023-03-23T14:44:41.864Z"
      },
      {
        "duration": 6,
        "start_time": "2023-03-23T14:44:41.890Z"
      },
      {
        "duration": 4,
        "start_time": "2023-03-23T14:44:41.897Z"
      },
      {
        "duration": 4,
        "start_time": "2023-03-23T14:44:41.903Z"
      },
      {
        "duration": 4,
        "start_time": "2023-03-23T14:44:41.909Z"
      },
      {
        "duration": 5,
        "start_time": "2023-03-23T14:44:41.915Z"
      },
      {
        "duration": 8,
        "start_time": "2023-03-23T14:44:41.921Z"
      },
      {
        "duration": 23,
        "start_time": "2023-03-23T14:44:41.930Z"
      },
      {
        "duration": 49,
        "start_time": "2023-03-23T14:44:41.954Z"
      },
      {
        "duration": 5,
        "start_time": "2023-03-23T14:44:42.005Z"
      },
      {
        "duration": 532,
        "start_time": "2023-03-23T14:44:42.012Z"
      },
      {
        "duration": 1050,
        "start_time": "2023-03-23T14:44:42.546Z"
      },
      {
        "duration": 692,
        "start_time": "2023-03-23T14:44:43.598Z"
      },
      {
        "duration": 424,
        "start_time": "2023-03-23T14:44:44.291Z"
      },
      {
        "duration": 404,
        "start_time": "2023-03-23T14:44:44.717Z"
      },
      {
        "duration": 9,
        "start_time": "2023-03-23T14:44:45.122Z"
      },
      {
        "duration": 29,
        "start_time": "2023-03-23T14:44:45.133Z"
      },
      {
        "duration": 954,
        "start_time": "2023-03-23T14:44:45.164Z"
      },
      {
        "duration": 2,
        "start_time": "2023-03-23T14:44:46.119Z"
      },
      {
        "duration": 5,
        "start_time": "2023-03-23T14:44:46.123Z"
      },
      {
        "duration": 5,
        "start_time": "2023-03-23T14:44:46.129Z"
      },
      {
        "duration": 8,
        "start_time": "2023-03-23T14:44:46.138Z"
      },
      {
        "duration": 423,
        "start_time": "2023-03-23T14:44:46.148Z"
      },
      {
        "duration": 2,
        "start_time": "2023-03-23T14:44:46.573Z"
      },
      {
        "duration": 13,
        "start_time": "2023-03-23T14:44:46.576Z"
      },
      {
        "duration": 5,
        "start_time": "2023-03-23T14:44:46.591Z"
      },
      {
        "duration": 17,
        "start_time": "2023-03-23T14:44:46.598Z"
      },
      {
        "duration": 5,
        "start_time": "2023-03-23T14:44:46.617Z"
      },
      {
        "duration": 4,
        "start_time": "2023-03-23T14:44:46.623Z"
      },
      {
        "duration": 25,
        "start_time": "2023-03-23T14:44:46.629Z"
      },
      {
        "duration": 11,
        "start_time": "2023-03-23T14:44:46.656Z"
      },
      {
        "duration": 38,
        "start_time": "2023-03-23T14:44:46.669Z"
      },
      {
        "duration": 3,
        "start_time": "2023-03-23T14:44:46.708Z"
      },
      {
        "duration": 7,
        "start_time": "2023-03-23T14:44:46.713Z"
      },
      {
        "duration": 8,
        "start_time": "2023-03-23T14:44:46.721Z"
      },
      {
        "duration": 6,
        "start_time": "2023-03-23T14:44:46.730Z"
      },
      {
        "duration": 5,
        "start_time": "2023-03-23T14:44:46.738Z"
      },
      {
        "duration": 26,
        "start_time": "2023-03-23T14:45:40.693Z"
      },
      {
        "duration": 8,
        "start_time": "2023-03-23T14:46:04.978Z"
      },
      {
        "duration": 79,
        "start_time": "2023-03-23T14:46:55.712Z"
      },
      {
        "duration": 1727,
        "start_time": "2023-03-23T14:47:03.262Z"
      },
      {
        "duration": 11,
        "start_time": "2023-03-23T14:47:06.677Z"
      },
      {
        "duration": 1480,
        "start_time": "2023-03-23T14:53:12.153Z"
      },
      {
        "duration": 730,
        "start_time": "2023-03-23T14:53:13.635Z"
      },
      {
        "duration": 19,
        "start_time": "2023-03-23T14:53:14.367Z"
      },
      {
        "duration": 122,
        "start_time": "2023-03-23T14:53:14.388Z"
      },
      {
        "duration": 13,
        "start_time": "2023-03-23T14:53:14.512Z"
      },
      {
        "duration": 18,
        "start_time": "2023-03-23T14:53:14.527Z"
      },
      {
        "duration": 7,
        "start_time": "2023-03-23T14:53:14.546Z"
      },
      {
        "duration": 42,
        "start_time": "2023-03-23T14:53:14.555Z"
      },
      {
        "duration": 8,
        "start_time": "2023-03-23T14:53:14.599Z"
      },
      {
        "duration": 134,
        "start_time": "2023-03-23T14:53:14.610Z"
      },
      {
        "duration": 11,
        "start_time": "2023-03-23T14:53:14.746Z"
      },
      {
        "duration": 79,
        "start_time": "2023-03-23T14:53:14.759Z"
      },
      {
        "duration": 75,
        "start_time": "2023-03-23T14:53:14.840Z"
      },
      {
        "duration": 7,
        "start_time": "2023-03-23T14:53:14.917Z"
      },
      {
        "duration": 67,
        "start_time": "2023-03-23T14:53:14.926Z"
      },
      {
        "duration": 57,
        "start_time": "2023-03-23T14:53:14.995Z"
      },
      {
        "duration": 68,
        "start_time": "2023-03-23T14:53:15.054Z"
      },
      {
        "duration": 24,
        "start_time": "2023-03-23T14:53:15.123Z"
      },
      {
        "duration": 9,
        "start_time": "2023-03-23T14:53:15.149Z"
      },
      {
        "duration": 3,
        "start_time": "2023-03-23T14:53:15.160Z"
      },
      {
        "duration": 7,
        "start_time": "2023-03-23T14:53:15.189Z"
      },
      {
        "duration": 10,
        "start_time": "2023-03-23T14:53:15.198Z"
      },
      {
        "duration": 6,
        "start_time": "2023-03-23T14:53:15.211Z"
      },
      {
        "duration": 6,
        "start_time": "2023-03-23T14:53:15.219Z"
      },
      {
        "duration": 10,
        "start_time": "2023-03-23T14:53:15.227Z"
      },
      {
        "duration": 9,
        "start_time": "2023-03-23T14:53:15.239Z"
      },
      {
        "duration": 48,
        "start_time": "2023-03-23T14:53:15.250Z"
      },
      {
        "duration": 18,
        "start_time": "2023-03-23T14:53:15.303Z"
      },
      {
        "duration": 6,
        "start_time": "2023-03-23T14:53:15.323Z"
      },
      {
        "duration": 588,
        "start_time": "2023-03-23T14:53:15.330Z"
      },
      {
        "duration": 1097,
        "start_time": "2023-03-23T14:53:15.919Z"
      },
      {
        "duration": 1486,
        "start_time": "2023-03-23T14:53:17.018Z"
      },
      {
        "duration": 987,
        "start_time": "2023-03-23T14:53:18.506Z"
      },
      {
        "duration": 727,
        "start_time": "2023-03-23T14:53:19.495Z"
      },
      {
        "duration": 11,
        "start_time": "2023-03-23T14:53:20.224Z"
      },
      {
        "duration": 27,
        "start_time": "2023-03-23T14:53:20.237Z"
      },
      {
        "duration": 1053,
        "start_time": "2023-03-23T14:53:20.267Z"
      },
      {
        "duration": 3,
        "start_time": "2023-03-23T14:53:21.322Z"
      },
      {
        "duration": 6,
        "start_time": "2023-03-23T14:53:21.326Z"
      },
      {
        "duration": 6,
        "start_time": "2023-03-23T14:53:21.333Z"
      },
      {
        "duration": 9,
        "start_time": "2023-03-23T14:53:21.341Z"
      },
      {
        "duration": 426,
        "start_time": "2023-03-23T14:53:21.352Z"
      },
      {
        "duration": 3,
        "start_time": "2023-03-23T14:53:21.788Z"
      },
      {
        "duration": 7,
        "start_time": "2023-03-23T14:53:21.793Z"
      },
      {
        "duration": 7,
        "start_time": "2023-03-23T14:53:21.801Z"
      },
      {
        "duration": 6,
        "start_time": "2023-03-23T14:53:21.810Z"
      },
      {
        "duration": 5,
        "start_time": "2023-03-23T14:53:21.818Z"
      },
      {
        "duration": 8,
        "start_time": "2023-03-23T14:53:21.825Z"
      },
      {
        "duration": 24,
        "start_time": "2023-03-23T14:53:21.835Z"
      },
      {
        "duration": 10,
        "start_time": "2023-03-23T14:53:21.860Z"
      },
      {
        "duration": 36,
        "start_time": "2023-03-23T14:53:21.890Z"
      },
      {
        "duration": 3,
        "start_time": "2023-03-23T14:53:21.928Z"
      },
      {
        "duration": 5,
        "start_time": "2023-03-23T14:53:21.933Z"
      },
      {
        "duration": 11,
        "start_time": "2023-03-23T14:53:21.940Z"
      },
      {
        "duration": 9,
        "start_time": "2023-03-23T14:53:21.953Z"
      },
      {
        "duration": 5,
        "start_time": "2023-03-23T14:53:21.964Z"
      },
      {
        "duration": 19,
        "start_time": "2023-03-23T14:53:21.970Z"
      },
      {
        "duration": 17,
        "start_time": "2023-03-23T14:53:21.991Z"
      },
      {
        "duration": 1681,
        "start_time": "2023-03-23T14:53:22.010Z"
      },
      {
        "duration": 101,
        "start_time": "2023-03-23T14:53:23.694Z"
      },
      {
        "duration": 22028,
        "start_time": "2023-03-23T14:53:23.801Z"
      },
      {
        "duration": 7,
        "start_time": "2023-03-23T14:53:45.830Z"
      },
      {
        "duration": 940,
        "start_time": "2023-03-23T14:53:45.839Z"
      },
      {
        "duration": 0,
        "start_time": "2023-03-23T14:53:46.781Z"
      },
      {
        "duration": 0,
        "start_time": "2023-03-23T14:53:46.789Z"
      },
      {
        "duration": 0,
        "start_time": "2023-03-23T14:53:46.790Z"
      },
      {
        "duration": 0,
        "start_time": "2023-03-23T14:53:46.791Z"
      },
      {
        "duration": 0,
        "start_time": "2023-03-23T14:53:46.793Z"
      },
      {
        "duration": 0,
        "start_time": "2023-03-23T14:53:46.794Z"
      },
      {
        "duration": 0,
        "start_time": "2023-03-23T14:53:46.795Z"
      },
      {
        "duration": 0,
        "start_time": "2023-03-23T14:53:46.796Z"
      },
      {
        "duration": 0,
        "start_time": "2023-03-23T14:53:46.798Z"
      },
      {
        "duration": 0,
        "start_time": "2023-03-23T14:53:46.799Z"
      },
      {
        "duration": 7,
        "start_time": "2023-03-23T14:54:02.959Z"
      },
      {
        "duration": 10,
        "start_time": "2023-03-23T14:54:11.815Z"
      },
      {
        "duration": 9,
        "start_time": "2023-03-23T14:54:54.194Z"
      },
      {
        "duration": 11,
        "start_time": "2023-03-23T14:55:08.791Z"
      },
      {
        "duration": 10,
        "start_time": "2023-03-23T14:55:25.061Z"
      },
      {
        "duration": 4,
        "start_time": "2023-03-23T15:01:40.086Z"
      },
      {
        "duration": 14,
        "start_time": "2023-03-23T15:01:45.746Z"
      },
      {
        "duration": 89876,
        "start_time": "2023-03-23T15:02:40.572Z"
      },
      {
        "duration": 8,
        "start_time": "2023-03-23T15:07:06.861Z"
      },
      {
        "duration": 13,
        "start_time": "2023-03-23T15:09:06.364Z"
      },
      {
        "duration": 145,
        "start_time": "2023-03-23T15:09:23.845Z"
      },
      {
        "duration": 127,
        "start_time": "2023-03-23T15:09:44.206Z"
      },
      {
        "duration": 266,
        "start_time": "2023-03-23T15:09:55.946Z"
      },
      {
        "duration": 148,
        "start_time": "2023-03-23T15:10:01.310Z"
      },
      {
        "duration": 145,
        "start_time": "2023-03-23T15:10:07.082Z"
      },
      {
        "duration": 5,
        "start_time": "2023-03-23T15:17:39.182Z"
      },
      {
        "duration": 786,
        "start_time": "2023-03-23T15:17:39.190Z"
      },
      {
        "duration": 17,
        "start_time": "2023-03-23T15:17:39.978Z"
      },
      {
        "duration": 146,
        "start_time": "2023-03-23T15:17:39.997Z"
      },
      {
        "duration": 14,
        "start_time": "2023-03-23T15:17:40.145Z"
      },
      {
        "duration": 42,
        "start_time": "2023-03-23T15:17:40.161Z"
      },
      {
        "duration": 8,
        "start_time": "2023-03-23T15:17:40.206Z"
      },
      {
        "duration": 26,
        "start_time": "2023-03-23T15:17:40.215Z"
      },
      {
        "duration": 9,
        "start_time": "2023-03-23T15:17:40.244Z"
      },
      {
        "duration": 155,
        "start_time": "2023-03-23T15:17:40.254Z"
      },
      {
        "duration": 10,
        "start_time": "2023-03-23T15:17:40.410Z"
      },
      {
        "duration": 75,
        "start_time": "2023-03-23T15:17:40.421Z"
      },
      {
        "duration": 59,
        "start_time": "2023-03-23T15:17:40.498Z"
      },
      {
        "duration": 10,
        "start_time": "2023-03-23T15:17:40.558Z"
      },
      {
        "duration": 71,
        "start_time": "2023-03-23T15:17:40.590Z"
      },
      {
        "duration": 82,
        "start_time": "2023-03-23T15:17:40.663Z"
      },
      {
        "duration": 71,
        "start_time": "2023-03-23T15:17:40.747Z"
      },
      {
        "duration": 7,
        "start_time": "2023-03-23T15:18:00.972Z"
      },
      {
        "duration": 143,
        "start_time": "2023-03-23T15:18:07.297Z"
      },
      {
        "duration": 752,
        "start_time": "2023-03-23T15:18:18.573Z"
      },
      {
        "duration": 160,
        "start_time": "2023-03-23T15:18:22.707Z"
      },
      {
        "duration": 189,
        "start_time": "2023-03-23T15:18:30.685Z"
      },
      {
        "duration": 151,
        "start_time": "2023-03-23T15:18:35.694Z"
      },
      {
        "duration": 150,
        "start_time": "2023-03-23T15:18:43.579Z"
      },
      {
        "duration": 148,
        "start_time": "2023-03-23T15:18:50.891Z"
      },
      {
        "duration": 4,
        "start_time": "2023-03-23T15:20:33.725Z"
      },
      {
        "duration": 743,
        "start_time": "2023-03-23T15:20:33.731Z"
      },
      {
        "duration": 18,
        "start_time": "2023-03-23T15:20:34.477Z"
      },
      {
        "duration": 129,
        "start_time": "2023-03-23T15:20:34.497Z"
      },
      {
        "duration": 15,
        "start_time": "2023-03-23T15:20:34.629Z"
      },
      {
        "duration": 17,
        "start_time": "2023-03-23T15:20:34.646Z"
      },
      {
        "duration": 29,
        "start_time": "2023-03-23T15:20:34.665Z"
      },
      {
        "duration": 17,
        "start_time": "2023-03-23T15:20:34.696Z"
      },
      {
        "duration": 9,
        "start_time": "2023-03-23T15:20:34.715Z"
      },
      {
        "duration": 145,
        "start_time": "2023-03-23T15:20:34.726Z"
      },
      {
        "duration": 23,
        "start_time": "2023-03-23T15:20:34.874Z"
      },
      {
        "duration": 107,
        "start_time": "2023-03-23T15:20:34.899Z"
      },
      {
        "duration": 83,
        "start_time": "2023-03-23T15:20:35.008Z"
      },
      {
        "duration": 11,
        "start_time": "2023-03-23T15:20:35.093Z"
      },
      {
        "duration": 129,
        "start_time": "2023-03-23T15:20:35.106Z"
      },
      {
        "duration": 111,
        "start_time": "2023-03-23T15:20:35.288Z"
      },
      {
        "duration": 116,
        "start_time": "2023-03-23T15:20:35.401Z"
      },
      {
        "duration": 411,
        "start_time": "2023-03-23T15:20:35.519Z"
      },
      {
        "duration": 75,
        "start_time": "2023-03-23T15:20:35.932Z"
      },
      {
        "duration": 12,
        "start_time": "2023-03-23T15:20:36.010Z"
      },
      {
        "duration": 3,
        "start_time": "2023-03-23T15:20:36.024Z"
      },
      {
        "duration": 8,
        "start_time": "2023-03-23T15:20:36.089Z"
      },
      {
        "duration": 8,
        "start_time": "2023-03-23T15:20:36.099Z"
      },
      {
        "duration": 5,
        "start_time": "2023-03-23T15:20:36.109Z"
      },
      {
        "duration": 3,
        "start_time": "2023-03-23T15:20:36.116Z"
      },
      {
        "duration": 10,
        "start_time": "2023-03-23T15:20:36.121Z"
      },
      {
        "duration": 58,
        "start_time": "2023-03-23T15:20:36.133Z"
      },
      {
        "duration": 31,
        "start_time": "2023-03-23T15:20:36.194Z"
      },
      {
        "duration": 292,
        "start_time": "2023-03-23T15:20:36.231Z"
      },
      {
        "duration": 5,
        "start_time": "2023-03-23T15:20:36.525Z"
      },
      {
        "duration": 1045,
        "start_time": "2023-03-23T15:20:36.532Z"
      },
      {
        "duration": 1481,
        "start_time": "2023-03-23T15:20:40.655Z"
      },
      {
        "duration": 781,
        "start_time": "2023-03-23T15:20:42.139Z"
      },
      {
        "duration": 20,
        "start_time": "2023-03-23T15:20:42.923Z"
      },
      {
        "duration": 153,
        "start_time": "2023-03-23T15:20:42.946Z"
      },
      {
        "duration": 14,
        "start_time": "2023-03-23T15:20:43.101Z"
      },
      {
        "duration": 20,
        "start_time": "2023-03-23T15:20:43.117Z"
      },
      {
        "duration": 10,
        "start_time": "2023-03-23T15:20:43.139Z"
      },
      {
        "duration": 41,
        "start_time": "2023-03-23T15:20:43.150Z"
      },
      {
        "duration": 9,
        "start_time": "2023-03-23T15:20:43.193Z"
      },
      {
        "duration": 142,
        "start_time": "2023-03-23T15:20:43.206Z"
      },
      {
        "duration": 11,
        "start_time": "2023-03-23T15:20:43.350Z"
      },
      {
        "duration": 73,
        "start_time": "2023-03-23T15:20:43.363Z"
      },
      {
        "duration": 72,
        "start_time": "2023-03-23T15:20:43.438Z"
      },
      {
        "duration": 9,
        "start_time": "2023-03-23T15:20:43.512Z"
      },
      {
        "duration": 72,
        "start_time": "2023-03-23T15:20:43.523Z"
      },
      {
        "duration": 57,
        "start_time": "2023-03-23T15:20:43.597Z"
      },
      {
        "duration": 76,
        "start_time": "2023-03-23T15:20:43.656Z"
      },
      {
        "duration": 191,
        "start_time": "2023-03-23T15:20:43.734Z"
      },
      {
        "duration": 25,
        "start_time": "2023-03-23T15:20:43.927Z"
      },
      {
        "duration": 9,
        "start_time": "2023-03-23T15:20:43.953Z"
      },
      {
        "duration": 4,
        "start_time": "2023-03-23T15:20:43.963Z"
      },
      {
        "duration": 27,
        "start_time": "2023-03-23T15:20:43.968Z"
      },
      {
        "duration": 5,
        "start_time": "2023-03-23T15:20:43.997Z"
      },
      {
        "duration": 5,
        "start_time": "2023-03-23T15:20:44.003Z"
      },
      {
        "duration": 5,
        "start_time": "2023-03-23T15:20:44.010Z"
      },
      {
        "duration": 4,
        "start_time": "2023-03-23T15:20:44.016Z"
      },
      {
        "duration": 8,
        "start_time": "2023-03-23T15:20:44.022Z"
      },
      {
        "duration": 19,
        "start_time": "2023-03-23T15:20:44.034Z"
      },
      {
        "duration": 35,
        "start_time": "2023-03-23T15:20:44.055Z"
      },
      {
        "duration": 5,
        "start_time": "2023-03-23T15:20:44.092Z"
      },
      {
        "duration": 514,
        "start_time": "2023-03-23T15:20:44.098Z"
      },
      {
        "duration": 1033,
        "start_time": "2023-03-23T15:20:44.614Z"
      },
      {
        "duration": 673,
        "start_time": "2023-03-23T15:20:45.649Z"
      },
      {
        "duration": 499,
        "start_time": "2023-03-23T15:20:46.323Z"
      },
      {
        "duration": 625,
        "start_time": "2023-03-23T15:20:46.824Z"
      },
      {
        "duration": 13,
        "start_time": "2023-03-23T15:20:47.451Z"
      },
      {
        "duration": 16,
        "start_time": "2023-03-23T15:20:47.466Z"
      },
      {
        "duration": 905,
        "start_time": "2023-03-23T15:20:47.491Z"
      },
      {
        "duration": 2,
        "start_time": "2023-03-23T15:20:48.398Z"
      },
      {
        "duration": 5,
        "start_time": "2023-03-23T15:20:48.402Z"
      },
      {
        "duration": 6,
        "start_time": "2023-03-23T15:20:48.409Z"
      },
      {
        "duration": 10,
        "start_time": "2023-03-23T15:20:48.417Z"
      },
      {
        "duration": 465,
        "start_time": "2023-03-23T15:20:48.429Z"
      },
      {
        "duration": 3,
        "start_time": "2023-03-23T15:20:48.896Z"
      },
      {
        "duration": 5,
        "start_time": "2023-03-23T15:20:48.901Z"
      },
      {
        "duration": 5,
        "start_time": "2023-03-23T15:20:48.908Z"
      },
      {
        "duration": 13,
        "start_time": "2023-03-23T15:20:48.915Z"
      },
      {
        "duration": 5,
        "start_time": "2023-03-23T15:20:48.930Z"
      },
      {
        "duration": 7,
        "start_time": "2023-03-23T15:20:48.936Z"
      },
      {
        "duration": 53,
        "start_time": "2023-03-23T15:20:48.945Z"
      },
      {
        "duration": 10,
        "start_time": "2023-03-23T15:20:49.000Z"
      },
      {
        "duration": 24,
        "start_time": "2023-03-23T15:20:49.012Z"
      },
      {
        "duration": 3,
        "start_time": "2023-03-23T15:20:49.037Z"
      },
      {
        "duration": 5,
        "start_time": "2023-03-23T15:20:49.041Z"
      },
      {
        "duration": 8,
        "start_time": "2023-03-23T15:20:49.048Z"
      },
      {
        "duration": 9,
        "start_time": "2023-03-23T15:20:49.058Z"
      },
      {
        "duration": 10,
        "start_time": "2023-03-23T15:20:49.090Z"
      },
      {
        "duration": 9,
        "start_time": "2023-03-23T15:20:49.102Z"
      },
      {
        "duration": 6,
        "start_time": "2023-03-23T15:20:49.113Z"
      },
      {
        "duration": 1470,
        "start_time": "2023-03-23T15:20:49.121Z"
      },
      {
        "duration": 100,
        "start_time": "2023-03-23T15:20:50.593Z"
      },
      {
        "duration": 5056,
        "start_time": "2023-03-23T15:20:50.788Z"
      },
      {
        "duration": 0,
        "start_time": "2023-03-23T15:20:55.846Z"
      },
      {
        "duration": 0,
        "start_time": "2023-03-23T15:20:55.847Z"
      },
      {
        "duration": 0,
        "start_time": "2023-03-23T15:20:55.848Z"
      },
      {
        "duration": 0,
        "start_time": "2023-03-23T15:20:55.850Z"
      },
      {
        "duration": 0,
        "start_time": "2023-03-23T15:20:55.851Z"
      },
      {
        "duration": 0,
        "start_time": "2023-03-23T15:20:55.852Z"
      },
      {
        "duration": 0,
        "start_time": "2023-03-23T15:20:55.854Z"
      },
      {
        "duration": 0,
        "start_time": "2023-03-23T15:20:55.855Z"
      },
      {
        "duration": 0,
        "start_time": "2023-03-23T15:20:55.856Z"
      },
      {
        "duration": 0,
        "start_time": "2023-03-23T15:20:55.857Z"
      },
      {
        "duration": 0,
        "start_time": "2023-03-23T15:20:55.858Z"
      },
      {
        "duration": 0,
        "start_time": "2023-03-23T15:20:55.859Z"
      },
      {
        "duration": 21823,
        "start_time": "2023-03-23T15:21:05.039Z"
      },
      {
        "duration": 6,
        "start_time": "2023-03-23T15:29:22.584Z"
      },
      {
        "duration": 5,
        "start_time": "2023-03-23T15:29:33.871Z"
      },
      {
        "duration": 1543,
        "start_time": "2023-03-23T15:29:59.059Z"
      },
      {
        "duration": 4,
        "start_time": "2023-03-23T15:30:05.612Z"
      },
      {
        "duration": 11,
        "start_time": "2023-03-23T15:30:20.943Z"
      },
      {
        "duration": 11,
        "start_time": "2023-03-23T15:35:43.759Z"
      },
      {
        "duration": 13,
        "start_time": "2023-03-23T15:36:32.879Z"
      },
      {
        "duration": 5,
        "start_time": "2023-03-23T15:36:39.231Z"
      },
      {
        "duration": 11,
        "start_time": "2023-03-23T15:36:45.457Z"
      },
      {
        "duration": 5,
        "start_time": "2023-03-23T15:36:51.975Z"
      },
      {
        "duration": 5,
        "start_time": "2023-03-23T15:41:12.279Z"
      },
      {
        "duration": 22000,
        "start_time": "2023-03-23T15:41:42.863Z"
      },
      {
        "duration": 9,
        "start_time": "2023-03-23T15:42:04.866Z"
      },
      {
        "duration": 17,
        "start_time": "2023-03-23T15:42:04.877Z"
      },
      {
        "duration": 6,
        "start_time": "2023-03-23T15:43:54.320Z"
      },
      {
        "duration": 10,
        "start_time": "2023-03-23T15:44:35.971Z"
      },
      {
        "duration": 13,
        "start_time": "2023-03-23T15:56:00.224Z"
      },
      {
        "duration": 9,
        "start_time": "2023-03-23T15:57:16.016Z"
      },
      {
        "duration": 6,
        "start_time": "2023-03-23T15:57:22.262Z"
      },
      {
        "duration": 9,
        "start_time": "2023-03-23T15:57:31.116Z"
      },
      {
        "duration": 7,
        "start_time": "2023-03-23T15:57:34.257Z"
      },
      {
        "duration": 10,
        "start_time": "2023-03-23T15:58:01.355Z"
      },
      {
        "duration": 4,
        "start_time": "2023-03-23T15:58:03.864Z"
      },
      {
        "duration": 9,
        "start_time": "2023-03-23T15:58:23.611Z"
      },
      {
        "duration": 4,
        "start_time": "2023-03-23T15:59:28.857Z"
      },
      {
        "duration": 4,
        "start_time": "2023-03-23T16:00:07.323Z"
      },
      {
        "duration": 10,
        "start_time": "2023-03-23T16:00:17.339Z"
      },
      {
        "duration": 4,
        "start_time": "2023-03-23T16:00:21.684Z"
      },
      {
        "duration": 4,
        "start_time": "2023-03-23T16:00:35.664Z"
      },
      {
        "duration": 13,
        "start_time": "2023-03-23T16:12:18.832Z"
      },
      {
        "duration": 11,
        "start_time": "2023-03-23T16:12:25.353Z"
      },
      {
        "duration": 10,
        "start_time": "2023-03-23T16:12:32.177Z"
      },
      {
        "duration": 4,
        "start_time": "2023-03-23T16:13:38.855Z"
      },
      {
        "duration": 9,
        "start_time": "2023-03-23T16:13:50.974Z"
      },
      {
        "duration": 4,
        "start_time": "2023-03-23T16:15:19.517Z"
      },
      {
        "duration": 4,
        "start_time": "2023-03-23T16:15:23.335Z"
      },
      {
        "duration": 6,
        "start_time": "2023-03-23T16:17:49.754Z"
      },
      {
        "duration": 11,
        "start_time": "2023-03-23T16:18:01.683Z"
      },
      {
        "duration": 6,
        "start_time": "2023-03-23T16:18:05.825Z"
      },
      {
        "duration": 7,
        "start_time": "2023-03-23T16:18:08.681Z"
      },
      {
        "duration": 11,
        "start_time": "2023-03-23T16:19:39.586Z"
      },
      {
        "duration": 9,
        "start_time": "2023-03-23T16:19:46.855Z"
      },
      {
        "duration": 12,
        "start_time": "2023-03-23T16:19:49.018Z"
      },
      {
        "duration": 6,
        "start_time": "2023-03-23T16:20:12.345Z"
      },
      {
        "duration": 6,
        "start_time": "2023-03-23T16:20:23.261Z"
      },
      {
        "duration": 6,
        "start_time": "2023-03-23T16:20:43.236Z"
      },
      {
        "duration": 4,
        "start_time": "2023-03-23T16:20:51.167Z"
      },
      {
        "duration": 6,
        "start_time": "2023-03-23T16:25:14.029Z"
      },
      {
        "duration": 4,
        "start_time": "2023-03-23T16:33:42.828Z"
      },
      {
        "duration": 5,
        "start_time": "2023-03-23T16:34:29.532Z"
      },
      {
        "duration": 6,
        "start_time": "2023-03-23T16:34:50.626Z"
      },
      {
        "duration": 1132,
        "start_time": "2023-03-23T16:35:10.767Z"
      },
      {
        "duration": 12,
        "start_time": "2023-03-23T16:37:18.727Z"
      },
      {
        "duration": 5,
        "start_time": "2023-03-23T16:37:25.348Z"
      },
      {
        "duration": 17,
        "start_time": "2023-03-23T16:37:47.602Z"
      },
      {
        "duration": 14,
        "start_time": "2023-03-23T16:37:54.300Z"
      },
      {
        "duration": 5,
        "start_time": "2023-03-23T16:38:16.538Z"
      },
      {
        "duration": 4,
        "start_time": "2023-03-23T16:38:41.303Z"
      },
      {
        "duration": 3,
        "start_time": "2023-03-23T16:39:20.290Z"
      },
      {
        "duration": 3,
        "start_time": "2023-03-23T16:39:22.257Z"
      },
      {
        "duration": 1586,
        "start_time": "2023-03-23T16:41:25.806Z"
      },
      {
        "duration": 4,
        "start_time": "2023-03-23T16:41:33.046Z"
      },
      {
        "duration": 10950,
        "start_time": "2023-03-23T16:42:03.192Z"
      },
      {
        "duration": 2107,
        "start_time": "2023-03-23T16:48:02.288Z"
      },
      {
        "duration": 898,
        "start_time": "2023-03-23T16:48:04.397Z"
      },
      {
        "duration": 19,
        "start_time": "2023-03-23T16:48:05.297Z"
      },
      {
        "duration": 139,
        "start_time": "2023-03-23T16:48:05.318Z"
      },
      {
        "duration": 14,
        "start_time": "2023-03-23T16:48:05.458Z"
      },
      {
        "duration": 19,
        "start_time": "2023-03-23T16:48:05.489Z"
      },
      {
        "duration": 8,
        "start_time": "2023-03-23T16:48:05.510Z"
      },
      {
        "duration": 12,
        "start_time": "2023-03-23T16:48:05.520Z"
      },
      {
        "duration": 9,
        "start_time": "2023-03-23T16:48:05.534Z"
      },
      {
        "duration": 163,
        "start_time": "2023-03-23T16:48:05.546Z"
      },
      {
        "duration": 13,
        "start_time": "2023-03-23T16:48:05.711Z"
      },
      {
        "duration": 89,
        "start_time": "2023-03-23T16:48:05.726Z"
      },
      {
        "duration": 74,
        "start_time": "2023-03-23T16:48:05.817Z"
      },
      {
        "duration": 10,
        "start_time": "2023-03-23T16:48:05.893Z"
      },
      {
        "duration": 62,
        "start_time": "2023-03-23T16:48:05.905Z"
      },
      {
        "duration": 60,
        "start_time": "2023-03-23T16:48:05.990Z"
      },
      {
        "duration": 75,
        "start_time": "2023-03-23T16:48:06.052Z"
      },
      {
        "duration": 172,
        "start_time": "2023-03-23T16:48:06.129Z"
      },
      {
        "duration": 24,
        "start_time": "2023-03-23T16:48:06.302Z"
      },
      {
        "duration": 9,
        "start_time": "2023-03-23T16:48:06.328Z"
      },
      {
        "duration": 4,
        "start_time": "2023-03-23T16:48:06.390Z"
      },
      {
        "duration": 7,
        "start_time": "2023-03-23T16:48:06.396Z"
      },
      {
        "duration": 6,
        "start_time": "2023-03-23T16:48:06.406Z"
      },
      {
        "duration": 13,
        "start_time": "2023-03-23T16:48:06.414Z"
      },
      {
        "duration": 11,
        "start_time": "2023-03-23T16:48:06.429Z"
      },
      {
        "duration": 4,
        "start_time": "2023-03-23T16:48:06.490Z"
      },
      {
        "duration": 15,
        "start_time": "2023-03-23T16:48:06.495Z"
      },
      {
        "duration": 22,
        "start_time": "2023-03-23T16:48:06.514Z"
      },
      {
        "duration": 18,
        "start_time": "2023-03-23T16:48:06.589Z"
      },
      {
        "duration": 5,
        "start_time": "2023-03-23T16:48:06.609Z"
      },
      {
        "duration": 1118,
        "start_time": "2023-03-23T16:48:06.616Z"
      },
      {
        "duration": 1269,
        "start_time": "2023-03-23T16:48:07.735Z"
      },
      {
        "duration": 744,
        "start_time": "2023-03-23T16:48:09.006Z"
      },
      {
        "duration": 486,
        "start_time": "2023-03-23T16:48:09.752Z"
      },
      {
        "duration": 606,
        "start_time": "2023-03-23T16:48:10.241Z"
      },
      {
        "duration": 8,
        "start_time": "2023-03-23T16:48:10.849Z"
      },
      {
        "duration": 15,
        "start_time": "2023-03-23T16:48:10.859Z"
      },
      {
        "duration": 881,
        "start_time": "2023-03-23T16:48:10.875Z"
      },
      {
        "duration": 3,
        "start_time": "2023-03-23T16:48:11.758Z"
      },
      {
        "duration": 11,
        "start_time": "2023-03-23T16:48:11.763Z"
      },
      {
        "duration": 14,
        "start_time": "2023-03-23T16:48:11.776Z"
      },
      {
        "duration": 15,
        "start_time": "2023-03-23T16:48:11.792Z"
      },
      {
        "duration": 424,
        "start_time": "2023-03-23T16:48:11.809Z"
      },
      {
        "duration": 2,
        "start_time": "2023-03-23T16:48:12.235Z"
      },
      {
        "duration": 5,
        "start_time": "2023-03-23T16:48:12.238Z"
      },
      {
        "duration": 7,
        "start_time": "2023-03-23T16:48:12.245Z"
      },
      {
        "duration": 6,
        "start_time": "2023-03-23T16:48:12.254Z"
      },
      {
        "duration": 4,
        "start_time": "2023-03-23T16:48:12.262Z"
      },
      {
        "duration": 24,
        "start_time": "2023-03-23T16:48:12.268Z"
      },
      {
        "duration": 23,
        "start_time": "2023-03-23T16:48:12.294Z"
      },
      {
        "duration": 10,
        "start_time": "2023-03-23T16:48:12.319Z"
      },
      {
        "duration": 21,
        "start_time": "2023-03-23T16:48:12.331Z"
      },
      {
        "duration": 3,
        "start_time": "2023-03-23T16:48:12.354Z"
      },
      {
        "duration": 30,
        "start_time": "2023-03-23T16:48:12.359Z"
      },
      {
        "duration": 5,
        "start_time": "2023-03-23T16:48:12.391Z"
      },
      {
        "duration": 4,
        "start_time": "2023-03-23T16:48:12.398Z"
      },
      {
        "duration": 6,
        "start_time": "2023-03-23T16:48:12.403Z"
      },
      {
        "duration": 14,
        "start_time": "2023-03-23T16:48:12.410Z"
      },
      {
        "duration": 8,
        "start_time": "2023-03-23T16:48:12.426Z"
      },
      {
        "duration": 1456,
        "start_time": "2023-03-23T16:48:12.435Z"
      },
      {
        "duration": 5,
        "start_time": "2023-03-23T16:48:13.893Z"
      },
      {
        "duration": 21169,
        "start_time": "2023-03-23T16:48:13.989Z"
      },
      {
        "duration": 4,
        "start_time": "2023-03-23T16:48:35.160Z"
      },
      {
        "duration": 1033024,
        "start_time": "2023-03-23T16:48:35.166Z"
      },
      {
        "duration": 4,
        "start_time": "2023-03-23T17:05:48.191Z"
      },
      {
        "duration": 35,
        "start_time": "2023-03-23T17:05:48.196Z"
      },
      {
        "duration": 30,
        "start_time": "2023-03-23T17:05:48.233Z"
      },
      {
        "duration": 1728,
        "start_time": "2023-03-23T17:05:48.265Z"
      },
      {
        "duration": 5,
        "start_time": "2023-03-23T17:05:49.996Z"
      },
      {
        "duration": 22611,
        "start_time": "2023-03-23T17:05:50.090Z"
      },
      {
        "duration": 3,
        "start_time": "2023-03-23T17:06:12.703Z"
      },
      {
        "duration": 1080544,
        "start_time": "2023-03-23T17:06:12.708Z"
      },
      {
        "duration": 4,
        "start_time": "2023-03-23T17:24:13.254Z"
      },
      {
        "duration": 119,
        "start_time": "2023-03-23T17:24:13.259Z"
      },
      {
        "duration": 12,
        "start_time": "2023-03-23T17:25:11.270Z"
      },
      {
        "duration": 83,
        "start_time": "2023-03-23T17:25:40.276Z"
      },
      {
        "duration": 87,
        "start_time": "2023-03-23T17:26:15.922Z"
      },
      {
        "duration": 4,
        "start_time": "2023-03-23T17:26:21.432Z"
      },
      {
        "duration": 3214,
        "start_time": "2023-03-24T15:00:29.462Z"
      },
      {
        "duration": 4030,
        "start_time": "2023-03-24T15:00:32.680Z"
      },
      {
        "duration": 78,
        "start_time": "2023-03-24T15:00:36.712Z"
      },
      {
        "duration": 420,
        "start_time": "2023-03-24T15:00:36.793Z"
      },
      {
        "duration": 20,
        "start_time": "2023-03-24T15:00:37.276Z"
      },
      {
        "duration": 86,
        "start_time": "2023-03-24T15:00:37.298Z"
      },
      {
        "duration": 10,
        "start_time": "2023-03-24T15:00:37.387Z"
      },
      {
        "duration": 75,
        "start_time": "2023-03-24T15:00:37.400Z"
      },
      {
        "duration": 15,
        "start_time": "2023-03-24T15:00:37.478Z"
      },
      {
        "duration": 416,
        "start_time": "2023-03-24T15:00:37.495Z"
      },
      {
        "duration": 72,
        "start_time": "2023-03-24T15:00:37.913Z"
      },
      {
        "duration": 209,
        "start_time": "2023-03-24T15:00:37.987Z"
      },
      {
        "duration": 205,
        "start_time": "2023-03-24T15:00:38.198Z"
      },
      {
        "duration": 68,
        "start_time": "2023-03-24T15:00:38.407Z"
      },
      {
        "duration": 204,
        "start_time": "2023-03-24T15:00:38.477Z"
      },
      {
        "duration": 221,
        "start_time": "2023-03-24T15:00:38.683Z"
      },
      {
        "duration": 194,
        "start_time": "2023-03-24T15:00:38.906Z"
      },
      {
        "duration": 484,
        "start_time": "2023-03-24T15:00:39.102Z"
      },
      {
        "duration": 92,
        "start_time": "2023-03-24T15:00:39.589Z"
      },
      {
        "duration": 13,
        "start_time": "2023-03-24T15:00:39.683Z"
      },
      {
        "duration": 4,
        "start_time": "2023-03-24T15:00:39.698Z"
      },
      {
        "duration": 75,
        "start_time": "2023-03-24T15:00:39.704Z"
      },
      {
        "duration": 7,
        "start_time": "2023-03-24T15:00:39.781Z"
      },
      {
        "duration": 5,
        "start_time": "2023-03-24T15:00:39.791Z"
      },
      {
        "duration": 8,
        "start_time": "2023-03-24T15:00:39.799Z"
      },
      {
        "duration": 66,
        "start_time": "2023-03-24T15:00:39.810Z"
      },
      {
        "duration": 8,
        "start_time": "2023-03-24T15:00:39.878Z"
      },
      {
        "duration": 94,
        "start_time": "2023-03-24T15:00:39.887Z"
      },
      {
        "duration": 32,
        "start_time": "2023-03-24T15:00:39.983Z"
      },
      {
        "duration": 9,
        "start_time": "2023-03-24T15:00:40.076Z"
      },
      {
        "duration": 1710,
        "start_time": "2023-03-24T15:00:40.088Z"
      },
      {
        "duration": 2396,
        "start_time": "2023-03-24T15:00:41.801Z"
      },
      {
        "duration": 2101,
        "start_time": "2023-03-24T15:00:44.201Z"
      },
      {
        "duration": 976,
        "start_time": "2023-03-24T15:00:46.304Z"
      },
      {
        "duration": 1232,
        "start_time": "2023-03-24T15:00:47.282Z"
      },
      {
        "duration": 66,
        "start_time": "2023-03-24T15:00:48.516Z"
      },
      {
        "duration": 12,
        "start_time": "2023-03-24T15:00:48.585Z"
      },
      {
        "duration": 2484,
        "start_time": "2023-03-24T15:00:48.600Z"
      },
      {
        "duration": 4,
        "start_time": "2023-03-24T15:00:51.086Z"
      },
      {
        "duration": 6,
        "start_time": "2023-03-24T15:00:51.093Z"
      },
      {
        "duration": 7,
        "start_time": "2023-03-24T15:00:51.105Z"
      },
      {
        "duration": 71,
        "start_time": "2023-03-24T15:00:51.114Z"
      },
      {
        "duration": 1314,
        "start_time": "2023-03-24T15:00:51.187Z"
      },
      {
        "duration": 3,
        "start_time": "2023-03-24T15:00:52.504Z"
      },
      {
        "duration": 6,
        "start_time": "2023-03-24T15:00:52.509Z"
      },
      {
        "duration": 3,
        "start_time": "2023-03-24T15:00:52.576Z"
      },
      {
        "duration": 7,
        "start_time": "2023-03-24T15:00:52.581Z"
      },
      {
        "duration": 7,
        "start_time": "2023-03-24T15:00:52.591Z"
      },
      {
        "duration": 3,
        "start_time": "2023-03-24T15:00:52.601Z"
      },
      {
        "duration": 104,
        "start_time": "2023-03-24T15:00:52.606Z"
      },
      {
        "duration": 70,
        "start_time": "2023-03-24T15:00:52.712Z"
      },
      {
        "duration": 91,
        "start_time": "2023-03-24T15:00:52.785Z"
      },
      {
        "duration": 4,
        "start_time": "2023-03-24T15:00:52.878Z"
      },
      {
        "duration": 7,
        "start_time": "2023-03-24T15:00:52.884Z"
      },
      {
        "duration": 14,
        "start_time": "2023-03-24T15:00:52.893Z"
      },
      {
        "duration": 6,
        "start_time": "2023-03-24T15:00:52.909Z"
      },
      {
        "duration": 7,
        "start_time": "2023-03-24T15:00:52.977Z"
      },
      {
        "duration": 9,
        "start_time": "2023-03-24T15:00:52.987Z"
      },
      {
        "duration": 9,
        "start_time": "2023-03-24T15:00:52.999Z"
      },
      {
        "duration": 2899,
        "start_time": "2023-03-24T15:00:53.081Z"
      },
      {
        "duration": 7,
        "start_time": "2023-03-24T15:00:55.984Z"
      },
      {
        "duration": 50580,
        "start_time": "2023-03-24T15:00:56.074Z"
      },
      {
        "duration": 18,
        "start_time": "2023-03-24T15:01:46.657Z"
      },
      {
        "duration": 1317433,
        "start_time": "2023-03-24T15:01:46.677Z"
      },
      {
        "duration": 0,
        "start_time": "2023-03-24T15:23:44.113Z"
      },
      {
        "duration": 0,
        "start_time": "2023-03-24T15:23:44.115Z"
      },
      {
        "duration": 0,
        "start_time": "2023-03-24T15:23:44.116Z"
      },
      {
        "duration": 0,
        "start_time": "2023-03-24T15:23:44.118Z"
      },
      {
        "duration": 1,
        "start_time": "2023-03-24T15:23:44.175Z"
      },
      {
        "duration": 0,
        "start_time": "2023-03-24T15:23:44.177Z"
      },
      {
        "duration": 0,
        "start_time": "2023-03-24T15:23:44.178Z"
      },
      {
        "duration": 0,
        "start_time": "2023-03-24T15:23:44.180Z"
      },
      {
        "duration": 0,
        "start_time": "2023-03-24T15:23:44.181Z"
      },
      {
        "duration": 0,
        "start_time": "2023-03-24T15:23:44.182Z"
      },
      {
        "duration": 0,
        "start_time": "2023-03-24T15:23:44.184Z"
      },
      {
        "duration": 0,
        "start_time": "2023-03-24T15:23:44.186Z"
      },
      {
        "duration": 2584,
        "start_time": "2023-03-24T15:25:21.938Z"
      },
      {
        "duration": 1507,
        "start_time": "2023-03-24T15:25:24.576Z"
      },
      {
        "duration": 19,
        "start_time": "2023-03-24T15:25:26.085Z"
      },
      {
        "duration": 298,
        "start_time": "2023-03-24T15:25:26.106Z"
      },
      {
        "duration": 70,
        "start_time": "2023-03-24T15:25:26.406Z"
      },
      {
        "duration": 20,
        "start_time": "2023-03-24T15:25:26.478Z"
      },
      {
        "duration": 9,
        "start_time": "2023-03-24T15:25:26.500Z"
      },
      {
        "duration": 12,
        "start_time": "2023-03-24T15:25:26.574Z"
      },
      {
        "duration": 9,
        "start_time": "2023-03-24T15:25:26.588Z"
      },
      {
        "duration": 293,
        "start_time": "2023-03-24T15:25:26.600Z"
      },
      {
        "duration": 12,
        "start_time": "2023-03-24T15:25:26.895Z"
      },
      {
        "duration": 178,
        "start_time": "2023-03-24T15:25:26.909Z"
      },
      {
        "duration": 116,
        "start_time": "2023-03-24T15:25:27.089Z"
      },
      {
        "duration": 9,
        "start_time": "2023-03-24T15:25:27.206Z"
      },
      {
        "duration": 114,
        "start_time": "2023-03-24T15:25:27.276Z"
      },
      {
        "duration": 115,
        "start_time": "2023-03-24T15:25:27.393Z"
      },
      {
        "duration": 174,
        "start_time": "2023-03-24T15:25:27.510Z"
      },
      {
        "duration": 317,
        "start_time": "2023-03-24T15:25:27.685Z"
      },
      {
        "duration": 86,
        "start_time": "2023-03-24T15:25:28.003Z"
      },
      {
        "duration": 9,
        "start_time": "2023-03-24T15:25:28.090Z"
      },
      {
        "duration": 2,
        "start_time": "2023-03-24T15:25:28.101Z"
      },
      {
        "duration": 8,
        "start_time": "2023-03-24T15:25:28.105Z"
      },
      {
        "duration": 64,
        "start_time": "2023-03-24T15:25:28.115Z"
      },
      {
        "duration": 8,
        "start_time": "2023-03-24T15:25:28.181Z"
      },
      {
        "duration": 7,
        "start_time": "2023-03-24T15:25:28.191Z"
      },
      {
        "duration": 5,
        "start_time": "2023-03-24T15:25:28.200Z"
      },
      {
        "duration": 69,
        "start_time": "2023-03-24T15:25:28.207Z"
      },
      {
        "duration": 22,
        "start_time": "2023-03-24T15:25:28.281Z"
      },
      {
        "duration": 79,
        "start_time": "2023-03-24T15:25:28.305Z"
      },
      {
        "duration": 7,
        "start_time": "2023-03-24T15:25:28.386Z"
      },
      {
        "duration": 1125,
        "start_time": "2023-03-24T15:25:28.395Z"
      },
      {
        "duration": 2111,
        "start_time": "2023-03-24T15:25:29.575Z"
      },
      {
        "duration": 1501,
        "start_time": "2023-03-24T15:25:31.688Z"
      },
      {
        "duration": 712,
        "start_time": "2023-03-24T15:25:33.191Z"
      },
      {
        "duration": 997,
        "start_time": "2023-03-24T15:25:33.904Z"
      },
      {
        "duration": 9,
        "start_time": "2023-03-24T15:25:34.902Z"
      },
      {
        "duration": 62,
        "start_time": "2023-03-24T15:25:34.913Z"
      },
      {
        "duration": 1814,
        "start_time": "2023-03-24T15:25:34.977Z"
      },
      {
        "duration": 2,
        "start_time": "2023-03-24T15:25:36.793Z"
      },
      {
        "duration": 6,
        "start_time": "2023-03-24T15:25:36.796Z"
      },
      {
        "duration": 13,
        "start_time": "2023-03-24T15:25:36.804Z"
      },
      {
        "duration": 62,
        "start_time": "2023-03-24T15:25:36.819Z"
      },
      {
        "duration": 829,
        "start_time": "2023-03-24T15:25:36.883Z"
      },
      {
        "duration": 3,
        "start_time": "2023-03-24T15:25:37.713Z"
      },
      {
        "duration": 3,
        "start_time": "2023-03-24T15:25:37.775Z"
      },
      {
        "duration": 5,
        "start_time": "2023-03-24T15:25:37.780Z"
      },
      {
        "duration": 8,
        "start_time": "2023-03-24T15:25:37.787Z"
      },
      {
        "duration": 5,
        "start_time": "2023-03-24T15:25:37.797Z"
      },
      {
        "duration": 4,
        "start_time": "2023-03-24T15:25:37.804Z"
      },
      {
        "duration": 84,
        "start_time": "2023-03-24T15:25:37.809Z"
      },
      {
        "duration": 9,
        "start_time": "2023-03-24T15:25:37.895Z"
      },
      {
        "duration": 79,
        "start_time": "2023-03-24T15:25:37.906Z"
      },
      {
        "duration": 3,
        "start_time": "2023-03-24T15:25:37.987Z"
      },
      {
        "duration": 223,
        "start_time": "2023-03-24T15:25:37.992Z"
      },
      {
        "duration": 0,
        "start_time": "2023-03-24T15:25:38.216Z"
      },
      {
        "duration": 0,
        "start_time": "2023-03-24T15:25:38.218Z"
      },
      {
        "duration": 0,
        "start_time": "2023-03-24T15:25:38.219Z"
      },
      {
        "duration": 0,
        "start_time": "2023-03-24T15:25:38.275Z"
      },
      {
        "duration": 0,
        "start_time": "2023-03-24T15:25:38.277Z"
      },
      {
        "duration": 0,
        "start_time": "2023-03-24T15:25:38.278Z"
      },
      {
        "duration": 0,
        "start_time": "2023-03-24T15:25:38.279Z"
      },
      {
        "duration": 0,
        "start_time": "2023-03-24T15:25:38.280Z"
      },
      {
        "duration": 0,
        "start_time": "2023-03-24T15:25:38.281Z"
      },
      {
        "duration": 0,
        "start_time": "2023-03-24T15:25:38.282Z"
      },
      {
        "duration": 0,
        "start_time": "2023-03-24T15:25:38.283Z"
      },
      {
        "duration": 1,
        "start_time": "2023-03-24T15:25:38.284Z"
      },
      {
        "duration": 1,
        "start_time": "2023-03-24T15:25:38.285Z"
      },
      {
        "duration": 0,
        "start_time": "2023-03-24T15:25:38.286Z"
      },
      {
        "duration": 0,
        "start_time": "2023-03-24T15:25:38.287Z"
      },
      {
        "duration": 0,
        "start_time": "2023-03-24T15:25:38.288Z"
      },
      {
        "duration": 0,
        "start_time": "2023-03-24T15:25:38.289Z"
      },
      {
        "duration": 0,
        "start_time": "2023-03-24T15:25:38.290Z"
      },
      {
        "duration": 0,
        "start_time": "2023-03-24T15:25:38.292Z"
      },
      {
        "duration": 0,
        "start_time": "2023-03-24T15:25:38.293Z"
      },
      {
        "duration": 0,
        "start_time": "2023-03-24T15:25:38.294Z"
      },
      {
        "duration": 0,
        "start_time": "2023-03-24T15:25:38.295Z"
      },
      {
        "duration": 10,
        "start_time": "2023-03-24T15:26:32.365Z"
      },
      {
        "duration": 4,
        "start_time": "2023-03-24T15:26:33.857Z"
      },
      {
        "duration": 3,
        "start_time": "2023-03-24T15:26:34.838Z"
      },
      {
        "duration": 5,
        "start_time": "2023-03-24T15:26:35.491Z"
      },
      {
        "duration": 7,
        "start_time": "2023-03-24T15:26:37.333Z"
      },
      {
        "duration": 7,
        "start_time": "2023-03-24T15:26:37.746Z"
      },
      {
        "duration": 1741,
        "start_time": "2023-03-24T15:26:37.938Z"
      },
      {
        "duration": 95,
        "start_time": "2023-03-24T15:26:39.682Z"
      },
      {
        "duration": 43733,
        "start_time": "2023-03-24T15:26:39.779Z"
      },
      {
        "duration": 3,
        "start_time": "2023-03-24T15:27:23.515Z"
      },
      {
        "duration": 3210,
        "start_time": "2023-03-24T15:34:00.595Z"
      },
      {
        "duration": 2384,
        "start_time": "2023-03-24T15:34:03.808Z"
      },
      {
        "duration": 25,
        "start_time": "2023-03-24T15:34:06.194Z"
      },
      {
        "duration": 301,
        "start_time": "2023-03-24T15:34:06.275Z"
      },
      {
        "duration": 15,
        "start_time": "2023-03-24T15:34:06.579Z"
      },
      {
        "duration": 80,
        "start_time": "2023-03-24T15:34:06.596Z"
      },
      {
        "duration": 9,
        "start_time": "2023-03-24T15:34:06.679Z"
      },
      {
        "duration": 18,
        "start_time": "2023-03-24T15:34:06.691Z"
      },
      {
        "duration": 70,
        "start_time": "2023-03-24T15:34:06.711Z"
      },
      {
        "duration": 296,
        "start_time": "2023-03-24T15:34:06.784Z"
      },
      {
        "duration": 11,
        "start_time": "2023-03-24T15:34:07.082Z"
      },
      {
        "duration": 192,
        "start_time": "2023-03-24T15:34:07.096Z"
      },
      {
        "duration": 116,
        "start_time": "2023-03-24T15:34:07.290Z"
      },
      {
        "duration": 67,
        "start_time": "2023-03-24T15:34:07.409Z"
      },
      {
        "duration": 119,
        "start_time": "2023-03-24T15:34:07.478Z"
      },
      {
        "duration": 117,
        "start_time": "2023-03-24T15:34:07.598Z"
      },
      {
        "duration": 109,
        "start_time": "2023-03-24T15:34:07.775Z"
      },
      {
        "duration": 311,
        "start_time": "2023-03-24T15:34:07.886Z"
      },
      {
        "duration": 82,
        "start_time": "2023-03-24T15:34:08.199Z"
      },
      {
        "duration": 9,
        "start_time": "2023-03-24T15:34:08.283Z"
      },
      {
        "duration": 2,
        "start_time": "2023-03-24T15:34:08.294Z"
      },
      {
        "duration": 8,
        "start_time": "2023-03-24T15:34:08.298Z"
      },
      {
        "duration": 6,
        "start_time": "2023-03-24T15:34:08.308Z"
      },
      {
        "duration": 3,
        "start_time": "2023-03-24T15:34:08.375Z"
      },
      {
        "duration": 6,
        "start_time": "2023-03-24T15:34:08.380Z"
      },
      {
        "duration": 11,
        "start_time": "2023-03-24T15:34:08.388Z"
      },
      {
        "duration": 18,
        "start_time": "2023-03-24T15:34:08.400Z"
      },
      {
        "duration": 23,
        "start_time": "2023-03-24T15:34:08.474Z"
      },
      {
        "duration": 77,
        "start_time": "2023-03-24T15:34:08.499Z"
      },
      {
        "duration": 5,
        "start_time": "2023-03-24T15:34:08.578Z"
      },
      {
        "duration": 1230,
        "start_time": "2023-03-24T15:34:08.585Z"
      },
      {
        "duration": 2200,
        "start_time": "2023-03-24T15:34:09.876Z"
      },
      {
        "duration": 1430,
        "start_time": "2023-03-24T15:34:12.078Z"
      },
      {
        "duration": 765,
        "start_time": "2023-03-24T15:34:13.510Z"
      },
      {
        "duration": 932,
        "start_time": "2023-03-24T15:34:14.277Z"
      },
      {
        "duration": 66,
        "start_time": "2023-03-24T15:34:15.211Z"
      },
      {
        "duration": 4,
        "start_time": "2023-03-24T15:34:15.279Z"
      },
      {
        "duration": 1807,
        "start_time": "2023-03-24T15:34:15.285Z"
      },
      {
        "duration": 2,
        "start_time": "2023-03-24T15:34:17.094Z"
      },
      {
        "duration": 9,
        "start_time": "2023-03-24T15:34:17.098Z"
      },
      {
        "duration": 3,
        "start_time": "2023-03-24T15:34:17.113Z"
      },
      {
        "duration": 66,
        "start_time": "2023-03-24T15:34:17.117Z"
      },
      {
        "duration": 1313,
        "start_time": "2023-03-24T15:34:17.185Z"
      },
      {
        "duration": 2,
        "start_time": "2023-03-24T15:34:18.500Z"
      },
      {
        "duration": 6,
        "start_time": "2023-03-24T15:34:18.504Z"
      },
      {
        "duration": 65,
        "start_time": "2023-03-24T15:34:18.511Z"
      },
      {
        "duration": 16,
        "start_time": "2023-03-24T15:34:18.578Z"
      },
      {
        "duration": 8,
        "start_time": "2023-03-24T15:34:18.596Z"
      },
      {
        "duration": 69,
        "start_time": "2023-03-24T15:34:18.606Z"
      },
      {
        "duration": 23,
        "start_time": "2023-03-24T15:34:18.677Z"
      },
      {
        "duration": 73,
        "start_time": "2023-03-24T15:34:18.702Z"
      },
      {
        "duration": 99,
        "start_time": "2023-03-24T15:34:18.777Z"
      },
      {
        "duration": 3,
        "start_time": "2023-03-24T15:34:18.879Z"
      },
      {
        "duration": 10,
        "start_time": "2023-03-24T15:34:18.884Z"
      },
      {
        "duration": 80,
        "start_time": "2023-03-24T15:34:18.895Z"
      },
      {
        "duration": 4,
        "start_time": "2023-03-24T15:34:18.978Z"
      },
      {
        "duration": 12,
        "start_time": "2023-03-24T15:34:18.984Z"
      },
      {
        "duration": 9,
        "start_time": "2023-03-24T15:34:18.998Z"
      },
      {
        "duration": 8,
        "start_time": "2023-03-24T15:34:19.008Z"
      },
      {
        "duration": 1761,
        "start_time": "2023-03-24T15:34:19.018Z"
      },
      {
        "duration": 7,
        "start_time": "2023-03-24T15:34:20.781Z"
      },
      {
        "duration": 62725,
        "start_time": "2023-03-24T15:34:20.876Z"
      },
      {
        "duration": 75,
        "start_time": "2023-03-24T15:35:23.603Z"
      },
      {
        "duration": 3741298,
        "start_time": "2023-03-24T15:35:23.680Z"
      },
      {
        "duration": 3,
        "start_time": "2023-03-24T16:37:44.980Z"
      },
      {
        "duration": 7,
        "start_time": "2023-03-24T16:37:44.985Z"
      },
      {
        "duration": 84,
        "start_time": "2023-03-24T16:37:44.994Z"
      },
      {
        "duration": 3204,
        "start_time": "2023-03-24T16:37:45.080Z"
      },
      {
        "duration": 105,
        "start_time": "2023-03-24T16:37:48.286Z"
      },
      {
        "duration": 69107,
        "start_time": "2023-03-24T16:37:48.476Z"
      },
      {
        "duration": 5,
        "start_time": "2023-03-24T16:38:57.585Z"
      }
    ],
    "kernelspec": {
      "display_name": "Python 3 (ipykernel)",
      "language": "python",
      "name": "python3"
    },
    "language_info": {
      "codemirror_mode": {
        "name": "ipython",
        "version": 3
      },
      "file_extension": ".py",
      "mimetype": "text/x-python",
      "name": "python",
      "nbconvert_exporter": "python",
      "pygments_lexer": "ipython3",
      "version": "3.9.5"
    },
    "toc": {
      "base_numbering": 1,
      "nav_menu": {},
      "number_sections": true,
      "sideBar": true,
      "skip_h1_title": true,
      "title_cell": "Содержание",
      "title_sidebar": "Contents",
      "toc_cell": true,
      "toc_position": {
        "height": "calc(100% - 180px)",
        "left": "10px",
        "top": "150px",
        "width": "323.75px"
      },
      "toc_section_display": true,
      "toc_window_display": true
    },
    "colab": {
      "provenance": []
    }
  },
  "nbformat": 4,
  "nbformat_minor": 0
}
